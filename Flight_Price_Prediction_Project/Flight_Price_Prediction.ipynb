{
  "nbformat": 4,
  "nbformat_minor": 0,
  "metadata": {
    "colab": {
      "provenance": []
    },
    "kernelspec": {
      "name": "python3",
      "display_name": "Python 3"
    },
    "language_info": {
      "name": "python"
    }
  },
  "cells": [
    {
      "cell_type": "code",
      "execution_count": 1,
      "metadata": {
        "id": "PzFtkYQ1i8-Y"
      },
      "outputs": [],
      "source": [
        "import pandas as pd\n",
        "import numpy as np\n",
        "import seaborn as sns\n",
        "import matplotlib.pyplot as plt\n",
        "%matplotlib inline\n",
        "import warnings\n",
        "warnings.filterwarnings('ignore')"
      ]
    },
    {
      "cell_type": "code",
      "source": [
        "from google.colab import files\n",
        "uploaded = files.upload()"
      ],
      "metadata": {
        "colab": {
          "base_uri": "https://localhost:8080/",
          "height": 73
        },
        "id": "CueSN1lKlyx3",
        "outputId": "7337c089-0d9c-43b0-9fa0-7c0ec5003b93"
      },
      "execution_count": 2,
      "outputs": [
        {
          "output_type": "display_data",
          "data": {
            "text/plain": [
              "<IPython.core.display.HTML object>"
            ],
            "text/html": [
              "\n",
              "     <input type=\"file\" id=\"files-023b3233-7c99-451b-a8e1-b9b7746056a2\" name=\"files[]\" multiple disabled\n",
              "        style=\"border:none\" />\n",
              "     <output id=\"result-023b3233-7c99-451b-a8e1-b9b7746056a2\">\n",
              "      Upload widget is only available when the cell has been executed in the\n",
              "      current browser session. Please rerun this cell to enable.\n",
              "      </output>\n",
              "      <script>// Copyright 2017 Google LLC\n",
              "//\n",
              "// Licensed under the Apache License, Version 2.0 (the \"License\");\n",
              "// you may not use this file except in compliance with the License.\n",
              "// You may obtain a copy of the License at\n",
              "//\n",
              "//      http://www.apache.org/licenses/LICENSE-2.0\n",
              "//\n",
              "// Unless required by applicable law or agreed to in writing, software\n",
              "// distributed under the License is distributed on an \"AS IS\" BASIS,\n",
              "// WITHOUT WARRANTIES OR CONDITIONS OF ANY KIND, either express or implied.\n",
              "// See the License for the specific language governing permissions and\n",
              "// limitations under the License.\n",
              "\n",
              "/**\n",
              " * @fileoverview Helpers for google.colab Python module.\n",
              " */\n",
              "(function(scope) {\n",
              "function span(text, styleAttributes = {}) {\n",
              "  const element = document.createElement('span');\n",
              "  element.textContent = text;\n",
              "  for (const key of Object.keys(styleAttributes)) {\n",
              "    element.style[key] = styleAttributes[key];\n",
              "  }\n",
              "  return element;\n",
              "}\n",
              "\n",
              "// Max number of bytes which will be uploaded at a time.\n",
              "const MAX_PAYLOAD_SIZE = 100 * 1024;\n",
              "\n",
              "function _uploadFiles(inputId, outputId) {\n",
              "  const steps = uploadFilesStep(inputId, outputId);\n",
              "  const outputElement = document.getElementById(outputId);\n",
              "  // Cache steps on the outputElement to make it available for the next call\n",
              "  // to uploadFilesContinue from Python.\n",
              "  outputElement.steps = steps;\n",
              "\n",
              "  return _uploadFilesContinue(outputId);\n",
              "}\n",
              "\n",
              "// This is roughly an async generator (not supported in the browser yet),\n",
              "// where there are multiple asynchronous steps and the Python side is going\n",
              "// to poll for completion of each step.\n",
              "// This uses a Promise to block the python side on completion of each step,\n",
              "// then passes the result of the previous step as the input to the next step.\n",
              "function _uploadFilesContinue(outputId) {\n",
              "  const outputElement = document.getElementById(outputId);\n",
              "  const steps = outputElement.steps;\n",
              "\n",
              "  const next = steps.next(outputElement.lastPromiseValue);\n",
              "  return Promise.resolve(next.value.promise).then((value) => {\n",
              "    // Cache the last promise value to make it available to the next\n",
              "    // step of the generator.\n",
              "    outputElement.lastPromiseValue = value;\n",
              "    return next.value.response;\n",
              "  });\n",
              "}\n",
              "\n",
              "/**\n",
              " * Generator function which is called between each async step of the upload\n",
              " * process.\n",
              " * @param {string} inputId Element ID of the input file picker element.\n",
              " * @param {string} outputId Element ID of the output display.\n",
              " * @return {!Iterable<!Object>} Iterable of next steps.\n",
              " */\n",
              "function* uploadFilesStep(inputId, outputId) {\n",
              "  const inputElement = document.getElementById(inputId);\n",
              "  inputElement.disabled = false;\n",
              "\n",
              "  const outputElement = document.getElementById(outputId);\n",
              "  outputElement.innerHTML = '';\n",
              "\n",
              "  const pickedPromise = new Promise((resolve) => {\n",
              "    inputElement.addEventListener('change', (e) => {\n",
              "      resolve(e.target.files);\n",
              "    });\n",
              "  });\n",
              "\n",
              "  const cancel = document.createElement('button');\n",
              "  inputElement.parentElement.appendChild(cancel);\n",
              "  cancel.textContent = 'Cancel upload';\n",
              "  const cancelPromise = new Promise((resolve) => {\n",
              "    cancel.onclick = () => {\n",
              "      resolve(null);\n",
              "    };\n",
              "  });\n",
              "\n",
              "  // Wait for the user to pick the files.\n",
              "  const files = yield {\n",
              "    promise: Promise.race([pickedPromise, cancelPromise]),\n",
              "    response: {\n",
              "      action: 'starting',\n",
              "    }\n",
              "  };\n",
              "\n",
              "  cancel.remove();\n",
              "\n",
              "  // Disable the input element since further picks are not allowed.\n",
              "  inputElement.disabled = true;\n",
              "\n",
              "  if (!files) {\n",
              "    return {\n",
              "      response: {\n",
              "        action: 'complete',\n",
              "      }\n",
              "    };\n",
              "  }\n",
              "\n",
              "  for (const file of files) {\n",
              "    const li = document.createElement('li');\n",
              "    li.append(span(file.name, {fontWeight: 'bold'}));\n",
              "    li.append(span(\n",
              "        `(${file.type || 'n/a'}) - ${file.size} bytes, ` +\n",
              "        `last modified: ${\n",
              "            file.lastModifiedDate ? file.lastModifiedDate.toLocaleDateString() :\n",
              "                                    'n/a'} - `));\n",
              "    const percent = span('0% done');\n",
              "    li.appendChild(percent);\n",
              "\n",
              "    outputElement.appendChild(li);\n",
              "\n",
              "    const fileDataPromise = new Promise((resolve) => {\n",
              "      const reader = new FileReader();\n",
              "      reader.onload = (e) => {\n",
              "        resolve(e.target.result);\n",
              "      };\n",
              "      reader.readAsArrayBuffer(file);\n",
              "    });\n",
              "    // Wait for the data to be ready.\n",
              "    let fileData = yield {\n",
              "      promise: fileDataPromise,\n",
              "      response: {\n",
              "        action: 'continue',\n",
              "      }\n",
              "    };\n",
              "\n",
              "    // Use a chunked sending to avoid message size limits. See b/62115660.\n",
              "    let position = 0;\n",
              "    do {\n",
              "      const length = Math.min(fileData.byteLength - position, MAX_PAYLOAD_SIZE);\n",
              "      const chunk = new Uint8Array(fileData, position, length);\n",
              "      position += length;\n",
              "\n",
              "      const base64 = btoa(String.fromCharCode.apply(null, chunk));\n",
              "      yield {\n",
              "        response: {\n",
              "          action: 'append',\n",
              "          file: file.name,\n",
              "          data: base64,\n",
              "        },\n",
              "      };\n",
              "\n",
              "      let percentDone = fileData.byteLength === 0 ?\n",
              "          100 :\n",
              "          Math.round((position / fileData.byteLength) * 100);\n",
              "      percent.textContent = `${percentDone}% done`;\n",
              "\n",
              "    } while (position < fileData.byteLength);\n",
              "  }\n",
              "\n",
              "  // All done.\n",
              "  yield {\n",
              "    response: {\n",
              "      action: 'complete',\n",
              "    }\n",
              "  };\n",
              "}\n",
              "\n",
              "scope.google = scope.google || {};\n",
              "scope.google.colab = scope.google.colab || {};\n",
              "scope.google.colab._files = {\n",
              "  _uploadFiles,\n",
              "  _uploadFilesContinue,\n",
              "};\n",
              "})(self);\n",
              "</script> "
            ]
          },
          "metadata": {}
        },
        {
          "output_type": "stream",
          "name": "stdout",
          "text": [
            "Saving Flight_Price_dataset.csv to Flight_Price_dataset.csv\n"
          ]
        }
      ]
    },
    {
      "cell_type": "code",
      "source": [
        "# Importing Flight price prediction dataset csv file\n",
        "import io\n",
        "df = pd.read_csv(io.BytesIO(uploaded['Flight_Price_dataset.csv']))"
      ],
      "metadata": {
        "id": "cdvlCk8HmznE"
      },
      "execution_count": 3,
      "outputs": []
    },
    {
      "cell_type": "code",
      "source": [
        "df.head()"
      ],
      "metadata": {
        "colab": {
          "base_uri": "https://localhost:8080/",
          "height": 206
        },
        "id": "Xl701LkYnTN-",
        "outputId": "87f4be72-8a76-4955-ec0c-f8b25babc69d"
      },
      "execution_count": null,
      "outputs": [
        {
          "output_type": "execute_result",
          "data": {
            "text/plain": [
              "   Unnamed: 0   Airline Flight_No             Date Departure_Time  \\\n",
              "0           0    IndiGo   6E-2519  Fri, 6 Jan 2023          23:00   \n",
              "1           1  Go First    G8-336  Fri, 6 Jan 2023          17:35   \n",
              "2           2  Go First    G8-323  Fri, 6 Jan 2023          18:40   \n",
              "3           3   Vistara    UK-933  Fri, 6 Jan 2023          15:30   \n",
              "4           4   Vistara    UK-955  Fri, 6 Jan 2023          17:45   \n",
              "\n",
              "     Arrival_Time     Source Destination     Stops Duration  Price  \n",
              "0  01:20\\n+ 1 day  New Delhi      Mumbai  Non Stop   2h 20m   5899  \n",
              "1           19:45  New Delhi      Mumbai  Non Stop   2h 10m   6502  \n",
              "2           20:55  New Delhi      Mumbai  Non Stop   2h 15m   6502  \n",
              "3           17:35  New Delhi      Mumbai  Non Stop   2h 05m   6795  \n",
              "4           19:55  New Delhi      Mumbai  Non Stop   2h 10m   6795  "
            ],
            "text/html": [
              "\n",
              "  <div id=\"df-a1bd3aa1-7ea3-418b-8b15-2e85da510637\">\n",
              "    <div class=\"colab-df-container\">\n",
              "      <div>\n",
              "<style scoped>\n",
              "    .dataframe tbody tr th:only-of-type {\n",
              "        vertical-align: middle;\n",
              "    }\n",
              "\n",
              "    .dataframe tbody tr th {\n",
              "        vertical-align: top;\n",
              "    }\n",
              "\n",
              "    .dataframe thead th {\n",
              "        text-align: right;\n",
              "    }\n",
              "</style>\n",
              "<table border=\"1\" class=\"dataframe\">\n",
              "  <thead>\n",
              "    <tr style=\"text-align: right;\">\n",
              "      <th></th>\n",
              "      <th>Unnamed: 0</th>\n",
              "      <th>Airline</th>\n",
              "      <th>Flight_No</th>\n",
              "      <th>Date</th>\n",
              "      <th>Departure_Time</th>\n",
              "      <th>Arrival_Time</th>\n",
              "      <th>Source</th>\n",
              "      <th>Destination</th>\n",
              "      <th>Stops</th>\n",
              "      <th>Duration</th>\n",
              "      <th>Price</th>\n",
              "    </tr>\n",
              "  </thead>\n",
              "  <tbody>\n",
              "    <tr>\n",
              "      <th>0</th>\n",
              "      <td>0</td>\n",
              "      <td>IndiGo</td>\n",
              "      <td>6E-2519</td>\n",
              "      <td>Fri, 6 Jan 2023</td>\n",
              "      <td>23:00</td>\n",
              "      <td>01:20\\n+ 1 day</td>\n",
              "      <td>New Delhi</td>\n",
              "      <td>Mumbai</td>\n",
              "      <td>Non Stop</td>\n",
              "      <td>2h 20m</td>\n",
              "      <td>5899</td>\n",
              "    </tr>\n",
              "    <tr>\n",
              "      <th>1</th>\n",
              "      <td>1</td>\n",
              "      <td>Go First</td>\n",
              "      <td>G8-336</td>\n",
              "      <td>Fri, 6 Jan 2023</td>\n",
              "      <td>17:35</td>\n",
              "      <td>19:45</td>\n",
              "      <td>New Delhi</td>\n",
              "      <td>Mumbai</td>\n",
              "      <td>Non Stop</td>\n",
              "      <td>2h 10m</td>\n",
              "      <td>6502</td>\n",
              "    </tr>\n",
              "    <tr>\n",
              "      <th>2</th>\n",
              "      <td>2</td>\n",
              "      <td>Go First</td>\n",
              "      <td>G8-323</td>\n",
              "      <td>Fri, 6 Jan 2023</td>\n",
              "      <td>18:40</td>\n",
              "      <td>20:55</td>\n",
              "      <td>New Delhi</td>\n",
              "      <td>Mumbai</td>\n",
              "      <td>Non Stop</td>\n",
              "      <td>2h 15m</td>\n",
              "      <td>6502</td>\n",
              "    </tr>\n",
              "    <tr>\n",
              "      <th>3</th>\n",
              "      <td>3</td>\n",
              "      <td>Vistara</td>\n",
              "      <td>UK-933</td>\n",
              "      <td>Fri, 6 Jan 2023</td>\n",
              "      <td>15:30</td>\n",
              "      <td>17:35</td>\n",
              "      <td>New Delhi</td>\n",
              "      <td>Mumbai</td>\n",
              "      <td>Non Stop</td>\n",
              "      <td>2h 05m</td>\n",
              "      <td>6795</td>\n",
              "    </tr>\n",
              "    <tr>\n",
              "      <th>4</th>\n",
              "      <td>4</td>\n",
              "      <td>Vistara</td>\n",
              "      <td>UK-955</td>\n",
              "      <td>Fri, 6 Jan 2023</td>\n",
              "      <td>17:45</td>\n",
              "      <td>19:55</td>\n",
              "      <td>New Delhi</td>\n",
              "      <td>Mumbai</td>\n",
              "      <td>Non Stop</td>\n",
              "      <td>2h 10m</td>\n",
              "      <td>6795</td>\n",
              "    </tr>\n",
              "  </tbody>\n",
              "</table>\n",
              "</div>\n",
              "      <button class=\"colab-df-convert\" onclick=\"convertToInteractive('df-a1bd3aa1-7ea3-418b-8b15-2e85da510637')\"\n",
              "              title=\"Convert this dataframe to an interactive table.\"\n",
              "              style=\"display:none;\">\n",
              "        \n",
              "  <svg xmlns=\"http://www.w3.org/2000/svg\" height=\"24px\"viewBox=\"0 0 24 24\"\n",
              "       width=\"24px\">\n",
              "    <path d=\"M0 0h24v24H0V0z\" fill=\"none\"/>\n",
              "    <path d=\"M18.56 5.44l.94 2.06.94-2.06 2.06-.94-2.06-.94-.94-2.06-.94 2.06-2.06.94zm-11 1L8.5 8.5l.94-2.06 2.06-.94-2.06-.94L8.5 2.5l-.94 2.06-2.06.94zm10 10l.94 2.06.94-2.06 2.06-.94-2.06-.94-.94-2.06-.94 2.06-2.06.94z\"/><path d=\"M17.41 7.96l-1.37-1.37c-.4-.4-.92-.59-1.43-.59-.52 0-1.04.2-1.43.59L10.3 9.45l-7.72 7.72c-.78.78-.78 2.05 0 2.83L4 21.41c.39.39.9.59 1.41.59.51 0 1.02-.2 1.41-.59l7.78-7.78 2.81-2.81c.8-.78.8-2.07 0-2.86zM5.41 20L4 18.59l7.72-7.72 1.47 1.35L5.41 20z\"/>\n",
              "  </svg>\n",
              "      </button>\n",
              "      \n",
              "  <style>\n",
              "    .colab-df-container {\n",
              "      display:flex;\n",
              "      flex-wrap:wrap;\n",
              "      gap: 12px;\n",
              "    }\n",
              "\n",
              "    .colab-df-convert {\n",
              "      background-color: #E8F0FE;\n",
              "      border: none;\n",
              "      border-radius: 50%;\n",
              "      cursor: pointer;\n",
              "      display: none;\n",
              "      fill: #1967D2;\n",
              "      height: 32px;\n",
              "      padding: 0 0 0 0;\n",
              "      width: 32px;\n",
              "    }\n",
              "\n",
              "    .colab-df-convert:hover {\n",
              "      background-color: #E2EBFA;\n",
              "      box-shadow: 0px 1px 2px rgba(60, 64, 67, 0.3), 0px 1px 3px 1px rgba(60, 64, 67, 0.15);\n",
              "      fill: #174EA6;\n",
              "    }\n",
              "\n",
              "    [theme=dark] .colab-df-convert {\n",
              "      background-color: #3B4455;\n",
              "      fill: #D2E3FC;\n",
              "    }\n",
              "\n",
              "    [theme=dark] .colab-df-convert:hover {\n",
              "      background-color: #434B5C;\n",
              "      box-shadow: 0px 1px 3px 1px rgba(0, 0, 0, 0.15);\n",
              "      filter: drop-shadow(0px 1px 2px rgba(0, 0, 0, 0.3));\n",
              "      fill: #FFFFFF;\n",
              "    }\n",
              "  </style>\n",
              "\n",
              "      <script>\n",
              "        const buttonEl =\n",
              "          document.querySelector('#df-a1bd3aa1-7ea3-418b-8b15-2e85da510637 button.colab-df-convert');\n",
              "        buttonEl.style.display =\n",
              "          google.colab.kernel.accessAllowed ? 'block' : 'none';\n",
              "\n",
              "        async function convertToInteractive(key) {\n",
              "          const element = document.querySelector('#df-a1bd3aa1-7ea3-418b-8b15-2e85da510637');\n",
              "          const dataTable =\n",
              "            await google.colab.kernel.invokeFunction('convertToInteractive',\n",
              "                                                     [key], {});\n",
              "          if (!dataTable) return;\n",
              "\n",
              "          const docLinkHtml = 'Like what you see? Visit the ' +\n",
              "            '<a target=\"_blank\" href=https://colab.research.google.com/notebooks/data_table.ipynb>data table notebook</a>'\n",
              "            + ' to learn more about interactive tables.';\n",
              "          element.innerHTML = '';\n",
              "          dataTable['output_type'] = 'display_data';\n",
              "          await google.colab.output.renderOutput(dataTable, element);\n",
              "          const docLink = document.createElement('div');\n",
              "          docLink.innerHTML = docLinkHtml;\n",
              "          element.appendChild(docLink);\n",
              "        }\n",
              "      </script>\n",
              "    </div>\n",
              "  </div>\n",
              "  "
            ]
          },
          "metadata": {},
          "execution_count": 4
        }
      ]
    },
    {
      "cell_type": "markdown",
      "source": [
        "*We have scraped data on the basis of classes but forget to add Class column and therefore adding 'Class' column and imputing classes on the basis of their index*"
      ],
      "metadata": {
        "id": "svYkOjFQuL7i"
      }
    },
    {
      "cell_type": "code",
      "source": [
        "df['Class'] = 0"
      ],
      "metadata": {
        "id": "xeyWWPNmqqdy"
      },
      "execution_count": 4,
      "outputs": []
    },
    {
      "cell_type": "markdown",
      "source": [
        "**Web scraping of Economy class flights from 0 to 642**"
      ],
      "metadata": {
        "id": "sw49oy8suqXE"
      }
    },
    {
      "cell_type": "code",
      "source": [
        "df['Class'][0:642] = df.Class[0:642].replace(0,'Economy Class')"
      ],
      "metadata": {
        "id": "_mi7J9GXq9ds"
      },
      "execution_count": 5,
      "outputs": []
    },
    {
      "cell_type": "markdown",
      "source": [
        "**Web scraping of Business class flights from 642 to 1132**"
      ],
      "metadata": {
        "id": "JeR7iMNhvWlt"
      }
    },
    {
      "cell_type": "code",
      "source": [
        "df['Class'][642:1132] = df.Class[642:1132].replace(0,'Business Class')"
      ],
      "metadata": {
        "id": "piGk5WEasPJH"
      },
      "execution_count": 6,
      "outputs": []
    },
    {
      "cell_type": "markdown",
      "source": [
        "**Web scraping of Premium Economy class flights from 1132 to 1508**"
      ],
      "metadata": {
        "id": "4I78nbBr5w7j"
      }
    },
    {
      "cell_type": "code",
      "source": [
        "df['Class'][1132:1508] = df.Class[1132:1508].replace(0,'Premium Economy Class')"
      ],
      "metadata": {
        "id": "lSoqqMLzsgrn"
      },
      "execution_count": 7,
      "outputs": []
    },
    {
      "cell_type": "markdown",
      "source": [
        "**Web scraping of Economy class flights from Mumbai to New Delhi at 1508 to 1878**"
      ],
      "metadata": {
        "id": "EKiKaxLL59V6"
      }
    },
    {
      "cell_type": "code",
      "source": [
        "df['Class'][1508:1878] = df.Class[1508:1878].replace(0,'Economy Class')"
      ],
      "metadata": {
        "id": "_CkVU2yGs2e5"
      },
      "execution_count": 8,
      "outputs": []
    },
    {
      "cell_type": "markdown",
      "source": [
        "**Web scraping of Premium Economy class flights from Mumbai to New Delhi at 1878 to 2122 index position**"
      ],
      "metadata": {
        "id": "3GSRoQ9P6aFH"
      }
    },
    {
      "cell_type": "code",
      "source": [
        "df['Class'][1878:2122] = df.Class[1878:2122].replace(0,'Premium Economy Class')"
      ],
      "metadata": {
        "id": "Wh-uj_QDtRLx"
      },
      "execution_count": 9,
      "outputs": []
    },
    {
      "cell_type": "markdown",
      "source": [
        "**Web scraping of Business class flights from Mumbai to New Delhi at 2122 to 2432 index position**"
      ],
      "metadata": {
        "id": "5xJNLLgw6wBg"
      }
    },
    {
      "cell_type": "code",
      "source": [
        "df['Class'][2122:2432] = df.Class[2122:2432].replace(0,'Business Class')"
      ],
      "metadata": {
        "id": "JR1SNrKOttpV"
      },
      "execution_count": 10,
      "outputs": []
    },
    {
      "cell_type": "code",
      "source": [
        "df.tail()"
      ],
      "metadata": {
        "colab": {
          "base_uri": "https://localhost:8080/",
          "height": 206
        },
        "id": "6xsKc2QsuDKG",
        "outputId": "caa28c98-064d-4926-db67-65eb2accbcab"
      },
      "execution_count": 11,
      "outputs": [
        {
          "output_type": "execute_result",
          "data": {
            "text/plain": [
              "      Unnamed: 0           Airline   Flight_No              Date  \\\n",
              "2427        2427  Vistara Business  UK-843/848  Mon, 16 Jan 2023   \n",
              "2428        2428  Vistara Business  UK-877/880  Mon, 16 Jan 2023   \n",
              "2429        2429  Vistara Business  UK-877/890  Mon, 16 Jan 2023   \n",
              "2430        2430  Vistara Business  UK-873/880  Mon, 16 Jan 2023   \n",
              "2431        2431  Vistara Business  UK-841/848  Mon, 16 Jan 2023   \n",
              "\n",
              "     Departure_Time    Arrival_Time  Source Destination   Stops Duration  \\\n",
              "2427          20:55  17:05\\n+ 1 day  Mumbai   New Delhi  1 Stop  20h 10m   \n",
              "2428          10:45           15:35  Mumbai   New Delhi  1 Stop   4h 50m   \n",
              "2429          10:45           19:55  Mumbai   New Delhi  1 Stop   9h 10m   \n",
              "2430          06:20           15:35  Mumbai   New Delhi  1 Stop   9h 15m   \n",
              "2431          11:25           17:05  Mumbai   New Delhi  1 Stop   5h 40m   \n",
              "\n",
              "      Price           Class  \n",
              "2427  55572  Business Class  \n",
              "2428  55684  Business Class  \n",
              "2429  55684  Business Class  \n",
              "2430  55684  Business Class  \n",
              "2431  56238  Business Class  "
            ],
            "text/html": [
              "\n",
              "  <div id=\"df-995304a7-6cba-47ff-a2f0-a285a3d3b7b1\">\n",
              "    <div class=\"colab-df-container\">\n",
              "      <div>\n",
              "<style scoped>\n",
              "    .dataframe tbody tr th:only-of-type {\n",
              "        vertical-align: middle;\n",
              "    }\n",
              "\n",
              "    .dataframe tbody tr th {\n",
              "        vertical-align: top;\n",
              "    }\n",
              "\n",
              "    .dataframe thead th {\n",
              "        text-align: right;\n",
              "    }\n",
              "</style>\n",
              "<table border=\"1\" class=\"dataframe\">\n",
              "  <thead>\n",
              "    <tr style=\"text-align: right;\">\n",
              "      <th></th>\n",
              "      <th>Unnamed: 0</th>\n",
              "      <th>Airline</th>\n",
              "      <th>Flight_No</th>\n",
              "      <th>Date</th>\n",
              "      <th>Departure_Time</th>\n",
              "      <th>Arrival_Time</th>\n",
              "      <th>Source</th>\n",
              "      <th>Destination</th>\n",
              "      <th>Stops</th>\n",
              "      <th>Duration</th>\n",
              "      <th>Price</th>\n",
              "      <th>Class</th>\n",
              "    </tr>\n",
              "  </thead>\n",
              "  <tbody>\n",
              "    <tr>\n",
              "      <th>2427</th>\n",
              "      <td>2427</td>\n",
              "      <td>Vistara Business</td>\n",
              "      <td>UK-843/848</td>\n",
              "      <td>Mon, 16 Jan 2023</td>\n",
              "      <td>20:55</td>\n",
              "      <td>17:05\\n+ 1 day</td>\n",
              "      <td>Mumbai</td>\n",
              "      <td>New Delhi</td>\n",
              "      <td>1 Stop</td>\n",
              "      <td>20h 10m</td>\n",
              "      <td>55572</td>\n",
              "      <td>Business Class</td>\n",
              "    </tr>\n",
              "    <tr>\n",
              "      <th>2428</th>\n",
              "      <td>2428</td>\n",
              "      <td>Vistara Business</td>\n",
              "      <td>UK-877/880</td>\n",
              "      <td>Mon, 16 Jan 2023</td>\n",
              "      <td>10:45</td>\n",
              "      <td>15:35</td>\n",
              "      <td>Mumbai</td>\n",
              "      <td>New Delhi</td>\n",
              "      <td>1 Stop</td>\n",
              "      <td>4h 50m</td>\n",
              "      <td>55684</td>\n",
              "      <td>Business Class</td>\n",
              "    </tr>\n",
              "    <tr>\n",
              "      <th>2429</th>\n",
              "      <td>2429</td>\n",
              "      <td>Vistara Business</td>\n",
              "      <td>UK-877/890</td>\n",
              "      <td>Mon, 16 Jan 2023</td>\n",
              "      <td>10:45</td>\n",
              "      <td>19:55</td>\n",
              "      <td>Mumbai</td>\n",
              "      <td>New Delhi</td>\n",
              "      <td>1 Stop</td>\n",
              "      <td>9h 10m</td>\n",
              "      <td>55684</td>\n",
              "      <td>Business Class</td>\n",
              "    </tr>\n",
              "    <tr>\n",
              "      <th>2430</th>\n",
              "      <td>2430</td>\n",
              "      <td>Vistara Business</td>\n",
              "      <td>UK-873/880</td>\n",
              "      <td>Mon, 16 Jan 2023</td>\n",
              "      <td>06:20</td>\n",
              "      <td>15:35</td>\n",
              "      <td>Mumbai</td>\n",
              "      <td>New Delhi</td>\n",
              "      <td>1 Stop</td>\n",
              "      <td>9h 15m</td>\n",
              "      <td>55684</td>\n",
              "      <td>Business Class</td>\n",
              "    </tr>\n",
              "    <tr>\n",
              "      <th>2431</th>\n",
              "      <td>2431</td>\n",
              "      <td>Vistara Business</td>\n",
              "      <td>UK-841/848</td>\n",
              "      <td>Mon, 16 Jan 2023</td>\n",
              "      <td>11:25</td>\n",
              "      <td>17:05</td>\n",
              "      <td>Mumbai</td>\n",
              "      <td>New Delhi</td>\n",
              "      <td>1 Stop</td>\n",
              "      <td>5h 40m</td>\n",
              "      <td>56238</td>\n",
              "      <td>Business Class</td>\n",
              "    </tr>\n",
              "  </tbody>\n",
              "</table>\n",
              "</div>\n",
              "      <button class=\"colab-df-convert\" onclick=\"convertToInteractive('df-995304a7-6cba-47ff-a2f0-a285a3d3b7b1')\"\n",
              "              title=\"Convert this dataframe to an interactive table.\"\n",
              "              style=\"display:none;\">\n",
              "        \n",
              "  <svg xmlns=\"http://www.w3.org/2000/svg\" height=\"24px\"viewBox=\"0 0 24 24\"\n",
              "       width=\"24px\">\n",
              "    <path d=\"M0 0h24v24H0V0z\" fill=\"none\"/>\n",
              "    <path d=\"M18.56 5.44l.94 2.06.94-2.06 2.06-.94-2.06-.94-.94-2.06-.94 2.06-2.06.94zm-11 1L8.5 8.5l.94-2.06 2.06-.94-2.06-.94L8.5 2.5l-.94 2.06-2.06.94zm10 10l.94 2.06.94-2.06 2.06-.94-2.06-.94-.94-2.06-.94 2.06-2.06.94z\"/><path d=\"M17.41 7.96l-1.37-1.37c-.4-.4-.92-.59-1.43-.59-.52 0-1.04.2-1.43.59L10.3 9.45l-7.72 7.72c-.78.78-.78 2.05 0 2.83L4 21.41c.39.39.9.59 1.41.59.51 0 1.02-.2 1.41-.59l7.78-7.78 2.81-2.81c.8-.78.8-2.07 0-2.86zM5.41 20L4 18.59l7.72-7.72 1.47 1.35L5.41 20z\"/>\n",
              "  </svg>\n",
              "      </button>\n",
              "      \n",
              "  <style>\n",
              "    .colab-df-container {\n",
              "      display:flex;\n",
              "      flex-wrap:wrap;\n",
              "      gap: 12px;\n",
              "    }\n",
              "\n",
              "    .colab-df-convert {\n",
              "      background-color: #E8F0FE;\n",
              "      border: none;\n",
              "      border-radius: 50%;\n",
              "      cursor: pointer;\n",
              "      display: none;\n",
              "      fill: #1967D2;\n",
              "      height: 32px;\n",
              "      padding: 0 0 0 0;\n",
              "      width: 32px;\n",
              "    }\n",
              "\n",
              "    .colab-df-convert:hover {\n",
              "      background-color: #E2EBFA;\n",
              "      box-shadow: 0px 1px 2px rgba(60, 64, 67, 0.3), 0px 1px 3px 1px rgba(60, 64, 67, 0.15);\n",
              "      fill: #174EA6;\n",
              "    }\n",
              "\n",
              "    [theme=dark] .colab-df-convert {\n",
              "      background-color: #3B4455;\n",
              "      fill: #D2E3FC;\n",
              "    }\n",
              "\n",
              "    [theme=dark] .colab-df-convert:hover {\n",
              "      background-color: #434B5C;\n",
              "      box-shadow: 0px 1px 3px 1px rgba(0, 0, 0, 0.15);\n",
              "      filter: drop-shadow(0px 1px 2px rgba(0, 0, 0, 0.3));\n",
              "      fill: #FFFFFF;\n",
              "    }\n",
              "  </style>\n",
              "\n",
              "      <script>\n",
              "        const buttonEl =\n",
              "          document.querySelector('#df-995304a7-6cba-47ff-a2f0-a285a3d3b7b1 button.colab-df-convert');\n",
              "        buttonEl.style.display =\n",
              "          google.colab.kernel.accessAllowed ? 'block' : 'none';\n",
              "\n",
              "        async function convertToInteractive(key) {\n",
              "          const element = document.querySelector('#df-995304a7-6cba-47ff-a2f0-a285a3d3b7b1');\n",
              "          const dataTable =\n",
              "            await google.colab.kernel.invokeFunction('convertToInteractive',\n",
              "                                                     [key], {});\n",
              "          if (!dataTable) return;\n",
              "\n",
              "          const docLinkHtml = 'Like what you see? Visit the ' +\n",
              "            '<a target=\"_blank\" href=https://colab.research.google.com/notebooks/data_table.ipynb>data table notebook</a>'\n",
              "            + ' to learn more about interactive tables.';\n",
              "          element.innerHTML = '';\n",
              "          dataTable['output_type'] = 'display_data';\n",
              "          await google.colab.output.renderOutput(dataTable, element);\n",
              "          const docLink = document.createElement('div');\n",
              "          docLink.innerHTML = docLinkHtml;\n",
              "          element.appendChild(docLink);\n",
              "        }\n",
              "      </script>\n",
              "    </div>\n",
              "  </div>\n",
              "  "
            ]
          },
          "metadata": {},
          "execution_count": 11
        }
      ]
    },
    {
      "cell_type": "code",
      "source": [
        "print('No. of Rows in the dataset :',df.shape[0])\n",
        "print('No. of Columns in the dataset :',df.shape[1])"
      ],
      "metadata": {
        "id": "HqnP6CTq66-q",
        "colab": {
          "base_uri": "https://localhost:8080/"
        },
        "outputId": "efd2a3a6-0af0-4fec-8cb7-2da7efa4337d"
      },
      "execution_count": 12,
      "outputs": [
        {
          "output_type": "stream",
          "name": "stdout",
          "text": [
            "No. of Rows in the dataset : 2432\n",
            "No. of Columns in the dataset : 12\n"
          ]
        }
      ]
    },
    {
      "cell_type": "code",
      "source": [
        "df.drop('Unnamed: 0',axis=1,inplace=True)"
      ],
      "metadata": {
        "id": "6aE0l3-7Z2L1"
      },
      "execution_count": 13,
      "outputs": []
    },
    {
      "cell_type": "code",
      "source": [
        "# lets sort columns by their datatype\n",
        "df.columns.to_series().groupby(df.dtypes).groups"
      ],
      "metadata": {
        "colab": {
          "base_uri": "https://localhost:8080/"
        },
        "id": "JbO4kguZaPAO",
        "outputId": "966557bb-3a37-4653-b3af-9aa0b4c72b58"
      },
      "execution_count": null,
      "outputs": [
        {
          "output_type": "execute_result",
          "data": {
            "text/plain": [
              "{int64: ['Price'], object: ['Airline', 'Flight_No', 'Date', 'Departure_Time', 'Arrival_Time', 'Source', 'Destination', 'Stops', 'Duration', 'Class']}"
            ]
          },
          "metadata": {},
          "execution_count": 18
        }
      ]
    },
    {
      "cell_type": "code",
      "source": [
        "# Checking for duplicate data\n",
        "df.duplicated().sum()"
      ],
      "metadata": {
        "colab": {
          "base_uri": "https://localhost:8080/"
        },
        "id": "iBs7tLPxagET",
        "outputId": "43026496-5dff-4dfb-857c-b16da3a3a2b6"
      },
      "execution_count": 14,
      "outputs": [
        {
          "output_type": "execute_result",
          "data": {
            "text/plain": [
              "64"
            ]
          },
          "metadata": {},
          "execution_count": 14
        }
      ]
    },
    {
      "cell_type": "code",
      "source": [
        "df = df.drop_duplicates()"
      ],
      "metadata": {
        "id": "9A7LZclCanfS"
      },
      "execution_count": 15,
      "outputs": []
    },
    {
      "cell_type": "code",
      "source": [
        "df.reset_index()"
      ],
      "metadata": {
        "colab": {
          "base_uri": "https://localhost:8080/",
          "height": 424
        },
        "id": "XmSupLJJavPW",
        "outputId": "961996ec-3444-48e4-a09d-d6a052fb6c67"
      },
      "execution_count": 16,
      "outputs": [
        {
          "output_type": "execute_result",
          "data": {
            "text/plain": [
              "      index           Airline   Flight_No              Date Departure_Time  \\\n",
              "0         0            IndiGo     6E-2519   Fri, 6 Jan 2023          23:00   \n",
              "1         1          Go First      G8-336   Fri, 6 Jan 2023          17:35   \n",
              "2         2          Go First      G8-323   Fri, 6 Jan 2023          18:40   \n",
              "3         3           Vistara      UK-933   Fri, 6 Jan 2023          15:30   \n",
              "4         4           Vistara      UK-955   Fri, 6 Jan 2023          17:45   \n",
              "...     ...               ...         ...               ...            ...   \n",
              "2363   2427  Vistara Business  UK-843/848  Mon, 16 Jan 2023          20:55   \n",
              "2364   2428  Vistara Business  UK-877/880  Mon, 16 Jan 2023          10:45   \n",
              "2365   2429  Vistara Business  UK-877/890  Mon, 16 Jan 2023          10:45   \n",
              "2366   2430  Vistara Business  UK-873/880  Mon, 16 Jan 2023          06:20   \n",
              "2367   2431  Vistara Business  UK-841/848  Mon, 16 Jan 2023          11:25   \n",
              "\n",
              "        Arrival_Time     Source Destination     Stops Duration  Price  \\\n",
              "0     01:20\\n+ 1 day  New Delhi      Mumbai  Non Stop   2h 20m   5899   \n",
              "1              19:45  New Delhi      Mumbai  Non Stop   2h 10m   6502   \n",
              "2              20:55  New Delhi      Mumbai  Non Stop   2h 15m   6502   \n",
              "3              17:35  New Delhi      Mumbai  Non Stop   2h 05m   6795   \n",
              "4              19:55  New Delhi      Mumbai  Non Stop   2h 10m   6795   \n",
              "...              ...        ...         ...       ...      ...    ...   \n",
              "2363  17:05\\n+ 1 day     Mumbai   New Delhi    1 Stop  20h 10m  55572   \n",
              "2364           15:35     Mumbai   New Delhi    1 Stop   4h 50m  55684   \n",
              "2365           19:55     Mumbai   New Delhi    1 Stop   9h 10m  55684   \n",
              "2366           15:35     Mumbai   New Delhi    1 Stop   9h 15m  55684   \n",
              "2367           17:05     Mumbai   New Delhi    1 Stop   5h 40m  56238   \n",
              "\n",
              "               Class  \n",
              "0      Economy Class  \n",
              "1      Economy Class  \n",
              "2      Economy Class  \n",
              "3      Economy Class  \n",
              "4      Economy Class  \n",
              "...              ...  \n",
              "2363  Business Class  \n",
              "2364  Business Class  \n",
              "2365  Business Class  \n",
              "2366  Business Class  \n",
              "2367  Business Class  \n",
              "\n",
              "[2368 rows x 12 columns]"
            ],
            "text/html": [
              "\n",
              "  <div id=\"df-5fcaac6d-cb34-4900-b2bc-ebb3014cd079\">\n",
              "    <div class=\"colab-df-container\">\n",
              "      <div>\n",
              "<style scoped>\n",
              "    .dataframe tbody tr th:only-of-type {\n",
              "        vertical-align: middle;\n",
              "    }\n",
              "\n",
              "    .dataframe tbody tr th {\n",
              "        vertical-align: top;\n",
              "    }\n",
              "\n",
              "    .dataframe thead th {\n",
              "        text-align: right;\n",
              "    }\n",
              "</style>\n",
              "<table border=\"1\" class=\"dataframe\">\n",
              "  <thead>\n",
              "    <tr style=\"text-align: right;\">\n",
              "      <th></th>\n",
              "      <th>index</th>\n",
              "      <th>Airline</th>\n",
              "      <th>Flight_No</th>\n",
              "      <th>Date</th>\n",
              "      <th>Departure_Time</th>\n",
              "      <th>Arrival_Time</th>\n",
              "      <th>Source</th>\n",
              "      <th>Destination</th>\n",
              "      <th>Stops</th>\n",
              "      <th>Duration</th>\n",
              "      <th>Price</th>\n",
              "      <th>Class</th>\n",
              "    </tr>\n",
              "  </thead>\n",
              "  <tbody>\n",
              "    <tr>\n",
              "      <th>0</th>\n",
              "      <td>0</td>\n",
              "      <td>IndiGo</td>\n",
              "      <td>6E-2519</td>\n",
              "      <td>Fri, 6 Jan 2023</td>\n",
              "      <td>23:00</td>\n",
              "      <td>01:20\\n+ 1 day</td>\n",
              "      <td>New Delhi</td>\n",
              "      <td>Mumbai</td>\n",
              "      <td>Non Stop</td>\n",
              "      <td>2h 20m</td>\n",
              "      <td>5899</td>\n",
              "      <td>Economy Class</td>\n",
              "    </tr>\n",
              "    <tr>\n",
              "      <th>1</th>\n",
              "      <td>1</td>\n",
              "      <td>Go First</td>\n",
              "      <td>G8-336</td>\n",
              "      <td>Fri, 6 Jan 2023</td>\n",
              "      <td>17:35</td>\n",
              "      <td>19:45</td>\n",
              "      <td>New Delhi</td>\n",
              "      <td>Mumbai</td>\n",
              "      <td>Non Stop</td>\n",
              "      <td>2h 10m</td>\n",
              "      <td>6502</td>\n",
              "      <td>Economy Class</td>\n",
              "    </tr>\n",
              "    <tr>\n",
              "      <th>2</th>\n",
              "      <td>2</td>\n",
              "      <td>Go First</td>\n",
              "      <td>G8-323</td>\n",
              "      <td>Fri, 6 Jan 2023</td>\n",
              "      <td>18:40</td>\n",
              "      <td>20:55</td>\n",
              "      <td>New Delhi</td>\n",
              "      <td>Mumbai</td>\n",
              "      <td>Non Stop</td>\n",
              "      <td>2h 15m</td>\n",
              "      <td>6502</td>\n",
              "      <td>Economy Class</td>\n",
              "    </tr>\n",
              "    <tr>\n",
              "      <th>3</th>\n",
              "      <td>3</td>\n",
              "      <td>Vistara</td>\n",
              "      <td>UK-933</td>\n",
              "      <td>Fri, 6 Jan 2023</td>\n",
              "      <td>15:30</td>\n",
              "      <td>17:35</td>\n",
              "      <td>New Delhi</td>\n",
              "      <td>Mumbai</td>\n",
              "      <td>Non Stop</td>\n",
              "      <td>2h 05m</td>\n",
              "      <td>6795</td>\n",
              "      <td>Economy Class</td>\n",
              "    </tr>\n",
              "    <tr>\n",
              "      <th>4</th>\n",
              "      <td>4</td>\n",
              "      <td>Vistara</td>\n",
              "      <td>UK-955</td>\n",
              "      <td>Fri, 6 Jan 2023</td>\n",
              "      <td>17:45</td>\n",
              "      <td>19:55</td>\n",
              "      <td>New Delhi</td>\n",
              "      <td>Mumbai</td>\n",
              "      <td>Non Stop</td>\n",
              "      <td>2h 10m</td>\n",
              "      <td>6795</td>\n",
              "      <td>Economy Class</td>\n",
              "    </tr>\n",
              "    <tr>\n",
              "      <th>...</th>\n",
              "      <td>...</td>\n",
              "      <td>...</td>\n",
              "      <td>...</td>\n",
              "      <td>...</td>\n",
              "      <td>...</td>\n",
              "      <td>...</td>\n",
              "      <td>...</td>\n",
              "      <td>...</td>\n",
              "      <td>...</td>\n",
              "      <td>...</td>\n",
              "      <td>...</td>\n",
              "      <td>...</td>\n",
              "    </tr>\n",
              "    <tr>\n",
              "      <th>2363</th>\n",
              "      <td>2427</td>\n",
              "      <td>Vistara Business</td>\n",
              "      <td>UK-843/848</td>\n",
              "      <td>Mon, 16 Jan 2023</td>\n",
              "      <td>20:55</td>\n",
              "      <td>17:05\\n+ 1 day</td>\n",
              "      <td>Mumbai</td>\n",
              "      <td>New Delhi</td>\n",
              "      <td>1 Stop</td>\n",
              "      <td>20h 10m</td>\n",
              "      <td>55572</td>\n",
              "      <td>Business Class</td>\n",
              "    </tr>\n",
              "    <tr>\n",
              "      <th>2364</th>\n",
              "      <td>2428</td>\n",
              "      <td>Vistara Business</td>\n",
              "      <td>UK-877/880</td>\n",
              "      <td>Mon, 16 Jan 2023</td>\n",
              "      <td>10:45</td>\n",
              "      <td>15:35</td>\n",
              "      <td>Mumbai</td>\n",
              "      <td>New Delhi</td>\n",
              "      <td>1 Stop</td>\n",
              "      <td>4h 50m</td>\n",
              "      <td>55684</td>\n",
              "      <td>Business Class</td>\n",
              "    </tr>\n",
              "    <tr>\n",
              "      <th>2365</th>\n",
              "      <td>2429</td>\n",
              "      <td>Vistara Business</td>\n",
              "      <td>UK-877/890</td>\n",
              "      <td>Mon, 16 Jan 2023</td>\n",
              "      <td>10:45</td>\n",
              "      <td>19:55</td>\n",
              "      <td>Mumbai</td>\n",
              "      <td>New Delhi</td>\n",
              "      <td>1 Stop</td>\n",
              "      <td>9h 10m</td>\n",
              "      <td>55684</td>\n",
              "      <td>Business Class</td>\n",
              "    </tr>\n",
              "    <tr>\n",
              "      <th>2366</th>\n",
              "      <td>2430</td>\n",
              "      <td>Vistara Business</td>\n",
              "      <td>UK-873/880</td>\n",
              "      <td>Mon, 16 Jan 2023</td>\n",
              "      <td>06:20</td>\n",
              "      <td>15:35</td>\n",
              "      <td>Mumbai</td>\n",
              "      <td>New Delhi</td>\n",
              "      <td>1 Stop</td>\n",
              "      <td>9h 15m</td>\n",
              "      <td>55684</td>\n",
              "      <td>Business Class</td>\n",
              "    </tr>\n",
              "    <tr>\n",
              "      <th>2367</th>\n",
              "      <td>2431</td>\n",
              "      <td>Vistara Business</td>\n",
              "      <td>UK-841/848</td>\n",
              "      <td>Mon, 16 Jan 2023</td>\n",
              "      <td>11:25</td>\n",
              "      <td>17:05</td>\n",
              "      <td>Mumbai</td>\n",
              "      <td>New Delhi</td>\n",
              "      <td>1 Stop</td>\n",
              "      <td>5h 40m</td>\n",
              "      <td>56238</td>\n",
              "      <td>Business Class</td>\n",
              "    </tr>\n",
              "  </tbody>\n",
              "</table>\n",
              "<p>2368 rows × 12 columns</p>\n",
              "</div>\n",
              "      <button class=\"colab-df-convert\" onclick=\"convertToInteractive('df-5fcaac6d-cb34-4900-b2bc-ebb3014cd079')\"\n",
              "              title=\"Convert this dataframe to an interactive table.\"\n",
              "              style=\"display:none;\">\n",
              "        \n",
              "  <svg xmlns=\"http://www.w3.org/2000/svg\" height=\"24px\"viewBox=\"0 0 24 24\"\n",
              "       width=\"24px\">\n",
              "    <path d=\"M0 0h24v24H0V0z\" fill=\"none\"/>\n",
              "    <path d=\"M18.56 5.44l.94 2.06.94-2.06 2.06-.94-2.06-.94-.94-2.06-.94 2.06-2.06.94zm-11 1L8.5 8.5l.94-2.06 2.06-.94-2.06-.94L8.5 2.5l-.94 2.06-2.06.94zm10 10l.94 2.06.94-2.06 2.06-.94-2.06-.94-.94-2.06-.94 2.06-2.06.94z\"/><path d=\"M17.41 7.96l-1.37-1.37c-.4-.4-.92-.59-1.43-.59-.52 0-1.04.2-1.43.59L10.3 9.45l-7.72 7.72c-.78.78-.78 2.05 0 2.83L4 21.41c.39.39.9.59 1.41.59.51 0 1.02-.2 1.41-.59l7.78-7.78 2.81-2.81c.8-.78.8-2.07 0-2.86zM5.41 20L4 18.59l7.72-7.72 1.47 1.35L5.41 20z\"/>\n",
              "  </svg>\n",
              "      </button>\n",
              "      \n",
              "  <style>\n",
              "    .colab-df-container {\n",
              "      display:flex;\n",
              "      flex-wrap:wrap;\n",
              "      gap: 12px;\n",
              "    }\n",
              "\n",
              "    .colab-df-convert {\n",
              "      background-color: #E8F0FE;\n",
              "      border: none;\n",
              "      border-radius: 50%;\n",
              "      cursor: pointer;\n",
              "      display: none;\n",
              "      fill: #1967D2;\n",
              "      height: 32px;\n",
              "      padding: 0 0 0 0;\n",
              "      width: 32px;\n",
              "    }\n",
              "\n",
              "    .colab-df-convert:hover {\n",
              "      background-color: #E2EBFA;\n",
              "      box-shadow: 0px 1px 2px rgba(60, 64, 67, 0.3), 0px 1px 3px 1px rgba(60, 64, 67, 0.15);\n",
              "      fill: #174EA6;\n",
              "    }\n",
              "\n",
              "    [theme=dark] .colab-df-convert {\n",
              "      background-color: #3B4455;\n",
              "      fill: #D2E3FC;\n",
              "    }\n",
              "\n",
              "    [theme=dark] .colab-df-convert:hover {\n",
              "      background-color: #434B5C;\n",
              "      box-shadow: 0px 1px 3px 1px rgba(0, 0, 0, 0.15);\n",
              "      filter: drop-shadow(0px 1px 2px rgba(0, 0, 0, 0.3));\n",
              "      fill: #FFFFFF;\n",
              "    }\n",
              "  </style>\n",
              "\n",
              "      <script>\n",
              "        const buttonEl =\n",
              "          document.querySelector('#df-5fcaac6d-cb34-4900-b2bc-ebb3014cd079 button.colab-df-convert');\n",
              "        buttonEl.style.display =\n",
              "          google.colab.kernel.accessAllowed ? 'block' : 'none';\n",
              "\n",
              "        async function convertToInteractive(key) {\n",
              "          const element = document.querySelector('#df-5fcaac6d-cb34-4900-b2bc-ebb3014cd079');\n",
              "          const dataTable =\n",
              "            await google.colab.kernel.invokeFunction('convertToInteractive',\n",
              "                                                     [key], {});\n",
              "          if (!dataTable) return;\n",
              "\n",
              "          const docLinkHtml = 'Like what you see? Visit the ' +\n",
              "            '<a target=\"_blank\" href=https://colab.research.google.com/notebooks/data_table.ipynb>data table notebook</a>'\n",
              "            + ' to learn more about interactive tables.';\n",
              "          element.innerHTML = '';\n",
              "          dataTable['output_type'] = 'display_data';\n",
              "          await google.colab.output.renderOutput(dataTable, element);\n",
              "          const docLink = document.createElement('div');\n",
              "          docLink.innerHTML = docLinkHtml;\n",
              "          element.appendChild(docLink);\n",
              "        }\n",
              "      </script>\n",
              "    </div>\n",
              "  </div>\n",
              "  "
            ]
          },
          "metadata": {},
          "execution_count": 16
        }
      ]
    },
    {
      "cell_type": "code",
      "source": [
        "df.shape"
      ],
      "metadata": {
        "colab": {
          "base_uri": "https://localhost:8080/"
        },
        "id": "Kf6bqZUFa8Z1",
        "outputId": "fc10aa36-e067-438d-f88a-3a1cc70ca4d1"
      },
      "execution_count": 17,
      "outputs": [
        {
          "output_type": "execute_result",
          "data": {
            "text/plain": [
              "(2368, 11)"
            ]
          },
          "metadata": {},
          "execution_count": 17
        }
      ]
    },
    {
      "cell_type": "code",
      "source": [
        "df.head()"
      ],
      "metadata": {
        "colab": {
          "base_uri": "https://localhost:8080/",
          "height": 206
        },
        "id": "jfhd-ByIbMuQ",
        "outputId": "fb3fbfa0-93c1-4763-cea7-efcc3a296b5a"
      },
      "execution_count": null,
      "outputs": [
        {
          "output_type": "execute_result",
          "data": {
            "text/plain": [
              "    Airline Flight_No             Date Departure_Time    Arrival_Time  \\\n",
              "0    IndiGo   6E-2519  Fri, 6 Jan 2023          23:00  01:20\\n+ 1 day   \n",
              "1  Go First    G8-336  Fri, 6 Jan 2023          17:35           19:45   \n",
              "2  Go First    G8-323  Fri, 6 Jan 2023          18:40           20:55   \n",
              "3   Vistara    UK-933  Fri, 6 Jan 2023          15:30           17:35   \n",
              "4   Vistara    UK-955  Fri, 6 Jan 2023          17:45           19:55   \n",
              "\n",
              "      Source Destination     Stops Duration  Price          Class  \n",
              "0  New Delhi      Mumbai  Non Stop   2h 20m   5899  Economy Class  \n",
              "1  New Delhi      Mumbai  Non Stop   2h 10m   6502  Economy Class  \n",
              "2  New Delhi      Mumbai  Non Stop   2h 15m   6502  Economy Class  \n",
              "3  New Delhi      Mumbai  Non Stop   2h 05m   6795  Economy Class  \n",
              "4  New Delhi      Mumbai  Non Stop   2h 10m   6795  Economy Class  "
            ],
            "text/html": [
              "\n",
              "  <div id=\"df-744bae0c-5a27-4e85-80f2-090805c32ba6\">\n",
              "    <div class=\"colab-df-container\">\n",
              "      <div>\n",
              "<style scoped>\n",
              "    .dataframe tbody tr th:only-of-type {\n",
              "        vertical-align: middle;\n",
              "    }\n",
              "\n",
              "    .dataframe tbody tr th {\n",
              "        vertical-align: top;\n",
              "    }\n",
              "\n",
              "    .dataframe thead th {\n",
              "        text-align: right;\n",
              "    }\n",
              "</style>\n",
              "<table border=\"1\" class=\"dataframe\">\n",
              "  <thead>\n",
              "    <tr style=\"text-align: right;\">\n",
              "      <th></th>\n",
              "      <th>Airline</th>\n",
              "      <th>Flight_No</th>\n",
              "      <th>Date</th>\n",
              "      <th>Departure_Time</th>\n",
              "      <th>Arrival_Time</th>\n",
              "      <th>Source</th>\n",
              "      <th>Destination</th>\n",
              "      <th>Stops</th>\n",
              "      <th>Duration</th>\n",
              "      <th>Price</th>\n",
              "      <th>Class</th>\n",
              "    </tr>\n",
              "  </thead>\n",
              "  <tbody>\n",
              "    <tr>\n",
              "      <th>0</th>\n",
              "      <td>IndiGo</td>\n",
              "      <td>6E-2519</td>\n",
              "      <td>Fri, 6 Jan 2023</td>\n",
              "      <td>23:00</td>\n",
              "      <td>01:20\\n+ 1 day</td>\n",
              "      <td>New Delhi</td>\n",
              "      <td>Mumbai</td>\n",
              "      <td>Non Stop</td>\n",
              "      <td>2h 20m</td>\n",
              "      <td>5899</td>\n",
              "      <td>Economy Class</td>\n",
              "    </tr>\n",
              "    <tr>\n",
              "      <th>1</th>\n",
              "      <td>Go First</td>\n",
              "      <td>G8-336</td>\n",
              "      <td>Fri, 6 Jan 2023</td>\n",
              "      <td>17:35</td>\n",
              "      <td>19:45</td>\n",
              "      <td>New Delhi</td>\n",
              "      <td>Mumbai</td>\n",
              "      <td>Non Stop</td>\n",
              "      <td>2h 10m</td>\n",
              "      <td>6502</td>\n",
              "      <td>Economy Class</td>\n",
              "    </tr>\n",
              "    <tr>\n",
              "      <th>2</th>\n",
              "      <td>Go First</td>\n",
              "      <td>G8-323</td>\n",
              "      <td>Fri, 6 Jan 2023</td>\n",
              "      <td>18:40</td>\n",
              "      <td>20:55</td>\n",
              "      <td>New Delhi</td>\n",
              "      <td>Mumbai</td>\n",
              "      <td>Non Stop</td>\n",
              "      <td>2h 15m</td>\n",
              "      <td>6502</td>\n",
              "      <td>Economy Class</td>\n",
              "    </tr>\n",
              "    <tr>\n",
              "      <th>3</th>\n",
              "      <td>Vistara</td>\n",
              "      <td>UK-933</td>\n",
              "      <td>Fri, 6 Jan 2023</td>\n",
              "      <td>15:30</td>\n",
              "      <td>17:35</td>\n",
              "      <td>New Delhi</td>\n",
              "      <td>Mumbai</td>\n",
              "      <td>Non Stop</td>\n",
              "      <td>2h 05m</td>\n",
              "      <td>6795</td>\n",
              "      <td>Economy Class</td>\n",
              "    </tr>\n",
              "    <tr>\n",
              "      <th>4</th>\n",
              "      <td>Vistara</td>\n",
              "      <td>UK-955</td>\n",
              "      <td>Fri, 6 Jan 2023</td>\n",
              "      <td>17:45</td>\n",
              "      <td>19:55</td>\n",
              "      <td>New Delhi</td>\n",
              "      <td>Mumbai</td>\n",
              "      <td>Non Stop</td>\n",
              "      <td>2h 10m</td>\n",
              "      <td>6795</td>\n",
              "      <td>Economy Class</td>\n",
              "    </tr>\n",
              "  </tbody>\n",
              "</table>\n",
              "</div>\n",
              "      <button class=\"colab-df-convert\" onclick=\"convertToInteractive('df-744bae0c-5a27-4e85-80f2-090805c32ba6')\"\n",
              "              title=\"Convert this dataframe to an interactive table.\"\n",
              "              style=\"display:none;\">\n",
              "        \n",
              "  <svg xmlns=\"http://www.w3.org/2000/svg\" height=\"24px\"viewBox=\"0 0 24 24\"\n",
              "       width=\"24px\">\n",
              "    <path d=\"M0 0h24v24H0V0z\" fill=\"none\"/>\n",
              "    <path d=\"M18.56 5.44l.94 2.06.94-2.06 2.06-.94-2.06-.94-.94-2.06-.94 2.06-2.06.94zm-11 1L8.5 8.5l.94-2.06 2.06-.94-2.06-.94L8.5 2.5l-.94 2.06-2.06.94zm10 10l.94 2.06.94-2.06 2.06-.94-2.06-.94-.94-2.06-.94 2.06-2.06.94z\"/><path d=\"M17.41 7.96l-1.37-1.37c-.4-.4-.92-.59-1.43-.59-.52 0-1.04.2-1.43.59L10.3 9.45l-7.72 7.72c-.78.78-.78 2.05 0 2.83L4 21.41c.39.39.9.59 1.41.59.51 0 1.02-.2 1.41-.59l7.78-7.78 2.81-2.81c.8-.78.8-2.07 0-2.86zM5.41 20L4 18.59l7.72-7.72 1.47 1.35L5.41 20z\"/>\n",
              "  </svg>\n",
              "      </button>\n",
              "      \n",
              "  <style>\n",
              "    .colab-df-container {\n",
              "      display:flex;\n",
              "      flex-wrap:wrap;\n",
              "      gap: 12px;\n",
              "    }\n",
              "\n",
              "    .colab-df-convert {\n",
              "      background-color: #E8F0FE;\n",
              "      border: none;\n",
              "      border-radius: 50%;\n",
              "      cursor: pointer;\n",
              "      display: none;\n",
              "      fill: #1967D2;\n",
              "      height: 32px;\n",
              "      padding: 0 0 0 0;\n",
              "      width: 32px;\n",
              "    }\n",
              "\n",
              "    .colab-df-convert:hover {\n",
              "      background-color: #E2EBFA;\n",
              "      box-shadow: 0px 1px 2px rgba(60, 64, 67, 0.3), 0px 1px 3px 1px rgba(60, 64, 67, 0.15);\n",
              "      fill: #174EA6;\n",
              "    }\n",
              "\n",
              "    [theme=dark] .colab-df-convert {\n",
              "      background-color: #3B4455;\n",
              "      fill: #D2E3FC;\n",
              "    }\n",
              "\n",
              "    [theme=dark] .colab-df-convert:hover {\n",
              "      background-color: #434B5C;\n",
              "      box-shadow: 0px 1px 3px 1px rgba(0, 0, 0, 0.15);\n",
              "      filter: drop-shadow(0px 1px 2px rgba(0, 0, 0, 0.3));\n",
              "      fill: #FFFFFF;\n",
              "    }\n",
              "  </style>\n",
              "\n",
              "      <script>\n",
              "        const buttonEl =\n",
              "          document.querySelector('#df-744bae0c-5a27-4e85-80f2-090805c32ba6 button.colab-df-convert');\n",
              "        buttonEl.style.display =\n",
              "          google.colab.kernel.accessAllowed ? 'block' : 'none';\n",
              "\n",
              "        async function convertToInteractive(key) {\n",
              "          const element = document.querySelector('#df-744bae0c-5a27-4e85-80f2-090805c32ba6');\n",
              "          const dataTable =\n",
              "            await google.colab.kernel.invokeFunction('convertToInteractive',\n",
              "                                                     [key], {});\n",
              "          if (!dataTable) return;\n",
              "\n",
              "          const docLinkHtml = 'Like what you see? Visit the ' +\n",
              "            '<a target=\"_blank\" href=https://colab.research.google.com/notebooks/data_table.ipynb>data table notebook</a>'\n",
              "            + ' to learn more about interactive tables.';\n",
              "          element.innerHTML = '';\n",
              "          dataTable['output_type'] = 'display_data';\n",
              "          await google.colab.output.renderOutput(dataTable, element);\n",
              "          const docLink = document.createElement('div');\n",
              "          docLink.innerHTML = docLinkHtml;\n",
              "          element.appendChild(docLink);\n",
              "        }\n",
              "      </script>\n",
              "    </div>\n",
              "  </div>\n",
              "  "
            ]
          },
          "metadata": {},
          "execution_count": 26
        }
      ]
    },
    {
      "cell_type": "markdown",
      "source": [
        "* **Price** is our target variable. We will predict flight prices using various regression algorithms\n",
        "\n",
        "* The given dataset now has 2368 rows and 11 columns\n",
        "\n",
        "* Date and time has object datatype and hence need to change it to datetime data type"
      ],
      "metadata": {
        "id": "D7zOzh-rbTaT"
      }
    },
    {
      "cell_type": "code",
      "source": [
        "df.isnull().sum()"
      ],
      "metadata": {
        "colab": {
          "base_uri": "https://localhost:8080/"
        },
        "id": "h1dy6_F4cSPP",
        "outputId": "ebe1c783-64a3-461a-8416-49955a0cf82a"
      },
      "execution_count": 18,
      "outputs": [
        {
          "output_type": "execute_result",
          "data": {
            "text/plain": [
              "Airline           0\n",
              "Flight_No         0\n",
              "Date              0\n",
              "Departure_Time    0\n",
              "Arrival_Time      0\n",
              "Source            0\n",
              "Destination       0\n",
              "Stops             0\n",
              "Duration          0\n",
              "Price             0\n",
              "Class             0\n",
              "dtype: int64"
            ]
          },
          "metadata": {},
          "execution_count": 18
        }
      ]
    },
    {
      "cell_type": "markdown",
      "source": [
        "**No missing values in the dataset.Good to go ahead**"
      ],
      "metadata": {
        "id": "3rIQIWLQeCjJ"
      }
    },
    {
      "cell_type": "markdown",
      "source": [
        "**Conversion of Duration column into minutes**"
      ],
      "metadata": {
        "id": "xqF1u_52h4XX"
      }
    },
    {
      "cell_type": "code",
      "source": [
        "df['Duration'] = df['Duration'].map(lambda x : x.replace('05m','5m'))"
      ],
      "metadata": {
        "id": "vFSxRSGzeJDW"
      },
      "execution_count": 19,
      "outputs": []
    },
    {
      "cell_type": "code",
      "source": [
        "# Conversion of Duration column from hr & Minutes format to Minutes\n",
        "df['Duration'] = df['Duration'].str.replace('h','*60').str.replace(' ','+').str.replace('m','*1').apply(eval)\n",
        "\n",
        "# convert this column into a numeric datatypes\n",
        "df['Duration']= pd.to_numeric(df['Duration'])"
      ],
      "metadata": {
        "id": "WF5wWczshMUs"
      },
      "execution_count": 20,
      "outputs": []
    },
    {
      "cell_type": "code",
      "source": [
        "df['Date']=pd.to_datetime(df['Date'],format = '%a, %d %b %Y')"
      ],
      "metadata": {
        "id": "fpzJ6m5Dpfhp"
      },
      "execution_count": 21,
      "outputs": []
    },
    {
      "cell_type": "code",
      "source": [
        "df['Day'] = df['Date'].dt.day\n",
        "df['Month'] = df['Date'].dt.month\n",
        "df['Year'] = df['Date'].dt.year"
      ],
      "metadata": {
        "id": "_NqV6W1yt6WH"
      },
      "execution_count": 22,
      "outputs": []
    },
    {
      "cell_type": "code",
      "source": [
        "df.drop('Date',axis=1,inplace=True)"
      ],
      "metadata": {
        "id": "nDCBL7QouiDa"
      },
      "execution_count": 23,
      "outputs": []
    },
    {
      "cell_type": "code",
      "source": [
        "df.head()"
      ],
      "metadata": {
        "colab": {
          "base_uri": "https://localhost:8080/",
          "height": 206
        },
        "id": "HnZGUDUmurUa",
        "outputId": "c0fd66bc-e26f-43f5-81ff-9d50967fe408"
      },
      "execution_count": 24,
      "outputs": [
        {
          "output_type": "execute_result",
          "data": {
            "text/plain": [
              "    Airline Flight_No Departure_Time    Arrival_Time     Source Destination  \\\n",
              "0    IndiGo   6E-2519          23:00  01:20\\n+ 1 day  New Delhi      Mumbai   \n",
              "1  Go First    G8-336          17:35           19:45  New Delhi      Mumbai   \n",
              "2  Go First    G8-323          18:40           20:55  New Delhi      Mumbai   \n",
              "3   Vistara    UK-933          15:30           17:35  New Delhi      Mumbai   \n",
              "4   Vistara    UK-955          17:45           19:55  New Delhi      Mumbai   \n",
              "\n",
              "      Stops  Duration  Price          Class  Day  Month  Year  \n",
              "0  Non Stop       140   5899  Economy Class    6      1  2023  \n",
              "1  Non Stop       130   6502  Economy Class    6      1  2023  \n",
              "2  Non Stop       135   6502  Economy Class    6      1  2023  \n",
              "3  Non Stop       125   6795  Economy Class    6      1  2023  \n",
              "4  Non Stop       130   6795  Economy Class    6      1  2023  "
            ],
            "text/html": [
              "\n",
              "  <div id=\"df-4d1ecf47-250c-44d6-8027-35bdfab060ea\">\n",
              "    <div class=\"colab-df-container\">\n",
              "      <div>\n",
              "<style scoped>\n",
              "    .dataframe tbody tr th:only-of-type {\n",
              "        vertical-align: middle;\n",
              "    }\n",
              "\n",
              "    .dataframe tbody tr th {\n",
              "        vertical-align: top;\n",
              "    }\n",
              "\n",
              "    .dataframe thead th {\n",
              "        text-align: right;\n",
              "    }\n",
              "</style>\n",
              "<table border=\"1\" class=\"dataframe\">\n",
              "  <thead>\n",
              "    <tr style=\"text-align: right;\">\n",
              "      <th></th>\n",
              "      <th>Airline</th>\n",
              "      <th>Flight_No</th>\n",
              "      <th>Departure_Time</th>\n",
              "      <th>Arrival_Time</th>\n",
              "      <th>Source</th>\n",
              "      <th>Destination</th>\n",
              "      <th>Stops</th>\n",
              "      <th>Duration</th>\n",
              "      <th>Price</th>\n",
              "      <th>Class</th>\n",
              "      <th>Day</th>\n",
              "      <th>Month</th>\n",
              "      <th>Year</th>\n",
              "    </tr>\n",
              "  </thead>\n",
              "  <tbody>\n",
              "    <tr>\n",
              "      <th>0</th>\n",
              "      <td>IndiGo</td>\n",
              "      <td>6E-2519</td>\n",
              "      <td>23:00</td>\n",
              "      <td>01:20\\n+ 1 day</td>\n",
              "      <td>New Delhi</td>\n",
              "      <td>Mumbai</td>\n",
              "      <td>Non Stop</td>\n",
              "      <td>140</td>\n",
              "      <td>5899</td>\n",
              "      <td>Economy Class</td>\n",
              "      <td>6</td>\n",
              "      <td>1</td>\n",
              "      <td>2023</td>\n",
              "    </tr>\n",
              "    <tr>\n",
              "      <th>1</th>\n",
              "      <td>Go First</td>\n",
              "      <td>G8-336</td>\n",
              "      <td>17:35</td>\n",
              "      <td>19:45</td>\n",
              "      <td>New Delhi</td>\n",
              "      <td>Mumbai</td>\n",
              "      <td>Non Stop</td>\n",
              "      <td>130</td>\n",
              "      <td>6502</td>\n",
              "      <td>Economy Class</td>\n",
              "      <td>6</td>\n",
              "      <td>1</td>\n",
              "      <td>2023</td>\n",
              "    </tr>\n",
              "    <tr>\n",
              "      <th>2</th>\n",
              "      <td>Go First</td>\n",
              "      <td>G8-323</td>\n",
              "      <td>18:40</td>\n",
              "      <td>20:55</td>\n",
              "      <td>New Delhi</td>\n",
              "      <td>Mumbai</td>\n",
              "      <td>Non Stop</td>\n",
              "      <td>135</td>\n",
              "      <td>6502</td>\n",
              "      <td>Economy Class</td>\n",
              "      <td>6</td>\n",
              "      <td>1</td>\n",
              "      <td>2023</td>\n",
              "    </tr>\n",
              "    <tr>\n",
              "      <th>3</th>\n",
              "      <td>Vistara</td>\n",
              "      <td>UK-933</td>\n",
              "      <td>15:30</td>\n",
              "      <td>17:35</td>\n",
              "      <td>New Delhi</td>\n",
              "      <td>Mumbai</td>\n",
              "      <td>Non Stop</td>\n",
              "      <td>125</td>\n",
              "      <td>6795</td>\n",
              "      <td>Economy Class</td>\n",
              "      <td>6</td>\n",
              "      <td>1</td>\n",
              "      <td>2023</td>\n",
              "    </tr>\n",
              "    <tr>\n",
              "      <th>4</th>\n",
              "      <td>Vistara</td>\n",
              "      <td>UK-955</td>\n",
              "      <td>17:45</td>\n",
              "      <td>19:55</td>\n",
              "      <td>New Delhi</td>\n",
              "      <td>Mumbai</td>\n",
              "      <td>Non Stop</td>\n",
              "      <td>130</td>\n",
              "      <td>6795</td>\n",
              "      <td>Economy Class</td>\n",
              "      <td>6</td>\n",
              "      <td>1</td>\n",
              "      <td>2023</td>\n",
              "    </tr>\n",
              "  </tbody>\n",
              "</table>\n",
              "</div>\n",
              "      <button class=\"colab-df-convert\" onclick=\"convertToInteractive('df-4d1ecf47-250c-44d6-8027-35bdfab060ea')\"\n",
              "              title=\"Convert this dataframe to an interactive table.\"\n",
              "              style=\"display:none;\">\n",
              "        \n",
              "  <svg xmlns=\"http://www.w3.org/2000/svg\" height=\"24px\"viewBox=\"0 0 24 24\"\n",
              "       width=\"24px\">\n",
              "    <path d=\"M0 0h24v24H0V0z\" fill=\"none\"/>\n",
              "    <path d=\"M18.56 5.44l.94 2.06.94-2.06 2.06-.94-2.06-.94-.94-2.06-.94 2.06-2.06.94zm-11 1L8.5 8.5l.94-2.06 2.06-.94-2.06-.94L8.5 2.5l-.94 2.06-2.06.94zm10 10l.94 2.06.94-2.06 2.06-.94-2.06-.94-.94-2.06-.94 2.06-2.06.94z\"/><path d=\"M17.41 7.96l-1.37-1.37c-.4-.4-.92-.59-1.43-.59-.52 0-1.04.2-1.43.59L10.3 9.45l-7.72 7.72c-.78.78-.78 2.05 0 2.83L4 21.41c.39.39.9.59 1.41.59.51 0 1.02-.2 1.41-.59l7.78-7.78 2.81-2.81c.8-.78.8-2.07 0-2.86zM5.41 20L4 18.59l7.72-7.72 1.47 1.35L5.41 20z\"/>\n",
              "  </svg>\n",
              "      </button>\n",
              "      \n",
              "  <style>\n",
              "    .colab-df-container {\n",
              "      display:flex;\n",
              "      flex-wrap:wrap;\n",
              "      gap: 12px;\n",
              "    }\n",
              "\n",
              "    .colab-df-convert {\n",
              "      background-color: #E8F0FE;\n",
              "      border: none;\n",
              "      border-radius: 50%;\n",
              "      cursor: pointer;\n",
              "      display: none;\n",
              "      fill: #1967D2;\n",
              "      height: 32px;\n",
              "      padding: 0 0 0 0;\n",
              "      width: 32px;\n",
              "    }\n",
              "\n",
              "    .colab-df-convert:hover {\n",
              "      background-color: #E2EBFA;\n",
              "      box-shadow: 0px 1px 2px rgba(60, 64, 67, 0.3), 0px 1px 3px 1px rgba(60, 64, 67, 0.15);\n",
              "      fill: #174EA6;\n",
              "    }\n",
              "\n",
              "    [theme=dark] .colab-df-convert {\n",
              "      background-color: #3B4455;\n",
              "      fill: #D2E3FC;\n",
              "    }\n",
              "\n",
              "    [theme=dark] .colab-df-convert:hover {\n",
              "      background-color: #434B5C;\n",
              "      box-shadow: 0px 1px 3px 1px rgba(0, 0, 0, 0.15);\n",
              "      filter: drop-shadow(0px 1px 2px rgba(0, 0, 0, 0.3));\n",
              "      fill: #FFFFFF;\n",
              "    }\n",
              "  </style>\n",
              "\n",
              "      <script>\n",
              "        const buttonEl =\n",
              "          document.querySelector('#df-4d1ecf47-250c-44d6-8027-35bdfab060ea button.colab-df-convert');\n",
              "        buttonEl.style.display =\n",
              "          google.colab.kernel.accessAllowed ? 'block' : 'none';\n",
              "\n",
              "        async function convertToInteractive(key) {\n",
              "          const element = document.querySelector('#df-4d1ecf47-250c-44d6-8027-35bdfab060ea');\n",
              "          const dataTable =\n",
              "            await google.colab.kernel.invokeFunction('convertToInteractive',\n",
              "                                                     [key], {});\n",
              "          if (!dataTable) return;\n",
              "\n",
              "          const docLinkHtml = 'Like what you see? Visit the ' +\n",
              "            '<a target=\"_blank\" href=https://colab.research.google.com/notebooks/data_table.ipynb>data table notebook</a>'\n",
              "            + ' to learn more about interactive tables.';\n",
              "          element.innerHTML = '';\n",
              "          dataTable['output_type'] = 'display_data';\n",
              "          await google.colab.output.renderOutput(dataTable, element);\n",
              "          const docLink = document.createElement('div');\n",
              "          docLink.innerHTML = docLinkHtml;\n",
              "          element.appendChild(docLink);\n",
              "        }\n",
              "      </script>\n",
              "    </div>\n",
              "  </div>\n",
              "  "
            ]
          },
          "metadata": {},
          "execution_count": 24
        }
      ]
    },
    {
      "cell_type": "code",
      "source": [
        "Categorical = ['Airline','Class','Stops','Source','Destination']"
      ],
      "metadata": {
        "id": "zoBUGjnnvBjZ"
      },
      "execution_count": 25,
      "outputs": []
    },
    {
      "cell_type": "code",
      "source": [
        "pd.set_option('display.max_rows',None)\n",
        "for i in Categorical :\n",
        "    print(i)\n",
        "    print(df[i].value_counts())\n",
        "    print('='*100)"
      ],
      "metadata": {
        "colab": {
          "base_uri": "https://localhost:8080/"
        },
        "id": "J944adoOvroW",
        "outputId": "4b3db7e7-ce0f-436b-a633-46be0ebabbfb"
      },
      "execution_count": 26,
      "outputs": [
        {
          "output_type": "stream",
          "name": "stdout",
          "text": [
            "Airline\n",
            "Vistara Premium Economy    620\n",
            "Vistara Business           391\n",
            "IndiGo                     345\n",
            "Air India Business         345\n",
            "Air India                  199\n",
            "Vistara                    194\n",
            "Go First                   144\n",
            "Air Asia                    77\n",
            "SpiceJet                    53\n",
            "Name: Airline, dtype: int64\n",
            "====================================================================================================\n",
            "Class\n",
            "Economy Class            1012\n",
            "Business Class            736\n",
            "Premium Economy Class     620\n",
            "Name: Class, dtype: int64\n",
            "====================================================================================================\n",
            "Stops\n",
            "1 Stop       1511\n",
            "Non Stop      855\n",
            "2 Stop(s)       2\n",
            "Name: Stops, dtype: int64\n",
            "====================================================================================================\n",
            "Source\n",
            "New Delhi    1444\n",
            "Mumbai        924\n",
            "Name: Source, dtype: int64\n",
            "====================================================================================================\n",
            "Destination\n",
            "Mumbai       1444\n",
            "New Delhi     924\n",
            "Name: Destination, dtype: int64\n",
            "====================================================================================================\n"
          ]
        }
      ]
    },
    {
      "cell_type": "code",
      "source": [
        "df[Categorical].describe().T"
      ],
      "metadata": {
        "colab": {
          "base_uri": "https://localhost:8080/",
          "height": 206
        },
        "id": "uwAhNVxCwc43",
        "outputId": "d5a289a3-2844-489b-edd0-3fedfdf57ce4"
      },
      "execution_count": 27,
      "outputs": [
        {
          "output_type": "execute_result",
          "data": {
            "text/plain": [
              "            count unique                      top  freq\n",
              "Airline      2368      9  Vistara Premium Economy   620\n",
              "Class        2368      3            Economy Class  1012\n",
              "Stops        2368      3                   1 Stop  1511\n",
              "Source       2368      2                New Delhi  1444\n",
              "Destination  2368      2                   Mumbai  1444"
            ],
            "text/html": [
              "\n",
              "  <div id=\"df-40e53c9c-116e-4bbc-bad2-3d19cc9ebb17\">\n",
              "    <div class=\"colab-df-container\">\n",
              "      <div>\n",
              "<style scoped>\n",
              "    .dataframe tbody tr th:only-of-type {\n",
              "        vertical-align: middle;\n",
              "    }\n",
              "\n",
              "    .dataframe tbody tr th {\n",
              "        vertical-align: top;\n",
              "    }\n",
              "\n",
              "    .dataframe thead th {\n",
              "        text-align: right;\n",
              "    }\n",
              "</style>\n",
              "<table border=\"1\" class=\"dataframe\">\n",
              "  <thead>\n",
              "    <tr style=\"text-align: right;\">\n",
              "      <th></th>\n",
              "      <th>count</th>\n",
              "      <th>unique</th>\n",
              "      <th>top</th>\n",
              "      <th>freq</th>\n",
              "    </tr>\n",
              "  </thead>\n",
              "  <tbody>\n",
              "    <tr>\n",
              "      <th>Airline</th>\n",
              "      <td>2368</td>\n",
              "      <td>9</td>\n",
              "      <td>Vistara Premium Economy</td>\n",
              "      <td>620</td>\n",
              "    </tr>\n",
              "    <tr>\n",
              "      <th>Class</th>\n",
              "      <td>2368</td>\n",
              "      <td>3</td>\n",
              "      <td>Economy Class</td>\n",
              "      <td>1012</td>\n",
              "    </tr>\n",
              "    <tr>\n",
              "      <th>Stops</th>\n",
              "      <td>2368</td>\n",
              "      <td>3</td>\n",
              "      <td>1 Stop</td>\n",
              "      <td>1511</td>\n",
              "    </tr>\n",
              "    <tr>\n",
              "      <th>Source</th>\n",
              "      <td>2368</td>\n",
              "      <td>2</td>\n",
              "      <td>New Delhi</td>\n",
              "      <td>1444</td>\n",
              "    </tr>\n",
              "    <tr>\n",
              "      <th>Destination</th>\n",
              "      <td>2368</td>\n",
              "      <td>2</td>\n",
              "      <td>Mumbai</td>\n",
              "      <td>1444</td>\n",
              "    </tr>\n",
              "  </tbody>\n",
              "</table>\n",
              "</div>\n",
              "      <button class=\"colab-df-convert\" onclick=\"convertToInteractive('df-40e53c9c-116e-4bbc-bad2-3d19cc9ebb17')\"\n",
              "              title=\"Convert this dataframe to an interactive table.\"\n",
              "              style=\"display:none;\">\n",
              "        \n",
              "  <svg xmlns=\"http://www.w3.org/2000/svg\" height=\"24px\"viewBox=\"0 0 24 24\"\n",
              "       width=\"24px\">\n",
              "    <path d=\"M0 0h24v24H0V0z\" fill=\"none\"/>\n",
              "    <path d=\"M18.56 5.44l.94 2.06.94-2.06 2.06-.94-2.06-.94-.94-2.06-.94 2.06-2.06.94zm-11 1L8.5 8.5l.94-2.06 2.06-.94-2.06-.94L8.5 2.5l-.94 2.06-2.06.94zm10 10l.94 2.06.94-2.06 2.06-.94-2.06-.94-.94-2.06-.94 2.06-2.06.94z\"/><path d=\"M17.41 7.96l-1.37-1.37c-.4-.4-.92-.59-1.43-.59-.52 0-1.04.2-1.43.59L10.3 9.45l-7.72 7.72c-.78.78-.78 2.05 0 2.83L4 21.41c.39.39.9.59 1.41.59.51 0 1.02-.2 1.41-.59l7.78-7.78 2.81-2.81c.8-.78.8-2.07 0-2.86zM5.41 20L4 18.59l7.72-7.72 1.47 1.35L5.41 20z\"/>\n",
              "  </svg>\n",
              "      </button>\n",
              "      \n",
              "  <style>\n",
              "    .colab-df-container {\n",
              "      display:flex;\n",
              "      flex-wrap:wrap;\n",
              "      gap: 12px;\n",
              "    }\n",
              "\n",
              "    .colab-df-convert {\n",
              "      background-color: #E8F0FE;\n",
              "      border: none;\n",
              "      border-radius: 50%;\n",
              "      cursor: pointer;\n",
              "      display: none;\n",
              "      fill: #1967D2;\n",
              "      height: 32px;\n",
              "      padding: 0 0 0 0;\n",
              "      width: 32px;\n",
              "    }\n",
              "\n",
              "    .colab-df-convert:hover {\n",
              "      background-color: #E2EBFA;\n",
              "      box-shadow: 0px 1px 2px rgba(60, 64, 67, 0.3), 0px 1px 3px 1px rgba(60, 64, 67, 0.15);\n",
              "      fill: #174EA6;\n",
              "    }\n",
              "\n",
              "    [theme=dark] .colab-df-convert {\n",
              "      background-color: #3B4455;\n",
              "      fill: #D2E3FC;\n",
              "    }\n",
              "\n",
              "    [theme=dark] .colab-df-convert:hover {\n",
              "      background-color: #434B5C;\n",
              "      box-shadow: 0px 1px 3px 1px rgba(0, 0, 0, 0.15);\n",
              "      filter: drop-shadow(0px 1px 2px rgba(0, 0, 0, 0.3));\n",
              "      fill: #FFFFFF;\n",
              "    }\n",
              "  </style>\n",
              "\n",
              "      <script>\n",
              "        const buttonEl =\n",
              "          document.querySelector('#df-40e53c9c-116e-4bbc-bad2-3d19cc9ebb17 button.colab-df-convert');\n",
              "        buttonEl.style.display =\n",
              "          google.colab.kernel.accessAllowed ? 'block' : 'none';\n",
              "\n",
              "        async function convertToInteractive(key) {\n",
              "          const element = document.querySelector('#df-40e53c9c-116e-4bbc-bad2-3d19cc9ebb17');\n",
              "          const dataTable =\n",
              "            await google.colab.kernel.invokeFunction('convertToInteractive',\n",
              "                                                     [key], {});\n",
              "          if (!dataTable) return;\n",
              "\n",
              "          const docLinkHtml = 'Like what you see? Visit the ' +\n",
              "            '<a target=\"_blank\" href=https://colab.research.google.com/notebooks/data_table.ipynb>data table notebook</a>'\n",
              "            + ' to learn more about interactive tables.';\n",
              "          element.innerHTML = '';\n",
              "          dataTable['output_type'] = 'display_data';\n",
              "          await google.colab.output.renderOutput(dataTable, element);\n",
              "          const docLink = document.createElement('div');\n",
              "          docLink.innerHTML = docLinkHtml;\n",
              "          element.appendChild(docLink);\n",
              "        }\n",
              "      </script>\n",
              "    </div>\n",
              "  </div>\n",
              "  "
            ]
          },
          "metadata": {},
          "execution_count": 27
        }
      ]
    },
    {
      "cell_type": "code",
      "source": [
        "for i in Categorical:\n",
        "    plt.figure(figsize=(10,6))\n",
        "    df[i].value_counts().plot.pie(autopct='%1.1f%%')\n",
        "    centre=plt.Circle((0,0),0.7,fc='white')\n",
        "    fig=plt.gcf()\n",
        "    fig.gca().add_artist(centre)\n",
        "    plt.xlabel(i)\n",
        "    plt.ylabel('')\n",
        "    plt.figure()"
      ],
      "metadata": {
        "colab": {
          "base_uri": "https://localhost:8080/",
          "height": 1000
        },
        "id": "vLCmE2_SMBmR",
        "outputId": "74be8ddc-43e4-4e3f-921d-56541889f537"
      },
      "execution_count": 28,
      "outputs": [
        {
          "output_type": "display_data",
          "data": {
            "text/plain": [
              "<Figure size 720x432 with 1 Axes>"
            ],
            "image/png": "[encoded data removed]"
          },
          "metadata": {}
        },
        {
          "output_type": "display_data",
          "data": {
            "text/plain": [
              "<Figure size 432x288 with 0 Axes>"
            ]
          },
          "metadata": {}
        },
        {
          "output_type": "display_data",
          "data": {
            "text/plain": [
              "<Figure size 720x432 with 1 Axes>"
            ],
            "image/png": "[encoded data removed]"
          },
          "metadata": {}
        },
        {
          "output_type": "display_data",
          "data": {
            "text/plain": [
              "<Figure size 432x288 with 0 Axes>"
            ]
          },
          "metadata": {}
        },
        {
          "output_type": "display_data",
          "data": {
            "text/plain": [
              "<Figure size 720x432 with 1 Axes>"
            ],
            "image/png": "[encoded data removed]"
          },
          "metadata": {}
        },
        {
          "output_type": "display_data",
          "data": {
            "text/plain": [
              "<Figure size 432x288 with 0 Axes>"
            ]
          },
          "metadata": {}
        },
        {
          "output_type": "display_data",
          "data": {
            "text/plain": [
              "<Figure size 720x432 with 1 Axes>"
            ],
            "image/png": "[encoded data removed]"
          },
          "metadata": {}
        },
        {
          "output_type": "display_data",
          "data": {
            "text/plain": [
              "<Figure size 432x288 with 0 Axes>"
            ]
          },
          "metadata": {}
        },
        {
          "output_type": "display_data",
          "data": {
            "text/plain": [
              "<Figure size 720x432 with 1 Axes>"
            ],
            "image/png": "[encoded data removed]"
          },
          "metadata": {}
        },
        {
          "output_type": "display_data",
          "data": {
            "text/plain": [
              "<Figure size 432x288 with 0 Axes>"
            ]
          },
          "metadata": {}
        }
      ]
    },
    {
      "cell_type": "markdown",
      "source": [
        "* We can see maximum number of flights run by **Vistara Premium Economy** while minimum Flights run by Spicejet\n",
        "\n",
        "* *Around 26% of flights of Premium Economy Class and 31% of flights are of Business class*\n",
        "\n",
        "* *42.7% flights are of Ecomony class, as they are low cost of flight & most of people prefer it*"
      ],
      "metadata": {
        "id": "GKGJhLzPOUhb"
      }
    },
    {
      "cell_type": "code",
      "source": [
        "plt.figure(figsize=(12,8))\n",
        "sns.barplot(x = df['Day'], y = df['Price'],hue=df['Class'], palette='gist_earth')\n",
        "plt.title('Availability of flight on day basis', fontsize=22)\n",
        "plt.xlabel('Day',fontsize=18)\n",
        "plt.ylabel('Price',fontsize=18)\n",
        "plt.xticks(fontsize=16,rotation=0)\n",
        "plt.yticks(fontsize=16)\n",
        "plt.legend(fontsize=16)\n",
        "plt.show()"
      ],
      "metadata": {
        "colab": {
          "base_uri": "https://localhost:8080/",
          "height": 532
        },
        "id": "CbCqb2ijM0kE",
        "outputId": "597c7714-5a4f-482e-f933-b8196b8feb34"
      },
      "execution_count": 29,
      "outputs": [
        {
          "output_type": "display_data",
          "data": {
            "text/plain": [
              "<Figure size 864x576 with 1 Axes>"
            ],
            "image/png": "[encoded data removed]"
          },
          "metadata": {
            "needs_background": "light"
          }
        }
      ]
    },
    {
      "cell_type": "markdown",
      "source": [
        "* The average price of all the classes are on higher side on 6th Jan2023 i.e **Friday**\n",
        "\n",
        "* So if we book flights a day before, it will be costlier "
      ],
      "metadata": {
        "id": "O4z16XOWSICi"
      }
    },
    {
      "cell_type": "code",
      "source": [
        "plt.figure(figsize=(12,8))\n",
        "sns.barplot(x = df['Stops'], y = df['Price'],hue=df['Class'], palette='Accent')\n",
        "plt.title('Availability of flight on stops basis', fontsize=22)\n",
        "plt.xlabel('Stops',fontsize=18)\n",
        "plt.ylabel('Price',fontsize=18)\n",
        "plt.xticks(fontsize=16,rotation=0)\n",
        "plt.yticks(fontsize=16)\n",
        "plt.legend(fontsize=16)\n",
        "plt.show()"
      ],
      "metadata": {
        "colab": {
          "base_uri": "https://localhost:8080/",
          "height": 532
        },
        "id": "efP-Nsy2TPwB",
        "outputId": "9b08af86-7ca9-408f-f0d1-2a618190f1c6"
      },
      "execution_count": 30,
      "outputs": [
        {
          "output_type": "display_data",
          "data": {
            "text/plain": [
              "<Figure size 864x576 with 1 Axes>"
            ],
            "image/png": "[encoded data removed]"
          },
          "metadata": {
            "needs_background": "light"
          }
        }
      ]
    },
    {
      "cell_type": "markdown",
      "source": [
        "* **Non stop flights are cheapest**\n",
        "\n",
        "* As number of stops increases, the price of flight increases"
      ],
      "metadata": {
        "id": "_QQlWUWSVhio"
      }
    },
    {
      "cell_type": "code",
      "source": [
        "plt.figure(figsize=(12,8))\n",
        "sns.barplot(x = df['Airline'], y = df['Price'],hue=df['Class'], palette='inferno_r')\n",
        "plt.title('Price of flight on the basis of Airline', fontsize=22)\n",
        "plt.xlabel('Airline',fontsize=18)\n",
        "plt.ylabel('Price',fontsize=18)\n",
        "plt.xticks(fontsize=16,rotation=90)\n",
        "plt.yticks(fontsize=16)\n",
        "plt.legend(fontsize=16)\n",
        "plt.show()"
      ],
      "metadata": {
        "colab": {
          "base_uri": "https://localhost:8080/",
          "height": 729
        },
        "id": "PPb0XhGEWF_K",
        "outputId": "f0e4a082-2311-455a-db6b-bbbc92330cc4"
      },
      "execution_count": 31,
      "outputs": [
        {
          "output_type": "display_data",
          "data": {
            "text/plain": [
              "<Figure size 864x576 with 1 Axes>"
            ],
            "image/png": "[encoded data removed]"
          },
          "metadata": {
            "needs_background": "light"
          }
        }
      ]
    },
    {
      "cell_type": "markdown",
      "source": [
        "* **Spicejet** flights have lowest fare among all the flights\n",
        "\n",
        "* *Followed by Go First and Indigo having lower price of flights*\n"
      ],
      "metadata": {
        "id": "B3kXcqQeXpEQ"
      }
    },
    {
      "cell_type": "code",
      "source": [
        "plt.figure(figsize=(12,8))\n",
        "sns.barplot(x = df['Departure_Time'], y = df['Price'], palette='copper_r')\n",
        "plt.title('Price of flight on the basis of Departures', fontsize=22)\n",
        "plt.xlabel('Departure_Time',fontsize=18)\n",
        "plt.ylabel('Price',fontsize=18)\n",
        "plt.xticks(fontsize=16,rotation=90)\n",
        "plt.yticks(fontsize=16)\n",
        "plt.legend(fontsize=16)\n",
        "plt.show()"
      ],
      "metadata": {
        "id": "MQ0VKq_yZzCJ",
        "colab": {
          "base_uri": "https://localhost:8080/",
          "height": 580
        },
        "outputId": "d2ebe325-4f4f-470b-b752-f05e8ffaadc3"
      },
      "execution_count": 33,
      "outputs": [
        {
          "output_type": "stream",
          "name": "stderr",
          "text": [
            "WARNING:matplotlib.legend:No handles with labels found to put in legend.\n"
          ]
        },
        {
          "output_type": "display_data",
          "data": {
            "text/plain": [
              "<Figure size 864x576 with 1 Axes>"
            ],
            "image/png": "[encoded data removed]"
          },
          "metadata": {
            "needs_background": "light"
          }
        }
      ]
    },
    {
      "cell_type": "code",
      "source": [
        "plt.rcParams[\"figure.autolayout\"] = True\n",
        "sns.set_palette('rainbow_r')\n",
        "plt.figure(figsize =(10,8))\n",
        "sns.swarmplot(x=df['Airline'],y=df['Duration'], hue =df['Class'])\n",
        "plt.title(\"Airline VS Duration\",fontsize=20,fontweight ='bold')\n",
        "plt.xlabel('Airline',fontsize = 20,fontweight ='bold')\n",
        "plt.ylabel('Duration',fontsize = 20,fontweight ='bold')\n",
        "plt.tight_layout()\n",
        "plt.show()"
      ],
      "metadata": {
        "colab": {
          "base_uri": "https://localhost:8080/",
          "height": 585
        },
        "id": "05EEcYqy363L",
        "outputId": "ce0132e2-9540-4eb4-8f99-58cb40c75579"
      },
      "execution_count": 34,
      "outputs": [
        {
          "output_type": "display_data",
          "data": {
            "text/plain": [
              "<Figure size 720x576 with 1 Axes>"
            ],
            "image/png": "[encoded data removed]"
          },
          "metadata": {
            "needs_background": "light"
          }
        }
      ]
    },
    {
      "cell_type": "code",
      "source": [
        "num = ['Price', 'Duration','Day']"
      ],
      "metadata": {
        "id": "z01pUvTi70gW"
      },
      "execution_count": 41,
      "outputs": []
    },
    {
      "cell_type": "code",
      "source": [
        "df.describe().T"
      ],
      "metadata": {
        "colab": {
          "base_uri": "https://localhost:8080/",
          "height": 206
        },
        "id": "_eNyqCkc8dMS",
        "outputId": "803d5491-93a7-4664-9878-9632542cd011"
      },
      "execution_count": 37,
      "outputs": [
        {
          "output_type": "execute_result",
          "data": {
            "text/plain": [
              "           count          mean           std     min     25%      50%  \\\n",
              "Duration  2368.0    570.116132    474.559584   110.0   135.0    410.0   \n",
              "Price     2368.0  21102.645693  17004.632631  4496.0  7320.0  15112.0   \n",
              "Day       2368.0     11.241132      3.114443     6.0     9.0     11.0   \n",
              "Month     2368.0      1.000000      0.000000     1.0     1.0      1.0   \n",
              "Year      2368.0   2023.000000      0.000000  2023.0  2023.0   2023.0   \n",
              "\n",
              "              75%       max  \n",
              "Duration    880.0    1710.0  \n",
              "Price     30249.0  109881.0  \n",
              "Day          14.0      16.0  \n",
              "Month         1.0       1.0  \n",
              "Year       2023.0    2023.0  "
            ],
            "text/html": [
              "\n",
              "  <div id=\"df-7316a3ab-5a96-4364-b7ac-bb0c07f4c4e5\">\n",
              "    <div class=\"colab-df-container\">\n",
              "      <div>\n",
              "<style scoped>\n",
              "    .dataframe tbody tr th:only-of-type {\n",
              "        vertical-align: middle;\n",
              "    }\n",
              "\n",
              "    .dataframe tbody tr th {\n",
              "        vertical-align: top;\n",
              "    }\n",
              "\n",
              "    .dataframe thead th {\n",
              "        text-align: right;\n",
              "    }\n",
              "</style>\n",
              "<table border=\"1\" class=\"dataframe\">\n",
              "  <thead>\n",
              "    <tr style=\"text-align: right;\">\n",
              "      <th></th>\n",
              "      <th>count</th>\n",
              "      <th>mean</th>\n",
              "      <th>std</th>\n",
              "      <th>min</th>\n",
              "      <th>25%</th>\n",
              "      <th>50%</th>\n",
              "      <th>75%</th>\n",
              "      <th>max</th>\n",
              "    </tr>\n",
              "  </thead>\n",
              "  <tbody>\n",
              "    <tr>\n",
              "      <th>Duration</th>\n",
              "      <td>2368.0</td>\n",
              "      <td>570.116132</td>\n",
              "      <td>474.559584</td>\n",
              "      <td>110.0</td>\n",
              "      <td>135.0</td>\n",
              "      <td>410.0</td>\n",
              "      <td>880.0</td>\n",
              "      <td>1710.0</td>\n",
              "    </tr>\n",
              "    <tr>\n",
              "      <th>Price</th>\n",
              "      <td>2368.0</td>\n",
              "      <td>21102.645693</td>\n",
              "      <td>17004.632631</td>\n",
              "      <td>4496.0</td>\n",
              "      <td>7320.0</td>\n",
              "      <td>15112.0</td>\n",
              "      <td>30249.0</td>\n",
              "      <td>109881.0</td>\n",
              "    </tr>\n",
              "    <tr>\n",
              "      <th>Day</th>\n",
              "      <td>2368.0</td>\n",
              "      <td>11.241132</td>\n",
              "      <td>3.114443</td>\n",
              "      <td>6.0</td>\n",
              "      <td>9.0</td>\n",
              "      <td>11.0</td>\n",
              "      <td>14.0</td>\n",
              "      <td>16.0</td>\n",
              "    </tr>\n",
              "    <tr>\n",
              "      <th>Month</th>\n",
              "      <td>2368.0</td>\n",
              "      <td>1.000000</td>\n",
              "      <td>0.000000</td>\n",
              "      <td>1.0</td>\n",
              "      <td>1.0</td>\n",
              "      <td>1.0</td>\n",
              "      <td>1.0</td>\n",
              "      <td>1.0</td>\n",
              "    </tr>\n",
              "    <tr>\n",
              "      <th>Year</th>\n",
              "      <td>2368.0</td>\n",
              "      <td>2023.000000</td>\n",
              "      <td>0.000000</td>\n",
              "      <td>2023.0</td>\n",
              "      <td>2023.0</td>\n",
              "      <td>2023.0</td>\n",
              "      <td>2023.0</td>\n",
              "      <td>2023.0</td>\n",
              "    </tr>\n",
              "  </tbody>\n",
              "</table>\n",
              "</div>\n",
              "      <button class=\"colab-df-convert\" onclick=\"convertToInteractive('df-7316a3ab-5a96-4364-b7ac-bb0c07f4c4e5')\"\n",
              "              title=\"Convert this dataframe to an interactive table.\"\n",
              "              style=\"display:none;\">\n",
              "        \n",
              "  <svg xmlns=\"http://www.w3.org/2000/svg\" height=\"24px\"viewBox=\"0 0 24 24\"\n",
              "       width=\"24px\">\n",
              "    <path d=\"M0 0h24v24H0V0z\" fill=\"none\"/>\n",
              "    <path d=\"M18.56 5.44l.94 2.06.94-2.06 2.06-.94-2.06-.94-.94-2.06-.94 2.06-2.06.94zm-11 1L8.5 8.5l.94-2.06 2.06-.94-2.06-.94L8.5 2.5l-.94 2.06-2.06.94zm10 10l.94 2.06.94-2.06 2.06-.94-2.06-.94-.94-2.06-.94 2.06-2.06.94z\"/><path d=\"M17.41 7.96l-1.37-1.37c-.4-.4-.92-.59-1.43-.59-.52 0-1.04.2-1.43.59L10.3 9.45l-7.72 7.72c-.78.78-.78 2.05 0 2.83L4 21.41c.39.39.9.59 1.41.59.51 0 1.02-.2 1.41-.59l7.78-7.78 2.81-2.81c.8-.78.8-2.07 0-2.86zM5.41 20L4 18.59l7.72-7.72 1.47 1.35L5.41 20z\"/>\n",
              "  </svg>\n",
              "      </button>\n",
              "      \n",
              "  <style>\n",
              "    .colab-df-container {\n",
              "      display:flex;\n",
              "      flex-wrap:wrap;\n",
              "      gap: 12px;\n",
              "    }\n",
              "\n",
              "    .colab-df-convert {\n",
              "      background-color: #E8F0FE;\n",
              "      border: none;\n",
              "      border-radius: 50%;\n",
              "      cursor: pointer;\n",
              "      display: none;\n",
              "      fill: #1967D2;\n",
              "      height: 32px;\n",
              "      padding: 0 0 0 0;\n",
              "      width: 32px;\n",
              "    }\n",
              "\n",
              "    .colab-df-convert:hover {\n",
              "      background-color: #E2EBFA;\n",
              "      box-shadow: 0px 1px 2px rgba(60, 64, 67, 0.3), 0px 1px 3px 1px rgba(60, 64, 67, 0.15);\n",
              "      fill: #174EA6;\n",
              "    }\n",
              "\n",
              "    [theme=dark] .colab-df-convert {\n",
              "      background-color: #3B4455;\n",
              "      fill: #D2E3FC;\n",
              "    }\n",
              "\n",
              "    [theme=dark] .colab-df-convert:hover {\n",
              "      background-color: #434B5C;\n",
              "      box-shadow: 0px 1px 3px 1px rgba(0, 0, 0, 0.15);\n",
              "      filter: drop-shadow(0px 1px 2px rgba(0, 0, 0, 0.3));\n",
              "      fill: #FFFFFF;\n",
              "    }\n",
              "  </style>\n",
              "\n",
              "      <script>\n",
              "        const buttonEl =\n",
              "          document.querySelector('#df-7316a3ab-5a96-4364-b7ac-bb0c07f4c4e5 button.colab-df-convert');\n",
              "        buttonEl.style.display =\n",
              "          google.colab.kernel.accessAllowed ? 'block' : 'none';\n",
              "\n",
              "        async function convertToInteractive(key) {\n",
              "          const element = document.querySelector('#df-7316a3ab-5a96-4364-b7ac-bb0c07f4c4e5');\n",
              "          const dataTable =\n",
              "            await google.colab.kernel.invokeFunction('convertToInteractive',\n",
              "                                                     [key], {});\n",
              "          if (!dataTable) return;\n",
              "\n",
              "          const docLinkHtml = 'Like what you see? Visit the ' +\n",
              "            '<a target=\"_blank\" href=https://colab.research.google.com/notebooks/data_table.ipynb>data table notebook</a>'\n",
              "            + ' to learn more about interactive tables.';\n",
              "          element.innerHTML = '';\n",
              "          dataTable['output_type'] = 'display_data';\n",
              "          await google.colab.output.renderOutput(dataTable, element);\n",
              "          const docLink = document.createElement('div');\n",
              "          docLink.innerHTML = docLinkHtml;\n",
              "          element.appendChild(docLink);\n",
              "        }\n",
              "      </script>\n",
              "    </div>\n",
              "  </div>\n",
              "  "
            ]
          },
          "metadata": {},
          "execution_count": 37
        }
      ]
    },
    {
      "cell_type": "code",
      "source": [
        "plt.figure(figsize=(10,10),facecolor='white')\n",
        "plotnumber=1\n",
        "for column in num:\n",
        "    if plotnumber<=3:\n",
        "        ax = plt.subplot(1,3,plotnumber)\n",
        "        sns.distplot(df[column])\n",
        "        plt.xlabel(column,fontsize=18)\n",
        "    plotnumber+=1\n",
        "plt.show()"
      ],
      "metadata": {
        "colab": {
          "base_uri": "https://localhost:8080/",
          "height": 729
        },
        "id": "JAGiAJmp83EC",
        "outputId": "58326d22-1de3-4639-d2d2-d36d73d9bba1"
      },
      "execution_count": 44,
      "outputs": [
        {
          "output_type": "display_data",
          "data": {
            "text/plain": [
              "<Figure size 720x720 with 3 Axes>"
            ],
            "image/png": "[encoded data removed]"
          },
          "metadata": {}
        }
      ]
    },
    {
      "cell_type": "markdown",
      "source": [
        "*Data distribution of* **Price** and **Duration** *are positively skewed*"
      ],
      "metadata": {
        "id": "CCXolnQ29wlk"
      }
    },
    {
      "cell_type": "code",
      "source": [
        "df.skew()"
      ],
      "metadata": {
        "colab": {
          "base_uri": "https://localhost:8080/"
        },
        "id": "iNCCdN4B9qUH",
        "outputId": "275517ae-86aa-4c55-dca5-bb7bee21687d"
      },
      "execution_count": 45,
      "outputs": [
        {
          "output_type": "execute_result",
          "data": {
            "text/plain": [
              "Duration    0.871297\n",
              "Price       1.261315\n",
              "Day        -0.072431\n",
              "Month       0.000000\n",
              "Year        0.000000\n",
              "dtype: float64"
            ]
          },
          "metadata": {},
          "execution_count": 45
        }
      ]
    },
    {
      "cell_type": "markdown",
      "source": [
        "# **Feature Engineering**"
      ],
      "metadata": {
        "id": "2EvF5T2E4LnD"
      }
    },
    {
      "cell_type": "markdown",
      "source": [
        "**Encoding the Categorical variable**"
      ],
      "metadata": {
        "id": "JGA_nXFp7l0t"
      }
    },
    {
      "cell_type": "code",
      "source": [
        "from sklearn.preprocessing import LabelEncoder\n",
        "le = LabelEncoder()"
      ],
      "metadata": {
        "id": "d22BYE464QQm"
      },
      "execution_count": 47,
      "outputs": []
    },
    {
      "cell_type": "code",
      "source": [
        "df['Flight_No']= df['Flight_No'].map(lambda x: str(x).replace('-',''))\n",
        "df['Flight_No']= df['Flight_No'].map(lambda x: str(x).replace('/',''))"
      ],
      "metadata": {
        "id": "FxILnum8Agfr"
      },
      "execution_count": 48,
      "outputs": []
    },
    {
      "cell_type": "code",
      "source": [
        "for i in df.columns:\n",
        "    if df[i].dtypes == \"object\":\n",
        "        df[i] = le.fit_transform(df[i].values.reshape(-1,1))"
      ],
      "metadata": {
        "id": "Hl2RxpXgBI7U"
      },
      "execution_count": 50,
      "outputs": []
    },
    {
      "cell_type": "code",
      "source": [
        "df.head()"
      ],
      "metadata": {
        "colab": {
          "base_uri": "https://localhost:8080/",
          "height": 206
        },
        "id": "7nybk9pSBWyG",
        "outputId": "f06acf31-24fc-403d-ff16-7ca200ddec6d"
      },
      "execution_count": 51,
      "outputs": [
        {
          "output_type": "execute_result",
          "data": {
            "text/plain": [
              "   Airline  Flight_No  Departure_Time  Arrival_Time  Source  Destination  \\\n",
              "0        4         45             162            15       1            0   \n",
              "1        3        265             116           184       1            0   \n",
              "2        3        259             124           199       1            0   \n",
              "3        6        518              97           165       1            0   \n",
              "4        6        536             117           187       1            0   \n",
              "\n",
              "   Stops  Duration  Price  Class  Day  Month  Year  \n",
              "0      2       140   5899      1    6      1  2023  \n",
              "1      2       130   6502      1    6      1  2023  \n",
              "2      2       135   6502      1    6      1  2023  \n",
              "3      2       125   6795      1    6      1  2023  \n",
              "4      2       130   6795      1    6      1  2023  "
            ],
            "text/html": [
              "\n",
              "  <div id=\"df-425a9853-7240-499b-a71e-66021437952c\">\n",
              "    <div class=\"colab-df-container\">\n",
              "      <div>\n",
              "<style scoped>\n",
              "    .dataframe tbody tr th:only-of-type {\n",
              "        vertical-align: middle;\n",
              "    }\n",
              "\n",
              "    .dataframe tbody tr th {\n",
              "        vertical-align: top;\n",
              "    }\n",
              "\n",
              "    .dataframe thead th {\n",
              "        text-align: right;\n",
              "    }\n",
              "</style>\n",
              "<table border=\"1\" class=\"dataframe\">\n",
              "  <thead>\n",
              "    <tr style=\"text-align: right;\">\n",
              "      <th></th>\n",
              "      <th>Airline</th>\n",
              "      <th>Flight_No</th>\n",
              "      <th>Departure_Time</th>\n",
              "      <th>Arrival_Time</th>\n",
              "      <th>Source</th>\n",
              "      <th>Destination</th>\n",
              "      <th>Stops</th>\n",
              "      <th>Duration</th>\n",
              "      <th>Price</th>\n",
              "      <th>Class</th>\n",
              "      <th>Day</th>\n",
              "      <th>Month</th>\n",
              "      <th>Year</th>\n",
              "    </tr>\n",
              "  </thead>\n",
              "  <tbody>\n",
              "    <tr>\n",
              "      <th>0</th>\n",
              "      <td>4</td>\n",
              "      <td>45</td>\n",
              "      <td>162</td>\n",
              "      <td>15</td>\n",
              "      <td>1</td>\n",
              "      <td>0</td>\n",
              "      <td>2</td>\n",
              "      <td>140</td>\n",
              "      <td>5899</td>\n",
              "      <td>1</td>\n",
              "      <td>6</td>\n",
              "      <td>1</td>\n",
              "      <td>2023</td>\n",
              "    </tr>\n",
              "    <tr>\n",
              "      <th>1</th>\n",
              "      <td>3</td>\n",
              "      <td>265</td>\n",
              "      <td>116</td>\n",
              "      <td>184</td>\n",
              "      <td>1</td>\n",
              "      <td>0</td>\n",
              "      <td>2</td>\n",
              "      <td>130</td>\n",
              "      <td>6502</td>\n",
              "      <td>1</td>\n",
              "      <td>6</td>\n",
              "      <td>1</td>\n",
              "      <td>2023</td>\n",
              "    </tr>\n",
              "    <tr>\n",
              "      <th>2</th>\n",
              "      <td>3</td>\n",
              "      <td>259</td>\n",
              "      <td>124</td>\n",
              "      <td>199</td>\n",
              "      <td>1</td>\n",
              "      <td>0</td>\n",
              "      <td>2</td>\n",
              "      <td>135</td>\n",
              "      <td>6502</td>\n",
              "      <td>1</td>\n",
              "      <td>6</td>\n",
              "      <td>1</td>\n",
              "      <td>2023</td>\n",
              "    </tr>\n",
              "    <tr>\n",
              "      <th>3</th>\n",
              "      <td>6</td>\n",
              "      <td>518</td>\n",
              "      <td>97</td>\n",
              "      <td>165</td>\n",
              "      <td>1</td>\n",
              "      <td>0</td>\n",
              "      <td>2</td>\n",
              "      <td>125</td>\n",
              "      <td>6795</td>\n",
              "      <td>1</td>\n",
              "      <td>6</td>\n",
              "      <td>1</td>\n",
              "      <td>2023</td>\n",
              "    </tr>\n",
              "    <tr>\n",
              "      <th>4</th>\n",
              "      <td>6</td>\n",
              "      <td>536</td>\n",
              "      <td>117</td>\n",
              "      <td>187</td>\n",
              "      <td>1</td>\n",
              "      <td>0</td>\n",
              "      <td>2</td>\n",
              "      <td>130</td>\n",
              "      <td>6795</td>\n",
              "      <td>1</td>\n",
              "      <td>6</td>\n",
              "      <td>1</td>\n",
              "      <td>2023</td>\n",
              "    </tr>\n",
              "  </tbody>\n",
              "</table>\n",
              "</div>\n",
              "      <button class=\"colab-df-convert\" onclick=\"convertToInteractive('df-425a9853-7240-499b-a71e-66021437952c')\"\n",
              "              title=\"Convert this dataframe to an interactive table.\"\n",
              "              style=\"display:none;\">\n",
              "        \n",
              "  <svg xmlns=\"http://www.w3.org/2000/svg\" height=\"24px\"viewBox=\"0 0 24 24\"\n",
              "       width=\"24px\">\n",
              "    <path d=\"M0 0h24v24H0V0z\" fill=\"none\"/>\n",
              "    <path d=\"M18.56 5.44l.94 2.06.94-2.06 2.06-.94-2.06-.94-.94-2.06-.94 2.06-2.06.94zm-11 1L8.5 8.5l.94-2.06 2.06-.94-2.06-.94L8.5 2.5l-.94 2.06-2.06.94zm10 10l.94 2.06.94-2.06 2.06-.94-2.06-.94-.94-2.06-.94 2.06-2.06.94z\"/><path d=\"M17.41 7.96l-1.37-1.37c-.4-.4-.92-.59-1.43-.59-.52 0-1.04.2-1.43.59L10.3 9.45l-7.72 7.72c-.78.78-.78 2.05 0 2.83L4 21.41c.39.39.9.59 1.41.59.51 0 1.02-.2 1.41-.59l7.78-7.78 2.81-2.81c.8-.78.8-2.07 0-2.86zM5.41 20L4 18.59l7.72-7.72 1.47 1.35L5.41 20z\"/>\n",
              "  </svg>\n",
              "      </button>\n",
              "      \n",
              "  <style>\n",
              "    .colab-df-container {\n",
              "      display:flex;\n",
              "      flex-wrap:wrap;\n",
              "      gap: 12px;\n",
              "    }\n",
              "\n",
              "    .colab-df-convert {\n",
              "      background-color: #E8F0FE;\n",
              "      border: none;\n",
              "      border-radius: 50%;\n",
              "      cursor: pointer;\n",
              "      display: none;\n",
              "      fill: #1967D2;\n",
              "      height: 32px;\n",
              "      padding: 0 0 0 0;\n",
              "      width: 32px;\n",
              "    }\n",
              "\n",
              "    .colab-df-convert:hover {\n",
              "      background-color: #E2EBFA;\n",
              "      box-shadow: 0px 1px 2px rgba(60, 64, 67, 0.3), 0px 1px 3px 1px rgba(60, 64, 67, 0.15);\n",
              "      fill: #174EA6;\n",
              "    }\n",
              "\n",
              "    [theme=dark] .colab-df-convert {\n",
              "      background-color: #3B4455;\n",
              "      fill: #D2E3FC;\n",
              "    }\n",
              "\n",
              "    [theme=dark] .colab-df-convert:hover {\n",
              "      background-color: #434B5C;\n",
              "      box-shadow: 0px 1px 3px 1px rgba(0, 0, 0, 0.15);\n",
              "      filter: drop-shadow(0px 1px 2px rgba(0, 0, 0, 0.3));\n",
              "      fill: #FFFFFF;\n",
              "    }\n",
              "  </style>\n",
              "\n",
              "      <script>\n",
              "        const buttonEl =\n",
              "          document.querySelector('#df-425a9853-7240-499b-a71e-66021437952c button.colab-df-convert');\n",
              "        buttonEl.style.display =\n",
              "          google.colab.kernel.accessAllowed ? 'block' : 'none';\n",
              "\n",
              "        async function convertToInteractive(key) {\n",
              "          const element = document.querySelector('#df-425a9853-7240-499b-a71e-66021437952c');\n",
              "          const dataTable =\n",
              "            await google.colab.kernel.invokeFunction('convertToInteractive',\n",
              "                                                     [key], {});\n",
              "          if (!dataTable) return;\n",
              "\n",
              "          const docLinkHtml = 'Like what you see? Visit the ' +\n",
              "            '<a target=\"_blank\" href=https://colab.research.google.com/notebooks/data_table.ipynb>data table notebook</a>'\n",
              "            + ' to learn more about interactive tables.';\n",
              "          element.innerHTML = '';\n",
              "          dataTable['output_type'] = 'display_data';\n",
              "          await google.colab.output.renderOutput(dataTable, element);\n",
              "          const docLink = document.createElement('div');\n",
              "          docLink.innerHTML = docLinkHtml;\n",
              "          element.appendChild(docLink);\n",
              "        }\n",
              "      </script>\n",
              "    </div>\n",
              "  </div>\n",
              "  "
            ]
          },
          "metadata": {},
          "execution_count": 51
        }
      ]
    },
    {
      "cell_type": "code",
      "source": [
        "df.corr()"
      ],
      "metadata": {
        "colab": {
          "base_uri": "https://localhost:8080/",
          "height": 457
        },
        "id": "BxXKuXppCC6f",
        "outputId": "928eaac6-e6eb-4490-8326-b6d3c1412a88"
      },
      "execution_count": 52,
      "outputs": [
        {
          "output_type": "execute_result",
          "data": {
            "text/plain": [
              "                 Airline  Flight_No  Departure_Time  Arrival_Time    Source  \\\n",
              "Airline         1.000000   0.719180        0.012339      0.037696 -0.002321   \n",
              "Flight_No       0.719180   1.000000        0.074274      0.058017 -0.029501   \n",
              "Departure_Time  0.012339   0.074274        1.000000      0.078512  0.075380   \n",
              "Arrival_Time    0.037696   0.058017        0.078512      1.000000 -0.009704   \n",
              "Source         -0.002321  -0.029501        0.075380     -0.009704  1.000000   \n",
              "Destination     0.002321   0.029501       -0.075380      0.009704 -1.000000   \n",
              "Stops          -0.061116   0.066051        0.023494      0.069462 -0.017102   \n",
              "Duration        0.174028   0.082907        0.048608     -0.063359  0.058010   \n",
              "Price           0.136688   0.185182        0.046818      0.026210  0.071042   \n",
              "Class           0.447884   0.246304       -0.010956      0.049923  0.023773   \n",
              "Day             0.025820   0.024626       -0.123320     -0.006914 -0.838871   \n",
              "Month                NaN        NaN             NaN           NaN       NaN   \n",
              "Year                 NaN        NaN             NaN           NaN       NaN   \n",
              "\n",
              "                Destination     Stops  Duration     Price     Class       Day  \\\n",
              "Airline            0.002321 -0.061116  0.174028  0.136688  0.447884  0.025820   \n",
              "Flight_No          0.029501  0.066051  0.082907  0.185182  0.246304  0.024626   \n",
              "Departure_Time    -0.075380  0.023494  0.048608  0.046818 -0.010956 -0.123320   \n",
              "Arrival_Time       0.009704  0.069462 -0.063359  0.026210  0.049923 -0.006914   \n",
              "Source            -1.000000 -0.017102  0.058010  0.071042  0.023773 -0.838871   \n",
              "Destination        1.000000  0.017102 -0.058010 -0.071042 -0.023773  0.838871   \n",
              "Stops              0.017102  1.000000 -0.691021 -0.289174 -0.011724  0.037164   \n",
              "Duration          -0.058010 -0.691021  1.000000  0.304681  0.034498 -0.074466   \n",
              "Price             -0.071042 -0.289174  0.304681  1.000000 -0.584117 -0.141487   \n",
              "Class             -0.023773 -0.011724  0.034498 -0.584117  1.000000 -0.000364   \n",
              "Day                0.838871  0.037164 -0.074466 -0.141487 -0.000364  1.000000   \n",
              "Month                   NaN       NaN       NaN       NaN       NaN       NaN   \n",
              "Year                    NaN       NaN       NaN       NaN       NaN       NaN   \n",
              "\n",
              "                Month  Year  \n",
              "Airline           NaN   NaN  \n",
              "Flight_No         NaN   NaN  \n",
              "Departure_Time    NaN   NaN  \n",
              "Arrival_Time      NaN   NaN  \n",
              "Source            NaN   NaN  \n",
              "Destination       NaN   NaN  \n",
              "Stops             NaN   NaN  \n",
              "Duration          NaN   NaN  \n",
              "Price             NaN   NaN  \n",
              "Class             NaN   NaN  \n",
              "Day               NaN   NaN  \n",
              "Month             NaN   NaN  \n",
              "Year              NaN   NaN  "
            ],
            "text/html": [
              "\n",
              "  <div id=\"df-e2edfd8a-7aa8-45ce-85b2-b3b5c86abbee\">\n",
              "    <div class=\"colab-df-container\">\n",
              "      <div>\n",
              "<style scoped>\n",
              "    .dataframe tbody tr th:only-of-type {\n",
              "        vertical-align: middle;\n",
              "    }\n",
              "\n",
              "    .dataframe tbody tr th {\n",
              "        vertical-align: top;\n",
              "    }\n",
              "\n",
              "    .dataframe thead th {\n",
              "        text-align: right;\n",
              "    }\n",
              "</style>\n",
              "<table border=\"1\" class=\"dataframe\">\n",
              "  <thead>\n",
              "    <tr style=\"text-align: right;\">\n",
              "      <th></th>\n",
              "      <th>Airline</th>\n",
              "      <th>Flight_No</th>\n",
              "      <th>Departure_Time</th>\n",
              "      <th>Arrival_Time</th>\n",
              "      <th>Source</th>\n",
              "      <th>Destination</th>\n",
              "      <th>Stops</th>\n",
              "      <th>Duration</th>\n",
              "      <th>Price</th>\n",
              "      <th>Class</th>\n",
              "      <th>Day</th>\n",
              "      <th>Month</th>\n",
              "      <th>Year</th>\n",
              "    </tr>\n",
              "  </thead>\n",
              "  <tbody>\n",
              "    <tr>\n",
              "      <th>Airline</th>\n",
              "      <td>1.000000</td>\n",
              "      <td>0.719180</td>\n",
              "      <td>0.012339</td>\n",
              "      <td>0.037696</td>\n",
              "      <td>-0.002321</td>\n",
              "      <td>0.002321</td>\n",
              "      <td>-0.061116</td>\n",
              "      <td>0.174028</td>\n",
              "      <td>0.136688</td>\n",
              "      <td>0.447884</td>\n",
              "      <td>0.025820</td>\n",
              "      <td>NaN</td>\n",
              "      <td>NaN</td>\n",
              "    </tr>\n",
              "    <tr>\n",
              "      <th>Flight_No</th>\n",
              "      <td>0.719180</td>\n",
              "      <td>1.000000</td>\n",
              "      <td>0.074274</td>\n",
              "      <td>0.058017</td>\n",
              "      <td>-0.029501</td>\n",
              "      <td>0.029501</td>\n",
              "      <td>0.066051</td>\n",
              "      <td>0.082907</td>\n",
              "      <td>0.185182</td>\n",
              "      <td>0.246304</td>\n",
              "      <td>0.024626</td>\n",
              "      <td>NaN</td>\n",
              "      <td>NaN</td>\n",
              "    </tr>\n",
              "    <tr>\n",
              "      <th>Departure_Time</th>\n",
              "      <td>0.012339</td>\n",
              "      <td>0.074274</td>\n",
              "      <td>1.000000</td>\n",
              "      <td>0.078512</td>\n",
              "      <td>0.075380</td>\n",
              "      <td>-0.075380</td>\n",
              "      <td>0.023494</td>\n",
              "      <td>0.048608</td>\n",
              "      <td>0.046818</td>\n",
              "      <td>-0.010956</td>\n",
              "      <td>-0.123320</td>\n",
              "      <td>NaN</td>\n",
              "      <td>NaN</td>\n",
              "    </tr>\n",
              "    <tr>\n",
              "      <th>Arrival_Time</th>\n",
              "      <td>0.037696</td>\n",
              "      <td>0.058017</td>\n",
              "      <td>0.078512</td>\n",
              "      <td>1.000000</td>\n",
              "      <td>-0.009704</td>\n",
              "      <td>0.009704</td>\n",
              "      <td>0.069462</td>\n",
              "      <td>-0.063359</td>\n",
              "      <td>0.026210</td>\n",
              "      <td>0.049923</td>\n",
              "      <td>-0.006914</td>\n",
              "      <td>NaN</td>\n",
              "      <td>NaN</td>\n",
              "    </tr>\n",
              "    <tr>\n",
              "      <th>Source</th>\n",
              "      <td>-0.002321</td>\n",
              "      <td>-0.029501</td>\n",
              "      <td>0.075380</td>\n",
              "      <td>-0.009704</td>\n",
              "      <td>1.000000</td>\n",
              "      <td>-1.000000</td>\n",
              "      <td>-0.017102</td>\n",
              "      <td>0.058010</td>\n",
              "      <td>0.071042</td>\n",
              "      <td>0.023773</td>\n",
              "      <td>-0.838871</td>\n",
              "      <td>NaN</td>\n",
              "      <td>NaN</td>\n",
              "    </tr>\n",
              "    <tr>\n",
              "      <th>Destination</th>\n",
              "      <td>0.002321</td>\n",
              "      <td>0.029501</td>\n",
              "      <td>-0.075380</td>\n",
              "      <td>0.009704</td>\n",
              "      <td>-1.000000</td>\n",
              "      <td>1.000000</td>\n",
              "      <td>0.017102</td>\n",
              "      <td>-0.058010</td>\n",
              "      <td>-0.071042</td>\n",
              "      <td>-0.023773</td>\n",
              "      <td>0.838871</td>\n",
              "      <td>NaN</td>\n",
              "      <td>NaN</td>\n",
              "    </tr>\n",
              "    <tr>\n",
              "      <th>Stops</th>\n",
              "      <td>-0.061116</td>\n",
              "      <td>0.066051</td>\n",
              "      <td>0.023494</td>\n",
              "      <td>0.069462</td>\n",
              "      <td>-0.017102</td>\n",
              "      <td>0.017102</td>\n",
              "      <td>1.000000</td>\n",
              "      <td>-0.691021</td>\n",
              "      <td>-0.289174</td>\n",
              "      <td>-0.011724</td>\n",
              "      <td>0.037164</td>\n",
              "      <td>NaN</td>\n",
              "      <td>NaN</td>\n",
              "    </tr>\n",
              "    <tr>\n",
              "      <th>Duration</th>\n",
              "      <td>0.174028</td>\n",
              "      <td>0.082907</td>\n",
              "      <td>0.048608</td>\n",
              "      <td>-0.063359</td>\n",
              "      <td>0.058010</td>\n",
              "      <td>-0.058010</td>\n",
              "      <td>-0.691021</td>\n",
              "      <td>1.000000</td>\n",
              "      <td>0.304681</td>\n",
              "      <td>0.034498</td>\n",
              "      <td>-0.074466</td>\n",
              "      <td>NaN</td>\n",
              "      <td>NaN</td>\n",
              "    </tr>\n",
              "    <tr>\n",
              "      <th>Price</th>\n",
              "      <td>0.136688</td>\n",
              "      <td>0.185182</td>\n",
              "      <td>0.046818</td>\n",
              "      <td>0.026210</td>\n",
              "      <td>0.071042</td>\n",
              "      <td>-0.071042</td>\n",
              "      <td>-0.289174</td>\n",
              "      <td>0.304681</td>\n",
              "      <td>1.000000</td>\n",
              "      <td>-0.584117</td>\n",
              "      <td>-0.141487</td>\n",
              "      <td>NaN</td>\n",
              "      <td>NaN</td>\n",
              "    </tr>\n",
              "    <tr>\n",
              "      <th>Class</th>\n",
              "      <td>0.447884</td>\n",
              "      <td>0.246304</td>\n",
              "      <td>-0.010956</td>\n",
              "      <td>0.049923</td>\n",
              "      <td>0.023773</td>\n",
              "      <td>-0.023773</td>\n",
              "      <td>-0.011724</td>\n",
              "      <td>0.034498</td>\n",
              "      <td>-0.584117</td>\n",
              "      <td>1.000000</td>\n",
              "      <td>-0.000364</td>\n",
              "      <td>NaN</td>\n",
              "      <td>NaN</td>\n",
              "    </tr>\n",
              "    <tr>\n",
              "      <th>Day</th>\n",
              "      <td>0.025820</td>\n",
              "      <td>0.024626</td>\n",
              "      <td>-0.123320</td>\n",
              "      <td>-0.006914</td>\n",
              "      <td>-0.838871</td>\n",
              "      <td>0.838871</td>\n",
              "      <td>0.037164</td>\n",
              "      <td>-0.074466</td>\n",
              "      <td>-0.141487</td>\n",
              "      <td>-0.000364</td>\n",
              "      <td>1.000000</td>\n",
              "      <td>NaN</td>\n",
              "      <td>NaN</td>\n",
              "    </tr>\n",
              "    <tr>\n",
              "      <th>Month</th>\n",
              "      <td>NaN</td>\n",
              "      <td>NaN</td>\n",
              "      <td>NaN</td>\n",
              "      <td>NaN</td>\n",
              "      <td>NaN</td>\n",
              "      <td>NaN</td>\n",
              "      <td>NaN</td>\n",
              "      <td>NaN</td>\n",
              "      <td>NaN</td>\n",
              "      <td>NaN</td>\n",
              "      <td>NaN</td>\n",
              "      <td>NaN</td>\n",
              "      <td>NaN</td>\n",
              "    </tr>\n",
              "    <tr>\n",
              "      <th>Year</th>\n",
              "      <td>NaN</td>\n",
              "      <td>NaN</td>\n",
              "      <td>NaN</td>\n",
              "      <td>NaN</td>\n",
              "      <td>NaN</td>\n",
              "      <td>NaN</td>\n",
              "      <td>NaN</td>\n",
              "      <td>NaN</td>\n",
              "      <td>NaN</td>\n",
              "      <td>NaN</td>\n",
              "      <td>NaN</td>\n",
              "      <td>NaN</td>\n",
              "      <td>NaN</td>\n",
              "    </tr>\n",
              "  </tbody>\n",
              "</table>\n",
              "</div>\n",
              "      <button class=\"colab-df-convert\" onclick=\"convertToInteractive('df-e2edfd8a-7aa8-45ce-85b2-b3b5c86abbee')\"\n",
              "              title=\"Convert this dataframe to an interactive table.\"\n",
              "              style=\"display:none;\">\n",
              "        \n",
              "  <svg xmlns=\"http://www.w3.org/2000/svg\" height=\"24px\"viewBox=\"0 0 24 24\"\n",
              "       width=\"24px\">\n",
              "    <path d=\"M0 0h24v24H0V0z\" fill=\"none\"/>\n",
              "    <path d=\"M18.56 5.44l.94 2.06.94-2.06 2.06-.94-2.06-.94-.94-2.06-.94 2.06-2.06.94zm-11 1L8.5 8.5l.94-2.06 2.06-.94-2.06-.94L8.5 2.5l-.94 2.06-2.06.94zm10 10l.94 2.06.94-2.06 2.06-.94-2.06-.94-.94-2.06-.94 2.06-2.06.94z\"/><path d=\"M17.41 7.96l-1.37-1.37c-.4-.4-.92-.59-1.43-.59-.52 0-1.04.2-1.43.59L10.3 9.45l-7.72 7.72c-.78.78-.78 2.05 0 2.83L4 21.41c.39.39.9.59 1.41.59.51 0 1.02-.2 1.41-.59l7.78-7.78 2.81-2.81c.8-.78.8-2.07 0-2.86zM5.41 20L4 18.59l7.72-7.72 1.47 1.35L5.41 20z\"/>\n",
              "  </svg>\n",
              "      </button>\n",
              "      \n",
              "  <style>\n",
              "    .colab-df-container {\n",
              "      display:flex;\n",
              "      flex-wrap:wrap;\n",
              "      gap: 12px;\n",
              "    }\n",
              "\n",
              "    .colab-df-convert {\n",
              "      background-color: #E8F0FE;\n",
              "      border: none;\n",
              "      border-radius: 50%;\n",
              "      cursor: pointer;\n",
              "      display: none;\n",
              "      fill: #1967D2;\n",
              "      height: 32px;\n",
              "      padding: 0 0 0 0;\n",
              "      width: 32px;\n",
              "    }\n",
              "\n",
              "    .colab-df-convert:hover {\n",
              "      background-color: #E2EBFA;\n",
              "      box-shadow: 0px 1px 2px rgba(60, 64, 67, 0.3), 0px 1px 3px 1px rgba(60, 64, 67, 0.15);\n",
              "      fill: #174EA6;\n",
              "    }\n",
              "\n",
              "    [theme=dark] .colab-df-convert {\n",
              "      background-color: #3B4455;\n",
              "      fill: #D2E3FC;\n",
              "    }\n",
              "\n",
              "    [theme=dark] .colab-df-convert:hover {\n",
              "      background-color: #434B5C;\n",
              "      box-shadow: 0px 1px 3px 1px rgba(0, 0, 0, 0.15);\n",
              "      filter: drop-shadow(0px 1px 2px rgba(0, 0, 0, 0.3));\n",
              "      fill: #FFFFFF;\n",
              "    }\n",
              "  </style>\n",
              "\n",
              "      <script>\n",
              "        const buttonEl =\n",
              "          document.querySelector('#df-e2edfd8a-7aa8-45ce-85b2-b3b5c86abbee button.colab-df-convert');\n",
              "        buttonEl.style.display =\n",
              "          google.colab.kernel.accessAllowed ? 'block' : 'none';\n",
              "\n",
              "        async function convertToInteractive(key) {\n",
              "          const element = document.querySelector('#df-e2edfd8a-7aa8-45ce-85b2-b3b5c86abbee');\n",
              "          const dataTable =\n",
              "            await google.colab.kernel.invokeFunction('convertToInteractive',\n",
              "                                                     [key], {});\n",
              "          if (!dataTable) return;\n",
              "\n",
              "          const docLinkHtml = 'Like what you see? Visit the ' +\n",
              "            '<a target=\"_blank\" href=https://colab.research.google.com/notebooks/data_table.ipynb>data table notebook</a>'\n",
              "            + ' to learn more about interactive tables.';\n",
              "          element.innerHTML = '';\n",
              "          dataTable['output_type'] = 'display_data';\n",
              "          await google.colab.output.renderOutput(dataTable, element);\n",
              "          const docLink = document.createElement('div');\n",
              "          docLink.innerHTML = docLinkHtml;\n",
              "          element.appendChild(docLink);\n",
              "        }\n",
              "      </script>\n",
              "    </div>\n",
              "  </div>\n",
              "  "
            ]
          },
          "metadata": {},
          "execution_count": 52
        }
      ]
    },
    {
      "cell_type": "code",
      "source": [
        "#Dropping month and year column\n",
        "df.drop(columns=['Month','Year'],axis=1,inplace=True)"
      ],
      "metadata": {
        "id": "6nEbS5SUCdXB"
      },
      "execution_count": 53,
      "outputs": []
    },
    {
      "cell_type": "code",
      "source": [
        "plt.figure(figsize=(12,8))\n",
        "sns.heatmap(df.corr(),linecolor='black', vmin=-1, vmax=1, annot=True, square=True, fmt='0.3f', \n",
        "            annot_kws={'size':10}, cmap='Accent')\n",
        "plt.xticks(fontsize=12)\n",
        "plt.yticks(fontsize=12)\n",
        "plt.show()"
      ],
      "metadata": {
        "colab": {
          "base_uri": "https://localhost:8080/",
          "height": 585
        },
        "id": "4z0VXTFjC4jD",
        "outputId": "371a9694-c13b-43d4-a4fa-4bae1f3a0a3f"
      },
      "execution_count": 55,
      "outputs": [
        {
          "output_type": "display_data",
          "data": {
            "text/plain": [
              "<Figure size 864x576 with 2 Axes>"
            ],
            "image/png": "[encoded data removed]"
          },
          "metadata": {
            "needs_background": "light"
          }
        }
      ]
    },
    {
      "cell_type": "markdown",
      "source": [
        "* **Source** and **Destination** seems to be highly correlated and hence dropping both the columns"
      ],
      "metadata": {
        "id": "0ZHoHnXVEUmE"
      }
    },
    {
      "cell_type": "code",
      "source": [
        "df.drop(columns=['Source','Destination'],axis=1,inplace=True)"
      ],
      "metadata": {
        "id": "9hawSt4REiwt"
      },
      "execution_count": 56,
      "outputs": []
    },
    {
      "cell_type": "code",
      "source": [
        "plt.figure(figsize = (10,8))\n",
        "df.corr()['Price'].drop(['Price']).sort_values(ascending=False).plot(kind='bar',cmap = 'spring')\n",
        "plt.xlabel('Features',fontsize=15,fontweight='bold')\n",
        "plt.ylabel('Price (Rs.)',fontsize=15,fontweight='bold')\n",
        "plt.title('Correlation of features with Target Variable Price (Rs.)',fontsize = 20,fontweight='bold')\n",
        "plt.show()"
      ],
      "metadata": {
        "colab": {
          "base_uri": "https://localhost:8080/",
          "height": 585
        },
        "id": "xAjNm3qaFRkt",
        "outputId": "9bb63786-1403-4d5b-9ce2-4ad8bc658143"
      },
      "execution_count": 57,
      "outputs": [
        {
          "output_type": "display_data",
          "data": {
            "text/plain": [
              "<Figure size 720x576 with 1 Axes>"
            ],
            "image/png": "[encoded data removed]"
          },
          "metadata": {
            "needs_background": "light"
          }
        }
      ]
    },
    {
      "cell_type": "markdown",
      "source": [
        "* **Class** is highly correlated with target variable Price\n",
        "\n",
        "* Most of features are **moderately & poorly** correlated with each other"
      ],
      "metadata": {
        "id": "NR6eigfTFuL2"
      }
    },
    {
      "cell_type": "markdown",
      "source": [
        "**Skewness Reduction**"
      ],
      "metadata": {
        "id": "C1iHXZraGbbH"
      }
    },
    {
      "cell_type": "code",
      "source": [
        "# Considering skewness reduction through PowerTransformer\n",
        "\n",
        "from sklearn.preprocessing import PowerTransformer\n",
        "pt = PowerTransformer()"
      ],
      "metadata": {
        "id": "qPBfLDxuF9I3"
      },
      "execution_count": 58,
      "outputs": []
    },
    {
      "cell_type": "code",
      "source": [
        "# Seperating features and target variable for Price prediction task\n",
        "\n",
        "X = df.drop('Price',axis=1)\n",
        "\n",
        "y = df['Price']"
      ],
      "metadata": {
        "id": "T_IIX1mwG6wl"
      },
      "execution_count": 59,
      "outputs": []
    },
    {
      "cell_type": "code",
      "source": [
        "# Applying Power transformer\n",
        "\n",
        "X_new_pt = pt.fit_transform(X)\n",
        "\n",
        "# Converting numpy array(X_new_pt) into Dataframe and reassigning the values\n",
        "\n",
        "X = pd.DataFrame(X_new_pt,columns= X.columns)\n",
        "\n",
        "# Checking Skewness\n",
        "\n",
        "X.skew().sort_values(ascending=False)"
      ],
      "metadata": {
        "colab": {
          "base_uri": "https://localhost:8080/"
        },
        "id": "U8ZUTgN5HP_h",
        "outputId": "f64254d0-e77d-44e2-bc7f-f3d3d3e9ee2f"
      },
      "execution_count": 60,
      "outputs": [
        {
          "output_type": "execute_result",
          "data": {
            "text/plain": [
              "Stops             0.575448\n",
              "Duration          0.022975\n",
              "Day              -0.100937\n",
              "Class            -0.108392\n",
              "Arrival_Time     -0.264725\n",
              "Departure_Time   -0.275582\n",
              "Airline          -0.289500\n",
              "Flight_No        -0.357074\n",
              "dtype: float64"
            ]
          },
          "metadata": {},
          "execution_count": 60
        }
      ]
    },
    {
      "cell_type": "markdown",
      "source": [
        "**Skewness of all the features looks good to proceed further**"
      ],
      "metadata": {
        "id": "EnPs3M1ZHZ49"
      }
    },
    {
      "cell_type": "markdown",
      "source": [
        "**Standard Scaling**"
      ],
      "metadata": {
        "id": "iA8ffZVBHqkg"
      }
    },
    {
      "cell_type": "code",
      "source": [
        "from sklearn.preprocessing import StandardScaler\n",
        "scaler= StandardScaler()\n",
        "X_scaler = scaler.fit_transform(X)"
      ],
      "metadata": {
        "id": "zI0-jkZHHiX7"
      },
      "execution_count": 61,
      "outputs": []
    },
    {
      "cell_type": "code",
      "source": [
        "# Checking multicollinearity in the dataset\n",
        "from statsmodels.stats.outliers_influence import variance_inflation_factor\n",
        "vif = pd.DataFrame()\n",
        "vif['vif'] = [variance_inflation_factor(X_scaler,i) for i in range(X.shape[1])]\n",
        "vif['Features'] = X.columns\n",
        "\n",
        "vif"
      ],
      "metadata": {
        "colab": {
          "base_uri": "https://localhost:8080/",
          "height": 300
        },
        "id": "o9uQqQHjH9cE",
        "outputId": "b3c80b98-639b-49a5-a1ce-c3461fb2004a"
      },
      "execution_count": 62,
      "outputs": [
        {
          "output_type": "execute_result",
          "data": {
            "text/plain": [
              "        vif        Features\n",
              "0  2.351129         Airline\n",
              "1  2.058414       Flight_No\n",
              "2  1.039591  Departure_Time\n",
              "3  1.016389    Arrival_Time\n",
              "4  4.565462           Stops\n",
              "5  4.616633        Duration\n",
              "6  1.227239           Class\n",
              "7  1.025700             Day"
            ],
            "text/html": [
              "\n",
              "  <div id=\"df-80400565-6833-4044-bb50-c393cf34cb9d\">\n",
              "    <div class=\"colab-df-container\">\n",
              "      <div>\n",
              "<style scoped>\n",
              "    .dataframe tbody tr th:only-of-type {\n",
              "        vertical-align: middle;\n",
              "    }\n",
              "\n",
              "    .dataframe tbody tr th {\n",
              "        vertical-align: top;\n",
              "    }\n",
              "\n",
              "    .dataframe thead th {\n",
              "        text-align: right;\n",
              "    }\n",
              "</style>\n",
              "<table border=\"1\" class=\"dataframe\">\n",
              "  <thead>\n",
              "    <tr style=\"text-align: right;\">\n",
              "      <th></th>\n",
              "      <th>vif</th>\n",
              "      <th>Features</th>\n",
              "    </tr>\n",
              "  </thead>\n",
              "  <tbody>\n",
              "    <tr>\n",
              "      <th>0</th>\n",
              "      <td>2.351129</td>\n",
              "      <td>Airline</td>\n",
              "    </tr>\n",
              "    <tr>\n",
              "      <th>1</th>\n",
              "      <td>2.058414</td>\n",
              "      <td>Flight_No</td>\n",
              "    </tr>\n",
              "    <tr>\n",
              "      <th>2</th>\n",
              "      <td>1.039591</td>\n",
              "      <td>Departure_Time</td>\n",
              "    </tr>\n",
              "    <tr>\n",
              "      <th>3</th>\n",
              "      <td>1.016389</td>\n",
              "      <td>Arrival_Time</td>\n",
              "    </tr>\n",
              "    <tr>\n",
              "      <th>4</th>\n",
              "      <td>4.565462</td>\n",
              "      <td>Stops</td>\n",
              "    </tr>\n",
              "    <tr>\n",
              "      <th>5</th>\n",
              "      <td>4.616633</td>\n",
              "      <td>Duration</td>\n",
              "    </tr>\n",
              "    <tr>\n",
              "      <th>6</th>\n",
              "      <td>1.227239</td>\n",
              "      <td>Class</td>\n",
              "    </tr>\n",
              "    <tr>\n",
              "      <th>7</th>\n",
              "      <td>1.025700</td>\n",
              "      <td>Day</td>\n",
              "    </tr>\n",
              "  </tbody>\n",
              "</table>\n",
              "</div>\n",
              "      <button class=\"colab-df-convert\" onclick=\"convertToInteractive('df-80400565-6833-4044-bb50-c393cf34cb9d')\"\n",
              "              title=\"Convert this dataframe to an interactive table.\"\n",
              "              style=\"display:none;\">\n",
              "        \n",
              "  <svg xmlns=\"http://www.w3.org/2000/svg\" height=\"24px\"viewBox=\"0 0 24 24\"\n",
              "       width=\"24px\">\n",
              "    <path d=\"M0 0h24v24H0V0z\" fill=\"none\"/>\n",
              "    <path d=\"M18.56 5.44l.94 2.06.94-2.06 2.06-.94-2.06-.94-.94-2.06-.94 2.06-2.06.94zm-11 1L8.5 8.5l.94-2.06 2.06-.94-2.06-.94L8.5 2.5l-.94 2.06-2.06.94zm10 10l.94 2.06.94-2.06 2.06-.94-2.06-.94-.94-2.06-.94 2.06-2.06.94z\"/><path d=\"M17.41 7.96l-1.37-1.37c-.4-.4-.92-.59-1.43-.59-.52 0-1.04.2-1.43.59L10.3 9.45l-7.72 7.72c-.78.78-.78 2.05 0 2.83L4 21.41c.39.39.9.59 1.41.59.51 0 1.02-.2 1.41-.59l7.78-7.78 2.81-2.81c.8-.78.8-2.07 0-2.86zM5.41 20L4 18.59l7.72-7.72 1.47 1.35L5.41 20z\"/>\n",
              "  </svg>\n",
              "      </button>\n",
              "      \n",
              "  <style>\n",
              "    .colab-df-container {\n",
              "      display:flex;\n",
              "      flex-wrap:wrap;\n",
              "      gap: 12px;\n",
              "    }\n",
              "\n",
              "    .colab-df-convert {\n",
              "      background-color: #E8F0FE;\n",
              "      border: none;\n",
              "      border-radius: 50%;\n",
              "      cursor: pointer;\n",
              "      display: none;\n",
              "      fill: #1967D2;\n",
              "      height: 32px;\n",
              "      padding: 0 0 0 0;\n",
              "      width: 32px;\n",
              "    }\n",
              "\n",
              "    .colab-df-convert:hover {\n",
              "      background-color: #E2EBFA;\n",
              "      box-shadow: 0px 1px 2px rgba(60, 64, 67, 0.3), 0px 1px 3px 1px rgba(60, 64, 67, 0.15);\n",
              "      fill: #174EA6;\n",
              "    }\n",
              "\n",
              "    [theme=dark] .colab-df-convert {\n",
              "      background-color: #3B4455;\n",
              "      fill: #D2E3FC;\n",
              "    }\n",
              "\n",
              "    [theme=dark] .colab-df-convert:hover {\n",
              "      background-color: #434B5C;\n",
              "      box-shadow: 0px 1px 3px 1px rgba(0, 0, 0, 0.15);\n",
              "      filter: drop-shadow(0px 1px 2px rgba(0, 0, 0, 0.3));\n",
              "      fill: #FFFFFF;\n",
              "    }\n",
              "  </style>\n",
              "\n",
              "      <script>\n",
              "        const buttonEl =\n",
              "          document.querySelector('#df-80400565-6833-4044-bb50-c393cf34cb9d button.colab-df-convert');\n",
              "        buttonEl.style.display =\n",
              "          google.colab.kernel.accessAllowed ? 'block' : 'none';\n",
              "\n",
              "        async function convertToInteractive(key) {\n",
              "          const element = document.querySelector('#df-80400565-6833-4044-bb50-c393cf34cb9d');\n",
              "          const dataTable =\n",
              "            await google.colab.kernel.invokeFunction('convertToInteractive',\n",
              "                                                     [key], {});\n",
              "          if (!dataTable) return;\n",
              "\n",
              "          const docLinkHtml = 'Like what you see? Visit the ' +\n",
              "            '<a target=\"_blank\" href=https://colab.research.google.com/notebooks/data_table.ipynb>data table notebook</a>'\n",
              "            + ' to learn more about interactive tables.';\n",
              "          element.innerHTML = '';\n",
              "          dataTable['output_type'] = 'display_data';\n",
              "          await google.colab.output.renderOutput(dataTable, element);\n",
              "          const docLink = document.createElement('div');\n",
              "          docLink.innerHTML = docLinkHtml;\n",
              "          element.appendChild(docLink);\n",
              "        }\n",
              "      </script>\n",
              "    </div>\n",
              "  </div>\n",
              "  "
            ]
          },
          "metadata": {},
          "execution_count": 62
        }
      ]
    },
    {
      "cell_type": "markdown",
      "source": [
        "**The vif values of all the features are less than 10 and hence no multicollinearity exist in the dataset**"
      ],
      "metadata": {
        "id": "y10dqJdQIDyi"
      }
    },
    {
      "cell_type": "markdown",
      "source": [
        "# **Model Building - Price Prediction**"
      ],
      "metadata": {
        "id": "45cQqKwdIaf8"
      }
    },
    {
      "cell_type": "code",
      "source": [
        "# Importing required libraries\n",
        "\n",
        "from sklearn.model_selection import train_test_split,GridSearchCV\n",
        "from sklearn.linear_model import LinearRegression\n",
        "from sklearn.linear_model import Ridge, Lasso, RidgeCV, LassoCV\n",
        "from sklearn.tree import DecisionTreeRegressor\n",
        "from sklearn.metrics import r2_score,mean_absolute_error,mean_squared_error\n",
        "from sklearn.ensemble import RandomForestRegressor\n",
        "from sklearn.neighbors import KNeighborsRegressor\n",
        "from sklearn.svm import SVR\n",
        "from sklearn.ensemble import AdaBoostRegressor, GradientBoostingRegressor\n",
        "import pickle\n",
        "from sklearn import metrics\n",
        "from sklearn.model_selection import cross_val_score\n",
        "from xgboost import XGBRegressor"
      ],
      "metadata": {
        "id": "xbhL3sUHIQtj"
      },
      "execution_count": 63,
      "outputs": []
    },
    {
      "cell_type": "markdown",
      "source": [
        "**Best Random State**"
      ],
      "metadata": {
        "id": "D8Wo4z6yJHdt"
      }
    },
    {
      "cell_type": "code",
      "source": [
        "maxR2score = 0 # Max R2 score\n",
        "maxRS = 0   # Best random state for which maximum r2 score is achieved\n",
        "\n",
        "for i in range(1,1000):\n",
        "    X_train,X_test,y_train,y_test = train_test_split(X_scaler,y,test_size=0.2,random_state=i)\n",
        "    \n",
        "    lr = LinearRegression()\n",
        "    \n",
        "    lr.fit(X_train,y_train)\n",
        "    \n",
        "    pred_lr = lr.predict(X_test)\n",
        "   \n",
        "    score_lr = r2_score(y_test,pred_lr)\n",
        "     \n",
        "    \n",
        "    if score_lr>maxR2score:\n",
        "   \n",
        "        maxR2score = score_lr\n",
        "              \n",
        "        maxRS = i\n",
        "print(\"Maximum R2 Score:\",maxR2score,\"at random state \", maxRS)"
      ],
      "metadata": {
        "colab": {
          "base_uri": "https://localhost:8080/"
        },
        "id": "YhVa04fIJE-T",
        "outputId": "eb5439ec-e41f-48d5-f8d6-70b5e4cc3a1b"
      },
      "execution_count": 64,
      "outputs": [
        {
          "output_type": "stream",
          "name": "stdout",
          "text": [
            "Maximum R2 Score: 0.7450033731402048 at random state  577\n"
          ]
        }
      ]
    },
    {
      "cell_type": "markdown",
      "source": [
        "**Taking random state = 577 as for the base model, we are getting maximum R2 score**"
      ],
      "metadata": {
        "id": "Rx2eRK7ZJeTy"
      }
    },
    {
      "cell_type": "code",
      "source": [
        "# Train and test split using best random state\n",
        "X_train,X_test,y_train,y_test = train_test_split(X_scaler,y,test_size=0.2,random_state=577)"
      ],
      "metadata": {
        "id": "0E3_ddeEJquq"
      },
      "execution_count": 66,
      "outputs": []
    },
    {
      "cell_type": "markdown",
      "source": [
        "**Model 1 . LINEAR REGRESSION**"
      ],
      "metadata": {
        "id": "wB74848CKJEM"
      }
    },
    {
      "cell_type": "code",
      "source": [
        "lr = LinearRegression()\n",
        "\n",
        "lr.fit(X_train,y_train)\n",
        "\n",
        "pred_train = lr.predict(X_train)\n",
        "\n",
        "pred_test = lr.predict(X_test)\n",
        "\n",
        "score_train = r2_score(y_train,pred_train)\n",
        "\n",
        "score_test = r2_score(y_test,pred_test)\n",
        "\n",
        "print(\"Training accuracy:\",score_train*100)\n",
        "\n",
        "print(\"Testing accuracy:\",score_test*100)\n",
        "\n",
        "cv_score = cross_val_score(lr,X_scaler,y,cv=5)\n",
        "\n",
        "cv_mean = cv_score.mean()\n",
        "\n",
        "print(f\"At cross fold 5, the cv score is {cv_mean} and accuracy score for training is {score_train} and accuracy for testing is {score_test}\")\n",
        "\n",
        "# MSE - ignoring some outliers means larger errors are punished. Hard to interpretate but most popular\n",
        "\n",
        "mse = mean_squared_error(y_test,pred_test)\n",
        "\n",
        "# RMSE\n",
        "\n",
        "rmse = np.sqrt(mse)\n",
        "\n",
        "print(\"Root mean squared Error:\",rmse)"
      ],
      "metadata": {
        "colab": {
          "base_uri": "https://localhost:8080/"
        },
        "id": "X6oddEdRKDro",
        "outputId": "16d2b7e9-5b37-4cd4-d68c-a47eb3fe2f9d"
      },
      "execution_count": 67,
      "outputs": [
        {
          "output_type": "stream",
          "name": "stdout",
          "text": [
            "Training accuracy: 66.2638642333782\n",
            "Testing accuracy: 74.50033731402048\n",
            "At cross fold 5, the cv score is -1.0331149390361531 and accuracy score for training is 0.662638642333782 and accuracy for testing is 0.7450033731402048\n",
            "Root mean squared Error: 9135.849849368999\n"
          ]
        }
      ]
    },
    {
      "cell_type": "markdown",
      "source": [
        "**LASSO REGULARIZATION**"
      ],
      "metadata": {
        "id": "LdjQZI_nKn7h"
      }
    },
    {
      "cell_type": "code",
      "source": [
        "lasscv = LassoCV(alphas = None, max_iter = 1000, normalize = True)\n",
        "\n",
        "lasscv.fit(X_train,y_train)\n",
        "\n",
        "#Best alpha parameter\n",
        "alpha = lasscv.alpha_\n",
        "\n",
        "lasso_reg =Lasso(alpha)\n",
        "\n",
        "lasso_reg.fit(X_train,y_train)\n",
        "\n",
        "pred_test = lasso_reg.predict(X_test)\n",
        "\n",
        "print(lasso_reg.score(X_test,y_test)*100)"
      ],
      "metadata": {
        "colab": {
          "base_uri": "https://localhost:8080/"
        },
        "id": "bL307HvPKttO",
        "outputId": "23222759-c959-44da-ed8e-3375f05678e2"
      },
      "execution_count": 68,
      "outputs": [
        {
          "output_type": "stream",
          "name": "stdout",
          "text": [
            "74.49983048823813\n"
          ]
        }
      ]
    },
    {
      "cell_type": "markdown",
      "source": [
        "*The test score for Linear regression and after regularization is almost same*"
      ],
      "metadata": {
        "id": "kR6J6lCKK_k-"
      }
    },
    {
      "cell_type": "markdown",
      "source": [
        "**Model 2 - KNN REGRESSOR**"
      ],
      "metadata": {
        "id": "9VWf2mTVLG56"
      }
    },
    {
      "cell_type": "code",
      "source": [
        "knn = KNeighborsRegressor()\n",
        "\n",
        "knn.fit(X_train,y_train)\n",
        "\n",
        "pred_train = knn.predict(X_train)       # Predicting training data with the model\n",
        "\n",
        "acc_train = metrics.r2_score(y_train,pred_train)    # Training accuracy\n",
        "\n",
        "print(\"=====K Neighbors Regressor=====\")\n",
        "\n",
        "print(\"R square score for training dataset for K Neighbors regressor: \", acc_train)\n",
        "\n",
        "pred_test = knn.predict(X_test)       # Predicting test data with the model\n",
        "\n",
        "acc_test = metrics.r2_score(y_test,pred_test)     # Testing accuracy\n",
        "\n",
        "print(\"R square score for test dataset for K Neighbors Regressor: \", acc_test)\n",
        "\n",
        "knn_score = cross_val_score(knn,X_scaler,y,cv=5)\n",
        "\n",
        "knn_m = knn_score.mean()\n",
        "\n",
        "print(\"Cross val score for K Neighbors Regresor:\",knn_m*100)\n",
        "\n",
        "\n",
        "mse = mean_squared_error(y_test,pred_test)\n",
        "\n",
        "# RMSE\n",
        "\n",
        "rmse = np.sqrt(mse)\n",
        "\n",
        "print(\"Root mean squared Error:\",rmse)"
      ],
      "metadata": {
        "colab": {
          "base_uri": "https://localhost:8080/"
        },
        "id": "9WJvhBLmLBWr",
        "outputId": "9146c30f-763f-4335-f98b-705336cc6b0e"
      },
      "execution_count": 69,
      "outputs": [
        {
          "output_type": "stream",
          "name": "stdout",
          "text": [
            "=====K Neighbors Regressor=====\n",
            "R square score for training dataset for K Neighbors regressor:  0.9098012833592373\n",
            "R square score for test dataset for K Neighbors Regressor:  0.898871456658288\n",
            "Cross val score for K Neighbors Regresor: -87.89534886692118\n",
            "Root mean squared Error: 5753.321074144402\n"
          ]
        }
      ]
    },
    {
      "cell_type": "markdown",
      "source": [
        "**TUNING PARAMETERS FOR KNN REGRESSOR**"
      ],
      "metadata": {
        "id": "6A9Tg46yMcrj"
      }
    },
    {
      "cell_type": "code",
      "source": [
        "params_knn = {'n_neighbors':[4,5,6,7,8],\n",
        "              'weights':['uniform','distance'],\n",
        "              'algorithm':['auto','ball_tree', 'kd_tree', 'brute'],\n",
        "              'n_jobs':[-1,1]\n",
        "             }\n",
        "\n",
        "grd_knn = GridSearchCV(knn,params_knn)\n",
        "\n",
        "grd_knn.fit(X_train,y_train)\n",
        "\n",
        "print(grd_knn.best_params_)"
      ],
      "metadata": {
        "colab": {
          "base_uri": "https://localhost:8080/"
        },
        "id": "7ICsTw1WMeZl",
        "outputId": "0d43dbcd-3796-49d0-81ee-7a26ac5321de"
      },
      "execution_count": 70,
      "outputs": [
        {
          "output_type": "stream",
          "name": "stdout",
          "text": [
            "{'algorithm': 'brute', 'n_jobs': -1, 'n_neighbors': 5, 'weights': 'distance'}\n"
          ]
        }
      ]
    },
    {
      "cell_type": "code",
      "source": [
        "knn = grd_knn.best_estimator_\n",
        "\n",
        "knn.fit(X_train,y_train)\n",
        "\n",
        "pred_train = knn.predict(X_train)       # Predicting training data with the model\n",
        "\n",
        "acc_train = metrics.r2_score(y_train,pred_train)    # Training accuracy\n",
        "\n",
        "print(\"R square score for training dataset for K Neighbors regressor after tuning: \", acc_train)\n",
        "\n",
        "pred_test = knn.predict(X_test)       # Predicting test data with the model\n",
        "\n",
        "acc_test = metrics.r2_score(y_test,pred_test)\n",
        "\n",
        "print(\"R square score for test dataset for K Neighbors Regressor after tuning: \", acc_test)\n",
        "\n",
        "knn_score = cross_val_score(knn,X_scaler,y,cv=5)\n",
        "\n",
        "knn_m = knn_score.mean()\n",
        "\n",
        "print(\"Cross val score for K Neighbors Regresor after tuning:\",knn_m*100)\n",
        "\n",
        "mse = mean_squared_error(y_test,pred_test)\n",
        "\n",
        "# RMSE\n",
        "\n",
        "rmse = np.sqrt(mse)\n",
        "\n",
        "print(\"Root mean squared Error for K Neighbors Regressor after tuning:\",rmse)"
      ],
      "metadata": {
        "colab": {
          "base_uri": "https://localhost:8080/"
        },
        "id": "QgPbFvRHNPC-",
        "outputId": "fc1a3655-ce76-41ff-ad94-6b18f4412b27"
      },
      "execution_count": 71,
      "outputs": [
        {
          "output_type": "stream",
          "name": "stdout",
          "text": [
            "R square score for training dataset for K Neighbors regressor after tuning:  0.9997986174285391\n",
            "R square score for test dataset for K Neighbors Regressor after tuning:  0.9021606449902754\n",
            "Cross val score for K Neighbors Regresor after tuning: -84.6834349094018\n",
            "Root mean squared Error for K Neighbors Regressor after tuning: 5658.984780490862\n"
          ]
        }
      ]
    },
    {
      "cell_type": "markdown",
      "source": [
        "**Model 3 - RANDOM FOREST REGRESSOR**"
      ],
      "metadata": {
        "id": "VOZ0o3HdNaHR"
      }
    },
    {
      "cell_type": "code",
      "source": [
        "rf = RandomForestRegressor()\n",
        "\n",
        "rf.fit(X_train,y_train)\n",
        "\n",
        "rf.score(X_train,y_train)\n",
        "\n",
        "pred_train = rf.predict(X_train)\n",
        "\n",
        "pred_test = rf.predict(X_test)\n",
        "\n",
        "score_train = r2_score(y_train,pred_train)\n",
        "\n",
        "score_test = r2_score(y_test,pred_test)\n",
        "\n",
        "print(\"=====RANDOM FOREST REGRESSOR=====\")\n",
        "\n",
        "print(\"Training accuracy for Random Forest model:\",score_train*100)\n",
        "\n",
        "print(\"Testing accuracy for Random Forest model:\",score_test*100)\n",
        "\n",
        "cv_score = cross_val_score(rf,X_scaler,y,cv=5)\n",
        "\n",
        "cv_mean = cv_score.mean()\n",
        "\n",
        "print(f\"At cross fold 5, the cv score is {cv_mean*100} \")\n",
        "\n",
        "# MSE - ignoring some outliers means larger errors are punished. Hard to interpretate but most popular\n",
        "\n",
        "mse = mean_squared_error(y_test,pred_test)\n",
        "\n",
        "# RMSE\n",
        "\n",
        "rmse = np.sqrt(mse)\n",
        "\n",
        "print(\"Root mean squared Error for Random Forest Regressor:\",rmse)\n"
      ],
      "metadata": {
        "colab": {
          "base_uri": "https://localhost:8080/"
        },
        "id": "7kiDh65FNgco",
        "outputId": "b9aa3fe9-5a7d-4e33-cf38-8962e4e21354"
      },
      "execution_count": 72,
      "outputs": [
        {
          "output_type": "stream",
          "name": "stdout",
          "text": [
            "=====RANDOM FOREST REGRESSOR=====\n",
            "Training accuracy for Random Forest model: 98.63136844240846\n",
            "Testing accuracy for Random Forest model: 92.71777529920374\n",
            "At cross fold 5, the cv score is 57.455358203543106 \n",
            "Root mean squared Error for Random Forest Regressor: 4882.179840888337\n"
          ]
        }
      ]
    },
    {
      "cell_type": "markdown",
      "source": [
        "**TUNING PARAMETERS FOR RANDOM FOREST REGRESSOR**"
      ],
      "metadata": {
        "id": "1ElNQyhzQEwG"
      }
    },
    {
      "cell_type": "code",
      "source": [
        "params_rf = {'min_samples_split':(2,3,4,5),\n",
        "             'min_samples_leaf' :(2,3,4),             \n",
        "             'max_depth':(10,15,20)}\n",
        "\n",
        "grd_rf = GridSearchCV(rf,params_rf)\n",
        "\n",
        "grd_rf.fit(X_train,y_train)\n",
        "\n",
        "print(grd_rf.best_params_)"
      ],
      "metadata": {
        "colab": {
          "base_uri": "https://localhost:8080/"
        },
        "id": "vL1oEuE9QLWN",
        "outputId": "7b78a659-8615-4929-e71d-0376b95519f8"
      },
      "execution_count": 73,
      "outputs": [
        {
          "output_type": "stream",
          "name": "stdout",
          "text": [
            "{'max_depth': 20, 'min_samples_leaf': 3, 'min_samples_split': 2}\n"
          ]
        }
      ]
    },
    {
      "cell_type": "code",
      "source": [
        "rf = grd_rf.best_estimator_\n",
        "\n",
        "rf.fit(X_train,y_train)\n",
        "\n",
        "rf.score(X_train,y_train)\n",
        "\n",
        "pred_test = rf.predict(X_test)\n",
        "\n",
        "rfs = r2_score(y_test,pred_test)\n",
        "\n",
        "print(\"=====After tuning parameters of Random Forest=====\")\n",
        "\n",
        "print(\"R2 score for Random Forest Model after tuning:\",rfs*100)\n",
        "\n",
        "rf_score = cross_val_score(rf,X_scaler,y,cv=5)\n",
        "\n",
        "rfc = rf_score.mean()\n",
        "\n",
        "print(\"Cross val score for Random Forest model after tuning:\",rfc*100)\n",
        "\n",
        "# MSE - ignoring some outliers means larger errors are punished. Hard to interpretate but most popular\n",
        "\n",
        "mse = mean_squared_error(y_test,pred_test)\n",
        "\n",
        "# RMSE\n",
        "\n",
        "rmse = np.sqrt(mse)\n",
        "\n",
        "print(\"Root mean squared Error for Random Forest model after tuning:\",rmse)"
      ],
      "metadata": {
        "colab": {
          "base_uri": "https://localhost:8080/"
        },
        "id": "kNkRGLh0QS9O",
        "outputId": "81b13fe0-171f-456d-ebd1-8a4635d3cf7a"
      },
      "execution_count": 74,
      "outputs": [
        {
          "output_type": "stream",
          "name": "stdout",
          "text": [
            "=====After tuning parameters of Random Forest=====\n",
            "R2 score for Random Forest Model after tuning: 92.56385480116181\n",
            "Cross val score for Random Forest model after tuning: 58.55001502059382\n",
            "Root mean squared Error for Random Forest model after tuning: 4933.506060530634\n"
          ]
        }
      ]
    },
    {
      "cell_type": "markdown",
      "source": [
        "**Model 4 - ADA BOOST REGRESSOR**"
      ],
      "metadata": {
        "id": "P0Bz85NvQsQ5"
      }
    },
    {
      "cell_type": "code",
      "source": [
        "ada = AdaBoostRegressor()\n",
        "\n",
        "ada.fit(X_train,y_train)\n",
        "\n",
        "pred_train = ada.predict(X_train)       # Predicting training data with the model\n",
        "\n",
        "acc_train = metrics.r2_score(y_train,pred_train)    # Training accuracy\n",
        "\n",
        "print(\"=====ADA BOOST REGRESSOR=====\")\n",
        "\n",
        "print(\"R square score for training dataset for Ada Boost regressor: \", acc_train)\n",
        "\n",
        "pred_test = ada.predict(X_test)       # Predicting test data with the model\n",
        "\n",
        "acc_test = metrics.r2_score(y_test,pred_test)\n",
        "\n",
        "print(\"R square score for test dataset for Ada Boost Regressor: \", acc_test)\n",
        "\n",
        "ada_score = cross_val_score(ada,X_scaler,y,cv=5)\n",
        "\n",
        "ada_m = ada_score.mean()\n",
        "\n",
        "print(\"Cross val score for Ada Boost Regresor:\",ada_m*100)\n",
        "\n",
        "\n",
        "mse = mean_squared_error(y_test,pred_test)\n",
        "\n",
        "# RMSE\n",
        "\n",
        "rmse = np.sqrt(mse)\n",
        "\n",
        "print(\"Root mean squared Error for ada boost Regressor:\",rmse)"
      ],
      "metadata": {
        "colab": {
          "base_uri": "https://localhost:8080/"
        },
        "id": "-gMfm_HIQ0BJ",
        "outputId": "e389e2c5-1d8a-4ee8-af5a-67e8c1951de5"
      },
      "execution_count": 75,
      "outputs": [
        {
          "output_type": "stream",
          "name": "stdout",
          "text": [
            "=====ADA BOOST REGRESSOR=====\n",
            "R square score for training dataset for Ada Boost regressor:  0.7672991177224321\n",
            "R square score for test dataset for Ada Boost Regressor:  0.7906525821711512\n",
            "Cross val score for Ada Boost Regresor: -62.17501650930946\n",
            "Root mean squared Error for ada boost Regressor: 8277.811635795671\n"
          ]
        }
      ]
    },
    {
      "cell_type": "markdown",
      "source": [
        "**Tuning Parameters for Ada Boost Regressor**"
      ],
      "metadata": {
        "id": "lgOXgnZQRKJZ"
      }
    },
    {
      "cell_type": "code",
      "source": [
        "params_ada = {'n_estimators': [49,51,60],\n",
        "          'learning_rate':[0.90,0.85,0.30] }\n",
        "\n",
        "grd_ada = GridSearchCV(ada,params_ada)\n",
        "\n",
        "grd_ada.fit(X_train,y_train)\n",
        "\n",
        "print(grd_ada.best_params_)"
      ],
      "metadata": {
        "colab": {
          "base_uri": "https://localhost:8080/"
        },
        "id": "i2vR4izNRL-K",
        "outputId": "9553b925-e00a-4f0c-a131-18e078a85ad4"
      },
      "execution_count": 76,
      "outputs": [
        {
          "output_type": "stream",
          "name": "stdout",
          "text": [
            "{'learning_rate': 0.3, 'n_estimators': 51}\n"
          ]
        }
      ]
    },
    {
      "cell_type": "code",
      "source": [
        "ada = grd_ada.best_estimator_\n",
        "\n",
        "ada.fit(X_train,y_train)\n",
        "\n",
        "pred_train = ada.predict(X_train)       # Predicting training data with the model\n",
        "\n",
        "acc_train = metrics.r2_score(y_train,pred_train)    # Training accuracy\n",
        "\n",
        "print(\"=====ADA BOOST REGRESSOR=====\")\n",
        "\n",
        "print(\"R square score for training dataset for Ada Boost regressor: \", acc_train)\n",
        "\n",
        "pred_test = ada.predict(X_test)       # Predicting test data with the model\n",
        "\n",
        "acc_test = metrics.r2_score(y_test,pred_test)\n",
        "\n",
        "print(\"R square score for test dataset for Ada Boost Regressor: \", acc_test)\n",
        "\n",
        "ada_score = cross_val_score(ada,X_scaler,y,cv=5)\n",
        "\n",
        "ada_m = ada_score.mean()\n",
        "\n",
        "print(\"Cross val score for Ada Boost Regresor:\",ada_m*100)\n",
        "\n",
        "\n",
        "mse = mean_squared_error(y_test,pred_test)\n",
        "\n",
        "# RMSE\n",
        "\n",
        "rmse = np.sqrt(mse)\n",
        "\n",
        "print(\"Root mean squared Error for ada boost Regressor:\",rmse)"
      ],
      "metadata": {
        "colab": {
          "base_uri": "https://localhost:8080/"
        },
        "id": "xKrdZ2udRnNH",
        "outputId": "0ae9af78-b21b-493c-9edc-c71b13b1a87f"
      },
      "execution_count": 77,
      "outputs": [
        {
          "output_type": "stream",
          "name": "stdout",
          "text": [
            "=====ADA BOOST REGRESSOR=====\n",
            "R square score for training dataset for Ada Boost regressor:  0.8213056426945393\n",
            "R square score for test dataset for Ada Boost Regressor:  0.8362370260958597\n",
            "Cross val score for Ada Boost Regresor: 46.20790174441039\n",
            "Root mean squared Error for ada boost Regressor: 7321.323442997319\n"
          ]
        }
      ]
    },
    {
      "cell_type": "markdown",
      "source": [
        "**Model 5 - SUPPORT VECTOR REGRESSOR**"
      ],
      "metadata": {
        "id": "sMa2lrKjR860"
      }
    },
    {
      "cell_type": "code",
      "source": [
        "svr = SVR()\n",
        "\n",
        "svr.fit(X_train,y_train)\n",
        "\n",
        "pred_train = svr.predict(X_train)       # Predicting training data with the model\n",
        "\n",
        "acc_train = metrics.r2_score(y_train,pred_train)    # Training accuracy\n",
        "\n",
        "print(\"R square score for training dataset for SVR: \", acc_train)\n",
        "\n",
        "pred_test = svr.predict(X_test)       # Predicting test data with the model\n",
        "\n",
        "acc_test = metrics.r2_score(y_test,pred_test)\n",
        "\n",
        "print(\"R square score for test dataset for SVR: \", acc_test)\n",
        "\n",
        "svr_score = cross_val_score(svr,X_scaler,y,cv=5)\n",
        "\n",
        "svr_m = svr_score.mean()\n",
        "\n",
        "print(\"Cross val score for SVR:\",svr_m*100)\n",
        "\n",
        "\n",
        "mse = mean_squared_error(y_test,pred_test)\n",
        "\n",
        "# RMSE\n",
        "\n",
        "rmse = np.sqrt(mse)\n",
        "\n",
        "print(\"Root mean squared Error for SVR:\",rmse)"
      ],
      "metadata": {
        "colab": {
          "base_uri": "https://localhost:8080/"
        },
        "id": "UcK_cxXJSDgo",
        "outputId": "b430db31-0b0c-467b-9322-373dccf4eaf4"
      },
      "execution_count": 78,
      "outputs": [
        {
          "output_type": "stream",
          "name": "stdout",
          "text": [
            "R square score for training dataset for SVR:  -0.1145313586749237\n",
            "R square score for test dataset for SVR:  -0.150396272743321\n",
            "Cross val score for SVR: -177.8788502326215\n",
            "Root mean squared Error for SVR: 19404.634565938213\n"
          ]
        }
      ]
    },
    {
      "cell_type": "markdown",
      "source": [
        "*The output values doesn't look at all good, better to go for other model*"
      ],
      "metadata": {
        "id": "DLQZUqv0SV-9"
      }
    },
    {
      "cell_type": "markdown",
      "source": [
        "**Model 6 - Extreme Gradient Boosting Regressor**"
      ],
      "metadata": {
        "id": "bBK1DrE5SecG"
      }
    },
    {
      "cell_type": "code",
      "source": [
        "xgb = XGBRegressor()\n",
        "\n",
        "xgb.fit(X_train,y_train)\n",
        "\n",
        "xgb.score(X_train,y_train)\n",
        "\n",
        "pred_train = xgb.predict(X_train)\n",
        "\n",
        "pred_test = xgb.predict(X_test)\n",
        "\n",
        "score_train = r2_score(y_train,pred_train)\n",
        "\n",
        "score_test = r2_score(y_test,pred_test)\n",
        "\n",
        "print(\"=====XGBoosting REGRESSOR=====\")\n",
        "\n",
        "print(\"Training accuracy for XGradient Boost model:\",score_train*100)\n",
        "\n",
        "print(\"Testing accuracy for XGradient Boost model:\",score_test*100)\n",
        "\n",
        "cv_score = cross_val_score(xgb,X_scaler,y,cv=5)\n",
        "\n",
        "cv_mean = cv_score.mean()\n",
        "\n",
        "print(f\"At cross fold 5, the cv score is {cv_mean*100} \")\n",
        "\n",
        "# MSE - ignoring some outliers means larger errors are punished. Hard to interpretate but most popular\n",
        "\n",
        "mse = mean_squared_error(y_test,pred_test)\n",
        "\n",
        "# RMSE\n",
        "\n",
        "rmse = np.sqrt(mse)\n",
        "\n",
        "print(\"Root mean squared Error for XGradient Boosting model:\",rmse)"
      ],
      "metadata": {
        "colab": {
          "base_uri": "https://localhost:8080/"
        },
        "id": "14RvKqhtSadz",
        "outputId": "c28d1ab3-a7de-43ef-f698-047b3e787ba3"
      },
      "execution_count": 79,
      "outputs": [
        {
          "output_type": "stream",
          "name": "stdout",
          "text": [
            "[10:05:40] WARNING: /workspace/src/objective/regression_obj.cu:152: reg:linear is now deprecated in favor of reg:squarederror.\n",
            "=====XGBoosting REGRESSOR=====\n",
            "Training accuracy for XGradient Boost model: 92.20843757213169\n",
            "Testing accuracy for XGradient Boost model: 91.18479392429315\n",
            "[10:05:40] WARNING: /workspace/src/objective/regression_obj.cu:152: reg:linear is now deprecated in favor of reg:squarederror.\n",
            "[10:05:40] WARNING: /workspace/src/objective/regression_obj.cu:152: reg:linear is now deprecated in favor of reg:squarederror.\n",
            "[10:05:40] WARNING: /workspace/src/objective/regression_obj.cu:152: reg:linear is now deprecated in favor of reg:squarederror.\n",
            "[10:05:41] WARNING: /workspace/src/objective/regression_obj.cu:152: reg:linear is now deprecated in favor of reg:squarederror.\n",
            "[10:05:41] WARNING: /workspace/src/objective/regression_obj.cu:152: reg:linear is now deprecated in favor of reg:squarederror.\n",
            "At cross fold 5, the cv score is 59.471124387871996 \n",
            "Root mean squared Error for XGradient Boosting model: 5371.529560925735\n"
          ]
        }
      ]
    },
    {
      "cell_type": "markdown",
      "source": [
        "**Tuning parameters for XGB**"
      ],
      "metadata": {
        "id": "F7qztPkZS6Zm"
      }
    },
    {
      "cell_type": "code",
      "source": [
        "params_xgb = {'max_depth':[3,4,5,6],\n",
        "              'learning_rate':(0.01,0.001,0.1),\n",
        "              'min_child_weight':(0,1,2),\n",
        "              'max_delta_step':(0,1,2)\n",
        "              }\n",
        "\n",
        "grd_xgb = GridSearchCV(xgb,params_xgb)\n",
        "\n",
        "grd_xgb.fit(X_train,y_train)\n",
        "\n",
        "print(grd_xgb.best_params_)"
      ],
      "metadata": {
        "colab": {
          "base_uri": "https://localhost:8080/"
        },
        "id": "II2e3gOaS90K",
        "outputId": "1c0acf48-0f82-4887-9396-75910e44af33"
      },
      "execution_count": 82,
      "outputs": [
        {
          "output_type": "stream",
          "name": "stdout",
          "text": [
            "[10:08:52] WARNING: /workspace/src/objective/regression_obj.cu:152: reg:linear is now deprecated in favor of reg:squarederror.\n",
            "[10:08:52] WARNING: /workspace/src/objective/regression_obj.cu:152: reg:linear is now deprecated in favor of reg:squarederror.\n",
            "[10:08:52] WARNING: /workspace/src/objective/regression_obj.cu:152: reg:linear is now deprecated in favor of reg:squarederror.\n",
            "[10:08:52] WARNING: /workspace/src/objective/regression_obj.cu:152: reg:linear is now deprecated in favor of reg:squarederror.\n",
            "[10:08:53] WARNING: /workspace/src/objective/regression_obj.cu:152: reg:linear is now deprecated in favor of reg:squarederror.\n",
            "[10:08:53] WARNING: /workspace/src/objective/regression_obj.cu:152: reg:linear is now deprecated in favor of reg:squarederror.\n",
            "[10:08:53] WARNING: /workspace/src/objective/regression_obj.cu:152: reg:linear is now deprecated in favor of reg:squarederror.\n",
            "[10:08:53] WARNING: /workspace/src/objective/regression_obj.cu:152: reg:linear is now deprecated in favor of reg:squarederror.\n",
            "[10:08:53] WARNING: /workspace/src/objective/regression_obj.cu:152: reg:linear is now deprecated in favor of reg:squarederror.\n",
            "[10:08:53] WARNING: /workspace/src/objective/regression_obj.cu:152: reg:linear is now deprecated in favor of reg:squarederror.\n",
            "[10:08:53] WARNING: /workspace/src/objective/regression_obj.cu:152: reg:linear is now deprecated in favor of reg:squarederror.\n",
            "[10:08:53] WARNING: /workspace/src/objective/regression_obj.cu:152: reg:linear is now deprecated in favor of reg:squarederror.\n",
            "[10:08:53] WARNING: /workspace/src/objective/regression_obj.cu:152: reg:linear is now deprecated in favor of reg:squarederror.\n",
            "[10:08:53] WARNING: /workspace/src/objective/regression_obj.cu:152: reg:linear is now deprecated in favor of reg:squarederror.\n",
            "[10:08:53] WARNING: /workspace/src/objective/regression_obj.cu:152: reg:linear is now deprecated in favor of reg:squarederror.\n",
            "[10:08:53] WARNING: /workspace/src/objective/regression_obj.cu:152: reg:linear is now deprecated in favor of reg:squarederror.\n",
            "[10:08:53] WARNING: /workspace/src/objective/regression_obj.cu:152: reg:linear is now deprecated in favor of reg:squarederror.\n",
            "[10:08:53] WARNING: /workspace/src/objective/regression_obj.cu:152: reg:linear is now deprecated in favor of reg:squarederror.\n",
            "{'learning_rate': 0.1, 'max_delta_step': 0, 'max_depth': 5, 'min_child_weight': 2}\n"
          ]
        }
      ]
    },
    {
      "cell_type": "code",
      "source": [
        "xgb = grd_xgb.best_estimator_\n",
        "\n",
        "xgb.fit(X_train,y_train)\n",
        "\n",
        "xgb.score(X_train,y_train)\n",
        "\n",
        "pred_train = xgb.predict(X_train)\n",
        "\n",
        "pred_test = xgb.predict(X_test)\n",
        "\n",
        "score_train = r2_score(y_train,pred_train)\n",
        "\n",
        "score_test = r2_score(y_test,pred_test)\n",
        "\n",
        "print(\"=====XGradient Boosting REGRESSOR=====\")\n",
        "\n",
        "print(\"Training accuracy for XGradient Boost model:\",score_train*100)\n",
        "\n",
        "print(\"Testing accuracy for XGradient Boost model:\",score_test*100)\n",
        "\n",
        "cv_score = cross_val_score(xgb,X_scaler,y,cv=5)\n",
        "\n",
        "cv_mean = cv_score.mean()\n",
        "\n",
        "print(f\"At cross fold 5, the cv score is {cv_mean*100} \")\n",
        "\n",
        "# MSE - ignoring some outliers means larger errors are punished. Hard to interpretate but most popular\n",
        "\n",
        "mse = mean_squared_error(y_test,pred_test)\n",
        "\n",
        "# RMSE\n",
        "\n",
        "rmse = np.sqrt(mse)\n",
        "\n",
        "print(\"Root mean squared Error for XGradient Boosting model:\",rmse)"
      ],
      "metadata": {
        "colab": {
          "base_uri": "https://localhost:8080/"
        },
        "id": "1W5TUWStTgME",
        "outputId": "05cf531c-c31b-47a0-ef96-e1ad5c8a457d"
      },
      "execution_count": 83,
      "outputs": [
        {
          "output_type": "stream",
          "name": "stdout",
          "text": [
            "[10:09:40] WARNING: /workspace/src/objective/regression_obj.cu:152: reg:linear is now deprecated in favor of reg:squarederror.\n",
            "=====XGradient Boosting REGRESSOR=====\n",
            "Training accuracy for XGradient Boost model: 96.46038032319278\n",
            "Testing accuracy for XGradient Boost model: 92.50573204920447\n",
            "[10:09:40] WARNING: /workspace/src/objective/regression_obj.cu:152: reg:linear is now deprecated in favor of reg:squarederror.\n",
            "[10:09:40] WARNING: /workspace/src/objective/regression_obj.cu:152: reg:linear is now deprecated in favor of reg:squarederror.\n",
            "[10:09:40] WARNING: /workspace/src/objective/regression_obj.cu:152: reg:linear is now deprecated in favor of reg:squarederror.\n",
            "[10:09:40] WARNING: /workspace/src/objective/regression_obj.cu:152: reg:linear is now deprecated in favor of reg:squarederror.\n",
            "[10:09:40] WARNING: /workspace/src/objective/regression_obj.cu:152: reg:linear is now deprecated in favor of reg:squarederror.\n",
            "At cross fold 5, the cv score is 56.40740832801063 \n",
            "Root mean squared Error for XGradient Boosting model: 4952.749283690575\n"
          ]
        }
      ]
    },
    {
      "cell_type": "markdown",
      "source": [
        "**There is minimum difference between training and testing R2 score for XGB model**\n",
        "\n",
        "**Hence XGB is the model which best fits our data in predicting the price of flights**"
      ],
      "metadata": {
        "id": "f20QwS1PTyOj"
      }
    },
    {
      "cell_type": "markdown",
      "source": [
        "# **Saving the Model**"
      ],
      "metadata": {
        "id": "eOl8HuuUURz5"
      }
    },
    {
      "cell_type": "code",
      "source": [
        "import pickle\n",
        "filename = 'Flight_price_prediction_reg.pkl'\n",
        "pickle.dump(xgb,open(filename,'wb'))"
      ],
      "metadata": {
        "id": "vYkirqm4UPeb"
      },
      "execution_count": 84,
      "outputs": []
    },
    {
      "cell_type": "markdown",
      "source": [
        "# **Price Prediction using saved Model**"
      ],
      "metadata": {
        "id": "NMw3uespU3BU"
      }
    },
    {
      "cell_type": "code",
      "source": [
        "loaded_model = pickle.load(open('Flight_price_prediction_reg.pkl','rb'))\n",
        "result = loaded_model.predict(X_test)\n",
        "result"
      ],
      "metadata": {
        "colab": {
          "base_uri": "https://localhost:8080/"
        },
        "id": "uzkeDByWU_Uq",
        "outputId": "20b16fac-08a8-4464-a719-13f79241d541"
      },
      "execution_count": 85,
      "outputs": [
        {
          "output_type": "stream",
          "name": "stdout",
          "text": [
            "[10:16:25] WARNING: /workspace/src/objective/regression_obj.cu:152: reg:linear is now deprecated in favor of reg:squarederror.\n"
          ]
        },
        {
          "output_type": "execute_result",
          "data": {
            "text/plain": [
              "array([ 6338.1724,  7148.074 ,  9475.261 ,  7261.019 , 30649.848 ,\n",
              "       16412.943 ,  6195.242 , 42345.848 ,  6953.9556, 25132.846 ,\n",
              "       46752.84  , 50309.58  , 41219.07  ,  7238.8994, 22012.318 ,\n",
              "       20415.33  , 73788.67  , 48214.33  ,  5718.412 , 40070.59  ,\n",
              "       47301.453 , 24381.348 , 16999.467 ,  6941.5635,  7710.6113,\n",
              "        6772.572 , 36998.016 , 16579.262 ,  6886.4307, 59359.68  ,\n",
              "       29088.332 ,  6263.0737, 42923.14  , 26051.51  , 14179.869 ,\n",
              "        7954.307 , 71562.305 , 50227.184 ,  7056.6685, 39767.88  ,\n",
              "       20970.307 , 49406.516 , 40805.836 ,  7383.6147, 49147.37  ,\n",
              "       15620.065 ,  5590.0273, 45994.523 ,  7871.9434,  6806.7134,\n",
              "       12389.969 ,  8015.4995,  6981.7124, 13991.522 , 14538.434 ,\n",
              "       17548.691 , 46805.555 , 41838.297 ,  7411.2534, 49035.98  ,\n",
              "        6755.537 , 39465.934 ,  7710.6113, 13358.803 , 14655.099 ,\n",
              "       49103.496 ,  7054.7744,  6556.504 , 15313.898 ,  7361.7803,\n",
              "        7388.927 , 15989.747 ,  9294.3   , 14616.576 , 41144.766 ,\n",
              "       16962.633 , 22238.938 , 37724.74  , 17448.29  , 11593.627 ,\n",
              "        7204.4214, 21065.428 , 48706.227 ,  6798.1343, 42658.04  ,\n",
              "       25668.002 , 52817.23  , 10156.038 , 14870.261 ,  7334.464 ,\n",
              "       68666.336 ,  6897.532 , 17213.84  , 16070.671 , 18921.973 ,\n",
              "       46849.332 , 15565.88  , 23481.805 ,  8067.275 , 39260.617 ,\n",
              "        8095.7007,  7367.7856, 39304.234 , 25113.262 , 46229.8   ,\n",
              "       58620.59  ,  6138.325 , 39759.848 ,  9872.177 ,  7300.4136,\n",
              "       39619.97  , 17649.617 , 21581.861 , 16472.795 ,  5742.191 ,\n",
              "       20864.727 , 27169.594 ,  7833.6   ,  6684.481 ,  7300.381 ,\n",
              "       15824.067 , 26116.297 , 23878.004 , 12148.219 , 14317.66  ,\n",
              "       16374.049 , 15196.937 ,  5750.1167, 28176.318 ,  7329.5996,\n",
              "       15864.157 , 23430.717 ,  8859.414 , 47970.34  , 68245.87  ,\n",
              "       25060.322 , 12744.935 ,  6694.3496, 36536.918 ,  7332.7603,\n",
              "       15443.956 , 46008.03  , 45847.77  , 32536.148 , 17278.006 ,\n",
              "        7894.9795,  7288.191 ,  6811.1045, 52086.43  ,  8298.322 ,\n",
              "       15291.732 ,  8290.52  , 22489.338 ,  8527.201 ,  7047.7866,\n",
              "       11250.333 , 43400.668 ,  5778.3604, 35457.707 ,  6022.162 ,\n",
              "       19208.88  ,  6293.4785,  6909.859 , 15041.581 , 15247.294 ,\n",
              "        8686.006 ,  7238.199 , 39150.785 , 14549.548 ,  6981.8945,\n",
              "       29094.248 ,  7168.3857,  6998.586 ,  9745.248 ,  7219.2993,\n",
              "        7641.673 , 18668.963 , 43998.082 ,  6946.4277, 13258.797 ,\n",
              "        8899.388 , 14765.184 , 17044.812 , 40228.273 , 38451.742 ,\n",
              "       41690.516 ,  7462.9595, 16200.794 ,  9377.484 ,  7263.6953,\n",
              "        7505.3623,  9146.101 , 15398.266 , 43820.133 , 49614.043 ,\n",
              "       12611.776 ,  7329.347 ,  6533.097 ,  8746.197 , 26192.283 ,\n",
              "       43787.37  ,  7439.1846,  6869.14  , 55506.95  , 44338.51  ,\n",
              "        7886.642 ,  9549.978 ,  7197.328 , 32688.553 , 39994.83  ,\n",
              "       64054.605 ,  7003.874 , 40070.59  , 13639.309 ,  7469.1943,\n",
              "       48087.453 , 51936.71  ,  7322.6504,  7190.1646,  7888.3794,\n",
              "        6916.5312,  6789.4414, 16276.011 , 46268.9   ,  7096.1157,\n",
              "       51516.844 , 47002.09  , 21538.943 ,  7367.0215, 27808.096 ,\n",
              "       45761.758 ,  7068.3076,  7716.1846, 51230.71  , 17406.408 ,\n",
              "       16478.943 , 61748.348 , 28343.633 , 30905.639 ,  7921.6504,\n",
              "       16363.578 ,  6864.595 , 29869.55  ,  5686.4946,  8547.383 ,\n",
              "       28893.    ,  7129.47  , 13925.367 ,  8766.786 , 63509.25  ,\n",
              "       44905.547 , 16741.21  ,  7719.1167,  6400.6714,  8406.554 ,\n",
              "        8261.012 , 16353.588 ,  8106.74  ,  5927.6753, 25012.836 ,\n",
              "        5761.4863, 11666.857 , 14999.807 , 40887.36  , 15263.652 ,\n",
              "        6713.0674, 16747.83  , 49531.242 , 37674.92  , 15995.162 ,\n",
              "       15565.88  , 41251.633 , 41577.21  ,  8181.6274, 18757.695 ,\n",
              "       14915.207 , 21212.273 , 12953.209 ,  6511.953 , 14400.042 ,\n",
              "       14344.344 , 26336.752 ,  7882.3022, 27022.479 , 40767.94  ,\n",
              "        5858.433 ,  6380.491 , 46962.234 , 15070.035 , 15577.33  ,\n",
              "       15932.567 , 42465.605 , 33628.164 , 59705.5   ,  6394.601 ,\n",
              "        7250.972 , 18569.895 ,  8173.072 , 14945.704 ,  9053.129 ,\n",
              "       75167.92  ,  6932.849 , 64955.6   , 70984.27  , 15561.348 ,\n",
              "       15426.111 , 79117.95  ,  6146.2393, 15290.836 ,  9502.936 ,\n",
              "       16747.83  , 12754.325 , 24506.943 , 37724.74  , 18389.617 ,\n",
              "       24063.248 , 16367.204 , 13504.786 , 32445.127 ,  6117.952 ,\n",
              "       14539.109 , 31286.357 , 51280.254 , 74851.016 ,  7553.6333,\n",
              "       14806.266 , 65877.39  , 10037.264 ,  7026.4414,  7183.787 ,\n",
              "       15711.673 , 32688.553 , 14476.195 ,  6907.183 , 21348.707 ,\n",
              "        6650.416 ,  7585.082 , 14739.759 ,  7350.0376,  6460.4062,\n",
              "        6885.683 , 20462.371 , 20044.05  , 36373.96  , 31984.09  ,\n",
              "       75719.27  ,  7933.28  ,  7374.927 , 40701.094 , 43500.848 ,\n",
              "        8458.632 , 17835.229 , 15894.612 , 45674.92  ,  8005.3706,\n",
              "        6117.589 , 32538.53  ,  7336.643 ,  6437.695 , 50131.9   ,\n",
              "       46535.094 , 65828.65  , 44202.    , 16070.687 , 16101.704 ,\n",
              "       26051.51  , 37190.645 ,  7229.492 , 35134.207 , 37887.61  ,\n",
              "       39897.055 ,  5968.848 , 30057.11  ,  7333.835 , 34450.1   ,\n",
              "        7293.957 , 12529.238 , 58464.87  , 15026.006 , 38434.684 ,\n",
              "        7244.2954, 34906.887 ,  7255.891 ,  7426.4907, 21491.422 ,\n",
              "       15412.145 , 51047.043 ,  4513.1997,  7359.848 , 61779.45  ,\n",
              "       47447.758 , 20537.459 , 49413.594 , 24239.146 , 13226.179 ,\n",
              "       48183.42  ,  7059.5254,  7200.2974, 15993.196 , 16237.4   ,\n",
              "        7047.6987,  7564.382 ,  8834.116 , 29983.037 ,  7854.419 ,\n",
              "        6606.2295, 12157.781 , 40667.133 ,  7071.007 , 36632.535 ,\n",
              "        7245.296 ,  7368.5103,  7161.8594, 19398.545 ,  7218.7007,\n",
              "       39939.293 ,  6964.071 , 13358.637 ,  7003.6455, 35480.91  ,\n",
              "       37650.637 ,  5728.3745,  7597.0356,  7607.714 , 43206.707 ,\n",
              "       15593.729 , 64433.21  , 24107.99  , 12636.313 , 12350.965 ,\n",
              "       17246.42  ,  8231.334 ,  9636.226 ,  7731.1987, 63814.785 ,\n",
              "        6595.759 , 18679.645 , 14963.645 , 49678.48  , 19939.86  ,\n",
              "        9877.297 , 46749.51  ,  7398.0723,  7222.678 ,  7524.327 ,\n",
              "       50029.145 , 16458.174 ,  8161.428 , 69091.75  , 15762.656 ,\n",
              "        5349.3667, 48241.57  , 13949.535 , 60352.227 ,  6898.7197,\n",
              "       29678.434 , 17066.041 ,  5590.4717, 41930.582 ,  6177.1206,\n",
              "        7488.297 , 13177.963 ,  8277.206 , 43698.48  ,  9804.639 ,\n",
              "       16043.508 ,  6340.6064,  6813.961 , 25239.568 , 20878.662 ,\n",
              "       32333.482 , 48991.93  , 23856.87  , 41532.402 ], dtype=float32)"
            ]
          },
          "metadata": {},
          "execution_count": 85
        }
      ]
    },
    {
      "cell_type": "code",
      "source": [
        "conclusion_price = pd.DataFrame([loaded_model.predict(X_test)[:],y_test[:]],index=[\"Predicted\",\"Original\"])\n",
        "conclusion_price"
      ],
      "metadata": {
        "colab": {
          "base_uri": "https://localhost:8080/",
          "height": 205
        },
        "id": "xJwlHbI8WpIG",
        "outputId": "21b65520-377f-45dd-be61-9130c354791d"
      },
      "execution_count": 86,
      "outputs": [
        {
          "output_type": "execute_result",
          "data": {
            "text/plain": [
              "                   0            1            2            3             4    \\\n",
              "Predicted  6338.172363  7148.074219  9475.260742  7261.019043  30649.847656   \n",
              "Original   5801.000000  7308.000000  8609.000000  8716.000000  30092.000000   \n",
              "\n",
              "                    5            6             7            8             9    \\\n",
              "Predicted  16412.943359  6195.242188  42345.847656  6953.955566  25132.845703   \n",
              "Original   15992.000000  5856.000000  44450.000000  7320.000000  22712.000000   \n",
              "\n",
              "           ...          464           465          466          467  \\\n",
              "Predicted  ...  9804.638672  16043.507812  6340.606445  6813.960938   \n",
              "Original   ...  8621.000000  17436.000000  5688.000000  7308.000000   \n",
              "\n",
              "                    468           469           470           471  \\\n",
              "Predicted  25239.568359  20878.662109  32333.482422  48991.929688   \n",
              "Original   22140.000000  16310.000000  29806.000000  56860.000000   \n",
              "\n",
              "                    472           473  \n",
              "Predicted  23856.869141  41532.402344  \n",
              "Original   31694.000000  39847.000000  \n",
              "\n",
              "[2 rows x 474 columns]"
            ],
            "text/html": [
              "\n",
              "  <div id=\"df-772e810e-84c5-4ec2-84d3-4dfa2fe021a8\">\n",
              "    <div class=\"colab-df-container\">\n",
              "      <div>\n",
              "<style scoped>\n",
              "    .dataframe tbody tr th:only-of-type {\n",
              "        vertical-align: middle;\n",
              "    }\n",
              "\n",
              "    .dataframe tbody tr th {\n",
              "        vertical-align: top;\n",
              "    }\n",
              "\n",
              "    .dataframe thead th {\n",
              "        text-align: right;\n",
              "    }\n",
              "</style>\n",
              "<table border=\"1\" class=\"dataframe\">\n",
              "  <thead>\n",
              "    <tr style=\"text-align: right;\">\n",
              "      <th></th>\n",
              "      <th>0</th>\n",
              "      <th>1</th>\n",
              "      <th>2</th>\n",
              "      <th>3</th>\n",
              "      <th>4</th>\n",
              "      <th>5</th>\n",
              "      <th>6</th>\n",
              "      <th>7</th>\n",
              "      <th>8</th>\n",
              "      <th>9</th>\n",
              "      <th>...</th>\n",
              "      <th>464</th>\n",
              "      <th>465</th>\n",
              "      <th>466</th>\n",
              "      <th>467</th>\n",
              "      <th>468</th>\n",
              "      <th>469</th>\n",
              "      <th>470</th>\n",
              "      <th>471</th>\n",
              "      <th>472</th>\n",
              "      <th>473</th>\n",
              "    </tr>\n",
              "  </thead>\n",
              "  <tbody>\n",
              "    <tr>\n",
              "      <th>Predicted</th>\n",
              "      <td>6338.172363</td>\n",
              "      <td>7148.074219</td>\n",
              "      <td>9475.260742</td>\n",
              "      <td>7261.019043</td>\n",
              "      <td>30649.847656</td>\n",
              "      <td>16412.943359</td>\n",
              "      <td>6195.242188</td>\n",
              "      <td>42345.847656</td>\n",
              "      <td>6953.955566</td>\n",
              "      <td>25132.845703</td>\n",
              "      <td>...</td>\n",
              "      <td>9804.638672</td>\n",
              "      <td>16043.507812</td>\n",
              "      <td>6340.606445</td>\n",
              "      <td>6813.960938</td>\n",
              "      <td>25239.568359</td>\n",
              "      <td>20878.662109</td>\n",
              "      <td>32333.482422</td>\n",
              "      <td>48991.929688</td>\n",
              "      <td>23856.869141</td>\n",
              "      <td>41532.402344</td>\n",
              "    </tr>\n",
              "    <tr>\n",
              "      <th>Original</th>\n",
              "      <td>5801.000000</td>\n",
              "      <td>7308.000000</td>\n",
              "      <td>8609.000000</td>\n",
              "      <td>8716.000000</td>\n",
              "      <td>30092.000000</td>\n",
              "      <td>15992.000000</td>\n",
              "      <td>5856.000000</td>\n",
              "      <td>44450.000000</td>\n",
              "      <td>7320.000000</td>\n",
              "      <td>22712.000000</td>\n",
              "      <td>...</td>\n",
              "      <td>8621.000000</td>\n",
              "      <td>17436.000000</td>\n",
              "      <td>5688.000000</td>\n",
              "      <td>7308.000000</td>\n",
              "      <td>22140.000000</td>\n",
              "      <td>16310.000000</td>\n",
              "      <td>29806.000000</td>\n",
              "      <td>56860.000000</td>\n",
              "      <td>31694.000000</td>\n",
              "      <td>39847.000000</td>\n",
              "    </tr>\n",
              "  </tbody>\n",
              "</table>\n",
              "<p>2 rows × 474 columns</p>\n",
              "</div>\n",
              "      <button class=\"colab-df-convert\" onclick=\"convertToInteractive('df-772e810e-84c5-4ec2-84d3-4dfa2fe021a8')\"\n",
              "              title=\"Convert this dataframe to an interactive table.\"\n",
              "              style=\"display:none;\">\n",
              "        \n",
              "  <svg xmlns=\"http://www.w3.org/2000/svg\" height=\"24px\"viewBox=\"0 0 24 24\"\n",
              "       width=\"24px\">\n",
              "    <path d=\"M0 0h24v24H0V0z\" fill=\"none\"/>\n",
              "    <path d=\"M18.56 5.44l.94 2.06.94-2.06 2.06-.94-2.06-.94-.94-2.06-.94 2.06-2.06.94zm-11 1L8.5 8.5l.94-2.06 2.06-.94-2.06-.94L8.5 2.5l-.94 2.06-2.06.94zm10 10l.94 2.06.94-2.06 2.06-.94-2.06-.94-.94-2.06-.94 2.06-2.06.94z\"/><path d=\"M17.41 7.96l-1.37-1.37c-.4-.4-.92-.59-1.43-.59-.52 0-1.04.2-1.43.59L10.3 9.45l-7.72 7.72c-.78.78-.78 2.05 0 2.83L4 21.41c.39.39.9.59 1.41.59.51 0 1.02-.2 1.41-.59l7.78-7.78 2.81-2.81c.8-.78.8-2.07 0-2.86zM5.41 20L4 18.59l7.72-7.72 1.47 1.35L5.41 20z\"/>\n",
              "  </svg>\n",
              "      </button>\n",
              "      \n",
              "  <style>\n",
              "    .colab-df-container {\n",
              "      display:flex;\n",
              "      flex-wrap:wrap;\n",
              "      gap: 12px;\n",
              "    }\n",
              "\n",
              "    .colab-df-convert {\n",
              "      background-color: #E8F0FE;\n",
              "      border: none;\n",
              "      border-radius: 50%;\n",
              "      cursor: pointer;\n",
              "      display: none;\n",
              "      fill: #1967D2;\n",
              "      height: 32px;\n",
              "      padding: 0 0 0 0;\n",
              "      width: 32px;\n",
              "    }\n",
              "\n",
              "    .colab-df-convert:hover {\n",
              "      background-color: #E2EBFA;\n",
              "      box-shadow: 0px 1px 2px rgba(60, 64, 67, 0.3), 0px 1px 3px 1px rgba(60, 64, 67, 0.15);\n",
              "      fill: #174EA6;\n",
              "    }\n",
              "\n",
              "    [theme=dark] .colab-df-convert {\n",
              "      background-color: #3B4455;\n",
              "      fill: #D2E3FC;\n",
              "    }\n",
              "\n",
              "    [theme=dark] .colab-df-convert:hover {\n",
              "      background-color: #434B5C;\n",
              "      box-shadow: 0px 1px 3px 1px rgba(0, 0, 0, 0.15);\n",
              "      filter: drop-shadow(0px 1px 2px rgba(0, 0, 0, 0.3));\n",
              "      fill: #FFFFFF;\n",
              "    }\n",
              "  </style>\n",
              "\n",
              "      <script>\n",
              "        const buttonEl =\n",
              "          document.querySelector('#df-772e810e-84c5-4ec2-84d3-4dfa2fe021a8 button.colab-df-convert');\n",
              "        buttonEl.style.display =\n",
              "          google.colab.kernel.accessAllowed ? 'block' : 'none';\n",
              "\n",
              "        async function convertToInteractive(key) {\n",
              "          const element = document.querySelector('#df-772e810e-84c5-4ec2-84d3-4dfa2fe021a8');\n",
              "          const dataTable =\n",
              "            await google.colab.kernel.invokeFunction('convertToInteractive',\n",
              "                                                     [key], {});\n",
              "          if (!dataTable) return;\n",
              "\n",
              "          const docLinkHtml = 'Like what you see? Visit the ' +\n",
              "            '<a target=\"_blank\" href=https://colab.research.google.com/notebooks/data_table.ipynb>data table notebook</a>'\n",
              "            + ' to learn more about interactive tables.';\n",
              "          element.innerHTML = '';\n",
              "          dataTable['output_type'] = 'display_data';\n",
              "          await google.colab.output.renderOutput(dataTable, element);\n",
              "          const docLink = document.createElement('div');\n",
              "          docLink.innerHTML = docLinkHtml;\n",
              "          element.appendChild(docLink);\n",
              "        }\n",
              "      </script>\n",
              "    </div>\n",
              "  </div>\n",
              "  "
            ]
          },
          "metadata": {},
          "execution_count": 86
        }
      ]
    }
  ]
}