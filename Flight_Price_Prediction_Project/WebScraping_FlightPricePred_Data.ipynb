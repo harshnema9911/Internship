{
 "cells": [
  {
   "cell_type": "markdown",
   "id": "921619bd",
   "metadata": {},
   "source": [
    "# Web Scraping of Flight Price Prediction Data"
   ]
  },
  {
   "cell_type": "markdown",
   "id": "a5eee4c6",
   "metadata": {},
   "source": [
    "**1. Data Collection**\n",
    "\n",
    "*We have to scrape at least 1500 rows of data. We can scrape more data as well,More the data better the model*\n",
    "\n",
    "In this section we have to scrape the data of flights from different websites (yatra.com, \n",
    "skyscanner.com, official websites of airlines, etc). The number of columns for data doesn’t have \n",
    "limit, it’s up to us and our creativity. Generally, these columns areairline name, date of journey, \n",
    "source, destination, route, departure time, arrival time, duration, total stops and the target variable \n",
    "price. We can make changes to it, we can add or we can remove some columns, it completely\n",
    "depends on the website from which we are fetching the data."
   ]
  },
  {
   "cell_type": "code",
   "execution_count": 1,
   "id": "c6dd06f7",
   "metadata": {},
   "outputs": [],
   "source": [
    "#Let's import all required libraries\n",
    "import selenium                                    #library that is used to work with selenium\n",
    "from selenium import webdriver                     # importing webdriver module from selenium to open automated chrome window\n",
    "import pandas as pd                                # to create dataframe\n",
    "from selenium.webdriver.common.by import By        # importing inbuilt class By\n",
    "import warnings                                    # to ignore any sort of warnings\n",
    "warnings.filterwarnings(\"ignore\") \n",
    "import time                                        # use to stop search engine for few seconds\n",
    "from selenium.common.exceptions import NoSuchElementException\n",
    "from selenium.webdriver.support.ui import WebDriverWait\n",
    "from selenium.webdriver.support import expected_conditions as EC\n",
    "from selenium.common.exceptions import StaleElementReferenceException\n",
    "from selenium.common.exceptions import ElementNotInteractableException"
   ]
  },
  {
   "cell_type": "code",
   "execution_count": 2,
   "id": "f43bc27c",
   "metadata": {},
   "outputs": [],
   "source": [
    "# Let's first connect to the web driver\n",
    "\n",
    "driver = webdriver.Chrome(r'C:\\Users\\Admin\\Chrome webdriver\\chromedriver_win32\\chromedriver.exe')\n",
    "\n",
    "#Let's maximize the automated window\n",
    "\n",
    "driver.maximize_window()"
   ]
  },
  {
   "cell_type": "code",
   "execution_count": 5,
   "id": "00510c95",
   "metadata": {},
   "outputs": [],
   "source": [
    "url = \"https://www.yatra.com/\"\n",
    "driver.get(url)\n",
    "time.sleep(2)"
   ]
  },
  {
   "cell_type": "markdown",
   "id": "8d0921c8",
   "metadata": {},
   "source": [
    "# Extracting Economy flights from New Delhi to Bombay"
   ]
  },
  {
   "cell_type": "markdown",
   "id": "fd4561ca",
   "metadata": {},
   "source": [
    "* **Flights for date 06th Jan 2023**"
   ]
  },
  {
   "cell_type": "code",
   "execution_count": 7,
   "id": "0f19056b",
   "metadata": {},
   "outputs": [],
   "source": [
    "url = \"https://flight.yatra.com/air-search-ui/dom2/trigger?type=O&viewName=normal&flexi=0&noOfSegments=1&origin=DEL&originCountry=IN&destination=BOM&destinationCountry=IN&flight_depart_date=06%2F01%2F2023&ADT=1&CHD=0&INF=0&class=Economy&source=fresco-home&unqvaldesktop=516028076732\"\n",
    "driver.get(url)\n",
    "time.sleep(2)"
   ]
  },
  {
   "cell_type": "code",
   "execution_count": 4,
   "id": "88e76211",
   "metadata": {},
   "outputs": [],
   "source": [
    "Airlines = []\n",
    "Flight_No = []\n",
    "Class = []\n",
    "Dept_time = []\n",
    "Arrival_time = []\n",
    "Source = []\n",
    "Destination = []\n",
    "Duration = []\n",
    "Stops = []\n",
    "Date = []\n",
    "Price = []"
   ]
  },
  {
   "cell_type": "code",
   "execution_count": 5,
   "id": "2eb57a1a",
   "metadata": {},
   "outputs": [
    {
     "name": "stderr",
     "output_type": "stream",
     "text": [
      "100%|██████████████████████████████████████████████████████████████████████████████████| 50/50 [00:28<00:00,  1.74it/s]\n"
     ]
    }
   ],
   "source": [
    "from tqdm import tqdm\n",
    "for _ in tqdm (range(0,50)):\n",
    "    time.sleep(0.1)\n",
    "    driver.execute_script(\"window.scrollBy(0,2000)\",\"\")\n",
    "    time.sleep(0.2)\n",
    "    driver.execute_script(\"window.scrollBy(0,-500)\",\"\")"
   ]
  },
  {
   "cell_type": "code",
   "execution_count": 6,
   "id": "c18629dd",
   "metadata": {},
   "outputs": [
    {
     "data": {
      "text/plain": [
       "0"
      ]
     },
     "execution_count": 6,
     "metadata": {},
     "output_type": "execute_result"
    }
   ],
   "source": [
    "flights=driver.find_elements(By.XPATH,'//div[@class=\"fs-13 airline-name no-pad col-8\"]')\n",
    "len(flights)"
   ]
  },
  {
   "cell_type": "code",
   "execution_count": 14,
   "id": "80c9facb",
   "metadata": {},
   "outputs": [
    {
     "name": "stderr",
     "output_type": "stream",
     "text": [
      "100%|█████████████████████████████████████████████████████████████████████████████████| 92/92 [00:00<00:00, 101.61it/s]\n",
      "100%|██████████████████████████████████████████████████████████████████████████████████| 92/92 [00:01<00:00, 91.52it/s]\n",
      "100%|██████████████████████████████████████████████████████████████████████████████████| 92/92 [00:01<00:00, 83.70it/s]\n",
      "100%|██████████████████████████████████████████████████████████████████████████████████| 92/92 [00:01<00:00, 79.23it/s]\n",
      "100%|██████████████████████████████████████████████████████████████████████████████████| 92/92 [00:01<00:00, 73.39it/s]\n",
      "100%|██████████████████████████████████████████████████████████████████████████████████| 92/92 [00:01<00:00, 68.02it/s]\n",
      "100%|██████████████████████████████████████████████████████████████████████████████████| 92/92 [00:01<00:00, 63.66it/s]\n",
      "100%|██████████████████████████████████████████████████████████████████████████████████| 92/92 [00:01<00:00, 57.85it/s]\n",
      "100%|██████████████████████████████████████████████████████████████████████████████████████████| 92/92 [00:00<?, ?it/s]\n"
     ]
    }
   ],
   "source": [
    "# Extracting Airlines Name Via Xpath\n",
    "airlines = driver.find_elements(By.XPATH,\"//div[@class='fs-13 airline-name no-pad col-8']/span\")\n",
    "for i in airlines:\n",
    "    Airlines.append(i.text.replace(\"\\n\",\" \"))\n",
    "else :\n",
    "    pass\n",
    "\n",
    "# Extracting Aeroplane model  via xpath\n",
    "aeroplanes = driver.find_elements(By.XPATH,'//p[@class=\"normal fs-11 font-lightestgrey no-wrap fl-no\"]/span')\n",
    "for i in tqdm(aeroplanes):\n",
    "    Flight_No.append(i.text) \n",
    "else:\n",
    "    pass\n",
    "\n",
    "# Extracting Departure Time of Filght via Xpath\n",
    "dept_times = driver.find_elements(By.XPATH,'//div[@class=\"i-b pr\"]')\n",
    "for i in tqdm(dept_times):\n",
    "    Dept_time.append(i.text)\n",
    "else :\n",
    "    pass\n",
    "\n",
    "# Extracting Arrival Time via xpath\n",
    "arrival = driver.find_elements(By.XPATH,'//p[@class=\"bold fs-15 mb-2 pr time\"]')\n",
    "for i in tqdm(arrival):\n",
    "    Arrival_time.append(i.text)\n",
    "else :\n",
    "    pass\n",
    "\n",
    "# Extracting Source of flight via Xpath\n",
    "source = driver.find_elements(By.XPATH,\"//div[@class='i-b col-4 no-wrap text-right dtime col-3']/p\")\n",
    "for i in tqdm(source):\n",
    "    Source.append(i.text)\n",
    "else :\n",
    "    pass\n",
    "\n",
    "# Extracting Destination of Flights via Xpath\n",
    "destination = driver.find_elements(By.XPATH,'//div[@class=\"i-b pdd-0 text-left atime col-5\"]/p[2]')\n",
    "for i in tqdm(destination):\n",
    "    Destination.append(i.text)\n",
    "else:\n",
    "    pass\n",
    "\n",
    "# Extracting Duration of Flights via Xpath\n",
    "duration = driver.find_elements(By.XPATH,'//div[@class=\"stop-cont pl-13\"]/p')\n",
    "for i in tqdm(duration):\n",
    "    Duration.append(i.text)\n",
    "else:\n",
    "    pass\n",
    "\n",
    "# Extracting stop details via Xpath\n",
    "stop = driver.find_elements(By.XPATH,\"//div[@class='stop-cont pl-13']/div/span\")\n",
    "for i in tqdm(stop):\n",
    "    Stops.append(i.text)\n",
    "else:\n",
    "    pass\n",
    "\n",
    "# Extracting Price of Flights via Xpath\n",
    "count = 0\n",
    "price = driver.find_elements(By.XPATH,'//div[@class=\"i-b tipsy fare-summary-tooltip fs-18\"]')\n",
    "for i in tqdm(price):\n",
    "    Price.append(i.text.replace(',',''))\n",
    "    count = count +1\n",
    "else:\n",
    "    count = count +1\n",
    "    pass\n",
    "\n",
    "# Clicking on Flights details element\n",
    "Button = driver.find_elements(By.XPATH,'//div[@class=\"link-color fs-12 cursor-pointer\"]/span')\n",
    "driver.execute_script(\"arguments[0].click();\", WebDriverWait(driver, 20).until(EC.element_to_be_clickable((By.XPATH,'//div[@class=\"link-color fs-12 cursor-pointer\"]/span'))))\n",
    "time.sleep(1)\n",
    "\n",
    "# Extracting Date of Flights via Xpath\n",
    "date = driver.find_element(By.XPATH,'//div[@class=\"bold fs-12 mb-5\"]')\n",
    "a = date.text\n",
    "for i in tqdm(range(count-1)):\n",
    "    Date.append(a)\n",
    "else:\n",
    "    pass"
   ]
  },
  {
   "cell_type": "code",
   "execution_count": 15,
   "id": "e6f920b9",
   "metadata": {},
   "outputs": [
    {
     "data": {
      "text/plain": [
       "(92, 92, 92, 92, 92, 92, 92, 92, 92, 92)"
      ]
     },
     "execution_count": 15,
     "metadata": {},
     "output_type": "execute_result"
    }
   ],
   "source": [
    "len(Flight_No), len(Airlines), len(Dept_time), len(Arrival_time), len(Source), len(Destination), len(Duration), len(Stops),len(Price), len(Date)"
   ]
  },
  {
   "cell_type": "markdown",
   "id": "032172db",
   "metadata": {},
   "source": [
    "* **Flights for date 07th Jan 2023**"
   ]
  },
  {
   "cell_type": "code",
   "execution_count": 16,
   "id": "02903a01",
   "metadata": {},
   "outputs": [],
   "source": [
    "url2 = \"https://flight.yatra.com/air-search-ui/dom2/trigger?ADT=1&CHD=0&INF=0&class=Economy&destination=BOM&destinationCountry=IN&flexi=0&flight_depart_date=07%2F01%2F2023&hb=0&noOfSegments=1&origin=DEL&originCountry=IN&type=O&unique=1306979227210&version=1.19&viewName=normal\"\n",
    "driver.get(url2)\n",
    "time.sleep(2)"
   ]
  },
  {
   "cell_type": "code",
   "execution_count": 18,
   "id": "f5b4cabd",
   "metadata": {},
   "outputs": [
    {
     "name": "stderr",
     "output_type": "stream",
     "text": [
      "100%|██████████████████████████████████████████████████████████████████████████████████| 50/50 [00:17<00:00,  2.92it/s]\n"
     ]
    }
   ],
   "source": [
    "from tqdm import tqdm\n",
    "for _ in tqdm (range(0,50)):\n",
    "    time.sleep(0.1)\n",
    "    driver.execute_script(\"window.scrollBy(0,2000)\",\"\")\n",
    "    time.sleep(0.2)\n",
    "    driver.execute_script(\"window.scrollBy(0,-500)\",\"\")"
   ]
  },
  {
   "cell_type": "code",
   "execution_count": 19,
   "id": "9f5d2094",
   "metadata": {},
   "outputs": [
    {
     "data": {
      "text/plain": [
       "95"
      ]
     },
     "execution_count": 19,
     "metadata": {},
     "output_type": "execute_result"
    }
   ],
   "source": [
    "flights=driver.find_elements(By.XPATH,'//div[@class=\"fs-13 airline-name no-pad col-8\"]')\n",
    "len(flights)"
   ]
  },
  {
   "cell_type": "code",
   "execution_count": 20,
   "id": "d1458b7d",
   "metadata": {},
   "outputs": [
    {
     "name": "stderr",
     "output_type": "stream",
     "text": [
      "100%|█████████████████████████████████████████████████████████████████████████████████| 95/95 [00:00<00:00, 102.26it/s]\n",
      "100%|██████████████████████████████████████████████████████████████████████████████████| 95/95 [00:01<00:00, 92.22it/s]\n",
      "100%|██████████████████████████████████████████████████████████████████████████████████| 95/95 [00:01<00:00, 84.14it/s]\n",
      "100%|██████████████████████████████████████████████████████████████████████████████████| 95/95 [00:01<00:00, 77.61it/s]\n",
      "100%|██████████████████████████████████████████████████████████████████████████████████| 95/95 [00:01<00:00, 72.35it/s]\n",
      "100%|██████████████████████████████████████████████████████████████████████████████████| 95/95 [00:01<00:00, 66.26it/s]\n",
      "100%|██████████████████████████████████████████████████████████████████████████████████| 95/95 [00:01<00:00, 62.90it/s]\n",
      "100%|██████████████████████████████████████████████████████████████████████████████████| 95/95 [00:01<00:00, 58.04it/s]\n",
      "100%|██████████████████████████████████████████████████████████████████████████████████████████| 95/95 [00:00<?, ?it/s]\n"
     ]
    }
   ],
   "source": [
    "# Extracting Airlines Name Via Xpath\n",
    "airlines = driver.find_elements(By.XPATH,\"//div[@class='fs-13 airline-name no-pad col-8']/span\")\n",
    "for i in airlines:\n",
    "    Airlines.append(i.text.replace(\"\\n\",\" \"))\n",
    "else :\n",
    "    pass\n",
    "\n",
    "# Extracting Aeroplane model  via xpath\n",
    "aeroplanes = driver.find_elements(By.XPATH,'//p[@class=\"normal fs-11 font-lightestgrey no-wrap fl-no\"]/span')\n",
    "for i in tqdm(aeroplanes):\n",
    "    Flight_No.append(i.text) \n",
    "else:\n",
    "    pass\n",
    "\n",
    "# Extracting Departure Time of Filght via Xpath\n",
    "dept_times = driver.find_elements(By.XPATH,'//div[@class=\"i-b pr\"]')\n",
    "for i in tqdm(dept_times):\n",
    "    Dept_time.append(i.text)\n",
    "else :\n",
    "    pass\n",
    "\n",
    "# Extracting Arrival Time via xpath\n",
    "arrival = driver.find_elements(By.XPATH,'//p[@class=\"bold fs-15 mb-2 pr time\"]')\n",
    "for i in tqdm(arrival):\n",
    "    Arrival_time.append(i.text)\n",
    "else :\n",
    "    pass\n",
    "\n",
    "# Extracting Source of flight via Xpath\n",
    "source = driver.find_elements(By.XPATH,\"//div[@class='i-b col-4 no-wrap text-right dtime col-3']/p\")\n",
    "for i in tqdm(source):\n",
    "    Source.append(i.text)\n",
    "else :\n",
    "    pass\n",
    "\n",
    "# Extracting Destination of Flights via Xpath\n",
    "destination = driver.find_elements(By.XPATH,'//div[@class=\"i-b pdd-0 text-left atime col-5\"]/p[2]')\n",
    "for i in tqdm(destination):\n",
    "    Destination.append(i.text)\n",
    "else:\n",
    "    pass\n",
    "\n",
    "# Extracting Duration of Flights via Xpath\n",
    "duration = driver.find_elements(By.XPATH,'//div[@class=\"stop-cont pl-13\"]/p')\n",
    "for i in tqdm(duration):\n",
    "    Duration.append(i.text)\n",
    "else:\n",
    "    pass\n",
    "\n",
    "# Extracting stop details via Xpath\n",
    "stop = driver.find_elements(By.XPATH,\"//div[@class='stop-cont pl-13']/div/span\")\n",
    "for i in tqdm(stop):\n",
    "    Stops.append(i.text)\n",
    "else:\n",
    "    pass\n",
    "\n",
    "# Extracting Price of Flights via Xpath\n",
    "count = 0\n",
    "price = driver.find_elements(By.XPATH,'//div[@class=\"i-b tipsy fare-summary-tooltip fs-18\"]')\n",
    "for i in tqdm(price):\n",
    "    Price.append(i.text.replace(',',''))\n",
    "    count = count +1\n",
    "else:\n",
    "    count = count +1\n",
    "    pass\n",
    "\n",
    "# Clicking on Flights details element\n",
    "Button = driver.find_elements(By.XPATH,'//div[@class=\"link-color fs-12 cursor-pointer\"]/span')\n",
    "driver.execute_script(\"arguments[0].click();\", WebDriverWait(driver, 20).until(EC.element_to_be_clickable((By.XPATH,'//div[@class=\"link-color fs-12 cursor-pointer\"]/span'))))\n",
    "time.sleep(1)\n",
    "\n",
    "# Extracting Date of Flights via Xpath\n",
    "date = driver.find_element(By.XPATH,'//div[@class=\"bold fs-12 mb-5\"]')\n",
    "a = date.text\n",
    "for i in tqdm(range(count-1)):\n",
    "    Date.append(a)\n",
    "else:\n",
    "    pass"
   ]
  },
  {
   "cell_type": "code",
   "execution_count": 21,
   "id": "e31479b9",
   "metadata": {},
   "outputs": [
    {
     "data": {
      "text/plain": [
       "(187, 187, 187, 187, 187, 187, 187, 187, 187, 187)"
      ]
     },
     "execution_count": 21,
     "metadata": {},
     "output_type": "execute_result"
    }
   ],
   "source": [
    "len(Flight_No), len(Airlines), len(Dept_time), len(Arrival_time), len(Source), len(Destination), len(Duration), len(Stops),len(Price), len(Date)"
   ]
  },
  {
   "cell_type": "markdown",
   "id": "219454a3",
   "metadata": {},
   "source": [
    "* **Flights for date 08th Jan 2023**"
   ]
  },
  {
   "cell_type": "code",
   "execution_count": 24,
   "id": "a274a13a",
   "metadata": {},
   "outputs": [],
   "source": [
    "url3 = \"https://flight.yatra.com/air-search-ui/dom2/trigger?type=O&viewName=normal&flexi=0&noOfSegments=1&origin=DEL&originCountry=IN&destination=BOM&destinationCountry=IN&flight_depart_date=08%2F01%2F2023&ADT=1&CHD=0&INF=0&class=Economy&source=fresco-home&unqvaldesktop=1089794020064\"\n",
    "driver.get(url3)\n",
    "time.sleep(2)"
   ]
  },
  {
   "cell_type": "code",
   "execution_count": 25,
   "id": "9e02fc13",
   "metadata": {},
   "outputs": [
    {
     "name": "stderr",
     "output_type": "stream",
     "text": [
      "100%|██████████████████████████████████████████████████████████████████████████████████| 50/50 [00:40<00:00,  1.23it/s]\n"
     ]
    }
   ],
   "source": [
    "from tqdm import tqdm\n",
    "for _ in tqdm (range(0,50)):\n",
    "    time.sleep(0.1)\n",
    "    driver.execute_script(\"window.scrollBy(0,2000)\",\"\")\n",
    "    time.sleep(0.2)\n",
    "    driver.execute_script(\"window.scrollBy(0,-500)\",\"\")"
   ]
  },
  {
   "cell_type": "code",
   "execution_count": 26,
   "id": "128f5b2b",
   "metadata": {},
   "outputs": [
    {
     "data": {
      "text/plain": [
       "75"
      ]
     },
     "execution_count": 26,
     "metadata": {},
     "output_type": "execute_result"
    }
   ],
   "source": [
    "flights=driver.find_elements(By.XPATH,'//div[@class=\"fs-13 airline-name no-pad col-8\"]')\n",
    "len(flights)"
   ]
  },
  {
   "cell_type": "code",
   "execution_count": 27,
   "id": "19b11ff3",
   "metadata": {},
   "outputs": [
    {
     "name": "stderr",
     "output_type": "stream",
     "text": [
      "100%|█████████████████████████████████████████████████████████████████████████████████| 75/75 [00:00<00:00, 106.17it/s]\n",
      "100%|██████████████████████████████████████████████████████████████████████████████████| 75/75 [00:00<00:00, 96.99it/s]\n",
      "100%|██████████████████████████████████████████████████████████████████████████████████| 75/75 [00:00<00:00, 89.65it/s]\n",
      "100%|██████████████████████████████████████████████████████████████████████████████████| 75/75 [00:00<00:00, 84.47it/s]\n",
      "100%|██████████████████████████████████████████████████████████████████████████████████| 75/75 [00:00<00:00, 79.14it/s]\n",
      "100%|██████████████████████████████████████████████████████████████████████████████████| 75/75 [00:01<00:00, 73.34it/s]\n",
      "100%|██████████████████████████████████████████████████████████████████████████████████| 75/75 [00:01<00:00, 70.47it/s]\n",
      "100%|██████████████████████████████████████████████████████████████████████████████████| 75/75 [00:01<00:00, 62.42it/s]\n",
      "100%|██████████████████████████████████████████████████████████████████████████████████████████| 75/75 [00:00<?, ?it/s]\n"
     ]
    }
   ],
   "source": [
    "# Extracting Airlines Name Via Xpath\n",
    "airlines = driver.find_elements(By.XPATH,\"//div[@class='fs-13 airline-name no-pad col-8']/span\")\n",
    "for i in airlines:\n",
    "    Airlines.append(i.text.replace(\"\\n\",\" \"))\n",
    "else :\n",
    "    pass\n",
    "\n",
    "# Extracting Aeroplane model  via xpath\n",
    "aeroplanes = driver.find_elements(By.XPATH,'//p[@class=\"normal fs-11 font-lightestgrey no-wrap fl-no\"]/span')\n",
    "for i in tqdm(aeroplanes):\n",
    "    Flight_No.append(i.text) \n",
    "else:\n",
    "    pass\n",
    "\n",
    "# Extracting Departure Time of Filght via Xpath\n",
    "dept_times = driver.find_elements(By.XPATH,'//div[@class=\"i-b pr\"]')\n",
    "for i in tqdm(dept_times):\n",
    "    Dept_time.append(i.text)\n",
    "else :\n",
    "    pass\n",
    "\n",
    "# Extracting Arrival Time via xpath\n",
    "arrival = driver.find_elements(By.XPATH,'//p[@class=\"bold fs-15 mb-2 pr time\"]')\n",
    "for i in tqdm(arrival):\n",
    "    Arrival_time.append(i.text)\n",
    "else :\n",
    "    pass\n",
    "\n",
    "# Extracting Source of flight via Xpath\n",
    "source = driver.find_elements(By.XPATH,\"//div[@class='i-b col-4 no-wrap text-right dtime col-3']/p\")\n",
    "for i in tqdm(source):\n",
    "    Source.append(i.text)\n",
    "else :\n",
    "    pass\n",
    "\n",
    "# Extracting Destination of Flights via Xpath\n",
    "destination = driver.find_elements(By.XPATH,'//div[@class=\"i-b pdd-0 text-left atime col-5\"]/p[2]')\n",
    "for i in tqdm(destination):\n",
    "    Destination.append(i.text)\n",
    "else:\n",
    "    pass\n",
    "\n",
    "# Extracting Duration of Flights via Xpath\n",
    "duration = driver.find_elements(By.XPATH,'//div[@class=\"stop-cont pl-13\"]/p')\n",
    "for i in tqdm(duration):\n",
    "    Duration.append(i.text)\n",
    "else:\n",
    "    pass\n",
    "\n",
    "# Extracting stop details via Xpath\n",
    "stop = driver.find_elements(By.XPATH,\"//div[@class='stop-cont pl-13']/div/span\")\n",
    "for i in tqdm(stop):\n",
    "    Stops.append(i.text)\n",
    "else:\n",
    "    pass\n",
    "\n",
    "# Extracting Price of Flights via Xpath\n",
    "count = 0\n",
    "price = driver.find_elements(By.XPATH,'//div[@class=\"i-b tipsy fare-summary-tooltip fs-18\"]')\n",
    "for i in tqdm(price):\n",
    "    Price.append(i.text.replace(',',''))\n",
    "    count = count +1\n",
    "else:\n",
    "    count = count +1\n",
    "    pass\n",
    "\n",
    "# Clicking on Flights details element\n",
    "Button = driver.find_elements(By.XPATH,'//div[@class=\"link-color fs-12 cursor-pointer\"]/span')\n",
    "driver.execute_script(\"arguments[0].click();\", WebDriverWait(driver, 20).until(EC.element_to_be_clickable((By.XPATH,'//div[@class=\"link-color fs-12 cursor-pointer\"]/span'))))\n",
    "time.sleep(1)\n",
    "\n",
    "# Extracting Date of Flights via Xpath\n",
    "date = driver.find_element(By.XPATH,'//div[@class=\"bold fs-12 mb-5\"]')\n",
    "a = date.text\n",
    "for i in tqdm(range(count-1)):\n",
    "    Date.append(a)\n",
    "else:\n",
    "    pass"
   ]
  },
  {
   "cell_type": "code",
   "execution_count": 28,
   "id": "e863085d",
   "metadata": {},
   "outputs": [
    {
     "data": {
      "text/plain": [
       "(262, 262, 262, 262, 262, 262, 262, 262, 262, 262)"
      ]
     },
     "execution_count": 28,
     "metadata": {},
     "output_type": "execute_result"
    }
   ],
   "source": [
    "len(Flight_No), len(Airlines), len(Dept_time), len(Arrival_time), len(Source), len(Destination), len(Duration), len(Stops),len(Price), len(Date)"
   ]
  },
  {
   "cell_type": "markdown",
   "id": "84763e71",
   "metadata": {},
   "source": [
    "* **Flights for date 09th Jan 2023**"
   ]
  },
  {
   "cell_type": "code",
   "execution_count": 29,
   "id": "d3a4140d",
   "metadata": {},
   "outputs": [],
   "source": [
    "url4 = \"https://flight.yatra.com/air-search-ui/dom2/trigger?ADT=1&CHD=0&INF=0&class=Economy&destination=BOM&destinationCountry=IN&flexi=0&flight_depart_date=09%2F01%2F2023&hb=0&noOfSegments=1&origin=DEL&originCountry=IN&type=O&unique=1044697854431&version=1.2&viewName=normal\"\n",
    "driver.get(url4)\n",
    "time.sleep(2)"
   ]
  },
  {
   "cell_type": "code",
   "execution_count": 30,
   "id": "8fb9a8b0",
   "metadata": {},
   "outputs": [
    {
     "name": "stderr",
     "output_type": "stream",
     "text": [
      "100%|██████████████████████████████████████████████████████████████████████████████████| 50/50 [00:17<00:00,  2.94it/s]\n"
     ]
    }
   ],
   "source": [
    "from tqdm import tqdm\n",
    "for _ in tqdm (range(0,50)):\n",
    "    time.sleep(0.1)\n",
    "    driver.execute_script(\"window.scrollBy(0,2000)\",\"\")\n",
    "    time.sleep(0.2)\n",
    "    driver.execute_script(\"window.scrollBy(0,-500)\",\"\")"
   ]
  },
  {
   "cell_type": "code",
   "execution_count": 31,
   "id": "03443cbd",
   "metadata": {},
   "outputs": [
    {
     "data": {
      "text/plain": [
       "95"
      ]
     },
     "execution_count": 31,
     "metadata": {},
     "output_type": "execute_result"
    }
   ],
   "source": [
    "flights=driver.find_elements(By.XPATH,'//div[@class=\"fs-13 airline-name no-pad col-8\"]')\n",
    "len(flights)"
   ]
  },
  {
   "cell_type": "code",
   "execution_count": 32,
   "id": "20968943",
   "metadata": {},
   "outputs": [
    {
     "name": "stderr",
     "output_type": "stream",
     "text": [
      "100%|█████████████████████████████████████████████████████████████████████████████████| 95/95 [00:00<00:00, 102.43it/s]\n",
      "100%|██████████████████████████████████████████████████████████████████████████████████| 95/95 [00:01<00:00, 91.96it/s]\n",
      "100%|██████████████████████████████████████████████████████████████████████████████████| 95/95 [00:01<00:00, 84.18it/s]\n",
      "100%|██████████████████████████████████████████████████████████████████████████████████| 95/95 [00:01<00:00, 77.87it/s]\n",
      "100%|██████████████████████████████████████████████████████████████████████████████████| 95/95 [00:01<00:00, 72.52it/s]\n",
      "100%|██████████████████████████████████████████████████████████████████████████████████| 95/95 [00:01<00:00, 66.00it/s]\n",
      "100%|██████████████████████████████████████████████████████████████████████████████████| 95/95 [00:01<00:00, 62.99it/s]\n",
      "100%|██████████████████████████████████████████████████████████████████████████████████| 95/95 [00:01<00:00, 58.03it/s]\n",
      "100%|██████████████████████████████████████████████████████████████████████████████████████████| 95/95 [00:00<?, ?it/s]\n"
     ]
    }
   ],
   "source": [
    "# Extracting Airlines Name Via Xpath\n",
    "airlines = driver.find_elements(By.XPATH,\"//div[@class='fs-13 airline-name no-pad col-8']/span\")\n",
    "for i in airlines:\n",
    "    Airlines.append(i.text.replace(\"\\n\",\" \"))\n",
    "else :\n",
    "    pass\n",
    "\n",
    "# Extracting Aeroplane model  via xpath\n",
    "aeroplanes = driver.find_elements(By.XPATH,'//p[@class=\"normal fs-11 font-lightestgrey no-wrap fl-no\"]/span')\n",
    "for i in tqdm(aeroplanes):\n",
    "    Flight_No.append(i.text) \n",
    "else:\n",
    "    pass\n",
    "\n",
    "# Extracting Departure Time of Filght via Xpath\n",
    "dept_times = driver.find_elements(By.XPATH,'//div[@class=\"i-b pr\"]')\n",
    "for i in tqdm(dept_times):\n",
    "    Dept_time.append(i.text)\n",
    "else :\n",
    "    pass\n",
    "\n",
    "# Extracting Arrival Time via xpath\n",
    "arrival = driver.find_elements(By.XPATH,'//p[@class=\"bold fs-15 mb-2 pr time\"]')\n",
    "for i in tqdm(arrival):\n",
    "    Arrival_time.append(i.text)\n",
    "else :\n",
    "    pass\n",
    "\n",
    "# Extracting Source of flight via Xpath\n",
    "source = driver.find_elements(By.XPATH,\"//div[@class='i-b col-4 no-wrap text-right dtime col-3']/p\")\n",
    "for i in tqdm(source):\n",
    "    Source.append(i.text)\n",
    "else :\n",
    "    pass\n",
    "\n",
    "# Extracting Destination of Flights via Xpath\n",
    "destination = driver.find_elements(By.XPATH,'//div[@class=\"i-b pdd-0 text-left atime col-5\"]/p[2]')\n",
    "for i in tqdm(destination):\n",
    "    Destination.append(i.text)\n",
    "else:\n",
    "    pass\n",
    "\n",
    "# Extracting Duration of Flights via Xpath\n",
    "duration = driver.find_elements(By.XPATH,'//div[@class=\"stop-cont pl-13\"]/p')\n",
    "for i in tqdm(duration):\n",
    "    Duration.append(i.text)\n",
    "else:\n",
    "    pass\n",
    "\n",
    "# Extracting stop details via Xpath\n",
    "stop = driver.find_elements(By.XPATH,\"//div[@class='stop-cont pl-13']/div/span\")\n",
    "for i in tqdm(stop):\n",
    "    Stops.append(i.text)\n",
    "else:\n",
    "    pass\n",
    "\n",
    "# Extracting Price of Flights via Xpath\n",
    "count = 0\n",
    "price = driver.find_elements(By.XPATH,'//div[@class=\"i-b tipsy fare-summary-tooltip fs-18\"]')\n",
    "for i in tqdm(price):\n",
    "    Price.append(i.text.replace(',',''))\n",
    "    count = count +1\n",
    "else:\n",
    "    count = count +1\n",
    "    pass\n",
    "\n",
    "# Clicking on Flights details element\n",
    "Button = driver.find_elements(By.XPATH,'//div[@class=\"link-color fs-12 cursor-pointer\"]/span')\n",
    "driver.execute_script(\"arguments[0].click();\", WebDriverWait(driver, 20).until(EC.element_to_be_clickable((By.XPATH,'//div[@class=\"link-color fs-12 cursor-pointer\"]/span'))))\n",
    "time.sleep(1)\n",
    "\n",
    "# Extracting Date of Flights via Xpath\n",
    "date = driver.find_element(By.XPATH,'//div[@class=\"bold fs-12 mb-5\"]')\n",
    "a = date.text\n",
    "for i in tqdm(range(count-1)):\n",
    "    Date.append(a)\n",
    "else:\n",
    "    pass"
   ]
  },
  {
   "cell_type": "code",
   "execution_count": 33,
   "id": "64c0ea3f",
   "metadata": {},
   "outputs": [
    {
     "data": {
      "text/plain": [
       "(357, 357, 357, 357, 357, 357, 357, 357, 357, 357)"
      ]
     },
     "execution_count": 33,
     "metadata": {},
     "output_type": "execute_result"
    }
   ],
   "source": [
    "len(Flight_No), len(Airlines), len(Dept_time), len(Arrival_time), len(Source), len(Destination), len(Duration), len(Stops),len(Price), len(Date)"
   ]
  },
  {
   "cell_type": "markdown",
   "id": "aa8497f4",
   "metadata": {},
   "source": [
    "* **Flights for date 10th Jan 2023**"
   ]
  },
  {
   "cell_type": "code",
   "execution_count": 34,
   "id": "586af7c6",
   "metadata": {},
   "outputs": [],
   "source": [
    "url5 = \"https://flight.yatra.com/air-search-ui/dom2/trigger?ADT=1&CHD=0&INF=0&class=Economy&destination=BOM&destinationCountry=IN&flexi=0&flight_depart_date=10%2F01%2F2023&hb=0&noOfSegments=1&origin=DEL&originCountry=IN&type=O&unique=1515622554725&version=1.2&viewName=normal\"\n",
    "driver.get(url5)\n",
    "time.sleep(2)"
   ]
  },
  {
   "cell_type": "code",
   "execution_count": 35,
   "id": "7aa50e75",
   "metadata": {},
   "outputs": [
    {
     "name": "stderr",
     "output_type": "stream",
     "text": [
      "100%|██████████████████████████████████████████████████████████████████████████████████| 50/50 [00:16<00:00,  2.95it/s]\n"
     ]
    }
   ],
   "source": [
    "from tqdm import tqdm\n",
    "for _ in tqdm (range(0,50)):\n",
    "    time.sleep(0.1)\n",
    "    driver.execute_script(\"window.scrollBy(0,2000)\",\"\")\n",
    "    time.sleep(0.2)\n",
    "    driver.execute_script(\"window.scrollBy(0,-500)\",\"\")"
   ]
  },
  {
   "cell_type": "code",
   "execution_count": 36,
   "id": "8e2138da",
   "metadata": {},
   "outputs": [
    {
     "data": {
      "text/plain": [
       "95"
      ]
     },
     "execution_count": 36,
     "metadata": {},
     "output_type": "execute_result"
    }
   ],
   "source": [
    "flights=driver.find_elements(By.XPATH,'//div[@class=\"fs-13 airline-name no-pad col-8\"]')\n",
    "len(flights)"
   ]
  },
  {
   "cell_type": "code",
   "execution_count": 37,
   "id": "1a1f66e0",
   "metadata": {},
   "outputs": [
    {
     "name": "stderr",
     "output_type": "stream",
     "text": [
      "100%|█████████████████████████████████████████████████████████████████████████████████| 95/95 [00:00<00:00, 103.01it/s]\n",
      "100%|██████████████████████████████████████████████████████████████████████████████████| 95/95 [00:01<00:00, 92.40it/s]\n",
      "100%|██████████████████████████████████████████████████████████████████████████████████| 95/95 [00:01<00:00, 84.34it/s]\n",
      "100%|██████████████████████████████████████████████████████████████████████████████████| 95/95 [00:01<00:00, 78.16it/s]\n",
      "100%|██████████████████████████████████████████████████████████████████████████████████| 95/95 [00:01<00:00, 72.35it/s]\n",
      "100%|██████████████████████████████████████████████████████████████████████████████████| 95/95 [00:01<00:00, 66.33it/s]\n",
      "100%|██████████████████████████████████████████████████████████████████████████████████| 95/95 [00:01<00:00, 62.90it/s]\n",
      "100%|██████████████████████████████████████████████████████████████████████████████████| 95/95 [00:01<00:00, 58.02it/s]\n",
      "100%|███████████████████████████████████████████████████████████████████████████████| 95/95 [00:00<00:00, 98118.41it/s]\n"
     ]
    }
   ],
   "source": [
    "# Extracting Airlines Name Via Xpath\n",
    "airlines = driver.find_elements(By.XPATH,\"//div[@class='fs-13 airline-name no-pad col-8']/span\")\n",
    "for i in airlines:\n",
    "    Airlines.append(i.text.replace(\"\\n\",\" \"))\n",
    "else :\n",
    "    pass\n",
    "\n",
    "# Extracting Aeroplane model  via xpath\n",
    "aeroplanes = driver.find_elements(By.XPATH,'//p[@class=\"normal fs-11 font-lightestgrey no-wrap fl-no\"]/span')\n",
    "for i in tqdm(aeroplanes):\n",
    "    Flight_No.append(i.text) \n",
    "else:\n",
    "    pass\n",
    "\n",
    "# Extracting Departure Time of Filght via Xpath\n",
    "dept_times = driver.find_elements(By.XPATH,'//div[@class=\"i-b pr\"]')\n",
    "for i in tqdm(dept_times):\n",
    "    Dept_time.append(i.text)\n",
    "else :\n",
    "    pass\n",
    "\n",
    "# Extracting Arrival Time via xpath\n",
    "arrival = driver.find_elements(By.XPATH,'//p[@class=\"bold fs-15 mb-2 pr time\"]')\n",
    "for i in tqdm(arrival):\n",
    "    Arrival_time.append(i.text)\n",
    "else :\n",
    "    pass\n",
    "\n",
    "# Extracting Source of flight via Xpath\n",
    "source = driver.find_elements(By.XPATH,\"//div[@class='i-b col-4 no-wrap text-right dtime col-3']/p\")\n",
    "for i in tqdm(source):\n",
    "    Source.append(i.text)\n",
    "else :\n",
    "    pass\n",
    "\n",
    "# Extracting Destination of Flights via Xpath\n",
    "destination = driver.find_elements(By.XPATH,'//div[@class=\"i-b pdd-0 text-left atime col-5\"]/p[2]')\n",
    "for i in tqdm(destination):\n",
    "    Destination.append(i.text)\n",
    "else:\n",
    "    pass\n",
    "\n",
    "# Extracting Duration of Flights via Xpath\n",
    "duration = driver.find_elements(By.XPATH,'//div[@class=\"stop-cont pl-13\"]/p')\n",
    "for i in tqdm(duration):\n",
    "    Duration.append(i.text)\n",
    "else:\n",
    "    pass\n",
    "\n",
    "# Extracting stop details via Xpath\n",
    "stop = driver.find_elements(By.XPATH,\"//div[@class='stop-cont pl-13']/div/span\")\n",
    "for i in tqdm(stop):\n",
    "    Stops.append(i.text)\n",
    "else:\n",
    "    pass\n",
    "\n",
    "# Extracting Price of Flights via Xpath\n",
    "count = 0\n",
    "price = driver.find_elements(By.XPATH,'//div[@class=\"i-b tipsy fare-summary-tooltip fs-18\"]')\n",
    "for i in tqdm(price):\n",
    "    Price.append(i.text.replace(',',''))\n",
    "    count = count +1\n",
    "else:\n",
    "    count = count +1\n",
    "    pass\n",
    "\n",
    "# Clicking on Flights details element\n",
    "Button = driver.find_elements(By.XPATH,'//div[@class=\"link-color fs-12 cursor-pointer\"]/span')\n",
    "driver.execute_script(\"arguments[0].click();\", WebDriverWait(driver, 20).until(EC.element_to_be_clickable((By.XPATH,'//div[@class=\"link-color fs-12 cursor-pointer\"]/span'))))\n",
    "time.sleep(1)\n",
    "\n",
    "# Extracting Date of Flights via Xpath\n",
    "date = driver.find_element(By.XPATH,'//div[@class=\"bold fs-12 mb-5\"]')\n",
    "a = date.text\n",
    "for i in tqdm(range(count-1)):\n",
    "    Date.append(a)\n",
    "else:\n",
    "    pass"
   ]
  },
  {
   "cell_type": "code",
   "execution_count": 38,
   "id": "dc9dc2d0",
   "metadata": {},
   "outputs": [
    {
     "data": {
      "text/plain": [
       "(452, 452, 452, 452, 452, 452, 452, 452, 452, 452)"
      ]
     },
     "execution_count": 38,
     "metadata": {},
     "output_type": "execute_result"
    }
   ],
   "source": [
    "len(Flight_No), len(Airlines), len(Dept_time), len(Arrival_time), len(Source), len(Destination), len(Duration), len(Stops),len(Price), len(Date)"
   ]
  },
  {
   "cell_type": "markdown",
   "id": "289d5e92",
   "metadata": {},
   "source": [
    "* **Flights for date 11th Jan2023**"
   ]
  },
  {
   "cell_type": "code",
   "execution_count": 39,
   "id": "d08b03bf",
   "metadata": {},
   "outputs": [],
   "source": [
    "url6 = \"https://flight.yatra.com/air-search-ui/dom2/trigger?ADT=1&CHD=0&INF=0&class=Economy&destination=BOM&destinationCountry=IN&flexi=0&flight_depart_date=11%2F01%2F2023&hb=0&noOfSegments=1&origin=DEL&originCountry=IN&type=O&unique=1072467188121&version=1.1&viewName=normal\"\n",
    "driver.get(url6)\n",
    "time.sleep(2)"
   ]
  },
  {
   "cell_type": "code",
   "execution_count": 40,
   "id": "23a07d83",
   "metadata": {},
   "outputs": [
    {
     "name": "stderr",
     "output_type": "stream",
     "text": [
      "100%|██████████████████████████████████████████████████████████████████████████████████| 50/50 [00:17<00:00,  2.94it/s]\n"
     ]
    }
   ],
   "source": [
    "from tqdm import tqdm\n",
    "for _ in tqdm (range(0,50)):\n",
    "    time.sleep(0.1)\n",
    "    driver.execute_script(\"window.scrollBy(0,2000)\",\"\")\n",
    "    time.sleep(0.2)\n",
    "    driver.execute_script(\"window.scrollBy(0,-500)\",\"\")"
   ]
  },
  {
   "cell_type": "code",
   "execution_count": 41,
   "id": "a4dbc816",
   "metadata": {},
   "outputs": [
    {
     "data": {
      "text/plain": [
       "95"
      ]
     },
     "execution_count": 41,
     "metadata": {},
     "output_type": "execute_result"
    }
   ],
   "source": [
    "flights=driver.find_elements(By.XPATH,'//div[@class=\"fs-13 airline-name no-pad col-8\"]')\n",
    "len(flights)"
   ]
  },
  {
   "cell_type": "code",
   "execution_count": 42,
   "id": "714f15da",
   "metadata": {},
   "outputs": [
    {
     "name": "stderr",
     "output_type": "stream",
     "text": [
      "100%|█████████████████████████████████████████████████████████████████████████████████| 95/95 [00:00<00:00, 102.94it/s]\n",
      "100%|██████████████████████████████████████████████████████████████████████████████████| 95/95 [00:01<00:00, 92.11it/s]\n",
      "100%|██████████████████████████████████████████████████████████████████████████████████| 95/95 [00:01<00:00, 84.44it/s]\n",
      "100%|██████████████████████████████████████████████████████████████████████████████████| 95/95 [00:01<00:00, 78.16it/s]\n",
      "100%|██████████████████████████████████████████████████████████████████████████████████| 95/95 [00:01<00:00, 72.37it/s]\n",
      "100%|██████████████████████████████████████████████████████████████████████████████████| 95/95 [00:01<00:00, 66.24it/s]\n",
      "100%|██████████████████████████████████████████████████████████████████████████████████| 95/95 [00:01<00:00, 62.92it/s]\n",
      "100%|██████████████████████████████████████████████████████████████████████████████████| 95/95 [00:01<00:00, 58.04it/s]\n",
      "100%|██████████████████████████████████████████████████████████████████████████████████████████| 95/95 [00:00<?, ?it/s]\n"
     ]
    }
   ],
   "source": [
    "# Extracting Airlines Name Via Xpath\n",
    "airlines = driver.find_elements(By.XPATH,\"//div[@class='fs-13 airline-name no-pad col-8']/span\")\n",
    "for i in airlines:\n",
    "    Airlines.append(i.text.replace(\"\\n\",\" \"))\n",
    "else :\n",
    "    pass\n",
    "\n",
    "# Extracting Aeroplane model  via xpath\n",
    "aeroplanes = driver.find_elements(By.XPATH,'//p[@class=\"normal fs-11 font-lightestgrey no-wrap fl-no\"]/span')\n",
    "for i in tqdm(aeroplanes):\n",
    "    Flight_No.append(i.text) \n",
    "else:\n",
    "    pass\n",
    "\n",
    "# Extracting Departure Time of Filght via Xpath\n",
    "dept_times = driver.find_elements(By.XPATH,'//div[@class=\"i-b pr\"]')\n",
    "for i in tqdm(dept_times):\n",
    "    Dept_time.append(i.text)\n",
    "else :\n",
    "    pass\n",
    "\n",
    "# Extracting Arrival Time via xpath\n",
    "arrival = driver.find_elements(By.XPATH,'//p[@class=\"bold fs-15 mb-2 pr time\"]')\n",
    "for i in tqdm(arrival):\n",
    "    Arrival_time.append(i.text)\n",
    "else :\n",
    "    pass\n",
    "\n",
    "# Extracting Source of flight via Xpath\n",
    "source = driver.find_elements(By.XPATH,\"//div[@class='i-b col-4 no-wrap text-right dtime col-3']/p\")\n",
    "for i in tqdm(source):\n",
    "    Source.append(i.text)\n",
    "else :\n",
    "    pass\n",
    "\n",
    "# Extracting Destination of Flights via Xpath\n",
    "destination = driver.find_elements(By.XPATH,'//div[@class=\"i-b pdd-0 text-left atime col-5\"]/p[2]')\n",
    "for i in tqdm(destination):\n",
    "    Destination.append(i.text)\n",
    "else:\n",
    "    pass\n",
    "\n",
    "# Extracting Duration of Flights via Xpath\n",
    "duration = driver.find_elements(By.XPATH,'//div[@class=\"stop-cont pl-13\"]/p')\n",
    "for i in tqdm(duration):\n",
    "    Duration.append(i.text)\n",
    "else:\n",
    "    pass\n",
    "\n",
    "# Extracting stop details via Xpath\n",
    "stop = driver.find_elements(By.XPATH,\"//div[@class='stop-cont pl-13']/div/span\")\n",
    "for i in tqdm(stop):\n",
    "    Stops.append(i.text)\n",
    "else:\n",
    "    pass\n",
    "\n",
    "# Extracting Price of Flights via Xpath\n",
    "count = 0\n",
    "price = driver.find_elements(By.XPATH,'//div[@class=\"i-b tipsy fare-summary-tooltip fs-18\"]')\n",
    "for i in tqdm(price):\n",
    "    Price.append(i.text.replace(',',''))\n",
    "    count = count +1\n",
    "else:\n",
    "    count = count +1\n",
    "    pass\n",
    "\n",
    "# Clicking on Flights details element\n",
    "Button = driver.find_elements(By.XPATH,'//div[@class=\"link-color fs-12 cursor-pointer\"]/span')\n",
    "driver.execute_script(\"arguments[0].click();\", WebDriverWait(driver, 20).until(EC.element_to_be_clickable((By.XPATH,'//div[@class=\"link-color fs-12 cursor-pointer\"]/span'))))\n",
    "time.sleep(1)\n",
    "\n",
    "# Extracting Date of Flights via Xpath\n",
    "date = driver.find_element(By.XPATH,'//div[@class=\"bold fs-12 mb-5\"]')\n",
    "a = date.text\n",
    "for i in tqdm(range(count-1)):\n",
    "    Date.append(a)\n",
    "else:\n",
    "    pass"
   ]
  },
  {
   "cell_type": "code",
   "execution_count": 43,
   "id": "4e26e1b4",
   "metadata": {},
   "outputs": [
    {
     "data": {
      "text/plain": [
       "(547, 547, 547, 547, 547, 547, 547, 547, 547, 547)"
      ]
     },
     "execution_count": 43,
     "metadata": {},
     "output_type": "execute_result"
    }
   ],
   "source": [
    "len(Flight_No), len(Airlines), len(Dept_time), len(Arrival_time), len(Source), len(Destination), len(Duration), len(Stops),len(Price), len(Date)"
   ]
  },
  {
   "cell_type": "markdown",
   "id": "18ba6273",
   "metadata": {},
   "source": [
    "* **Flights for date 12th Jan2023**"
   ]
  },
  {
   "cell_type": "code",
   "execution_count": 44,
   "id": "7c3636cd",
   "metadata": {},
   "outputs": [],
   "source": [
    "url7 = \"https://flight.yatra.com/air-search-ui/dom2/trigger?ADT=1&CHD=0&INF=0&class=Economy&destination=BOM&destinationCountry=IN&flexi=0&flight_depart_date=12%2F01%2F2023&hb=0&noOfSegments=1&origin=DEL&originCountry=IN&type=O&unique=46103937755&version=1.5&viewName=normal\"\n",
    "driver.get(url7)\n",
    "time.sleep(2)"
   ]
  },
  {
   "cell_type": "code",
   "execution_count": 45,
   "id": "93a51c4c",
   "metadata": {},
   "outputs": [
    {
     "name": "stderr",
     "output_type": "stream",
     "text": [
      "100%|██████████████████████████████████████████████████████████████████████████████████| 50/50 [00:17<00:00,  2.93it/s]\n"
     ]
    }
   ],
   "source": [
    "from tqdm import tqdm\n",
    "for _ in tqdm (range(0,50)):\n",
    "    time.sleep(0.1)\n",
    "    driver.execute_script(\"window.scrollBy(0,2000)\",\"\")\n",
    "    time.sleep(0.2)\n",
    "    driver.execute_script(\"window.scrollBy(0,-500)\",\"\")"
   ]
  },
  {
   "cell_type": "code",
   "execution_count": 46,
   "id": "5121c6fc",
   "metadata": {},
   "outputs": [
    {
     "data": {
      "text/plain": [
       "95"
      ]
     },
     "execution_count": 46,
     "metadata": {},
     "output_type": "execute_result"
    }
   ],
   "source": [
    "flights=driver.find_elements(By.XPATH,'//div[@class=\"fs-13 airline-name no-pad col-8\"]')\n",
    "len(flights)"
   ]
  },
  {
   "cell_type": "code",
   "execution_count": 47,
   "id": "24b3bb0e",
   "metadata": {},
   "outputs": [
    {
     "name": "stderr",
     "output_type": "stream",
     "text": [
      "100%|█████████████████████████████████████████████████████████████████████████████████| 95/95 [00:00<00:00, 102.42it/s]\n",
      "100%|██████████████████████████████████████████████████████████████████████████████████| 95/95 [00:01<00:00, 92.52it/s]\n",
      "100%|██████████████████████████████████████████████████████████████████████████████████| 95/95 [00:01<00:00, 84.68it/s]\n",
      "100%|██████████████████████████████████████████████████████████████████████████████████| 95/95 [00:01<00:00, 78.00it/s]\n",
      "100%|██████████████████████████████████████████████████████████████████████████████████| 95/95 [00:01<00:00, 72.66it/s]\n",
      "100%|██████████████████████████████████████████████████████████████████████████████████| 95/95 [00:01<00:00, 66.07it/s]\n",
      "100%|██████████████████████████████████████████████████████████████████████████████████| 95/95 [00:01<00:00, 62.90it/s]\n",
      "100%|██████████████████████████████████████████████████████████████████████████████████| 95/95 [00:01<00:00, 58.04it/s]\n",
      "100%|██████████████████████████████████████████████████████████████████████████████████████████| 95/95 [00:00<?, ?it/s]\n"
     ]
    }
   ],
   "source": [
    "# Extracting Airlines Name Via Xpath\n",
    "airlines = driver.find_elements(By.XPATH,\"//div[@class='fs-13 airline-name no-pad col-8']/span\")\n",
    "for i in airlines:\n",
    "    Airlines.append(i.text.replace(\"\\n\",\" \"))\n",
    "else :\n",
    "    pass\n",
    "\n",
    "# Extracting Aeroplane model  via xpath\n",
    "aeroplanes = driver.find_elements(By.XPATH,'//p[@class=\"normal fs-11 font-lightestgrey no-wrap fl-no\"]/span')\n",
    "for i in tqdm(aeroplanes):\n",
    "    Flight_No.append(i.text) \n",
    "else:\n",
    "    pass\n",
    "\n",
    "# Extracting Departure Time of Filght via Xpath\n",
    "dept_times = driver.find_elements(By.XPATH,'//div[@class=\"i-b pr\"]')\n",
    "for i in tqdm(dept_times):\n",
    "    Dept_time.append(i.text)\n",
    "else :\n",
    "    pass\n",
    "\n",
    "# Extracting Arrival Time via xpath\n",
    "arrival = driver.find_elements(By.XPATH,'//p[@class=\"bold fs-15 mb-2 pr time\"]')\n",
    "for i in tqdm(arrival):\n",
    "    Arrival_time.append(i.text)\n",
    "else :\n",
    "    pass\n",
    "\n",
    "# Extracting Source of flight via Xpath\n",
    "source = driver.find_elements(By.XPATH,\"//div[@class='i-b col-4 no-wrap text-right dtime col-3']/p\")\n",
    "for i in tqdm(source):\n",
    "    Source.append(i.text)\n",
    "else :\n",
    "    pass\n",
    "\n",
    "# Extracting Destination of Flights via Xpath\n",
    "destination = driver.find_elements(By.XPATH,'//div[@class=\"i-b pdd-0 text-left atime col-5\"]/p[2]')\n",
    "for i in tqdm(destination):\n",
    "    Destination.append(i.text)\n",
    "else:\n",
    "    pass\n",
    "\n",
    "# Extracting Duration of Flights via Xpath\n",
    "duration = driver.find_elements(By.XPATH,'//div[@class=\"stop-cont pl-13\"]/p')\n",
    "for i in tqdm(duration):\n",
    "    Duration.append(i.text)\n",
    "else:\n",
    "    pass\n",
    "\n",
    "# Extracting stop details via Xpath\n",
    "stop = driver.find_elements(By.XPATH,\"//div[@class='stop-cont pl-13']/div/span\")\n",
    "for i in tqdm(stop):\n",
    "    Stops.append(i.text)\n",
    "else:\n",
    "    pass\n",
    "\n",
    "# Extracting Price of Flights via Xpath\n",
    "count = 0\n",
    "price = driver.find_elements(By.XPATH,'//div[@class=\"i-b tipsy fare-summary-tooltip fs-18\"]')\n",
    "for i in tqdm(price):\n",
    "    Price.append(i.text.replace(',',''))\n",
    "    count = count +1\n",
    "else:\n",
    "    count = count +1\n",
    "    pass\n",
    "\n",
    "# Clicking on Flights details element\n",
    "Button = driver.find_elements(By.XPATH,'//div[@class=\"link-color fs-12 cursor-pointer\"]/span')\n",
    "driver.execute_script(\"arguments[0].click();\", WebDriverWait(driver, 20).until(EC.element_to_be_clickable((By.XPATH,'//div[@class=\"link-color fs-12 cursor-pointer\"]/span'))))\n",
    "time.sleep(1)\n",
    "\n",
    "# Extracting Date of Flights via Xpath\n",
    "date = driver.find_element(By.XPATH,'//div[@class=\"bold fs-12 mb-5\"]')\n",
    "a = date.text\n",
    "for i in tqdm(range(count-1)):\n",
    "    Date.append(a)\n",
    "else:\n",
    "    pass"
   ]
  },
  {
   "cell_type": "code",
   "execution_count": 48,
   "id": "8b0da705",
   "metadata": {},
   "outputs": [
    {
     "data": {
      "text/plain": [
       "(642, 642, 642, 642, 642, 642, 642, 642, 642, 642)"
      ]
     },
     "execution_count": 48,
     "metadata": {},
     "output_type": "execute_result"
    }
   ],
   "source": [
    "len(Flight_No), len(Airlines), len(Dept_time), len(Arrival_time), len(Source), len(Destination), len(Duration), len(Stops),len(Price), len(Date)"
   ]
  },
  {
   "cell_type": "markdown",
   "id": "d1ffc88d",
   "metadata": {},
   "source": [
    "# Extracting Business class flights from New Delhi to Bombay"
   ]
  },
  {
   "cell_type": "markdown",
   "id": "53fa0d87",
   "metadata": {},
   "source": [
    "* **Flights for date 06th Jan2023**"
   ]
  },
  {
   "cell_type": "code",
   "execution_count": 49,
   "id": "0001ab0c",
   "metadata": {},
   "outputs": [],
   "source": [
    "url8 = \"https://flight.yatra.com/air-search-ui/dom2/trigger?ADT=1&CHD=0&INF=0&class=Business&destination=BOM&destinationCountry=IN&flexi=0&flight_depart_date=06%2F01%2F2023&hb=0&noOfSegments=1&origin=DEL&originCountry=IN&type=O&unique=1518200481200&version=1.1&viewName=normal\"\n",
    "driver.get(url8)\n",
    "time.sleep(2)"
   ]
  },
  {
   "cell_type": "code",
   "execution_count": 50,
   "id": "603baeef",
   "metadata": {},
   "outputs": [
    {
     "name": "stderr",
     "output_type": "stream",
     "text": [
      "100%|██████████████████████████████████████████████████████████████████████████████████| 50/50 [00:16<00:00,  2.98it/s]\n"
     ]
    }
   ],
   "source": [
    "from tqdm import tqdm\n",
    "for _ in tqdm (range(0,50)):\n",
    "    time.sleep(0.1)\n",
    "    driver.execute_script(\"window.scrollBy(0,2000)\",\"\")\n",
    "    time.sleep(0.2)\n",
    "    driver.execute_script(\"window.scrollBy(0,-500)\",\"\")"
   ]
  },
  {
   "cell_type": "code",
   "execution_count": 51,
   "id": "998291fa",
   "metadata": {},
   "outputs": [
    {
     "data": {
      "text/plain": [
       "44"
      ]
     },
     "execution_count": 51,
     "metadata": {},
     "output_type": "execute_result"
    }
   ],
   "source": [
    "flights=driver.find_elements(By.XPATH,'//div[@class=\"fs-13 airline-name no-pad col-8\"]')\n",
    "len(flights)"
   ]
  },
  {
   "cell_type": "code",
   "execution_count": 52,
   "id": "3d374f39",
   "metadata": {},
   "outputs": [
    {
     "name": "stderr",
     "output_type": "stream",
     "text": [
      "100%|█████████████████████████████████████████████████████████████████████████████████| 44/44 [00:00<00:00, 110.84it/s]\n",
      "100%|█████████████████████████████████████████████████████████████████████████████████| 44/44 [00:00<00:00, 102.65it/s]\n",
      "100%|██████████████████████████████████████████████████████████████████████████████████| 44/44 [00:00<00:00, 96.77it/s]\n",
      "100%|██████████████████████████████████████████████████████████████████████████████████| 44/44 [00:00<00:00, 96.87it/s]\n",
      "100%|██████████████████████████████████████████████████████████████████████████████████| 44/44 [00:00<00:00, 93.73it/s]\n",
      "100%|██████████████████████████████████████████████████████████████████████████████████| 44/44 [00:00<00:00, 88.69it/s]\n",
      "100%|██████████████████████████████████████████████████████████████████████████████████| 44/44 [00:00<00:00, 84.95it/s]\n",
      "100%|██████████████████████████████████████████████████████████████████████████████████| 44/44 [00:00<00:00, 79.87it/s]\n",
      "100%|██████████████████████████████████████████████████████████████████████████████████████████| 44/44 [00:00<?, ?it/s]\n"
     ]
    }
   ],
   "source": [
    "# Extracting Airlines Name Via Xpath\n",
    "airlines = driver.find_elements(By.XPATH,\"//div[@class='fs-13 airline-name no-pad col-8']/span\")\n",
    "for i in airlines:\n",
    "    Airlines.append(i.text.replace(\"\\n\",\" \"))\n",
    "else :\n",
    "    pass\n",
    "\n",
    "# Extracting Aeroplane model  via xpath\n",
    "aeroplanes = driver.find_elements(By.XPATH,'//p[@class=\"normal fs-11 font-lightestgrey no-wrap fl-no\"]/span')\n",
    "for i in tqdm(aeroplanes):\n",
    "    Flight_No.append(i.text) \n",
    "else:\n",
    "    pass\n",
    "\n",
    "# Extracting Departure Time of Filght via Xpath\n",
    "dept_times = driver.find_elements(By.XPATH,'//div[@class=\"i-b pr\"]')\n",
    "for i in tqdm(dept_times):\n",
    "    Dept_time.append(i.text)\n",
    "else :\n",
    "    pass\n",
    "\n",
    "# Extracting Arrival Time via xpath\n",
    "arrival = driver.find_elements(By.XPATH,'//p[@class=\"bold fs-15 mb-2 pr time\"]')\n",
    "for i in tqdm(arrival):\n",
    "    Arrival_time.append(i.text)\n",
    "else :\n",
    "    pass\n",
    "\n",
    "# Extracting Source of flight via Xpath\n",
    "source = driver.find_elements(By.XPATH,\"//div[@class='i-b col-4 no-wrap text-right dtime col-3']/p\")\n",
    "for i in tqdm(source):\n",
    "    Source.append(i.text)\n",
    "else :\n",
    "    pass\n",
    "\n",
    "# Extracting Destination of Flights via Xpath\n",
    "destination = driver.find_elements(By.XPATH,'//div[@class=\"i-b pdd-0 text-left atime col-5\"]/p[2]')\n",
    "for i in tqdm(destination):\n",
    "    Destination.append(i.text)\n",
    "else:\n",
    "    pass\n",
    "\n",
    "# Extracting Duration of Flights via Xpath\n",
    "duration = driver.find_elements(By.XPATH,'//div[@class=\"stop-cont pl-13\"]/p')\n",
    "for i in tqdm(duration):\n",
    "    Duration.append(i.text)\n",
    "else:\n",
    "    pass\n",
    "\n",
    "# Extracting stop details via Xpath\n",
    "stop = driver.find_elements(By.XPATH,\"//div[@class='stop-cont pl-13']/div/span\")\n",
    "for i in tqdm(stop):\n",
    "    Stops.append(i.text)\n",
    "else:\n",
    "    pass\n",
    "\n",
    "# Extracting Price of Flights via Xpath\n",
    "count = 0\n",
    "price = driver.find_elements(By.XPATH,'//div[@class=\"i-b tipsy fare-summary-tooltip fs-18\"]')\n",
    "for i in tqdm(price):\n",
    "    Price.append(i.text.replace(',',''))\n",
    "    count = count +1\n",
    "else:\n",
    "    count = count +1\n",
    "    pass\n",
    "\n",
    "# Clicking on Flights details element\n",
    "Button = driver.find_elements(By.XPATH,'//div[@class=\"link-color fs-12 cursor-pointer\"]/span')\n",
    "driver.execute_script(\"arguments[0].click();\", WebDriverWait(driver, 20).until(EC.element_to_be_clickable((By.XPATH,'//div[@class=\"link-color fs-12 cursor-pointer\"]/span'))))\n",
    "time.sleep(1)\n",
    "\n",
    "# Extracting Date of Flights via Xpath\n",
    "date = driver.find_element(By.XPATH,'//div[@class=\"bold fs-12 mb-5\"]')\n",
    "a = date.text\n",
    "for i in tqdm(range(count-1)):\n",
    "    Date.append(a)\n",
    "else:\n",
    "    pass"
   ]
  },
  {
   "cell_type": "code",
   "execution_count": 53,
   "id": "bb9ff2ff",
   "metadata": {},
   "outputs": [
    {
     "data": {
      "text/plain": [
       "(686, 686, 686, 686, 686, 686, 686, 686, 686, 686)"
      ]
     },
     "execution_count": 53,
     "metadata": {},
     "output_type": "execute_result"
    }
   ],
   "source": [
    "len(Flight_No), len(Airlines), len(Dept_time), len(Arrival_time), len(Source), len(Destination), len(Duration), len(Stops),len(Price), len(Date)"
   ]
  },
  {
   "cell_type": "markdown",
   "id": "5902ca92",
   "metadata": {},
   "source": [
    "* **Flights for date 07th Jan2023**"
   ]
  },
  {
   "cell_type": "code",
   "execution_count": 54,
   "id": "20fe125d",
   "metadata": {},
   "outputs": [],
   "source": [
    "url9 = \"https://flight.yatra.com/air-search-ui/dom2/trigger?ADT=1&CHD=0&INF=0&class=Business&destination=BOM&destinationCountry=IN&flexi=0&flight_depart_date=07%2F01%2F2023&hb=0&noOfSegments=1&origin=DEL&originCountry=IN&type=O&unique=1070521476112&version=1.1&viewName=normal\"\n",
    "driver.get(url9)\n",
    "time.sleep(2)"
   ]
  },
  {
   "cell_type": "code",
   "execution_count": 55,
   "id": "40bad1aa",
   "metadata": {},
   "outputs": [
    {
     "name": "stderr",
     "output_type": "stream",
     "text": [
      "100%|██████████████████████████████████████████████████████████████████████████████████| 50/50 [00:17<00:00,  2.93it/s]\n"
     ]
    }
   ],
   "source": [
    "from tqdm import tqdm\n",
    "for _ in tqdm (range(0,50)):\n",
    "    time.sleep(0.1)\n",
    "    driver.execute_script(\"window.scrollBy(0,2000)\",\"\")\n",
    "    time.sleep(0.2)\n",
    "    driver.execute_script(\"window.scrollBy(0,-500)\",\"\")"
   ]
  },
  {
   "cell_type": "code",
   "execution_count": 56,
   "id": "6187139c",
   "metadata": {},
   "outputs": [
    {
     "data": {
      "text/plain": [
       "75"
      ]
     },
     "execution_count": 56,
     "metadata": {},
     "output_type": "execute_result"
    }
   ],
   "source": [
    "flights=driver.find_elements(By.XPATH,'//div[@class=\"fs-13 airline-name no-pad col-8\"]')\n",
    "len(flights)"
   ]
  },
  {
   "cell_type": "code",
   "execution_count": 57,
   "id": "c84d4f0f",
   "metadata": {},
   "outputs": [
    {
     "name": "stderr",
     "output_type": "stream",
     "text": [
      "100%|█████████████████████████████████████████████████████████████████████████████████| 75/75 [00:00<00:00, 105.69it/s]\n",
      "100%|██████████████████████████████████████████████████████████████████████████████████| 75/75 [00:00<00:00, 96.93it/s]\n",
      "100%|██████████████████████████████████████████████████████████████████████████████████| 75/75 [00:00<00:00, 89.19it/s]\n",
      "100%|██████████████████████████████████████████████████████████████████████████████████| 75/75 [00:00<00:00, 85.12it/s]\n",
      "100%|██████████████████████████████████████████████████████████████████████████████████| 75/75 [00:00<00:00, 79.42it/s]\n",
      "100%|██████████████████████████████████████████████████████████████████████████████████| 75/75 [00:01<00:00, 74.70it/s]\n",
      "100%|██████████████████████████████████████████████████████████████████████████████████| 75/75 [00:01<00:00, 70.21it/s]\n",
      "100%|██████████████████████████████████████████████████████████████████████████████████| 75/75 [00:01<00:00, 63.99it/s]\n",
      "100%|██████████████████████████████████████████████████████████████████████████████████████████| 75/75 [00:00<?, ?it/s]\n"
     ]
    }
   ],
   "source": [
    "# Extracting Airlines Name Via Xpath\n",
    "airlines = driver.find_elements(By.XPATH,\"//div[@class='fs-13 airline-name no-pad col-8']/span\")\n",
    "for i in airlines:\n",
    "    Airlines.append(i.text.replace(\"\\n\",\" \"))\n",
    "else :\n",
    "    pass\n",
    "\n",
    "# Extracting Aeroplane model  via xpath\n",
    "aeroplanes = driver.find_elements(By.XPATH,'//p[@class=\"normal fs-11 font-lightestgrey no-wrap fl-no\"]/span')\n",
    "for i in tqdm(aeroplanes):\n",
    "    Flight_No.append(i.text) \n",
    "else:\n",
    "    pass\n",
    "\n",
    "# Extracting Departure Time of Filght via Xpath\n",
    "dept_times = driver.find_elements(By.XPATH,'//div[@class=\"i-b pr\"]')\n",
    "for i in tqdm(dept_times):\n",
    "    Dept_time.append(i.text)\n",
    "else :\n",
    "    pass\n",
    "\n",
    "# Extracting Arrival Time via xpath\n",
    "arrival = driver.find_elements(By.XPATH,'//p[@class=\"bold fs-15 mb-2 pr time\"]')\n",
    "for i in tqdm(arrival):\n",
    "    Arrival_time.append(i.text)\n",
    "else :\n",
    "    pass\n",
    "\n",
    "# Extracting Source of flight via Xpath\n",
    "source = driver.find_elements(By.XPATH,\"//div[@class='i-b col-4 no-wrap text-right dtime col-3']/p\")\n",
    "for i in tqdm(source):\n",
    "    Source.append(i.text)\n",
    "else :\n",
    "    pass\n",
    "\n",
    "# Extracting Destination of Flights via Xpath\n",
    "destination = driver.find_elements(By.XPATH,'//div[@class=\"i-b pdd-0 text-left atime col-5\"]/p[2]')\n",
    "for i in tqdm(destination):\n",
    "    Destination.append(i.text)\n",
    "else:\n",
    "    pass\n",
    "\n",
    "# Extracting Duration of Flights via Xpath\n",
    "duration = driver.find_elements(By.XPATH,'//div[@class=\"stop-cont pl-13\"]/p')\n",
    "for i in tqdm(duration):\n",
    "    Duration.append(i.text)\n",
    "else:\n",
    "    pass\n",
    "\n",
    "# Extracting stop details via Xpath\n",
    "stop = driver.find_elements(By.XPATH,\"//div[@class='stop-cont pl-13']/div/span\")\n",
    "for i in tqdm(stop):\n",
    "    Stops.append(i.text)\n",
    "else:\n",
    "    pass\n",
    "\n",
    "# Extracting Price of Flights via Xpath\n",
    "count = 0\n",
    "price = driver.find_elements(By.XPATH,'//div[@class=\"i-b tipsy fare-summary-tooltip fs-18\"]')\n",
    "for i in tqdm(price):\n",
    "    Price.append(i.text.replace(',',''))\n",
    "    count = count +1\n",
    "else:\n",
    "    count = count +1\n",
    "    pass\n",
    "\n",
    "# Clicking on Flights details element\n",
    "Button = driver.find_elements(By.XPATH,'//div[@class=\"link-color fs-12 cursor-pointer\"]/span')\n",
    "driver.execute_script(\"arguments[0].click();\", WebDriverWait(driver, 20).until(EC.element_to_be_clickable((By.XPATH,'//div[@class=\"link-color fs-12 cursor-pointer\"]/span'))))\n",
    "time.sleep(1)\n",
    "\n",
    "# Extracting Date of Flights via Xpath\n",
    "date = driver.find_element(By.XPATH,'//div[@class=\"bold fs-12 mb-5\"]')\n",
    "a = date.text\n",
    "for i in tqdm(range(count-1)):\n",
    "    Date.append(a)\n",
    "else:\n",
    "    pass"
   ]
  },
  {
   "cell_type": "markdown",
   "id": "931aaa1f",
   "metadata": {},
   "source": [
    "* **Flights for date 08th Jan2023**"
   ]
  },
  {
   "cell_type": "code",
   "execution_count": 58,
   "id": "60a268cf",
   "metadata": {},
   "outputs": [],
   "source": [
    "url10 = \"https://flight.yatra.com/air-search-ui/dom2/trigger?ADT=1&CHD=0&INF=0&class=Business&destination=BOM&destinationCountry=IN&flexi=0&flight_depart_date=08%2F01%2F2023&hb=0&noOfSegments=1&origin=DEL&originCountry=IN&type=O&unique=255058988758&version=1.1&viewName=normal\"\n",
    "driver.get(url10)\n",
    "time.sleep(2)"
   ]
  },
  {
   "cell_type": "code",
   "execution_count": 59,
   "id": "b368c468",
   "metadata": {},
   "outputs": [
    {
     "name": "stderr",
     "output_type": "stream",
     "text": [
      "100%|██████████████████████████████████████████████████████████████████████████████████| 50/50 [00:16<00:00,  2.96it/s]\n"
     ]
    }
   ],
   "source": [
    "from tqdm import tqdm\n",
    "for _ in tqdm (range(0,50)):\n",
    "    time.sleep(0.1)\n",
    "    driver.execute_script(\"window.scrollBy(0,2000)\",\"\")\n",
    "    time.sleep(0.2)\n",
    "    driver.execute_script(\"window.scrollBy(0,-500)\",\"\")"
   ]
  },
  {
   "cell_type": "code",
   "execution_count": 60,
   "id": "2b895f5a",
   "metadata": {},
   "outputs": [
    {
     "data": {
      "text/plain": [
       "76"
      ]
     },
     "execution_count": 60,
     "metadata": {},
     "output_type": "execute_result"
    }
   ],
   "source": [
    "flights=driver.find_elements(By.XPATH,'//div[@class=\"fs-13 airline-name no-pad col-8\"]')\n",
    "len(flights)"
   ]
  },
  {
   "cell_type": "code",
   "execution_count": 61,
   "id": "4a9d3af4",
   "metadata": {},
   "outputs": [
    {
     "name": "stderr",
     "output_type": "stream",
     "text": [
      "100%|█████████████████████████████████████████████████████████████████████████████████| 76/76 [00:00<00:00, 104.87it/s]\n",
      "100%|██████████████████████████████████████████████████████████████████████████████████| 76/76 [00:00<00:00, 96.53it/s]\n",
      "100%|██████████████████████████████████████████████████████████████████████████████████| 76/76 [00:00<00:00, 88.42it/s]\n",
      "100%|██████████████████████████████████████████████████████████████████████████████████| 76/76 [00:00<00:00, 84.56it/s]\n",
      "100%|██████████████████████████████████████████████████████████████████████████████████| 76/76 [00:00<00:00, 78.22it/s]\n",
      "100%|██████████████████████████████████████████████████████████████████████████████████| 76/76 [00:01<00:00, 74.16it/s]\n",
      "100%|██████████████████████████████████████████████████████████████████████████████████| 76/76 [00:01<00:00, 69.99it/s]\n",
      "100%|██████████████████████████████████████████████████████████████████████████████████| 76/76 [00:01<00:00, 63.72it/s]\n",
      "100%|██████████████████████████████████████████████████████████████████████████████████████████| 76/76 [00:00<?, ?it/s]\n"
     ]
    }
   ],
   "source": [
    "# Extracting Airlines Name Via Xpath\n",
    "airlines = driver.find_elements(By.XPATH,\"//div[@class='fs-13 airline-name no-pad col-8']/span\")\n",
    "for i in airlines:\n",
    "    Airlines.append(i.text.replace(\"\\n\",\" \"))\n",
    "else :\n",
    "    pass\n",
    "\n",
    "# Extracting Aeroplane model  via xpath\n",
    "aeroplanes = driver.find_elements(By.XPATH,'//p[@class=\"normal fs-11 font-lightestgrey no-wrap fl-no\"]/span')\n",
    "for i in tqdm(aeroplanes):\n",
    "    Flight_No.append(i.text) \n",
    "else:\n",
    "    pass\n",
    "\n",
    "# Extracting Departure Time of Filght via Xpath\n",
    "dept_times = driver.find_elements(By.XPATH,'//div[@class=\"i-b pr\"]')\n",
    "for i in tqdm(dept_times):\n",
    "    Dept_time.append(i.text)\n",
    "else :\n",
    "    pass\n",
    "\n",
    "# Extracting Arrival Time via xpath\n",
    "arrival = driver.find_elements(By.XPATH,'//p[@class=\"bold fs-15 mb-2 pr time\"]')\n",
    "for i in tqdm(arrival):\n",
    "    Arrival_time.append(i.text)\n",
    "else :\n",
    "    pass\n",
    "\n",
    "# Extracting Source of flight via Xpath\n",
    "source = driver.find_elements(By.XPATH,\"//div[@class='i-b col-4 no-wrap text-right dtime col-3']/p\")\n",
    "for i in tqdm(source):\n",
    "    Source.append(i.text)\n",
    "else :\n",
    "    pass\n",
    "\n",
    "# Extracting Destination of Flights via Xpath\n",
    "destination = driver.find_elements(By.XPATH,'//div[@class=\"i-b pdd-0 text-left atime col-5\"]/p[2]')\n",
    "for i in tqdm(destination):\n",
    "    Destination.append(i.text)\n",
    "else:\n",
    "    pass\n",
    "\n",
    "# Extracting Duration of Flights via Xpath\n",
    "duration = driver.find_elements(By.XPATH,'//div[@class=\"stop-cont pl-13\"]/p')\n",
    "for i in tqdm(duration):\n",
    "    Duration.append(i.text)\n",
    "else:\n",
    "    pass\n",
    "\n",
    "# Extracting stop details via Xpath\n",
    "stop = driver.find_elements(By.XPATH,\"//div[@class='stop-cont pl-13']/div/span\")\n",
    "for i in tqdm(stop):\n",
    "    Stops.append(i.text)\n",
    "else:\n",
    "    pass\n",
    "\n",
    "# Extracting Price of Flights via Xpath\n",
    "count = 0\n",
    "price = driver.find_elements(By.XPATH,'//div[@class=\"i-b tipsy fare-summary-tooltip fs-18\"]')\n",
    "for i in tqdm(price):\n",
    "    Price.append(i.text.replace(',',''))\n",
    "    count = count +1\n",
    "else:\n",
    "    count = count +1\n",
    "    pass\n",
    "\n",
    "# Clicking on Flights details element\n",
    "Button = driver.find_elements(By.XPATH,'//div[@class=\"link-color fs-12 cursor-pointer\"]/span')\n",
    "driver.execute_script(\"arguments[0].click();\", WebDriverWait(driver, 20).until(EC.element_to_be_clickable((By.XPATH,'//div[@class=\"link-color fs-12 cursor-pointer\"]/span'))))\n",
    "time.sleep(1)\n",
    "\n",
    "# Extracting Date of Flights via Xpath\n",
    "date = driver.find_element(By.XPATH,'//div[@class=\"bold fs-12 mb-5\"]')\n",
    "a = date.text\n",
    "for i in tqdm(range(count-1)):\n",
    "    Date.append(a)\n",
    "else:\n",
    "    pass"
   ]
  },
  {
   "cell_type": "markdown",
   "id": "72a56fc9",
   "metadata": {},
   "source": [
    "* **Flights for date 09th Jan2023**"
   ]
  },
  {
   "cell_type": "code",
   "execution_count": 62,
   "id": "cf77e3a8",
   "metadata": {},
   "outputs": [],
   "source": [
    "url11 = \"https://flight.yatra.com/air-search-ui/dom2/trigger?ADT=1&CHD=0&INF=0&class=Business&destination=BOM&destinationCountry=IN&flexi=0&flight_depart_date=09%2F01%2F2023&hb=0&noOfSegments=1&origin=DEL&originCountry=IN&type=O&unique=1382577751278&version=1.1&viewName=normal\"\n",
    "driver.get(url11)\n",
    "time.sleep(2)"
   ]
  },
  {
   "cell_type": "code",
   "execution_count": 63,
   "id": "84907509",
   "metadata": {},
   "outputs": [
    {
     "name": "stderr",
     "output_type": "stream",
     "text": [
      "100%|██████████████████████████████████████████████████████████████████████████████████| 50/50 [00:16<00:00,  2.95it/s]\n"
     ]
    }
   ],
   "source": [
    "from tqdm import tqdm\n",
    "for _ in tqdm (range(0,50)):\n",
    "    time.sleep(0.1)\n",
    "    driver.execute_script(\"window.scrollBy(0,2000)\",\"\")\n",
    "    time.sleep(0.2)\n",
    "    driver.execute_script(\"window.scrollBy(0,-500)\",\"\")"
   ]
  },
  {
   "cell_type": "code",
   "execution_count": 64,
   "id": "fa43ff6d",
   "metadata": {},
   "outputs": [
    {
     "data": {
      "text/plain": [
       "68"
      ]
     },
     "execution_count": 64,
     "metadata": {},
     "output_type": "execute_result"
    }
   ],
   "source": [
    "flights=driver.find_elements(By.XPATH,'//div[@class=\"fs-13 airline-name no-pad col-8\"]')\n",
    "len(flights)"
   ]
  },
  {
   "cell_type": "code",
   "execution_count": 65,
   "id": "58b84b14",
   "metadata": {},
   "outputs": [
    {
     "name": "stderr",
     "output_type": "stream",
     "text": [
      "100%|█████████████████████████████████████████████████████████████████████████████████| 68/68 [00:00<00:00, 106.23it/s]\n",
      "100%|██████████████████████████████████████████████████████████████████████████████████| 68/68 [00:00<00:00, 97.50it/s]\n",
      "100%|██████████████████████████████████████████████████████████████████████████████████| 68/68 [00:00<00:00, 91.15it/s]\n",
      "100%|██████████████████████████████████████████████████████████████████████████████████| 68/68 [00:00<00:00, 87.23it/s]\n",
      "100%|██████████████████████████████████████████████████████████████████████████████████| 68/68 [00:00<00:00, 81.70it/s]\n",
      "100%|██████████████████████████████████████████████████████████████████████████████████| 68/68 [00:00<00:00, 76.82it/s]\n",
      "100%|██████████████████████████████████████████████████████████████████████████████████| 68/68 [00:00<00:00, 72.46it/s]\n",
      "100%|██████████████████████████████████████████████████████████████████████████████████| 68/68 [00:01<00:00, 67.89it/s]\n",
      "100%|██████████████████████████████████████████████████████████████████████████████████████████| 68/68 [00:00<?, ?it/s]\n"
     ]
    }
   ],
   "source": [
    "# Extracting Airlines Name Via Xpath\n",
    "airlines = driver.find_elements(By.XPATH,\"//div[@class='fs-13 airline-name no-pad col-8']/span\")\n",
    "for i in airlines:\n",
    "    Airlines.append(i.text.replace(\"\\n\",\" \"))\n",
    "else :\n",
    "    pass\n",
    "\n",
    "# Extracting Aeroplane model  via xpath\n",
    "aeroplanes = driver.find_elements(By.XPATH,'//p[@class=\"normal fs-11 font-lightestgrey no-wrap fl-no\"]/span')\n",
    "for i in tqdm(aeroplanes):\n",
    "    Flight_No.append(i.text) \n",
    "else:\n",
    "    pass\n",
    "\n",
    "# Extracting Departure Time of Filght via Xpath\n",
    "dept_times = driver.find_elements(By.XPATH,'//div[@class=\"i-b pr\"]')\n",
    "for i in tqdm(dept_times):\n",
    "    Dept_time.append(i.text)\n",
    "else :\n",
    "    pass\n",
    "\n",
    "# Extracting Arrival Time via xpath\n",
    "arrival = driver.find_elements(By.XPATH,'//p[@class=\"bold fs-15 mb-2 pr time\"]')\n",
    "for i in tqdm(arrival):\n",
    "    Arrival_time.append(i.text)\n",
    "else :\n",
    "    pass\n",
    "\n",
    "# Extracting Source of flight via Xpath\n",
    "source = driver.find_elements(By.XPATH,\"//div[@class='i-b col-4 no-wrap text-right dtime col-3']/p\")\n",
    "for i in tqdm(source):\n",
    "    Source.append(i.text)\n",
    "else :\n",
    "    pass\n",
    "\n",
    "# Extracting Destination of Flights via Xpath\n",
    "destination = driver.find_elements(By.XPATH,'//div[@class=\"i-b pdd-0 text-left atime col-5\"]/p[2]')\n",
    "for i in tqdm(destination):\n",
    "    Destination.append(i.text)\n",
    "else:\n",
    "    pass\n",
    "\n",
    "# Extracting Duration of Flights via Xpath\n",
    "duration = driver.find_elements(By.XPATH,'//div[@class=\"stop-cont pl-13\"]/p')\n",
    "for i in tqdm(duration):\n",
    "    Duration.append(i.text)\n",
    "else:\n",
    "    pass\n",
    "\n",
    "# Extracting stop details via Xpath\n",
    "stop = driver.find_elements(By.XPATH,\"//div[@class='stop-cont pl-13']/div/span\")\n",
    "for i in tqdm(stop):\n",
    "    Stops.append(i.text)\n",
    "else:\n",
    "    pass\n",
    "\n",
    "# Extracting Price of Flights via Xpath\n",
    "count = 0\n",
    "price = driver.find_elements(By.XPATH,'//div[@class=\"i-b tipsy fare-summary-tooltip fs-18\"]')\n",
    "for i in tqdm(price):\n",
    "    Price.append(i.text.replace(',',''))\n",
    "    count = count +1\n",
    "else:\n",
    "    count = count +1\n",
    "    pass\n",
    "\n",
    "# Clicking on Flights details element\n",
    "Button = driver.find_elements(By.XPATH,'//div[@class=\"link-color fs-12 cursor-pointer\"]/span')\n",
    "driver.execute_script(\"arguments[0].click();\", WebDriverWait(driver, 20).until(EC.element_to_be_clickable((By.XPATH,'//div[@class=\"link-color fs-12 cursor-pointer\"]/span'))))\n",
    "time.sleep(1)\n",
    "\n",
    "# Extracting Date of Flights via Xpath\n",
    "date = driver.find_element(By.XPATH,'//div[@class=\"bold fs-12 mb-5\"]')\n",
    "a = date.text\n",
    "for i in tqdm(range(count-1)):\n",
    "    Date.append(a)\n",
    "else:\n",
    "    pass"
   ]
  },
  {
   "cell_type": "code",
   "execution_count": 66,
   "id": "17fcd6bb",
   "metadata": {},
   "outputs": [
    {
     "data": {
      "text/plain": [
       "(905, 905, 905, 905, 905, 905, 905, 905, 905, 905)"
      ]
     },
     "execution_count": 66,
     "metadata": {},
     "output_type": "execute_result"
    }
   ],
   "source": [
    "len(Flight_No), len(Airlines), len(Dept_time), len(Arrival_time), len(Source), len(Destination), len(Duration), len(Stops),len(Price), len(Date)"
   ]
  },
  {
   "cell_type": "markdown",
   "id": "c7cfb391",
   "metadata": {},
   "source": [
    "* **Flights for date 10th Jan2023**"
   ]
  },
  {
   "cell_type": "code",
   "execution_count": 69,
   "id": "13073602",
   "metadata": {},
   "outputs": [],
   "source": [
    "url11 = \"https://flight.yatra.com/air-search-ui/dom2/trigger?ADT=1&CHD=0&INF=0&class=Business&destination=BOM&destinationCountry=IN&flexi=0&flight_depart_date=09%2F01%2F2023&hb=0&noOfSegments=1&origin=DEL&originCountry=IN&type=O&unique=1382577751278&version=1.1&viewName=normal\"\n",
    "driver.get(url11)\n",
    "time.sleep(2)"
   ]
  },
  {
   "cell_type": "code",
   "execution_count": 70,
   "id": "34124b7d",
   "metadata": {},
   "outputs": [
    {
     "name": "stderr",
     "output_type": "stream",
     "text": [
      "100%|██████████████████████████████████████████████████████████████████████████████████| 50/50 [00:16<00:00,  3.00it/s]\n"
     ]
    }
   ],
   "source": [
    "from tqdm import tqdm\n",
    "for _ in tqdm (range(0,50)):\n",
    "    time.sleep(0.1)\n",
    "    driver.execute_script(\"window.scrollBy(0,2000)\",\"\")\n",
    "    time.sleep(0.2)\n",
    "    driver.execute_script(\"window.scrollBy(0,-500)\",\"\")"
   ]
  },
  {
   "cell_type": "code",
   "execution_count": 71,
   "id": "ae50da51",
   "metadata": {},
   "outputs": [
    {
     "data": {
      "text/plain": [
       "68"
      ]
     },
     "execution_count": 71,
     "metadata": {},
     "output_type": "execute_result"
    }
   ],
   "source": [
    "flights=driver.find_elements(By.XPATH,'//div[@class=\"fs-13 airline-name no-pad col-8\"]')\n",
    "len(flights)"
   ]
  },
  {
   "cell_type": "code",
   "execution_count": 72,
   "id": "0522d589",
   "metadata": {},
   "outputs": [
    {
     "name": "stderr",
     "output_type": "stream",
     "text": [
      "100%|█████████████████████████████████████████████████████████████████████████████████| 68/68 [00:00<00:00, 107.01it/s]\n",
      "100%|██████████████████████████████████████████████████████████████████████████████████| 68/68 [00:00<00:00, 97.90it/s]\n",
      "100%|██████████████████████████████████████████████████████████████████████████████████| 68/68 [00:00<00:00, 90.86it/s]\n",
      "100%|██████████████████████████████████████████████████████████████████████████████████| 68/68 [00:00<00:00, 87.10it/s]\n",
      "100%|██████████████████████████████████████████████████████████████████████████████████| 68/68 [00:00<00:00, 81.53it/s]\n",
      "100%|██████████████████████████████████████████████████████████████████████████████████| 68/68 [00:00<00:00, 76.99it/s]\n",
      "100%|██████████████████████████████████████████████████████████████████████████████████| 68/68 [00:00<00:00, 72.96it/s]\n",
      "100%|██████████████████████████████████████████████████████████████████████████████████| 68/68 [00:01<00:00, 66.94it/s]\n",
      "100%|██████████████████████████████████████████████████████████████████████████████████████████| 68/68 [00:00<?, ?it/s]\n"
     ]
    }
   ],
   "source": [
    "# Extracting Airlines Name Via Xpath\n",
    "airlines = driver.find_elements(By.XPATH,\"//div[@class='fs-13 airline-name no-pad col-8']/span\")\n",
    "for i in airlines:\n",
    "    Airlines.append(i.text.replace(\"\\n\",\" \"))\n",
    "else :\n",
    "    pass\n",
    "\n",
    "# Extracting Aeroplane model  via xpath\n",
    "aeroplanes = driver.find_elements(By.XPATH,'//p[@class=\"normal fs-11 font-lightestgrey no-wrap fl-no\"]/span')\n",
    "for i in tqdm(aeroplanes):\n",
    "    Flight_No.append(i.text) \n",
    "else:\n",
    "    pass\n",
    "\n",
    "# Extracting Departure Time of Filght via Xpath\n",
    "dept_times = driver.find_elements(By.XPATH,'//div[@class=\"i-b pr\"]')\n",
    "for i in tqdm(dept_times):\n",
    "    Dept_time.append(i.text)\n",
    "else :\n",
    "    pass\n",
    "\n",
    "# Extracting Arrival Time via xpath\n",
    "arrival = driver.find_elements(By.XPATH,'//p[@class=\"bold fs-15 mb-2 pr time\"]')\n",
    "for i in tqdm(arrival):\n",
    "    Arrival_time.append(i.text)\n",
    "else :\n",
    "    pass\n",
    "\n",
    "# Extracting Source of flight via Xpath\n",
    "source = driver.find_elements(By.XPATH,\"//div[@class='i-b col-4 no-wrap text-right dtime col-3']/p\")\n",
    "for i in tqdm(source):\n",
    "    Source.append(i.text)\n",
    "else :\n",
    "    pass\n",
    "\n",
    "# Extracting Destination of Flights via Xpath\n",
    "destination = driver.find_elements(By.XPATH,'//div[@class=\"i-b pdd-0 text-left atime col-5\"]/p[2]')\n",
    "for i in tqdm(destination):\n",
    "    Destination.append(i.text)\n",
    "else:\n",
    "    pass\n",
    "\n",
    "# Extracting Duration of Flights via Xpath\n",
    "duration = driver.find_elements(By.XPATH,'//div[@class=\"stop-cont pl-13\"]/p')\n",
    "for i in tqdm(duration):\n",
    "    Duration.append(i.text)\n",
    "else:\n",
    "    pass\n",
    "\n",
    "# Extracting stop details via Xpath\n",
    "stop = driver.find_elements(By.XPATH,\"//div[@class='stop-cont pl-13']/div/span\")\n",
    "for i in tqdm(stop):\n",
    "    Stops.append(i.text)\n",
    "else:\n",
    "    pass\n",
    "\n",
    "# Extracting Price of Flights via Xpath\n",
    "count = 0\n",
    "price = driver.find_elements(By.XPATH,'//div[@class=\"i-b tipsy fare-summary-tooltip fs-18\"]')\n",
    "for i in tqdm(price):\n",
    "    Price.append(i.text.replace(',',''))\n",
    "    count = count +1\n",
    "else:\n",
    "    count = count +1\n",
    "    pass\n",
    "\n",
    "# Clicking on Flights details element\n",
    "Button = driver.find_elements(By.XPATH,'//div[@class=\"link-color fs-12 cursor-pointer\"]/span')\n",
    "driver.execute_script(\"arguments[0].click();\", WebDriverWait(driver, 20).until(EC.element_to_be_clickable((By.XPATH,'//div[@class=\"link-color fs-12 cursor-pointer\"]/span'))))\n",
    "time.sleep(1)\n",
    "\n",
    "# Extracting Date of Flights via Xpath\n",
    "date = driver.find_element(By.XPATH,'//div[@class=\"bold fs-12 mb-5\"]')\n",
    "a = date.text\n",
    "for i in tqdm(range(count-1)):\n",
    "    Date.append(a)\n",
    "else:\n",
    "    pass"
   ]
  },
  {
   "cell_type": "code",
   "execution_count": 73,
   "id": "c3c69482",
   "metadata": {},
   "outputs": [
    {
     "data": {
      "text/plain": [
       "(973, 973, 973, 973, 973, 973, 973, 973, 973, 973)"
      ]
     },
     "execution_count": 73,
     "metadata": {},
     "output_type": "execute_result"
    }
   ],
   "source": [
    "len(Flight_No), len(Airlines), len(Dept_time), len(Arrival_time), len(Source), len(Destination), len(Duration), len(Stops),len(Price), len(Date)"
   ]
  },
  {
   "cell_type": "markdown",
   "id": "2b6061d9",
   "metadata": {},
   "source": [
    "* **Flights for date 11th Jan2023**"
   ]
  },
  {
   "cell_type": "code",
   "execution_count": 74,
   "id": "63fba299",
   "metadata": {},
   "outputs": [],
   "source": [
    "url13 = \"https://flight.yatra.com/air-search-ui/dom2/trigger?ADT=1&CHD=0&INF=0&class=Business&destination=BOM&destinationCountry=IN&flexi=0&flight_depart_date=11%2F01%2F2023&hb=0&noOfSegments=1&origin=DEL&originCountry=IN&type=O&unique=656291642466&version=1.1&viewName=normal\"\n",
    "driver.get(url13)\n",
    "time.sleep(2)"
   ]
  },
  {
   "cell_type": "code",
   "execution_count": 75,
   "id": "822c01a6",
   "metadata": {},
   "outputs": [
    {
     "name": "stderr",
     "output_type": "stream",
     "text": [
      "100%|██████████████████████████████████████████████████████████████████████████████████| 50/50 [00:16<00:00,  2.95it/s]\n"
     ]
    }
   ],
   "source": [
    "from tqdm import tqdm\n",
    "for _ in tqdm (range(0,50)):\n",
    "    time.sleep(0.1)\n",
    "    driver.execute_script(\"window.scrollBy(0,2000)\",\"\")\n",
    "    time.sleep(0.2)\n",
    "    driver.execute_script(\"window.scrollBy(0,-500)\",\"\")"
   ]
  },
  {
   "cell_type": "code",
   "execution_count": 76,
   "id": "e3d0a4d7",
   "metadata": {},
   "outputs": [
    {
     "data": {
      "text/plain": [
       "80"
      ]
     },
     "execution_count": 76,
     "metadata": {},
     "output_type": "execute_result"
    }
   ],
   "source": [
    "flights=driver.find_elements(By.XPATH,'//div[@class=\"fs-13 airline-name no-pad col-8\"]')\n",
    "len(flights)"
   ]
  },
  {
   "cell_type": "code",
   "execution_count": 77,
   "id": "4f49c121",
   "metadata": {},
   "outputs": [
    {
     "name": "stderr",
     "output_type": "stream",
     "text": [
      "100%|█████████████████████████████████████████████████████████████████████████████████| 80/80 [00:00<00:00, 101.59it/s]\n",
      "100%|██████████████████████████████████████████████████████████████████████████████████| 80/80 [00:00<00:00, 93.92it/s]\n",
      "100%|██████████████████████████████████████████████████████████████████████████████████| 80/80 [00:00<00:00, 85.42it/s]\n",
      "100%|██████████████████████████████████████████████████████████████████████████████████| 80/80 [00:00<00:00, 81.63it/s]\n",
      "100%|██████████████████████████████████████████████████████████████████████████████████| 80/80 [00:01<00:00, 75.63it/s]\n",
      "100%|██████████████████████████████████████████████████████████████████████████████████| 80/80 [00:01<00:00, 72.22it/s]\n",
      "100%|██████████████████████████████████████████████████████████████████████████████████| 80/80 [00:01<00:00, 67.02it/s]\n",
      "100%|██████████████████████████████████████████████████████████████████████████████████| 80/80 [00:01<00:00, 61.03it/s]\n",
      "100%|██████████████████████████████████████████████████████████████████████████████████████████| 80/80 [00:00<?, ?it/s]\n"
     ]
    }
   ],
   "source": [
    "# Extracting Airlines Name Via Xpath\n",
    "airlines = driver.find_elements(By.XPATH,\"//div[@class='fs-13 airline-name no-pad col-8']/span\")\n",
    "for i in airlines:\n",
    "    Airlines.append(i.text.replace(\"\\n\",\" \"))\n",
    "else :\n",
    "    pass\n",
    "\n",
    "# Extracting Aeroplane model  via xpath\n",
    "aeroplanes = driver.find_elements(By.XPATH,'//p[@class=\"normal fs-11 font-lightestgrey no-wrap fl-no\"]/span')\n",
    "for i in tqdm(aeroplanes):\n",
    "    Flight_No.append(i.text) \n",
    "else:\n",
    "    pass\n",
    "\n",
    "# Extracting Departure Time of Filght via Xpath\n",
    "dept_times = driver.find_elements(By.XPATH,'//div[@class=\"i-b pr\"]')\n",
    "for i in tqdm(dept_times):\n",
    "    Dept_time.append(i.text)\n",
    "else :\n",
    "    pass\n",
    "\n",
    "# Extracting Arrival Time via xpath\n",
    "arrival = driver.find_elements(By.XPATH,'//p[@class=\"bold fs-15 mb-2 pr time\"]')\n",
    "for i in tqdm(arrival):\n",
    "    Arrival_time.append(i.text)\n",
    "else :\n",
    "    pass\n",
    "\n",
    "# Extracting Source of flight via Xpath\n",
    "source = driver.find_elements(By.XPATH,\"//div[@class='i-b col-4 no-wrap text-right dtime col-3']/p\")\n",
    "for i in tqdm(source):\n",
    "    Source.append(i.text)\n",
    "else :\n",
    "    pass\n",
    "\n",
    "# Extracting Destination of Flights via Xpath\n",
    "destination = driver.find_elements(By.XPATH,'//div[@class=\"i-b pdd-0 text-left atime col-5\"]/p[2]')\n",
    "for i in tqdm(destination):\n",
    "    Destination.append(i.text)\n",
    "else:\n",
    "    pass\n",
    "\n",
    "# Extracting Duration of Flights via Xpath\n",
    "duration = driver.find_elements(By.XPATH,'//div[@class=\"stop-cont pl-13\"]/p')\n",
    "for i in tqdm(duration):\n",
    "    Duration.append(i.text)\n",
    "else:\n",
    "    pass\n",
    "\n",
    "# Extracting stop details via Xpath\n",
    "stop = driver.find_elements(By.XPATH,\"//div[@class='stop-cont pl-13']/div/span\")\n",
    "for i in tqdm(stop):\n",
    "    Stops.append(i.text)\n",
    "else:\n",
    "    pass\n",
    "\n",
    "# Extracting Price of Flights via Xpath\n",
    "count = 0\n",
    "price = driver.find_elements(By.XPATH,'//div[@class=\"i-b tipsy fare-summary-tooltip fs-18\"]')\n",
    "for i in tqdm(price):\n",
    "    Price.append(i.text.replace(',',''))\n",
    "    count = count +1\n",
    "else:\n",
    "    count = count +1\n",
    "    pass\n",
    "\n",
    "# Clicking on Flights details element\n",
    "Button = driver.find_elements(By.XPATH,'//div[@class=\"link-color fs-12 cursor-pointer\"]/span')\n",
    "driver.execute_script(\"arguments[0].click();\", WebDriverWait(driver, 20).until(EC.element_to_be_clickable((By.XPATH,'//div[@class=\"link-color fs-12 cursor-pointer\"]/span'))))\n",
    "time.sleep(1)\n",
    "\n",
    "# Extracting Date of Flights via Xpath\n",
    "date = driver.find_element(By.XPATH,'//div[@class=\"bold fs-12 mb-5\"]')\n",
    "a = date.text\n",
    "for i in tqdm(range(count-1)):\n",
    "    Date.append(a)\n",
    "else:\n",
    "    pass"
   ]
  },
  {
   "cell_type": "code",
   "execution_count": 78,
   "id": "287a28d2",
   "metadata": {},
   "outputs": [
    {
     "data": {
      "text/plain": [
       "(1053, 1053, 1053, 1053, 1053, 1053, 1053, 1053, 1053, 1053)"
      ]
     },
     "execution_count": 78,
     "metadata": {},
     "output_type": "execute_result"
    }
   ],
   "source": [
    "len(Flight_No), len(Airlines), len(Dept_time), len(Arrival_time), len(Source), len(Destination), len(Duration), len(Stops),len(Price), len(Date)"
   ]
  },
  {
   "cell_type": "markdown",
   "id": "70b8a57a",
   "metadata": {},
   "source": [
    "* **Flights for date 12th Jan2023**"
   ]
  },
  {
   "cell_type": "code",
   "execution_count": 79,
   "id": "662d620a",
   "metadata": {},
   "outputs": [],
   "source": [
    "url14 = \"https://flight.yatra.com/air-search-ui/dom2/trigger?ADT=1&CHD=0&INF=0&class=Business&destination=BOM&destinationCountry=IN&flexi=0&flight_depart_date=12%2F01%2F2023&hb=0&noOfSegments=1&origin=DEL&originCountry=IN&type=O&unique=1197762421449&viewName=normal\"\n",
    "driver.get(url14)\n"
   ]
  },
  {
   "cell_type": "code",
   "execution_count": 80,
   "id": "78a9a4db",
   "metadata": {},
   "outputs": [
    {
     "name": "stderr",
     "output_type": "stream",
     "text": [
      "100%|██████████████████████████████████████████████████████████████████████████████████| 50/50 [00:16<00:00,  2.95it/s]\n"
     ]
    }
   ],
   "source": [
    "from tqdm import tqdm\n",
    "for _ in tqdm (range(0,50)):\n",
    "    time.sleep(0.1)\n",
    "    driver.execute_script(\"window.scrollBy(0,2000)\",\"\")\n",
    "    time.sleep(0.2)\n",
    "    driver.execute_script(\"window.scrollBy(0,-500)\",\"\")"
   ]
  },
  {
   "cell_type": "code",
   "execution_count": 81,
   "id": "b13c3701",
   "metadata": {},
   "outputs": [
    {
     "data": {
      "text/plain": [
       "79"
      ]
     },
     "execution_count": 81,
     "metadata": {},
     "output_type": "execute_result"
    }
   ],
   "source": [
    "flights=driver.find_elements(By.XPATH,'//div[@class=\"fs-13 airline-name no-pad col-8\"]')\n",
    "len(flights)"
   ]
  },
  {
   "cell_type": "code",
   "execution_count": 82,
   "id": "f7e2f55c",
   "metadata": {},
   "outputs": [
    {
     "name": "stderr",
     "output_type": "stream",
     "text": [
      "100%|█████████████████████████████████████████████████████████████████████████████████| 79/79 [00:00<00:00, 103.06it/s]\n",
      "100%|██████████████████████████████████████████████████████████████████████████████████| 79/79 [00:00<00:00, 95.15it/s]\n",
      "100%|██████████████████████████████████████████████████████████████████████████████████| 79/79 [00:00<00:00, 87.82it/s]\n",
      "100%|██████████████████████████████████████████████████████████████████████████████████| 79/79 [00:00<00:00, 83.26it/s]\n",
      "100%|██████████████████████████████████████████████████████████████████████████████████| 79/79 [00:01<00:00, 77.58it/s]\n",
      "100%|██████████████████████████████████████████████████████████████████████████████████| 79/79 [00:01<00:00, 72.78it/s]\n",
      "100%|██████████████████████████████████████████████████████████████████████████████████| 79/79 [00:01<00:00, 68.07it/s]\n",
      "100%|██████████████████████████████████████████████████████████████████████████████████| 79/79 [00:01<00:00, 61.71it/s]\n",
      "100%|██████████████████████████████████████████████████████████████████████████████████████████| 79/79 [00:00<?, ?it/s]\n"
     ]
    }
   ],
   "source": [
    "# Extracting Airlines Name Via Xpath\n",
    "airlines = driver.find_elements(By.XPATH,\"//div[@class='fs-13 airline-name no-pad col-8']/span\")\n",
    "for i in airlines:\n",
    "    Airlines.append(i.text.replace(\"\\n\",\" \"))\n",
    "else :\n",
    "    pass\n",
    "\n",
    "# Extracting Aeroplane model  via xpath\n",
    "aeroplanes = driver.find_elements(By.XPATH,'//p[@class=\"normal fs-11 font-lightestgrey no-wrap fl-no\"]/span')\n",
    "for i in tqdm(aeroplanes):\n",
    "    Flight_No.append(i.text) \n",
    "else:\n",
    "    pass\n",
    "\n",
    "# Extracting Departure Time of Filght via Xpath\n",
    "dept_times = driver.find_elements(By.XPATH,'//div[@class=\"i-b pr\"]')\n",
    "for i in tqdm(dept_times):\n",
    "    Dept_time.append(i.text)\n",
    "else :\n",
    "    pass\n",
    "\n",
    "# Extracting Arrival Time via xpath\n",
    "arrival = driver.find_elements(By.XPATH,'//p[@class=\"bold fs-15 mb-2 pr time\"]')\n",
    "for i in tqdm(arrival):\n",
    "    Arrival_time.append(i.text)\n",
    "else :\n",
    "    pass\n",
    "\n",
    "# Extracting Source of flight via Xpath\n",
    "source = driver.find_elements(By.XPATH,\"//div[@class='i-b col-4 no-wrap text-right dtime col-3']/p\")\n",
    "for i in tqdm(source):\n",
    "    Source.append(i.text)\n",
    "else :\n",
    "    pass\n",
    "\n",
    "# Extracting Destination of Flights via Xpath\n",
    "destination = driver.find_elements(By.XPATH,'//div[@class=\"i-b pdd-0 text-left atime col-5\"]/p[2]')\n",
    "for i in tqdm(destination):\n",
    "    Destination.append(i.text)\n",
    "else:\n",
    "    pass\n",
    "\n",
    "# Extracting Duration of Flights via Xpath\n",
    "duration = driver.find_elements(By.XPATH,'//div[@class=\"stop-cont pl-13\"]/p')\n",
    "for i in tqdm(duration):\n",
    "    Duration.append(i.text)\n",
    "else:\n",
    "    pass\n",
    "\n",
    "# Extracting stop details via Xpath\n",
    "stop = driver.find_elements(By.XPATH,\"//div[@class='stop-cont pl-13']/div/span\")\n",
    "for i in tqdm(stop):\n",
    "    Stops.append(i.text)\n",
    "else:\n",
    "    pass\n",
    "\n",
    "# Extracting Price of Flights via Xpath\n",
    "count = 0\n",
    "price = driver.find_elements(By.XPATH,'//div[@class=\"i-b tipsy fare-summary-tooltip fs-18\"]')\n",
    "for i in tqdm(price):\n",
    "    Price.append(i.text.replace(',',''))\n",
    "    count = count +1\n",
    "else:\n",
    "    count = count +1\n",
    "    pass\n",
    "\n",
    "# Clicking on Flights details element\n",
    "Button = driver.find_elements(By.XPATH,'//div[@class=\"link-color fs-12 cursor-pointer\"]/span')\n",
    "driver.execute_script(\"arguments[0].click();\", WebDriverWait(driver, 20).until(EC.element_to_be_clickable((By.XPATH,'//div[@class=\"link-color fs-12 cursor-pointer\"]/span'))))\n",
    "time.sleep(1)\n",
    "\n",
    "# Extracting Date of Flights via Xpath\n",
    "date = driver.find_element(By.XPATH,'//div[@class=\"bold fs-12 mb-5\"]')\n",
    "a = date.text\n",
    "for i in tqdm(range(count-1)):\n",
    "    Date.append(a)\n",
    "else:\n",
    "    pass"
   ]
  },
  {
   "cell_type": "code",
   "execution_count": 83,
   "id": "1390fcbf",
   "metadata": {},
   "outputs": [
    {
     "data": {
      "text/plain": [
       "(1132, 1132, 1132, 1132, 1132, 1132, 1132, 1132, 1132, 1132)"
      ]
     },
     "execution_count": 83,
     "metadata": {},
     "output_type": "execute_result"
    }
   ],
   "source": [
    "len(Flight_No), len(Airlines), len(Dept_time), len(Arrival_time), len(Source), len(Destination), len(Duration), len(Stops),len(Price), len(Date)"
   ]
  },
  {
   "cell_type": "markdown",
   "id": "27df138f",
   "metadata": {},
   "source": [
    "# Extracting Premium Economy class flights from New Delhi to Bombay"
   ]
  },
  {
   "cell_type": "markdown",
   "id": "ea7a5210",
   "metadata": {},
   "source": [
    "* **Flights for date 06th Jan2023**"
   ]
  },
  {
   "cell_type": "code",
   "execution_count": 84,
   "id": "65ccf2da",
   "metadata": {},
   "outputs": [],
   "source": [
    "url15 = \"https://flight.yatra.com/air-search-ui/dom2/trigger?ADT=1&CHD=0&INF=0&class=Special&destination=BOM&destinationCountry=IN&flexi=0&flight_depart_date=06%2F01%2F2023&hb=0&noOfSegments=1&origin=DEL&originCountry=IN&type=O&unique=198157133884&version=1.1&viewName=normal\"\n",
    "driver.get(url15)"
   ]
  },
  {
   "cell_type": "code",
   "execution_count": 85,
   "id": "f27d3555",
   "metadata": {},
   "outputs": [
    {
     "name": "stderr",
     "output_type": "stream",
     "text": [
      "100%|██████████████████████████████████████████████████████████████████████████████████| 50/50 [00:16<00:00,  2.97it/s]\n"
     ]
    }
   ],
   "source": [
    "from tqdm import tqdm\n",
    "for _ in tqdm (range(0,50)):\n",
    "    time.sleep(0.1)\n",
    "    driver.execute_script(\"window.scrollBy(0,2000)\",\"\")\n",
    "    time.sleep(0.2)\n",
    "    driver.execute_script(\"window.scrollBy(0,-500)\",\"\")"
   ]
  },
  {
   "cell_type": "code",
   "execution_count": 86,
   "id": "5c6de94d",
   "metadata": {},
   "outputs": [
    {
     "data": {
      "text/plain": [
       "11"
      ]
     },
     "execution_count": 86,
     "metadata": {},
     "output_type": "execute_result"
    }
   ],
   "source": [
    "flights=driver.find_elements(By.XPATH,'//div[@class=\"fs-13 airline-name no-pad col-8\"]')\n",
    "len(flights)"
   ]
  },
  {
   "cell_type": "code",
   "execution_count": 87,
   "id": "55ec046f",
   "metadata": {},
   "outputs": [
    {
     "name": "stderr",
     "output_type": "stream",
     "text": [
      "100%|█████████████████████████████████████████████████████████████████████████████████| 11/11 [00:00<00:00, 120.36it/s]\n",
      "100%|█████████████████████████████████████████████████████████████████████████████████| 11/11 [00:00<00:00, 114.69it/s]\n",
      "100%|█████████████████████████████████████████████████████████████████████████████████| 11/11 [00:00<00:00, 112.04it/s]\n",
      "100%|█████████████████████████████████████████████████████████████████████████████████| 11/11 [00:00<00:00, 107.57it/s]\n",
      "100%|█████████████████████████████████████████████████████████████████████████████████| 11/11 [00:00<00:00, 112.19it/s]\n",
      "100%|█████████████████████████████████████████████████████████████████████████████████| 11/11 [00:00<00:00, 111.25it/s]\n",
      "100%|█████████████████████████████████████████████████████████████████████████████████| 11/11 [00:00<00:00, 101.85it/s]\n",
      "100%|█████████████████████████████████████████████████████████████████████████████████| 11/11 [00:00<00:00, 107.65it/s]\n",
      "100%|██████████████████████████████████████████████████████████████████████████████████████████| 11/11 [00:00<?, ?it/s]\n"
     ]
    }
   ],
   "source": [
    "# Extracting Airlines Name Via Xpath\n",
    "airlines = driver.find_elements(By.XPATH,\"//div[@class='fs-13 airline-name no-pad col-8']/span\")\n",
    "for i in airlines:\n",
    "    Airlines.append(i.text.replace(\"\\n\",\" \"))\n",
    "else :\n",
    "    pass\n",
    "\n",
    "# Extracting Aeroplane model  via xpath\n",
    "aeroplanes = driver.find_elements(By.XPATH,'//p[@class=\"normal fs-11 font-lightestgrey no-wrap fl-no\"]/span')\n",
    "for i in tqdm(aeroplanes):\n",
    "    Flight_No.append(i.text) \n",
    "else:\n",
    "    pass\n",
    "\n",
    "# Extracting Departure Time of Filght via Xpath\n",
    "dept_times = driver.find_elements(By.XPATH,'//div[@class=\"i-b pr\"]')\n",
    "for i in tqdm(dept_times):\n",
    "    Dept_time.append(i.text)\n",
    "else :\n",
    "    pass\n",
    "\n",
    "# Extracting Arrival Time via xpath\n",
    "arrival = driver.find_elements(By.XPATH,'//p[@class=\"bold fs-15 mb-2 pr time\"]')\n",
    "for i in tqdm(arrival):\n",
    "    Arrival_time.append(i.text)\n",
    "else :\n",
    "    pass\n",
    "\n",
    "# Extracting Source of flight via Xpath\n",
    "source = driver.find_elements(By.XPATH,\"//div[@class='i-b col-4 no-wrap text-right dtime col-3']/p\")\n",
    "for i in tqdm(source):\n",
    "    Source.append(i.text)\n",
    "else :\n",
    "    pass\n",
    "\n",
    "# Extracting Destination of Flights via Xpath\n",
    "destination = driver.find_elements(By.XPATH,'//div[@class=\"i-b pdd-0 text-left atime col-5\"]/p[2]')\n",
    "for i in tqdm(destination):\n",
    "    Destination.append(i.text)\n",
    "else:\n",
    "    pass\n",
    "\n",
    "# Extracting Duration of Flights via Xpath\n",
    "duration = driver.find_elements(By.XPATH,'//div[@class=\"stop-cont pl-13\"]/p')\n",
    "for i in tqdm(duration):\n",
    "    Duration.append(i.text)\n",
    "else:\n",
    "    pass\n",
    "\n",
    "# Extracting stop details via Xpath\n",
    "stop = driver.find_elements(By.XPATH,\"//div[@class='stop-cont pl-13']/div/span\")\n",
    "for i in tqdm(stop):\n",
    "    Stops.append(i.text)\n",
    "else:\n",
    "    pass\n",
    "\n",
    "# Extracting Price of Flights via Xpath\n",
    "count = 0\n",
    "price = driver.find_elements(By.XPATH,'//div[@class=\"i-b tipsy fare-summary-tooltip fs-18\"]')\n",
    "for i in tqdm(price):\n",
    "    Price.append(i.text.replace(',',''))\n",
    "    count = count +1\n",
    "else:\n",
    "    count = count +1\n",
    "    pass\n",
    "\n",
    "# Clicking on Flights details element\n",
    "Button = driver.find_elements(By.XPATH,'//div[@class=\"link-color fs-12 cursor-pointer\"]/span')\n",
    "driver.execute_script(\"arguments[0].click();\", WebDriverWait(driver, 20).until(EC.element_to_be_clickable((By.XPATH,'//div[@class=\"link-color fs-12 cursor-pointer\"]/span'))))\n",
    "time.sleep(1)\n",
    "\n",
    "# Extracting Date of Flights via Xpath\n",
    "date = driver.find_element(By.XPATH,'//div[@class=\"bold fs-12 mb-5\"]')\n",
    "a = date.text\n",
    "for i in tqdm(range(count-1)):\n",
    "    Date.append(a)\n",
    "else:\n",
    "    pass"
   ]
  },
  {
   "cell_type": "markdown",
   "id": "fdfcc107",
   "metadata": {},
   "source": [
    "* **Flights for date 07th Jan2023**"
   ]
  },
  {
   "cell_type": "code",
   "execution_count": 89,
   "id": "8b85fd8c",
   "metadata": {},
   "outputs": [],
   "source": [
    "url16 = \"https://flight.yatra.com/air-search-ui/dom2/trigger?ADT=1&CHD=0&INF=0&class=Special&destination=BOM&destinationCountry=IN&flexi=0&flight_depart_date=07%2F01%2F2023&hb=0&noOfSegments=1&origin=DEL&originCountry=IN&type=O&unique=1028528030579&version=1.1&viewName=normal\"\n",
    "driver.get(url16)"
   ]
  },
  {
   "cell_type": "code",
   "execution_count": 90,
   "id": "a6093c60",
   "metadata": {},
   "outputs": [
    {
     "name": "stderr",
     "output_type": "stream",
     "text": [
      "100%|██████████████████████████████████████████████████████████████████████████████████| 50/50 [00:16<00:00,  2.99it/s]\n"
     ]
    }
   ],
   "source": [
    "from tqdm import tqdm\n",
    "for _ in tqdm (range(0,50)):\n",
    "    time.sleep(0.1)\n",
    "    driver.execute_script(\"window.scrollBy(0,2000)\",\"\")\n",
    "    time.sleep(0.2)\n",
    "    driver.execute_script(\"window.scrollBy(0,-500)\",\"\")"
   ]
  },
  {
   "cell_type": "code",
   "execution_count": 91,
   "id": "86a668a4",
   "metadata": {},
   "outputs": [
    {
     "data": {
      "text/plain": [
       "61"
      ]
     },
     "execution_count": 91,
     "metadata": {},
     "output_type": "execute_result"
    }
   ],
   "source": [
    "flights=driver.find_elements(By.XPATH,'//div[@class=\"fs-13 airline-name no-pad col-8\"]')\n",
    "len(flights)"
   ]
  },
  {
   "cell_type": "code",
   "execution_count": 92,
   "id": "555c75e0",
   "metadata": {},
   "outputs": [
    {
     "name": "stderr",
     "output_type": "stream",
     "text": [
      "100%|█████████████████████████████████████████████████████████████████████████████████| 61/61 [00:00<00:00, 108.08it/s]\n",
      "100%|██████████████████████████████████████████████████████████████████████████████████| 61/61 [00:00<00:00, 98.98it/s]\n",
      "100%|██████████████████████████████████████████████████████████████████████████████████| 61/61 [00:00<00:00, 93.35it/s]\n",
      "100%|██████████████████████████████████████████████████████████████████████████████████| 61/61 [00:00<00:00, 89.07it/s]\n",
      "100%|██████████████████████████████████████████████████████████████████████████████████| 61/61 [00:00<00:00, 84.52it/s]\n",
      "100%|██████████████████████████████████████████████████████████████████████████████████| 61/61 [00:00<00:00, 80.35it/s]\n",
      "100%|██████████████████████████████████████████████████████████████████████████████████| 61/61 [00:00<00:00, 75.91it/s]\n",
      "100%|██████████████████████████████████████████████████████████████████████████████████| 61/61 [00:00<00:00, 71.08it/s]\n",
      "100%|██████████████████████████████████████████████████████████████████████████████████████████| 61/61 [00:00<?, ?it/s]\n"
     ]
    }
   ],
   "source": [
    "# Extracting Airlines Name Via Xpath\n",
    "airlines = driver.find_elements(By.XPATH,\"//div[@class='fs-13 airline-name no-pad col-8']/span\")\n",
    "for i in airlines:\n",
    "    Airlines.append(i.text.replace(\"\\n\",\" \"))\n",
    "else :\n",
    "    pass\n",
    "\n",
    "# Extracting Aeroplane model  via xpath\n",
    "aeroplanes = driver.find_elements(By.XPATH,'//p[@class=\"normal fs-11 font-lightestgrey no-wrap fl-no\"]/span')\n",
    "for i in tqdm(aeroplanes):\n",
    "    Flight_No.append(i.text) \n",
    "else:\n",
    "    pass\n",
    "\n",
    "# Extracting Departure Time of Filght via Xpath\n",
    "dept_times = driver.find_elements(By.XPATH,'//div[@class=\"i-b pr\"]')\n",
    "for i in tqdm(dept_times):\n",
    "    Dept_time.append(i.text)\n",
    "else :\n",
    "    pass\n",
    "\n",
    "# Extracting Arrival Time via xpath\n",
    "arrival = driver.find_elements(By.XPATH,'//p[@class=\"bold fs-15 mb-2 pr time\"]')\n",
    "for i in tqdm(arrival):\n",
    "    Arrival_time.append(i.text)\n",
    "else :\n",
    "    pass\n",
    "\n",
    "# Extracting Source of flight via Xpath\n",
    "source = driver.find_elements(By.XPATH,\"//div[@class='i-b col-4 no-wrap text-right dtime col-3']/p\")\n",
    "for i in tqdm(source):\n",
    "    Source.append(i.text)\n",
    "else :\n",
    "    pass\n",
    "\n",
    "# Extracting Destination of Flights via Xpath\n",
    "destination = driver.find_elements(By.XPATH,'//div[@class=\"i-b pdd-0 text-left atime col-5\"]/p[2]')\n",
    "for i in tqdm(destination):\n",
    "    Destination.append(i.text)\n",
    "else:\n",
    "    pass\n",
    "\n",
    "# Extracting Duration of Flights via Xpath\n",
    "duration = driver.find_elements(By.XPATH,'//div[@class=\"stop-cont pl-13\"]/p')\n",
    "for i in tqdm(duration):\n",
    "    Duration.append(i.text)\n",
    "else:\n",
    "    pass\n",
    "\n",
    "# Extracting stop details via Xpath\n",
    "stop = driver.find_elements(By.XPATH,\"//div[@class='stop-cont pl-13']/div/span\")\n",
    "for i in tqdm(stop):\n",
    "    Stops.append(i.text)\n",
    "else:\n",
    "    pass\n",
    "\n",
    "# Extracting Price of Flights via Xpath\n",
    "count = 0\n",
    "price = driver.find_elements(By.XPATH,'//div[@class=\"i-b tipsy fare-summary-tooltip fs-18\"]')\n",
    "for i in tqdm(price):\n",
    "    Price.append(i.text.replace(',',''))\n",
    "    count = count +1\n",
    "else:\n",
    "    count = count +1\n",
    "    pass\n",
    "\n",
    "# Clicking on Flights details element\n",
    "Button = driver.find_elements(By.XPATH,'//div[@class=\"link-color fs-12 cursor-pointer\"]/span')\n",
    "driver.execute_script(\"arguments[0].click();\", WebDriverWait(driver, 20).until(EC.element_to_be_clickable((By.XPATH,'//div[@class=\"link-color fs-12 cursor-pointer\"]/span'))))\n",
    "time.sleep(1)\n",
    "\n",
    "# Extracting Date of Flights via Xpath\n",
    "date = driver.find_element(By.XPATH,'//div[@class=\"bold fs-12 mb-5\"]')\n",
    "a = date.text\n",
    "for i in tqdm(range(count-1)):\n",
    "    Date.append(a)\n",
    "else:\n",
    "    pass"
   ]
  },
  {
   "cell_type": "markdown",
   "id": "bb3e2967",
   "metadata": {},
   "source": [
    "* **Flights for date 08th Jan2023**"
   ]
  },
  {
   "cell_type": "code",
   "execution_count": 93,
   "id": "6d99276c",
   "metadata": {},
   "outputs": [],
   "source": [
    "url17 = \"https://flight.yatra.com/air-search-ui/dom2/trigger?ADT=1&CHD=0&INF=0&class=Special&destination=BOM&destinationCountry=IN&flexi=0&flight_depart_date=08%2F01%2F2023&hb=0&noOfSegments=1&origin=DEL&originCountry=IN&type=O&unique=532673746797&version=1.1&viewName=normal\"\n",
    "driver.get(url17)"
   ]
  },
  {
   "cell_type": "code",
   "execution_count": 94,
   "id": "74e0e74d",
   "metadata": {},
   "outputs": [
    {
     "name": "stderr",
     "output_type": "stream",
     "text": [
      "100%|██████████████████████████████████████████████████████████████████████████████████| 50/50 [00:16<00:00,  3.00it/s]\n"
     ]
    }
   ],
   "source": [
    "from tqdm import tqdm\n",
    "for _ in tqdm (range(0,50)):\n",
    "    time.sleep(0.1)\n",
    "    driver.execute_script(\"window.scrollBy(0,2000)\",\"\")\n",
    "    time.sleep(0.2)\n",
    "    driver.execute_script(\"window.scrollBy(0,-500)\",\"\")"
   ]
  },
  {
   "cell_type": "code",
   "execution_count": 95,
   "id": "04ae9b55",
   "metadata": {},
   "outputs": [
    {
     "data": {
      "text/plain": [
       "60"
      ]
     },
     "execution_count": 95,
     "metadata": {},
     "output_type": "execute_result"
    }
   ],
   "source": [
    "flights=driver.find_elements(By.XPATH,'//div[@class=\"fs-13 airline-name no-pad col-8\"]')\n",
    "len(flights)"
   ]
  },
  {
   "cell_type": "code",
   "execution_count": 96,
   "id": "8f9dc0bc",
   "metadata": {},
   "outputs": [
    {
     "name": "stderr",
     "output_type": "stream",
     "text": [
      "100%|█████████████████████████████████████████████████████████████████████████████████| 60/60 [00:00<00:00, 104.85it/s]\n",
      "100%|██████████████████████████████████████████████████████████████████████████████████| 60/60 [00:00<00:00, 98.49it/s]\n",
      "100%|██████████████████████████████████████████████████████████████████████████████████| 60/60 [00:00<00:00, 93.86it/s]\n",
      "100%|██████████████████████████████████████████████████████████████████████████████████| 60/60 [00:00<00:00, 89.60it/s]\n",
      "100%|██████████████████████████████████████████████████████████████████████████████████| 60/60 [00:00<00:00, 84.50it/s]\n",
      "100%|██████████████████████████████████████████████████████████████████████████████████| 60/60 [00:00<00:00, 80.17it/s]\n",
      "100%|██████████████████████████████████████████████████████████████████████████████████| 60/60 [00:00<00:00, 75.82it/s]\n",
      "100%|██████████████████████████████████████████████████████████████████████████████████| 60/60 [00:00<00:00, 71.16it/s]\n",
      "100%|██████████████████████████████████████████████████████████████████████████████████████████| 60/60 [00:00<?, ?it/s]\n"
     ]
    }
   ],
   "source": [
    "# Extracting Airlines Name Via Xpath\n",
    "airlines = driver.find_elements(By.XPATH,\"//div[@class='fs-13 airline-name no-pad col-8']/span\")\n",
    "for i in airlines:\n",
    "    Airlines.append(i.text.replace(\"\\n\",\" \"))\n",
    "else :\n",
    "    pass\n",
    "\n",
    "# Extracting Aeroplane model  via xpath\n",
    "aeroplanes = driver.find_elements(By.XPATH,'//p[@class=\"normal fs-11 font-lightestgrey no-wrap fl-no\"]/span')\n",
    "for i in tqdm(aeroplanes):\n",
    "    Flight_No.append(i.text) \n",
    "else:\n",
    "    pass\n",
    "\n",
    "# Extracting Departure Time of Filght via Xpath\n",
    "dept_times = driver.find_elements(By.XPATH,'//div[@class=\"i-b pr\"]')\n",
    "for i in tqdm(dept_times):\n",
    "    Dept_time.append(i.text)\n",
    "else :\n",
    "    pass\n",
    "\n",
    "# Extracting Arrival Time via xpath\n",
    "arrival = driver.find_elements(By.XPATH,'//p[@class=\"bold fs-15 mb-2 pr time\"]')\n",
    "for i in tqdm(arrival):\n",
    "    Arrival_time.append(i.text)\n",
    "else :\n",
    "    pass\n",
    "\n",
    "# Extracting Source of flight via Xpath\n",
    "source = driver.find_elements(By.XPATH,\"//div[@class='i-b col-4 no-wrap text-right dtime col-3']/p\")\n",
    "for i in tqdm(source):\n",
    "    Source.append(i.text)\n",
    "else :\n",
    "    pass\n",
    "\n",
    "# Extracting Destination of Flights via Xpath\n",
    "destination = driver.find_elements(By.XPATH,'//div[@class=\"i-b pdd-0 text-left atime col-5\"]/p[2]')\n",
    "for i in tqdm(destination):\n",
    "    Destination.append(i.text)\n",
    "else:\n",
    "    pass\n",
    "\n",
    "# Extracting Duration of Flights via Xpath\n",
    "duration = driver.find_elements(By.XPATH,'//div[@class=\"stop-cont pl-13\"]/p')\n",
    "for i in tqdm(duration):\n",
    "    Duration.append(i.text)\n",
    "else:\n",
    "    pass\n",
    "\n",
    "# Extracting stop details via Xpath\n",
    "stop = driver.find_elements(By.XPATH,\"//div[@class='stop-cont pl-13']/div/span\")\n",
    "for i in tqdm(stop):\n",
    "    Stops.append(i.text)\n",
    "else:\n",
    "    pass\n",
    "\n",
    "# Extracting Price of Flights via Xpath\n",
    "count = 0\n",
    "price = driver.find_elements(By.XPATH,'//div[@class=\"i-b tipsy fare-summary-tooltip fs-18\"]')\n",
    "for i in tqdm(price):\n",
    "    Price.append(i.text.replace(',',''))\n",
    "    count = count +1\n",
    "else:\n",
    "    count = count +1\n",
    "    pass\n",
    "\n",
    "# Clicking on Flights details element\n",
    "Button = driver.find_elements(By.XPATH,'//div[@class=\"link-color fs-12 cursor-pointer\"]/span')\n",
    "driver.execute_script(\"arguments[0].click();\", WebDriverWait(driver, 20).until(EC.element_to_be_clickable((By.XPATH,'//div[@class=\"link-color fs-12 cursor-pointer\"]/span'))))\n",
    "time.sleep(1)\n",
    "\n",
    "# Extracting Date of Flights via Xpath\n",
    "date = driver.find_element(By.XPATH,'//div[@class=\"bold fs-12 mb-5\"]')\n",
    "a = date.text\n",
    "for i in tqdm(range(count-1)):\n",
    "    Date.append(a)\n",
    "else:\n",
    "    pass"
   ]
  },
  {
   "cell_type": "markdown",
   "id": "c52161ff",
   "metadata": {},
   "source": [
    "* **Flights for date 09th Jan2023**"
   ]
  },
  {
   "cell_type": "code",
   "execution_count": 97,
   "id": "5d5d310a",
   "metadata": {},
   "outputs": [],
   "source": [
    "url18 = \"https://flight.yatra.com/air-search-ui/dom2/trigger?ADT=1&CHD=0&INF=0&class=Special&destination=BOM&destinationCountry=IN&flexi=0&flight_depart_date=09%2F01%2F2023&hb=0&noOfSegments=1&origin=DEL&originCountry=IN&type=O&unique=121774657963&version=1.1&viewName=normal\"\n",
    "driver.get(url18)"
   ]
  },
  {
   "cell_type": "code",
   "execution_count": 98,
   "id": "461c0acb",
   "metadata": {},
   "outputs": [
    {
     "name": "stderr",
     "output_type": "stream",
     "text": [
      "100%|██████████████████████████████████████████████████████████████████████████████████| 50/50 [00:16<00:00,  2.99it/s]\n"
     ]
    }
   ],
   "source": [
    "from tqdm import tqdm\n",
    "for _ in tqdm (range(0,50)):\n",
    "    time.sleep(0.1)\n",
    "    driver.execute_script(\"window.scrollBy(0,2000)\",\"\")\n",
    "    time.sleep(0.2)\n",
    "    driver.execute_script(\"window.scrollBy(0,-500)\",\"\")"
   ]
  },
  {
   "cell_type": "code",
   "execution_count": 99,
   "id": "ebea0056",
   "metadata": {},
   "outputs": [
    {
     "data": {
      "text/plain": [
       "61"
      ]
     },
     "execution_count": 99,
     "metadata": {},
     "output_type": "execute_result"
    }
   ],
   "source": [
    "flights=driver.find_elements(By.XPATH,'//div[@class=\"fs-13 airline-name no-pad col-8\"]')\n",
    "len(flights)"
   ]
  },
  {
   "cell_type": "code",
   "execution_count": 100,
   "id": "404dea34",
   "metadata": {},
   "outputs": [
    {
     "name": "stderr",
     "output_type": "stream",
     "text": [
      "100%|█████████████████████████████████████████████████████████████████████████████████| 61/61 [00:00<00:00, 106.83it/s]\n",
      "100%|██████████████████████████████████████████████████████████████████████████████████| 61/61 [00:00<00:00, 99.61it/s]\n",
      "100%|██████████████████████████████████████████████████████████████████████████████████| 61/61 [00:00<00:00, 93.01it/s]\n",
      "100%|██████████████████████████████████████████████████████████████████████████████████| 61/61 [00:00<00:00, 89.63it/s]\n",
      "100%|██████████████████████████████████████████████████████████████████████████████████| 61/61 [00:00<00:00, 84.47it/s]\n",
      "100%|██████████████████████████████████████████████████████████████████████████████████| 61/61 [00:00<00:00, 80.31it/s]\n",
      "100%|██████████████████████████████████████████████████████████████████████████████████| 61/61 [00:00<00:00, 75.75it/s]\n",
      "100%|██████████████████████████████████████████████████████████████████████████████████| 61/61 [00:00<00:00, 71.22it/s]\n",
      "100%|██████████████████████████████████████████████████████████████████████████████████████████| 61/61 [00:00<?, ?it/s]\n"
     ]
    }
   ],
   "source": [
    "# Extracting Airlines Name Via Xpath\n",
    "airlines = driver.find_elements(By.XPATH,\"//div[@class='fs-13 airline-name no-pad col-8']/span\")\n",
    "for i in airlines:\n",
    "    Airlines.append(i.text.replace(\"\\n\",\" \"))\n",
    "else :\n",
    "    pass\n",
    "\n",
    "# Extracting Aeroplane model  via xpath\n",
    "aeroplanes = driver.find_elements(By.XPATH,'//p[@class=\"normal fs-11 font-lightestgrey no-wrap fl-no\"]/span')\n",
    "for i in tqdm(aeroplanes):\n",
    "    Flight_No.append(i.text) \n",
    "else:\n",
    "    pass\n",
    "\n",
    "# Extracting Departure Time of Filght via Xpath\n",
    "dept_times = driver.find_elements(By.XPATH,'//div[@class=\"i-b pr\"]')\n",
    "for i in tqdm(dept_times):\n",
    "    Dept_time.append(i.text)\n",
    "else :\n",
    "    pass\n",
    "\n",
    "# Extracting Arrival Time via xpath\n",
    "arrival = driver.find_elements(By.XPATH,'//p[@class=\"bold fs-15 mb-2 pr time\"]')\n",
    "for i in tqdm(arrival):\n",
    "    Arrival_time.append(i.text)\n",
    "else :\n",
    "    pass\n",
    "\n",
    "# Extracting Source of flight via Xpath\n",
    "source = driver.find_elements(By.XPATH,\"//div[@class='i-b col-4 no-wrap text-right dtime col-3']/p\")\n",
    "for i in tqdm(source):\n",
    "    Source.append(i.text)\n",
    "else :\n",
    "    pass\n",
    "\n",
    "# Extracting Destination of Flights via Xpath\n",
    "destination = driver.find_elements(By.XPATH,'//div[@class=\"i-b pdd-0 text-left atime col-5\"]/p[2]')\n",
    "for i in tqdm(destination):\n",
    "    Destination.append(i.text)\n",
    "else:\n",
    "    pass\n",
    "\n",
    "# Extracting Duration of Flights via Xpath\n",
    "duration = driver.find_elements(By.XPATH,'//div[@class=\"stop-cont pl-13\"]/p')\n",
    "for i in tqdm(duration):\n",
    "    Duration.append(i.text)\n",
    "else:\n",
    "    pass\n",
    "\n",
    "# Extracting stop details via Xpath\n",
    "stop = driver.find_elements(By.XPATH,\"//div[@class='stop-cont pl-13']/div/span\")\n",
    "for i in tqdm(stop):\n",
    "    Stops.append(i.text)\n",
    "else:\n",
    "    pass\n",
    "\n",
    "# Extracting Price of Flights via Xpath\n",
    "count = 0\n",
    "price = driver.find_elements(By.XPATH,'//div[@class=\"i-b tipsy fare-summary-tooltip fs-18\"]')\n",
    "for i in tqdm(price):\n",
    "    Price.append(i.text.replace(',',''))\n",
    "    count = count +1\n",
    "else:\n",
    "    count = count +1\n",
    "    pass\n",
    "\n",
    "# Clicking on Flights details element\n",
    "Button = driver.find_elements(By.XPATH,'//div[@class=\"link-color fs-12 cursor-pointer\"]/span')\n",
    "driver.execute_script(\"arguments[0].click();\", WebDriverWait(driver, 20).until(EC.element_to_be_clickable((By.XPATH,'//div[@class=\"link-color fs-12 cursor-pointer\"]/span'))))\n",
    "time.sleep(1)\n",
    "\n",
    "# Extracting Date of Flights via Xpath\n",
    "date = driver.find_element(By.XPATH,'//div[@class=\"bold fs-12 mb-5\"]')\n",
    "a = date.text\n",
    "for i in tqdm(range(count-1)):\n",
    "    Date.append(a)\n",
    "else:\n",
    "    pass"
   ]
  },
  {
   "cell_type": "markdown",
   "id": "93e10933",
   "metadata": {},
   "source": [
    "* **Flights for date 10th Jan2023**"
   ]
  },
  {
   "cell_type": "code",
   "execution_count": 102,
   "id": "0cf792cb",
   "metadata": {},
   "outputs": [],
   "source": [
    "url19 = \"https://flight.yatra.com/air-search-ui/dom2/trigger?ADT=1&CHD=0&INF=0&class=Special&destination=BOM&destinationCountry=IN&flexi=0&flight_depart_date=10%2F01%2F2023&hb=0&noOfSegments=1&origin=DEL&originCountry=IN&type=O&unique=1166887461869&version=1.1&viewName=normal\"\n",
    "driver.get(url19)"
   ]
  },
  {
   "cell_type": "code",
   "execution_count": 103,
   "id": "9116c1b9",
   "metadata": {},
   "outputs": [
    {
     "name": "stderr",
     "output_type": "stream",
     "text": [
      "100%|██████████████████████████████████████████████████████████████████████████████████| 50/50 [00:16<00:00,  2.99it/s]\n"
     ]
    }
   ],
   "source": [
    "from tqdm import tqdm\n",
    "for _ in tqdm (range(0,50)):\n",
    "    time.sleep(0.1)\n",
    "    driver.execute_script(\"window.scrollBy(0,2000)\",\"\")\n",
    "    time.sleep(0.2)\n",
    "    driver.execute_script(\"window.scrollBy(0,-500)\",\"\")"
   ]
  },
  {
   "cell_type": "code",
   "execution_count": 104,
   "id": "1e839811",
   "metadata": {},
   "outputs": [
    {
     "data": {
      "text/plain": [
       "61"
      ]
     },
     "execution_count": 104,
     "metadata": {},
     "output_type": "execute_result"
    }
   ],
   "source": [
    "flights=driver.find_elements(By.XPATH,'//div[@class=\"fs-13 airline-name no-pad col-8\"]')\n",
    "len(flights)"
   ]
  },
  {
   "cell_type": "code",
   "execution_count": 105,
   "id": "ed9ca8c2",
   "metadata": {},
   "outputs": [
    {
     "name": "stderr",
     "output_type": "stream",
     "text": [
      "100%|█████████████████████████████████████████████████████████████████████████████████| 61/61 [00:00<00:00, 107.62it/s]\n",
      "100%|██████████████████████████████████████████████████████████████████████████████████| 61/61 [00:00<00:00, 98.25it/s]\n",
      "100%|██████████████████████████████████████████████████████████████████████████████████| 61/61 [00:00<00:00, 92.80it/s]\n",
      "100%|██████████████████████████████████████████████████████████████████████████████████| 61/61 [00:00<00:00, 89.32it/s]\n",
      "100%|██████████████████████████████████████████████████████████████████████████████████| 61/61 [00:00<00:00, 84.35it/s]\n",
      "100%|██████████████████████████████████████████████████████████████████████████████████| 61/61 [00:00<00:00, 80.63it/s]\n",
      "100%|██████████████████████████████████████████████████████████████████████████████████| 61/61 [00:00<00:00, 75.53it/s]\n",
      "100%|██████████████████████████████████████████████████████████████████████████████████| 61/61 [00:00<00:00, 70.37it/s]\n",
      "100%|██████████████████████████████████████████████████████████████████████████████████████████| 61/61 [00:00<?, ?it/s]\n"
     ]
    }
   ],
   "source": [
    "# Extracting Airlines Name Via Xpath\n",
    "airlines = driver.find_elements(By.XPATH,\"//div[@class='fs-13 airline-name no-pad col-8']/span\")\n",
    "for i in airlines:\n",
    "    Airlines.append(i.text.replace(\"\\n\",\" \"))\n",
    "else :\n",
    "    pass\n",
    "\n",
    "# Extracting Aeroplane model  via xpath\n",
    "aeroplanes = driver.find_elements(By.XPATH,'//p[@class=\"normal fs-11 font-lightestgrey no-wrap fl-no\"]/span')\n",
    "for i in tqdm(aeroplanes):\n",
    "    Flight_No.append(i.text) \n",
    "else:\n",
    "    pass\n",
    "\n",
    "# Extracting Departure Time of Filght via Xpath\n",
    "dept_times = driver.find_elements(By.XPATH,'//div[@class=\"i-b pr\"]')\n",
    "for i in tqdm(dept_times):\n",
    "    Dept_time.append(i.text)\n",
    "else :\n",
    "    pass\n",
    "\n",
    "# Extracting Arrival Time via xpath\n",
    "arrival = driver.find_elements(By.XPATH,'//p[@class=\"bold fs-15 mb-2 pr time\"]')\n",
    "for i in tqdm(arrival):\n",
    "    Arrival_time.append(i.text)\n",
    "else :\n",
    "    pass\n",
    "\n",
    "# Extracting Source of flight via Xpath\n",
    "source = driver.find_elements(By.XPATH,\"//div[@class='i-b col-4 no-wrap text-right dtime col-3']/p\")\n",
    "for i in tqdm(source):\n",
    "    Source.append(i.text)\n",
    "else :\n",
    "    pass\n",
    "\n",
    "# Extracting Destination of Flights via Xpath\n",
    "destination = driver.find_elements(By.XPATH,'//div[@class=\"i-b pdd-0 text-left atime col-5\"]/p[2]')\n",
    "for i in tqdm(destination):\n",
    "    Destination.append(i.text)\n",
    "else:\n",
    "    pass\n",
    "\n",
    "# Extracting Duration of Flights via Xpath\n",
    "duration = driver.find_elements(By.XPATH,'//div[@class=\"stop-cont pl-13\"]/p')\n",
    "for i in tqdm(duration):\n",
    "    Duration.append(i.text)\n",
    "else:\n",
    "    pass\n",
    "\n",
    "# Extracting stop details via Xpath\n",
    "stop = driver.find_elements(By.XPATH,\"//div[@class='stop-cont pl-13']/div/span\")\n",
    "for i in tqdm(stop):\n",
    "    Stops.append(i.text)\n",
    "else:\n",
    "    pass\n",
    "\n",
    "# Extracting Price of Flights via Xpath\n",
    "count = 0\n",
    "price = driver.find_elements(By.XPATH,'//div[@class=\"i-b tipsy fare-summary-tooltip fs-18\"]')\n",
    "for i in tqdm(price):\n",
    "    Price.append(i.text.replace(',',''))\n",
    "    count = count +1\n",
    "else:\n",
    "    count = count +1\n",
    "    pass\n",
    "\n",
    "# Clicking on Flights details element\n",
    "Button = driver.find_elements(By.XPATH,'//div[@class=\"link-color fs-12 cursor-pointer\"]/span')\n",
    "driver.execute_script(\"arguments[0].click();\", WebDriverWait(driver, 20).until(EC.element_to_be_clickable((By.XPATH,'//div[@class=\"link-color fs-12 cursor-pointer\"]/span'))))\n",
    "time.sleep(1)\n",
    "\n",
    "# Extracting Date of Flights via Xpath\n",
    "date = driver.find_element(By.XPATH,'//div[@class=\"bold fs-12 mb-5\"]')\n",
    "a = date.text\n",
    "for i in tqdm(range(count-1)):\n",
    "    Date.append(a)\n",
    "else:\n",
    "    pass"
   ]
  },
  {
   "cell_type": "code",
   "execution_count": 106,
   "id": "ff461fe0",
   "metadata": {},
   "outputs": [
    {
     "data": {
      "text/plain": [
       "(1386, 1386, 1386, 1386, 1386, 1386, 1386, 1386, 1386, 1386)"
      ]
     },
     "execution_count": 106,
     "metadata": {},
     "output_type": "execute_result"
    }
   ],
   "source": [
    "len(Flight_No), len(Airlines), len(Dept_time), len(Arrival_time), len(Source), len(Destination), len(Duration), len(Stops),len(Price), len(Date)"
   ]
  },
  {
   "cell_type": "markdown",
   "id": "f0da24c6",
   "metadata": {},
   "source": [
    "* **Flights for date 11th Jan2023**"
   ]
  },
  {
   "cell_type": "code",
   "execution_count": 107,
   "id": "e8d2f09e",
   "metadata": {},
   "outputs": [],
   "source": [
    "url20 = \"https://flight.yatra.com/air-search-ui/dom2/trigger?ADT=1&CHD=0&INF=0&class=Special&destination=BOM&destinationCountry=IN&flexi=0&flight_depart_date=11%2F01%2F2023&hb=0&noOfSegments=1&origin=DEL&originCountry=IN&type=O&unique=621260827543&version=1.1&viewName=normal\"\n",
    "driver.get(url20)"
   ]
  },
  {
   "cell_type": "code",
   "execution_count": 108,
   "id": "2b653dbe",
   "metadata": {},
   "outputs": [
    {
     "name": "stderr",
     "output_type": "stream",
     "text": [
      "100%|██████████████████████████████████████████████████████████████████████████████████| 50/50 [00:16<00:00,  3.02it/s]\n"
     ]
    }
   ],
   "source": [
    "from tqdm import tqdm\n",
    "for _ in tqdm (range(0,50)):\n",
    "    time.sleep(0.1)\n",
    "    driver.execute_script(\"window.scrollBy(0,2000)\",\"\")\n",
    "    time.sleep(0.2)\n",
    "    driver.execute_script(\"window.scrollBy(0,-500)\",\"\")"
   ]
  },
  {
   "cell_type": "code",
   "execution_count": 109,
   "id": "7f564c56",
   "metadata": {},
   "outputs": [
    {
     "data": {
      "text/plain": [
       "61"
      ]
     },
     "execution_count": 109,
     "metadata": {},
     "output_type": "execute_result"
    }
   ],
   "source": [
    "flights=driver.find_elements(By.XPATH,'//div[@class=\"fs-13 airline-name no-pad col-8\"]')\n",
    "len(flights)"
   ]
  },
  {
   "cell_type": "code",
   "execution_count": 110,
   "id": "ff0bdbb5",
   "metadata": {},
   "outputs": [
    {
     "name": "stderr",
     "output_type": "stream",
     "text": [
      "100%|█████████████████████████████████████████████████████████████████████████████████| 61/61 [00:00<00:00, 107.26it/s]\n",
      "100%|██████████████████████████████████████████████████████████████████████████████████| 61/61 [00:00<00:00, 98.41it/s]\n",
      "100%|██████████████████████████████████████████████████████████████████████████████████| 61/61 [00:00<00:00, 93.23it/s]\n",
      "100%|██████████████████████████████████████████████████████████████████████████████████| 61/61 [00:00<00:00, 89.33it/s]\n",
      "100%|██████████████████████████████████████████████████████████████████████████████████| 61/61 [00:00<00:00, 83.84it/s]\n",
      "100%|██████████████████████████████████████████████████████████████████████████████████| 61/61 [00:00<00:00, 80.00it/s]\n",
      "100%|██████████████████████████████████████████████████████████████████████████████████| 61/61 [00:00<00:00, 75.56it/s]\n",
      "100%|██████████████████████████████████████████████████████████████████████████████████| 61/61 [00:00<00:00, 70.62it/s]\n",
      "100%|██████████████████████████████████████████████████████████████████████████████████████████| 61/61 [00:00<?, ?it/s]\n"
     ]
    }
   ],
   "source": [
    "# Extracting Airlines Name Via Xpath\n",
    "airlines = driver.find_elements(By.XPATH,\"//div[@class='fs-13 airline-name no-pad col-8']/span\")\n",
    "for i in airlines:\n",
    "    Airlines.append(i.text.replace(\"\\n\",\" \"))\n",
    "else :\n",
    "    pass\n",
    "\n",
    "# Extracting Aeroplane model  via xpath\n",
    "aeroplanes = driver.find_elements(By.XPATH,'//p[@class=\"normal fs-11 font-lightestgrey no-wrap fl-no\"]/span')\n",
    "for i in tqdm(aeroplanes):\n",
    "    Flight_No.append(i.text) \n",
    "else:\n",
    "    pass\n",
    "\n",
    "# Extracting Departure Time of Filght via Xpath\n",
    "dept_times = driver.find_elements(By.XPATH,'//div[@class=\"i-b pr\"]')\n",
    "for i in tqdm(dept_times):\n",
    "    Dept_time.append(i.text)\n",
    "else :\n",
    "    pass\n",
    "\n",
    "# Extracting Arrival Time via xpath\n",
    "arrival = driver.find_elements(By.XPATH,'//p[@class=\"bold fs-15 mb-2 pr time\"]')\n",
    "for i in tqdm(arrival):\n",
    "    Arrival_time.append(i.text)\n",
    "else :\n",
    "    pass\n",
    "\n",
    "# Extracting Source of flight via Xpath\n",
    "source = driver.find_elements(By.XPATH,\"//div[@class='i-b col-4 no-wrap text-right dtime col-3']/p\")\n",
    "for i in tqdm(source):\n",
    "    Source.append(i.text)\n",
    "else :\n",
    "    pass\n",
    "\n",
    "# Extracting Destination of Flights via Xpath\n",
    "destination = driver.find_elements(By.XPATH,'//div[@class=\"i-b pdd-0 text-left atime col-5\"]/p[2]')\n",
    "for i in tqdm(destination):\n",
    "    Destination.append(i.text)\n",
    "else:\n",
    "    pass\n",
    "\n",
    "# Extracting Duration of Flights via Xpath\n",
    "duration = driver.find_elements(By.XPATH,'//div[@class=\"stop-cont pl-13\"]/p')\n",
    "for i in tqdm(duration):\n",
    "    Duration.append(i.text)\n",
    "else:\n",
    "    pass\n",
    "\n",
    "# Extracting stop details via Xpath\n",
    "stop = driver.find_elements(By.XPATH,\"//div[@class='stop-cont pl-13']/div/span\")\n",
    "for i in tqdm(stop):\n",
    "    Stops.append(i.text)\n",
    "else:\n",
    "    pass\n",
    "\n",
    "# Extracting Price of Flights via Xpath\n",
    "count = 0\n",
    "price = driver.find_elements(By.XPATH,'//div[@class=\"i-b tipsy fare-summary-tooltip fs-18\"]')\n",
    "for i in tqdm(price):\n",
    "    Price.append(i.text.replace(',',''))\n",
    "    count = count +1\n",
    "else:\n",
    "    count = count +1\n",
    "    pass\n",
    "\n",
    "# Clicking on Flights details element\n",
    "Button = driver.find_elements(By.XPATH,'//div[@class=\"link-color fs-12 cursor-pointer\"]/span')\n",
    "driver.execute_script(\"arguments[0].click();\", WebDriverWait(driver, 20).until(EC.element_to_be_clickable((By.XPATH,'//div[@class=\"link-color fs-12 cursor-pointer\"]/span'))))\n",
    "time.sleep(1)\n",
    "\n",
    "# Extracting Date of Flights via Xpath\n",
    "date = driver.find_element(By.XPATH,'//div[@class=\"bold fs-12 mb-5\"]')\n",
    "a = date.text\n",
    "for i in tqdm(range(count-1)):\n",
    "    Date.append(a)\n",
    "else:\n",
    "    pass"
   ]
  },
  {
   "cell_type": "code",
   "execution_count": 111,
   "id": "65335494",
   "metadata": {},
   "outputs": [
    {
     "data": {
      "text/plain": [
       "(1447, 1447, 1447, 1447, 1447, 1447, 1447, 1447, 1447, 1447)"
      ]
     },
     "execution_count": 111,
     "metadata": {},
     "output_type": "execute_result"
    }
   ],
   "source": [
    "len(Flight_No), len(Airlines), len(Dept_time), len(Arrival_time), len(Source), len(Destination), len(Duration), len(Stops),len(Price), len(Date)"
   ]
  },
  {
   "cell_type": "markdown",
   "id": "d4712872",
   "metadata": {},
   "source": [
    "* **Flights for date 12th Jan2023**"
   ]
  },
  {
   "cell_type": "code",
   "execution_count": 112,
   "id": "46d4a027",
   "metadata": {},
   "outputs": [],
   "source": [
    "url21 = \"https://flight.yatra.com/air-search-ui/dom2/trigger?ADT=1&CHD=0&INF=0&class=Special&destination=BOM&destinationCountry=IN&flexi=0&flight_depart_date=12%2F01%2F2023&hb=0&noOfSegments=1&origin=DEL&originCountry=IN&type=O&unique=78017098802&version=1.1&viewName=normal\"\n",
    "driver.get(url21)"
   ]
  },
  {
   "cell_type": "code",
   "execution_count": 113,
   "id": "e08b4781",
   "metadata": {},
   "outputs": [
    {
     "name": "stderr",
     "output_type": "stream",
     "text": [
      "100%|██████████████████████████████████████████████████████████████████████████████████| 50/50 [00:16<00:00,  2.99it/s]\n"
     ]
    }
   ],
   "source": [
    "from tqdm import tqdm\n",
    "for _ in tqdm (range(0,50)):\n",
    "    time.sleep(0.1)\n",
    "    driver.execute_script(\"window.scrollBy(0,2000)\",\"\")\n",
    "    time.sleep(0.2)\n",
    "    driver.execute_script(\"window.scrollBy(0,-500)\",\"\")"
   ]
  },
  {
   "cell_type": "code",
   "execution_count": 114,
   "id": "f4bceafe",
   "metadata": {},
   "outputs": [
    {
     "data": {
      "text/plain": [
       "61"
      ]
     },
     "execution_count": 114,
     "metadata": {},
     "output_type": "execute_result"
    }
   ],
   "source": [
    "flights=driver.find_elements(By.XPATH,'//div[@class=\"fs-13 airline-name no-pad col-8\"]')\n",
    "len(flights)"
   ]
  },
  {
   "cell_type": "code",
   "execution_count": 115,
   "id": "df58da59",
   "metadata": {},
   "outputs": [
    {
     "name": "stderr",
     "output_type": "stream",
     "text": [
      "100%|█████████████████████████████████████████████████████████████████████████████████| 61/61 [00:00<00:00, 104.46it/s]\n",
      "100%|██████████████████████████████████████████████████████████████████████████████████| 61/61 [00:00<00:00, 99.31it/s]\n",
      "100%|██████████████████████████████████████████████████████████████████████████████████| 61/61 [00:00<00:00, 91.53it/s]\n",
      "100%|██████████████████████████████████████████████████████████████████████████████████| 61/61 [00:00<00:00, 88.82it/s]\n",
      "100%|██████████████████████████████████████████████████████████████████████████████████| 61/61 [00:00<00:00, 84.15it/s]\n",
      "100%|██████████████████████████████████████████████████████████████████████████████████| 61/61 [00:00<00:00, 78.17it/s]\n",
      "100%|██████████████████████████████████████████████████████████████████████████████████| 61/61 [00:00<00:00, 73.27it/s]\n",
      "100%|██████████████████████████████████████████████████████████████████████████████████| 61/61 [00:00<00:00, 70.90it/s]\n",
      "100%|██████████████████████████████████████████████████████████████████████████████████████████| 61/61 [00:00<?, ?it/s]\n"
     ]
    }
   ],
   "source": [
    "# Extracting Airlines Name Via Xpath\n",
    "airlines = driver.find_elements(By.XPATH,\"//div[@class='fs-13 airline-name no-pad col-8']/span\")\n",
    "for i in airlines:\n",
    "    Airlines.append(i.text.replace(\"\\n\",\" \"))\n",
    "else :\n",
    "    pass\n",
    "\n",
    "# Extracting Aeroplane model  via xpath\n",
    "aeroplanes = driver.find_elements(By.XPATH,'//p[@class=\"normal fs-11 font-lightestgrey no-wrap fl-no\"]/span')\n",
    "for i in tqdm(aeroplanes):\n",
    "    Flight_No.append(i.text) \n",
    "else:\n",
    "    pass\n",
    "\n",
    "# Extracting Departure Time of Filght via Xpath\n",
    "dept_times = driver.find_elements(By.XPATH,'//div[@class=\"i-b pr\"]')\n",
    "for i in tqdm(dept_times):\n",
    "    Dept_time.append(i.text)\n",
    "else :\n",
    "    pass\n",
    "\n",
    "# Extracting Arrival Time via xpath\n",
    "arrival = driver.find_elements(By.XPATH,'//p[@class=\"bold fs-15 mb-2 pr time\"]')\n",
    "for i in tqdm(arrival):\n",
    "    Arrival_time.append(i.text)\n",
    "else :\n",
    "    pass\n",
    "\n",
    "# Extracting Source of flight via Xpath\n",
    "source = driver.find_elements(By.XPATH,\"//div[@class='i-b col-4 no-wrap text-right dtime col-3']/p\")\n",
    "for i in tqdm(source):\n",
    "    Source.append(i.text)\n",
    "else :\n",
    "    pass\n",
    "\n",
    "# Extracting Destination of Flights via Xpath\n",
    "destination = driver.find_elements(By.XPATH,'//div[@class=\"i-b pdd-0 text-left atime col-5\"]/p[2]')\n",
    "for i in tqdm(destination):\n",
    "    Destination.append(i.text)\n",
    "else:\n",
    "    pass\n",
    "\n",
    "# Extracting Duration of Flights via Xpath\n",
    "duration = driver.find_elements(By.XPATH,'//div[@class=\"stop-cont pl-13\"]/p')\n",
    "for i in tqdm(duration):\n",
    "    Duration.append(i.text)\n",
    "else:\n",
    "    pass\n",
    "\n",
    "# Extracting stop details via Xpath\n",
    "stop = driver.find_elements(By.XPATH,\"//div[@class='stop-cont pl-13']/div/span\")\n",
    "for i in tqdm(stop):\n",
    "    Stops.append(i.text)\n",
    "else:\n",
    "    pass\n",
    "\n",
    "# Extracting Price of Flights via Xpath\n",
    "count = 0\n",
    "price = driver.find_elements(By.XPATH,'//div[@class=\"i-b tipsy fare-summary-tooltip fs-18\"]')\n",
    "for i in tqdm(price):\n",
    "    Price.append(i.text.replace(',',''))\n",
    "    count = count +1\n",
    "else:\n",
    "    count = count +1\n",
    "    pass\n",
    "\n",
    "# Clicking on Flights details element\n",
    "Button = driver.find_elements(By.XPATH,'//div[@class=\"link-color fs-12 cursor-pointer\"]/span')\n",
    "driver.execute_script(\"arguments[0].click();\", WebDriverWait(driver, 20).until(EC.element_to_be_clickable((By.XPATH,'//div[@class=\"link-color fs-12 cursor-pointer\"]/span'))))\n",
    "time.sleep(1)\n",
    "\n",
    "# Extracting Date of Flights via Xpath\n",
    "date = driver.find_element(By.XPATH,'//div[@class=\"bold fs-12 mb-5\"]')\n",
    "a = date.text\n",
    "for i in tqdm(range(count-1)):\n",
    "    Date.append(a)\n",
    "else:\n",
    "    pass"
   ]
  },
  {
   "cell_type": "code",
   "execution_count": 116,
   "id": "15d67a54",
   "metadata": {},
   "outputs": [
    {
     "data": {
      "text/plain": [
       "(1508, 1508, 1508, 1508, 1508, 1508, 1508, 1508, 1508, 1508)"
      ]
     },
     "execution_count": 116,
     "metadata": {},
     "output_type": "execute_result"
    }
   ],
   "source": [
    "len(Flight_No), len(Airlines), len(Dept_time), len(Arrival_time), len(Source), len(Destination), len(Duration), len(Stops),len(Price), len(Date)"
   ]
  },
  {
   "cell_type": "markdown",
   "id": "f8c6268f",
   "metadata": {},
   "source": [
    "# Extracting Economy class flights from Bombay to New Delhi"
   ]
  },
  {
   "cell_type": "markdown",
   "id": "b6d9ea3b",
   "metadata": {},
   "source": [
    "* **Flights for date 13th Jan2023**"
   ]
  },
  {
   "cell_type": "code",
   "execution_count": 118,
   "id": "4200ecba",
   "metadata": {},
   "outputs": [],
   "source": [
    "url22 = \"https://flight.yatra.com/air-search-ui/dom2/trigger?ADT=1&CHD=0&INF=0&class=Economy&destination=DEL&destinationCountry=IN&flexi=0&flight_depart_date=13%2F01%2F2023&hb=0&noOfSegments=1&origin=BOM&originCountry=IN&type=O&unique=680549620665&version=1.1&viewName=normal\"\n",
    "driver.get(url22)"
   ]
  },
  {
   "cell_type": "code",
   "execution_count": 119,
   "id": "716046bc",
   "metadata": {},
   "outputs": [
    {
     "name": "stderr",
     "output_type": "stream",
     "text": [
      "100%|██████████████████████████████████████████████████████████████████████████████████| 50/50 [00:16<00:00,  2.97it/s]\n"
     ]
    }
   ],
   "source": [
    "from tqdm import tqdm\n",
    "for _ in tqdm (range(0,50)):\n",
    "    time.sleep(0.1)\n",
    "    driver.execute_script(\"window.scrollBy(0,2000)\",\"\")\n",
    "    time.sleep(0.2)\n",
    "    driver.execute_script(\"window.scrollBy(0,-500)\",\"\")"
   ]
  },
  {
   "cell_type": "code",
   "execution_count": 120,
   "id": "1cf87f43",
   "metadata": {},
   "outputs": [
    {
     "data": {
      "text/plain": [
       "95"
      ]
     },
     "execution_count": 120,
     "metadata": {},
     "output_type": "execute_result"
    }
   ],
   "source": [
    "flights=driver.find_elements(By.XPATH,'//div[@class=\"fs-13 airline-name no-pad col-8\"]')\n",
    "len(flights)"
   ]
  },
  {
   "cell_type": "code",
   "execution_count": 121,
   "id": "c77d57b1",
   "metadata": {},
   "outputs": [
    {
     "name": "stderr",
     "output_type": "stream",
     "text": [
      "100%|█████████████████████████████████████████████████████████████████████████████████| 95/95 [00:00<00:00, 102.14it/s]\n",
      "100%|██████████████████████████████████████████████████████████████████████████████████| 95/95 [00:01<00:00, 91.25it/s]\n",
      "100%|██████████████████████████████████████████████████████████████████████████████████| 95/95 [00:01<00:00, 82.27it/s]\n",
      "100%|██████████████████████████████████████████████████████████████████████████████████| 95/95 [00:01<00:00, 77.28it/s]\n",
      "100%|██████████████████████████████████████████████████████████████████████████████████| 95/95 [00:01<00:00, 71.78it/s]\n",
      "100%|██████████████████████████████████████████████████████████████████████████████████| 95/95 [00:01<00:00, 65.26it/s]\n",
      "100%|██████████████████████████████████████████████████████████████████████████████████| 95/95 [00:01<00:00, 62.12it/s]\n",
      "100%|██████████████████████████████████████████████████████████████████████████████████| 95/95 [00:01<00:00, 57.62it/s]\n",
      "100%|██████████████████████████████████████████████████████████████████████████████████████████| 95/95 [00:00<?, ?it/s]\n"
     ]
    }
   ],
   "source": [
    "# Extracting Airlines Name Via Xpath\n",
    "airlines = driver.find_elements(By.XPATH,\"//div[@class='fs-13 airline-name no-pad col-8']/span\")\n",
    "for i in airlines:\n",
    "    Airlines.append(i.text.replace(\"\\n\",\" \"))\n",
    "else :\n",
    "    pass\n",
    "\n",
    "# Extracting Aeroplane model  via xpath\n",
    "aeroplanes = driver.find_elements(By.XPATH,'//p[@class=\"normal fs-11 font-lightestgrey no-wrap fl-no\"]/span')\n",
    "for i in tqdm(aeroplanes):\n",
    "    Flight_No.append(i.text) \n",
    "else:\n",
    "    pass\n",
    "\n",
    "# Extracting Departure Time of Filght via Xpath\n",
    "dept_times = driver.find_elements(By.XPATH,'//div[@class=\"i-b pr\"]')\n",
    "for i in tqdm(dept_times):\n",
    "    Dept_time.append(i.text)\n",
    "else :\n",
    "    pass\n",
    "\n",
    "# Extracting Arrival Time via xpath\n",
    "arrival = driver.find_elements(By.XPATH,'//p[@class=\"bold fs-15 mb-2 pr time\"]')\n",
    "for i in tqdm(arrival):\n",
    "    Arrival_time.append(i.text)\n",
    "else :\n",
    "    pass\n",
    "\n",
    "# Extracting Source of flight via Xpath\n",
    "source = driver.find_elements(By.XPATH,\"//div[@class='i-b col-4 no-wrap text-right dtime col-3']/p\")\n",
    "for i in tqdm(source):\n",
    "    Source.append(i.text)\n",
    "else :\n",
    "    pass\n",
    "\n",
    "# Extracting Destination of Flights via Xpath\n",
    "destination = driver.find_elements(By.XPATH,'//div[@class=\"i-b pdd-0 text-left atime col-5\"]/p[2]')\n",
    "for i in tqdm(destination):\n",
    "    Destination.append(i.text)\n",
    "else:\n",
    "    pass\n",
    "\n",
    "# Extracting Duration of Flights via Xpath\n",
    "duration = driver.find_elements(By.XPATH,'//div[@class=\"stop-cont pl-13\"]/p')\n",
    "for i in tqdm(duration):\n",
    "    Duration.append(i.text)\n",
    "else:\n",
    "    pass\n",
    "\n",
    "# Extracting stop details via Xpath\n",
    "stop = driver.find_elements(By.XPATH,\"//div[@class='stop-cont pl-13']/div/span\")\n",
    "for i in tqdm(stop):\n",
    "    Stops.append(i.text)\n",
    "else:\n",
    "    pass\n",
    "\n",
    "# Extracting Price of Flights via Xpath\n",
    "count = 0\n",
    "price = driver.find_elements(By.XPATH,'//div[@class=\"i-b tipsy fare-summary-tooltip fs-18\"]')\n",
    "for i in tqdm(price):\n",
    "    Price.append(i.text.replace(',',''))\n",
    "    count = count +1\n",
    "else:\n",
    "    count = count +1\n",
    "    pass\n",
    "\n",
    "# Clicking on Flights details element\n",
    "Button = driver.find_elements(By.XPATH,'//div[@class=\"link-color fs-12 cursor-pointer\"]/span')\n",
    "driver.execute_script(\"arguments[0].click();\", WebDriverWait(driver, 20).until(EC.element_to_be_clickable((By.XPATH,'//div[@class=\"link-color fs-12 cursor-pointer\"]/span'))))\n",
    "time.sleep(1)\n",
    "\n",
    "# Extracting Date of Flights via Xpath\n",
    "date = driver.find_element(By.XPATH,'//div[@class=\"bold fs-12 mb-5\"]')\n",
    "a = date.text\n",
    "for i in tqdm(range(count-1)):\n",
    "    Date.append(a)\n",
    "else:\n",
    "    pass"
   ]
  },
  {
   "cell_type": "code",
   "execution_count": 122,
   "id": "6780ca45",
   "metadata": {},
   "outputs": [
    {
     "data": {
      "text/plain": [
       "(1603, 1603, 1603, 1603, 1603, 1603, 1603, 1603, 1603, 1603)"
      ]
     },
     "execution_count": 122,
     "metadata": {},
     "output_type": "execute_result"
    }
   ],
   "source": [
    "len(Flight_No), len(Airlines), len(Dept_time), len(Arrival_time), len(Source), len(Destination), len(Duration), len(Stops),len(Price), len(Date)"
   ]
  },
  {
   "cell_type": "markdown",
   "id": "5e918fe0",
   "metadata": {},
   "source": [
    "* **Flights for date 14th Jan2023**"
   ]
  },
  {
   "cell_type": "code",
   "execution_count": 123,
   "id": "6bde52ab",
   "metadata": {},
   "outputs": [],
   "source": [
    "url23 = \"https://flight.yatra.com/air-search-ui/dom2/trigger?ADT=1&CHD=0&INF=0&class=Economy&destination=DEL&destinationCountry=IN&flexi=0&flight_depart_date=14%2F01%2F2023&hb=0&noOfSegments=1&origin=BOM&originCountry=IN&type=O&unique=1524757480161&version=1.1&viewName=normal\"\n",
    "driver.get(url23)"
   ]
  },
  {
   "cell_type": "code",
   "execution_count": 124,
   "id": "7be4b1f1",
   "metadata": {},
   "outputs": [
    {
     "name": "stderr",
     "output_type": "stream",
     "text": [
      "100%|██████████████████████████████████████████████████████████████████████████████████| 50/50 [00:16<00:00,  2.98it/s]\n"
     ]
    }
   ],
   "source": [
    "from tqdm import tqdm\n",
    "for _ in tqdm (range(0,50)):\n",
    "    time.sleep(0.1)\n",
    "    driver.execute_script(\"window.scrollBy(0,2000)\",\"\")\n",
    "    time.sleep(0.2)\n",
    "    driver.execute_script(\"window.scrollBy(0,-500)\",\"\")"
   ]
  },
  {
   "cell_type": "code",
   "execution_count": 125,
   "id": "6153817e",
   "metadata": {},
   "outputs": [
    {
     "data": {
      "text/plain": [
       "95"
      ]
     },
     "execution_count": 125,
     "metadata": {},
     "output_type": "execute_result"
    }
   ],
   "source": [
    "flights=driver.find_elements(By.XPATH,'//div[@class=\"fs-13 airline-name no-pad col-8\"]')\n",
    "len(flights)"
   ]
  },
  {
   "cell_type": "code",
   "execution_count": 126,
   "id": "d977c062",
   "metadata": {},
   "outputs": [
    {
     "name": "stderr",
     "output_type": "stream",
     "text": [
      "100%|█████████████████████████████████████████████████████████████████████████████████| 95/95 [00:00<00:00, 101.80it/s]\n",
      "100%|██████████████████████████████████████████████████████████████████████████████████| 95/95 [00:01<00:00, 90.96it/s]\n",
      "100%|██████████████████████████████████████████████████████████████████████████████████| 95/95 [00:01<00:00, 83.53it/s]\n",
      "100%|██████████████████████████████████████████████████████████████████████████████████| 95/95 [00:01<00:00, 77.69it/s]\n",
      "100%|██████████████████████████████████████████████████████████████████████████████████| 95/95 [00:01<00:00, 71.81it/s]\n",
      "100%|██████████████████████████████████████████████████████████████████████████████████| 95/95 [00:01<00:00, 65.42it/s]\n",
      "100%|██████████████████████████████████████████████████████████████████████████████████| 95/95 [00:01<00:00, 62.19it/s]\n",
      "100%|██████████████████████████████████████████████████████████████████████████████████| 95/95 [00:01<00:00, 57.10it/s]\n",
      "100%|██████████████████████████████████████████████████████████████████████████████████████████| 95/95 [00:00<?, ?it/s]\n"
     ]
    }
   ],
   "source": [
    "# Extracting Airlines Name Via Xpath\n",
    "airlines = driver.find_elements(By.XPATH,\"//div[@class='fs-13 airline-name no-pad col-8']/span\")\n",
    "for i in airlines:\n",
    "    Airlines.append(i.text.replace(\"\\n\",\" \"))\n",
    "else :\n",
    "    pass\n",
    "\n",
    "# Extracting Aeroplane model  via xpath\n",
    "aeroplanes = driver.find_elements(By.XPATH,'//p[@class=\"normal fs-11 font-lightestgrey no-wrap fl-no\"]/span')\n",
    "for i in tqdm(aeroplanes):\n",
    "    Flight_No.append(i.text) \n",
    "else:\n",
    "    pass\n",
    "\n",
    "# Extracting Departure Time of Filght via Xpath\n",
    "dept_times = driver.find_elements(By.XPATH,'//div[@class=\"i-b pr\"]')\n",
    "for i in tqdm(dept_times):\n",
    "    Dept_time.append(i.text)\n",
    "else :\n",
    "    pass\n",
    "\n",
    "# Extracting Arrival Time via xpath\n",
    "arrival = driver.find_elements(By.XPATH,'//p[@class=\"bold fs-15 mb-2 pr time\"]')\n",
    "for i in tqdm(arrival):\n",
    "    Arrival_time.append(i.text)\n",
    "else :\n",
    "    pass\n",
    "\n",
    "# Extracting Source of flight via Xpath\n",
    "source = driver.find_elements(By.XPATH,\"//div[@class='i-b col-4 no-wrap text-right dtime col-3']/p\")\n",
    "for i in tqdm(source):\n",
    "    Source.append(i.text)\n",
    "else :\n",
    "    pass\n",
    "\n",
    "# Extracting Destination of Flights via Xpath\n",
    "destination = driver.find_elements(By.XPATH,'//div[@class=\"i-b pdd-0 text-left atime col-5\"]/p[2]')\n",
    "for i in tqdm(destination):\n",
    "    Destination.append(i.text)\n",
    "else:\n",
    "    pass\n",
    "\n",
    "# Extracting Duration of Flights via Xpath\n",
    "duration = driver.find_elements(By.XPATH,'//div[@class=\"stop-cont pl-13\"]/p')\n",
    "for i in tqdm(duration):\n",
    "    Duration.append(i.text)\n",
    "else:\n",
    "    pass\n",
    "\n",
    "# Extracting stop details via Xpath\n",
    "stop = driver.find_elements(By.XPATH,\"//div[@class='stop-cont pl-13']/div/span\")\n",
    "for i in tqdm(stop):\n",
    "    Stops.append(i.text)\n",
    "else:\n",
    "    pass\n",
    "\n",
    "# Extracting Price of Flights via Xpath\n",
    "count = 0\n",
    "price = driver.find_elements(By.XPATH,'//div[@class=\"i-b tipsy fare-summary-tooltip fs-18\"]')\n",
    "for i in tqdm(price):\n",
    "    Price.append(i.text.replace(',',''))\n",
    "    count = count +1\n",
    "else:\n",
    "    count = count +1\n",
    "    pass\n",
    "\n",
    "# Clicking on Flights details element\n",
    "Button = driver.find_elements(By.XPATH,'//div[@class=\"link-color fs-12 cursor-pointer\"]/span')\n",
    "driver.execute_script(\"arguments[0].click();\", WebDriverWait(driver, 20).until(EC.element_to_be_clickable((By.XPATH,'//div[@class=\"link-color fs-12 cursor-pointer\"]/span'))))\n",
    "time.sleep(1)\n",
    "\n",
    "# Extracting Date of Flights via Xpath\n",
    "date = driver.find_element(By.XPATH,'//div[@class=\"bold fs-12 mb-5\"]')\n",
    "a = date.text\n",
    "for i in tqdm(range(count-1)):\n",
    "    Date.append(a)\n",
    "else:\n",
    "    pass"
   ]
  },
  {
   "cell_type": "markdown",
   "id": "a9b3b955",
   "metadata": {},
   "source": [
    "* **Flights for date 15th Jan2023**"
   ]
  },
  {
   "cell_type": "code",
   "execution_count": 130,
   "id": "d29b1c8d",
   "metadata": {},
   "outputs": [],
   "source": [
    "url24 = \"https://flight.yatra.com/air-search-ui/dom2/trigger?ADT=1&CHD=0&INF=0&class=Economy&destination=DEL&destinationCountry=IN&flexi=0&flight_depart_date=15%2F01%2F2023&hb=0&noOfSegments=1&origin=BOM&originCountry=IN&type=O&unique=73375803688&version=1.1&viewName=normal\"\n",
    "driver.get(url24)"
   ]
  },
  {
   "cell_type": "code",
   "execution_count": 131,
   "id": "12614d8d",
   "metadata": {},
   "outputs": [
    {
     "name": "stderr",
     "output_type": "stream",
     "text": [
      "100%|██████████████████████████████████████████████████████████████████████████████████| 50/50 [00:16<00:00,  2.95it/s]\n"
     ]
    }
   ],
   "source": [
    "from tqdm import tqdm\n",
    "for _ in tqdm (range(0,50)):\n",
    "    time.sleep(0.1)\n",
    "    driver.execute_script(\"window.scrollBy(0,2000)\",\"\")\n",
    "    time.sleep(0.2)\n",
    "    driver.execute_script(\"window.scrollBy(0,-500)\",\"\")"
   ]
  },
  {
   "cell_type": "code",
   "execution_count": 132,
   "id": "888519aa",
   "metadata": {},
   "outputs": [
    {
     "data": {
      "text/plain": [
       "85"
      ]
     },
     "execution_count": 132,
     "metadata": {},
     "output_type": "execute_result"
    }
   ],
   "source": [
    "flights=driver.find_elements(By.XPATH,'//div[@class=\"fs-13 airline-name no-pad col-8\"]')\n",
    "len(flights)"
   ]
  },
  {
   "cell_type": "code",
   "execution_count": 133,
   "id": "d05197ed",
   "metadata": {},
   "outputs": [
    {
     "name": "stderr",
     "output_type": "stream",
     "text": [
      "100%|█████████████████████████████████████████████████████████████████████████████████| 85/85 [00:00<00:00, 102.95it/s]\n",
      "100%|██████████████████████████████████████████████████████████████████████████████████| 85/85 [00:00<00:00, 93.26it/s]\n",
      "100%|██████████████████████████████████████████████████████████████████████████████████| 85/85 [00:00<00:00, 86.92it/s]\n",
      "100%|██████████████████████████████████████████████████████████████████████████████████| 85/85 [00:01<00:00, 80.87it/s]\n",
      "100%|██████████████████████████████████████████████████████████████████████████████████| 85/85 [00:01<00:00, 75.13it/s]\n",
      "100%|██████████████████████████████████████████████████████████████████████████████████| 85/85 [00:01<00:00, 70.46it/s]\n",
      "100%|██████████████████████████████████████████████████████████████████████████████████| 85/85 [00:01<00:00, 63.92it/s]\n",
      "100%|██████████████████████████████████████████████████████████████████████████████████| 85/85 [00:01<00:00, 59.98it/s]\n",
      "100%|██████████████████████████████████████████████████████████████████████████████████████████| 85/85 [00:00<?, ?it/s]\n"
     ]
    }
   ],
   "source": [
    "# Extracting Airlines Name Via Xpath\n",
    "airlines = driver.find_elements(By.XPATH,\"//div[@class='fs-13 airline-name no-pad col-8']/span\")\n",
    "for i in airlines:\n",
    "    Airlines.append(i.text.replace(\"\\n\",\" \"))\n",
    "else :\n",
    "    pass\n",
    "\n",
    "# Extracting Aeroplane model  via xpath\n",
    "aeroplanes = driver.find_elements(By.XPATH,'//p[@class=\"normal fs-11 font-lightestgrey no-wrap fl-no\"]/span')\n",
    "for i in tqdm(aeroplanes):\n",
    "    Flight_No.append(i.text) \n",
    "else:\n",
    "    pass\n",
    "\n",
    "# Extracting Departure Time of Filght via Xpath\n",
    "dept_times = driver.find_elements(By.XPATH,'//div[@class=\"i-b pr\"]')\n",
    "for i in tqdm(dept_times):\n",
    "    Dept_time.append(i.text)\n",
    "else :\n",
    "    pass\n",
    "\n",
    "# Extracting Arrival Time via xpath\n",
    "arrival = driver.find_elements(By.XPATH,'//p[@class=\"bold fs-15 mb-2 pr time\"]')\n",
    "for i in tqdm(arrival):\n",
    "    Arrival_time.append(i.text)\n",
    "else :\n",
    "    pass\n",
    "\n",
    "# Extracting Source of flight via Xpath\n",
    "source = driver.find_elements(By.XPATH,\"//div[@class='i-b col-4 no-wrap text-right dtime col-3']/p\")\n",
    "for i in tqdm(source):\n",
    "    Source.append(i.text)\n",
    "else :\n",
    "    pass\n",
    "\n",
    "# Extracting Destination of Flights via Xpath\n",
    "destination = driver.find_elements(By.XPATH,'//div[@class=\"i-b pdd-0 text-left atime col-5\"]/p[2]')\n",
    "for i in tqdm(destination):\n",
    "    Destination.append(i.text)\n",
    "else:\n",
    "    pass\n",
    "\n",
    "# Extracting Duration of Flights via Xpath\n",
    "duration = driver.find_elements(By.XPATH,'//div[@class=\"stop-cont pl-13\"]/p')\n",
    "for i in tqdm(duration):\n",
    "    Duration.append(i.text)\n",
    "else:\n",
    "    pass\n",
    "\n",
    "# Extracting stop details via Xpath\n",
    "stop = driver.find_elements(By.XPATH,\"//div[@class='stop-cont pl-13']/div/span\")\n",
    "for i in tqdm(stop):\n",
    "    Stops.append(i.text)\n",
    "else:\n",
    "    pass\n",
    "\n",
    "# Extracting Price of Flights via Xpath\n",
    "count = 0\n",
    "price = driver.find_elements(By.XPATH,'//div[@class=\"i-b tipsy fare-summary-tooltip fs-18\"]')\n",
    "for i in tqdm(price):\n",
    "    Price.append(i.text.replace(',',''))\n",
    "    count = count +1\n",
    "else:\n",
    "    count = count +1\n",
    "    pass\n",
    "\n",
    "# Clicking on Flights details element\n",
    "Button = driver.find_elements(By.XPATH,'//div[@class=\"link-color fs-12 cursor-pointer\"]/span')\n",
    "driver.execute_script(\"arguments[0].click();\", WebDriverWait(driver, 20).until(EC.element_to_be_clickable((By.XPATH,'//div[@class=\"link-color fs-12 cursor-pointer\"]/span'))))\n",
    "time.sleep(1)\n",
    "\n",
    "# Extracting Date of Flights via Xpath\n",
    "date = driver.find_element(By.XPATH,'//div[@class=\"bold fs-12 mb-5\"]')\n",
    "a = date.text\n",
    "for i in tqdm(range(count-1)):\n",
    "    Date.append(a)\n",
    "else:\n",
    "    pass"
   ]
  },
  {
   "cell_type": "code",
   "execution_count": 134,
   "id": "73e83527",
   "metadata": {},
   "outputs": [
    {
     "data": {
      "text/plain": [
       "(1783, 1783, 1783, 1783, 1783, 1783, 1783, 1783, 1783, 1783)"
      ]
     },
     "execution_count": 134,
     "metadata": {},
     "output_type": "execute_result"
    }
   ],
   "source": [
    "len(Flight_No), len(Airlines), len(Dept_time), len(Arrival_time), len(Source), len(Destination), len(Duration), len(Stops),len(Price), len(Date)"
   ]
  },
  {
   "cell_type": "markdown",
   "id": "7a340f05",
   "metadata": {},
   "source": [
    "* **Flights for date 16th Jan2023**"
   ]
  },
  {
   "cell_type": "code",
   "execution_count": 135,
   "id": "d67123fb",
   "metadata": {},
   "outputs": [],
   "source": [
    "url25 = \"https://flight.yatra.com/air-search-ui/dom2/trigger?ADT=1&CHD=0&INF=0&class=Economy&destination=DEL&destinationCountry=IN&flexi=0&flight_depart_date=16%2F01%2F2023&hb=0&noOfSegments=1&origin=BOM&originCountry=IN&type=O&unique=1350457085769&version=1.1&viewName=normal\"\n",
    "driver.get(url25)"
   ]
  },
  {
   "cell_type": "code",
   "execution_count": 136,
   "id": "ffd4866c",
   "metadata": {},
   "outputs": [
    {
     "name": "stderr",
     "output_type": "stream",
     "text": [
      "100%|██████████████████████████████████████████████████████████████████████████████████| 50/50 [00:16<00:00,  2.95it/s]\n"
     ]
    }
   ],
   "source": [
    "from tqdm import tqdm\n",
    "for _ in tqdm (range(0,50)):\n",
    "    time.sleep(0.1)\n",
    "    driver.execute_script(\"window.scrollBy(0,2000)\",\"\")\n",
    "    time.sleep(0.2)\n",
    "    driver.execute_script(\"window.scrollBy(0,-500)\",\"\")"
   ]
  },
  {
   "cell_type": "code",
   "execution_count": 137,
   "id": "a413a33d",
   "metadata": {},
   "outputs": [
    {
     "data": {
      "text/plain": [
       "95"
      ]
     },
     "execution_count": 137,
     "metadata": {},
     "output_type": "execute_result"
    }
   ],
   "source": [
    "flights=driver.find_elements(By.XPATH,'//div[@class=\"fs-13 airline-name no-pad col-8\"]')\n",
    "len(flights)"
   ]
  },
  {
   "cell_type": "code",
   "execution_count": 138,
   "id": "24942b74",
   "metadata": {},
   "outputs": [
    {
     "name": "stderr",
     "output_type": "stream",
     "text": [
      "100%|█████████████████████████████████████████████████████████████████████████████████| 95/95 [00:00<00:00, 100.69it/s]\n",
      "100%|██████████████████████████████████████████████████████████████████████████████████| 95/95 [00:01<00:00, 91.25it/s]\n",
      "100%|██████████████████████████████████████████████████████████████████████████████████| 95/95 [00:01<00:00, 83.21it/s]\n",
      "100%|██████████████████████████████████████████████████████████████████████████████████| 95/95 [00:01<00:00, 77.22it/s]\n",
      "100%|██████████████████████████████████████████████████████████████████████████████████| 95/95 [00:01<00:00, 72.04it/s]\n",
      "100%|██████████████████████████████████████████████████████████████████████████████████| 95/95 [00:01<00:00, 66.67it/s]\n",
      "100%|██████████████████████████████████████████████████████████████████████████████████| 95/95 [00:01<00:00, 60.32it/s]\n",
      "100%|██████████████████████████████████████████████████████████████████████████████████| 95/95 [00:01<00:00, 56.56it/s]\n",
      "100%|██████████████████████████████████████████████████████████████████████████████████████████| 95/95 [00:00<?, ?it/s]\n"
     ]
    }
   ],
   "source": [
    "# Extracting Airlines Name Via Xpath\n",
    "airlines = driver.find_elements(By.XPATH,\"//div[@class='fs-13 airline-name no-pad col-8']/span\")\n",
    "for i in airlines:\n",
    "    Airlines.append(i.text.replace(\"\\n\",\" \"))\n",
    "else :\n",
    "    pass\n",
    "\n",
    "# Extracting Aeroplane model  via xpath\n",
    "aeroplanes = driver.find_elements(By.XPATH,'//p[@class=\"normal fs-11 font-lightestgrey no-wrap fl-no\"]/span')\n",
    "for i in tqdm(aeroplanes):\n",
    "    Flight_No.append(i.text) \n",
    "else:\n",
    "    pass\n",
    "\n",
    "# Extracting Departure Time of Filght via Xpath\n",
    "dept_times = driver.find_elements(By.XPATH,'//div[@class=\"i-b pr\"]')\n",
    "for i in tqdm(dept_times):\n",
    "    Dept_time.append(i.text)\n",
    "else :\n",
    "    pass\n",
    "\n",
    "# Extracting Arrival Time via xpath\n",
    "arrival = driver.find_elements(By.XPATH,'//p[@class=\"bold fs-15 mb-2 pr time\"]')\n",
    "for i in tqdm(arrival):\n",
    "    Arrival_time.append(i.text)\n",
    "else :\n",
    "    pass\n",
    "\n",
    "# Extracting Source of flight via Xpath\n",
    "source = driver.find_elements(By.XPATH,\"//div[@class='i-b col-4 no-wrap text-right dtime col-3']/p\")\n",
    "for i in tqdm(source):\n",
    "    Source.append(i.text)\n",
    "else :\n",
    "    pass\n",
    "\n",
    "# Extracting Destination of Flights via Xpath\n",
    "destination = driver.find_elements(By.XPATH,'//div[@class=\"i-b pdd-0 text-left atime col-5\"]/p[2]')\n",
    "for i in tqdm(destination):\n",
    "    Destination.append(i.text)\n",
    "else:\n",
    "    pass\n",
    "\n",
    "# Extracting Duration of Flights via Xpath\n",
    "duration = driver.find_elements(By.XPATH,'//div[@class=\"stop-cont pl-13\"]/p')\n",
    "for i in tqdm(duration):\n",
    "    Duration.append(i.text)\n",
    "else:\n",
    "    pass\n",
    "\n",
    "# Extracting stop details via Xpath\n",
    "stop = driver.find_elements(By.XPATH,\"//div[@class='stop-cont pl-13']/div/span\")\n",
    "for i in tqdm(stop):\n",
    "    Stops.append(i.text)\n",
    "else:\n",
    "    pass\n",
    "\n",
    "# Extracting Price of Flights via Xpath\n",
    "count = 0\n",
    "price = driver.find_elements(By.XPATH,'//div[@class=\"i-b tipsy fare-summary-tooltip fs-18\"]')\n",
    "for i in tqdm(price):\n",
    "    Price.append(i.text.replace(',',''))\n",
    "    count = count +1\n",
    "else:\n",
    "    count = count +1\n",
    "    pass\n",
    "\n",
    "# Clicking on Flights details element\n",
    "Button = driver.find_elements(By.XPATH,'//div[@class=\"link-color fs-12 cursor-pointer\"]/span')\n",
    "driver.execute_script(\"arguments[0].click();\", WebDriverWait(driver, 20).until(EC.element_to_be_clickable((By.XPATH,'//div[@class=\"link-color fs-12 cursor-pointer\"]/span'))))\n",
    "time.sleep(1)\n",
    "\n",
    "# Extracting Date of Flights via Xpath\n",
    "date = driver.find_element(By.XPATH,'//div[@class=\"bold fs-12 mb-5\"]')\n",
    "a = date.text\n",
    "for i in tqdm(range(count-1)):\n",
    "    Date.append(a)\n",
    "else:\n",
    "    pass"
   ]
  },
  {
   "cell_type": "markdown",
   "id": "50dfd1d7",
   "metadata": {},
   "source": [
    "# Extracting Premium Economy class flights from Bombay to New Dehli"
   ]
  },
  {
   "cell_type": "markdown",
   "id": "df5ee305",
   "metadata": {},
   "source": [
    "* **Flights for date 13th Jan 2023**"
   ]
  },
  {
   "cell_type": "code",
   "execution_count": 139,
   "id": "71a70f38",
   "metadata": {},
   "outputs": [],
   "source": [
    "url26 = \"https://flight.yatra.com/air-search-ui/dom2/trigger?ADT=1&CHD=0&INF=0&class=Special&destination=DEL&destinationCountry=IN&flexi=0&flight_depart_date=13%2F01%2F2023&hb=0&noOfSegments=1&origin=BOM&originCountry=IN&type=O&unique=1198580607768&version=1.1&viewName=normal\"\n",
    "driver.get(url26)"
   ]
  },
  {
   "cell_type": "code",
   "execution_count": 140,
   "id": "30e1c0d5",
   "metadata": {},
   "outputs": [
    {
     "name": "stderr",
     "output_type": "stream",
     "text": [
      "100%|██████████████████████████████████████████████████████████████████████████████████| 50/50 [00:16<00:00,  2.99it/s]\n"
     ]
    }
   ],
   "source": [
    "from tqdm import tqdm\n",
    "for _ in tqdm (range(0,50)):\n",
    "    time.sleep(0.1)\n",
    "    driver.execute_script(\"window.scrollBy(0,2000)\",\"\")\n",
    "    time.sleep(0.2)\n",
    "    driver.execute_script(\"window.scrollBy(0,-500)\",\"\")"
   ]
  },
  {
   "cell_type": "code",
   "execution_count": 141,
   "id": "89896c64",
   "metadata": {},
   "outputs": [
    {
     "data": {
      "text/plain": [
       "61"
      ]
     },
     "execution_count": 141,
     "metadata": {},
     "output_type": "execute_result"
    }
   ],
   "source": [
    "flights=driver.find_elements(By.XPATH,'//div[@class=\"fs-13 airline-name no-pad col-8\"]')\n",
    "len(flights)"
   ]
  },
  {
   "cell_type": "code",
   "execution_count": 142,
   "id": "0ccbbdc1",
   "metadata": {},
   "outputs": [
    {
     "name": "stderr",
     "output_type": "stream",
     "text": [
      "100%|█████████████████████████████████████████████████████████████████████████████████| 61/61 [00:00<00:00, 106.60it/s]\n",
      "100%|██████████████████████████████████████████████████████████████████████████████████| 61/61 [00:00<00:00, 98.61it/s]\n",
      "100%|██████████████████████████████████████████████████████████████████████████████████| 61/61 [00:00<00:00, 93.96it/s]\n",
      "100%|██████████████████████████████████████████████████████████████████████████████████| 61/61 [00:00<00:00, 88.74it/s]\n",
      "100%|██████████████████████████████████████████████████████████████████████████████████| 61/61 [00:00<00:00, 84.27it/s]\n",
      "100%|██████████████████████████████████████████████████████████████████████████████████| 61/61 [00:00<00:00, 79.83it/s]\n",
      "100%|██████████████████████████████████████████████████████████████████████████████████| 61/61 [00:00<00:00, 74.97it/s]\n",
      "100%|██████████████████████████████████████████████████████████████████████████████████| 61/61 [00:00<00:00, 68.88it/s]\n",
      "100%|██████████████████████████████████████████████████████████████████████████████████████████| 61/61 [00:00<?, ?it/s]\n"
     ]
    }
   ],
   "source": [
    "# Extracting Airlines Name Via Xpath\n",
    "airlines = driver.find_elements(By.XPATH,\"//div[@class='fs-13 airline-name no-pad col-8']/span\")\n",
    "for i in airlines:\n",
    "    Airlines.append(i.text.replace(\"\\n\",\" \"))\n",
    "else :\n",
    "    pass\n",
    "\n",
    "# Extracting Aeroplane model  via xpath\n",
    "aeroplanes = driver.find_elements(By.XPATH,'//p[@class=\"normal fs-11 font-lightestgrey no-wrap fl-no\"]/span')\n",
    "for i in tqdm(aeroplanes):\n",
    "    Flight_No.append(i.text) \n",
    "else:\n",
    "    pass\n",
    "\n",
    "# Extracting Departure Time of Filght via Xpath\n",
    "dept_times = driver.find_elements(By.XPATH,'//div[@class=\"i-b pr\"]')\n",
    "for i in tqdm(dept_times):\n",
    "    Dept_time.append(i.text)\n",
    "else :\n",
    "    pass\n",
    "\n",
    "# Extracting Arrival Time via xpath\n",
    "arrival = driver.find_elements(By.XPATH,'//p[@class=\"bold fs-15 mb-2 pr time\"]')\n",
    "for i in tqdm(arrival):\n",
    "    Arrival_time.append(i.text)\n",
    "else :\n",
    "    pass\n",
    "\n",
    "# Extracting Source of flight via Xpath\n",
    "source = driver.find_elements(By.XPATH,\"//div[@class='i-b col-4 no-wrap text-right dtime col-3']/p\")\n",
    "for i in tqdm(source):\n",
    "    Source.append(i.text)\n",
    "else :\n",
    "    pass\n",
    "\n",
    "# Extracting Destination of Flights via Xpath\n",
    "destination = driver.find_elements(By.XPATH,'//div[@class=\"i-b pdd-0 text-left atime col-5\"]/p[2]')\n",
    "for i in tqdm(destination):\n",
    "    Destination.append(i.text)\n",
    "else:\n",
    "    pass\n",
    "\n",
    "# Extracting Duration of Flights via Xpath\n",
    "duration = driver.find_elements(By.XPATH,'//div[@class=\"stop-cont pl-13\"]/p')\n",
    "for i in tqdm(duration):\n",
    "    Duration.append(i.text)\n",
    "else:\n",
    "    pass\n",
    "\n",
    "# Extracting stop details via Xpath\n",
    "stop = driver.find_elements(By.XPATH,\"//div[@class='stop-cont pl-13']/div/span\")\n",
    "for i in tqdm(stop):\n",
    "    Stops.append(i.text)\n",
    "else:\n",
    "    pass\n",
    "\n",
    "# Extracting Price of Flights via Xpath\n",
    "count = 0\n",
    "price = driver.find_elements(By.XPATH,'//div[@class=\"i-b tipsy fare-summary-tooltip fs-18\"]')\n",
    "for i in tqdm(price):\n",
    "    Price.append(i.text.replace(',',''))\n",
    "    count = count +1\n",
    "else:\n",
    "    count = count +1\n",
    "    pass\n",
    "\n",
    "# Clicking on Flights details element\n",
    "Button = driver.find_elements(By.XPATH,'//div[@class=\"link-color fs-12 cursor-pointer\"]/span')\n",
    "driver.execute_script(\"arguments[0].click();\", WebDriverWait(driver, 20).until(EC.element_to_be_clickable((By.XPATH,'//div[@class=\"link-color fs-12 cursor-pointer\"]/span'))))\n",
    "time.sleep(1)\n",
    "\n",
    "# Extracting Date of Flights via Xpath\n",
    "date = driver.find_element(By.XPATH,'//div[@class=\"bold fs-12 mb-5\"]')\n",
    "a = date.text\n",
    "for i in tqdm(range(count-1)):\n",
    "    Date.append(a)\n",
    "else:\n",
    "    pass"
   ]
  },
  {
   "cell_type": "code",
   "execution_count": 143,
   "id": "387d54ee",
   "metadata": {},
   "outputs": [
    {
     "data": {
      "text/plain": [
       "(1939, 1939, 1939, 1939, 1939, 1939, 1939, 1939, 1939, 1939)"
      ]
     },
     "execution_count": 143,
     "metadata": {},
     "output_type": "execute_result"
    }
   ],
   "source": [
    "len(Flight_No), len(Airlines), len(Dept_time), len(Arrival_time), len(Source), len(Destination), len(Duration), len(Stops),len(Price), len(Date)"
   ]
  },
  {
   "cell_type": "markdown",
   "id": "a10a991f",
   "metadata": {},
   "source": [
    "* **Flights for date 14th Jan 2023**"
   ]
  },
  {
   "cell_type": "code",
   "execution_count": 146,
   "id": "8680a11c",
   "metadata": {},
   "outputs": [],
   "source": [
    "url27 = \"https://flight.yatra.com/air-search-ui/dom2/trigger?ADT=1&CHD=0&INF=0&class=Special&destination=DEL&destinationCountry=IN&flexi=0&flight_depart_date=14%2F01%2F2023&hb=0&noOfSegments=1&origin=BOM&originCountry=IN&type=O&unique=836212619887&version=1.1&viewName=normal\"\n",
    "driver.get(url27)"
   ]
  },
  {
   "cell_type": "code",
   "execution_count": 147,
   "id": "2438c198",
   "metadata": {},
   "outputs": [
    {
     "name": "stderr",
     "output_type": "stream",
     "text": [
      "100%|██████████████████████████████████████████████████████████████████████████████████| 50/50 [00:16<00:00,  2.98it/s]\n"
     ]
    }
   ],
   "source": [
    "from tqdm import tqdm\n",
    "for _ in tqdm (range(0,50)):\n",
    "    time.sleep(0.1)\n",
    "    driver.execute_script(\"window.scrollBy(0,2000)\",\"\")\n",
    "    time.sleep(0.2)\n",
    "    driver.execute_script(\"window.scrollBy(0,-500)\",\"\")"
   ]
  },
  {
   "cell_type": "code",
   "execution_count": 148,
   "id": "c13b8806",
   "metadata": {},
   "outputs": [
    {
     "data": {
      "text/plain": [
       "61"
      ]
     },
     "execution_count": 148,
     "metadata": {},
     "output_type": "execute_result"
    }
   ],
   "source": [
    "flights=driver.find_elements(By.XPATH,'//div[@class=\"fs-13 airline-name no-pad col-8\"]')\n",
    "len(flights)"
   ]
  },
  {
   "cell_type": "code",
   "execution_count": 149,
   "id": "66b091ef",
   "metadata": {},
   "outputs": [
    {
     "name": "stderr",
     "output_type": "stream",
     "text": [
      "100%|█████████████████████████████████████████████████████████████████████████████████| 61/61 [00:00<00:00, 106.96it/s]\n",
      "100%|██████████████████████████████████████████████████████████████████████████████████| 61/61 [00:00<00:00, 98.37it/s]\n",
      "100%|██████████████████████████████████████████████████████████████████████████████████| 61/61 [00:00<00:00, 93.22it/s]\n",
      "100%|██████████████████████████████████████████████████████████████████████████████████| 61/61 [00:00<00:00, 88.84it/s]\n",
      "100%|██████████████████████████████████████████████████████████████████████████████████| 61/61 [00:00<00:00, 84.15it/s]\n",
      "100%|██████████████████████████████████████████████████████████████████████████████████| 61/61 [00:00<00:00, 79.94it/s]\n",
      "100%|██████████████████████████████████████████████████████████████████████████████████| 61/61 [00:00<00:00, 75.24it/s]\n",
      "100%|██████████████████████████████████████████████████████████████████████████████████| 61/61 [00:00<00:00, 70.93it/s]\n",
      "100%|██████████████████████████████████████████████████████████████████████████████████████████| 61/61 [00:00<?, ?it/s]\n"
     ]
    }
   ],
   "source": [
    "# Extracting Airlines Name Via Xpath\n",
    "airlines = driver.find_elements(By.XPATH,\"//div[@class='fs-13 airline-name no-pad col-8']/span\")\n",
    "for i in airlines:\n",
    "    Airlines.append(i.text.replace(\"\\n\",\" \"))\n",
    "else :\n",
    "    pass\n",
    "\n",
    "# Extracting Aeroplane model  via xpath\n",
    "aeroplanes = driver.find_elements(By.XPATH,'//p[@class=\"normal fs-11 font-lightestgrey no-wrap fl-no\"]/span')\n",
    "for i in tqdm(aeroplanes):\n",
    "    Flight_No.append(i.text) \n",
    "else:\n",
    "    pass\n",
    "\n",
    "# Extracting Departure Time of Filght via Xpath\n",
    "dept_times = driver.find_elements(By.XPATH,'//div[@class=\"i-b pr\"]')\n",
    "for i in tqdm(dept_times):\n",
    "    Dept_time.append(i.text)\n",
    "else :\n",
    "    pass\n",
    "\n",
    "# Extracting Arrival Time via xpath\n",
    "arrival = driver.find_elements(By.XPATH,'//p[@class=\"bold fs-15 mb-2 pr time\"]')\n",
    "for i in tqdm(arrival):\n",
    "    Arrival_time.append(i.text)\n",
    "else :\n",
    "    pass\n",
    "\n",
    "# Extracting Source of flight via Xpath\n",
    "source = driver.find_elements(By.XPATH,\"//div[@class='i-b col-4 no-wrap text-right dtime col-3']/p\")\n",
    "for i in tqdm(source):\n",
    "    Source.append(i.text)\n",
    "else :\n",
    "    pass\n",
    "\n",
    "# Extracting Destination of Flights via Xpath\n",
    "destination = driver.find_elements(By.XPATH,'//div[@class=\"i-b pdd-0 text-left atime col-5\"]/p[2]')\n",
    "for i in tqdm(destination):\n",
    "    Destination.append(i.text)\n",
    "else:\n",
    "    pass\n",
    "\n",
    "# Extracting Duration of Flights via Xpath\n",
    "duration = driver.find_elements(By.XPATH,'//div[@class=\"stop-cont pl-13\"]/p')\n",
    "for i in tqdm(duration):\n",
    "    Duration.append(i.text)\n",
    "else:\n",
    "    pass\n",
    "\n",
    "# Extracting stop details via Xpath\n",
    "stop = driver.find_elements(By.XPATH,\"//div[@class='stop-cont pl-13']/div/span\")\n",
    "for i in tqdm(stop):\n",
    "    Stops.append(i.text)\n",
    "else:\n",
    "    pass\n",
    "\n",
    "# Extracting Price of Flights via Xpath\n",
    "count = 0\n",
    "price = driver.find_elements(By.XPATH,'//div[@class=\"i-b tipsy fare-summary-tooltip fs-18\"]')\n",
    "for i in tqdm(price):\n",
    "    Price.append(i.text.replace(',',''))\n",
    "    count = count +1\n",
    "else:\n",
    "    count = count +1\n",
    "    pass\n",
    "\n",
    "# Clicking on Flights details element\n",
    "Button = driver.find_elements(By.XPATH,'//div[@class=\"link-color fs-12 cursor-pointer\"]/span')\n",
    "driver.execute_script(\"arguments[0].click();\", WebDriverWait(driver, 20).until(EC.element_to_be_clickable((By.XPATH,'//div[@class=\"link-color fs-12 cursor-pointer\"]/span'))))\n",
    "time.sleep(1)\n",
    "\n",
    "# Extracting Date of Flights via Xpath\n",
    "date = driver.find_element(By.XPATH,'//div[@class=\"bold fs-12 mb-5\"]')\n",
    "a = date.text\n",
    "for i in tqdm(range(count-1)):\n",
    "    Date.append(a)\n",
    "else:\n",
    "    pass"
   ]
  },
  {
   "cell_type": "code",
   "execution_count": 150,
   "id": "15313469",
   "metadata": {},
   "outputs": [
    {
     "data": {
      "text/plain": [
       "(2000, 2000, 2000, 2000, 2000, 2000, 2000, 2000, 2000, 2000)"
      ]
     },
     "execution_count": 150,
     "metadata": {},
     "output_type": "execute_result"
    }
   ],
   "source": [
    "len(Flight_No), len(Airlines), len(Dept_time), len(Arrival_time), len(Source), len(Destination), len(Duration), len(Stops),len(Price), len(Date)"
   ]
  },
  {
   "cell_type": "markdown",
   "id": "44eb33af",
   "metadata": {},
   "source": [
    "* **Flights for date 15thJan2023**"
   ]
  },
  {
   "cell_type": "code",
   "execution_count": 151,
   "id": "64d71268",
   "metadata": {},
   "outputs": [],
   "source": [
    "url28 = \"https://flight.yatra.com/air-search-ui/dom2/trigger?ADT=1&CHD=0&INF=0&class=Special&destination=DEL&destinationCountry=IN&flexi=0&flight_depart_date=15%2F01%2F2023&hb=0&noOfSegments=1&origin=BOM&originCountry=IN&type=O&unique=750120162727&version=1.1&viewName=normal\"\n",
    "driver.get(url28)"
   ]
  },
  {
   "cell_type": "code",
   "execution_count": 152,
   "id": "5c9a69bb",
   "metadata": {},
   "outputs": [
    {
     "name": "stderr",
     "output_type": "stream",
     "text": [
      "100%|██████████████████████████████████████████████████████████████████████████████████| 50/50 [00:16<00:00,  2.98it/s]\n"
     ]
    }
   ],
   "source": [
    "from tqdm import tqdm\n",
    "for _ in tqdm (range(0,50)):\n",
    "    time.sleep(0.1)\n",
    "    driver.execute_script(\"window.scrollBy(0,2000)\",\"\")\n",
    "    time.sleep(0.2)\n",
    "    driver.execute_script(\"window.scrollBy(0,-500)\",\"\")"
   ]
  },
  {
   "cell_type": "code",
   "execution_count": 153,
   "id": "842acf3c",
   "metadata": {},
   "outputs": [
    {
     "data": {
      "text/plain": [
       "61"
      ]
     },
     "execution_count": 153,
     "metadata": {},
     "output_type": "execute_result"
    }
   ],
   "source": [
    "flights=driver.find_elements(By.XPATH,'//div[@class=\"fs-13 airline-name no-pad col-8\"]')\n",
    "len(flights)"
   ]
  },
  {
   "cell_type": "code",
   "execution_count": 154,
   "id": "879fc0b3",
   "metadata": {},
   "outputs": [
    {
     "name": "stderr",
     "output_type": "stream",
     "text": [
      "100%|█████████████████████████████████████████████████████████████████████████████████| 61/61 [00:00<00:00, 105.87it/s]\n",
      "100%|██████████████████████████████████████████████████████████████████████████████████| 61/61 [00:00<00:00, 98.64it/s]\n",
      "100%|██████████████████████████████████████████████████████████████████████████████████| 61/61 [00:00<00:00, 93.47it/s]\n",
      "100%|██████████████████████████████████████████████████████████████████████████████████| 61/61 [00:00<00:00, 88.78it/s]\n",
      "100%|██████████████████████████████████████████████████████████████████████████████████| 61/61 [00:00<00:00, 84.02it/s]\n",
      "100%|██████████████████████████████████████████████████████████████████████████████████| 61/61 [00:00<00:00, 80.11it/s]\n",
      "100%|██████████████████████████████████████████████████████████████████████████████████| 61/61 [00:00<00:00, 75.15it/s]\n",
      "100%|██████████████████████████████████████████████████████████████████████████████████| 61/61 [00:00<00:00, 70.74it/s]\n",
      "100%|██████████████████████████████████████████████████████████████████████████████████████████| 61/61 [00:00<?, ?it/s]\n"
     ]
    }
   ],
   "source": [
    "# Extracting Airlines Name Via Xpath\n",
    "airlines = driver.find_elements(By.XPATH,\"//div[@class='fs-13 airline-name no-pad col-8']/span\")\n",
    "for i in airlines:\n",
    "    Airlines.append(i.text.replace(\"\\n\",\" \"))\n",
    "else :\n",
    "    pass\n",
    "\n",
    "# Extracting Aeroplane model  via xpath\n",
    "aeroplanes = driver.find_elements(By.XPATH,'//p[@class=\"normal fs-11 font-lightestgrey no-wrap fl-no\"]/span')\n",
    "for i in tqdm(aeroplanes):\n",
    "    Flight_No.append(i.text) \n",
    "else:\n",
    "    pass\n",
    "\n",
    "# Extracting Departure Time of Filght via Xpath\n",
    "dept_times = driver.find_elements(By.XPATH,'//div[@class=\"i-b pr\"]')\n",
    "for i in tqdm(dept_times):\n",
    "    Dept_time.append(i.text)\n",
    "else :\n",
    "    pass\n",
    "\n",
    "# Extracting Arrival Time via xpath\n",
    "arrival = driver.find_elements(By.XPATH,'//p[@class=\"bold fs-15 mb-2 pr time\"]')\n",
    "for i in tqdm(arrival):\n",
    "    Arrival_time.append(i.text)\n",
    "else :\n",
    "    pass\n",
    "\n",
    "# Extracting Source of flight via Xpath\n",
    "source = driver.find_elements(By.XPATH,\"//div[@class='i-b col-4 no-wrap text-right dtime col-3']/p\")\n",
    "for i in tqdm(source):\n",
    "    Source.append(i.text)\n",
    "else :\n",
    "    pass\n",
    "\n",
    "# Extracting Destination of Flights via Xpath\n",
    "destination = driver.find_elements(By.XPATH,'//div[@class=\"i-b pdd-0 text-left atime col-5\"]/p[2]')\n",
    "for i in tqdm(destination):\n",
    "    Destination.append(i.text)\n",
    "else:\n",
    "    pass\n",
    "\n",
    "# Extracting Duration of Flights via Xpath\n",
    "duration = driver.find_elements(By.XPATH,'//div[@class=\"stop-cont pl-13\"]/p')\n",
    "for i in tqdm(duration):\n",
    "    Duration.append(i.text)\n",
    "else:\n",
    "    pass\n",
    "\n",
    "# Extracting stop details via Xpath\n",
    "stop = driver.find_elements(By.XPATH,\"//div[@class='stop-cont pl-13']/div/span\")\n",
    "for i in tqdm(stop):\n",
    "    Stops.append(i.text)\n",
    "else:\n",
    "    pass\n",
    "\n",
    "# Extracting Price of Flights via Xpath\n",
    "count = 0\n",
    "price = driver.find_elements(By.XPATH,'//div[@class=\"i-b tipsy fare-summary-tooltip fs-18\"]')\n",
    "for i in tqdm(price):\n",
    "    Price.append(i.text.replace(',',''))\n",
    "    count = count +1\n",
    "else:\n",
    "    count = count +1\n",
    "    pass\n",
    "\n",
    "# Clicking on Flights details element\n",
    "Button = driver.find_elements(By.XPATH,'//div[@class=\"link-color fs-12 cursor-pointer\"]/span')\n",
    "driver.execute_script(\"arguments[0].click();\", WebDriverWait(driver, 20).until(EC.element_to_be_clickable((By.XPATH,'//div[@class=\"link-color fs-12 cursor-pointer\"]/span'))))\n",
    "time.sleep(1)\n",
    "\n",
    "# Extracting Date of Flights via Xpath\n",
    "date = driver.find_element(By.XPATH,'//div[@class=\"bold fs-12 mb-5\"]')\n",
    "a = date.text\n",
    "for i in tqdm(range(count-1)):\n",
    "    Date.append(a)\n",
    "else:\n",
    "    pass"
   ]
  },
  {
   "cell_type": "code",
   "execution_count": 155,
   "id": "15d9077a",
   "metadata": {},
   "outputs": [
    {
     "data": {
      "text/plain": [
       "(2061, 2061, 2061, 2061, 2061, 2061, 2061, 2061, 2061, 2061)"
      ]
     },
     "execution_count": 155,
     "metadata": {},
     "output_type": "execute_result"
    }
   ],
   "source": [
    "len(Flight_No), len(Airlines), len(Dept_time), len(Arrival_time), len(Source), len(Destination), len(Duration), len(Stops),len(Price), len(Date)"
   ]
  },
  {
   "cell_type": "markdown",
   "id": "fc953560",
   "metadata": {},
   "source": [
    "* **Flights for date 16thJan2023**"
   ]
  },
  {
   "cell_type": "code",
   "execution_count": 156,
   "id": "61c4ba70",
   "metadata": {},
   "outputs": [],
   "source": [
    "url29 = \"https://flight.yatra.com/air-search-ui/dom2/trigger?ADT=1&CHD=0&INF=0&class=Special&destination=DEL&destinationCountry=IN&flexi=0&flight_depart_date=16%2F01%2F2023&hb=0&noOfSegments=1&origin=BOM&originCountry=IN&type=O&unique=948043004283&version=1.1&viewName=normal\"\n",
    "driver.get(url29)"
   ]
  },
  {
   "cell_type": "code",
   "execution_count": 157,
   "id": "08e6ab76",
   "metadata": {},
   "outputs": [
    {
     "name": "stderr",
     "output_type": "stream",
     "text": [
      "100%|██████████████████████████████████████████████████████████████████████████████████| 50/50 [00:16<00:00,  2.98it/s]\n"
     ]
    }
   ],
   "source": [
    "from tqdm import tqdm\n",
    "for _ in tqdm (range(0,50)):\n",
    "    time.sleep(0.1)\n",
    "    driver.execute_script(\"window.scrollBy(0,2000)\",\"\")\n",
    "    time.sleep(0.2)\n",
    "    driver.execute_script(\"window.scrollBy(0,-500)\",\"\")"
   ]
  },
  {
   "cell_type": "code",
   "execution_count": 158,
   "id": "cf41495a",
   "metadata": {},
   "outputs": [
    {
     "data": {
      "text/plain": [
       "61"
      ]
     },
     "execution_count": 158,
     "metadata": {},
     "output_type": "execute_result"
    }
   ],
   "source": [
    "flights=driver.find_elements(By.XPATH,'//div[@class=\"fs-13 airline-name no-pad col-8\"]')\n",
    "len(flights)"
   ]
  },
  {
   "cell_type": "code",
   "execution_count": 159,
   "id": "64ecb4bb",
   "metadata": {},
   "outputs": [
    {
     "name": "stderr",
     "output_type": "stream",
     "text": [
      "100%|█████████████████████████████████████████████████████████████████████████████████| 61/61 [00:00<00:00, 105.80it/s]\n",
      "100%|██████████████████████████████████████████████████████████████████████████████████| 61/61 [00:00<00:00, 98.57it/s]\n",
      "100%|██████████████████████████████████████████████████████████████████████████████████| 61/61 [00:00<00:00, 91.89it/s]\n",
      "100%|██████████████████████████████████████████████████████████████████████████████████| 61/61 [00:00<00:00, 87.90it/s]\n",
      "100%|██████████████████████████████████████████████████████████████████████████████████| 61/61 [00:00<00:00, 84.82it/s]\n",
      "100%|██████████████████████████████████████████████████████████████████████████████████| 61/61 [00:00<00:00, 78.33it/s]\n",
      "100%|██████████████████████████████████████████████████████████████████████████████████| 61/61 [00:00<00:00, 75.14it/s]\n",
      "100%|██████████████████████████████████████████████████████████████████████████████████| 61/61 [00:00<00:00, 70.45it/s]\n",
      "100%|██████████████████████████████████████████████████████████████████████████████████████████| 61/61 [00:00<?, ?it/s]\n"
     ]
    }
   ],
   "source": [
    "# Extracting Airlines Name Via Xpath\n",
    "airlines = driver.find_elements(By.XPATH,\"//div[@class='fs-13 airline-name no-pad col-8']/span\")\n",
    "for i in airlines:\n",
    "    Airlines.append(i.text.replace(\"\\n\",\" \"))\n",
    "else :\n",
    "    pass\n",
    "\n",
    "# Extracting Aeroplane model  via xpath\n",
    "aeroplanes = driver.find_elements(By.XPATH,'//p[@class=\"normal fs-11 font-lightestgrey no-wrap fl-no\"]/span')\n",
    "for i in tqdm(aeroplanes):\n",
    "    Flight_No.append(i.text) \n",
    "else:\n",
    "    pass\n",
    "\n",
    "# Extracting Departure Time of Filght via Xpath\n",
    "dept_times = driver.find_elements(By.XPATH,'//div[@class=\"i-b pr\"]')\n",
    "for i in tqdm(dept_times):\n",
    "    Dept_time.append(i.text)\n",
    "else :\n",
    "    pass\n",
    "\n",
    "# Extracting Arrival Time via xpath\n",
    "arrival = driver.find_elements(By.XPATH,'//p[@class=\"bold fs-15 mb-2 pr time\"]')\n",
    "for i in tqdm(arrival):\n",
    "    Arrival_time.append(i.text)\n",
    "else :\n",
    "    pass\n",
    "\n",
    "# Extracting Source of flight via Xpath\n",
    "source = driver.find_elements(By.XPATH,\"//div[@class='i-b col-4 no-wrap text-right dtime col-3']/p\")\n",
    "for i in tqdm(source):\n",
    "    Source.append(i.text)\n",
    "else :\n",
    "    pass\n",
    "\n",
    "# Extracting Destination of Flights via Xpath\n",
    "destination = driver.find_elements(By.XPATH,'//div[@class=\"i-b pdd-0 text-left atime col-5\"]/p[2]')\n",
    "for i in tqdm(destination):\n",
    "    Destination.append(i.text)\n",
    "else:\n",
    "    pass\n",
    "\n",
    "# Extracting Duration of Flights via Xpath\n",
    "duration = driver.find_elements(By.XPATH,'//div[@class=\"stop-cont pl-13\"]/p')\n",
    "for i in tqdm(duration):\n",
    "    Duration.append(i.text)\n",
    "else:\n",
    "    pass\n",
    "\n",
    "# Extracting stop details via Xpath\n",
    "stop = driver.find_elements(By.XPATH,\"//div[@class='stop-cont pl-13']/div/span\")\n",
    "for i in tqdm(stop):\n",
    "    Stops.append(i.text)\n",
    "else:\n",
    "    pass\n",
    "\n",
    "# Extracting Price of Flights via Xpath\n",
    "count = 0\n",
    "price = driver.find_elements(By.XPATH,'//div[@class=\"i-b tipsy fare-summary-tooltip fs-18\"]')\n",
    "for i in tqdm(price):\n",
    "    Price.append(i.text.replace(',',''))\n",
    "    count = count +1\n",
    "else:\n",
    "    count = count +1\n",
    "    pass\n",
    "\n",
    "# Clicking on Flights details element\n",
    "Button = driver.find_elements(By.XPATH,'//div[@class=\"link-color fs-12 cursor-pointer\"]/span')\n",
    "driver.execute_script(\"arguments[0].click();\", WebDriverWait(driver, 20).until(EC.element_to_be_clickable((By.XPATH,'//div[@class=\"link-color fs-12 cursor-pointer\"]/span'))))\n",
    "time.sleep(1)\n",
    "\n",
    "# Extracting Date of Flights via Xpath\n",
    "date = driver.find_element(By.XPATH,'//div[@class=\"bold fs-12 mb-5\"]')\n",
    "a = date.text\n",
    "for i in tqdm(range(count-1)):\n",
    "    Date.append(a)\n",
    "else:\n",
    "    pass"
   ]
  },
  {
   "cell_type": "markdown",
   "id": "c0001149",
   "metadata": {},
   "source": [
    "# Extracting Business class flights from Bombay to New Delhi"
   ]
  },
  {
   "cell_type": "markdown",
   "id": "76f65067",
   "metadata": {},
   "source": [
    "* **Flights for date 13th Jan 2023**"
   ]
  },
  {
   "cell_type": "code",
   "execution_count": 160,
   "id": "819b22a0",
   "metadata": {},
   "outputs": [],
   "source": [
    "url30 = \"https://flight.yatra.com/air-search-ui/dom2/trigger?ADT=1&CHD=0&INF=0&class=Business&destination=DEL&destinationCountry=IN&flexi=0&flight_depart_date=13%2F01%2F2023&hb=0&noOfSegments=1&origin=BOM&originCountry=IN&type=O&unique=830850636035&version=1.1&viewName=normal\"\n",
    "driver.get(url30)"
   ]
  },
  {
   "cell_type": "code",
   "execution_count": 161,
   "id": "20f3f416",
   "metadata": {},
   "outputs": [
    {
     "name": "stderr",
     "output_type": "stream",
     "text": [
      "100%|██████████████████████████████████████████████████████████████████████████████████| 50/50 [00:16<00:00,  2.95it/s]\n"
     ]
    }
   ],
   "source": [
    "from tqdm import tqdm\n",
    "for _ in tqdm (range(0,50)):\n",
    "    time.sleep(0.1)\n",
    "    driver.execute_script(\"window.scrollBy(0,2000)\",\"\")\n",
    "    time.sleep(0.2)\n",
    "    driver.execute_script(\"window.scrollBy(0,-500)\",\"\")"
   ]
  },
  {
   "cell_type": "code",
   "execution_count": 162,
   "id": "bba2a3ee",
   "metadata": {},
   "outputs": [
    {
     "data": {
      "text/plain": [
       "74"
      ]
     },
     "execution_count": 162,
     "metadata": {},
     "output_type": "execute_result"
    }
   ],
   "source": [
    "flights=driver.find_elements(By.XPATH,'//div[@class=\"fs-13 airline-name no-pad col-8\"]')\n",
    "len(flights)"
   ]
  },
  {
   "cell_type": "code",
   "execution_count": 163,
   "id": "a2ce5d13",
   "metadata": {},
   "outputs": [
    {
     "name": "stderr",
     "output_type": "stream",
     "text": [
      "100%|█████████████████████████████████████████████████████████████████████████████████| 74/74 [00:00<00:00, 104.63it/s]\n",
      "100%|██████████████████████████████████████████████████████████████████████████████████| 74/74 [00:00<00:00, 95.45it/s]\n",
      "100%|██████████████████████████████████████████████████████████████████████████████████| 74/74 [00:00<00:00, 89.73it/s]\n",
      "100%|██████████████████████████████████████████████████████████████████████████████████| 74/74 [00:00<00:00, 83.54it/s]\n",
      "100%|██████████████████████████████████████████████████████████████████████████████████| 74/74 [00:00<00:00, 78.74it/s]\n",
      "100%|██████████████████████████████████████████████████████████████████████████████████| 74/74 [00:01<00:00, 73.91it/s]\n",
      "100%|██████████████████████████████████████████████████████████████████████████████████| 74/74 [00:01<00:00, 69.19it/s]\n",
      "100%|██████████████████████████████████████████████████████████████████████████████████| 74/74 [00:01<00:00, 64.91it/s]\n",
      "100%|██████████████████████████████████████████████████████████████████████████████████████████| 74/74 [00:00<?, ?it/s]\n"
     ]
    }
   ],
   "source": [
    "# Extracting Airlines Name Via Xpath\n",
    "airlines = driver.find_elements(By.XPATH,\"//div[@class='fs-13 airline-name no-pad col-8']/span\")\n",
    "for i in airlines:\n",
    "    Airlines.append(i.text.replace(\"\\n\",\" \"))\n",
    "else :\n",
    "    pass\n",
    "\n",
    "# Extracting Aeroplane model  via xpath\n",
    "aeroplanes = driver.find_elements(By.XPATH,'//p[@class=\"normal fs-11 font-lightestgrey no-wrap fl-no\"]/span')\n",
    "for i in tqdm(aeroplanes):\n",
    "    Flight_No.append(i.text) \n",
    "else:\n",
    "    pass\n",
    "\n",
    "# Extracting Departure Time of Filght via Xpath\n",
    "dept_times = driver.find_elements(By.XPATH,'//div[@class=\"i-b pr\"]')\n",
    "for i in tqdm(dept_times):\n",
    "    Dept_time.append(i.text)\n",
    "else :\n",
    "    pass\n",
    "\n",
    "# Extracting Arrival Time via xpath\n",
    "arrival = driver.find_elements(By.XPATH,'//p[@class=\"bold fs-15 mb-2 pr time\"]')\n",
    "for i in tqdm(arrival):\n",
    "    Arrival_time.append(i.text)\n",
    "else :\n",
    "    pass\n",
    "\n",
    "# Extracting Source of flight via Xpath\n",
    "source = driver.find_elements(By.XPATH,\"//div[@class='i-b col-4 no-wrap text-right dtime col-3']/p\")\n",
    "for i in tqdm(source):\n",
    "    Source.append(i.text)\n",
    "else :\n",
    "    pass\n",
    "\n",
    "# Extracting Destination of Flights via Xpath\n",
    "destination = driver.find_elements(By.XPATH,'//div[@class=\"i-b pdd-0 text-left atime col-5\"]/p[2]')\n",
    "for i in tqdm(destination):\n",
    "    Destination.append(i.text)\n",
    "else:\n",
    "    pass\n",
    "\n",
    "# Extracting Duration of Flights via Xpath\n",
    "duration = driver.find_elements(By.XPATH,'//div[@class=\"stop-cont pl-13\"]/p')\n",
    "for i in tqdm(duration):\n",
    "    Duration.append(i.text)\n",
    "else:\n",
    "    pass\n",
    "\n",
    "# Extracting stop details via Xpath\n",
    "stop = driver.find_elements(By.XPATH,\"//div[@class='stop-cont pl-13']/div/span\")\n",
    "for i in tqdm(stop):\n",
    "    Stops.append(i.text)\n",
    "else:\n",
    "    pass\n",
    "\n",
    "# Extracting Price of Flights via Xpath\n",
    "count = 0\n",
    "price = driver.find_elements(By.XPATH,'//div[@class=\"i-b tipsy fare-summary-tooltip fs-18\"]')\n",
    "for i in tqdm(price):\n",
    "    Price.append(i.text.replace(',',''))\n",
    "    count = count +1\n",
    "else:\n",
    "    count = count +1\n",
    "    pass\n",
    "\n",
    "# Clicking on Flights details element\n",
    "Button = driver.find_elements(By.XPATH,'//div[@class=\"link-color fs-12 cursor-pointer\"]/span')\n",
    "driver.execute_script(\"arguments[0].click();\", WebDriverWait(driver, 20).until(EC.element_to_be_clickable((By.XPATH,'//div[@class=\"link-color fs-12 cursor-pointer\"]/span'))))\n",
    "time.sleep(1)\n",
    "\n",
    "# Extracting Date of Flights via Xpath\n",
    "date = driver.find_element(By.XPATH,'//div[@class=\"bold fs-12 mb-5\"]')\n",
    "a = date.text\n",
    "for i in tqdm(range(count-1)):\n",
    "    Date.append(a)\n",
    "else:\n",
    "    pass"
   ]
  },
  {
   "cell_type": "markdown",
   "id": "1b998d84",
   "metadata": {},
   "source": [
    "* **Flights for date 14thJan2023**"
   ]
  },
  {
   "cell_type": "code",
   "execution_count": 164,
   "id": "1d08fbe3",
   "metadata": {},
   "outputs": [],
   "source": [
    "url31 = \"https://flight.yatra.com/air-search-ui/dom2/trigger?ADT=1&CHD=0&INF=0&class=Business&destination=DEL&destinationCountry=IN&flexi=0&flight_depart_date=14%2F01%2F2023&hb=0&noOfSegments=1&origin=BOM&originCountry=IN&type=O&unique=297147749277&version=1.1&viewName=normal\"\n",
    "driver.get(url31)"
   ]
  },
  {
   "cell_type": "code",
   "execution_count": 165,
   "id": "514597ea",
   "metadata": {},
   "outputs": [
    {
     "name": "stderr",
     "output_type": "stream",
     "text": [
      "100%|██████████████████████████████████████████████████████████████████████████████████| 50/50 [00:16<00:00,  2.99it/s]\n"
     ]
    }
   ],
   "source": [
    "from tqdm import tqdm\n",
    "for _ in tqdm (range(0,50)):\n",
    "    time.sleep(0.1)\n",
    "    driver.execute_script(\"window.scrollBy(0,2000)\",\"\")\n",
    "    time.sleep(0.2)\n",
    "    driver.execute_script(\"window.scrollBy(0,-500)\",\"\")"
   ]
  },
  {
   "cell_type": "code",
   "execution_count": 166,
   "id": "c4fe7f81",
   "metadata": {},
   "outputs": [
    {
     "data": {
      "text/plain": [
       "76"
      ]
     },
     "execution_count": 166,
     "metadata": {},
     "output_type": "execute_result"
    }
   ],
   "source": [
    "flights=driver.find_elements(By.XPATH,'//div[@class=\"fs-13 airline-name no-pad col-8\"]')\n",
    "len(flights)"
   ]
  },
  {
   "cell_type": "code",
   "execution_count": 167,
   "id": "5c79bc81",
   "metadata": {},
   "outputs": [
    {
     "name": "stderr",
     "output_type": "stream",
     "text": [
      "100%|█████████████████████████████████████████████████████████████████████████████████| 76/76 [00:00<00:00, 104.00it/s]\n",
      "100%|██████████████████████████████████████████████████████████████████████████████████| 76/76 [00:00<00:00, 94.83it/s]\n",
      "100%|██████████████████████████████████████████████████████████████████████████████████| 76/76 [00:00<00:00, 89.01it/s]\n",
      "100%|██████████████████████████████████████████████████████████████████████████████████| 76/76 [00:00<00:00, 83.46it/s]\n",
      "100%|██████████████████████████████████████████████████████████████████████████████████| 76/76 [00:00<00:00, 77.12it/s]\n",
      "100%|██████████████████████████████████████████████████████████████████████████████████| 76/76 [00:01<00:00, 72.41it/s]\n",
      "100%|██████████████████████████████████████████████████████████████████████████████████| 76/76 [00:01<00:00, 69.12it/s]\n",
      "100%|██████████████████████████████████████████████████████████████████████████████████| 76/76 [00:01<00:00, 62.88it/s]\n",
      "100%|██████████████████████████████████████████████████████████████████████████████████████████| 76/76 [00:00<?, ?it/s]\n"
     ]
    }
   ],
   "source": [
    "# Extracting Airlines Name Via Xpath\n",
    "airlines = driver.find_elements(By.XPATH,\"//div[@class='fs-13 airline-name no-pad col-8']/span\")\n",
    "for i in airlines:\n",
    "    Airlines.append(i.text.replace(\"\\n\",\" \"))\n",
    "else :\n",
    "    pass\n",
    "\n",
    "# Extracting Aeroplane model  via xpath\n",
    "aeroplanes = driver.find_elements(By.XPATH,'//p[@class=\"normal fs-11 font-lightestgrey no-wrap fl-no\"]/span')\n",
    "for i in tqdm(aeroplanes):\n",
    "    Flight_No.append(i.text) \n",
    "else:\n",
    "    pass\n",
    "\n",
    "# Extracting Departure Time of Filght via Xpath\n",
    "dept_times = driver.find_elements(By.XPATH,'//div[@class=\"i-b pr\"]')\n",
    "for i in tqdm(dept_times):\n",
    "    Dept_time.append(i.text)\n",
    "else :\n",
    "    pass\n",
    "\n",
    "# Extracting Arrival Time via xpath\n",
    "arrival = driver.find_elements(By.XPATH,'//p[@class=\"bold fs-15 mb-2 pr time\"]')\n",
    "for i in tqdm(arrival):\n",
    "    Arrival_time.append(i.text)\n",
    "else :\n",
    "    pass\n",
    "\n",
    "# Extracting Source of flight via Xpath\n",
    "source = driver.find_elements(By.XPATH,\"//div[@class='i-b col-4 no-wrap text-right dtime col-3']/p\")\n",
    "for i in tqdm(source):\n",
    "    Source.append(i.text)\n",
    "else :\n",
    "    pass\n",
    "\n",
    "# Extracting Destination of Flights via Xpath\n",
    "destination = driver.find_elements(By.XPATH,'//div[@class=\"i-b pdd-0 text-left atime col-5\"]/p[2]')\n",
    "for i in tqdm(destination):\n",
    "    Destination.append(i.text)\n",
    "else:\n",
    "    pass\n",
    "\n",
    "# Extracting Duration of Flights via Xpath\n",
    "duration = driver.find_elements(By.XPATH,'//div[@class=\"stop-cont pl-13\"]/p')\n",
    "for i in tqdm(duration):\n",
    "    Duration.append(i.text)\n",
    "else:\n",
    "    pass\n",
    "\n",
    "# Extracting stop details via Xpath\n",
    "stop = driver.find_elements(By.XPATH,\"//div[@class='stop-cont pl-13']/div/span\")\n",
    "for i in tqdm(stop):\n",
    "    Stops.append(i.text)\n",
    "else:\n",
    "    pass\n",
    "\n",
    "# Extracting Price of Flights via Xpath\n",
    "count = 0\n",
    "price = driver.find_elements(By.XPATH,'//div[@class=\"i-b tipsy fare-summary-tooltip fs-18\"]')\n",
    "for i in tqdm(price):\n",
    "    Price.append(i.text.replace(',',''))\n",
    "    count = count +1\n",
    "else:\n",
    "    count = count +1\n",
    "    pass\n",
    "\n",
    "# Clicking on Flights details element\n",
    "Button = driver.find_elements(By.XPATH,'//div[@class=\"link-color fs-12 cursor-pointer\"]/span')\n",
    "driver.execute_script(\"arguments[0].click();\", WebDriverWait(driver, 20).until(EC.element_to_be_clickable((By.XPATH,'//div[@class=\"link-color fs-12 cursor-pointer\"]/span'))))\n",
    "time.sleep(1)\n",
    "\n",
    "# Extracting Date of Flights via Xpath\n",
    "date = driver.find_element(By.XPATH,'//div[@class=\"bold fs-12 mb-5\"]')\n",
    "a = date.text\n",
    "for i in tqdm(range(count-1)):\n",
    "    Date.append(a)\n",
    "else:\n",
    "    pass"
   ]
  },
  {
   "cell_type": "markdown",
   "id": "9de3dfbe",
   "metadata": {},
   "source": [
    "* **Flights for date 15thJan2023**"
   ]
  },
  {
   "cell_type": "code",
   "execution_count": 168,
   "id": "d42fb499",
   "metadata": {},
   "outputs": [],
   "source": [
    "url32 = \"https://flight.yatra.com/air-search-ui/dom2/trigger?ADT=1&CHD=0&INF=0&class=Business&destination=DEL&destinationCountry=IN&flexi=0&flight_depart_date=15%2F01%2F2023&hb=0&noOfSegments=1&origin=BOM&originCountry=IN&type=O&unique=500926618626&version=1.1&viewName=normal\"\n",
    "driver.get(url32)"
   ]
  },
  {
   "cell_type": "code",
   "execution_count": 169,
   "id": "97c3a41a",
   "metadata": {},
   "outputs": [
    {
     "name": "stderr",
     "output_type": "stream",
     "text": [
      "100%|██████████████████████████████████████████████████████████████████████████████████| 50/50 [00:16<00:00,  2.95it/s]\n"
     ]
    }
   ],
   "source": [
    "from tqdm import tqdm\n",
    "for _ in tqdm (range(0,50)):\n",
    "    time.sleep(0.1)\n",
    "    driver.execute_script(\"window.scrollBy(0,2000)\",\"\")\n",
    "    time.sleep(0.2)\n",
    "    driver.execute_script(\"window.scrollBy(0,-500)\",\"\")"
   ]
  },
  {
   "cell_type": "code",
   "execution_count": 170,
   "id": "01d2680b",
   "metadata": {},
   "outputs": [
    {
     "data": {
      "text/plain": [
       "80"
      ]
     },
     "execution_count": 170,
     "metadata": {},
     "output_type": "execute_result"
    }
   ],
   "source": [
    "flights=driver.find_elements(By.XPATH,'//div[@class=\"fs-13 airline-name no-pad col-8\"]')\n",
    "len(flights)"
   ]
  },
  {
   "cell_type": "code",
   "execution_count": 171,
   "id": "aabc93e0",
   "metadata": {},
   "outputs": [
    {
     "name": "stderr",
     "output_type": "stream",
     "text": [
      "100%|█████████████████████████████████████████████████████████████████████████████████| 80/80 [00:00<00:00, 102.16it/s]\n",
      "100%|██████████████████████████████████████████████████████████████████████████████████| 80/80 [00:00<00:00, 94.60it/s]\n",
      "100%|██████████████████████████████████████████████████████████████████████████████████| 80/80 [00:00<00:00, 87.46it/s]\n",
      "100%|██████████████████████████████████████████████████████████████████████████████████| 80/80 [00:00<00:00, 82.04it/s]\n",
      "100%|██████████████████████████████████████████████████████████████████████████████████| 80/80 [00:01<00:00, 76.45it/s]\n",
      "100%|██████████████████████████████████████████████████████████████████████████████████| 80/80 [00:01<00:00, 71.81it/s]\n",
      "100%|██████████████████████████████████████████████████████████████████████████████████| 80/80 [00:01<00:00, 67.24it/s]\n",
      "100%|██████████████████████████████████████████████████████████████████████████████████| 80/80 [00:01<00:00, 61.52it/s]\n",
      "100%|██████████████████████████████████████████████████████████████████████████████████████████| 80/80 [00:00<?, ?it/s]\n"
     ]
    }
   ],
   "source": [
    "# Extracting Airlines Name Via Xpath\n",
    "airlines = driver.find_elements(By.XPATH,\"//div[@class='fs-13 airline-name no-pad col-8']/span\")\n",
    "for i in airlines:\n",
    "    Airlines.append(i.text.replace(\"\\n\",\" \"))\n",
    "else :\n",
    "    pass\n",
    "\n",
    "# Extracting Aeroplane model  via xpath\n",
    "aeroplanes = driver.find_elements(By.XPATH,'//p[@class=\"normal fs-11 font-lightestgrey no-wrap fl-no\"]/span')\n",
    "for i in tqdm(aeroplanes):\n",
    "    Flight_No.append(i.text) \n",
    "else:\n",
    "    pass\n",
    "\n",
    "# Extracting Departure Time of Filght via Xpath\n",
    "dept_times = driver.find_elements(By.XPATH,'//div[@class=\"i-b pr\"]')\n",
    "for i in tqdm(dept_times):\n",
    "    Dept_time.append(i.text)\n",
    "else :\n",
    "    pass\n",
    "\n",
    "# Extracting Arrival Time via xpath\n",
    "arrival = driver.find_elements(By.XPATH,'//p[@class=\"bold fs-15 mb-2 pr time\"]')\n",
    "for i in tqdm(arrival):\n",
    "    Arrival_time.append(i.text)\n",
    "else :\n",
    "    pass\n",
    "\n",
    "# Extracting Source of flight via Xpath\n",
    "source = driver.find_elements(By.XPATH,\"//div[@class='i-b col-4 no-wrap text-right dtime col-3']/p\")\n",
    "for i in tqdm(source):\n",
    "    Source.append(i.text)\n",
    "else :\n",
    "    pass\n",
    "\n",
    "# Extracting Destination of Flights via Xpath\n",
    "destination = driver.find_elements(By.XPATH,'//div[@class=\"i-b pdd-0 text-left atime col-5\"]/p[2]')\n",
    "for i in tqdm(destination):\n",
    "    Destination.append(i.text)\n",
    "else:\n",
    "    pass\n",
    "\n",
    "# Extracting Duration of Flights via Xpath\n",
    "duration = driver.find_elements(By.XPATH,'//div[@class=\"stop-cont pl-13\"]/p')\n",
    "for i in tqdm(duration):\n",
    "    Duration.append(i.text)\n",
    "else:\n",
    "    pass\n",
    "\n",
    "# Extracting stop details via Xpath\n",
    "stop = driver.find_elements(By.XPATH,\"//div[@class='stop-cont pl-13']/div/span\")\n",
    "for i in tqdm(stop):\n",
    "    Stops.append(i.text)\n",
    "else:\n",
    "    pass\n",
    "\n",
    "# Extracting Price of Flights via Xpath\n",
    "count = 0\n",
    "price = driver.find_elements(By.XPATH,'//div[@class=\"i-b tipsy fare-summary-tooltip fs-18\"]')\n",
    "for i in tqdm(price):\n",
    "    Price.append(i.text.replace(',',''))\n",
    "    count = count +1\n",
    "else:\n",
    "    count = count +1\n",
    "    pass\n",
    "\n",
    "# Clicking on Flights details element\n",
    "Button = driver.find_elements(By.XPATH,'//div[@class=\"link-color fs-12 cursor-pointer\"]/span')\n",
    "driver.execute_script(\"arguments[0].click();\", WebDriverWait(driver, 20).until(EC.element_to_be_clickable((By.XPATH,'//div[@class=\"link-color fs-12 cursor-pointer\"]/span'))))\n",
    "time.sleep(1)\n",
    "\n",
    "# Extracting Date of Flights via Xpath\n",
    "date = driver.find_element(By.XPATH,'//div[@class=\"bold fs-12 mb-5\"]')\n",
    "a = date.text\n",
    "for i in tqdm(range(count-1)):\n",
    "    Date.append(a)\n",
    "else:\n",
    "    pass"
   ]
  },
  {
   "cell_type": "markdown",
   "id": "de763bba",
   "metadata": {},
   "source": [
    "* **Flights for date 16th Jan 2023**"
   ]
  },
  {
   "cell_type": "code",
   "execution_count": 172,
   "id": "080c1a38",
   "metadata": {},
   "outputs": [],
   "source": [
    "url33 = \"https://flight.yatra.com/air-search-ui/dom2/trigger?ADT=1&CHD=0&INF=0&class=Business&destination=DEL&destinationCountry=IN&flexi=0&flight_depart_date=16%2F01%2F2023&hb=0&noOfSegments=1&origin=BOM&originCountry=IN&type=O&unique=595137870298&version=1.1&viewName=normal\"\n",
    "driver.get(url33)"
   ]
  },
  {
   "cell_type": "code",
   "execution_count": 173,
   "id": "65a774fb",
   "metadata": {},
   "outputs": [
    {
     "name": "stderr",
     "output_type": "stream",
     "text": [
      "100%|██████████████████████████████████████████████████████████████████████████████████| 50/50 [00:16<00:00,  2.98it/s]\n"
     ]
    }
   ],
   "source": [
    "from tqdm import tqdm\n",
    "for _ in tqdm (range(0,50)):\n",
    "    time.sleep(0.1)\n",
    "    driver.execute_script(\"window.scrollBy(0,2000)\",\"\")\n",
    "    time.sleep(0.2)\n",
    "    driver.execute_script(\"window.scrollBy(0,-500)\",\"\")"
   ]
  },
  {
   "cell_type": "code",
   "execution_count": 174,
   "id": "340534f8",
   "metadata": {},
   "outputs": [
    {
     "data": {
      "text/plain": [
       "80"
      ]
     },
     "execution_count": 174,
     "metadata": {},
     "output_type": "execute_result"
    }
   ],
   "source": [
    "flights=driver.find_elements(By.XPATH,'//div[@class=\"fs-13 airline-name no-pad col-8\"]')\n",
    "len(flights)"
   ]
  },
  {
   "cell_type": "code",
   "execution_count": 175,
   "id": "e63029a1",
   "metadata": {},
   "outputs": [
    {
     "name": "stderr",
     "output_type": "stream",
     "text": [
      "100%|█████████████████████████████████████████████████████████████████████████████████| 80/80 [00:00<00:00, 103.30it/s]\n",
      "100%|██████████████████████████████████████████████████████████████████████████████████| 80/80 [00:00<00:00, 94.88it/s]\n",
      "100%|██████████████████████████████████████████████████████████████████████████████████| 80/80 [00:00<00:00, 87.92it/s]\n",
      "100%|██████████████████████████████████████████████████████████████████████████████████| 80/80 [00:00<00:00, 81.46it/s]\n",
      "100%|██████████████████████████████████████████████████████████████████████████████████| 80/80 [00:01<00:00, 76.54it/s]\n",
      "100%|██████████████████████████████████████████████████████████████████████████████████| 80/80 [00:01<00:00, 72.20it/s]\n",
      "100%|██████████████████████████████████████████████████████████████████████████████████| 80/80 [00:01<00:00, 67.11it/s]\n",
      "100%|██████████████████████████████████████████████████████████████████████████████████| 80/80 [00:01<00:00, 60.90it/s]\n",
      "100%|███████████████████████████████████████████████████████████████████████████████| 80/80 [00:00<00:00, 80273.76it/s]\n"
     ]
    }
   ],
   "source": [
    "# Extracting Airlines Name Via Xpath\n",
    "airlines = driver.find_elements(By.XPATH,\"//div[@class='fs-13 airline-name no-pad col-8']/span\")\n",
    "for i in airlines:\n",
    "    Airlines.append(i.text.replace(\"\\n\",\" \"))\n",
    "else :\n",
    "    pass\n",
    "\n",
    "# Extracting Aeroplane model  via xpath\n",
    "aeroplanes = driver.find_elements(By.XPATH,'//p[@class=\"normal fs-11 font-lightestgrey no-wrap fl-no\"]/span')\n",
    "for i in tqdm(aeroplanes):\n",
    "    Flight_No.append(i.text) \n",
    "else:\n",
    "    pass\n",
    "\n",
    "# Extracting Departure Time of Filght via Xpath\n",
    "dept_times = driver.find_elements(By.XPATH,'//div[@class=\"i-b pr\"]')\n",
    "for i in tqdm(dept_times):\n",
    "    Dept_time.append(i.text)\n",
    "else :\n",
    "    pass\n",
    "\n",
    "# Extracting Arrival Time via xpath\n",
    "arrival = driver.find_elements(By.XPATH,'//p[@class=\"bold fs-15 mb-2 pr time\"]')\n",
    "for i in tqdm(arrival):\n",
    "    Arrival_time.append(i.text)\n",
    "else :\n",
    "    pass\n",
    "\n",
    "# Extracting Source of flight via Xpath\n",
    "source = driver.find_elements(By.XPATH,\"//div[@class='i-b col-4 no-wrap text-right dtime col-3']/p\")\n",
    "for i in tqdm(source):\n",
    "    Source.append(i.text)\n",
    "else :\n",
    "    pass\n",
    "\n",
    "# Extracting Destination of Flights via Xpath\n",
    "destination = driver.find_elements(By.XPATH,'//div[@class=\"i-b pdd-0 text-left atime col-5\"]/p[2]')\n",
    "for i in tqdm(destination):\n",
    "    Destination.append(i.text)\n",
    "else:\n",
    "    pass\n",
    "\n",
    "# Extracting Duration of Flights via Xpath\n",
    "duration = driver.find_elements(By.XPATH,'//div[@class=\"stop-cont pl-13\"]/p')\n",
    "for i in tqdm(duration):\n",
    "    Duration.append(i.text)\n",
    "else:\n",
    "    pass\n",
    "\n",
    "# Extracting stop details via Xpath\n",
    "stop = driver.find_elements(By.XPATH,\"//div[@class='stop-cont pl-13']/div/span\")\n",
    "for i in tqdm(stop):\n",
    "    Stops.append(i.text)\n",
    "else:\n",
    "    pass\n",
    "\n",
    "# Extracting Price of Flights via Xpath\n",
    "count = 0\n",
    "price = driver.find_elements(By.XPATH,'//div[@class=\"i-b tipsy fare-summary-tooltip fs-18\"]')\n",
    "for i in tqdm(price):\n",
    "    Price.append(i.text.replace(',',''))\n",
    "    count = count +1\n",
    "else:\n",
    "    count = count +1\n",
    "    pass\n",
    "\n",
    "# Clicking on Flights details element\n",
    "Button = driver.find_elements(By.XPATH,'//div[@class=\"link-color fs-12 cursor-pointer\"]/span')\n",
    "driver.execute_script(\"arguments[0].click();\", WebDriverWait(driver, 20).until(EC.element_to_be_clickable((By.XPATH,'//div[@class=\"link-color fs-12 cursor-pointer\"]/span'))))\n",
    "time.sleep(1)\n",
    "\n",
    "# Extracting Date of Flights via Xpath\n",
    "date = driver.find_element(By.XPATH,'//div[@class=\"bold fs-12 mb-5\"]')\n",
    "a = date.text\n",
    "for i in tqdm(range(count-1)):\n",
    "    Date.append(a)\n",
    "else:\n",
    "    pass"
   ]
  },
  {
   "cell_type": "markdown",
   "id": "e08111d4",
   "metadata": {},
   "source": [
    "# Saving file in excel"
   ]
  },
  {
   "cell_type": "code",
   "execution_count": 176,
   "id": "c8e33b49",
   "metadata": {},
   "outputs": [],
   "source": [
    "import pandas as pd\n",
    "import numpy as np"
   ]
  },
  {
   "cell_type": "code",
   "execution_count": 177,
   "id": "6f4b337f",
   "metadata": {},
   "outputs": [
    {
     "data": {
      "text/html": [
       "<div>\n",
       "<style scoped>\n",
       "    .dataframe tbody tr th:only-of-type {\n",
       "        vertical-align: middle;\n",
       "    }\n",
       "\n",
       "    .dataframe tbody tr th {\n",
       "        vertical-align: top;\n",
       "    }\n",
       "\n",
       "    .dataframe thead th {\n",
       "        text-align: right;\n",
       "    }\n",
       "</style>\n",
       "<table border=\"1\" class=\"dataframe\">\n",
       "  <thead>\n",
       "    <tr style=\"text-align: right;\">\n",
       "      <th></th>\n",
       "      <th>Airline</th>\n",
       "      <th>Flight_No</th>\n",
       "      <th>Date</th>\n",
       "      <th>Departure_Time</th>\n",
       "      <th>Arrival_Time</th>\n",
       "      <th>Source</th>\n",
       "      <th>Destination</th>\n",
       "      <th>Stops</th>\n",
       "      <th>Duration</th>\n",
       "      <th>Price</th>\n",
       "    </tr>\n",
       "  </thead>\n",
       "  <tbody>\n",
       "    <tr>\n",
       "      <th>0</th>\n",
       "      <td>IndiGo</td>\n",
       "      <td>6E-2519</td>\n",
       "      <td>Fri, 6 Jan 2023</td>\n",
       "      <td>23:00</td>\n",
       "      <td>01:20\\n+ 1 day</td>\n",
       "      <td>New Delhi</td>\n",
       "      <td>Mumbai</td>\n",
       "      <td>Non Stop</td>\n",
       "      <td>2h 20m</td>\n",
       "      <td>5899</td>\n",
       "    </tr>\n",
       "    <tr>\n",
       "      <th>1</th>\n",
       "      <td>Go First</td>\n",
       "      <td>G8-336</td>\n",
       "      <td>Fri, 6 Jan 2023</td>\n",
       "      <td>17:35</td>\n",
       "      <td>19:45</td>\n",
       "      <td>New Delhi</td>\n",
       "      <td>Mumbai</td>\n",
       "      <td>Non Stop</td>\n",
       "      <td>2h 10m</td>\n",
       "      <td>6502</td>\n",
       "    </tr>\n",
       "    <tr>\n",
       "      <th>2</th>\n",
       "      <td>Go First</td>\n",
       "      <td>G8-323</td>\n",
       "      <td>Fri, 6 Jan 2023</td>\n",
       "      <td>18:40</td>\n",
       "      <td>20:55</td>\n",
       "      <td>New Delhi</td>\n",
       "      <td>Mumbai</td>\n",
       "      <td>Non Stop</td>\n",
       "      <td>2h 15m</td>\n",
       "      <td>6502</td>\n",
       "    </tr>\n",
       "    <tr>\n",
       "      <th>3</th>\n",
       "      <td>Vistara</td>\n",
       "      <td>UK-933</td>\n",
       "      <td>Fri, 6 Jan 2023</td>\n",
       "      <td>15:30</td>\n",
       "      <td>17:35</td>\n",
       "      <td>New Delhi</td>\n",
       "      <td>Mumbai</td>\n",
       "      <td>Non Stop</td>\n",
       "      <td>2h 05m</td>\n",
       "      <td>6795</td>\n",
       "    </tr>\n",
       "    <tr>\n",
       "      <th>4</th>\n",
       "      <td>Vistara</td>\n",
       "      <td>UK-955</td>\n",
       "      <td>Fri, 6 Jan 2023</td>\n",
       "      <td>17:45</td>\n",
       "      <td>19:55</td>\n",
       "      <td>New Delhi</td>\n",
       "      <td>Mumbai</td>\n",
       "      <td>Non Stop</td>\n",
       "      <td>2h 10m</td>\n",
       "      <td>6795</td>\n",
       "    </tr>\n",
       "  </tbody>\n",
       "</table>\n",
       "</div>"
      ],
      "text/plain": [
       "    Airline Flight_No             Date Departure_Time    Arrival_Time  \\\n",
       "0    IndiGo   6E-2519  Fri, 6 Jan 2023          23:00  01:20\\n+ 1 day   \n",
       "1  Go First    G8-336  Fri, 6 Jan 2023          17:35           19:45   \n",
       "2  Go First    G8-323  Fri, 6 Jan 2023          18:40           20:55   \n",
       "3   Vistara    UK-933  Fri, 6 Jan 2023          15:30           17:35   \n",
       "4   Vistara    UK-955  Fri, 6 Jan 2023          17:45           19:55   \n",
       "\n",
       "      Source Destination     Stops Duration Price  \n",
       "0  New Delhi      Mumbai  Non Stop   2h 20m  5899  \n",
       "1  New Delhi      Mumbai  Non Stop   2h 10m  6502  \n",
       "2  New Delhi      Mumbai  Non Stop   2h 15m  6502  \n",
       "3  New Delhi      Mumbai  Non Stop   2h 05m  6795  \n",
       "4  New Delhi      Mumbai  Non Stop   2h 10m  6795  "
      ]
     },
     "execution_count": 177,
     "metadata": {},
     "output_type": "execute_result"
    }
   ],
   "source": [
    "Flight=pd.DataFrame()\n",
    "Flight[\"Airline\"]=Airlines\n",
    "Flight['Flight_No'] = Flight_No\n",
    "Flight[\"Date\"]=Date\n",
    "Flight[\"Departure_Time\"]=Dept_time\n",
    "Flight[\"Arrival_Time\"]=Arrival_time\n",
    "Flight[\"Source\"]=Source\n",
    "Flight[\"Destination\"]=Destination\n",
    "Flight[\"Stops\"]=Stops\n",
    "Flight[\"Duration\"]=Duration\n",
    "Flight[\"Price\"]=Price\n",
    "Flight.head()"
   ]
  },
  {
   "cell_type": "code",
   "execution_count": 178,
   "id": "9db02d81",
   "metadata": {},
   "outputs": [
    {
     "data": {
      "text/html": [
       "<div>\n",
       "<style scoped>\n",
       "    .dataframe tbody tr th:only-of-type {\n",
       "        vertical-align: middle;\n",
       "    }\n",
       "\n",
       "    .dataframe tbody tr th {\n",
       "        vertical-align: top;\n",
       "    }\n",
       "\n",
       "    .dataframe thead th {\n",
       "        text-align: right;\n",
       "    }\n",
       "</style>\n",
       "<table border=\"1\" class=\"dataframe\">\n",
       "  <thead>\n",
       "    <tr style=\"text-align: right;\">\n",
       "      <th></th>\n",
       "      <th>Airline</th>\n",
       "      <th>Flight_No</th>\n",
       "      <th>Date</th>\n",
       "      <th>Departure_Time</th>\n",
       "      <th>Arrival_Time</th>\n",
       "      <th>Source</th>\n",
       "      <th>Destination</th>\n",
       "      <th>Stops</th>\n",
       "      <th>Duration</th>\n",
       "      <th>Price</th>\n",
       "    </tr>\n",
       "  </thead>\n",
       "  <tbody>\n",
       "    <tr>\n",
       "      <th>0</th>\n",
       "      <td>IndiGo</td>\n",
       "      <td>6E-2519</td>\n",
       "      <td>Fri, 6 Jan 2023</td>\n",
       "      <td>23:00</td>\n",
       "      <td>01:20\\n+ 1 day</td>\n",
       "      <td>New Delhi</td>\n",
       "      <td>Mumbai</td>\n",
       "      <td>Non Stop</td>\n",
       "      <td>2h 20m</td>\n",
       "      <td>5899</td>\n",
       "    </tr>\n",
       "    <tr>\n",
       "      <th>1</th>\n",
       "      <td>Go First</td>\n",
       "      <td>G8-336</td>\n",
       "      <td>Fri, 6 Jan 2023</td>\n",
       "      <td>17:35</td>\n",
       "      <td>19:45</td>\n",
       "      <td>New Delhi</td>\n",
       "      <td>Mumbai</td>\n",
       "      <td>Non Stop</td>\n",
       "      <td>2h 10m</td>\n",
       "      <td>6502</td>\n",
       "    </tr>\n",
       "    <tr>\n",
       "      <th>2</th>\n",
       "      <td>Go First</td>\n",
       "      <td>G8-323</td>\n",
       "      <td>Fri, 6 Jan 2023</td>\n",
       "      <td>18:40</td>\n",
       "      <td>20:55</td>\n",
       "      <td>New Delhi</td>\n",
       "      <td>Mumbai</td>\n",
       "      <td>Non Stop</td>\n",
       "      <td>2h 15m</td>\n",
       "      <td>6502</td>\n",
       "    </tr>\n",
       "    <tr>\n",
       "      <th>3</th>\n",
       "      <td>Vistara</td>\n",
       "      <td>UK-933</td>\n",
       "      <td>Fri, 6 Jan 2023</td>\n",
       "      <td>15:30</td>\n",
       "      <td>17:35</td>\n",
       "      <td>New Delhi</td>\n",
       "      <td>Mumbai</td>\n",
       "      <td>Non Stop</td>\n",
       "      <td>2h 05m</td>\n",
       "      <td>6795</td>\n",
       "    </tr>\n",
       "    <tr>\n",
       "      <th>4</th>\n",
       "      <td>Vistara</td>\n",
       "      <td>UK-955</td>\n",
       "      <td>Fri, 6 Jan 2023</td>\n",
       "      <td>17:45</td>\n",
       "      <td>19:55</td>\n",
       "      <td>New Delhi</td>\n",
       "      <td>Mumbai</td>\n",
       "      <td>Non Stop</td>\n",
       "      <td>2h 10m</td>\n",
       "      <td>6795</td>\n",
       "    </tr>\n",
       "    <tr>\n",
       "      <th>...</th>\n",
       "      <td>...</td>\n",
       "      <td>...</td>\n",
       "      <td>...</td>\n",
       "      <td>...</td>\n",
       "      <td>...</td>\n",
       "      <td>...</td>\n",
       "      <td>...</td>\n",
       "      <td>...</td>\n",
       "      <td>...</td>\n",
       "      <td>...</td>\n",
       "    </tr>\n",
       "    <tr>\n",
       "      <th>2427</th>\n",
       "      <td>Vistara Business</td>\n",
       "      <td>UK-843/848</td>\n",
       "      <td>Mon, 16 Jan 2023</td>\n",
       "      <td>20:55</td>\n",
       "      <td>17:05\\n+ 1 day</td>\n",
       "      <td>Mumbai</td>\n",
       "      <td>New Delhi</td>\n",
       "      <td>1 Stop</td>\n",
       "      <td>20h 10m</td>\n",
       "      <td>55572</td>\n",
       "    </tr>\n",
       "    <tr>\n",
       "      <th>2428</th>\n",
       "      <td>Vistara Business</td>\n",
       "      <td>UK-877/880</td>\n",
       "      <td>Mon, 16 Jan 2023</td>\n",
       "      <td>10:45</td>\n",
       "      <td>15:35</td>\n",
       "      <td>Mumbai</td>\n",
       "      <td>New Delhi</td>\n",
       "      <td>1 Stop</td>\n",
       "      <td>4h 50m</td>\n",
       "      <td>55684</td>\n",
       "    </tr>\n",
       "    <tr>\n",
       "      <th>2429</th>\n",
       "      <td>Vistara Business</td>\n",
       "      <td>UK-877/890</td>\n",
       "      <td>Mon, 16 Jan 2023</td>\n",
       "      <td>10:45</td>\n",
       "      <td>19:55</td>\n",
       "      <td>Mumbai</td>\n",
       "      <td>New Delhi</td>\n",
       "      <td>1 Stop</td>\n",
       "      <td>9h 10m</td>\n",
       "      <td>55684</td>\n",
       "    </tr>\n",
       "    <tr>\n",
       "      <th>2430</th>\n",
       "      <td>Vistara Business</td>\n",
       "      <td>UK-873/880</td>\n",
       "      <td>Mon, 16 Jan 2023</td>\n",
       "      <td>06:20</td>\n",
       "      <td>15:35</td>\n",
       "      <td>Mumbai</td>\n",
       "      <td>New Delhi</td>\n",
       "      <td>1 Stop</td>\n",
       "      <td>9h 15m</td>\n",
       "      <td>55684</td>\n",
       "    </tr>\n",
       "    <tr>\n",
       "      <th>2431</th>\n",
       "      <td>Vistara Business</td>\n",
       "      <td>UK-841/848</td>\n",
       "      <td>Mon, 16 Jan 2023</td>\n",
       "      <td>11:25</td>\n",
       "      <td>17:05</td>\n",
       "      <td>Mumbai</td>\n",
       "      <td>New Delhi</td>\n",
       "      <td>1 Stop</td>\n",
       "      <td>5h 40m</td>\n",
       "      <td>56238</td>\n",
       "    </tr>\n",
       "  </tbody>\n",
       "</table>\n",
       "<p>2432 rows × 10 columns</p>\n",
       "</div>"
      ],
      "text/plain": [
       "               Airline   Flight_No              Date Departure_Time  \\\n",
       "0               IndiGo     6E-2519   Fri, 6 Jan 2023          23:00   \n",
       "1             Go First      G8-336   Fri, 6 Jan 2023          17:35   \n",
       "2             Go First      G8-323   Fri, 6 Jan 2023          18:40   \n",
       "3              Vistara      UK-933   Fri, 6 Jan 2023          15:30   \n",
       "4              Vistara      UK-955   Fri, 6 Jan 2023          17:45   \n",
       "...                ...         ...               ...            ...   \n",
       "2427  Vistara Business  UK-843/848  Mon, 16 Jan 2023          20:55   \n",
       "2428  Vistara Business  UK-877/880  Mon, 16 Jan 2023          10:45   \n",
       "2429  Vistara Business  UK-877/890  Mon, 16 Jan 2023          10:45   \n",
       "2430  Vistara Business  UK-873/880  Mon, 16 Jan 2023          06:20   \n",
       "2431  Vistara Business  UK-841/848  Mon, 16 Jan 2023          11:25   \n",
       "\n",
       "        Arrival_Time     Source Destination     Stops Duration  Price  \n",
       "0     01:20\\n+ 1 day  New Delhi      Mumbai  Non Stop   2h 20m   5899  \n",
       "1              19:45  New Delhi      Mumbai  Non Stop   2h 10m   6502  \n",
       "2              20:55  New Delhi      Mumbai  Non Stop   2h 15m   6502  \n",
       "3              17:35  New Delhi      Mumbai  Non Stop   2h 05m   6795  \n",
       "4              19:55  New Delhi      Mumbai  Non Stop   2h 10m   6795  \n",
       "...              ...        ...         ...       ...      ...    ...  \n",
       "2427  17:05\\n+ 1 day     Mumbai   New Delhi    1 Stop  20h 10m  55572  \n",
       "2428           15:35     Mumbai   New Delhi    1 Stop   4h 50m  55684  \n",
       "2429           19:55     Mumbai   New Delhi    1 Stop   9h 10m  55684  \n",
       "2430           15:35     Mumbai   New Delhi    1 Stop   9h 15m  55684  \n",
       "2431           17:05     Mumbai   New Delhi    1 Stop   5h 40m  56238  \n",
       "\n",
       "[2432 rows x 10 columns]"
      ]
     },
     "execution_count": 178,
     "metadata": {},
     "output_type": "execute_result"
    }
   ],
   "source": [
    "Flight"
   ]
  },
  {
   "cell_type": "code",
   "execution_count": 179,
   "id": "6ae8b8c0",
   "metadata": {},
   "outputs": [],
   "source": [
    "Flight.to_csv('Flight_Price_dataset.csv')"
   ]
  },
  {
   "cell_type": "code",
   "execution_count": 180,
   "id": "4b9c8ea9",
   "metadata": {},
   "outputs": [],
   "source": [
    "Flight.to_excel('Flight_Price_dataset.xlsx')"
   ]
  },
  {
   "cell_type": "code",
   "execution_count": null,
   "id": "8295399d",
   "metadata": {},
   "outputs": [],
   "source": []
  }
 ],
 "metadata": {
  "kernelspec": {
   "display_name": "Python 3 (ipykernel)",
   "language": "python",
   "name": "python3"
  },
  "language_info": {
   "codemirror_mode": {
    "name": "ipython",
    "version": 3
   },
   "file_extension": ".py",
   "mimetype": "text/x-python",
   "name": "python",
   "nbconvert_exporter": "python",
   "pygments_lexer": "ipython3",
   "version": "3.9.12"
  }
 },
 "nbformat": 4,
 "nbformat_minor": 5
}
