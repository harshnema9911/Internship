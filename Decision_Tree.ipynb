{
 "cells": [
  {
   "cell_type": "code",
   "execution_count": null,
   "id": "3164c65a",
   "metadata": {},
   "outputs": [],
   "source": [
    "import pandas as pd\n",
    "import numpy as np\n",
    "from sklearn.preprocessing import StandardScaler,OrdinalEncoder\n",
    "from sklearn.model_selection import train_test_split,GridSearchCV\n",
    "from sklearn.tree import DecisionTreeClassifier\n",
    "from sklearn.metrics import accuracy_score,confusion_matrix,roc_curve,roc_auc_score,classification_report\n",
    "import matplotlib.pyplot as plt\n",
    "import seaborn as sns\n",
    "import warnings\n",
    "warnings.filterwarnings('ignore')\n"
   ]
  },
  {
   "cell_type": "code",
   "execution_count": null,
   "id": "96b8eb99",
   "metadata": {},
   "outputs": [],
   "source": [
    "df = pd.read_csv('wine.csv')"
   ]
  },
  {
   "cell_type": "code",
   "execution_count": null,
   "id": "84e3b4dd",
   "metadata": {},
   "outputs": [],
   "source": [
    "df.head()"
   ]
  },
  {
   "cell_type": "code",
   "execution_count": null,
   "id": "ad75d020",
   "metadata": {},
   "outputs": [],
   "source": [
    "df.shape"
   ]
  },
  {
   "cell_type": "code",
   "execution_count": null,
   "id": "41775c51",
   "metadata": {},
   "outputs": [],
   "source": [
    "df.describe()"
   ]
  },
  {
   "cell_type": "code",
   "execution_count": null,
   "id": "b450dcec",
   "metadata": {},
   "outputs": [],
   "source": [
    "ord_enc = OrdinalEncoder(categories = [['Low','Medium','High']])\n",
    "\n",
    "df1= ord_enc.fit_transform(df[['Alcohol_content']])"
   ]
  },
  {
   "cell_type": "code",
   "execution_count": null,
   "id": "9ad85015",
   "metadata": {},
   "outputs": [],
   "source": [
    "df['Alcohol_content'] = df1"
   ]
  },
  {
   "cell_type": "code",
   "execution_count": null,
   "id": "feb9a4b9",
   "metadata": {},
   "outputs": [],
   "source": [
    "df.head()"
   ]
  },
  {
   "cell_type": "code",
   "execution_count": null,
   "id": "dc2eddba",
   "metadata": {},
   "outputs": [],
   "source": [
    "plt.figure(figsize = (15,20))\n",
    "plotnumber=1\n",
    "\n",
    "for column in df:\n",
    "    if plotnumber<=13:\n",
    "        ax = plt.subplot(5,3,plotnumber)\n",
    "        sns.distplot(df[column])\n",
    "        plt.xlabel(column,fontsize =10)\n",
    "    plotnumber+=1\n",
    "plt.show()"
   ]
  },
  {
   "cell_type": "markdown",
   "id": "8934dd15",
   "metadata": {},
   "source": [
    "# Plotting heatmap (Correlation Matrix)"
   ]
  },
  {
   "cell_type": "code",
   "execution_count": null,
   "id": "86122b19",
   "metadata": {},
   "outputs": [],
   "source": [
    "df_corr = df.corr().abs()\n",
    "\n",
    "plt.figure(figsize = (14,10))\n",
    "\n",
    "sns.heatmap(df_corr,annot = True,annot_kws = {'size':10})\n",
    "\n",
    "plt.show()"
   ]
  },
  {
   "cell_type": "markdown",
   "id": "755b51f1",
   "metadata": {},
   "source": [
    "Seems like Alcohol_content and alcohol are strongly correlated as per above heatmap. But we need more proof"
   ]
  },
  {
   "cell_type": "code",
   "execution_count": null,
   "id": "ca400ad6",
   "metadata": {},
   "outputs": [],
   "source": [
    "plt.scatter(df.alcohol,df.Alcohol_content)\n",
    "plt.xlabel('Alcohol')\n",
    "plt.ylabel('Alcohol_Content')\n",
    "plt.title('Relationship between Alcohol vs Alcohol_Content')\n",
    "plt.show()"
   ]
  },
  {
   "cell_type": "markdown",
   "id": "76265832",
   "metadata": {},
   "source": [
    "We see clear trend. As and when alcohol level increases its content also increasing. So we can delete one of them. Which one has less correlation cofficient with label Alohol = .48 and Alcohol_content =.4 . so we can delete Alcohol_content"
   ]
  },
  {
   "cell_type": "code",
   "execution_count": null,
   "id": "496524c4",
   "metadata": {},
   "outputs": [],
   "source": [
    "X = df.drop(columns =['quality','Alcohol_content'])\n",
    "y = df.quality"
   ]
  },
  {
   "cell_type": "code",
   "execution_count": null,
   "id": "c8165810",
   "metadata": {},
   "outputs": [],
   "source": [
    "x_train,x_test,y_train,y_test = train_test_split(X,y,test_size = .25,random_state = 256)"
   ]
  },
  {
   "cell_type": "code",
   "execution_count": null,
   "id": "118e74d6",
   "metadata": {},
   "outputs": [],
   "source": [
    "def metric_score(clf,x_train,x_test,y_train,y_test,train = True):\n",
    "    if train:\n",
    "        y_pred = clf.predict(x_train)\n",
    "        \n",
    "        print(\"-----------------Train Result--------------------\")\n",
    "        \n",
    "        print(f\"Accuracy Score : {accuracy_score(y_train,y_pred)*100:.2f}%\")\n",
    "        \n",
    "    elif train == False:\n",
    "        \n",
    "        pred = clf.predict(x_test)\n",
    "        \n",
    "        print(\"-----------------Test Result--------------------\")\n",
    "        \n",
    "        print(f\"Accuracy Score : {accuracy_score(y_test,pred)*100:.2f}%\")\n",
    "        \n",
    "        print(\"\\n Test Classification Report \\n \", classification_report(y_test,pred,digits =2))\n",
    "        \n",
    "        "
   ]
  },
  {
   "cell_type": "code",
   "execution_count": null,
   "id": "a36e8897",
   "metadata": {},
   "outputs": [],
   "source": [
    "# Model initiation\n",
    "\n",
    "clf = DecisionTreeClassifier()\n",
    "\n",
    "clf.fit(x_train,y_train)"
   ]
  },
  {
   "cell_type": "code",
   "execution_count": null,
   "id": "ff7039e9",
   "metadata": {},
   "outputs": [],
   "source": [
    "metric_score(clf,x_train,x_test,y_train,y_test,train = True)\n",
    "\n",
    "metric_score(clf,x_train,x_test,y_train,y_test,train = False)"
   ]
  },
  {
   "cell_type": "markdown",
   "id": "3e62ed64",
   "metadata": {},
   "source": [
    "# Hyperparameter Tuning"
   ]
  },
  {
   "cell_type": "code",
   "execution_count": null,
   "id": "c8fca079",
   "metadata": {},
   "outputs": [],
   "source": [
    "grid_param = {'criterion': ['gini','entropy'],\n",
    "             'max_depth': range(6,20),\n",
    "              'min_samples_leaf': range(2,10),\n",
    "              'min_samples_split': range(3,15),\n",
    "              'max_leaf_nodes': range(5,30)\n",
    "             }"
   ]
  },
  {
   "cell_type": "code",
   "execution_count": null,
   "id": "ae1ad25a",
   "metadata": {},
   "outputs": [],
   "source": [
    "grid_search = GridSearchCV(estimator = clf, param_grid = grid_param,cv = 5, n_jobs =-1)"
   ]
  },
  {
   "cell_type": "code",
   "execution_count": null,
   "id": "7bd5674f",
   "metadata": {},
   "outputs": [],
   "source": [
    "grid_search.fit(x_train,y_train)"
   ]
  },
  {
   "cell_type": "code",
   "execution_count": null,
   "id": "9ab423db",
   "metadata": {},
   "outputs": [],
   "source": [
    "best_parameters = grid_search.best_params_\n",
    "print(best_parameters)"
   ]
  },
  {
   "cell_type": "code",
   "execution_count": null,
   "id": "c4379f6c",
   "metadata": {},
   "outputs": [],
   "source": [
    "clf = DecisionTreeClassifier(criterion ='gini', max_depth =9, min_samples_leaf = 8, min_samples_split = 3, max_leaf_nodes = 50)\n",
    "\n",
    "clf.fit(x_train,y_train)"
   ]
  },
  {
   "cell_type": "code",
   "execution_count": null,
   "id": "3920cd27",
   "metadata": {},
   "outputs": [],
   "source": [
    "metric_score(clf,x_train,x_test,y_train,y_test,train = True)\n",
    "\n",
    "metric_score(clf,x_train,x_test,y_train,y_test,train = False)"
   ]
  },
  {
   "cell_type": "code",
   "execution_count": null,
   "id": "a4f8c562",
   "metadata": {},
   "outputs": [],
   "source": []
  }
 ],
 "metadata": {
  "kernelspec": {
   "display_name": "Python 3 (ipykernel)",
   "language": "python",
   "name": "python3"
  },
  "language_info": {
   "codemirror_mode": {
    "name": "ipython",
    "version": 3
   },
   "file_extension": ".py",
   "mimetype": "text/x-python",
   "name": "python",
   "nbconvert_exporter": "python",
   "pygments_lexer": "ipython3",
   "version": "3.9.12"
  }
 },
 "nbformat": 4,
 "nbformat_minor": 5
}
