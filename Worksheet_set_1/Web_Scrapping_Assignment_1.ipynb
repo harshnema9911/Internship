{
 "cells": [
  {
   "cell_type": "code",
   "execution_count": 1,
   "id": "6d0cb7da",
   "metadata": {},
   "outputs": [
    {
     "name": "stdout",
     "output_type": "stream",
     "text": [
      "Requirement already satisfied: bs4 in c:\\users\\admin\\anaconda3\\lib\\site-packages (0.0.1)\n",
      "Requirement already satisfied: beautifulsoup4 in c:\\users\\admin\\anaconda3\\lib\\site-packages (from bs4) (4.11.1)\n",
      "Requirement already satisfied: soupsieve>1.2 in c:\\users\\admin\\anaconda3\\lib\\site-packages (from beautifulsoup4->bs4) (2.3.1)\n",
      "Requirement already satisfied: requests in c:\\users\\admin\\anaconda3\\lib\\site-packages (2.27.1)\n",
      "Requirement already satisfied: idna<4,>=2.5 in c:\\users\\admin\\anaconda3\\lib\\site-packages (from requests) (3.3)\n",
      "Requirement already satisfied: charset-normalizer~=2.0.0 in c:\\users\\admin\\anaconda3\\lib\\site-packages (from requests) (2.0.4)\n",
      "Requirement already satisfied: certifi>=2017.4.17 in c:\\users\\admin\\anaconda3\\lib\\site-packages (from requests) (2021.10.8)\n",
      "Requirement already satisfied: urllib3<1.27,>=1.21.1 in c:\\users\\admin\\anaconda3\\lib\\site-packages (from requests) (1.26.9)\n"
     ]
    }
   ],
   "source": [
    "!pip install bs4\n",
    "!pip install requests"
   ]
  },
  {
   "cell_type": "code",
   "execution_count": 2,
   "id": "48b5ac37",
   "metadata": {},
   "outputs": [],
   "source": [
    "from bs4 import BeautifulSoup\n",
    "import requests"
   ]
  },
  {
   "cell_type": "code",
   "execution_count": 3,
   "id": "0c346242",
   "metadata": {},
   "outputs": [],
   "source": [
    "#Q 1)Write a python program to display all the header tags from wikipedia.org\n",
    "\n",
    "page = requests.get(\"https://en.wikipedia.org/wiki/Main_Page\")"
   ]
  },
  {
   "cell_type": "code",
   "execution_count": 4,
   "id": "7bfe8d5d",
   "metadata": {},
   "outputs": [
    {
     "data": {
      "text/plain": [
       "<Response [200]>"
      ]
     },
     "execution_count": 4,
     "metadata": {},
     "output_type": "execute_result"
    }
   ],
   "source": [
    "page"
   ]
  },
  {
   "cell_type": "code",
   "execution_count": 5,
   "id": "fcc0c250",
   "metadata": {},
   "outputs": [],
   "source": [
    "soup_wiki = BeautifulSoup(page.content)"
   ]
  },
  {
   "cell_type": "code",
   "execution_count": null,
   "id": "10d992d9",
   "metadata": {},
   "outputs": [],
   "source": [
    "soup_wiki"
   ]
  },
  {
   "cell_type": "code",
   "execution_count": 8,
   "id": "fb746a99",
   "metadata": {},
   "outputs": [
    {
     "name": "stdout",
     "output_type": "stream",
     "text": [
      "List all the header tags:\n",
      "\n",
      "<h1 class=\"firstHeading mw-first-heading\" id=\"firstHeading\" style=\"display: none\"><span class=\"mw-page-title-main\">Main Page</span></h1>\n",
      "\n",
      "<h1><span class=\"mw-headline\" id=\"Welcome_to_Wikipedia\">Welcome to <a href=\"/wiki/Wikipedia\" title=\"Wikipedia\">Wikipedia</a></span></h1>\n",
      "\n",
      "<h2 class=\"mp-h2\" id=\"mp-tfa-h2\"><span id=\"From_today.27s_featured_article\"></span><span class=\"mw-headline\" id=\"From_today's_featured_article\">From today's featured article</span></h2>\n",
      "\n",
      "<h2 class=\"mp-h2\" id=\"mp-dyk-h2\"><span class=\"mw-headline\" id=\"Did_you_know_...\">Did you know ...</span></h2>\n",
      "\n",
      "<h2 class=\"mp-h2\" id=\"mp-itn-h2\"><span class=\"mw-headline\" id=\"In_the_news\">In the news</span></h2>\n",
      "\n",
      "<h2 class=\"mp-h2\" id=\"mp-otd-h2\"><span class=\"mw-headline\" id=\"On_this_day\">On this day</span></h2>\n",
      "\n",
      "<h2 class=\"mp-h2\" id=\"mp-tfl-h2\"><span id=\"From_today.27s_featured_list\"></span><span class=\"mw-headline\" id=\"From_today's_featured_list\">From today's featured list</span></h2>\n",
      "\n",
      "<h2 class=\"mp-h2\" id=\"mp-tfp-h2\"><span id=\"Today.27s_featured_picture\"></span><span class=\"mw-headline\" id=\"Today's_featured_picture\">Today's featured picture</span></h2>\n",
      "\n",
      "<h2 class=\"mp-h2\" id=\"mp-other\"><span class=\"mw-headline\" id=\"Other_areas_of_Wikipedia\">Other areas of Wikipedia</span></h2>\n",
      "\n",
      "<h2 class=\"mp-h2\" id=\"mp-sister\"><span id=\"Wikipedia.27s_sister_projects\"></span><span class=\"mw-headline\" id=\"Wikipedia's_sister_projects\">Wikipedia's sister projects</span></h2>\n",
      "\n",
      "<h2 class=\"mp-h2\" id=\"mp-lang\"><span class=\"mw-headline\" id=\"Wikipedia_languages\">Wikipedia languages</span></h2>\n",
      "\n",
      "<h2>Navigation menu</h2>\n",
      "\n",
      "<h3 class=\"vector-menu-heading\" id=\"p-personal-label\">\n",
      "<span class=\"vector-menu-heading-label\">Personal tools</span>\n",
      "</h3>\n",
      "\n",
      "<h3 class=\"vector-menu-heading\" id=\"p-namespaces-label\">\n",
      "<span class=\"vector-menu-heading-label\">Namespaces</span>\n",
      "</h3>\n",
      "\n",
      "<h3 class=\"vector-menu-heading\" id=\"p-views-label\">\n",
      "<span class=\"vector-menu-heading-label\">Views</span>\n",
      "</h3>\n",
      "\n",
      "<h3>\n",
      "<label for=\"searchInput\">Search</label>\n",
      "</h3>\n",
      "\n",
      "<h3 class=\"vector-menu-heading\" id=\"p-navigation-label\">\n",
      "<span class=\"vector-menu-heading-label\">Navigation</span>\n",
      "</h3>\n",
      "\n",
      "<h3 class=\"vector-menu-heading\" id=\"p-interaction-label\">\n",
      "<span class=\"vector-menu-heading-label\">Contribute</span>\n",
      "</h3>\n",
      "\n",
      "<h3 class=\"vector-menu-heading\" id=\"p-tb-label\">\n",
      "<span class=\"vector-menu-heading-label\">Tools</span>\n",
      "</h3>\n",
      "\n",
      "<h3 class=\"vector-menu-heading\" id=\"p-coll-print_export-label\">\n",
      "<span class=\"vector-menu-heading-label\">Print/export</span>\n",
      "</h3>\n",
      "\n",
      "<h3 class=\"vector-menu-heading\" id=\"p-wikibase-otherprojects-label\">\n",
      "<span class=\"vector-menu-heading-label\">In other projects</span>\n",
      "</h3>\n",
      "\n",
      "<h3 class=\"vector-menu-heading\" id=\"p-lang-label\">\n",
      "<span class=\"vector-menu-heading-label\">Languages</span>\n",
      "</h3>\n"
     ]
    }
   ],
   "source": [
    "titles = soup_wiki.find_all(['h1','h2','h3','h4','h5','h6'])\n",
    "print(\"List all the header tags:\",*titles,sep='\\n\\n')"
   ]
  },
  {
   "cell_type": "code",
   "execution_count": 9,
   "id": "7893dbea",
   "metadata": {},
   "outputs": [],
   "source": [
    "#Q 2)  & 3) Write a python program to display IMDB’s Top rated 100 movies’ data (i.e. name, rating, year of release)\n",
    "#and make data frame.\n",
    "\n",
    "imdb = requests.get('https://www.imdb.com/chart/top/?ref_=nv_mv_250')"
   ]
  },
  {
   "cell_type": "code",
   "execution_count": null,
   "id": "86e7e852",
   "metadata": {},
   "outputs": [],
   "source": [
    "imdb"
   ]
  },
  {
   "cell_type": "code",
   "execution_count": 10,
   "id": "96942116",
   "metadata": {},
   "outputs": [],
   "source": [
    "soup_imdb = BeautifulSoup(imdb.content)\n"
   ]
  },
  {
   "cell_type": "code",
   "execution_count": 11,
   "id": "d3778dfe",
   "metadata": {},
   "outputs": [
    {
     "data": {
      "text/plain": [
       "['      The Shawshank Redemption',\n",
       " '      The Godfather',\n",
       " '      The Dark Knight',\n",
       " '      The Godfather Part II',\n",
       " '      12 Angry Men',\n",
       " \"      Schindler's List\",\n",
       " '      The Lord of the Rings: The Return of the King',\n",
       " '      Pulp Fiction',\n",
       " '      The Lord of the Rings: The Fellowship of the Ring',\n",
       " '      Il buono, il brutto, il cattivo',\n",
       " '      Forrest Gump',\n",
       " '      Fight Club',\n",
       " '      Inception',\n",
       " '      The Lord of the Rings: The Two Towers',\n",
       " '      The Empire Strikes Back',\n",
       " '      The Matrix',\n",
       " '      Goodfellas',\n",
       " \"      One Flew Over the Cuckoo's Nest\",\n",
       " '      Se7en',\n",
       " '      Shichinin no samurai',\n",
       " \"      It's a Wonderful Life\",\n",
       " '      The Silence of the Lambs',\n",
       " '      Cidade de Deus',\n",
       " '      Saving Private Ryan',\n",
       " '      La vita è bella',\n",
       " '      Interstellar',\n",
       " '      The Green Mile',\n",
       " '      Star Wars',\n",
       " '      Terminator 2: Judgment Day',\n",
       " '      Back to the Future',\n",
       " '      Sen to Chihiro no kamikakushi',\n",
       " '      Psycho',\n",
       " '      The Pianist',\n",
       " '      Gisaengchung',\n",
       " '      Léon',\n",
       " '      The Lion King',\n",
       " '      Gladiator',\n",
       " '      American History X',\n",
       " '      The Departed',\n",
       " '      The Usual Suspects',\n",
       " '      The Prestige',\n",
       " '      Whiplash',\n",
       " '      Casablanca',\n",
       " '      The Intouchables',\n",
       " '      Seppuku',\n",
       " '      Hotaru no haka',\n",
       " '      Modern Times',\n",
       " '      Once Upon a Time in the West',\n",
       " '      Rear Window',\n",
       " '      Alien',\n",
       " '      City Lights',\n",
       " '      Nuovo Cinema Paradiso',\n",
       " '      Apocalypse Now',\n",
       " '      Memento',\n",
       " '      Raiders of the Lost Ark',\n",
       " '      Django Unchained',\n",
       " '      WALL·E',\n",
       " '      The Lives of Others',\n",
       " '      Sunset Blvd.',\n",
       " '      Paths of Glory',\n",
       " '      The Shining',\n",
       " '      The Great Dictator',\n",
       " '      Witness for the Prosecution',\n",
       " '      Avengers: Infinity War',\n",
       " '      Aliens',\n",
       " '      American Beauty',\n",
       " '      Spider-Man: Into the Spider-Verse',\n",
       " '      Dr. Strangelove or: How I Learned to Stop Worrying and Love the Bomb',\n",
       " '      The Dark Knight Rises',\n",
       " '      Oldeuboi',\n",
       " '      Joker',\n",
       " '      Amadeus',\n",
       " '      Inglourious Basterds',\n",
       " '      Toy Story',\n",
       " '      Braveheart',\n",
       " '      Coco',\n",
       " '      Das Boot',\n",
       " '      Avengers: Endgame',\n",
       " '      Mononoke-hime',\n",
       " '      Top Gun: Maverick',\n",
       " '      Once Upon a Time in America',\n",
       " '      Good Will Hunting',\n",
       " '      Kimi no na wa.',\n",
       " '      Requiem for a Dream',\n",
       " '      Toy Story 3',\n",
       " \"      Singin' in the Rain\",\n",
       " '      3 Idiots',\n",
       " '      Tengoku to jigoku',\n",
       " '      Star Wars: Episode VI - Return of the Jedi',\n",
       " '      2001: A Space Odyssey',\n",
       " '      Eternal Sunshine of the Spotless Mind',\n",
       " '      Capharnaüm',\n",
       " '      Reservoir Dogs',\n",
       " '      Jagten',\n",
       " '      Citizen Kane',\n",
       " '      Lawrence of Arabia',\n",
       " '      M - Eine Stadt sucht einen Mörder',\n",
       " '      Idi i smotri',\n",
       " '      North by Northwest',\n",
       " '      Vertigo']"
      ]
     },
     "execution_count": 11,
     "metadata": {},
     "output_type": "execute_result"
    }
   ],
   "source": [
    "Movie_Name = []\n",
    "\n",
    "for i in soup_imdb.find_all('td',class_=\"titleColumn\",limit=100):\n",
    "    Movie_Name.append(i.text.split('\\n')[2])\n",
    "        \n",
    "Movie_Name"
   ]
  },
  {
   "cell_type": "code",
   "execution_count": 12,
   "id": "771a2948",
   "metadata": {},
   "outputs": [
    {
     "data": {
      "text/plain": [
       "['9.2',\n",
       " '9.2',\n",
       " '9.0',\n",
       " '9.0',\n",
       " '9.0',\n",
       " '8.9',\n",
       " '8.9',\n",
       " '8.8',\n",
       " '8.8',\n",
       " '8.8',\n",
       " '8.8',\n",
       " '8.7',\n",
       " '8.7',\n",
       " '8.7',\n",
       " '8.7',\n",
       " '8.7',\n",
       " '8.7',\n",
       " '8.6',\n",
       " '8.6',\n",
       " '8.6',\n",
       " '8.6',\n",
       " '8.6',\n",
       " '8.6',\n",
       " '8.6',\n",
       " '8.6',\n",
       " '8.6',\n",
       " '8.6',\n",
       " '8.6',\n",
       " '8.5',\n",
       " '8.5',\n",
       " '8.5',\n",
       " '8.5',\n",
       " '8.5',\n",
       " '8.5',\n",
       " '8.5',\n",
       " '8.5',\n",
       " '8.5',\n",
       " '8.5',\n",
       " '8.5',\n",
       " '8.5',\n",
       " '8.5',\n",
       " '8.5',\n",
       " '8.5',\n",
       " '8.5',\n",
       " '8.5',\n",
       " '8.5',\n",
       " '8.4',\n",
       " '8.4',\n",
       " '8.4',\n",
       " '8.4',\n",
       " '8.4',\n",
       " '8.4',\n",
       " '8.4',\n",
       " '8.4',\n",
       " '8.4',\n",
       " '8.4',\n",
       " '8.4',\n",
       " '8.4',\n",
       " '8.4',\n",
       " '8.4',\n",
       " '8.4',\n",
       " '8.4',\n",
       " '8.4',\n",
       " '8.4',\n",
       " '8.3',\n",
       " '8.3',\n",
       " '8.3',\n",
       " '8.3',\n",
       " '8.3',\n",
       " '8.3',\n",
       " '8.3',\n",
       " '8.3',\n",
       " '8.3',\n",
       " '8.3',\n",
       " '8.3',\n",
       " '8.3',\n",
       " '8.3',\n",
       " '8.3',\n",
       " '8.3',\n",
       " '8.3',\n",
       " '8.3',\n",
       " '8.3',\n",
       " '8.3',\n",
       " '8.3',\n",
       " '8.3',\n",
       " '8.3',\n",
       " '8.3',\n",
       " '8.3',\n",
       " '8.3',\n",
       " '8.3',\n",
       " '8.3',\n",
       " '8.3',\n",
       " '8.3',\n",
       " '8.3',\n",
       " '8.3',\n",
       " '8.3',\n",
       " '8.3',\n",
       " '8.3',\n",
       " '8.2',\n",
       " '8.2']"
      ]
     },
     "execution_count": 12,
     "metadata": {},
     "output_type": "execute_result"
    }
   ],
   "source": [
    "Rating = []\n",
    "\n",
    "for j in soup_imdb.find_all('td',class_=\"ratingColumn imdbRating\",limit=100):\n",
    "   Rating.append(j.text.split('\\n')[1])\n",
    "        \n",
    "Rating"
   ]
  },
  {
   "cell_type": "code",
   "execution_count": 13,
   "id": "c072baf2",
   "metadata": {},
   "outputs": [
    {
     "data": {
      "text/plain": [
       "['(1994)',\n",
       " '(1972)',\n",
       " '(2008)',\n",
       " '(1974)',\n",
       " '(1957)',\n",
       " '(1993)',\n",
       " '(2003)',\n",
       " '(1994)',\n",
       " '(2001)',\n",
       " '(1966)',\n",
       " '(1994)',\n",
       " '(1999)',\n",
       " '(2010)',\n",
       " '(2002)',\n",
       " '(1980)',\n",
       " '(1999)',\n",
       " '(1990)',\n",
       " '(1975)',\n",
       " '(1995)',\n",
       " '(1954)',\n",
       " '(1946)',\n",
       " '(1991)',\n",
       " '(2002)',\n",
       " '(1998)',\n",
       " '(1997)',\n",
       " '(2014)',\n",
       " '(1999)',\n",
       " '(1977)',\n",
       " '(1991)',\n",
       " '(1985)',\n",
       " '(2001)',\n",
       " '(1960)',\n",
       " '(2002)',\n",
       " '(2019)',\n",
       " '(1994)',\n",
       " '(1994)',\n",
       " '(2000)',\n",
       " '(1998)',\n",
       " '(2006)',\n",
       " '(1995)',\n",
       " '(2006)',\n",
       " '(2014)',\n",
       " '(1942)',\n",
       " '(2011)',\n",
       " '(1962)',\n",
       " '(1988)',\n",
       " '(1936)',\n",
       " '(1968)',\n",
       " '(1954)',\n",
       " '(1979)',\n",
       " '(1931)',\n",
       " '(1988)',\n",
       " '(1979)',\n",
       " '(2000)',\n",
       " '(1981)',\n",
       " '(2012)',\n",
       " '(2008)',\n",
       " '(2006)',\n",
       " '(1950)',\n",
       " '(1957)',\n",
       " '(1980)',\n",
       " '(1940)',\n",
       " '(1957)',\n",
       " '(2018)',\n",
       " '(1986)',\n",
       " '(1999)',\n",
       " '(2018)',\n",
       " '(1964)',\n",
       " '(2012)',\n",
       " '(2003)',\n",
       " '(2019)',\n",
       " '(1984)',\n",
       " '(2009)',\n",
       " '(1995)',\n",
       " '(1995)',\n",
       " '(2017)',\n",
       " '(1981)',\n",
       " '(2019)',\n",
       " '(1997)',\n",
       " '(2022)',\n",
       " '(1984)',\n",
       " '(1997)',\n",
       " '(2016)',\n",
       " '(2000)',\n",
       " '(2010)',\n",
       " '(1952)',\n",
       " '(2009)',\n",
       " '(1963)',\n",
       " '(1983)',\n",
       " '(1968)',\n",
       " '(2004)',\n",
       " '(2018)',\n",
       " '(1992)',\n",
       " '(2012)',\n",
       " '(1941)',\n",
       " '(1962)',\n",
       " '(1931)',\n",
       " '(1985)',\n",
       " '(1959)',\n",
       " '(1958)']"
      ]
     },
     "execution_count": 13,
     "metadata": {},
     "output_type": "execute_result"
    }
   ],
   "source": [
    "Year_of_Release = []\n",
    "\n",
    "for k in soup_imdb.find_all('span',class_=\"secondaryInfo\",limit=100):\n",
    "   Year_of_Release.append(k.text)\n",
    "        \n",
    "Year_of_Release"
   ]
  },
  {
   "cell_type": "code",
   "execution_count": 15,
   "id": "3fad490c",
   "metadata": {},
   "outputs": [
    {
     "data": {
      "text/html": [
       "<div>\n",
       "<style scoped>\n",
       "    .dataframe tbody tr th:only-of-type {\n",
       "        vertical-align: middle;\n",
       "    }\n",
       "\n",
       "    .dataframe tbody tr th {\n",
       "        vertical-align: top;\n",
       "    }\n",
       "\n",
       "    .dataframe thead th {\n",
       "        text-align: right;\n",
       "    }\n",
       "</style>\n",
       "<table border=\"1\" class=\"dataframe\">\n",
       "  <thead>\n",
       "    <tr style=\"text-align: right;\">\n",
       "      <th></th>\n",
       "      <th>Name of Movie</th>\n",
       "      <th>IMDB_Rating</th>\n",
       "      <th>Release_Year</th>\n",
       "    </tr>\n",
       "  </thead>\n",
       "  <tbody>\n",
       "    <tr>\n",
       "      <th>1</th>\n",
       "      <td>The Shawshank Redemption</td>\n",
       "      <td>9.2</td>\n",
       "      <td>(1994)</td>\n",
       "    </tr>\n",
       "    <tr>\n",
       "      <th>2</th>\n",
       "      <td>The Godfather</td>\n",
       "      <td>9.2</td>\n",
       "      <td>(1972)</td>\n",
       "    </tr>\n",
       "    <tr>\n",
       "      <th>3</th>\n",
       "      <td>The Dark Knight</td>\n",
       "      <td>9.0</td>\n",
       "      <td>(2008)</td>\n",
       "    </tr>\n",
       "    <tr>\n",
       "      <th>4</th>\n",
       "      <td>The Godfather Part II</td>\n",
       "      <td>9.0</td>\n",
       "      <td>(1974)</td>\n",
       "    </tr>\n",
       "    <tr>\n",
       "      <th>5</th>\n",
       "      <td>12 Angry Men</td>\n",
       "      <td>9.0</td>\n",
       "      <td>(1957)</td>\n",
       "    </tr>\n",
       "    <tr>\n",
       "      <th>...</th>\n",
       "      <td>...</td>\n",
       "      <td>...</td>\n",
       "      <td>...</td>\n",
       "    </tr>\n",
       "    <tr>\n",
       "      <th>96</th>\n",
       "      <td>Lawrence of Arabia</td>\n",
       "      <td>8.3</td>\n",
       "      <td>(1962)</td>\n",
       "    </tr>\n",
       "    <tr>\n",
       "      <th>97</th>\n",
       "      <td>M - Eine Stadt sucht einen Mörder</td>\n",
       "      <td>8.3</td>\n",
       "      <td>(1931)</td>\n",
       "    </tr>\n",
       "    <tr>\n",
       "      <th>98</th>\n",
       "      <td>Idi i smotri</td>\n",
       "      <td>8.3</td>\n",
       "      <td>(1985)</td>\n",
       "    </tr>\n",
       "    <tr>\n",
       "      <th>99</th>\n",
       "      <td>North by Northwest</td>\n",
       "      <td>8.2</td>\n",
       "      <td>(1959)</td>\n",
       "    </tr>\n",
       "    <tr>\n",
       "      <th>100</th>\n",
       "      <td>Vertigo</td>\n",
       "      <td>8.2</td>\n",
       "      <td>(1958)</td>\n",
       "    </tr>\n",
       "  </tbody>\n",
       "</table>\n",
       "<p>100 rows × 3 columns</p>\n",
       "</div>"
      ],
      "text/plain": [
       "                               Name of Movie IMDB_Rating Release_Year\n",
       "1                   The Shawshank Redemption         9.2       (1994)\n",
       "2                              The Godfather         9.2       (1972)\n",
       "3                            The Dark Knight         9.0       (2008)\n",
       "4                      The Godfather Part II         9.0       (1974)\n",
       "5                               12 Angry Men         9.0       (1957)\n",
       "..                                       ...         ...          ...\n",
       "96                        Lawrence of Arabia         8.3       (1962)\n",
       "97         M - Eine Stadt sucht einen Mörder         8.3       (1931)\n",
       "98                              Idi i smotri         8.3       (1985)\n",
       "99                        North by Northwest         8.2       (1959)\n",
       "100                                  Vertigo         8.2       (1958)\n",
       "\n",
       "[100 rows x 3 columns]"
      ]
     },
     "execution_count": 15,
     "metadata": {},
     "output_type": "execute_result"
    }
   ],
   "source": [
    "import pandas as pd\n",
    "IMDB_Top_100_Movies = pd.DataFrame({'Name of Movie' :Movie_Name, 'IMDB_Rating':Rating, 'Release_Year': Year_of_Release},index=range(1,101))\n",
    "IMDB_Top_100_Movies"
   ]
  },
  {
   "cell_type": "code",
   "execution_count": 16,
   "id": "02c604ca",
   "metadata": {},
   "outputs": [
    {
     "data": {
      "text/plain": [
       "<Response [200]>"
      ]
     },
     "execution_count": 16,
     "metadata": {},
     "output_type": "execute_result"
    }
   ],
   "source": [
    "# Q 4)Write s python program to display list of respected former presidents of India(i.e. Name , Term of office) \n",
    "#from https://presidentofindia.nic.in/former-presidents.htm\n",
    "\n",
    "Prez = requests.get('https://presidentofindia.nic.in/former-presidents.htm')\n",
    "Prez"
   ]
  },
  {
   "cell_type": "code",
   "execution_count": 17,
   "id": "c0283642",
   "metadata": {},
   "outputs": [],
   "source": [
    "soup_Prez = BeautifulSoup(Prez.content)\n"
   ]
  },
  {
   "cell_type": "code",
   "execution_count": 18,
   "id": "3941a5e4",
   "metadata": {},
   "outputs": [
    {
     "data": {
      "text/plain": [
       "['Shri Ram Nath Kovind (birth - 1945)',\n",
       " 'Shri Pranab Mukherjee (1935-2020)',\n",
       " 'Smt Pratibha Devisingh Patil (birth - 1934)',\n",
       " 'DR. A.P.J. Abdul Kalam (1931-2015)',\n",
       " 'Shri K. R. Narayanan (1920 - 2005)',\n",
       " 'Dr Shankar Dayal Sharma (1918-1999)',\n",
       " 'Shri R Venkataraman (1910-2009)',\n",
       " 'Giani Zail Singh (1916-1994)',\n",
       " 'Shri Neelam Sanjiva Reddy (1913-1996)',\n",
       " 'Dr. Fakhruddin Ali Ahmed (1905-1977)',\n",
       " 'Shri Varahagiri Venkata Giri (1894-1980)',\n",
       " 'Dr. Zakir Husain (1897-1969)',\n",
       " 'Dr. Sarvepalli Radhakrishnan (1888-1975)',\n",
       " 'Dr. Rajendra Prasad (1884-1963) ']"
      ]
     },
     "execution_count": 18,
     "metadata": {},
     "output_type": "execute_result"
    }
   ],
   "source": [
    "Prez_name = []\n",
    "\n",
    "for p in soup_Prez.find_all('div',class_=\"presidentListing\"):\n",
    "    Prez_name.append(p.text.split('\\n')[1])\n",
    "Prez_name"
   ]
  },
  {
   "cell_type": "code",
   "execution_count": 19,
   "id": "f09be534",
   "metadata": {},
   "outputs": [
    {
     "data": {
      "text/plain": [
       "[' 25 July, 2017 to 25 July, 2022 ',\n",
       " ' 25 July, 2012 to 25 July, 2017 ',\n",
       " ' 25 July, 2007 to 25 July, 2012 ',\n",
       " ' 25 July, 2002 to 25 July, 2007 ',\n",
       " ' 25 July, 1997 to 25 July, 2002 ',\n",
       " ' 25 July, 1992 to 25 July, 1997 ',\n",
       " ' 25 July, 1987 to 25 July, 1992 ',\n",
       " ' 25 July, 1982 to 25 July, 1987 ',\n",
       " ' 25 July, 1977 to 25 July, 1982 ',\n",
       " ' 24 August, 1974 to 11 February, 1977',\n",
       " ' 3 May, 1969 to 20 July, 1969 and 24 August, 1969 to 24 August, 1974',\n",
       " ' 13 May, 1967 to 3 May, 1969',\n",
       " ' 13 May, 1962 to 13 May, 1967',\n",
       " ' 26 January, 1950 to 13 May, 1962']"
      ]
     },
     "execution_count": 19,
     "metadata": {},
     "output_type": "execute_result"
    }
   ],
   "source": [
    "Prez_term = []\n",
    "\n",
    "for t in soup_Prez.find_all('div',class_=\"presidentListing\"):\n",
    "    Prez_term.append(t.text.split('\\n')[2].split(':')[1])\n",
    "Prez_term"
   ]
  },
  {
   "cell_type": "code",
   "execution_count": 21,
   "id": "5540cc2a",
   "metadata": {},
   "outputs": [
    {
     "data": {
      "text/html": [
       "<div>\n",
       "<style scoped>\n",
       "    .dataframe tbody tr th:only-of-type {\n",
       "        vertical-align: middle;\n",
       "    }\n",
       "\n",
       "    .dataframe tbody tr th {\n",
       "        vertical-align: top;\n",
       "    }\n",
       "\n",
       "    .dataframe thead th {\n",
       "        text-align: right;\n",
       "    }\n",
       "</style>\n",
       "<table border=\"1\" class=\"dataframe\">\n",
       "  <thead>\n",
       "    <tr style=\"text-align: right;\">\n",
       "      <th></th>\n",
       "      <th>Name of Respected President</th>\n",
       "      <th>Term of office</th>\n",
       "    </tr>\n",
       "  </thead>\n",
       "  <tbody>\n",
       "    <tr>\n",
       "      <th>1</th>\n",
       "      <td>Shri Ram Nath Kovind (birth - 1945)</td>\n",
       "      <td>25 July, 2017 to 25 July, 2022</td>\n",
       "    </tr>\n",
       "    <tr>\n",
       "      <th>2</th>\n",
       "      <td>Shri Pranab Mukherjee (1935-2020)</td>\n",
       "      <td>25 July, 2012 to 25 July, 2017</td>\n",
       "    </tr>\n",
       "    <tr>\n",
       "      <th>3</th>\n",
       "      <td>Smt Pratibha Devisingh Patil (birth - 1934)</td>\n",
       "      <td>25 July, 2007 to 25 July, 2012</td>\n",
       "    </tr>\n",
       "    <tr>\n",
       "      <th>4</th>\n",
       "      <td>DR. A.P.J. Abdul Kalam (1931-2015)</td>\n",
       "      <td>25 July, 2002 to 25 July, 2007</td>\n",
       "    </tr>\n",
       "    <tr>\n",
       "      <th>5</th>\n",
       "      <td>Shri K. R. Narayanan (1920 - 2005)</td>\n",
       "      <td>25 July, 1997 to 25 July, 2002</td>\n",
       "    </tr>\n",
       "    <tr>\n",
       "      <th>6</th>\n",
       "      <td>Dr Shankar Dayal Sharma (1918-1999)</td>\n",
       "      <td>25 July, 1992 to 25 July, 1997</td>\n",
       "    </tr>\n",
       "    <tr>\n",
       "      <th>7</th>\n",
       "      <td>Shri R Venkataraman (1910-2009)</td>\n",
       "      <td>25 July, 1987 to 25 July, 1992</td>\n",
       "    </tr>\n",
       "    <tr>\n",
       "      <th>8</th>\n",
       "      <td>Giani Zail Singh (1916-1994)</td>\n",
       "      <td>25 July, 1982 to 25 July, 1987</td>\n",
       "    </tr>\n",
       "    <tr>\n",
       "      <th>9</th>\n",
       "      <td>Shri Neelam Sanjiva Reddy (1913-1996)</td>\n",
       "      <td>25 July, 1977 to 25 July, 1982</td>\n",
       "    </tr>\n",
       "    <tr>\n",
       "      <th>10</th>\n",
       "      <td>Dr. Fakhruddin Ali Ahmed (1905-1977)</td>\n",
       "      <td>24 August, 1974 to 11 February, 1977</td>\n",
       "    </tr>\n",
       "    <tr>\n",
       "      <th>11</th>\n",
       "      <td>Shri Varahagiri Venkata Giri (1894-1980)</td>\n",
       "      <td>3 May, 1969 to 20 July, 1969 and 24 August, 1...</td>\n",
       "    </tr>\n",
       "    <tr>\n",
       "      <th>12</th>\n",
       "      <td>Dr. Zakir Husain (1897-1969)</td>\n",
       "      <td>13 May, 1967 to 3 May, 1969</td>\n",
       "    </tr>\n",
       "    <tr>\n",
       "      <th>13</th>\n",
       "      <td>Dr. Sarvepalli Radhakrishnan (1888-1975)</td>\n",
       "      <td>13 May, 1962 to 13 May, 1967</td>\n",
       "    </tr>\n",
       "    <tr>\n",
       "      <th>14</th>\n",
       "      <td>Dr. Rajendra Prasad (1884-1963)</td>\n",
       "      <td>26 January, 1950 to 13 May, 1962</td>\n",
       "    </tr>\n",
       "  </tbody>\n",
       "</table>\n",
       "</div>"
      ],
      "text/plain": [
       "                    Name of Respected President  \\\n",
       "1           Shri Ram Nath Kovind (birth - 1945)   \n",
       "2             Shri Pranab Mukherjee (1935-2020)   \n",
       "3   Smt Pratibha Devisingh Patil (birth - 1934)   \n",
       "4            DR. A.P.J. Abdul Kalam (1931-2015)   \n",
       "5            Shri K. R. Narayanan (1920 - 2005)   \n",
       "6           Dr Shankar Dayal Sharma (1918-1999)   \n",
       "7               Shri R Venkataraman (1910-2009)   \n",
       "8                  Giani Zail Singh (1916-1994)   \n",
       "9         Shri Neelam Sanjiva Reddy (1913-1996)   \n",
       "10         Dr. Fakhruddin Ali Ahmed (1905-1977)   \n",
       "11     Shri Varahagiri Venkata Giri (1894-1980)   \n",
       "12                 Dr. Zakir Husain (1897-1969)   \n",
       "13     Dr. Sarvepalli Radhakrishnan (1888-1975)   \n",
       "14             Dr. Rajendra Prasad (1884-1963)    \n",
       "\n",
       "                                       Term of office  \n",
       "1                     25 July, 2017 to 25 July, 2022   \n",
       "2                     25 July, 2012 to 25 July, 2017   \n",
       "3                     25 July, 2007 to 25 July, 2012   \n",
       "4                     25 July, 2002 to 25 July, 2007   \n",
       "5                     25 July, 1997 to 25 July, 2002   \n",
       "6                     25 July, 1992 to 25 July, 1997   \n",
       "7                     25 July, 1987 to 25 July, 1992   \n",
       "8                     25 July, 1982 to 25 July, 1987   \n",
       "9                     25 July, 1977 to 25 July, 1982   \n",
       "10               24 August, 1974 to 11 February, 1977  \n",
       "11   3 May, 1969 to 20 July, 1969 and 24 August, 1...  \n",
       "12                        13 May, 1967 to 3 May, 1969  \n",
       "13                       13 May, 1962 to 13 May, 1967  \n",
       "14                   26 January, 1950 to 13 May, 1962  "
      ]
     },
     "execution_count": 21,
     "metadata": {},
     "output_type": "execute_result"
    }
   ],
   "source": [
    "Former_Prez_India = pd.DataFrame({'Name of Respected President':Prez_name,'Term of office':Prez_term},index=range(1,15))\n",
    "Former_Prez_India"
   ]
  },
  {
   "cell_type": "code",
   "execution_count": 22,
   "id": "818a46d1",
   "metadata": {},
   "outputs": [
    {
     "data": {
      "text/plain": [
       "<Response [200]>"
      ]
     },
     "execution_count": 22,
     "metadata": {},
     "output_type": "execute_result"
    }
   ],
   "source": [
    "#Q5) Python program to scrape cricket rankings from icc-cricket.com.\n",
    "\n",
    "#(a)Top 10 ODI teams in men’s cricket along with the records for matches, points and rating\n",
    "\n",
    "icc_men = requests.get('https://www.icc-cricket.com/rankings/mens/team-rankings/odi')\n",
    "icc_men"
   ]
  },
  {
   "cell_type": "code",
   "execution_count": 24,
   "id": "663c4b45",
   "metadata": {},
   "outputs": [],
   "source": [
    "soup_iccMen = BeautifulSoup(icc_men.content)\n"
   ]
  },
  {
   "cell_type": "code",
   "execution_count": 25,
   "id": "e1c76231",
   "metadata": {},
   "outputs": [
    {
     "data": {
      "text/plain": [
       "['England',\n",
       " 'New Zealand',\n",
       " 'India',\n",
       " 'Pakistan',\n",
       " 'Australia',\n",
       " 'South Africa',\n",
       " 'Bangladesh',\n",
       " 'Sri Lanka',\n",
       " 'West Indies',\n",
       " 'Afghanistan']"
      ]
     },
     "execution_count": 25,
     "metadata": {},
     "output_type": "execute_result"
    }
   ],
   "source": [
    "Men_team = []\n",
    "\n",
    "for m in soup_iccMen.find_all('span',class_=\"u-hide-phablet\",limit=10):\n",
    "    Men_team.append(m.text)\n",
    "    \n",
    "Men_team"
   ]
  },
  {
   "cell_type": "code",
   "execution_count": 26,
   "id": "826d3f37",
   "metadata": {},
   "outputs": [
    {
     "data": {
      "text/plain": [
       "'27'"
      ]
     },
     "execution_count": 26,
     "metadata": {},
     "output_type": "execute_result"
    }
   ],
   "source": [
    "men_1m = soup_iccMen.find('td',class_=\"rankings-block__banner--matches\")\n",
    "men_1m.text"
   ]
  },
  {
   "cell_type": "code",
   "execution_count": 27,
   "id": "59a097e2",
   "metadata": {},
   "outputs": [
    {
     "data": {
      "text/plain": [
       "'3,226'"
      ]
     },
     "execution_count": 27,
     "metadata": {},
     "output_type": "execute_result"
    }
   ],
   "source": [
    "men_1p = soup_iccMen.find('td',class_=\"rankings-block__banner--points\")\n",
    "men_1p.text"
   ]
  },
  {
   "cell_type": "code",
   "execution_count": 28,
   "id": "8289a6e0",
   "metadata": {},
   "outputs": [
    {
     "data": {
      "text/plain": [
       "'                            119'"
      ]
     },
     "execution_count": 28,
     "metadata": {},
     "output_type": "execute_result"
    }
   ],
   "source": [
    "men_1r = soup_iccMen.find('td',class_=\"rankings-block__banner--rating u-text-right\")\n",
    "men_1r.text.split('\\n')[1]"
   ]
  },
  {
   "cell_type": "code",
   "execution_count": 29,
   "id": "9a9fd383",
   "metadata": {},
   "outputs": [
    {
     "data": {
      "text/plain": [
       "['22',\n",
       " '2,508',\n",
       " '34',\n",
       " '3,802',\n",
       " '22',\n",
       " '2,354',\n",
       " '29',\n",
       " '3,071',\n",
       " '24',\n",
       " '2,392',\n",
       " '30',\n",
       " '2,753',\n",
       " '29',\n",
       " '2,658',\n",
       " '41',\n",
       " '2,902',\n",
       " '18',\n",
       " '1,238']"
      ]
     },
     "execution_count": 29,
     "metadata": {},
     "output_type": "execute_result"
    }
   ],
   "source": [
    "Men_matches_points = []\n",
    "\n",
    "for m in soup_iccMen.find_all('td',class_=\"table-body__cell u-center-text\",limit=18):\n",
    "    Men_matches_points.append(m.text)\n",
    "    \n",
    "Men_matches_points"
   ]
  },
  {
   "cell_type": "code",
   "execution_count": 30,
   "id": "972bec64",
   "metadata": {},
   "outputs": [
    {
     "data": {
      "text/plain": [
       "['27',\n",
       " '22',\n",
       " '2,508',\n",
       " '34',\n",
       " '3,802',\n",
       " '22',\n",
       " '2,354',\n",
       " '29',\n",
       " '3,071',\n",
       " '24',\n",
       " '2,392',\n",
       " '30',\n",
       " '2,753',\n",
       " '29',\n",
       " '2,658',\n",
       " '41',\n",
       " '2,902',\n",
       " '18',\n",
       " '1,238']"
      ]
     },
     "execution_count": 30,
     "metadata": {},
     "output_type": "execute_result"
    }
   ],
   "source": [
    "Men_matches_points.insert(0,men_1m.text)\n",
    "Men_matches_points                         "
   ]
  },
  {
   "cell_type": "code",
   "execution_count": 31,
   "id": "78f0cba6",
   "metadata": {},
   "outputs": [
    {
     "data": {
      "text/plain": [
       "['27',\n",
       " '3,226',\n",
       " '22',\n",
       " '2,508',\n",
       " '34',\n",
       " '3,802',\n",
       " '22',\n",
       " '2,354',\n",
       " '29',\n",
       " '3,071',\n",
       " '24',\n",
       " '2,392',\n",
       " '30',\n",
       " '2,753',\n",
       " '29',\n",
       " '2,658',\n",
       " '41',\n",
       " '2,902',\n",
       " '18',\n",
       " '1,238']"
      ]
     },
     "execution_count": 31,
     "metadata": {},
     "output_type": "execute_result"
    }
   ],
   "source": [
    "Men_matches_points.insert(1,men_1p.text)\n",
    "Men_matches_points"
   ]
  },
  {
   "cell_type": "code",
   "execution_count": 32,
   "id": "ff0cb53d",
   "metadata": {},
   "outputs": [
    {
     "data": {
      "text/plain": [
       "['27', '22', '34', '22', '29', '24', '30', '29', '41', '18']"
      ]
     },
     "execution_count": 32,
     "metadata": {},
     "output_type": "execute_result"
    }
   ],
   "source": [
    "Men_matches = []\n",
    "Men_matches = Men_matches_points[0:20:2]\n",
    "Men_matches"
   ]
  },
  {
   "cell_type": "code",
   "execution_count": 33,
   "id": "bb9e3e53",
   "metadata": {},
   "outputs": [
    {
     "data": {
      "text/plain": [
       "['3,226',\n",
       " '2,508',\n",
       " '3,802',\n",
       " '2,354',\n",
       " '3,071',\n",
       " '2,392',\n",
       " '2,753',\n",
       " '2,658',\n",
       " '2,902',\n",
       " '1,238']"
      ]
     },
     "execution_count": 33,
     "metadata": {},
     "output_type": "execute_result"
    }
   ],
   "source": [
    "Men_points = []\n",
    "Men_points = Men_matches_points[1::2]\n",
    "Men_points"
   ]
  },
  {
   "cell_type": "code",
   "execution_count": 34,
   "id": "9ce0757a",
   "metadata": {},
   "outputs": [
    {
     "data": {
      "text/plain": [
       "['114', '112', '107', '106', '100', '92', '92', '71', '69']"
      ]
     },
     "execution_count": 34,
     "metadata": {},
     "output_type": "execute_result"
    }
   ],
   "source": [
    "Men_rating = []\n",
    "\n",
    "for m in soup_iccMen.find_all('td',class_=\"table-body__cell u-text-right rating\",limit=9):\n",
    "    Men_rating.append(m.text)\n",
    "    \n",
    "Men_rating"
   ]
  },
  {
   "cell_type": "code",
   "execution_count": 35,
   "id": "9c6af590",
   "metadata": {},
   "outputs": [
    {
     "data": {
      "text/plain": [
       "['                            119',\n",
       " '114',\n",
       " '112',\n",
       " '107',\n",
       " '106',\n",
       " '100',\n",
       " '92',\n",
       " '92',\n",
       " '71',\n",
       " '69']"
      ]
     },
     "execution_count": 35,
     "metadata": {},
     "output_type": "execute_result"
    }
   ],
   "source": [
    "Men_rating.insert(0,men_1r.text.split('\\n')[1])\n",
    "Men_rating"
   ]
  },
  {
   "cell_type": "code",
   "execution_count": 36,
   "id": "ec068cfe",
   "metadata": {},
   "outputs": [
    {
     "data": {
      "text/html": [
       "<div>\n",
       "<style scoped>\n",
       "    .dataframe tbody tr th:only-of-type {\n",
       "        vertical-align: middle;\n",
       "    }\n",
       "\n",
       "    .dataframe tbody tr th {\n",
       "        vertical-align: top;\n",
       "    }\n",
       "\n",
       "    .dataframe thead th {\n",
       "        text-align: right;\n",
       "    }\n",
       "</style>\n",
       "<table border=\"1\" class=\"dataframe\">\n",
       "  <thead>\n",
       "    <tr style=\"text-align: right;\">\n",
       "      <th></th>\n",
       "      <th>TEAM</th>\n",
       "      <th>MATCHES</th>\n",
       "      <th>POINTS</th>\n",
       "      <th>RATING</th>\n",
       "    </tr>\n",
       "  </thead>\n",
       "  <tbody>\n",
       "    <tr>\n",
       "      <th>1</th>\n",
       "      <td>England</td>\n",
       "      <td>27</td>\n",
       "      <td>3,226</td>\n",
       "      <td>119</td>\n",
       "    </tr>\n",
       "    <tr>\n",
       "      <th>2</th>\n",
       "      <td>New Zealand</td>\n",
       "      <td>22</td>\n",
       "      <td>2,508</td>\n",
       "      <td>114</td>\n",
       "    </tr>\n",
       "    <tr>\n",
       "      <th>3</th>\n",
       "      <td>India</td>\n",
       "      <td>34</td>\n",
       "      <td>3,802</td>\n",
       "      <td>112</td>\n",
       "    </tr>\n",
       "    <tr>\n",
       "      <th>4</th>\n",
       "      <td>Pakistan</td>\n",
       "      <td>22</td>\n",
       "      <td>2,354</td>\n",
       "      <td>107</td>\n",
       "    </tr>\n",
       "    <tr>\n",
       "      <th>5</th>\n",
       "      <td>Australia</td>\n",
       "      <td>29</td>\n",
       "      <td>3,071</td>\n",
       "      <td>106</td>\n",
       "    </tr>\n",
       "    <tr>\n",
       "      <th>6</th>\n",
       "      <td>South Africa</td>\n",
       "      <td>24</td>\n",
       "      <td>2,392</td>\n",
       "      <td>100</td>\n",
       "    </tr>\n",
       "    <tr>\n",
       "      <th>7</th>\n",
       "      <td>Bangladesh</td>\n",
       "      <td>30</td>\n",
       "      <td>2,753</td>\n",
       "      <td>92</td>\n",
       "    </tr>\n",
       "    <tr>\n",
       "      <th>8</th>\n",
       "      <td>Sri Lanka</td>\n",
       "      <td>29</td>\n",
       "      <td>2,658</td>\n",
       "      <td>92</td>\n",
       "    </tr>\n",
       "    <tr>\n",
       "      <th>9</th>\n",
       "      <td>West Indies</td>\n",
       "      <td>41</td>\n",
       "      <td>2,902</td>\n",
       "      <td>71</td>\n",
       "    </tr>\n",
       "    <tr>\n",
       "      <th>10</th>\n",
       "      <td>Afghanistan</td>\n",
       "      <td>18</td>\n",
       "      <td>1,238</td>\n",
       "      <td>69</td>\n",
       "    </tr>\n",
       "  </tbody>\n",
       "</table>\n",
       "</div>"
      ],
      "text/plain": [
       "            TEAM MATCHES POINTS                           RATING\n",
       "1        England      27  3,226                              119\n",
       "2    New Zealand      22  2,508                              114\n",
       "3          India      34  3,802                              112\n",
       "4       Pakistan      22  2,354                              107\n",
       "5      Australia      29  3,071                              106\n",
       "6   South Africa      24  2,392                              100\n",
       "7     Bangladesh      30  2,753                               92\n",
       "8      Sri Lanka      29  2,658                               92\n",
       "9    West Indies      41  2,902                               71\n",
       "10   Afghanistan      18  1,238                               69"
      ]
     },
     "execution_count": 36,
     "metadata": {},
     "output_type": "execute_result"
    }
   ],
   "source": [
    "import pandas as pd\n",
    "Top10_ODI = pd.DataFrame({'TEAM':Men_team,'MATCHES':Men_matches,'POINTS':Men_points,'RATING':Men_rating},index=range(1,11))\n",
    "Top10_ODI"
   ]
  },
  {
   "cell_type": "code",
   "execution_count": 37,
   "id": "c9ac67ee",
   "metadata": {},
   "outputs": [
    {
     "data": {
      "text/plain": [
       "<Response [200]>"
      ]
     },
     "execution_count": 37,
     "metadata": {},
     "output_type": "execute_result"
    }
   ],
   "source": [
    "#Q5) Python program to scrape cricket rankings from icc-cricket.com.\n",
    "\n",
    "#(b)Top 10 ODI Batsmen along with the records of their team and rating\n",
    "\n",
    "icc_batsman = requests.get('https://www.icc-cricket.com/rankings/mens/player-rankings/odi')\n",
    "icc_batsman"
   ]
  },
  {
   "cell_type": "code",
   "execution_count": 38,
   "id": "a6530aa1",
   "metadata": {},
   "outputs": [],
   "source": [
    "soup_player = BeautifulSoup(icc_batsman.content)\n"
   ]
  },
  {
   "cell_type": "code",
   "execution_count": 39,
   "id": "a2b3bd9e",
   "metadata": {},
   "outputs": [
    {
     "data": {
      "text/plain": [
       "'Babar Azam'"
      ]
     },
     "execution_count": 39,
     "metadata": {},
     "output_type": "execute_result"
    }
   ],
   "source": [
    "Player_1name = soup_player.find('div',class_=\"rankings-block__banner--name\")\n",
    "Player_1name.text"
   ]
  },
  {
   "cell_type": "code",
   "execution_count": 40,
   "id": "78bf7ff7",
   "metadata": {},
   "outputs": [
    {
     "data": {
      "text/plain": [
       "'PAK'"
      ]
     },
     "execution_count": 40,
     "metadata": {},
     "output_type": "execute_result"
    }
   ],
   "source": [
    "Player_1nation =soup_player.find('div',class_=\"rankings-block__banner--nationality\")\n",
    "Player_1nation.text.split('\\n')[2]"
   ]
  },
  {
   "cell_type": "code",
   "execution_count": 41,
   "id": "a5000c0e",
   "metadata": {},
   "outputs": [
    {
     "data": {
      "text/plain": [
       "'                            890'"
      ]
     },
     "execution_count": 41,
     "metadata": {},
     "output_type": "execute_result"
    }
   ],
   "source": [
    "Player_1rating =soup_player.find('div',class_=\"rankings-block__banner--nationality\")\n",
    "Player_1rating.text.split('\\n')[3]"
   ]
  },
  {
   "cell_type": "code",
   "execution_count": 42,
   "id": "32c73897",
   "metadata": {},
   "outputs": [
    {
     "data": {
      "text/plain": [
       "['Imam-ul-Haq',\n",
       " 'Rassie van der Dussen',\n",
       " 'Quinton de Kock',\n",
       " 'Jonny Bairstow',\n",
       " 'David Warner',\n",
       " 'Virat Kohli',\n",
       " 'Rohit Sharma',\n",
       " 'Ross Taylor',\n",
       " 'Steve Smith']"
      ]
     },
     "execution_count": 42,
     "metadata": {},
     "output_type": "execute_result"
    }
   ],
   "source": [
    "Player_name = []\n",
    "\n",
    "for n in soup_player.find_all('td',class_=\"table-body__cell name\",limit = 9):\n",
    "    Player_name.append(n.text.split('\\n')[1])\n",
    "Player_name"
   ]
  },
  {
   "cell_type": "code",
   "execution_count": 43,
   "id": "5825a968",
   "metadata": {},
   "outputs": [
    {
     "data": {
      "text/plain": [
       "['Babar Azam',\n",
       " 'Imam-ul-Haq',\n",
       " 'Rassie van der Dussen',\n",
       " 'Quinton de Kock',\n",
       " 'Jonny Bairstow',\n",
       " 'David Warner',\n",
       " 'Virat Kohli',\n",
       " 'Rohit Sharma',\n",
       " 'Ross Taylor',\n",
       " 'Steve Smith']"
      ]
     },
     "execution_count": 43,
     "metadata": {},
     "output_type": "execute_result"
    }
   ],
   "source": [
    "Player_name.insert(0,Player_1name.text)\n",
    "Player_name"
   ]
  },
  {
   "cell_type": "code",
   "execution_count": 44,
   "id": "8f0f43a8",
   "metadata": {},
   "outputs": [
    {
     "data": {
      "text/plain": [
       "['PAK', 'SA', 'SA', 'ENG', 'AUS', 'IND', 'IND', 'NZ', 'AUS']"
      ]
     },
     "execution_count": 44,
     "metadata": {},
     "output_type": "execute_result"
    }
   ],
   "source": [
    "Player_nation = []\n",
    "\n",
    "for n in soup_player.find_all('span',class_=\"table-body__logo-text\",limit = 9):\n",
    "    Player_nation.append(n.text)\n",
    "Player_nation"
   ]
  },
  {
   "cell_type": "code",
   "execution_count": 45,
   "id": "ae3db4ab",
   "metadata": {},
   "outputs": [
    {
     "data": {
      "text/plain": [
       "['PAK', 'PAK', 'SA', 'SA', 'ENG', 'AUS', 'IND', 'IND', 'NZ', 'AUS']"
      ]
     },
     "execution_count": 45,
     "metadata": {},
     "output_type": "execute_result"
    }
   ],
   "source": [
    "Player_nation.insert(0,Player_1nation.text.split('\\n')[2])\n",
    "Player_nation"
   ]
  },
  {
   "cell_type": "code",
   "execution_count": 46,
   "id": "ada7618b",
   "metadata": {},
   "outputs": [
    {
     "data": {
      "text/plain": [
       "[['779'],\n",
       " ['766'],\n",
       " ['759'],\n",
       " ['732'],\n",
       " ['725'],\n",
       " ['722'],\n",
       " ['718'],\n",
       " ['701'],\n",
       " ['697']]"
      ]
     },
     "execution_count": 46,
     "metadata": {},
     "output_type": "execute_result"
    }
   ],
   "source": [
    "Player_rating = []\n",
    "\n",
    "for rat in soup_player.find_all('td',class_=\"table-body__cell u-text-right rating\",limit=9):\n",
    "    Player_rating.append(rat.text.split('\\n'))\n",
    "Player_rating"
   ]
  },
  {
   "cell_type": "code",
   "execution_count": 47,
   "id": "c42c4090",
   "metadata": {},
   "outputs": [
    {
     "data": {
      "text/plain": [
       "['                            890',\n",
       " ['779'],\n",
       " ['766'],\n",
       " ['759'],\n",
       " ['732'],\n",
       " ['725'],\n",
       " ['722'],\n",
       " ['718'],\n",
       " ['701'],\n",
       " ['697']]"
      ]
     },
     "execution_count": 47,
     "metadata": {},
     "output_type": "execute_result"
    }
   ],
   "source": [
    "Player_rating.insert(0,Player_1rating.text.split('\\n')[3])\n",
    "Player_rating"
   ]
  },
  {
   "cell_type": "code",
   "execution_count": 48,
   "id": "c9fac11b",
   "metadata": {},
   "outputs": [
    {
     "data": {
      "text/html": [
       "<div>\n",
       "<style scoped>\n",
       "    .dataframe tbody tr th:only-of-type {\n",
       "        vertical-align: middle;\n",
       "    }\n",
       "\n",
       "    .dataframe tbody tr th {\n",
       "        vertical-align: top;\n",
       "    }\n",
       "\n",
       "    .dataframe thead th {\n",
       "        text-align: right;\n",
       "    }\n",
       "</style>\n",
       "<table border=\"1\" class=\"dataframe\">\n",
       "  <thead>\n",
       "    <tr style=\"text-align: right;\">\n",
       "      <th></th>\n",
       "      <th>Player</th>\n",
       "      <th>Team</th>\n",
       "      <th>Rating</th>\n",
       "    </tr>\n",
       "  </thead>\n",
       "  <tbody>\n",
       "    <tr>\n",
       "      <th>1</th>\n",
       "      <td>Babar Azam</td>\n",
       "      <td>PAK</td>\n",
       "      <td>890</td>\n",
       "    </tr>\n",
       "    <tr>\n",
       "      <th>2</th>\n",
       "      <td>Imam-ul-Haq</td>\n",
       "      <td>PAK</td>\n",
       "      <td>[779]</td>\n",
       "    </tr>\n",
       "    <tr>\n",
       "      <th>3</th>\n",
       "      <td>Rassie van der Dussen</td>\n",
       "      <td>SA</td>\n",
       "      <td>[766]</td>\n",
       "    </tr>\n",
       "    <tr>\n",
       "      <th>4</th>\n",
       "      <td>Quinton de Kock</td>\n",
       "      <td>SA</td>\n",
       "      <td>[759]</td>\n",
       "    </tr>\n",
       "    <tr>\n",
       "      <th>5</th>\n",
       "      <td>Jonny Bairstow</td>\n",
       "      <td>ENG</td>\n",
       "      <td>[732]</td>\n",
       "    </tr>\n",
       "    <tr>\n",
       "      <th>6</th>\n",
       "      <td>David Warner</td>\n",
       "      <td>AUS</td>\n",
       "      <td>[725]</td>\n",
       "    </tr>\n",
       "    <tr>\n",
       "      <th>7</th>\n",
       "      <td>Virat Kohli</td>\n",
       "      <td>IND</td>\n",
       "      <td>[722]</td>\n",
       "    </tr>\n",
       "    <tr>\n",
       "      <th>8</th>\n",
       "      <td>Rohit Sharma</td>\n",
       "      <td>IND</td>\n",
       "      <td>[718]</td>\n",
       "    </tr>\n",
       "    <tr>\n",
       "      <th>9</th>\n",
       "      <td>Ross Taylor</td>\n",
       "      <td>NZ</td>\n",
       "      <td>[701]</td>\n",
       "    </tr>\n",
       "    <tr>\n",
       "      <th>10</th>\n",
       "      <td>Steve Smith</td>\n",
       "      <td>AUS</td>\n",
       "      <td>[697]</td>\n",
       "    </tr>\n",
       "  </tbody>\n",
       "</table>\n",
       "</div>"
      ],
      "text/plain": [
       "                   Player Team                           Rating\n",
       "1              Babar Azam  PAK                              890\n",
       "2             Imam-ul-Haq  PAK                            [779]\n",
       "3   Rassie van der Dussen   SA                            [766]\n",
       "4         Quinton de Kock   SA                            [759]\n",
       "5          Jonny Bairstow  ENG                            [732]\n",
       "6            David Warner  AUS                            [725]\n",
       "7             Virat Kohli  IND                            [722]\n",
       "8            Rohit Sharma  IND                            [718]\n",
       "9             Ross Taylor   NZ                            [701]\n",
       "10            Steve Smith  AUS                            [697]"
      ]
     },
     "execution_count": 48,
     "metadata": {},
     "output_type": "execute_result"
    }
   ],
   "source": [
    "Top10_ODI_Batsman = pd.DataFrame({'Player':Player_name,'Team':Player_nation,'Rating':Player_rating},index=range(1,11))\n",
    "Top10_ODI_Batsman"
   ]
  },
  {
   "cell_type": "code",
   "execution_count": 49,
   "id": "2077f3bc",
   "metadata": {},
   "outputs": [
    {
     "data": {
      "text/plain": [
       "<Response [200]>"
      ]
     },
     "execution_count": 49,
     "metadata": {},
     "output_type": "execute_result"
    }
   ],
   "source": [
    "#Q5)Python program to scrape cricket rankings from icc-cricket.com.\n",
    "\n",
    "#(c) Top 10 ODI bowlers along with the records of their team and rating.\n",
    "\n",
    "icc_bowler = requests.get('https://www.icc-cricket.com/rankings/mens/player-rankings/odi/bowling')\n",
    "icc_bowler"
   ]
  },
  {
   "cell_type": "code",
   "execution_count": 50,
   "id": "b507f229",
   "metadata": {},
   "outputs": [],
   "source": [
    "soup_bowler = BeautifulSoup(icc_bowler.content)\n"
   ]
  },
  {
   "cell_type": "code",
   "execution_count": 51,
   "id": "32f3904d",
   "metadata": {},
   "outputs": [
    {
     "data": {
      "text/plain": [
       "'Trent Boult'"
      ]
     },
     "execution_count": 51,
     "metadata": {},
     "output_type": "execute_result"
    }
   ],
   "source": [
    "Bowler_1name = soup_bowler.find('div',class_=\"rankings-block__banner--name-large\")\n",
    "Bowler_1name.text"
   ]
  },
  {
   "cell_type": "code",
   "execution_count": 52,
   "id": "568a5802",
   "metadata": {},
   "outputs": [
    {
     "data": {
      "text/plain": [
       "'NZ'"
      ]
     },
     "execution_count": 52,
     "metadata": {},
     "output_type": "execute_result"
    }
   ],
   "source": [
    "Bowler_1nation = soup_bowler.find('div',class_=\"rankings-block__banner--nationality\")\n",
    "Bowler_1nation.text.split('\\n')[2]"
   ]
  },
  {
   "cell_type": "code",
   "execution_count": 53,
   "id": "a4b17755",
   "metadata": {},
   "outputs": [
    {
     "data": {
      "text/plain": [
       "'775'"
      ]
     },
     "execution_count": 53,
     "metadata": {},
     "output_type": "execute_result"
    }
   ],
   "source": [
    "Bowler_1rating = soup_bowler.find('td',class_=\"u-text-left\")\n",
    "Bowler_1rating.text.split('\\n')[1]"
   ]
  },
  {
   "cell_type": "code",
   "execution_count": 54,
   "id": "5ffc13ff",
   "metadata": {},
   "outputs": [
    {
     "data": {
      "text/plain": [
       "['Josh Hazlewood',\n",
       " 'Mujeeb Ur Rahman',\n",
       " 'Shaheen Afridi',\n",
       " 'Mohammad Nabi',\n",
       " 'Mehedi Hasan',\n",
       " 'Matt Henry',\n",
       " 'Mitchell Starc',\n",
       " 'Rashid Khan',\n",
       " 'Jasprit Bumrah']"
      ]
     },
     "execution_count": 54,
     "metadata": {},
     "output_type": "execute_result"
    }
   ],
   "source": [
    "Bowler_name = []\n",
    "\n",
    "for b in soup_bowler.find_all('td',class_=\"table-body__cell rankings-table__name name\",limit=9):\n",
    "    Bowler_name.append(b.text.split('\\n')[1])\n",
    "    \n",
    "Bowler_name"
   ]
  },
  {
   "cell_type": "code",
   "execution_count": 55,
   "id": "00177448",
   "metadata": {},
   "outputs": [
    {
     "data": {
      "text/plain": [
       "['Trent Boult',\n",
       " 'Josh Hazlewood',\n",
       " 'Mujeeb Ur Rahman',\n",
       " 'Shaheen Afridi',\n",
       " 'Mohammad Nabi',\n",
       " 'Mehedi Hasan',\n",
       " 'Matt Henry',\n",
       " 'Mitchell Starc',\n",
       " 'Rashid Khan',\n",
       " 'Jasprit Bumrah']"
      ]
     },
     "execution_count": 55,
     "metadata": {},
     "output_type": "execute_result"
    }
   ],
   "source": [
    "Bowler_name.insert(0,Bowler_1name.text)\n",
    "Bowler_name"
   ]
  },
  {
   "cell_type": "code",
   "execution_count": 56,
   "id": "b5c70692",
   "metadata": {},
   "outputs": [
    {
     "data": {
      "text/plain": [
       "['AUS', 'AFG', 'PAK', 'AFG', 'BAN', 'NZ', 'AUS', 'AFG', 'IND']"
      ]
     },
     "execution_count": 56,
     "metadata": {},
     "output_type": "execute_result"
    }
   ],
   "source": [
    "Bowler_nation =[]\n",
    "\n",
    "for n in soup_bowler.find_all('td',class_=\"table-body__cell nationality-logo rankings-table__team\",limit=9):\n",
    "    Bowler_nation.append(n.text.split('\\n')[2])\n",
    "    \n",
    "Bowler_nation"
   ]
  },
  {
   "cell_type": "code",
   "execution_count": 57,
   "id": "66c17cfc",
   "metadata": {},
   "outputs": [
    {
     "data": {
      "text/plain": [
       "['NZ', 'AUS', 'AFG', 'PAK', 'AFG', 'BAN', 'NZ', 'AUS', 'AFG', 'IND']"
      ]
     },
     "execution_count": 57,
     "metadata": {},
     "output_type": "execute_result"
    }
   ],
   "source": [
    "Bowler_nation.insert(0,Bowler_1nation.text.split('\\n')[2])\n",
    "Bowler_nation"
   ]
  },
  {
   "cell_type": "code",
   "execution_count": 58,
   "id": "07b1ef29",
   "metadata": {},
   "outputs": [
    {
     "data": {
      "text/plain": [
       "['718', '676', '661', '657', '655', '654', '653', '651', '642']"
      ]
     },
     "execution_count": 58,
     "metadata": {},
     "output_type": "execute_result"
    }
   ],
   "source": [
    "Bowler_rating = []\n",
    "\n",
    "for r in soup_bowler.find_all('td',class_=\"table-body__cell rating\",limit=9):\n",
    "    Bowler_rating.append(r.text)\n",
    "    \n",
    "Bowler_rating"
   ]
  },
  {
   "cell_type": "code",
   "execution_count": 59,
   "id": "cdeef0e6",
   "metadata": {},
   "outputs": [
    {
     "data": {
      "text/plain": [
       "['775', '718', '676', '661', '657', '655', '654', '653', '651', '642']"
      ]
     },
     "execution_count": 59,
     "metadata": {},
     "output_type": "execute_result"
    }
   ],
   "source": [
    "Bowler_rating.insert(0,Bowler_1rating.text.split('\\n')[1])\n",
    "Bowler_rating"
   ]
  },
  {
   "cell_type": "code",
   "execution_count": 60,
   "id": "a6dd33e2",
   "metadata": {},
   "outputs": [
    {
     "data": {
      "text/html": [
       "<div>\n",
       "<style scoped>\n",
       "    .dataframe tbody tr th:only-of-type {\n",
       "        vertical-align: middle;\n",
       "    }\n",
       "\n",
       "    .dataframe tbody tr th {\n",
       "        vertical-align: top;\n",
       "    }\n",
       "\n",
       "    .dataframe thead th {\n",
       "        text-align: right;\n",
       "    }\n",
       "</style>\n",
       "<table border=\"1\" class=\"dataframe\">\n",
       "  <thead>\n",
       "    <tr style=\"text-align: right;\">\n",
       "      <th></th>\n",
       "      <th>Player</th>\n",
       "      <th>Team</th>\n",
       "      <th>Rating</th>\n",
       "    </tr>\n",
       "  </thead>\n",
       "  <tbody>\n",
       "    <tr>\n",
       "      <th>1</th>\n",
       "      <td>Trent Boult</td>\n",
       "      <td>NZ</td>\n",
       "      <td>775</td>\n",
       "    </tr>\n",
       "    <tr>\n",
       "      <th>2</th>\n",
       "      <td>Josh Hazlewood</td>\n",
       "      <td>AUS</td>\n",
       "      <td>718</td>\n",
       "    </tr>\n",
       "    <tr>\n",
       "      <th>3</th>\n",
       "      <td>Mujeeb Ur Rahman</td>\n",
       "      <td>AFG</td>\n",
       "      <td>676</td>\n",
       "    </tr>\n",
       "    <tr>\n",
       "      <th>4</th>\n",
       "      <td>Shaheen Afridi</td>\n",
       "      <td>PAK</td>\n",
       "      <td>661</td>\n",
       "    </tr>\n",
       "    <tr>\n",
       "      <th>5</th>\n",
       "      <td>Mohammad Nabi</td>\n",
       "      <td>AFG</td>\n",
       "      <td>657</td>\n",
       "    </tr>\n",
       "    <tr>\n",
       "      <th>6</th>\n",
       "      <td>Mehedi Hasan</td>\n",
       "      <td>BAN</td>\n",
       "      <td>655</td>\n",
       "    </tr>\n",
       "    <tr>\n",
       "      <th>7</th>\n",
       "      <td>Matt Henry</td>\n",
       "      <td>NZ</td>\n",
       "      <td>654</td>\n",
       "    </tr>\n",
       "    <tr>\n",
       "      <th>8</th>\n",
       "      <td>Mitchell Starc</td>\n",
       "      <td>AUS</td>\n",
       "      <td>653</td>\n",
       "    </tr>\n",
       "    <tr>\n",
       "      <th>9</th>\n",
       "      <td>Rashid Khan</td>\n",
       "      <td>AFG</td>\n",
       "      <td>651</td>\n",
       "    </tr>\n",
       "    <tr>\n",
       "      <th>10</th>\n",
       "      <td>Jasprit Bumrah</td>\n",
       "      <td>IND</td>\n",
       "      <td>642</td>\n",
       "    </tr>\n",
       "  </tbody>\n",
       "</table>\n",
       "</div>"
      ],
      "text/plain": [
       "              Player Team Rating\n",
       "1        Trent Boult   NZ    775\n",
       "2     Josh Hazlewood  AUS    718\n",
       "3   Mujeeb Ur Rahman  AFG    676\n",
       "4     Shaheen Afridi  PAK    661\n",
       "5      Mohammad Nabi  AFG    657\n",
       "6       Mehedi Hasan  BAN    655\n",
       "7         Matt Henry   NZ    654\n",
       "8     Mitchell Starc  AUS    653\n",
       "9        Rashid Khan  AFG    651\n",
       "10    Jasprit Bumrah  IND    642"
      ]
     },
     "execution_count": 60,
     "metadata": {},
     "output_type": "execute_result"
    }
   ],
   "source": [
    "Top10_ODI_Bowler = pd.DataFrame({'Player':Bowler_name,'Team':Bowler_nation,'Rating':Bowler_rating},index=range(1,11))\n",
    "Top10_ODI_Bowler"
   ]
  },
  {
   "cell_type": "code",
   "execution_count": 61,
   "id": "b90d84c1",
   "metadata": {},
   "outputs": [
    {
     "data": {
      "text/plain": [
       "<Response [200]>"
      ]
     },
     "execution_count": 61,
     "metadata": {},
     "output_type": "execute_result"
    }
   ],
   "source": [
    "#Q6) Python program to scrape cricket rankings from icc-cricket.com.\n",
    "\n",
    "#(a)Top 10 ODI teams in women’s cricket along with the records for matches, points and rating\n",
    "\n",
    "icc_women = requests.get('https://www.icc-cricket.com/rankings/womens/team-rankings/odi')\n",
    "icc_women"
   ]
  },
  {
   "cell_type": "code",
   "execution_count": 62,
   "id": "a81480e4",
   "metadata": {},
   "outputs": [],
   "source": [
    "soup_women = BeautifulSoup(icc_women.content)\n"
   ]
  },
  {
   "cell_type": "code",
   "execution_count": 63,
   "id": "8753b778",
   "metadata": {},
   "outputs": [
    {
     "data": {
      "text/plain": [
       "['Australia',\n",
       " 'South Africa',\n",
       " 'England',\n",
       " 'India',\n",
       " 'New Zealand',\n",
       " 'West Indies',\n",
       " 'Bangladesh',\n",
       " 'Pakistan',\n",
       " 'Ireland',\n",
       " 'Sri Lanka']"
      ]
     },
     "execution_count": 63,
     "metadata": {},
     "output_type": "execute_result"
    }
   ],
   "source": [
    "Women_team = []\n",
    "\n",
    "for w in soup_women.find_all('span',class_=\"u-hide-phablet\",limit=10):\n",
    "    Women_team.append(w.text)\n",
    "    \n",
    "\n",
    "Women_team"
   ]
  },
  {
   "cell_type": "code",
   "execution_count": 64,
   "id": "4d1d0686",
   "metadata": {},
   "outputs": [
    {
     "data": {
      "text/plain": [
       "'18'"
      ]
     },
     "execution_count": 64,
     "metadata": {},
     "output_type": "execute_result"
    }
   ],
   "source": [
    "Women_1match = soup_women.find('td',class_=\"rankings-block__banner--matches\")\n",
    "Women_1match.text"
   ]
  },
  {
   "cell_type": "code",
   "execution_count": 65,
   "id": "a3879de2",
   "metadata": {},
   "outputs": [
    {
     "data": {
      "text/plain": [
       "'3,061'"
      ]
     },
     "execution_count": 65,
     "metadata": {},
     "output_type": "execute_result"
    }
   ],
   "source": [
    "Women_1point = soup_women.find('td',class_=\"rankings-block__banner--points\")\n",
    "Women_1point.text"
   ]
  },
  {
   "cell_type": "code",
   "execution_count": 66,
   "id": "7f1f34d6",
   "metadata": {},
   "outputs": [
    {
     "data": {
      "text/plain": [
       "['26',\n",
       " '3,098',\n",
       " '25',\n",
       " '2,904',\n",
       " '27',\n",
       " '2,820',\n",
       " '24',\n",
       " '2,425',\n",
       " '24',\n",
       " '2,334',\n",
       " '12',\n",
       " '932',\n",
       " '21',\n",
       " '1,237',\n",
       " '11',\n",
       " '516',\n",
       " '8',\n",
       " '353']"
      ]
     },
     "execution_count": 66,
     "metadata": {},
     "output_type": "execute_result"
    }
   ],
   "source": [
    "Women_match_points = []\n",
    "\n",
    "for m in soup_women.find_all('td',class_=\"table-body__cell u-center-text\",limit=18):\n",
    "    Women_match_points.append(m.text)\n",
    "    \n",
    "Women_match_points"
   ]
  },
  {
   "cell_type": "code",
   "execution_count": 67,
   "id": "b4f32cfc",
   "metadata": {},
   "outputs": [
    {
     "data": {
      "text/plain": [
       "['18',\n",
       " '26',\n",
       " '3,098',\n",
       " '25',\n",
       " '2,904',\n",
       " '27',\n",
       " '2,820',\n",
       " '24',\n",
       " '2,425',\n",
       " '24',\n",
       " '2,334',\n",
       " '12',\n",
       " '932',\n",
       " '21',\n",
       " '1,237',\n",
       " '11',\n",
       " '516',\n",
       " '8',\n",
       " '353']"
      ]
     },
     "execution_count": 67,
     "metadata": {},
     "output_type": "execute_result"
    }
   ],
   "source": [
    "Women_match_points.insert(0,Women_1match.text)\n",
    "Women_match_points"
   ]
  },
  {
   "cell_type": "code",
   "execution_count": 68,
   "id": "81a8989a",
   "metadata": {},
   "outputs": [
    {
     "data": {
      "text/plain": [
       "['18',\n",
       " '3,061',\n",
       " '26',\n",
       " '3,098',\n",
       " '25',\n",
       " '2,904',\n",
       " '27',\n",
       " '2,820',\n",
       " '24',\n",
       " '2,425',\n",
       " '24',\n",
       " '2,334',\n",
       " '12',\n",
       " '932',\n",
       " '21',\n",
       " '1,237',\n",
       " '11',\n",
       " '516',\n",
       " '8',\n",
       " '353']"
      ]
     },
     "execution_count": 68,
     "metadata": {},
     "output_type": "execute_result"
    }
   ],
   "source": [
    "Women_match_points.insert(1,Women_1point.text)\n",
    "Women_match_points"
   ]
  },
  {
   "cell_type": "code",
   "execution_count": 69,
   "id": "a20b9b13",
   "metadata": {},
   "outputs": [
    {
     "data": {
      "text/plain": [
       "['18', '26', '25', '27', '24', '24', '12', '21', '11', '8']"
      ]
     },
     "execution_count": 69,
     "metadata": {},
     "output_type": "execute_result"
    }
   ],
   "source": [
    "Women_match = Women_match_points[0:20:2]\n",
    "Women_match"
   ]
  },
  {
   "cell_type": "code",
   "execution_count": 70,
   "id": "9708e9a1",
   "metadata": {},
   "outputs": [
    {
     "data": {
      "text/plain": [
       "['3,061',\n",
       " '3,098',\n",
       " '2,904',\n",
       " '2,820',\n",
       " '2,425',\n",
       " '2,334',\n",
       " '932',\n",
       " '1,237',\n",
       " '516',\n",
       " '353']"
      ]
     },
     "execution_count": 70,
     "metadata": {},
     "output_type": "execute_result"
    }
   ],
   "source": [
    "Women_points = Women_match_points[1::2]\n",
    "Women_points"
   ]
  },
  {
   "cell_type": "code",
   "execution_count": 71,
   "id": "23c21edd",
   "metadata": {},
   "outputs": [
    {
     "data": {
      "text/plain": [
       "'                            170'"
      ]
     },
     "execution_count": 71,
     "metadata": {},
     "output_type": "execute_result"
    }
   ],
   "source": [
    "Women_1rating = soup_women.find('td',class_=\"rankings-block__banner--rating u-text-right\")\n",
    "Women_1rating.text.split('\\n')[1]"
   ]
  },
  {
   "cell_type": "code",
   "execution_count": 72,
   "id": "4d63e554",
   "metadata": {},
   "outputs": [
    {
     "data": {
      "text/plain": [
       "['119', '116', '104', '101', '97', '78', '59', '47', '44']"
      ]
     },
     "execution_count": 72,
     "metadata": {},
     "output_type": "execute_result"
    }
   ],
   "source": [
    "Women_rating = []\n",
    "\n",
    "for r in soup_women.find_all('td',class_=\"table-body__cell u-text-right rating\",limit=9):\n",
    "    Women_rating.append(r.text)\n",
    "    \n",
    "Women_rating"
   ]
  },
  {
   "cell_type": "code",
   "execution_count": 73,
   "id": "c944f949",
   "metadata": {},
   "outputs": [
    {
     "data": {
      "text/plain": [
       "['                            170',\n",
       " '119',\n",
       " '116',\n",
       " '104',\n",
       " '101',\n",
       " '97',\n",
       " '78',\n",
       " '59',\n",
       " '47',\n",
       " '44']"
      ]
     },
     "execution_count": 73,
     "metadata": {},
     "output_type": "execute_result"
    }
   ],
   "source": [
    "Women_rating.insert(0,Women_1rating.text.split('\\n')[1])\n",
    "Women_rating"
   ]
  },
  {
   "cell_type": "code",
   "execution_count": 74,
   "id": "aa18c08e",
   "metadata": {},
   "outputs": [
    {
     "data": {
      "text/html": [
       "<div>\n",
       "<style scoped>\n",
       "    .dataframe tbody tr th:only-of-type {\n",
       "        vertical-align: middle;\n",
       "    }\n",
       "\n",
       "    .dataframe tbody tr th {\n",
       "        vertical-align: top;\n",
       "    }\n",
       "\n",
       "    .dataframe thead th {\n",
       "        text-align: right;\n",
       "    }\n",
       "</style>\n",
       "<table border=\"1\" class=\"dataframe\">\n",
       "  <thead>\n",
       "    <tr style=\"text-align: right;\">\n",
       "      <th></th>\n",
       "      <th>TEAM</th>\n",
       "      <th>MATCHES</th>\n",
       "      <th>POINTS</th>\n",
       "      <th>RATING</th>\n",
       "    </tr>\n",
       "  </thead>\n",
       "  <tbody>\n",
       "    <tr>\n",
       "      <th>1</th>\n",
       "      <td>Australia</td>\n",
       "      <td>18</td>\n",
       "      <td>3,061</td>\n",
       "      <td>170</td>\n",
       "    </tr>\n",
       "    <tr>\n",
       "      <th>2</th>\n",
       "      <td>South Africa</td>\n",
       "      <td>26</td>\n",
       "      <td>3,098</td>\n",
       "      <td>119</td>\n",
       "    </tr>\n",
       "    <tr>\n",
       "      <th>3</th>\n",
       "      <td>England</td>\n",
       "      <td>25</td>\n",
       "      <td>2,904</td>\n",
       "      <td>116</td>\n",
       "    </tr>\n",
       "    <tr>\n",
       "      <th>4</th>\n",
       "      <td>India</td>\n",
       "      <td>27</td>\n",
       "      <td>2,820</td>\n",
       "      <td>104</td>\n",
       "    </tr>\n",
       "    <tr>\n",
       "      <th>5</th>\n",
       "      <td>New Zealand</td>\n",
       "      <td>24</td>\n",
       "      <td>2,425</td>\n",
       "      <td>101</td>\n",
       "    </tr>\n",
       "    <tr>\n",
       "      <th>6</th>\n",
       "      <td>West Indies</td>\n",
       "      <td>24</td>\n",
       "      <td>2,334</td>\n",
       "      <td>97</td>\n",
       "    </tr>\n",
       "    <tr>\n",
       "      <th>7</th>\n",
       "      <td>Bangladesh</td>\n",
       "      <td>12</td>\n",
       "      <td>932</td>\n",
       "      <td>78</td>\n",
       "    </tr>\n",
       "    <tr>\n",
       "      <th>8</th>\n",
       "      <td>Pakistan</td>\n",
       "      <td>21</td>\n",
       "      <td>1,237</td>\n",
       "      <td>59</td>\n",
       "    </tr>\n",
       "    <tr>\n",
       "      <th>9</th>\n",
       "      <td>Ireland</td>\n",
       "      <td>11</td>\n",
       "      <td>516</td>\n",
       "      <td>47</td>\n",
       "    </tr>\n",
       "    <tr>\n",
       "      <th>10</th>\n",
       "      <td>Sri Lanka</td>\n",
       "      <td>8</td>\n",
       "      <td>353</td>\n",
       "      <td>44</td>\n",
       "    </tr>\n",
       "  </tbody>\n",
       "</table>\n",
       "</div>"
      ],
      "text/plain": [
       "            TEAM MATCHES POINTS                           RATING\n",
       "1      Australia      18  3,061                              170\n",
       "2   South Africa      26  3,098                              119\n",
       "3        England      25  2,904                              116\n",
       "4          India      27  2,820                              104\n",
       "5    New Zealand      24  2,425                              101\n",
       "6    West Indies      24  2,334                               97\n",
       "7     Bangladesh      12    932                               78\n",
       "8       Pakistan      21  1,237                               59\n",
       "9        Ireland      11    516                               47\n",
       "10     Sri Lanka       8    353                               44"
      ]
     },
     "execution_count": 74,
     "metadata": {},
     "output_type": "execute_result"
    }
   ],
   "source": [
    "Top10_ODI_women = pd.DataFrame({'TEAM':Women_team,'MATCHES':Women_match,'POINTS':Women_points,'RATING':Women_rating}, index=range(1,11))\n",
    "Top10_ODI_women"
   ]
  },
  {
   "cell_type": "code",
   "execution_count": 75,
   "id": "9499fb33",
   "metadata": {},
   "outputs": [
    {
     "data": {
      "text/plain": [
       "<Response [200]>"
      ]
     },
     "execution_count": 75,
     "metadata": {},
     "output_type": "execute_result"
    }
   ],
   "source": [
    "#Q6) Python program to scrape cricket rankings from icc-cricket.com.\n",
    "\n",
    "#(b)Top 10 women’s ODI Batting players along with the records of their team and rating\n",
    "\n",
    "icc_bat_women = requests.get('https://www.icc-cricket.com/rankings/womens/player-rankings/odi/batting')\n",
    "icc_bat_women"
   ]
  },
  {
   "cell_type": "code",
   "execution_count": 76,
   "id": "29dffc28",
   "metadata": {},
   "outputs": [],
   "source": [
    "soup_batW = BeautifulSoup(icc_bat_women.content)\n"
   ]
  },
  {
   "cell_type": "code",
   "execution_count": 77,
   "id": "27a0f218",
   "metadata": {},
   "outputs": [
    {
     "data": {
      "text/plain": [
       "'Alyssa Healy'"
      ]
     },
     "execution_count": 77,
     "metadata": {},
     "output_type": "execute_result"
    }
   ],
   "source": [
    "Women_1bat = soup_batW.find('div',class_=\"rankings-block__banner--name-large\")\n",
    "Women_1bat.text"
   ]
  },
  {
   "cell_type": "code",
   "execution_count": 78,
   "id": "243b5807",
   "metadata": {},
   "outputs": [
    {
     "data": {
      "text/plain": [
       "'AUS'"
      ]
     },
     "execution_count": 78,
     "metadata": {},
     "output_type": "execute_result"
    }
   ],
   "source": [
    "Women_1team = soup_batW.find('div',class_=\"rankings-block__banner--nationality\")\n",
    "Women_1team.text.split('\\n')[2]"
   ]
  },
  {
   "cell_type": "code",
   "execution_count": 79,
   "id": "ce93c7b1",
   "metadata": {},
   "outputs": [
    {
     "data": {
      "text/plain": [
       "'785'"
      ]
     },
     "execution_count": 79,
     "metadata": {},
     "output_type": "execute_result"
    }
   ],
   "source": [
    "Women_1rating = soup_batW.find('div',class_=\"rankings-block__banner--rating\")\n",
    "Women_1rating.text"
   ]
  },
  {
   "cell_type": "code",
   "execution_count": 80,
   "id": "15d16b7c",
   "metadata": {},
   "outputs": [
    {
     "data": {
      "text/plain": [
       "['Beth Mooney',\n",
       " 'Laura Wolvaardt',\n",
       " 'Natalie Sciver',\n",
       " 'Harmanpreet Kaur',\n",
       " 'Smriti Mandhana',\n",
       " 'Meg Lanning',\n",
       " 'Rachael Haynes',\n",
       " 'Amy Satterthwaite',\n",
       " 'Chamari Athapaththu']"
      ]
     },
     "execution_count": 80,
     "metadata": {},
     "output_type": "execute_result"
    }
   ],
   "source": [
    "Women_player = []\n",
    "\n",
    "for t in soup_batW.find_all('td',class_=\"table-body__cell rankings-table__name name\",limit=9):\n",
    "    Women_player.append(t.text.split('\\n')[1])\n",
    "    \n",
    "Women_player"
   ]
  },
  {
   "cell_type": "code",
   "execution_count": 81,
   "id": "0b021a79",
   "metadata": {},
   "outputs": [
    {
     "data": {
      "text/plain": [
       "['Alyssa Healy',\n",
       " 'Beth Mooney',\n",
       " 'Laura Wolvaardt',\n",
       " 'Natalie Sciver',\n",
       " 'Harmanpreet Kaur',\n",
       " 'Smriti Mandhana',\n",
       " 'Meg Lanning',\n",
       " 'Rachael Haynes',\n",
       " 'Amy Satterthwaite',\n",
       " 'Chamari Athapaththu']"
      ]
     },
     "execution_count": 81,
     "metadata": {},
     "output_type": "execute_result"
    }
   ],
   "source": [
    "Women_player.insert(0,Women_1bat.text)\n",
    "Women_player"
   ]
  },
  {
   "cell_type": "code",
   "execution_count": 82,
   "id": "ceb181fd",
   "metadata": {},
   "outputs": [
    {
     "data": {
      "text/plain": [
       "['AUS', 'SA', 'ENG', 'IND', 'IND', 'AUS', 'AUS', 'NZ', 'SL']"
      ]
     },
     "execution_count": 82,
     "metadata": {},
     "output_type": "execute_result"
    }
   ],
   "source": [
    "Women_team = []\n",
    "\n",
    "for n in soup_batW.find_all('span',class_=\"table-body__logo-text\",limit=9):\n",
    "    Women_team.append(n.text)\n",
    "    \n",
    "Women_team"
   ]
  },
  {
   "cell_type": "code",
   "execution_count": 87,
   "id": "35910672",
   "metadata": {},
   "outputs": [
    {
     "data": {
      "text/plain": [
       "['AUS', 'AUS', 'SA', 'ENG', 'IND', 'IND', 'AUS', 'AUS', 'NZ', 'SL']"
      ]
     },
     "execution_count": 87,
     "metadata": {},
     "output_type": "execute_result"
    }
   ],
   "source": [
    "Women_team.insert(0,Women_1team.text.split('\\n')[2])\n",
    "Women_team"
   ]
  },
  {
   "cell_type": "code",
   "execution_count": 83,
   "id": "5867a46e",
   "metadata": {},
   "outputs": [
    {
     "data": {
      "text/plain": [
       "['749', '732', '725', '716', '714', '710', '701', '661', '655']"
      ]
     },
     "execution_count": 83,
     "metadata": {},
     "output_type": "execute_result"
    }
   ],
   "source": [
    "Women_rating = []\n",
    "\n",
    "for r in soup_batW.find_all('td',class_=\"table-body__cell rating\",limit=9):\n",
    "    Women_rating.append(r.text)\n",
    "    \n",
    "Women_rating"
   ]
  },
  {
   "cell_type": "code",
   "execution_count": 84,
   "id": "bd66fa58",
   "metadata": {},
   "outputs": [
    {
     "data": {
      "text/plain": [
       "['785', '749', '732', '725', '716', '714', '710', '701', '661', '655']"
      ]
     },
     "execution_count": 84,
     "metadata": {},
     "output_type": "execute_result"
    }
   ],
   "source": [
    "Women_rating.insert(0,Women_1rating.text)\n",
    "Women_rating"
   ]
  },
  {
   "cell_type": "code",
   "execution_count": 88,
   "id": "76029363",
   "metadata": {},
   "outputs": [
    {
     "data": {
      "text/html": [
       "<div>\n",
       "<style scoped>\n",
       "    .dataframe tbody tr th:only-of-type {\n",
       "        vertical-align: middle;\n",
       "    }\n",
       "\n",
       "    .dataframe tbody tr th {\n",
       "        vertical-align: top;\n",
       "    }\n",
       "\n",
       "    .dataframe thead th {\n",
       "        text-align: right;\n",
       "    }\n",
       "</style>\n",
       "<table border=\"1\" class=\"dataframe\">\n",
       "  <thead>\n",
       "    <tr style=\"text-align: right;\">\n",
       "      <th></th>\n",
       "      <th>PLAYER</th>\n",
       "      <th>TEAM</th>\n",
       "      <th>RATING</th>\n",
       "    </tr>\n",
       "  </thead>\n",
       "  <tbody>\n",
       "    <tr>\n",
       "      <th>1</th>\n",
       "      <td>Alyssa Healy</td>\n",
       "      <td>AUS</td>\n",
       "      <td>785</td>\n",
       "    </tr>\n",
       "    <tr>\n",
       "      <th>2</th>\n",
       "      <td>Beth Mooney</td>\n",
       "      <td>AUS</td>\n",
       "      <td>749</td>\n",
       "    </tr>\n",
       "    <tr>\n",
       "      <th>3</th>\n",
       "      <td>Laura Wolvaardt</td>\n",
       "      <td>SA</td>\n",
       "      <td>732</td>\n",
       "    </tr>\n",
       "    <tr>\n",
       "      <th>4</th>\n",
       "      <td>Natalie Sciver</td>\n",
       "      <td>ENG</td>\n",
       "      <td>725</td>\n",
       "    </tr>\n",
       "    <tr>\n",
       "      <th>5</th>\n",
       "      <td>Harmanpreet Kaur</td>\n",
       "      <td>IND</td>\n",
       "      <td>716</td>\n",
       "    </tr>\n",
       "    <tr>\n",
       "      <th>6</th>\n",
       "      <td>Smriti Mandhana</td>\n",
       "      <td>IND</td>\n",
       "      <td>714</td>\n",
       "    </tr>\n",
       "    <tr>\n",
       "      <th>7</th>\n",
       "      <td>Meg Lanning</td>\n",
       "      <td>AUS</td>\n",
       "      <td>710</td>\n",
       "    </tr>\n",
       "    <tr>\n",
       "      <th>8</th>\n",
       "      <td>Rachael Haynes</td>\n",
       "      <td>AUS</td>\n",
       "      <td>701</td>\n",
       "    </tr>\n",
       "    <tr>\n",
       "      <th>9</th>\n",
       "      <td>Amy Satterthwaite</td>\n",
       "      <td>NZ</td>\n",
       "      <td>661</td>\n",
       "    </tr>\n",
       "    <tr>\n",
       "      <th>10</th>\n",
       "      <td>Chamari Athapaththu</td>\n",
       "      <td>SL</td>\n",
       "      <td>655</td>\n",
       "    </tr>\n",
       "  </tbody>\n",
       "</table>\n",
       "</div>"
      ],
      "text/plain": [
       "                 PLAYER TEAM RATING\n",
       "1          Alyssa Healy  AUS    785\n",
       "2           Beth Mooney  AUS    749\n",
       "3       Laura Wolvaardt   SA    732\n",
       "4        Natalie Sciver  ENG    725\n",
       "5      Harmanpreet Kaur  IND    716\n",
       "6       Smriti Mandhana  IND    714\n",
       "7           Meg Lanning  AUS    710\n",
       "8        Rachael Haynes  AUS    701\n",
       "9     Amy Satterthwaite   NZ    661\n",
       "10  Chamari Athapaththu   SL    655"
      ]
     },
     "execution_count": 88,
     "metadata": {},
     "output_type": "execute_result"
    }
   ],
   "source": [
    "Top10_ODI_batWomen = pd.DataFrame({'PLAYER':Women_player,'TEAM':Women_team,'RATING':Women_rating},index=range(1,11))\n",
    "Top10_ODI_batWomen"
   ]
  },
  {
   "cell_type": "code",
   "execution_count": 89,
   "id": "8f82b257",
   "metadata": {},
   "outputs": [
    {
     "data": {
      "text/plain": [
       "<Response [200]>"
      ]
     },
     "execution_count": 89,
     "metadata": {},
     "output_type": "execute_result"
    }
   ],
   "source": [
    "#Q6) Python program to scrape cricket rankings from icc-cricket.com.\n",
    "\n",
    "#(c)Top 10 women’s ODI all-rounder along with the records of their team and rating\n",
    "\n",
    "icc_women_alround = requests.get('https://www.icc-cricket.com/rankings/womens/player-rankings/odi/all-rounder')\n",
    "icc_women_alround"
   ]
  },
  {
   "cell_type": "code",
   "execution_count": 90,
   "id": "195be092",
   "metadata": {},
   "outputs": [],
   "source": [
    "soup_alround = BeautifulSoup(icc_women_alround.content)"
   ]
  },
  {
   "cell_type": "code",
   "execution_count": 91,
   "id": "97a210e0",
   "metadata": {},
   "outputs": [
    {
     "data": {
      "text/plain": [
       "'Hayley Matthews'"
      ]
     },
     "execution_count": 91,
     "metadata": {},
     "output_type": "execute_result"
    }
   ],
   "source": [
    "Women_1alround = soup_alround.find('div',class_=\"rankings-block__banner--name-large\")\n",
    "Women_1alround.text"
   ]
  },
  {
   "cell_type": "code",
   "execution_count": 92,
   "id": "c85cc263",
   "metadata": {},
   "outputs": [
    {
     "data": {
      "text/plain": [
       "'WI'"
      ]
     },
     "execution_count": 92,
     "metadata": {},
     "output_type": "execute_result"
    }
   ],
   "source": [
    "Women_1nation = soup_alround.find('div',class_=\"rankings-block__banner--nationality\")\n",
    "Women_1nation.text.split('\\n')[2]"
   ]
  },
  {
   "cell_type": "code",
   "execution_count": 93,
   "id": "1bf15d7e",
   "metadata": {},
   "outputs": [
    {
     "data": {
      "text/plain": [
       "'380'"
      ]
     },
     "execution_count": 93,
     "metadata": {},
     "output_type": "execute_result"
    }
   ],
   "source": [
    "Women_1arating = soup_alround.find('td',class_=\"u-text-left\")\n",
    "Women_1arating.text.split('\\n')[1]"
   ]
  },
  {
   "cell_type": "code",
   "execution_count": 94,
   "id": "d25ea7c4",
   "metadata": {},
   "outputs": [
    {
     "data": {
      "text/plain": [
       "['Ellyse Perry',\n",
       " 'Natalie Sciver',\n",
       " 'Amelia Kerr',\n",
       " 'Marizanne Kapp',\n",
       " 'Deepti Sharma',\n",
       " 'Ashleigh Gardner',\n",
       " 'Jess Jonassen',\n",
       " 'Jhulan Goswami',\n",
       " 'Katherine Brunt']"
      ]
     },
     "execution_count": 94,
     "metadata": {},
     "output_type": "execute_result"
    }
   ],
   "source": [
    "Women_alround = []\n",
    "\n",
    "for a in soup_alround.find_all('td',class_=\"table-body__cell rankings-table__name name\",limit=9):\n",
    "    Women_alround.append(a.text.split('\\n')[1])\n",
    "    \n",
    "Women_alround"
   ]
  },
  {
   "cell_type": "code",
   "execution_count": 95,
   "id": "af1db807",
   "metadata": {},
   "outputs": [
    {
     "data": {
      "text/plain": [
       "['Hayley Matthews',\n",
       " 'Ellyse Perry',\n",
       " 'Natalie Sciver',\n",
       " 'Amelia Kerr',\n",
       " 'Marizanne Kapp',\n",
       " 'Deepti Sharma',\n",
       " 'Ashleigh Gardner',\n",
       " 'Jess Jonassen',\n",
       " 'Jhulan Goswami',\n",
       " 'Katherine Brunt']"
      ]
     },
     "execution_count": 95,
     "metadata": {},
     "output_type": "execute_result"
    }
   ],
   "source": [
    "Women_alround.insert(0,Women_1alround.text)\n",
    "Women_alround"
   ]
  },
  {
   "cell_type": "code",
   "execution_count": 96,
   "id": "4c5e20bb",
   "metadata": {},
   "outputs": [
    {
     "data": {
      "text/plain": [
       "['AUS', 'ENG', 'NZ', 'SA', 'IND', 'AUS', 'AUS', 'IND', 'ENG']"
      ]
     },
     "execution_count": 96,
     "metadata": {},
     "output_type": "execute_result"
    }
   ],
   "source": [
    "Women_nation = []\n",
    "\n",
    "for n in soup_alround.find_all('span',class_=\"table-body__logo-text\",limit=9):\n",
    "    Women_nation.append(n.text)\n",
    "    \n",
    "Women_nation"
   ]
  },
  {
   "cell_type": "code",
   "execution_count": 97,
   "id": "477ca3a9",
   "metadata": {},
   "outputs": [
    {
     "data": {
      "text/plain": [
       "['WI', 'AUS', 'ENG', 'NZ', 'SA', 'IND', 'AUS', 'AUS', 'IND', 'ENG']"
      ]
     },
     "execution_count": 97,
     "metadata": {},
     "output_type": "execute_result"
    }
   ],
   "source": [
    "Women_nation.insert(0,Women_1nation.text.split('\\n')[2])\n",
    "Women_nation"
   ]
  },
  {
   "cell_type": "code",
   "execution_count": 98,
   "id": "491f2ca5",
   "metadata": {},
   "outputs": [
    {
     "data": {
      "text/plain": [
       "['374', '357', '356', '349', '322', '270', '246', '214', '207']"
      ]
     },
     "execution_count": 98,
     "metadata": {},
     "output_type": "execute_result"
    }
   ],
   "source": [
    "Women_arating = []\n",
    "\n",
    "for r in soup_alround.find_all('td',class_=\"table-body__cell rating\",limit=9):\n",
    "    Women_arating.append(r.text)\n",
    "    \n",
    "Women_arating"
   ]
  },
  {
   "cell_type": "code",
   "execution_count": 99,
   "id": "a1c4de7b",
   "metadata": {},
   "outputs": [
    {
     "data": {
      "text/plain": [
       "['380', '374', '357', '356', '349', '322', '270', '246', '214', '207']"
      ]
     },
     "execution_count": 99,
     "metadata": {},
     "output_type": "execute_result"
    }
   ],
   "source": [
    "Women_arating.insert(0,Women_1arating.text.split('\\n')[1])\n",
    "Women_arating"
   ]
  },
  {
   "cell_type": "code",
   "execution_count": 100,
   "id": "592a01b9",
   "metadata": {},
   "outputs": [
    {
     "data": {
      "text/html": [
       "<div>\n",
       "<style scoped>\n",
       "    .dataframe tbody tr th:only-of-type {\n",
       "        vertical-align: middle;\n",
       "    }\n",
       "\n",
       "    .dataframe tbody tr th {\n",
       "        vertical-align: top;\n",
       "    }\n",
       "\n",
       "    .dataframe thead th {\n",
       "        text-align: right;\n",
       "    }\n",
       "</style>\n",
       "<table border=\"1\" class=\"dataframe\">\n",
       "  <thead>\n",
       "    <tr style=\"text-align: right;\">\n",
       "      <th></th>\n",
       "      <th>PLAYER</th>\n",
       "      <th>TEAM</th>\n",
       "      <th>RATING</th>\n",
       "    </tr>\n",
       "  </thead>\n",
       "  <tbody>\n",
       "    <tr>\n",
       "      <th>1</th>\n",
       "      <td>Hayley Matthews</td>\n",
       "      <td>WI</td>\n",
       "      <td>380</td>\n",
       "    </tr>\n",
       "    <tr>\n",
       "      <th>2</th>\n",
       "      <td>Ellyse Perry</td>\n",
       "      <td>AUS</td>\n",
       "      <td>374</td>\n",
       "    </tr>\n",
       "    <tr>\n",
       "      <th>3</th>\n",
       "      <td>Natalie Sciver</td>\n",
       "      <td>ENG</td>\n",
       "      <td>357</td>\n",
       "    </tr>\n",
       "    <tr>\n",
       "      <th>4</th>\n",
       "      <td>Amelia Kerr</td>\n",
       "      <td>NZ</td>\n",
       "      <td>356</td>\n",
       "    </tr>\n",
       "    <tr>\n",
       "      <th>5</th>\n",
       "      <td>Marizanne Kapp</td>\n",
       "      <td>SA</td>\n",
       "      <td>349</td>\n",
       "    </tr>\n",
       "    <tr>\n",
       "      <th>6</th>\n",
       "      <td>Deepti Sharma</td>\n",
       "      <td>IND</td>\n",
       "      <td>322</td>\n",
       "    </tr>\n",
       "    <tr>\n",
       "      <th>7</th>\n",
       "      <td>Ashleigh Gardner</td>\n",
       "      <td>AUS</td>\n",
       "      <td>270</td>\n",
       "    </tr>\n",
       "    <tr>\n",
       "      <th>8</th>\n",
       "      <td>Jess Jonassen</td>\n",
       "      <td>AUS</td>\n",
       "      <td>246</td>\n",
       "    </tr>\n",
       "    <tr>\n",
       "      <th>9</th>\n",
       "      <td>Jhulan Goswami</td>\n",
       "      <td>IND</td>\n",
       "      <td>214</td>\n",
       "    </tr>\n",
       "    <tr>\n",
       "      <th>10</th>\n",
       "      <td>Katherine Brunt</td>\n",
       "      <td>ENG</td>\n",
       "      <td>207</td>\n",
       "    </tr>\n",
       "  </tbody>\n",
       "</table>\n",
       "</div>"
      ],
      "text/plain": [
       "              PLAYER TEAM RATING\n",
       "1    Hayley Matthews   WI    380\n",
       "2       Ellyse Perry  AUS    374\n",
       "3     Natalie Sciver  ENG    357\n",
       "4        Amelia Kerr   NZ    356\n",
       "5     Marizanne Kapp   SA    349\n",
       "6      Deepti Sharma  IND    322\n",
       "7   Ashleigh Gardner  AUS    270\n",
       "8      Jess Jonassen  AUS    246\n",
       "9     Jhulan Goswami  IND    214\n",
       "10   Katherine Brunt  ENG    207"
      ]
     },
     "execution_count": 100,
     "metadata": {},
     "output_type": "execute_result"
    }
   ],
   "source": [
    "import pandas as pd\n",
    "\n",
    "Top10_ODI_Walround = pd.DataFrame({'PLAYER':Women_alround,'TEAM':Women_nation,'RATING':Women_arating},index=range(1,11))\n",
    "\n",
    "Top10_ODI_Walround"
   ]
  },
  {
   "cell_type": "code",
   "execution_count": 101,
   "id": "c690acf7",
   "metadata": {},
   "outputs": [
    {
     "data": {
      "text/plain": [
       "<Response [200]>"
      ]
     },
     "execution_count": 101,
     "metadata": {},
     "output_type": "execute_result"
    }
   ],
   "source": [
    "# Q7)Python program to scrape mentioned news details from https://www.cnbc.com/world/?region=world :\n",
    "\n",
    "# i) Headline\n",
    "\n",
    "page_cnbc = requests.get('https://www.cnbc.com/world/?region=world')\n",
    "\n",
    "page_cnbc"
   ]
  },
  {
   "cell_type": "code",
   "execution_count": 102,
   "id": "a2fa61c1",
   "metadata": {},
   "outputs": [],
   "source": [
    "soup_cnbc = BeautifulSoup(page_cnbc.content)"
   ]
  },
  {
   "cell_type": "code",
   "execution_count": 103,
   "id": "83473b11",
   "metadata": {},
   "outputs": [
    {
     "data": {
      "text/plain": [
       "[\"EU official warns Musk he'll have to 'fly by our rules' as he buys Twitter\",\n",
       " 'Latest News',\n",
       " 'QUOTE FINDER',\n",
       " 'Markets',\n",
       " 'Trending Now',\n",
       " 'Pro News and Analysis',\n",
       " 'Sustainable Future',\n",
       " 'Coronavirus',\n",
       " 'CNBC Travel',\n",
       " 'Make It',\n",
       " 'Investing in supertrends']"
      ]
     },
     "execution_count": 103,
     "metadata": {},
     "output_type": "execute_result"
    }
   ],
   "source": [
    "Headline = []\n",
    "\n",
    "for h in soup_cnbc.find_all('h2'):\n",
    "    Headline.append(h.text)\n",
    "\n",
    "Headline"
   ]
  },
  {
   "cell_type": "code",
   "execution_count": 104,
   "id": "90b7414c",
   "metadata": {},
   "outputs": [
    {
     "data": {
      "text/plain": [
       "<Response [200]>"
      ]
     },
     "execution_count": 104,
     "metadata": {},
     "output_type": "execute_result"
    }
   ],
   "source": [
    "# Q7)Python program to scrape mentioned news details from https://www.cnbc.com/world/?region=world :\n",
    "\n",
    "# ii) Time\n",
    "\n",
    "page_cnbc = requests.get('https://www.cnbc.com/world/?region=world')\n",
    "\n",
    "page_cnbc"
   ]
  },
  {
   "cell_type": "code",
   "execution_count": 105,
   "id": "804272cb",
   "metadata": {},
   "outputs": [
    {
     "data": {
      "text/plain": [
       "['36 Min Ago',\n",
       " '51 Min Ago',\n",
       " '59 Min Ago',\n",
       " '1 Hour Ago',\n",
       " '1 Hour Ago',\n",
       " '1 Hour Ago',\n",
       " '1 Hour Ago',\n",
       " '1 Hour Ago',\n",
       " '2 Hours Ago',\n",
       " '2 Hours Ago',\n",
       " '2 Hours Ago',\n",
       " '2 Hours Ago',\n",
       " '2 Hours Ago',\n",
       " '2 Hours Ago',\n",
       " '2 Hours Ago',\n",
       " '2 Hours Ago',\n",
       " '2 Hours Ago',\n",
       " '2 Hours Ago',\n",
       " '3 Hours Ago',\n",
       " '3 Hours Ago',\n",
       " '3 Hours Ago',\n",
       " '4 Hours Ago',\n",
       " '4 Hours Ago',\n",
       " '4 Hours Ago',\n",
       " '4 Hours Ago',\n",
       " '4 Hours Ago',\n",
       " '4 Hours Ago',\n",
       " '4 Hours Ago',\n",
       " '5 Hours Ago',\n",
       " '5 Hours Ago']"
      ]
     },
     "execution_count": 105,
     "metadata": {},
     "output_type": "execute_result"
    }
   ],
   "source": [
    "Time = []\n",
    "\n",
    "for time in soup_cnbc.find_all('time',class_=\"LatestNews-timestamp\"):\n",
    "    Time.append(time.text)\n",
    "    \n",
    "Time"
   ]
  },
  {
   "cell_type": "code",
   "execution_count": 106,
   "id": "c1c05dc7",
   "metadata": {},
   "outputs": [
    {
     "data": {
      "text/plain": [
       "['https://www.cnbc.com/2022/10/27/stock-market-futures-open-to-close-news.html',\n",
       " '/pro/',\n",
       " 'https://www.cnbc.com/2022/10/28/russia-ukraine-live-updates.html',\n",
       " 'https://www.cnbc.com/2022/10/28/amazon-stock-tumbles-after-downbeat-sales-forecast.html',\n",
       " 'https://www.cnbc.com/2022/10/28/europe-telco-industry-pushes-big-tech-to-pay-for-building-the-internet.html',\n",
       " '/pro/',\n",
       " 'https://www.cnbc.com/2022/10/28/energy-crisis-europe-gas-prices-drop-but-could-rise-in-coming-months.html',\n",
       " 'https://www.cnbc.com/2022/10/28/pending-home-sales-fell-10percent-in-september-from-august.html',\n",
       " 'https://www.cnbc.com/2022/10/28/covid-cases-controls-spread-in-china.html',\n",
       " 'https://www.cnbc.com/2022/10/28/musk-twitter-deal-bank-of-america-ceo-isnt-worried-about-debt-funding.html',\n",
       " 'https://www.cnbc.com/2022/10/28/eu-pushes-ahead-with-plan-to-ban-new-diesel-gasoline-cars.html',\n",
       " 'https://www.cnbc.com/2022/10/28/ex-apple-and-tesla-exec-gives-tips-for-building-successful-business.html',\n",
       " 'https://www.cnbc.com/2022/10/27/clean-energy-investment-may-hit-2-trillion-a-year-by-2030-iea.html',\n",
       " 'https://www.cnbc.com/2022/10/28/imf-asia-would-have-most-to-lose-if-economic-fragmentation-worsens.html',\n",
       " 'https://www.cnbc.com/2022/10/28/asia-markets-stocks-bank-of-japan-interest-rates-currencies.html',\n",
       " 'https://www.cnbc.com/2022/10/28/european-markets-open-to-close-earnings-data-and-news.html',\n",
       " 'https://www.cnbc.com/2022/10/28/foreign-investment-funds-bet-on-a-us-proof-china-chip-industry.html',\n",
       " 'https://www.cnbc.com/2022/10/28/australian-borrowers-in-good-shape-to-weather-higher-interest-rates.html',\n",
       " 'https://www.cnbc.com/2022/10/27/the-best-and-worst-parts-about-van-life-and-one-tip-before-trying-it.html',\n",
       " 'https://www.cnbc.com/2022/10/28/bank-of-japan-sticks-to-its-dovish-stance-as-the-rest-of-the-world-takes-on-jumbo-hikes.html']"
      ]
     },
     "execution_count": 106,
     "metadata": {},
     "output_type": "execute_result"
    }
   ],
   "source": [
    "# Q7)Python program to scrape mentioned news details from https://www.cnbc.com/world/?region=world :\n",
    "\n",
    "# iii) News link\n",
    "\n",
    "Links = []\n",
    "\n",
    "for l in soup_cnbc.find_all('div',class_=\"RiverHeadline-headline RiverHeadline-hasThumbnail\"):\n",
    "    Links.append(l.a['href'])\n",
    "    \n",
    "Links"
   ]
  },
  {
   "cell_type": "code",
   "execution_count": 107,
   "id": "2d4e6be5",
   "metadata": {},
   "outputs": [
    {
     "data": {
      "text/plain": [
       "<Response [200]>"
      ]
     },
     "execution_count": 107,
     "metadata": {},
     "output_type": "execute_result"
    }
   ],
   "source": [
    "# Q8) Python program to scrape the details of most downloaded articles from AI in last 90 days\n",
    "\n",
    "# i) Paper Title\n",
    "\n",
    "page_journal = requests.get('https://www.journals.elsevier.com/artificial-intelligence/most-downloaded-articles')\n",
    "\n",
    "page_journal"
   ]
  },
  {
   "cell_type": "code",
   "execution_count": 108,
   "id": "598d15c4",
   "metadata": {},
   "outputs": [],
   "source": [
    "soup_journal = BeautifulSoup(page_journal.content)"
   ]
  },
  {
   "cell_type": "code",
   "execution_count": 109,
   "id": "b015ce5f",
   "metadata": {},
   "outputs": [
    {
     "data": {
      "text/plain": [
       "['Reward is enough',\n",
       " 'Making sense of raw input',\n",
       " 'Law and logic: A review from an argumentation perspective',\n",
       " 'Creativity and artificial intelligence',\n",
       " 'Artificial cognition for social human–robot interaction: An implementation',\n",
       " 'Explanation in artificial intelligence: Insights from the social sciences',\n",
       " 'Making sense of sensory input',\n",
       " 'Conflict-based search for optimal multi-agent pathfinding',\n",
       " 'Between MDPs and semi-MDPs: A framework for temporal abstraction in reinforcement learning',\n",
       " 'The Hanabi challenge: A new frontier for AI research',\n",
       " 'Evaluating XAI: A comparison of rule-based and example-based explanations',\n",
       " 'Argumentation in artificial intelligence',\n",
       " 'Algorithms for computing strategies in two-player simultaneous move games',\n",
       " 'Multiple object tracking: A literature review',\n",
       " 'Selection of relevant features and examples in machine learning',\n",
       " 'A survey of inverse reinforcement learning: Challenges, methods and progress',\n",
       " 'Explaining individual predictions when features are dependent: More accurate approximations to Shapley values',\n",
       " 'A review of possible effects of cognitive biases on interpretation of rule-based machine learning models',\n",
       " 'Integrating social power into the decision-making of cognitive agents',\n",
       " \"“That's (not) the output I expected!” On the role of end user expectations in creating explanations of AI systems\",\n",
       " 'Explaining black-box classifiers using post-hoc explanations-by-example: The effect of explanations and error-rates in XAI user studies',\n",
       " 'Algorithm runtime prediction: Methods & evaluation',\n",
       " 'Wrappers for feature subset selection',\n",
       " 'Commonsense visual sensemaking for autonomous driving – On generalised neurosymbolic online abduction integrating vision and semantics',\n",
       " 'Quantum computation, quantum theory and AI']"
      ]
     },
     "execution_count": 109,
     "metadata": {},
     "output_type": "execute_result"
    }
   ],
   "source": [
    "Paper_title = []\n",
    "\n",
    "for t in soup_journal.find_all('h2',class_=\"sc-1qrq3sd-1 MKjKb sc-1nmom32-0 sc-1nmom32-1 hqhUYH ebTA-dR\"):\n",
    "    Paper_title.append(t.text)\n",
    "    \n",
    "Paper_title"
   ]
  },
  {
   "cell_type": "code",
   "execution_count": 110,
   "id": "c3bab74b",
   "metadata": {},
   "outputs": [
    {
     "data": {
      "text/plain": [
       "['Silver, David, Singh, Satinder, Precup, Doina, Sutton, Richard S. ',\n",
       " 'Evans, Richard, Bošnjak, Matko and 5 more',\n",
       " 'Prakken, Henry, Sartor, Giovanni ',\n",
       " 'Boden, Margaret A. ',\n",
       " 'Lemaignan, Séverin, Warnier, Mathieu and 3 more',\n",
       " 'Miller, Tim ',\n",
       " 'Evans, Richard, Hernández-Orallo, José and 3 more',\n",
       " 'Sharon, Guni, Stern, Roni, Felner, Ariel, Sturtevant, Nathan R. ',\n",
       " 'Sutton, Richard S., Precup, Doina, Singh, Satinder ',\n",
       " 'Bard, Nolan, Foerster, Jakob N. and 13 more',\n",
       " 'van der Waa, Jasper, Nieuwburg, Elisabeth, Cremers, Anita, Neerincx, Mark ',\n",
       " 'Bench-Capon, T.J.M., Dunne, Paul E. ',\n",
       " 'Bošanský, Branislav, Lisý, Viliam and 3 more',\n",
       " 'Luo, Wenhan, Xing, Junliang and 4 more',\n",
       " 'Blum, Avrim L., Langley, Pat ',\n",
       " 'Arora, Saurabh, Doshi, Prashant ',\n",
       " 'Aas, Kjersti, Jullum, Martin, Løland, Anders ',\n",
       " 'Kliegr, Tomáš, Bahník, Štěpán, Fürnkranz, Johannes ',\n",
       " 'Pereira, Gonçalo, Prada, Rui, Santos, Pedro A. ',\n",
       " 'Riveiro, Maria, Thill, Serge ',\n",
       " 'Kenny, Eoin M., Ford, Courtney, Quinn, Molly, Keane, Mark T. ',\n",
       " 'Hutter, Frank, Xu, Lin, Hoos, Holger H., Leyton-Brown, Kevin ',\n",
       " 'Kohavi, Ron, John, George H. ',\n",
       " 'Suchan, Jakob, Bhatt, Mehul, Varadarajan, Srikrishna ',\n",
       " 'Ying, Mingsheng ']"
      ]
     },
     "execution_count": 110,
     "metadata": {},
     "output_type": "execute_result"
    }
   ],
   "source": [
    "# Q8) Python program to scrape the details of most downloaded articles from AI in last 90 days\n",
    "\n",
    "# ii) Authors\n",
    "\n",
    "Authors = []\n",
    "\n",
    "for a in soup_journal.find_all('span',class_=\"sc-1w3fpd7-0 pgLAT\"):\n",
    "    Authors.append(a.text)\n",
    "    \n",
    "Authors"
   ]
  },
  {
   "cell_type": "code",
   "execution_count": 111,
   "id": "ca185cb4",
   "metadata": {},
   "outputs": [
    {
     "data": {
      "text/plain": [
       "['October 2021',\n",
       " 'October 2021',\n",
       " 'October 2015',\n",
       " 'August 1998',\n",
       " 'June 2017',\n",
       " 'February 2019',\n",
       " 'April 2021',\n",
       " 'February 2015',\n",
       " 'August 1999',\n",
       " 'March 2020',\n",
       " 'February 2021',\n",
       " 'October 2007',\n",
       " 'August 2016',\n",
       " 'April 2021',\n",
       " 'December 1997',\n",
       " 'August 2021',\n",
       " 'September 2021',\n",
       " 'June 2021',\n",
       " 'December 2016',\n",
       " 'September 2021',\n",
       " 'May 2021',\n",
       " 'January 2014',\n",
       " 'December 1997',\n",
       " 'October 2021',\n",
       " 'February 2010']"
      ]
     },
     "execution_count": 111,
     "metadata": {},
     "output_type": "execute_result"
    }
   ],
   "source": [
    "# Q8) Python program to scrape the details of most downloaded articles from AI in last 90 days\n",
    "\n",
    "# iii) Published date\n",
    "\n",
    "Published_date = []\n",
    "\n",
    "for date in soup_journal.find_all('span',class_=\"sc-1thf9ly-2 bKddwo\"):\n",
    "    Published_date.append(date.text)\n",
    "    \n",
    "Published_date"
   ]
  },
  {
   "cell_type": "code",
   "execution_count": 112,
   "id": "1bc0143c",
   "metadata": {},
   "outputs": [
    {
     "data": {
      "text/plain": [
       "['https://www.sciencedirect.com/science/article/pii/S0004370221000862',\n",
       " 'https://www.sciencedirect.com/science/article/pii/S0004370221000722',\n",
       " 'https://www.sciencedirect.com/science/article/pii/S0004370215000910',\n",
       " 'https://www.sciencedirect.com/science/article/pii/S0004370298000551',\n",
       " 'https://www.sciencedirect.com/science/article/pii/S0004370216300790',\n",
       " 'https://www.sciencedirect.com/science/article/pii/S0004370218305988',\n",
       " 'https://www.sciencedirect.com/science/article/pii/S0004370220301855',\n",
       " 'https://www.sciencedirect.com/science/article/pii/S0004370214001386',\n",
       " 'https://www.sciencedirect.com/science/article/pii/S0004370299000521',\n",
       " 'https://www.sciencedirect.com/science/article/pii/S0004370219300116',\n",
       " 'https://www.sciencedirect.com/science/article/pii/S0004370220301533',\n",
       " 'https://www.sciencedirect.com/science/article/pii/S0004370207000793',\n",
       " 'https://www.sciencedirect.com/science/article/pii/S0004370216300285',\n",
       " 'https://www.sciencedirect.com/science/article/pii/S0004370220301958',\n",
       " 'https://www.sciencedirect.com/science/article/pii/S0004370297000635',\n",
       " 'https://www.sciencedirect.com/science/article/pii/S0004370221000515',\n",
       " 'https://www.sciencedirect.com/science/article/pii/S0004370221000539',\n",
       " 'https://www.sciencedirect.com/science/article/pii/S0004370221000096',\n",
       " 'https://www.sciencedirect.com/science/article/pii/S0004370216300868',\n",
       " 'https://www.sciencedirect.com/science/article/pii/S0004370221000588',\n",
       " 'https://www.sciencedirect.com/science/article/pii/S0004370221000102',\n",
       " 'https://www.sciencedirect.com/science/article/pii/S0004370213001082',\n",
       " 'https://www.sciencedirect.com/science/article/pii/S000437029700043X',\n",
       " 'https://www.sciencedirect.com/science/article/pii/S0004370221000734',\n",
       " 'https://www.sciencedirect.com/science/article/pii/S0004370209001398']"
      ]
     },
     "execution_count": 112,
     "metadata": {},
     "output_type": "execute_result"
    }
   ],
   "source": [
    "# Q8) Python program to scrape the details of most downloaded articles from AI in last 90 days\n",
    "\n",
    "# iv) Paper URL\n",
    "\n",
    "Paper_url = []\n",
    "\n",
    "for u in soup_journal.find_all('li',class_=\"sc-9zxyh7-1 sc-9zxyh7-2 exAXfr jQmQZp\"):\n",
    "    Paper_url.append(u.a['href'])\n",
    "    \n",
    "Paper_url"
   ]
  },
  {
   "cell_type": "code",
   "execution_count": 113,
   "id": "fb065025",
   "metadata": {},
   "outputs": [
    {
     "data": {
      "text/plain": [
       "<Response [200]>"
      ]
     },
     "execution_count": 113,
     "metadata": {},
     "output_type": "execute_result"
    }
   ],
   "source": [
    "# Q9) Python program to scrape mentioned details from dineout.co.in\n",
    "\n",
    "# i) Restaurant name\n",
    "\n",
    "page_dineout = requests.get('https://www.dineout.co.in/delhi-restaurants/buffet-special')\n",
    "\n",
    "page_dineout"
   ]
  },
  {
   "cell_type": "code",
   "execution_count": 114,
   "id": "77fc1246",
   "metadata": {},
   "outputs": [],
   "source": [
    "soup_dineout = BeautifulSoup(page_dineout.content)"
   ]
  },
  {
   "cell_type": "code",
   "execution_count": 115,
   "id": "ec05eaec",
   "metadata": {},
   "outputs": [
    {
     "data": {
      "text/plain": [
       "['Castle Barbeque',\n",
       " 'Jungle Jamboree',\n",
       " 'Castle Barbeque',\n",
       " 'Cafe Knosh',\n",
       " 'The Barbeque Company',\n",
       " 'India Grill',\n",
       " 'Delhi Barbeque',\n",
       " 'The Monarch - Bar Be Que Village',\n",
       " 'Indian Grill Room']"
      ]
     },
     "execution_count": 115,
     "metadata": {},
     "output_type": "execute_result"
    }
   ],
   "source": [
    "Restaurant = []\n",
    "\n",
    "for r in soup_dineout.find_all('a',class_=\"restnt-name ellipsis\"):\n",
    "    Restaurant.append(r.text)\n",
    "\n",
    "Restaurant"
   ]
  },
  {
   "cell_type": "code",
   "execution_count": 116,
   "id": "b0505f5b",
   "metadata": {},
   "outputs": [
    {
     "data": {
      "text/plain": [
       "[' Chinese, North Indian',\n",
       " ' North Indian, Asian, Italian',\n",
       " ' Chinese, North Indian',\n",
       " ' Italian, Continental',\n",
       " ' North Indian, Chinese',\n",
       " ' North Indian, Italian',\n",
       " ' North Indian',\n",
       " ' North Indian',\n",
       " ' North Indian, Mughlai']"
      ]
     },
     "execution_count": 116,
     "metadata": {},
     "output_type": "execute_result"
    }
   ],
   "source": [
    "# Q9) Python program to scrape mentioned details from dineout.co.in\n",
    "\n",
    "# ii) Cuisine\n",
    "\n",
    "Cuisine = []\n",
    "\n",
    "for c in soup_dineout.find_all('span',class_=\"double-line-ellipsis\"):\n",
    "    Cuisine.append(c.text.split('|')[1])\n",
    "\n",
    "Cuisine"
   ]
  },
  {
   "cell_type": "code",
   "execution_count": 117,
   "id": "2010a776",
   "metadata": {},
   "outputs": [
    {
     "data": {
      "text/plain": [
       "['Connaught Place, Central Delhi',\n",
       " '3CS Mall,Lajpat Nagar - 3, South Delhi',\n",
       " 'Pacific Mall,Tagore Garden, West Delhi',\n",
       " 'The Leela Ambience Convention Hotel,Shahdara, East Delhi',\n",
       " 'Gardens Galleria,Sector 38A, Noida',\n",
       " 'Hilton Garden Inn,Saket, South Delhi',\n",
       " 'Taurus Sarovar Portico,Mahipalpur, South Delhi',\n",
       " 'Indirapuram Habitat Centre,Indirapuram, Ghaziabad',\n",
       " 'Suncity Business Tower,Golf Course Road, Gurgaon']"
      ]
     },
     "execution_count": 117,
     "metadata": {},
     "output_type": "execute_result"
    }
   ],
   "source": [
    "# Q9) Python program to scrape mentioned details from dineout.co.in\n",
    "\n",
    "# iii) Location\n",
    "\n",
    "Location = []\n",
    "\n",
    "for l in soup_dineout.find_all('div',class_=\"restnt-loc ellipsis\"):\n",
    "    Location.append(l.text.split('|')[0])\n",
    "\n",
    "Location"
   ]
  },
  {
   "cell_type": "code",
   "execution_count": 118,
   "id": "61958200",
   "metadata": {},
   "outputs": [
    {
     "data": {
      "text/plain": [
       "['4.1', '3.9', '3.9', '4.3', '4', '3.9', '3.6', '3.8', '4.3']"
      ]
     },
     "execution_count": 118,
     "metadata": {},
     "output_type": "execute_result"
    }
   ],
   "source": [
    "# Q9) Python program to scrape mentioned details from dineout.co.in\n",
    "\n",
    "# iv) Ratings\n",
    "\n",
    "Ratings= []\n",
    "\n",
    "for r in soup_dineout.find_all('div',class_=\"restnt-rating rating-4\"):\n",
    "    Ratings.append(r.text)\n",
    "    \n",
    "Ratings"
   ]
  },
  {
   "cell_type": "code",
   "execution_count": 119,
   "id": "0b458003",
   "metadata": {},
   "outputs": [
    {
     "data": {
      "text/plain": [
       "['https://im1.dineout.co.in/images/uploads/restaurant/sharpen/8/k/b/p86792-16062953735fbe1f4d3fb7e.jpg?tr=tr:n-medium',\n",
       " 'https://im1.dineout.co.in/images/uploads/restaurant/sharpen/5/p/m/p59633-166088382462ff137009010.jpg?tr=tr:n-medium',\n",
       " 'https://im1.dineout.co.in/images/uploads/restaurant/sharpen/3/j/o/p38113-15959192065f1fcb666130c.jpg?tr=tr:n-medium',\n",
       " 'https://im1.dineout.co.in/images/uploads/restaurant/sharpen/4/p/m/p406-15438184745c04ccea491bc.jpg?tr=tr:n-medium',\n",
       " 'https://im1.dineout.co.in/images/uploads/restaurant/sharpen/7/p/k/p79307-16051787755fad1597f2bf9.jpg?tr=tr:n-medium',\n",
       " 'https://im1.dineout.co.in/images/uploads/restaurant/sharpen/2/v/t/p2687-1482477169585cce712b90f.jpg?tr=tr:n-medium',\n",
       " 'https://im1.dineout.co.in/images/uploads/restaurant/sharpen/5/d/i/p52501-1661855212630de5eceb6d2.jpg?tr=tr:n-medium',\n",
       " 'https://im1.dineout.co.in/images/uploads/restaurant/sharpen/3/n/o/p34822-15599107305cfa594a13c24.jpg?tr=tr:n-medium',\n",
       " 'https://im1.dineout.co.in/images/uploads/restaurant/sharpen/5/y/f/p549-165000147262590640c0afc.jpg?tr=tr:n-medium']"
      ]
     },
     "execution_count": 119,
     "metadata": {},
     "output_type": "execute_result"
    }
   ],
   "source": [
    "# Q9) Python program to scrape mentioned details from dineout.co.in\n",
    "\n",
    "# v) Image URL\n",
    "\n",
    "Img_url = []\n",
    "\n",
    "for i in soup_dineout.find_all('img',class_=\"no-img\"):\n",
    "    Img_url.append(i['data-src'])\n",
    "    \n",
    "Img_url"
   ]
  },
  {
   "cell_type": "code",
   "execution_count": 120,
   "id": "0bd8cb5d",
   "metadata": {},
   "outputs": [
    {
     "data": {
      "text/html": [
       "<div>\n",
       "<style scoped>\n",
       "    .dataframe tbody tr th:only-of-type {\n",
       "        vertical-align: middle;\n",
       "    }\n",
       "\n",
       "    .dataframe tbody tr th {\n",
       "        vertical-align: top;\n",
       "    }\n",
       "\n",
       "    .dataframe thead th {\n",
       "        text-align: right;\n",
       "    }\n",
       "</style>\n",
       "<table border=\"1\" class=\"dataframe\">\n",
       "  <thead>\n",
       "    <tr style=\"text-align: right;\">\n",
       "      <th></th>\n",
       "      <th>Restaurant</th>\n",
       "      <th>Cuisine</th>\n",
       "      <th>Loacation</th>\n",
       "      <th>Rating</th>\n",
       "      <th>Image_URL</th>\n",
       "    </tr>\n",
       "  </thead>\n",
       "  <tbody>\n",
       "    <tr>\n",
       "      <th>1</th>\n",
       "      <td>Castle Barbeque</td>\n",
       "      <td>Chinese, North Indian</td>\n",
       "      <td>Connaught Place, Central Delhi</td>\n",
       "      <td>4.1</td>\n",
       "      <td>https://im1.dineout.co.in/images/uploads/resta...</td>\n",
       "    </tr>\n",
       "    <tr>\n",
       "      <th>2</th>\n",
       "      <td>Jungle Jamboree</td>\n",
       "      <td>North Indian, Asian, Italian</td>\n",
       "      <td>3CS Mall,Lajpat Nagar - 3, South Delhi</td>\n",
       "      <td>3.9</td>\n",
       "      <td>https://im1.dineout.co.in/images/uploads/resta...</td>\n",
       "    </tr>\n",
       "    <tr>\n",
       "      <th>3</th>\n",
       "      <td>Castle Barbeque</td>\n",
       "      <td>Chinese, North Indian</td>\n",
       "      <td>Pacific Mall,Tagore Garden, West Delhi</td>\n",
       "      <td>3.9</td>\n",
       "      <td>https://im1.dineout.co.in/images/uploads/resta...</td>\n",
       "    </tr>\n",
       "    <tr>\n",
       "      <th>4</th>\n",
       "      <td>Cafe Knosh</td>\n",
       "      <td>Italian, Continental</td>\n",
       "      <td>The Leela Ambience Convention Hotel,Shahdara, ...</td>\n",
       "      <td>4.3</td>\n",
       "      <td>https://im1.dineout.co.in/images/uploads/resta...</td>\n",
       "    </tr>\n",
       "    <tr>\n",
       "      <th>5</th>\n",
       "      <td>The Barbeque Company</td>\n",
       "      <td>North Indian, Chinese</td>\n",
       "      <td>Gardens Galleria,Sector 38A, Noida</td>\n",
       "      <td>4</td>\n",
       "      <td>https://im1.dineout.co.in/images/uploads/resta...</td>\n",
       "    </tr>\n",
       "    <tr>\n",
       "      <th>6</th>\n",
       "      <td>India Grill</td>\n",
       "      <td>North Indian, Italian</td>\n",
       "      <td>Hilton Garden Inn,Saket, South Delhi</td>\n",
       "      <td>3.9</td>\n",
       "      <td>https://im1.dineout.co.in/images/uploads/resta...</td>\n",
       "    </tr>\n",
       "    <tr>\n",
       "      <th>7</th>\n",
       "      <td>Delhi Barbeque</td>\n",
       "      <td>North Indian</td>\n",
       "      <td>Taurus Sarovar Portico,Mahipalpur, South Delhi</td>\n",
       "      <td>3.6</td>\n",
       "      <td>https://im1.dineout.co.in/images/uploads/resta...</td>\n",
       "    </tr>\n",
       "    <tr>\n",
       "      <th>8</th>\n",
       "      <td>The Monarch - Bar Be Que Village</td>\n",
       "      <td>North Indian</td>\n",
       "      <td>Indirapuram Habitat Centre,Indirapuram, Ghaziabad</td>\n",
       "      <td>3.8</td>\n",
       "      <td>https://im1.dineout.co.in/images/uploads/resta...</td>\n",
       "    </tr>\n",
       "    <tr>\n",
       "      <th>9</th>\n",
       "      <td>Indian Grill Room</td>\n",
       "      <td>North Indian, Mughlai</td>\n",
       "      <td>Suncity Business Tower,Golf Course Road, Gurgaon</td>\n",
       "      <td>4.3</td>\n",
       "      <td>https://im1.dineout.co.in/images/uploads/resta...</td>\n",
       "    </tr>\n",
       "  </tbody>\n",
       "</table>\n",
       "</div>"
      ],
      "text/plain": [
       "                         Restaurant                        Cuisine  \\\n",
       "1                   Castle Barbeque          Chinese, North Indian   \n",
       "2                   Jungle Jamboree   North Indian, Asian, Italian   \n",
       "3                   Castle Barbeque          Chinese, North Indian   \n",
       "4                        Cafe Knosh           Italian, Continental   \n",
       "5              The Barbeque Company          North Indian, Chinese   \n",
       "6                       India Grill          North Indian, Italian   \n",
       "7                    Delhi Barbeque                   North Indian   \n",
       "8  The Monarch - Bar Be Que Village                   North Indian   \n",
       "9                 Indian Grill Room          North Indian, Mughlai   \n",
       "\n",
       "                                           Loacation Rating  \\\n",
       "1                     Connaught Place, Central Delhi    4.1   \n",
       "2             3CS Mall,Lajpat Nagar - 3, South Delhi    3.9   \n",
       "3             Pacific Mall,Tagore Garden, West Delhi    3.9   \n",
       "4  The Leela Ambience Convention Hotel,Shahdara, ...    4.3   \n",
       "5                 Gardens Galleria,Sector 38A, Noida      4   \n",
       "6               Hilton Garden Inn,Saket, South Delhi    3.9   \n",
       "7     Taurus Sarovar Portico,Mahipalpur, South Delhi    3.6   \n",
       "8  Indirapuram Habitat Centre,Indirapuram, Ghaziabad    3.8   \n",
       "9   Suncity Business Tower,Golf Course Road, Gurgaon    4.3   \n",
       "\n",
       "                                           Image_URL  \n",
       "1  https://im1.dineout.co.in/images/uploads/resta...  \n",
       "2  https://im1.dineout.co.in/images/uploads/resta...  \n",
       "3  https://im1.dineout.co.in/images/uploads/resta...  \n",
       "4  https://im1.dineout.co.in/images/uploads/resta...  \n",
       "5  https://im1.dineout.co.in/images/uploads/resta...  \n",
       "6  https://im1.dineout.co.in/images/uploads/resta...  \n",
       "7  https://im1.dineout.co.in/images/uploads/resta...  \n",
       "8  https://im1.dineout.co.in/images/uploads/resta...  \n",
       "9  https://im1.dineout.co.in/images/uploads/resta...  "
      ]
     },
     "execution_count": 120,
     "metadata": {},
     "output_type": "execute_result"
    }
   ],
   "source": [
    "Dineout = pd.DataFrame({'Restaurant':Restaurant,'Cuisine':Cuisine,'Loacation':Location,'Rating':Ratings,'Image_URL':Img_url},index=range(1,10))\n",
    "Dineout"
   ]
  },
  {
   "cell_type": "code",
   "execution_count": 121,
   "id": "eee0ac2f",
   "metadata": {},
   "outputs": [
    {
     "data": {
      "text/plain": [
       "<Response [200]>"
      ]
     },
     "execution_count": 121,
     "metadata": {},
     "output_type": "execute_result"
    }
   ],
   "source": [
    "# Q10) python program to scrape the details of top publications from Google Scholar from \n",
    "#https://scholar.google.com/citations?view_op=top_venues&hl=en\n",
    "\n",
    "# i) Rank\n",
    "\n",
    "page_G = requests.get('https://scholar.google.com/citations?view_op=top_venues&hl=en')\n",
    "\n",
    "page_G"
   ]
  },
  {
   "cell_type": "code",
   "execution_count": 122,
   "id": "1ee79b4b",
   "metadata": {},
   "outputs": [],
   "source": [
    "soup_G = BeautifulSoup(page_G.content)"
   ]
  },
  {
   "cell_type": "code",
   "execution_count": 123,
   "id": "e4bb86ea",
   "metadata": {},
   "outputs": [
    {
     "data": {
      "text/plain": [
       "['1.',\n",
       " '2.',\n",
       " '3.',\n",
       " '4.',\n",
       " '5.',\n",
       " '6.',\n",
       " '7.',\n",
       " '8.',\n",
       " '9.',\n",
       " '10.',\n",
       " '11.',\n",
       " '12.',\n",
       " '13.',\n",
       " '14.',\n",
       " '15.',\n",
       " '16.',\n",
       " '17.',\n",
       " '18.',\n",
       " '19.',\n",
       " '20.',\n",
       " '21.',\n",
       " '22.',\n",
       " '23.',\n",
       " '24.',\n",
       " '25.',\n",
       " '26.',\n",
       " '27.',\n",
       " '28.',\n",
       " '29.',\n",
       " '30.',\n",
       " '31.',\n",
       " '32.',\n",
       " '33.',\n",
       " '34.',\n",
       " '35.',\n",
       " '36.',\n",
       " '37.',\n",
       " '38.',\n",
       " '39.',\n",
       " '40.',\n",
       " '41.',\n",
       " '42.',\n",
       " '43.',\n",
       " '44.',\n",
       " '45.',\n",
       " '46.',\n",
       " '47.',\n",
       " '48.',\n",
       " '49.',\n",
       " '50.',\n",
       " '51.',\n",
       " '52.',\n",
       " '53.',\n",
       " '54.',\n",
       " '55.',\n",
       " '56.',\n",
       " '57.',\n",
       " '58.',\n",
       " '59.',\n",
       " '60.',\n",
       " '61.',\n",
       " '62.',\n",
       " '63.',\n",
       " '64.',\n",
       " '65.',\n",
       " '66.',\n",
       " '67.',\n",
       " '68.',\n",
       " '69.',\n",
       " '70.',\n",
       " '71.',\n",
       " '72.',\n",
       " '73.',\n",
       " '74.',\n",
       " '75.',\n",
       " '76.',\n",
       " '77.',\n",
       " '78.',\n",
       " '79.',\n",
       " '80.',\n",
       " '81.',\n",
       " '82.',\n",
       " '83.',\n",
       " '84.',\n",
       " '85.',\n",
       " '86.',\n",
       " '87.',\n",
       " '88.',\n",
       " '89.',\n",
       " '90.',\n",
       " '91.',\n",
       " '92.',\n",
       " '93.',\n",
       " '94.',\n",
       " '95.',\n",
       " '96.',\n",
       " '97.',\n",
       " '98.',\n",
       " '99.',\n",
       " '100.']"
      ]
     },
     "execution_count": 123,
     "metadata": {},
     "output_type": "execute_result"
    }
   ],
   "source": [
    "Rank = []\n",
    "\n",
    "for r in soup_G.find_all('td',class_=\"gsc_mvt_p\"):\n",
    "    Rank.append(r.text)\n",
    "    \n",
    "Rank"
   ]
  },
  {
   "cell_type": "code",
   "execution_count": 124,
   "id": "b092b11b",
   "metadata": {},
   "outputs": [
    {
     "data": {
      "text/plain": [
       "['Nature',\n",
       " 'The New England Journal of Medicine',\n",
       " 'Science',\n",
       " 'IEEE/CVF Conference on Computer Vision and Pattern Recognition',\n",
       " 'The Lancet',\n",
       " 'Advanced Materials',\n",
       " 'Nature Communications',\n",
       " 'Cell',\n",
       " 'International Conference on Learning Representations',\n",
       " 'Neural Information Processing Systems',\n",
       " 'JAMA',\n",
       " 'Chemical Reviews',\n",
       " 'Proceedings of the National Academy of Sciences',\n",
       " 'Angewandte Chemie',\n",
       " 'Chemical Society Reviews',\n",
       " 'Journal of the American Chemical Society',\n",
       " 'IEEE/CVF International Conference on Computer Vision',\n",
       " 'Nucleic Acids Research',\n",
       " 'International Conference on Machine Learning',\n",
       " 'Nature Medicine',\n",
       " 'Renewable and Sustainable Energy Reviews',\n",
       " 'Science of The Total Environment',\n",
       " 'Advanced Energy Materials',\n",
       " 'Journal of Clinical Oncology',\n",
       " 'ACS Nano',\n",
       " 'Journal of Cleaner Production',\n",
       " 'Advanced Functional Materials',\n",
       " 'Physical Review Letters',\n",
       " 'Scientific Reports',\n",
       " 'The Lancet Oncology',\n",
       " 'Energy & Environmental Science',\n",
       " 'IEEE Access',\n",
       " 'PLoS ONE',\n",
       " 'Science Advances',\n",
       " 'Journal of the American College of Cardiology',\n",
       " 'Applied Catalysis B: Environmental',\n",
       " 'Nature Genetics',\n",
       " 'BMJ',\n",
       " 'Circulation',\n",
       " 'European Conference on Computer Vision',\n",
       " 'International Journal of Molecular Sciences',\n",
       " 'Nature Materials',\n",
       " 'Chemical engineering journal',\n",
       " 'AAAI Conference on Artificial Intelligence',\n",
       " 'Journal of Materials Chemistry A',\n",
       " 'ACS Applied Materials & Interfaces',\n",
       " 'Nature Biotechnology',\n",
       " 'The Lancet Infectious Diseases',\n",
       " 'Frontiers in Immunology',\n",
       " 'Applied Energy',\n",
       " 'Nano Energy',\n",
       " 'Nature Energy',\n",
       " 'Meeting of the Association for Computational Linguistics (ACL)',\n",
       " 'The Astrophysical Journal',\n",
       " 'Gastroenterology',\n",
       " 'Nature Methods',\n",
       " 'IEEE Transactions on Pattern Analysis and Machine Intelligence',\n",
       " 'Cochrane Database of Systematic Reviews',\n",
       " 'Blood',\n",
       " 'Neuron',\n",
       " 'Nano Letters',\n",
       " 'Morbidity and Mortality Weekly Report',\n",
       " 'European Heart Journal',\n",
       " 'Nature Nanotechnology',\n",
       " 'ACS Catalysis',\n",
       " 'Nature Neuroscience',\n",
       " 'American Economic Review',\n",
       " 'Journal of High Energy Physics',\n",
       " 'IEEE Communications Surveys & Tutorials',\n",
       " 'Annals of Oncology',\n",
       " 'Nutrients',\n",
       " 'Accounts of Chemical Research',\n",
       " 'Immunity',\n",
       " 'Environmental Science & Technology',\n",
       " 'Nature Reviews. Molecular Cell Biology',\n",
       " 'Gut',\n",
       " 'Physical Review D',\n",
       " 'ACS Energy Letters',\n",
       " 'Monthly Notices of the Royal Astronomical Society',\n",
       " 'Conference on Empirical Methods in Natural Language Processing (EMNLP)',\n",
       " 'Clinical Infectious Diseases',\n",
       " 'Cell Metabolism',\n",
       " 'Nature Reviews Immunology',\n",
       " 'Joule',\n",
       " 'Nature Photonics',\n",
       " 'International Journal of Environmental Research and Public Health',\n",
       " 'Environmental Pollution',\n",
       " 'Computers in Human Behavior',\n",
       " 'Frontiers in Microbiology',\n",
       " 'Nature Physics',\n",
       " 'Small',\n",
       " 'Cell Reports',\n",
       " 'Molecular Cell',\n",
       " 'Clinical Cancer Research',\n",
       " 'Bioresource Technology',\n",
       " 'Journal of Business Research',\n",
       " 'Molecular Cancer',\n",
       " 'Sensors',\n",
       " 'Nature Climate Change',\n",
       " 'IEEE Internet of Things Journal']"
      ]
     },
     "execution_count": 124,
     "metadata": {},
     "output_type": "execute_result"
    }
   ],
   "source": [
    "# Q10) python program to scrape the details of top publications from Google Scholar from \n",
    "#https://scholar.google.com/citations?view_op=top_venues&hl=en\n",
    "\n",
    "# ii) Publication\n",
    "\n",
    "Publication = []\n",
    "\n",
    "for p in soup_G.find_all('td',class_=\"gsc_mvt_t\"):\n",
    "    Publication.append(p.text)\n",
    "    \n",
    "Publication"
   ]
  },
  {
   "cell_type": "code",
   "execution_count": 125,
   "id": "46b12963",
   "metadata": {},
   "outputs": [
    {
     "data": {
      "text/plain": [
       "['444',\n",
       " '432',\n",
       " '401',\n",
       " '389',\n",
       " '354',\n",
       " '312',\n",
       " '307',\n",
       " '300',\n",
       " '286',\n",
       " '278',\n",
       " '267',\n",
       " '265',\n",
       " '256',\n",
       " '245',\n",
       " '244',\n",
       " '242',\n",
       " '239',\n",
       " '238',\n",
       " '237',\n",
       " '235',\n",
       " '227',\n",
       " '225',\n",
       " '220',\n",
       " '213',\n",
       " '211',\n",
       " '211',\n",
       " '210',\n",
       " '207',\n",
       " '206',\n",
       " '202',\n",
       " '202',\n",
       " '200',\n",
       " '198',\n",
       " '197',\n",
       " '195',\n",
       " '192',\n",
       " '191',\n",
       " '190',\n",
       " '189',\n",
       " '186',\n",
       " '183',\n",
       " '181',\n",
       " '181',\n",
       " '180',\n",
       " '178',\n",
       " '177',\n",
       " '175',\n",
       " '173',\n",
       " '173',\n",
       " '173',\n",
       " '172',\n",
       " '170',\n",
       " '169',\n",
       " '167',\n",
       " '166',\n",
       " '165',\n",
       " '165',\n",
       " '165',\n",
       " '165',\n",
       " '164',\n",
       " '164',\n",
       " '163',\n",
       " '163',\n",
       " '163',\n",
       " '163',\n",
       " '162',\n",
       " '160',\n",
       " '160',\n",
       " '159',\n",
       " '159',\n",
       " '159',\n",
       " '159',\n",
       " '158',\n",
       " '158',\n",
       " '155',\n",
       " '155',\n",
       " '155',\n",
       " '155',\n",
       " '155',\n",
       " '154',\n",
       " '153',\n",
       " '153',\n",
       " '152',\n",
       " '152',\n",
       " '152',\n",
       " '152',\n",
       " '152',\n",
       " '152',\n",
       " '151',\n",
       " '151',\n",
       " '150',\n",
       " '149',\n",
       " '149',\n",
       " '146',\n",
       " '146',\n",
       " '145',\n",
       " '145',\n",
       " '145',\n",
       " '144',\n",
       " '144']"
      ]
     },
     "execution_count": 125,
     "metadata": {},
     "output_type": "execute_result"
    }
   ],
   "source": [
    "# Q10) python program to scrape the details of top publications from Google Scholar from \n",
    "#https://scholar.google.com/citations?view_op=top_venues&hl=en\n",
    "\n",
    "# iii)h5-index\n",
    "\n",
    "h5_index = []\n",
    "\n",
    "for h in soup_G.find_all('a',class_=\"gs_ibl gsc_mp_anchor\"):\n",
    "    h5_index.append(h.text)\n",
    "    \n",
    "h5_index"
   ]
  },
  {
   "cell_type": "code",
   "execution_count": 126,
   "id": "3942f0f3",
   "metadata": {},
   "outputs": [
    {
     "data": {
      "text/plain": [
       "['667',\n",
       " '780',\n",
       " '614',\n",
       " '627',\n",
       " '635',\n",
       " '418',\n",
       " '428',\n",
       " '505',\n",
       " '533',\n",
       " '436',\n",
       " '425',\n",
       " '444',\n",
       " '364',\n",
       " '332',\n",
       " '386',\n",
       " '344',\n",
       " '415',\n",
       " '550',\n",
       " '421',\n",
       " '389',\n",
       " '324',\n",
       " '311',\n",
       " '300',\n",
       " '315',\n",
       " '277',\n",
       " '273',\n",
       " '280',\n",
       " '294',\n",
       " '274',\n",
       " '329',\n",
       " '290',\n",
       " '303',\n",
       " '278',\n",
       " '294',\n",
       " '276',\n",
       " '246',\n",
       " '297',\n",
       " '307',\n",
       " '301',\n",
       " '321',\n",
       " '253',\n",
       " '265',\n",
       " '224',\n",
       " '296',\n",
       " '220',\n",
       " '223',\n",
       " '315',\n",
       " '296',\n",
       " '228',\n",
       " '217',\n",
       " '232',\n",
       " '314',\n",
       " '304',\n",
       " '234',\n",
       " '254',\n",
       " '296',\n",
       " '293',\n",
       " '243',\n",
       " '229',\n",
       " '231',\n",
       " '207',\n",
       " '302',\n",
       " '265',\n",
       " '264',\n",
       " '220',\n",
       " '248',\n",
       " '263',\n",
       " '220',\n",
       " '304',\n",
       " '243',\n",
       " '214',\n",
       " '211',\n",
       " '242',\n",
       " '214',\n",
       " '340',\n",
       " '235',\n",
       " '217',\n",
       " '212',\n",
       " '194',\n",
       " '249',\n",
       " '278',\n",
       " '211',\n",
       " '292',\n",
       " '233',\n",
       " '228',\n",
       " '225',\n",
       " '222',\n",
       " '214',\n",
       " '225',\n",
       " '222',\n",
       " '196',\n",
       " '205',\n",
       " '202',\n",
       " '201',\n",
       " '190',\n",
       " '233',\n",
       " '209',\n",
       " '201',\n",
       " '228',\n",
       " '212']"
      ]
     },
     "execution_count": 126,
     "metadata": {},
     "output_type": "execute_result"
    }
   ],
   "source": [
    "# Q10) python program to scrape the details of top publications from Google Scholar from \n",
    "#https://scholar.google.com/citations?view_op=top_venues&hl=en\n",
    "\n",
    "# iv)h5-median\n",
    "\n",
    "h5_median = []\n",
    "\n",
    "for m in soup_G.find_all('span',class_=\"gs_ibl gsc_mp_anchor\"):\n",
    "    h5_median.append(m.text)\n",
    "    \n",
    "h5_median"
   ]
  },
  {
   "cell_type": "code",
   "execution_count": 127,
   "id": "849cbcc8",
   "metadata": {},
   "outputs": [
    {
     "data": {
      "text/html": [
       "<div>\n",
       "<style scoped>\n",
       "    .dataframe tbody tr th:only-of-type {\n",
       "        vertical-align: middle;\n",
       "    }\n",
       "\n",
       "    .dataframe tbody tr th {\n",
       "        vertical-align: top;\n",
       "    }\n",
       "\n",
       "    .dataframe thead th {\n",
       "        text-align: right;\n",
       "    }\n",
       "</style>\n",
       "<table border=\"1\" class=\"dataframe\">\n",
       "  <thead>\n",
       "    <tr style=\"text-align: right;\">\n",
       "      <th></th>\n",
       "      <th>Rank</th>\n",
       "      <th>Publication</th>\n",
       "      <th>h5-index</th>\n",
       "      <th>h5-median</th>\n",
       "    </tr>\n",
       "  </thead>\n",
       "  <tbody>\n",
       "    <tr>\n",
       "      <th>1</th>\n",
       "      <td>1.</td>\n",
       "      <td>Nature</td>\n",
       "      <td>444</td>\n",
       "      <td>667</td>\n",
       "    </tr>\n",
       "    <tr>\n",
       "      <th>2</th>\n",
       "      <td>2.</td>\n",
       "      <td>The New England Journal of Medicine</td>\n",
       "      <td>432</td>\n",
       "      <td>780</td>\n",
       "    </tr>\n",
       "    <tr>\n",
       "      <th>3</th>\n",
       "      <td>3.</td>\n",
       "      <td>Science</td>\n",
       "      <td>401</td>\n",
       "      <td>614</td>\n",
       "    </tr>\n",
       "    <tr>\n",
       "      <th>4</th>\n",
       "      <td>4.</td>\n",
       "      <td>IEEE/CVF Conference on Computer Vision and Pat...</td>\n",
       "      <td>389</td>\n",
       "      <td>627</td>\n",
       "    </tr>\n",
       "    <tr>\n",
       "      <th>5</th>\n",
       "      <td>5.</td>\n",
       "      <td>The Lancet</td>\n",
       "      <td>354</td>\n",
       "      <td>635</td>\n",
       "    </tr>\n",
       "    <tr>\n",
       "      <th>...</th>\n",
       "      <td>...</td>\n",
       "      <td>...</td>\n",
       "      <td>...</td>\n",
       "      <td>...</td>\n",
       "    </tr>\n",
       "    <tr>\n",
       "      <th>96</th>\n",
       "      <td>96.</td>\n",
       "      <td>Journal of Business Research</td>\n",
       "      <td>145</td>\n",
       "      <td>233</td>\n",
       "    </tr>\n",
       "    <tr>\n",
       "      <th>97</th>\n",
       "      <td>97.</td>\n",
       "      <td>Molecular Cancer</td>\n",
       "      <td>145</td>\n",
       "      <td>209</td>\n",
       "    </tr>\n",
       "    <tr>\n",
       "      <th>98</th>\n",
       "      <td>98.</td>\n",
       "      <td>Sensors</td>\n",
       "      <td>145</td>\n",
       "      <td>201</td>\n",
       "    </tr>\n",
       "    <tr>\n",
       "      <th>99</th>\n",
       "      <td>99.</td>\n",
       "      <td>Nature Climate Change</td>\n",
       "      <td>144</td>\n",
       "      <td>228</td>\n",
       "    </tr>\n",
       "    <tr>\n",
       "      <th>100</th>\n",
       "      <td>100.</td>\n",
       "      <td>IEEE Internet of Things Journal</td>\n",
       "      <td>144</td>\n",
       "      <td>212</td>\n",
       "    </tr>\n",
       "  </tbody>\n",
       "</table>\n",
       "<p>100 rows × 4 columns</p>\n",
       "</div>"
      ],
      "text/plain": [
       "     Rank                                        Publication h5-index  \\\n",
       "1      1.                                             Nature      444   \n",
       "2      2.                The New England Journal of Medicine      432   \n",
       "3      3.                                            Science      401   \n",
       "4      4.  IEEE/CVF Conference on Computer Vision and Pat...      389   \n",
       "5      5.                                         The Lancet      354   \n",
       "..    ...                                                ...      ...   \n",
       "96    96.                       Journal of Business Research      145   \n",
       "97    97.                                   Molecular Cancer      145   \n",
       "98    98.                                            Sensors      145   \n",
       "99    99.                              Nature Climate Change      144   \n",
       "100  100.                    IEEE Internet of Things Journal      144   \n",
       "\n",
       "    h5-median  \n",
       "1         667  \n",
       "2         780  \n",
       "3         614  \n",
       "4         627  \n",
       "5         635  \n",
       "..        ...  \n",
       "96        233  \n",
       "97        209  \n",
       "98        201  \n",
       "99        228  \n",
       "100       212  \n",
       "\n",
       "[100 rows x 4 columns]"
      ]
     },
     "execution_count": 127,
     "metadata": {},
     "output_type": "execute_result"
    }
   ],
   "source": [
    "Scholar = pd.DataFrame({'Rank':Rank,'Publication':Publication,'h5-index':h5_index,'h5-median':h5_median},index=range(1,101))\n",
    "Scholar"
   ]
  },
  {
   "cell_type": "code",
   "execution_count": null,
   "id": "0ae8434f",
   "metadata": {},
   "outputs": [],
   "source": []
  }
 ],
 "metadata": {
  "kernelspec": {
   "display_name": "Python 3 (ipykernel)",
   "language": "python",
   "name": "python3"
  },
  "language_info": {
   "codemirror_mode": {
    "name": "ipython",
    "version": 3
   },
   "file_extension": ".py",
   "mimetype": "text/x-python",
   "name": "python",
   "nbconvert_exporter": "python",
   "pygments_lexer": "ipython3",
   "version": "3.9.12"
  }
 },
 "nbformat": 4,
 "nbformat_minor": 5
}
