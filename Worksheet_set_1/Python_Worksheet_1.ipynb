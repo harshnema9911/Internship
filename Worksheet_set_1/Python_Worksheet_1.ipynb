{
 "cells": [
  {
   "cell_type": "code",
   "execution_count": 1,
   "id": "8299699b",
   "metadata": {},
   "outputs": [
    {
     "name": "stdout",
     "output_type": "stream",
     "text": [
      "Enter the number:5\n",
      "The factorial of 5 is 120\n"
     ]
    }
   ],
   "source": [
    "# Program to find factorial of a number\n",
    "\n",
    "# To take input from the user\n",
    "num = int(input(\"Enter the number:\"))\n",
    "\n",
    "fact = 1\n",
    "\n",
    "# check if the number is negative, positive or zero\n",
    "if(num<0):\n",
    "    print(\"Sorry, the factorial does not exixt for negative numbers\")\n",
    "elif(num==0):\n",
    "    print(\"The factorial of 0 is 1\")\n",
    "else:\n",
    "    for i in range(1,num+1):\n",
    "        fact = fact*i\n",
    "    print(\"The factorial of\",num,\"is\",fact)"
   ]
  },
  {
   "cell_type": "code",
   "execution_count": 2,
   "id": "6a011bd4",
   "metadata": {},
   "outputs": [
    {
     "name": "stdout",
     "output_type": "stream",
     "text": [
      "Enter the number:5\n",
      "5 is a prime number\n"
     ]
    }
   ],
   "source": [
    "# Program to find whether a number is prime or composite\n",
    "\n",
    "# To take input from the user\n",
    "numb = int(input(\"Enter the number:\"))\n",
    "\n",
    "flag = False\n",
    "\n",
    "if(numb<0):\n",
    "    print(\"Please enter positive number only\")\n",
    "    \n",
    "elif(numb ==0 or numb == 1):\n",
    "    print(\"Number is neither prime nor composite\")\n",
    "\n",
    "elif(numb>1):\n",
    "    for i in range(2,numb):\n",
    "        if(numb % i == 0):\n",
    "            flag = True\n",
    "            break\n",
    "    # check if flag is True\n",
    "    if flag:\n",
    "        print(numb, \"is a composite number\")\n",
    "    else:\n",
    "        print(numb, \"is a prime number\")"
   ]
  },
  {
   "cell_type": "code",
   "execution_count": 3,
   "id": "1dab50f6",
   "metadata": {},
   "outputs": [
    {
     "name": "stdout",
     "output_type": "stream",
     "text": [
      "The string is a palindrome.\n"
     ]
    }
   ],
   "source": [
    "# Program to check whether a given string is palindrome or not\n",
    "\n",
    "my_str = 'aBcDcbA'\n",
    "\n",
    "# make it suitable for caseless comparison\n",
    "my_str = my_str.casefold()\n",
    "\n",
    "# reverse the string\n",
    "rev_str = reversed(my_str)\n",
    "\n",
    "# check if the string is equal to its reverse\n",
    "if list(my_str) == list(rev_str):\n",
    "   print(\"The string is a palindrome.\")\n",
    "else:\n",
    "   print(\"The string is not a palindrome.\")"
   ]
  },
  {
   "cell_type": "code",
   "execution_count": 4,
   "id": "957654a7",
   "metadata": {},
   "outputs": [
    {
     "name": "stdout",
     "output_type": "stream",
     "text": [
      "Enter the adjacent side of right-angled-triangle(a):3\n",
      "Enter the opposite side of right-angled-triangle(b) :4\n",
      "The length of the hypotenuse c is 5.0\n"
     ]
    }
   ],
   "source": [
    "# Program to get the third side of right-angled triangle from two given sides\n",
    "\n",
    "import numpy as np\n",
    "\n",
    "\n",
    "a = float(input(\"Enter the adjacent side of right-angled-triangle(a):\"))\n",
    "\n",
    "b = float(input(\"Enter the opposite side of right-angled-triangle(b) :\"))\n",
    "\n",
    "c = np.sqrt(a ** 2 + b ** 2)\n",
    "\n",
    "print(\"The length of the hypotenuse c is\",c)"
   ]
  },
  {
   "cell_type": "code",
   "execution_count": 5,
   "id": "a3f2edea",
   "metadata": {},
   "outputs": [
    {
     "name": "stdout",
     "output_type": "stream",
     "text": [
      "Enter the string: Kolkata\n",
      "{'k': 2, 'o': 1, 'l': 1, 'a': 2, 't': 1}\n"
     ]
    }
   ],
   "source": [
    "# Program to print the frequency of each of the characters present in a given string.\n",
    "\n",
    "str1 = input (\"Enter the string: \")\n",
    "str1 = str1.casefold()\n",
    "d = dict()\n",
    "for i in str1:\n",
    "    if i in d:\n",
    "        d[i] = d[i] + 1\n",
    "    else:\n",
    "        d[i] = 1\n",
    "print(d)"
   ]
  },
  {
   "cell_type": "code",
   "execution_count": null,
   "id": "2addd678",
   "metadata": {},
   "outputs": [],
   "source": []
  },
  {
   "cell_type": "code",
   "execution_count": null,
   "id": "44fb053f",
   "metadata": {},
   "outputs": [],
   "source": []
  }
 ],
 "metadata": {
  "kernelspec": {
   "display_name": "Python 3 (ipykernel)",
   "language": "python",
   "name": "python3"
  },
  "language_info": {
   "codemirror_mode": {
    "name": "ipython",
    "version": 3
   },
   "file_extension": ".py",
   "mimetype": "text/x-python",
   "name": "python",
   "nbconvert_exporter": "python",
   "pygments_lexer": "ipython3",
   "version": "3.9.12"
  }
 },
 "nbformat": 4,
 "nbformat_minor": 5
}
