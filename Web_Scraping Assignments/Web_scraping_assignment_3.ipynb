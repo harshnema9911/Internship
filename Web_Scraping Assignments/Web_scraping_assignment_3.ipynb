{
 "cells": [
  {
   "cell_type": "code",
   "execution_count": 1,
   "id": "2d86fb3c",
   "metadata": {},
   "outputs": [],
   "source": [
    "#Let's import all required libraries\n",
    "import selenium                                    #library that is used to work with selenium\n",
    "from selenium import webdriver                     # importing webdriver module from selenium to open automated chrome window\n",
    "import pandas as pd                                # to create dataframe\n",
    "from selenium.webdriver.common.by import By        # importing inbuilt class By\n",
    "import warnings                                    # to ignore any sort of warnings\n",
    "warnings.filterwarnings(\"ignore\") \n",
    "import time                                        # use to stop search engine for few seconds\n",
    "from selenium.common.exceptions import NoSuchElementException\n",
    "from selenium.webdriver.support.ui import WebDriverWait\n",
    "from selenium.webdriver.support import expected_conditions as EC"
   ]
  },
  {
   "cell_type": "code",
   "execution_count": 39,
   "id": "31380fa4",
   "metadata": {},
   "outputs": [],
   "source": [
    "# Let's first connect to the web driver\n",
    "driver = webdriver.Chrome(r'C:\\Users\\Admin\\Chrome webdriver\\chromedriver_win32\\chromedriver.exe')"
   ]
  },
  {
   "cell_type": "code",
   "execution_count": 40,
   "id": "c70f6162",
   "metadata": {},
   "outputs": [],
   "source": [
    "#Let's maximize the automated window\n",
    "driver.maximize_window()"
   ]
  },
  {
   "cell_type": "markdown",
   "id": "af5fed14",
   "metadata": {},
   "source": [
    "Q1) . Write a python program which searches all the product under a particular product from www.amazon.in. \n",
    "The product to be searched will be taken as input from user. For e.g. If user input is ‘guitar’. Then search for guitars."
   ]
  },
  {
   "cell_type": "code",
   "execution_count": 51,
   "id": "ce97829c",
   "metadata": {},
   "outputs": [],
   "source": [
    "# Step 1: First get the webpage https://www.amazon.in/\n",
    "\n",
    "url_1 = 'https://www.amazon.in/'\n",
    "\n",
    "driver.get(url_1)"
   ]
  },
  {
   "cell_type": "code",
   "execution_count": 42,
   "id": "2a2398e9",
   "metadata": {},
   "outputs": [
    {
     "name": "stdout",
     "output_type": "stream",
     "text": [
      "Enter the article name you want to search in Amazon:Guitar\n"
     ]
    }
   ],
   "source": [
    "item = input(\"Enter the article name you want to search in Amazon:\")"
   ]
  },
  {
   "cell_type": "code",
   "execution_count": 52,
   "id": "1fbf99ec",
   "metadata": {},
   "outputs": [],
   "source": [
    "search_article_1 = driver.find_element(By.XPATH,\"/html/body/div[1]/header/div/div[1]/div[2]/div/form/div[2]/div[1]/input\")\n",
    "\n",
    "search_article_1.send_keys(item)"
   ]
  },
  {
   "cell_type": "code",
   "execution_count": 53,
   "id": "028bd0ba",
   "metadata": {},
   "outputs": [],
   "source": [
    "# Step 3 :  Then click the search button.\n",
    "\n",
    "search_btn_1 = driver.find_element(By.XPATH,\"/html/body/div[1]/header/div/div[1]/div[2]/div/form/div[3]/div/span/input\")\n",
    "\n",
    "search_btn_1.click()"
   ]
  },
  {
   "cell_type": "markdown",
   "id": "938f6a2f",
   "metadata": {},
   "source": [
    "Q2) In the above question, now scrape the following details of each product listed in first 3 pages of your search results and \n",
    "save it in a data frame and csv. In case if any product has less than 3 pages in search results then scrape all the products\n",
    "available under that product name. Details to be scraped are: \"Brand Name\", \"Name of the Product\", \"Price\", \"Return/Exchange\",\n",
    "\"Expected Delivery\", \"Availability\" and “Product URL”. In case, if any of the details are missing for any of the product\n",
    "then replace it by “-“."
   ]
  },
  {
   "cell_type": "markdown",
   "id": "a96dcd32",
   "metadata": {},
   "source": [
    "**Scraping URL's of all product listed on first 3 pages**"
   ]
  },
  {
   "cell_type": "code",
   "execution_count": 54,
   "id": "75ddf6c5",
   "metadata": {},
   "outputs": [],
   "source": [
    "URL= []\n",
    "# range(0,3) used to scrape three pages on website\n",
    "for page in range(0,3):\n",
    "    url=driver.find_elements(By.XPATH,'//a[@class=\"a-link-normal s-underline-text s-underline-link-text s-link-style a-text-normal\"]')\n",
    "    for i in url:\n",
    "        URL.append(i.get_attribute('href'))\n",
    "    time.sleep(3)\n",
    "    # locating next page button and clicking\n",
    "    Nxt_page=driver.find_element(By.XPATH,'//a[@class=\"s-pagination-item s-pagination-next s-pagination-button s-pagination-separator\"]')\n",
    "    Nxt_page.click()\n",
    "    time.sleep(3)"
   ]
  },
  {
   "cell_type": "code",
   "execution_count": 55,
   "id": "118c9324",
   "metadata": {},
   "outputs": [
    {
     "data": {
      "text/plain": [
       "192"
      ]
     },
     "execution_count": 55,
     "metadata": {},
     "output_type": "execute_result"
    }
   ],
   "source": [
    "len(URL)"
   ]
  },
  {
   "cell_type": "code",
   "execution_count": 56,
   "id": "5130d642",
   "metadata": {},
   "outputs": [
    {
     "data": {
      "text/plain": [
       "['https://www.amazon.in/sspa/click?ie=UTF8&spc=MToxNDk1NzI2Mjg3MzIzNDQ3OjE2NjkwMTQ3MzY6c3BfYXRmOjIwMDU3MTkzMDU2MjA0OjowOjo&url=%2FKadence-Slowhand-Premium-Acoustic-Instrument%2Fdp%2FB077SZ667X%2Fref%3Dsr_1_1_sspa%3Fcrid%3DI39PRCWBW9LF%26keywords%3DGuitar%26qid%3D1669014736%26qu%3DeyJxc2MiOiI1Ljc4IiwicXNhIjoiNS4yNiIsInFzcCI6IjQuMDUifQ%253D%253D%26sprefix%3Dguitar%252Caps%252C232%26sr%3D8-1-spons%26sp_csd%3Dd2lkZ2V0TmFtZT1zcF9hdGY%26psc%3D1',\n",
       " 'https://www.amazon.in/sspa/click?ie=UTF8&spc=MToxNDk1NzI2Mjg3MzIzNDQ3OjE2NjkwMTQ3MzY6c3BfYXRmOjIwMDM2NzI1MDczNDk4OjowOjo&url=%2FFestra-Trussrod-Acoustic-Strings-Classic%2Fdp%2FB09VLDCT9H%2Fref%3Dsr_1_2_sspa%3Fcrid%3DI39PRCWBW9LF%26keywords%3DGuitar%26qid%3D1669014736%26qu%3DeyJxc2MiOiI1Ljc4IiwicXNhIjoiNS4yNiIsInFzcCI6IjQuMDUifQ%253D%253D%26sprefix%3Dguitar%252Caps%252C232%26sr%3D8-2-spons%26sp_csd%3Dd2lkZ2V0TmFtZT1zcF9hdGY%26psc%3D1',\n",
       " 'https://www.amazon.in/sspa/click?ie=UTF8&spc=MToxNDk1NzI2Mjg3MzIzNDQ3OjE2NjkwMTQ3MzY6c3BfYXRmOjIwMDc5OTc5NTkyNDk4OjowOjo&url=%2FHontral-Childrens-Instrument-Educational-Beginners%2Fdp%2FB0BD8Y1H78%2Fref%3Dsr_1_3_sspa%3Fcrid%3DI39PRCWBW9LF%26keywords%3DGuitar%26qid%3D1669014736%26qu%3DeyJxc2MiOiI1Ljc4IiwicXNhIjoiNS4yNiIsInFzcCI6IjQuMDUifQ%253D%253D%26sprefix%3Dguitar%252Caps%252C232%26sr%3D8-3-spons%26sp_csd%3Dd2lkZ2V0TmFtZT1zcF9hdGY%26psc%3D1',\n",
       " 'https://www.amazon.in/sspa/click?ie=UTF8&spc=MToxNDk1NzI2Mjg3MzIzNDQ3OjE2NjkwMTQ3MzY6c3BfYXRmOjIwMDkyNjI0MDIxNDk4OjowOjo&url=%2FPremium-Spruce-Top-Dreadnought-Acoustic-Guitar%2Fdp%2FB0BJK1CWSN%2Fref%3Dsr_1_4_sspa%3Fcrid%3DI39PRCWBW9LF%26keywords%3DGuitar%26qid%3D1669014736%26qu%3DeyJxc2MiOiI1Ljc4IiwicXNhIjoiNS4yNiIsInFzcCI6IjQuMDUifQ%253D%253D%26sprefix%3Dguitar%252Caps%252C232%26sr%3D8-4-spons%26sp_csd%3Dd2lkZ2V0TmFtZT1zcF9hdGY%26psc%3D1',\n",
       " 'https://www.amazon.in/Juarez-Acoustic-Cutaway-038C-Strings/dp/B017NPCSLI/ref=sr_1_5?crid=I39PRCWBW9LF&keywords=Guitar&qid=1669014736&qu=eyJxc2MiOiI1Ljc4IiwicXNhIjoiNS4yNiIsInFzcCI6IjQuMDUifQ%3D%3D&sprefix=guitar%2Caps%2C232&sr=8-5',\n",
       " 'https://www.amazon.in/Intern-INT-38C-Acoustic-Guitar-Black/dp/B073B6TQQY/ref=sr_1_6?crid=I39PRCWBW9LF&keywords=Guitar&qid=1669014736&qu=eyJxc2MiOiI1Ljc4IiwicXNhIjoiNS4yNiIsInFzcCI6IjQuMDUifQ%3D%3D&sprefix=guitar%2Caps%2C232&sr=8-6',\n",
       " 'https://www.amazon.in/Juarez-Acoustic-Guitar-Cutaway-Strings/dp/B076QHZ4HZ/ref=sr_1_7?crid=I39PRCWBW9LF&keywords=Guitar&qid=1669014736&qu=eyJxc2MiOiI1Ljc4IiwicXNhIjoiNS4yNiIsInFzcCI6IjQuMDUifQ%3D%3D&sprefix=guitar%2Caps%2C232&sr=8-7',\n",
       " 'https://www.amazon.in/Intern-INT-38C-Acoustic-Guitar-Blue/dp/B073B5RZBV/ref=sr_1_8?crid=I39PRCWBW9LF&keywords=Guitar&qid=1669014736&qu=eyJxc2MiOiI1Ljc4IiwicXNhIjoiNS4yNiIsInFzcCI6IjQuMDUifQ%3D%3D&sprefix=guitar%2Caps%2C232&sr=8-8',\n",
       " 'https://www.amazon.in/JUAREZ-JRZ38C-Acoustic-Sunburst-Strings/dp/B01FYYTDTU/ref=sr_1_9?crid=I39PRCWBW9LF&keywords=Guitar&qid=1669014736&qu=eyJxc2MiOiI1Ljc4IiwicXNhIjoiNS4yNiIsInFzcCI6IjQuMDUifQ%3D%3D&sprefix=guitar%2Caps%2C232&sr=8-9',\n",
       " 'https://www.amazon.in/Yamaha-F280-Acoustic-Guitar-Natural/dp/B08317Y4VP/ref=sr_1_10?crid=I39PRCWBW9LF&keywords=Guitar&qid=1669014736&qu=eyJxc2MiOiI1Ljc4IiwicXNhIjoiNS4yNiIsInFzcCI6IjQuMDUifQ%3D%3D&sprefix=guitar%2Caps%2C232&sr=8-10',\n",
       " 'https://www.amazon.in/Juarez-Acoustic-Guitar-Cutaway-Strings/dp/B075XMRKMY/ref=sr_1_11?crid=I39PRCWBW9LF&keywords=Guitar&qid=1669014736&qu=eyJxc2MiOiI1Ljc4IiwicXNhIjoiNS4yNiIsInFzcCI6IjQuMDUifQ%3D%3D&sprefix=guitar%2Caps%2C232&sr=8-11',\n",
       " 'https://www.amazon.in/Juarez-Acoustic-Guitar-Cutaway-Strings/dp/B084VRCCN7/ref=sr_1_12?crid=I39PRCWBW9LF&keywords=Guitar&qid=1669014736&qu=eyJxc2MiOiI1Ljc4IiwicXNhIjoiNS4yNiIsInFzcCI6IjQuMDUifQ%3D%3D&sprefix=guitar%2Caps%2C232&sr=8-12',\n",
       " 'https://www.amazon.in/JUAREZ-JRZ38C-Acoustic-Sunburst-Strings/dp/B01FYYTDS6/ref=sr_1_13?crid=I39PRCWBW9LF&keywords=Guitar&qid=1669014736&qu=eyJxc2MiOiI1Ljc4IiwicXNhIjoiNS4yNiIsInFzcCI6IjQuMDUifQ%3D%3D&sprefix=guitar%2Caps%2C232&sr=8-13',\n",
       " 'https://www.amazon.in/Intern-INT-38C-BK-G-Guitar-Kit-Black/dp/B07K9497RC/ref=sr_1_14?crid=I39PRCWBW9LF&keywords=Guitar&qid=1669014736&qu=eyJxc2MiOiI1Ljc4IiwicXNhIjoiNS4yNiIsInFzcCI6IjQuMDUifQ%3D%3D&sprefix=guitar%2Caps%2C232&sr=8-14',\n",
       " 'https://www.amazon.in/Fender-Dread-String-Acoustic-Guitar/dp/B07RM4B5LJ/ref=sxin_24?asc_contentid=amzn1.osa.39dd7fbf-afb9-4b33-a89b-5dc1ff018d2f.A21TJRUUN4KGV.en_IN&asc_contenttype=article&ascsubtag=amzn1.osa.39dd7fbf-afb9-4b33-a89b-5dc1ff018d2f.A21TJRUUN4KGV.en_IN&content-id=amzn1.sym.939c6bd1-1a0e-48f0-a138-af961f88b523%3Aamzn1.sym.939c6bd1-1a0e-48f0-a138-af961f88b523&creativeASIN=B07RM4B5LJ&crid=I39PRCWBW9LF&cv_ct_cx=Guitar&cv_ct_id=amzn1.osa.39dd7fbf-afb9-4b33-a89b-5dc1ff018d2f.A21TJRUUN4KGV.en_IN&cv_ct_pg=search&cv_ct_we=asin&cv_ct_wn=osp-single-source-pecos-desktop&keywords=Guitar&linkCode=oas&pd_rd_i=B07RM4B5LJ&pd_rd_r=cefaae48-5609-4100-b8ac-f722b96d2f3b&pd_rd_w=uON5k&pd_rd_wg=IcK9I&pf_rd_p=939c6bd1-1a0e-48f0-a138-af961f88b523&pf_rd_r=27TMPW606GK5EKX6X5GK&qid=1669014736&qu=eyJxc2MiOiI1Ljc4IiwicXNhIjoiNS4yNiIsInFzcCI6IjQuMDUifQ%3D%3D&sprefix=guitar%2Caps%2C232&sr=1-1-c84eb971-91f2-4a4d-acce-811265c24254&tag=sm-content-21',\n",
       " 'https://www.amazon.in/Yamaha-FS100C-Acoustic-Guitars-Natural/dp/B00QKD79QE/ref=sxin_24?asc_contentid=amzn1.osa.39dd7fbf-afb9-4b33-a89b-5dc1ff018d2f.A21TJRUUN4KGV.en_IN&asc_contenttype=article&ascsubtag=amzn1.osa.39dd7fbf-afb9-4b33-a89b-5dc1ff018d2f.A21TJRUUN4KGV.en_IN&content-id=amzn1.sym.939c6bd1-1a0e-48f0-a138-af961f88b523%3Aamzn1.sym.939c6bd1-1a0e-48f0-a138-af961f88b523&creativeASIN=B00QKD79QE&crid=I39PRCWBW9LF&cv_ct_cx=Guitar&cv_ct_id=amzn1.osa.39dd7fbf-afb9-4b33-a89b-5dc1ff018d2f.A21TJRUUN4KGV.en_IN&cv_ct_pg=search&cv_ct_we=asin&cv_ct_wn=osp-single-source-pecos-desktop&keywords=Guitar&linkCode=oas&pd_rd_i=B00QKD79QE&pd_rd_r=cefaae48-5609-4100-b8ac-f722b96d2f3b&pd_rd_w=uON5k&pd_rd_wg=IcK9I&pf_rd_p=939c6bd1-1a0e-48f0-a138-af961f88b523&pf_rd_r=27TMPW606GK5EKX6X5GK&qid=1669014736&qu=eyJxc2MiOiI1Ljc4IiwicXNhIjoiNS4yNiIsInFzcCI6IjQuMDUifQ%3D%3D&sprefix=guitar%2Caps%2C232&sr=1-2-c84eb971-91f2-4a4d-acce-811265c24254&tag=sm-content-21',\n",
       " 'https://www.amazon.in/Rosewood-Fretboard-Acoustic-Strings-K-Retail/dp/B07KLG8C4P/ref=sxin_24?asc_contentid=amzn1.osa.39dd7fbf-afb9-4b33-a89b-5dc1ff018d2f.A21TJRUUN4KGV.en_IN&asc_contenttype=article&ascsubtag=amzn1.osa.39dd7fbf-afb9-4b33-a89b-5dc1ff018d2f.A21TJRUUN4KGV.en_IN&content-id=amzn1.sym.939c6bd1-1a0e-48f0-a138-af961f88b523%3Aamzn1.sym.939c6bd1-1a0e-48f0-a138-af961f88b523&creativeASIN=B07KLG8C4P&crid=I39PRCWBW9LF&cv_ct_cx=Guitar&cv_ct_id=amzn1.osa.39dd7fbf-afb9-4b33-a89b-5dc1ff018d2f.A21TJRUUN4KGV.en_IN&cv_ct_pg=search&cv_ct_we=asin&cv_ct_wn=osp-single-source-pecos-desktop&keywords=Guitar&linkCode=oas&pd_rd_i=B07KLG8C4P&pd_rd_r=cefaae48-5609-4100-b8ac-f722b96d2f3b&pd_rd_w=uON5k&pd_rd_wg=IcK9I&pf_rd_p=939c6bd1-1a0e-48f0-a138-af961f88b523&pf_rd_r=27TMPW606GK5EKX6X5GK&qid=1669014736&qu=eyJxc2MiOiI1Ljc4IiwicXNhIjoiNS4yNiIsInFzcCI6IjQuMDUifQ%3D%3D&sprefix=guitar%2Caps%2C232&sr=1-3-c84eb971-91f2-4a4d-acce-811265c24254&tag=sm-content-21',\n",
       " 'https://www.amazon.in/Kadence-6-strings-Acoustic-Guitar-Natural/dp/B07JKYWGJN/ref=sxin_24?asc_contentid=amzn1.osa.39dd7fbf-afb9-4b33-a89b-5dc1ff018d2f.A21TJRUUN4KGV.en_IN&asc_contenttype=article&ascsubtag=amzn1.osa.39dd7fbf-afb9-4b33-a89b-5dc1ff018d2f.A21TJRUUN4KGV.en_IN&content-id=amzn1.sym.939c6bd1-1a0e-48f0-a138-af961f88b523%3Aamzn1.sym.939c6bd1-1a0e-48f0-a138-af961f88b523&creativeASIN=B07JKYWGJN&crid=I39PRCWBW9LF&cv_ct_cx=Guitar&cv_ct_id=amzn1.osa.39dd7fbf-afb9-4b33-a89b-5dc1ff018d2f.A21TJRUUN4KGV.en_IN&cv_ct_pg=search&cv_ct_we=asin&cv_ct_wn=osp-single-source-pecos-desktop&keywords=Guitar&linkCode=oas&pd_rd_i=B07JKYWGJN&pd_rd_r=cefaae48-5609-4100-b8ac-f722b96d2f3b&pd_rd_w=uON5k&pd_rd_wg=IcK9I&pf_rd_p=939c6bd1-1a0e-48f0-a138-af961f88b523&pf_rd_r=27TMPW606GK5EKX6X5GK&qid=1669014736&qu=eyJxc2MiOiI1Ljc4IiwicXNhIjoiNS4yNiIsInFzcCI6IjQuMDUifQ%3D%3D&sprefix=guitar%2Caps%2C232&sr=1-4-c84eb971-91f2-4a4d-acce-811265c24254&tag=sm-content-21',\n",
       " 'https://www.amazon.in/Blueberry-Beginner-Rosewood-Electric-Strings/dp/B0B71VMZPG/ref=sr_1_15?crid=I39PRCWBW9LF&keywords=Guitar&qid=1669014736&qu=eyJxc2MiOiI1Ljc4IiwicXNhIjoiNS4yNiIsInFzcCI6IjQuMDUifQ%3D%3D&sprefix=guitar%2Caps%2C232&sr=8-15',\n",
       " 'https://www.amazon.in/Intern-INT-38C-Acoustic-Guitar-Sunburst/dp/B073B5MJRM/ref=sr_1_16?crid=I39PRCWBW9LF&keywords=Guitar&qid=1669014736&qu=eyJxc2MiOiI1Ljc4IiwicXNhIjoiNS4yNiIsInFzcCI6IjQuMDUifQ%3D%3D&sprefix=guitar%2Caps%2C232&sr=8-16',\n",
       " 'https://www.amazon.in/Enterprise-Acoustic-Instrument-Educational-Beginners/dp/B0B46LBJQZ/ref=sr_1_17?crid=I39PRCWBW9LF&keywords=Guitar&qid=1669014736&qu=eyJxc2MiOiI1Ljc4IiwicXNhIjoiNS4yNiIsInFzcCI6IjQuMDUifQ%3D%3D&sprefix=guitar%2Caps%2C232&sr=8-17',\n",
       " 'https://www.amazon.in/JUAREZ-Acoustic-Guitar-String-JRGSE32/dp/B08MW1WPW5/ref=sr_1_18?crid=I39PRCWBW9LF&keywords=Guitar&qid=1669014736&qu=eyJxc2MiOiI1Ljc4IiwicXNhIjoiNS4yNiIsInFzcCI6IjQuMDUifQ%3D%3D&sprefix=guitar%2Caps%2C232&sr=8-18',\n",
       " 'https://www.amazon.in/Medellin-carbn-guitar-38inch-NATURAL/dp/B09MSHD6TS/ref=sr_1_19?crid=I39PRCWBW9LF&keywords=Guitar&qid=1669014736&qu=eyJxc2MiOiI1Ljc4IiwicXNhIjoiNS4yNiIsInFzcCI6IjQuMDUifQ%3D%3D&sprefix=guitar%2Caps%2C232&sr=8-19',\n",
       " 'https://www.amazon.in/Blueberry-Beginner-Rosewood-Electric-Strings/dp/B0BLYP3Q6S/ref=sr_1_20?crid=I39PRCWBW9LF&keywords=Guitar&qid=1669014736&qu=eyJxc2MiOiI1Ljc4IiwicXNhIjoiNS4yNiIsInFzcCI6IjQuMDUifQ%3D%3D&sprefix=guitar%2Caps%2C232&sr=8-20',\n",
       " 'https://www.amazon.in/sspa/click?ie=UTF8&spc=MToxNDk1NzI2Mjg3MzIzNDQ3OjE2NjkwMTQ3MzY6c3BfbXRmOjIwMDc4MzM2ODg3NDk4OjowOjo&url=%2FBlueberry-B-D38-Acoustic-Inbuilt-Strings%2Fdp%2FB07PHYZZP1%2Fref%3Dsr_1_21_sspa%3Fcrid%3DI39PRCWBW9LF%26keywords%3DGuitar%26qid%3D1669014736%26qu%3DeyJxc2MiOiI1Ljc4IiwicXNhIjoiNS4yNiIsInFzcCI6IjQuMDUifQ%253D%253D%26sprefix%3Dguitar%252Caps%252C232%26sr%3D8-21-spons%26sp_csd%3Dd2lkZ2V0TmFtZT1zcF9tdGY%26psc%3D1',\n",
       " 'https://www.amazon.in/sspa/click?ie=UTF8&spc=MToxNDk1NzI2Mjg3MzIzNDQ3OjE2NjkwMTQ3MzY6c3BfbXRmOjIwMDMyNDQwNDc5Nzk4OjowOjo&url=%2FLUCHILA-Childrens-Instrument-Educational-Beginners%2Fdp%2FB09T3Q72CJ%2Fref%3Dsr_1_22_sspa%3Fcrid%3DI39PRCWBW9LF%26keywords%3DGuitar%26qid%3D1669014736%26qu%3DeyJxc2MiOiI1Ljc4IiwicXNhIjoiNS4yNiIsInFzcCI6IjQuMDUifQ%253D%253D%26sprefix%3Dguitar%252Caps%252C232%26sr%3D8-22-spons%26sp_csd%3Dd2lkZ2V0TmFtZT1zcF9tdGY%26psc%3D1',\n",
       " 'https://www.amazon.in/sspa/click?ie=UTF8&spc=MToxNDk1NzI2Mjg3MzIzNDQ3OjE2NjkwMTQ3MzY6c3BfbXRmOjIwMDkyNjI0MDIxNjk4OjowOjo&url=%2FVault-PA36-Parlor-Acoustic-Guitar%2Fdp%2FB0BJK1332J%2Fref%3Dsr_1_23_sspa%3Fcrid%3DI39PRCWBW9LF%26keywords%3DGuitar%26qid%3D1669014736%26qu%3DeyJxc2MiOiI1Ljc4IiwicXNhIjoiNS4yNiIsInFzcCI6IjQuMDUifQ%253D%253D%26sprefix%3Dguitar%252Caps%252C232%26sr%3D8-23-spons%26sp_csd%3Dd2lkZ2V0TmFtZT1zcF9tdGY%26psc%3D1',\n",
       " 'https://www.amazon.in/sspa/click?ie=UTF8&spc=MToxNDk1NzI2Mjg3MzIzNDQ3OjE2NjkwMTQ3MzY6c3BfbXRmOjIwMDc4MzM2ODg4ODk4OjowOjo&url=%2FBlueberry-38C-Acoustic-Guitar-Strings%2Fdp%2FB08KLMV4XX%2Fref%3Dsr_1_24_sspa%3Fcrid%3DI39PRCWBW9LF%26keywords%3DGuitar%26qid%3D1669014736%26qu%3DeyJxc2MiOiI1Ljc4IiwicXNhIjoiNS4yNiIsInFzcCI6IjQuMDUifQ%253D%253D%26sprefix%3Dguitar%252Caps%252C232%26sr%3D8-24-spons%26sp_csd%3Dd2lkZ2V0TmFtZT1zcF9tdGY%26psc%3D1',\n",
       " 'https://www.amazon.in/Kadence-Frontier-Acoustic-Guitar-Strings/dp/B01GDZ46AA/ref=sr_1_25?crid=I39PRCWBW9LF&keywords=Guitar&qid=1669014736&qu=eyJxc2MiOiI1Ljc4IiwicXNhIjoiNS4yNiIsInFzcCI6IjQuMDUifQ%3D%3D&sprefix=guitar%2Caps%2C232&sr=8-25',\n",
       " 'https://www.amazon.in/JUAREZ-Arpeggio-Acoustic-Rosewood-Fretboard/dp/B08LBJ8PTM/ref=sr_1_26?crid=I39PRCWBW9LF&keywords=Guitar&qid=1669014736&qu=eyJxc2MiOiI1Ljc4IiwicXNhIjoiNS4yNiIsInFzcCI6IjQuMDUifQ%3D%3D&sprefix=guitar%2Caps%2C232&sr=8-26',\n",
       " 'https://www.amazon.in/Medellin-carbn-fiber-guitar-38inch/dp/B09MSGVCDV/ref=sr_1_27?crid=I39PRCWBW9LF&keywords=Guitar&qid=1669014736&qu=eyJxc2MiOiI1Ljc4IiwicXNhIjoiNS4yNiIsInFzcCI6IjQuMDUifQ%3D%3D&sprefix=guitar%2Caps%2C232&sr=8-27',\n",
       " 'https://www.amazon.in/Yamaha-Acoustic-Guitar-Tobacco-Sunburst/dp/B08VXR74Q2/ref=sr_1_28?crid=I39PRCWBW9LF&keywords=Guitar&qid=1669014736&qu=eyJxc2MiOiI1Ljc4IiwicXNhIjoiNS4yNiIsInFzcCI6IjQuMDUifQ%3D%3D&sprefix=guitar%2Caps%2C232&sr=8-28',\n",
       " 'https://www.amazon.in/Firevally-Childrens-Instrument-Educational-Instruments/dp/B0BL15WBRS/ref=sr_1_29?crid=I39PRCWBW9LF&keywords=Guitar&qid=1669014736&qu=eyJxc2MiOiI1Ljc4IiwicXNhIjoiNS4yNiIsInFzcCI6IjQuMDUifQ%3D%3D&sprefix=guitar%2Caps%2C232&sr=8-29',\n",
       " 'https://www.amazon.in/Acoustic-plectrums-stability-age-groups-Refreshing/dp/B09YH89RVZ/ref=sr_1_30?crid=I39PRCWBW9LF&keywords=Guitar&qid=1669014736&qu=eyJxc2MiOiI1Ljc4IiwicXNhIjoiNS4yNiIsInFzcCI6IjQuMDUifQ%3D%3D&sprefix=guitar%2Caps%2C232&sr=8-30',\n",
       " 'https://www.amazon.in/Yamaha-FS-100C-6-String-Acoustic-without/dp/B00PAS9CK6/ref=sr_1_31?crid=I39PRCWBW9LF&keywords=Guitar&qid=1669014736&qu=eyJxc2MiOiI1Ljc4IiwicXNhIjoiNS4yNiIsInFzcCI6IjQuMDUifQ%3D%3D&sprefix=guitar%2Caps%2C232&sr=8-31',\n",
       " 'https://www.amazon.in/JUAREZ-Arpeggio-Guitar-JRA41SP-RD-K-red/dp/B08MW8CWG8/ref=sr_1_32?crid=I39PRCWBW9LF&keywords=Guitar&qid=1669014736&qu=eyJxc2MiOiI1Ljc4IiwicXNhIjoiNS4yNiIsInFzcCI6IjQuMDUifQ%3D%3D&sprefix=guitar%2Caps%2C232&sr=8-32',\n",
       " 'https://www.amazon.in/Medellin-Acoustic-Guitar-Carbon-Learning/dp/B09MSGQQWX/ref=sr_1_33?crid=I39PRCWBW9LF&keywords=Guitar&qid=1669014736&qu=eyJxc2MiOiI1Ljc4IiwicXNhIjoiNS4yNiIsInFzcCI6IjQuMDUifQ%3D%3D&sprefix=guitar%2Caps%2C232&sr=8-33',\n",
       " 'https://www.amazon.in/Intern-38-inch-Cutaway-Design-Acoustic/dp/B07X4PN85R/ref=sr_1_34?crid=I39PRCWBW9LF&keywords=Guitar&qid=1669014736&qu=eyJxc2MiOiI1Ljc4IiwicXNhIjoiNS4yNiIsInFzcCI6IjQuMDUifQ%3D%3D&sprefix=guitar%2Caps%2C232&sr=8-34',\n",
       " 'https://www.amazon.in/JUAREZ-JRB40LN-3TS-Arpeggio-Guitar/dp/B08MW8F9VS/ref=sr_1_35?crid=I39PRCWBW9LF&keywords=Guitar&qid=1669014736&qu=eyJxc2MiOiI1Ljc4IiwicXNhIjoiNS4yNiIsInFzcCI6IjQuMDUifQ%3D%3D&sprefix=guitar%2Caps%2C232&sr=8-35',\n",
       " 'https://www.amazon.in/Kadence-Frontier-Acoustic-Guitar-Strings/dp/B01CJJG328/ref=sr_1_36?crid=I39PRCWBW9LF&keywords=Guitar&qid=1669014736&qu=eyJxc2MiOiI1Ljc4IiwicXNhIjoiNS4yNiIsInFzcCI6IjQuMDUifQ%3D%3D&sprefix=guitar%2Caps%2C232&sr=8-36',\n",
       " 'https://www.amazon.in/YAMAHA-NATURAL-CONCERT-CUTAWAY-GUITAR/dp/B08KW4DRKL/ref=sr_1_37?crid=I39PRCWBW9LF&keywords=Guitar&qid=1669014736&qu=eyJxc2MiOiI1Ljc4IiwicXNhIjoiNS4yNiIsInFzcCI6IjQuMDUifQ%3D%3D&sprefix=guitar%2Caps%2C232&sr=8-37',\n",
       " 'https://www.amazon.in/Henrix-Acoustic-Guitar-Die-cast-Dual-action/dp/B07VNDW6QF/ref=sr_1_38?crid=I39PRCWBW9LF&keywords=Guitar&qid=1669014736&qu=eyJxc2MiOiI1Ljc4IiwicXNhIjoiNS4yNiIsInFzcCI6IjQuMDUifQ%3D%3D&sprefix=guitar%2Caps%2C232&sr=8-38',\n",
       " 'https://www.amazon.in/Fender-SA-150C-dreadnought-Squier-Natural/dp/B07YX5N6LC/ref=sr_1_39?crid=I39PRCWBW9LF&keywords=Guitar&qid=1669014736&qu=eyJxc2MiOiI1Ljc4IiwicXNhIjoiNS4yNiIsInFzcCI6IjQuMDUifQ%3D%3D&sprefix=guitar%2Caps%2C232&sr=8-39',\n",
       " 'https://www.amazon.in/Acoustic-Instrument-Educational-Beginners-Multicolor/dp/B0BCZ9GQQP/ref=sr_1_40?crid=I39PRCWBW9LF&keywords=Guitar&qid=1669014736&qu=eyJxc2MiOiI1Ljc4IiwicXNhIjoiNS4yNiIsInFzcCI6IjQuMDUifQ%3D%3D&sprefix=guitar%2Caps%2C232&sr=8-40',\n",
       " 'https://www.amazon.in/Yamaha-FSX80C-Acoustic-Cutaway-Natural/dp/B09HL3GFZF/ref=sr_1_41?crid=I39PRCWBW9LF&keywords=Guitar&qid=1669014736&qu=eyJxc2MiOiI1Ljc4IiwicXNhIjoiNS4yNiIsInFzcCI6IjQuMDUifQ%3D%3D&sprefix=guitar%2Caps%2C232&sr=8-41',\n",
       " 'https://www.amazon.in/Medellin-Acoustic-specailized-learning-beginners/dp/B09MSGN39M/ref=sr_1_42?crid=I39PRCWBW9LF&keywords=Guitar&qid=1669014736&qu=eyJxc2MiOiI1Ljc4IiwicXNhIjoiNS4yNiIsInFzcCI6IjQuMDUifQ%3D%3D&sprefix=guitar%2Caps%2C232&sr=8-42',\n",
       " 'https://www.amazon.in/Creation-4-String-Instrument-Learning-Toy/dp/B0BD92RXDB/ref=sr_1_43?crid=I39PRCWBW9LF&keywords=Guitar&qid=1669014736&qu=eyJxc2MiOiI1Ljc4IiwicXNhIjoiNS4yNiIsInFzcCI6IjQuMDUifQ%3D%3D&sprefix=guitar%2Caps%2C232&sr=8-43',\n",
       " 'https://www.amazon.in/Hontral-Childrens-Instrument-Educational-Beginners/dp/B0BD8Y1H78/ref=sr_1_44?crid=I39PRCWBW9LF&keywords=Guitar&qid=1669014736&qu=eyJxc2MiOiI1Ljc4IiwicXNhIjoiNS4yNiIsInFzcCI6IjQuMDUifQ%3D%3D&sprefix=guitar%2Caps%2C232&sr=8-44',\n",
       " 'https://www.amazon.in/Bestonl-Childrens-Instrument-Educational-Beginners/dp/B0BDG13QZS/ref=sr_1_45?crid=I39PRCWBW9LF&keywords=Guitar&qid=1669014736&qu=eyJxc2MiOiI1Ljc4IiwicXNhIjoiNS4yNiIsInFzcCI6IjQuMDUifQ%3D%3D&sprefix=guitar%2Caps%2C232&sr=8-45',\n",
       " 'https://www.amazon.in/Kadence-Frontier-Acoustic-Guitar-Strings/dp/B078GTJP5Y/ref=sr_1_46?crid=I39PRCWBW9LF&keywords=Guitar&qid=1669014736&qu=eyJxc2MiOiI1Ljc4IiwicXNhIjoiNS4yNiIsInFzcCI6IjQuMDUifQ%3D%3D&sprefix=guitar%2Caps%2C232&sr=8-46',\n",
       " 'https://www.amazon.in/Stagg-Auditorium-SA25-ACE-MAHO/dp/B09HQ2685T/ref=sr_1_47?crid=I39PRCWBW9LF&keywords=Guitar&qid=1669014736&qu=eyJxc2MiOiI1Ljc4IiwicXNhIjoiNS4yNiIsInFzcCI6IjQuMDUifQ%3D%3D&sprefix=guitar%2Caps%2C232&sr=8-47',\n",
       " 'https://www.amazon.in/Juarez-Acoustic-Cutaway-BK-Strings/dp/B076T3RHMG/ref=sr_1_48?crid=I39PRCWBW9LF&keywords=Guitar&qid=1669014736&qu=eyJxc2MiOiI1Ljc4IiwicXNhIjoiNS4yNiIsInFzcCI6IjQuMDUifQ%3D%3D&sprefix=guitar%2Caps%2C232&sr=8-48',\n",
       " 'https://www.amazon.in/Intern-Acoustic-Steel-string-plectrums-INT-38C-WH/dp/B09LR94Z2X/ref=sr_1_49?crid=I39PRCWBW9LF&keywords=Guitar&qid=1669014736&qu=eyJxc2MiOiI1Ljc4IiwicXNhIjoiNS4yNiIsInFzcCI6IjQuMDUifQ%3D%3D&sprefix=guitar%2Caps%2C232&sr=8-49',\n",
       " 'https://www.amazon.in/JUAREZ-JRZ38C-Acoustic-Natural-Strings/dp/B01FYYTDWC/ref=sr_1_50?crid=I39PRCWBW9LF&keywords=Guitar&qid=1669014736&qu=eyJxc2MiOiI1Ljc4IiwicXNhIjoiNS4yNiIsInFzcCI6IjQuMDUifQ%3D%3D&sprefix=guitar%2Caps%2C232&sr=8-50',\n",
       " 'https://www.amazon.in/DEVICE-URBAN-INFOTECH-Acoustic-Semi-closed/dp/B08P1JS4DF/ref=sr_1_51?crid=I39PRCWBW9LF&keywords=Guitar&qid=1669014736&qu=eyJxc2MiOiI1Ljc4IiwicXNhIjoiNS4yNiIsInFzcCI6IjQuMDUifQ%3D%3D&sprefix=guitar%2Caps%2C232&sr=8-51',\n",
       " 'https://www.amazon.in/Ibanez-IBA-MD39CNT-Acoustic-Guitar-MD39C-NT/dp/B07G4CCMYL/ref=sr_1_52?crid=I39PRCWBW9LF&keywords=Guitar&qid=1669014736&qu=eyJxc2MiOiI1Ljc4IiwicXNhIjoiNS4yNiIsInFzcCI6IjQuMDUifQ%3D%3D&sprefix=guitar%2Caps%2C232&sr=8-52',\n",
       " 'https://www.amazon.in/Orangewood-Auditorium-Acoustic-Mahogany-Earthwood/dp/B07BN7JMX3/ref=sr_1_53?crid=I39PRCWBW9LF&keywords=Guitar&qid=1669014736&qu=eyJxc2MiOiI1Ljc4IiwicXNhIjoiNS4yNiIsInFzcCI6IjQuMDUifQ%3D%3D&sprefix=guitar%2Caps%2C232&sr=8-53',\n",
       " 'https://www.amazon.in/Cort-CAP810-OP-Acoustic-Plectrums-Complete/dp/B08D7SWGG5/ref=sr_1_54?crid=I39PRCWBW9LF&keywords=Guitar&qid=1669014736&qu=eyJxc2MiOiI1Ljc4IiwicXNhIjoiNS4yNiIsInFzcCI6IjQuMDUifQ%3D%3D&sprefix=guitar%2Caps%2C232&sr=8-54',\n",
       " 'https://www.amazon.in/Yamaha-FX280-acoustic-Dreadnought-Natural/dp/B09HR6BNFQ/ref=sr_1_55?crid=I39PRCWBW9LF&keywords=Guitar&qid=1669014736&qu=eyJxc2MiOiI1Ljc4IiwicXNhIjoiNS4yNiIsInFzcCI6IjQuMDUifQ%3D%3D&sprefix=guitar%2Caps%2C232&sr=8-55',\n",
       " 'https://www.amazon.in/Yamaha-FS100C-Acoustic-Guitar-Natural/dp/B08Z3DVN8N/ref=sr_1_56?crid=I39PRCWBW9LF&keywords=Guitar&qid=1669014736&qu=eyJxc2MiOiI1Ljc4IiwicXNhIjoiNS4yNiIsInFzcCI6IjQuMDUifQ%3D%3D&sprefix=guitar%2Caps%2C232&sr=8-56',\n",
       " 'https://www.amazon.in/sspa/click?ie=UTF8&spc=MToxNDk1NzI2Mjg3MzIzNDQ3OjE2NjkwMTQ3MzY6c3BfYnRmOjIwMDc3ODY4NTg3MDk4OjowOjo&url=%2FRight-Search-Dancing-Cactus-Set_CG11%2Fdp%2FB09RQ16W41%2Fref%3Dsr_1_57_sspa%3Fcrid%3DI39PRCWBW9LF%26keywords%3DGuitar%26qid%3D1669014736%26qu%3DeyJxc2MiOiI1Ljc4IiwicXNhIjoiNS4yNiIsInFzcCI6IjQuMDUifQ%253D%253D%26sprefix%3Dguitar%252Caps%252C232%26sr%3D8-57-spons%26sp_csd%3Dd2lkZ2V0TmFtZT1zcF9idGY%26psc%3D1',\n",
       " 'https://www.amazon.in/sspa/click?ie=UTF8&spc=MToxNDk1NzI2Mjg3MzIzNDQ3OjE2NjkwMTQ3MzY6c3BfYnRmOjIwMDcyNTMyMDc2MjA3OjowOjo&url=%2FDIKUJI-ENTERPRISE-Acoustic-Guitar-Learning%2Fdp%2FB099GS1WG6%2Fref%3Dsr_1_58_sspa%3Fcrid%3DI39PRCWBW9LF%26keywords%3DGuitar%26qid%3D1669014736%26qu%3DeyJxc2MiOiI1Ljc4IiwicXNhIjoiNS4yNiIsInFzcCI6IjQuMDUifQ%253D%253D%26sprefix%3Dguitar%252Caps%252C232%26sr%3D8-58-spons%26sp_csd%3Dd2lkZ2V0TmFtZT1zcF9idGY%26psc%3D1',\n",
       " 'https://www.amazon.in/sspa/click?ie=UTF8&spc=MToxNDk1NzI2Mjg3MzIzNDQ3OjE2NjkwMTQ3MzY6c3BfYnRmOjIwMDU3ODE3MzY4ODk4OjowOjo&url=%2FMustang-Strings-Changing-Including-Beginner%2Fdp%2FB07S19LGLR%2Fref%3Dsr_1_59_sspa%3Fcrid%3DI39PRCWBW9LF%26keywords%3DGuitar%26qid%3D1669014736%26qu%3DeyJxc2MiOiI1Ljc4IiwicXNhIjoiNS4yNiIsInFzcCI6IjQuMDUifQ%253D%253D%26sprefix%3Dguitar%252Caps%252C232%26sr%3D8-59-spons%26sp_csd%3Dd2lkZ2V0TmFtZT1zcF9idGY%26psc%3D1',\n",
       " 'https://www.amazon.in/sspa/click?ie=UTF8&spc=MToxNDk1NzI2Mjg3MzIzNDQ3OjE2NjkwMTQ3MzY6c3BfYnRmOjIwMDc4MzM2ODg3MDk4OjowOjo&url=%2FBlueberry-38C-Acoustic-Strings-Natural%2Fdp%2FB08KLNFL2Y%2Fref%3Dsr_1_60_sspa%3Fcrid%3DI39PRCWBW9LF%26keywords%3DGuitar%26qid%3D1669014736%26qu%3DeyJxc2MiOiI1Ljc4IiwicXNhIjoiNS4yNiIsInFzcCI6IjQuMDUifQ%253D%253D%26sprefix%3Dguitar%252Caps%252C232%26sr%3D8-60-spons%26sp_csd%3Dd2lkZ2V0TmFtZT1zcF9idGY%26psc%3D1',\n",
       " 'https://www.amazon.in/Yamaha-Classical-Guitar-C40-02/dp/B003UGCUFE/ref=sxbs_aspa_sqa?content-id=amzn1.sym.2c602ba1-3dc9-4456-8401-359709354e80%3Aamzn1.sym.2c602ba1-3dc9-4456-8401-359709354e80&crid=I39PRCWBW9LF&cv_ct_cx=Guitar&keywords=Guitar&pd_rd_i=B003UGCUFE&pd_rd_r=08af7e6c-aa4c-4a3b-b85e-392880de7468&pd_rd_w=Bk63h&pd_rd_wg=jN24V&pf_rd_p=2c602ba1-3dc9-4456-8401-359709354e80&pf_rd_r=27TMPW606GK5EKX6X5GK&qid=1669014736&qu=eyJxc2MiOiI1Ljc4IiwicXNhIjoiNS4yNiIsInFzcCI6IjQuMDUifQ%3D%3D&sprefix=guitar%2Caps%2C232&sr=1-1-93291ede-2a7a-4e75-a6c2-b89c29736263',\n",
       " 'https://www.amazon.in/Yamaha-C40MII-Acoustic-Concert-Guitar/dp/B005LG2JRK/ref=sxbs_aspa_sqa?content-id=amzn1.sym.2c602ba1-3dc9-4456-8401-359709354e80%3Aamzn1.sym.2c602ba1-3dc9-4456-8401-359709354e80&crid=I39PRCWBW9LF&cv_ct_cx=Guitar&keywords=Guitar&pd_rd_i=B005LG2JRK&pd_rd_r=08af7e6c-aa4c-4a3b-b85e-392880de7468&pd_rd_w=Bk63h&pd_rd_wg=jN24V&pf_rd_p=2c602ba1-3dc9-4456-8401-359709354e80&pf_rd_r=27TMPW606GK5EKX6X5GK&qid=1669014736&qu=eyJxc2MiOiI1Ljc4IiwicXNhIjoiNS4yNiIsInFzcCI6IjQuMDUifQ%3D%3D&sprefix=guitar%2Caps%2C232&sr=1-3-93291ede-2a7a-4e75-a6c2-b89c29736263',\n",
       " 'https://www.amazon.in/Yamaha-40-Strings-Classical-Guitars/dp/B000I1Q4TC/ref=sxbs_aspa_sqa?content-id=amzn1.sym.2c602ba1-3dc9-4456-8401-359709354e80%3Aamzn1.sym.2c602ba1-3dc9-4456-8401-359709354e80&crid=I39PRCWBW9LF&cv_ct_cx=Guitar&keywords=Guitar&pd_rd_i=B000I1Q4TC&pd_rd_r=08af7e6c-aa4c-4a3b-b85e-392880de7468&pd_rd_w=Bk63h&pd_rd_wg=jN24V&pf_rd_p=2c602ba1-3dc9-4456-8401-359709354e80&pf_rd_r=27TMPW606GK5EKX6X5GK&qid=1669014736&qu=eyJxc2MiOiI1Ljc4IiwicXNhIjoiNS4yNiIsInFzcCI6IjQuMDUifQ%3D%3D&sprefix=guitar%2Caps%2C232&sr=1-5-93291ede-2a7a-4e75-a6c2-b89c29736263',\n",
       " 'https://www.amazon.in/Valencia-Classical-Guitar-Natural-VC404NA/dp/B01DC31T4M/ref=sxbs_aspa_sqa?content-id=amzn1.sym.2c602ba1-3dc9-4456-8401-359709354e80%3Aamzn1.sym.2c602ba1-3dc9-4456-8401-359709354e80&crid=I39PRCWBW9LF&cv_ct_cx=Guitar&keywords=Guitar&pd_rd_i=B01DC31T4M&pd_rd_r=08af7e6c-aa4c-4a3b-b85e-392880de7468&pd_rd_w=Bk63h&pd_rd_wg=jN24V&pf_rd_p=2c602ba1-3dc9-4456-8401-359709354e80&pf_rd_r=27TMPW606GK5EKX6X5GK&qid=1669014736&qu=eyJxc2MiOiI1Ljc4IiwicXNhIjoiNS4yNiIsInFzcCI6IjQuMDUifQ%3D%3D&sprefix=guitar%2Caps%2C232&sr=1-7-93291ede-2a7a-4e75-a6c2-b89c29736263',\n",
       " 'https://www.amazon.in/Intern-INT-38C-Acoustic-Guitar-Black/dp/B073B6TQQY/ref=sxbs_aspa_sqa?content-id=amzn1.sym.2c602ba1-3dc9-4456-8401-359709354e80%3Aamzn1.sym.2c602ba1-3dc9-4456-8401-359709354e80&crid=I39PRCWBW9LF&cv_ct_cx=Guitar&keywords=Guitar&pd_rd_i=B073B6TQQY&pd_rd_r=08af7e6c-aa4c-4a3b-b85e-392880de7468&pd_rd_w=Bk63h&pd_rd_wg=jN24V&pf_rd_p=2c602ba1-3dc9-4456-8401-359709354e80&pf_rd_r=27TMPW606GK5EKX6X5GK&qid=1669014736&qu=eyJxc2MiOiI1Ljc4IiwicXNhIjoiNS4yNiIsInFzcCI6IjQuMDUifQ%3D%3D&sprefix=guitar%2Caps%2C232&sr=1-2-93291ede-2a7a-4e75-a6c2-b89c29736263',\n",
       " 'https://www.amazon.in/Juarez-Acoustic-Cutaway-038C-Strings/dp/B017NPCSLI/ref=sxbs_aspa_sqa?content-id=amzn1.sym.2c602ba1-3dc9-4456-8401-359709354e80%3Aamzn1.sym.2c602ba1-3dc9-4456-8401-359709354e80&crid=I39PRCWBW9LF&cv_ct_cx=Guitar&keywords=Guitar&pd_rd_i=B017NPCSLI&pd_rd_r=08af7e6c-aa4c-4a3b-b85e-392880de7468&pd_rd_w=Bk63h&pd_rd_wg=jN24V&pf_rd_p=2c602ba1-3dc9-4456-8401-359709354e80&pf_rd_r=27TMPW606GK5EKX6X5GK&qid=1669014736&qu=eyJxc2MiOiI1Ljc4IiwicXNhIjoiNS4yNiIsInFzcCI6IjQuMDUifQ%3D%3D&sprefix=guitar%2Caps%2C232&sr=1-4-93291ede-2a7a-4e75-a6c2-b89c29736263',\n",
       " 'https://www.amazon.in/Intern-INT-38C-Acoustic-Guitar-Blue/dp/B073B5RZBV/ref=sxbs_aspa_sqa?content-id=amzn1.sym.2c602ba1-3dc9-4456-8401-359709354e80%3Aamzn1.sym.2c602ba1-3dc9-4456-8401-359709354e80&crid=I39PRCWBW9LF&cv_ct_cx=Guitar&keywords=Guitar&pd_rd_i=B073B5RZBV&pd_rd_r=08af7e6c-aa4c-4a3b-b85e-392880de7468&pd_rd_w=Bk63h&pd_rd_wg=jN24V&pf_rd_p=2c602ba1-3dc9-4456-8401-359709354e80&pf_rd_r=27TMPW606GK5EKX6X5GK&qid=1669014736&qu=eyJxc2MiOiI1Ljc4IiwicXNhIjoiNS4yNiIsInFzcCI6IjQuMDUifQ%3D%3D&sprefix=guitar%2Caps%2C232&sr=1-6-93291ede-2a7a-4e75-a6c2-b89c29736263',\n",
       " 'https://www.amazon.in/Intern-INT-38C-BK-G-Guitar-Kit-Black/dp/B07K9497RC/ref=sxbs_aspa_sqa?content-id=amzn1.sym.2c602ba1-3dc9-4456-8401-359709354e80%3Aamzn1.sym.2c602ba1-3dc9-4456-8401-359709354e80&crid=I39PRCWBW9LF&cv_ct_cx=Guitar&keywords=Guitar&pd_rd_i=B07K9497RC&pd_rd_r=08af7e6c-aa4c-4a3b-b85e-392880de7468&pd_rd_w=Bk63h&pd_rd_wg=jN24V&pf_rd_p=2c602ba1-3dc9-4456-8401-359709354e80&pf_rd_r=27TMPW606GK5EKX6X5GK&qid=1669014736&qu=eyJxc2MiOiI1Ljc4IiwicXNhIjoiNS4yNiIsInFzcCI6IjQuMDUifQ%3D%3D&sprefix=guitar%2Caps%2C232&sr=1-8-93291ede-2a7a-4e75-a6c2-b89c29736263',\n",
       " 'https://www.amazon.in/sspa/click?ie=UTF8&spc=MTo1ODU0NjkxNDI2MTk4NTE2OjE2NjkwMTQ3NDk6c3BfYXRmX25leHQ6MjAwNjE5OTExMzIzOTg6OjA6Og&url=%2FAdjustable-Exerciser-Trainer-Training-Arthritis%2Fdp%2FB0B3DN8STX%2Fref%3Dsr_1_49_sspa%3Fcrid%3DI39PRCWBW9LF%26keywords%3DGuitar%26qid%3D1669014749%26qu%3DeyJxc2MiOiI1Ljc4IiwicXNhIjoiNS4yNiIsInFzcCI6IjQuMDUifQ%253D%253D%26sprefix%3Dguitar%252Caps%252C232%26sr%3D8-49-spons%26sp_csd%3Dd2lkZ2V0TmFtZT1zcF9hdGZfbmV4dA%26psc%3D1',\n",
       " 'https://www.amazon.in/sspa/click?ie=UTF8&spc=MTo1ODU0NjkxNDI2MTk4NTE2OjE2NjkwMTQ3NDk6c3BfYXRmX25leHQ6MjAwMzY3MjUwNzMzOTg6OjA6Og&url=%2FFestra-R-40-Natural-Acoustic-Guitar-Strings%2Fdp%2FB09VL5DX17%2Fref%3Dsr_1_50_sspa%3Fcrid%3DI39PRCWBW9LF%26keywords%3DGuitar%26qid%3D1669014749%26qu%3DeyJxc2MiOiI1Ljc4IiwicXNhIjoiNS4yNiIsInFzcCI6IjQuMDUifQ%253D%253D%26sprefix%3Dguitar%252Caps%252C232%26sr%3D8-50-spons%26sp_csd%3Dd2lkZ2V0TmFtZT1zcF9hdGZfbmV4dA%26psc%3D1',\n",
       " 'https://www.amazon.in/sspa/click?ie=UTF8&spc=MTo1ODU0NjkxNDI2MTk4NTE2OjE2NjkwMTQ3NDk6c3BfYXRmX25leHQ6MjAwNzgzMzY4ODUxOTg6OjA6Og&url=%2FBlueberry-Acoustic-Inbuilt-Strings-Classic%2Fdp%2FB09VLF8B8G%2Fref%3Dsr_1_51_sspa%3Fcrid%3DI39PRCWBW9LF%26keywords%3DGuitar%26qid%3D1669014749%26qu%3DeyJxc2MiOiI1Ljc4IiwicXNhIjoiNS4yNiIsInFzcCI6IjQuMDUifQ%253D%253D%26sprefix%3Dguitar%252Caps%252C232%26sr%3D8-51-spons%26sp_csd%3Dd2lkZ2V0TmFtZT1zcF9hdGZfbmV4dA%26psc%3D1',\n",
       " 'https://www.amazon.in/sspa/click?ie=UTF8&spc=MTo1ODU0NjkxNDI2MTk4NTE2OjE2NjkwMTQ3NDk6c3BfYXRmX25leHQ6MjAwNzgzMzY4ODUwOTg6OjA6Og&url=%2FBlueberry-B-D38-Acoustic-Inbuilt-Strings%2Fdp%2FB0B74CSY9V%2Fref%3Dsr_1_52_sspa%3Fcrid%3DI39PRCWBW9LF%26keywords%3DGuitar%26qid%3D1669014749%26qu%3DeyJxc2MiOiI1Ljc4IiwicXNhIjoiNS4yNiIsInFzcCI6IjQuMDUifQ%253D%253D%26sprefix%3Dguitar%252Caps%252C232%26sr%3D8-52-spons%26sp_csd%3Dd2lkZ2V0TmFtZT1zcF9hdGZfbmV4dA%26psc%3D1',\n",
       " 'https://www.amazon.in/Yamaha-F310-6-Strings-Acoustic-Natural/dp/B000RVYW7E/ref=sr_1_53?crid=I39PRCWBW9LF&keywords=Guitar&qid=1669014749&qu=eyJxc2MiOiI1Ljc4IiwicXNhIjoiNS4yNiIsInFzcCI6IjQuMDUifQ%3D%3D&sprefix=guitar%2Caps%2C232&sr=8-53',\n",
       " 'https://www.amazon.in/FX280-acoustic-Dreadnought-Tobacco-Sunburst/dp/B09HR7BXGW/ref=sr_1_54?crid=I39PRCWBW9LF&keywords=Guitar&qid=1669014749&qu=eyJxc2MiOiI1Ljc4IiwicXNhIjoiNS4yNiIsInFzcCI6IjQuMDUifQ%3D%3D&sprefix=guitar%2Caps%2C232&sr=8-54',\n",
       " 'https://www.amazon.in/Intern-INT-38C-RD-G-Guitar-Kit-Red/dp/B07K959RKX/ref=sr_1_55?crid=I39PRCWBW9LF&keywords=Guitar&qid=1669014749&qu=eyJxc2MiOiI1Ljc4IiwicXNhIjoiNS4yNiIsInFzcCI6IjQuMDUifQ%3D%3D&sprefix=guitar%2Caps%2C232&sr=8-55',\n",
       " 'https://www.amazon.in/Tanglewood-Electro-Acoustic-Guitar-Antique-Violin/dp/B0971762X2/ref=sr_1_56?crid=I39PRCWBW9LF&keywords=Guitar&qid=1669014749&qu=eyJxc2MiOiI1Ljc4IiwicXNhIjoiNS4yNiIsInFzcCI6IjQuMDUifQ%3D%3D&sprefix=guitar%2Caps%2C232&sr=8-56',\n",
       " 'https://www.amazon.in/Kadence-Frontier-Acoustic-Natural-Equalizer/dp/B01I50UJG6/ref=sr_1_57?crid=I39PRCWBW9LF&keywords=Guitar&qid=1669014749&qu=eyJxc2MiOiI1Ljc4IiwicXNhIjoiNS4yNiIsInFzcCI6IjQuMDUifQ%3D%3D&sprefix=guitar%2Caps%2C232&sr=8-57',\n",
       " 'https://www.amazon.in/JUAREZ-Acoustic-Rosewood-Fretboard-3TS/dp/B08GZXNSBG/ref=sr_1_58?crid=I39PRCWBW9LF&keywords=Guitar&qid=1669014749&qu=eyJxc2MiOiI1Ljc4IiwicXNhIjoiNS4yNiIsInFzcCI6IjQuMDUifQ%3D%3D&sprefix=guitar%2Caps%2C232&sr=8-58',\n",
       " 'https://www.amazon.in/215-Rosewood-Fretboard-Acoustic-K-Retail/dp/B08RCRJ8SK/ref=sr_1_49?crid=I39PRCWBW9LF&keywords=Guitar&qid=1669014749&qu=eyJxc2MiOiI1Ljc4IiwicXNhIjoiNS4yNiIsInFzcCI6IjQuMDUifQ%3D%3D&sprefix=guitar%2Caps%2C232&sr=8-49',\n",
       " 'https://www.amazon.in/Acoustic-Cutaway-3TS-Strings-Sunburst/dp/B098BD1MHM/ref=sr_1_50?crid=I39PRCWBW9LF&keywords=Guitar&qid=1669014749&qu=eyJxc2MiOiI1Ljc4IiwicXNhIjoiNS4yNiIsInFzcCI6IjQuMDUifQ%3D%3D&sprefix=guitar%2Caps%2C232&sr=8-50',\n",
       " 'https://www.amazon.in/Medellin-Acoustic-Guitar-Online-Learning/dp/B0BMKQNWM2/ref=sr_1_51?crid=I39PRCWBW9LF&keywords=Guitar&qid=1669014749&qu=eyJxc2MiOiI1Ljc4IiwicXNhIjoiNS4yNiIsInFzcCI6IjQuMDUifQ%3D%3D&sprefix=guitar%2Caps%2C232&sr=8-51',\n",
       " 'https://www.amazon.in/Fender-0971110021-Dreadnought-Acoustic-Natural/dp/B07BCTL1MG/ref=sr_1_52?crid=I39PRCWBW9LF&keywords=Guitar&qid=1669014749&qu=eyJxc2MiOiI1Ljc4IiwicXNhIjoiNS4yNiIsInFzcCI6IjQuMDUifQ%3D%3D&sprefix=guitar%2Caps%2C232&sr=8-52',\n",
       " 'https://www.amazon.in/Intern-INT-38C-Acoustic-Guitar-Kit/dp/B073B6TF31/ref=sr_1_53?crid=I39PRCWBW9LF&keywords=Guitar&qid=1669014749&qu=eyJxc2MiOiI1Ljc4IiwicXNhIjoiNS4yNiIsInFzcCI6IjQuMDUifQ%3D%3D&sprefix=guitar%2Caps%2C232&sr=8-53',\n",
       " 'https://www.amazon.in/Cort-AD810-Dreadnought-Acoustic-Guitar/dp/B07KMBVR6V/ref=sr_1_54?crid=I39PRCWBW9LF&keywords=Guitar&qid=1669014749&qu=eyJxc2MiOiI1Ljc4IiwicXNhIjoiNS4yNiIsInFzcCI6IjQuMDUifQ%3D%3D&sprefix=guitar%2Caps%2C232&sr=8-54',\n",
       " 'https://www.amazon.in/JUAREZ-Arp%C3%A9ggio-Semi-Acoustic-Guitar-Equaliser/dp/B08KHMY76X/ref=sr_1_55?crid=I39PRCWBW9LF&keywords=Guitar&qid=1669014749&qu=eyJxc2MiOiI1Ljc4IiwicXNhIjoiNS4yNiIsInFzcCI6IjQuMDUifQ%3D%3D&sprefix=guitar%2Caps%2C232&sr=8-55',\n",
       " 'https://www.amazon.in/Martin-Smith-W-101-SB-PK-Acoustic-Guitar/dp/B019MY0ZGI/ref=sr_1_56?crid=I39PRCWBW9LF&keywords=Guitar&qid=1669014749&qu=eyJxc2MiOiI1Ljc4IiwicXNhIjoiNS4yNiIsInFzcCI6IjQuMDUifQ%3D%3D&sprefix=guitar%2Caps%2C232&sr=8-56',\n",
       " 'https://www.amazon.in/Belear-I280-Black-Matt-Acoustic/dp/B0BHTBLQGZ/ref=sr_1_57?crid=I39PRCWBW9LF&keywords=Guitar&qid=1669014749&qu=eyJxc2MiOiI1Ljc4IiwicXNhIjoiNS4yNiIsInFzcCI6IjQuMDUifQ%3D%3D&sprefix=guitar%2Caps%2C232&sr=8-57',\n",
       " 'https://www.amazon.in/Kadence-6-strings-Acoustic-Guitar-Natural/dp/B07JKYWGJN/ref=sr_1_58?crid=I39PRCWBW9LF&keywords=Guitar&qid=1669014749&qu=eyJxc2MiOiI1Ljc4IiwicXNhIjoiNS4yNiIsInFzcCI6IjQuMDUifQ%3D%3D&sprefix=guitar%2Caps%2C232&sr=8-58',\n",
       " 'https://www.amazon.in/sspa/click?ie=UTF8&spc=MTo1ODU0NjkxNDI2MTk4NTE2OjE2NjkwMTQ3NDk6c3BfbXRmOjIwMDkyNjI0MDIxNTk4OjowOjo&url=%2FVault-DA20-Dreadnought-Acoustic-Guitar%2Fdp%2FB0BJJRJVHY%2Fref%3Dsr_1_59_sspa%3Fcrid%3DI39PRCWBW9LF%26keywords%3DGuitar%26qid%3D1669014749%26qu%3DeyJxc2MiOiI1Ljc4IiwicXNhIjoiNS4yNiIsInFzcCI6IjQuMDUifQ%253D%253D%26sprefix%3Dguitar%252Caps%252C232%26sr%3D8-59-spons%26sp_csd%3Dd2lkZ2V0TmFtZT1zcF9tdGY%26psc%3D1',\n",
       " 'https://www.amazon.in/sspa/click?ie=UTF8&spc=MTo1ODU0NjkxNDI2MTk4NTE2OjE2NjkwMTQ3NDk6c3BfbXRmOjIwMDE5NDUwNTY0Mzk4OjowOjo&url=%2FPremium-Spruce-Top-Cutaway-Acoustic-Guitar%2Fdp%2FB08FFZY6BJ%2Fref%3Dsr_1_60_sspa%3Fcrid%3DI39PRCWBW9LF%26keywords%3DGuitar%26qid%3D1669014749%26qu%3DeyJxc2MiOiI1Ljc4IiwicXNhIjoiNS4yNiIsInFzcCI6IjQuMDUifQ%253D%253D%26sprefix%3Dguitar%252Caps%252C232%26sr%3D8-60-spons%26sp_csd%3Dd2lkZ2V0TmFtZT1zcF9tdGY%26psc%3D1',\n",
       " 'https://www.amazon.in/sspa/click?ie=UTF8&spc=MTo1ODU0NjkxNDI2MTk4NTE2OjE2NjkwMTQ3NDk6c3BfbXRmOjIwMDc3ODY4NTg3MTk4OjowOjo&url=%2FRight-Search-Dancing-Cactus-Set_CG1001%2Fdp%2FB09RJDLKMF%2Fref%3Dsr_1_61_sspa%3Fcrid%3DI39PRCWBW9LF%26keywords%3DGuitar%26qid%3D1669014749%26qu%3DeyJxc2MiOiI1Ljc4IiwicXNhIjoiNS4yNiIsInFzcCI6IjQuMDUifQ%253D%253D%26sprefix%3Dguitar%252Caps%252C232%26sr%3D8-61-spons%26sp_csd%3Dd2lkZ2V0TmFtZT1zcF9tdGY%26psc%3D1',\n",
       " 'https://www.amazon.in/sspa/click?ie=UTF8&spc=MTo1ODU0NjkxNDI2MTk4NTE2OjE2NjkwMTQ3NDk6c3BfbXRmOjIwMDc4MzM2ODg3ODk4OjowOjo&url=%2FBlueberry-Acoustic-Guitar-inbuilt-Truss-rod%2Fdp%2FB08T8HW3K7%2Fref%3Dsr_1_62_sspa%3Fcrid%3DI39PRCWBW9LF%26keywords%3DGuitar%26qid%3D1669014749%26qu%3DeyJxc2MiOiI1Ljc4IiwicXNhIjoiNS4yNiIsInFzcCI6IjQuMDUifQ%253D%253D%26sprefix%3Dguitar%252Caps%252C232%26sr%3D8-62-spons%26sp_csd%3Dd2lkZ2V0TmFtZT1zcF9tdGY%26psc%3D1',\n",
       " 'https://www.amazon.in/Epiphone-Express-Travel-Size-Electric-Guitar/dp/B00I056PAG/ref=sr_1_63?crid=I39PRCWBW9LF&keywords=Guitar&qid=1669014749&qu=eyJxc2MiOiI1Ljc4IiwicXNhIjoiNS4yNiIsInFzcCI6IjQuMDUifQ%3D%3D&sprefix=guitar%2Caps%2C232&sr=8-63',\n",
       " 'https://www.amazon.in/Kadence-Inches-Electric-ROSEWOOD-FRETBOARD/dp/B07L5D8PT7/ref=sr_1_64?crid=I39PRCWBW9LF&keywords=Guitar&qid=1669014749&qu=eyJxc2MiOiI1Ljc4IiwicXNhIjoiNS4yNiIsInFzcCI6IjQuMDUifQ%3D%3D&sprefix=guitar%2Caps%2C232&sr=8-64',\n",
       " 'https://www.amazon.in/Yamaha-40-Strings-Classical-Guitars/dp/B000I1Q4TC/ref=sr_1_65?crid=I39PRCWBW9LF&keywords=Guitar&qid=1669014749&qu=eyJxc2MiOiI1Ljc4IiwicXNhIjoiNS4yNiIsInFzcCI6IjQuMDUifQ%3D%3D&sprefix=guitar%2Caps%2C232&sr=8-65',\n",
       " 'https://www.amazon.in/JUAREZ-Arpeggio-Guitar-JRA41SP-Q-BL-blue/dp/B08MWBBGS6/ref=sr_1_66?crid=I39PRCWBW9LF&keywords=Guitar&qid=1669014749&qu=eyJxc2MiOiI1Ljc4IiwicXNhIjoiNS4yNiIsInFzcCI6IjQuMDUifQ%3D%3D&sprefix=guitar%2Caps%2C232&sr=8-66',\n",
       " 'https://www.amazon.in/Fender-Dread-String-Acoustic-Guitar/dp/B07RL6VG3H/ref=sr_1_67?crid=I39PRCWBW9LF&keywords=Guitar&qid=1669014749&qu=eyJxc2MiOiI1Ljc4IiwicXNhIjoiNS4yNiIsInFzcCI6IjQuMDUifQ%3D%3D&sprefix=guitar%2Caps%2C232&sr=8-67',\n",
       " 'https://www.amazon.in/Fender-961702021-Dreadnought-Acoustic-Multicolor/dp/B01N4RWSX1/ref=sr_1_68?crid=I39PRCWBW9LF&keywords=Guitar&qid=1669014749&qu=eyJxc2MiOiI1Ljc4IiwicXNhIjoiNS4yNiIsInFzcCI6IjQuMDUifQ%3D%3D&sprefix=guitar%2Caps%2C232&sr=8-68',\n",
       " 'https://www.amazon.in/Blueberry-B-38C-Brown-Acoustic-Guitar-Strings/dp/B0B71BHDGQ/ref=sr_1_69?crid=I39PRCWBW9LF&keywords=Guitar&qid=1669014749&qu=eyJxc2MiOiI1Ljc4IiwicXNhIjoiNS4yNiIsInFzcCI6IjQuMDUifQ%3D%3D&sprefix=guitar%2Caps%2C232&sr=8-69',\n",
       " 'https://www.amazon.in/Cort-AD810E-Dreadnought-Electro-Acoustic/dp/B00V9RNUD2/ref=sr_1_70?crid=I39PRCWBW9LF&keywords=Guitar&qid=1669014749&qu=eyJxc2MiOiI1Ljc4IiwicXNhIjoiNS4yNiIsInFzcCI6IjQuMDUifQ%3D%3D&sprefix=guitar%2Caps%2C232&sr=8-70',\n",
       " 'https://www.amazon.in/Fender-FA-235E-Concert-Bodied-Acoustic/dp/B07BCQ7P7Z/ref=sr_1_71?crid=I39PRCWBW9LF&keywords=Guitar&qid=1669014749&qu=eyJxc2MiOiI1Ljc4IiwicXNhIjoiNS4yNiIsInFzcCI6IjQuMDUifQ%3D%3D&sprefix=guitar%2Caps%2C232&sr=8-71',\n",
       " 'https://www.amazon.in/Ultimate-Concert-Cutaway-Acoustic-Bajaao/dp/B08WHWKKV5/ref=sr_1_72?crid=I39PRCWBW9LF&keywords=Guitar&qid=1669014749&qu=eyJxc2MiOiI1Ljc4IiwicXNhIjoiNS4yNiIsInFzcCI6IjQuMDUifQ%3D%3D&sprefix=guitar%2Caps%2C232&sr=8-72',\n",
       " 'https://www.amazon.in/Cort-CR250TBK-Classic-Electric-Guitar/dp/B005K9TV8S/ref=sr_1_73?crid=I39PRCWBW9LF&keywords=Guitar&qid=1669014749&qu=eyJxc2MiOiI1Ljc4IiwicXNhIjoiNS4yNiIsInFzcCI6IjQuMDUifQ%3D%3D&sprefix=guitar%2Caps%2C232&sr=8-73',\n",
       " 'https://www.amazon.in/Kadence-Astro-Electric-Guitar-FRETS/dp/B09YHPH1MZ/ref=sr_1_74?crid=I39PRCWBW9LF&keywords=Guitar&qid=1669014749&qu=eyJxc2MiOiI1Ljc4IiwicXNhIjoiNS4yNiIsInFzcCI6IjQuMDUifQ%3D%3D&sprefix=guitar%2Caps%2C232&sr=8-74',\n",
       " 'https://www.amazon.in/JUAREZ-Arpeggio-Acoustic-Rosewood-Fretboard/dp/B08LBHB547/ref=sr_1_75?crid=I39PRCWBW9LF&keywords=Guitar&qid=1669014749&qu=eyJxc2MiOiI1Ljc4IiwicXNhIjoiNS4yNiIsInFzcCI6IjQuMDUifQ%3D%3D&sprefix=guitar%2Caps%2C232&sr=8-75',\n",
       " 'https://www.amazon.in/Blueberry-38C-Acoustic-Strings-Natural/dp/B08KLNFL2Y/ref=sr_1_76?crid=I39PRCWBW9LF&keywords=Guitar&qid=1669014749&qu=eyJxc2MiOiI1Ljc4IiwicXNhIjoiNS4yNiIsInFzcCI6IjQuMDUifQ%3D%3D&sprefix=guitar%2Caps%2C232&sr=8-76',\n",
       " 'https://www.amazon.in/Cort-X100-6-String-Electric-Guitar/dp/B07QKWFTK1/ref=sr_1_77?crid=I39PRCWBW9LF&keywords=Guitar&qid=1669014749&qu=eyJxc2MiOiI1Ljc4IiwicXNhIjoiNS4yNiIsInFzcCI6IjQuMDUifQ%3D%3D&sprefix=guitar%2Caps%2C232&sr=8-77',\n",
       " 'https://www.amazon.in/Yamaha-PACIFICA012-Electric-Guitar-Metallic/dp/B00REF6CII/ref=sr_1_78?crid=I39PRCWBW9LF&keywords=Guitar&qid=1669014749&qu=eyJxc2MiOiI1Ljc4IiwicXNhIjoiNS4yNiIsInFzcCI6IjQuMDUifQ%3D%3D&sprefix=guitar%2Caps%2C232&sr=8-78',\n",
       " 'https://www.amazon.in/Acoustic-Strings-Rosette-Rosewood-Fretboard/dp/B09FPQX7RN/ref=sr_1_79?crid=I39PRCWBW9LF&keywords=Guitar&qid=1669014749&qu=eyJxc2MiOiI1Ljc4IiwicXNhIjoiNS4yNiIsInFzcCI6IjQuMDUifQ%3D%3D&sprefix=guitar%2Caps%2C232&sr=8-79',\n",
       " 'https://www.amazon.in/Medellin-Acoustic-Guitar-Purple-Learning/dp/B09MSGPQ43/ref=sr_1_80?crid=I39PRCWBW9LF&keywords=Guitar&qid=1669014749&qu=eyJxc2MiOiI1Ljc4IiwicXNhIjoiNS4yNiIsInFzcCI6IjQuMDUifQ%3D%3D&sprefix=guitar%2Caps%2C232&sr=8-80',\n",
       " 'https://www.amazon.in/Pluto-HW41C201-HW41C-201-Acoustic-Guitar/dp/B014R94H1W/ref=sr_1_81?crid=I39PRCWBW9LF&keywords=Guitar&qid=1669014749&qu=eyJxc2MiOiI1Ljc4IiwicXNhIjoiNS4yNiIsInFzcCI6IjQuMDUifQ%3D%3D&sprefix=guitar%2Caps%2C232&sr=8-81',\n",
       " 'https://www.amazon.in/JUAREZ-JRZ-HSS01-ELECTRIC-GUITAR-SUNBURST/dp/B08QNVNM1Z/ref=sr_1_82?crid=I39PRCWBW9LF&keywords=Guitar&qid=1669014749&qu=eyJxc2MiOiI1Ljc4IiwicXNhIjoiNS4yNiIsInFzcCI6IjQuMDUifQ%3D%3D&sprefix=guitar%2Caps%2C232&sr=8-82',\n",
       " 'https://www.amazon.in/Epiphone-Acoustic-EEHBFCNH1-Acoustic-Electric-Guitar/dp/B00AFOMX7O/ref=sr_1_83?crid=I39PRCWBW9LF&keywords=Guitar&qid=1669014749&qu=eyJxc2MiOiI1Ljc4IiwicXNhIjoiNS4yNiIsInFzcCI6IjQuMDUifQ%3D%3D&sprefix=guitar%2Caps%2C232&sr=8-83',\n",
       " 'https://www.amazon.in/Kadence-Slowhand-Premium-Acoustic-Instrument/dp/B077SZ667X/ref=sr_1_84?crid=I39PRCWBW9LF&keywords=Guitar&qid=1669014749&qu=eyJxc2MiOiI1Ljc4IiwicXNhIjoiNS4yNiIsInFzcCI6IjQuMDUifQ%3D%3D&sprefix=guitar%2Caps%2C232&sr=8-84',\n",
       " 'https://www.amazon.in/Martin-Smith-W-101-N-PK-Acoustic-Natural/dp/B00UOUK4IE/ref=sr_1_85?crid=I39PRCWBW9LF&keywords=Guitar&qid=1669014749&qu=eyJxc2MiOiI1Ljc4IiwicXNhIjoiNS4yNiIsInFzcCI6IjQuMDUifQ%3D%3D&sprefix=guitar%2Caps%2C232&sr=8-85',\n",
       " 'https://www.amazon.in/Fender-FA-125-Dreadnought-Acoustic-Guitar/dp/B0965DK72K/ref=sr_1_86?crid=I39PRCWBW9LF&keywords=Guitar&qid=1669014749&qu=eyJxc2MiOiI1Ljc4IiwicXNhIjoiNS4yNiIsInFzcCI6IjQuMDUifQ%3D%3D&sprefix=guitar%2Caps%2C232&sr=8-86',\n",
       " 'https://www.amazon.in/Fender-Dread-String-Acoustic-Guitar/dp/B07RM21D8X/ref=sr_1_87?crid=I39PRCWBW9LF&keywords=Guitar&qid=1669014749&qu=eyJxc2MiOiI1Ljc4IiwicXNhIjoiNS4yNiIsInFzcCI6IjQuMDUifQ%3D%3D&sprefix=guitar%2Caps%2C232&sr=8-87',\n",
       " 'https://www.amazon.in/Kadence-Electric-Guitar-Rosewood-Fretboard/dp/B07BGXN7P6/ref=sr_1_88?crid=I39PRCWBW9LF&keywords=Guitar&qid=1669014749&qu=eyJxc2MiOiI1Ljc4IiwicXNhIjoiNS4yNiIsInFzcCI6IjQuMDUifQ%3D%3D&sprefix=guitar%2Caps%2C232&sr=8-88',\n",
       " 'https://www.amazon.in/Cort-AF515CE-Electro-Acoustic-Guitar/dp/B08DP67FKP/ref=sr_1_89?crid=I39PRCWBW9LF&keywords=Guitar&qid=1669014749&qu=eyJxc2MiOiI1Ljc4IiwicXNhIjoiNS4yNiIsInFzcCI6IjQuMDUifQ%3D%3D&sprefix=guitar%2Caps%2C232&sr=8-89',\n",
       " 'https://www.amazon.in/Yamaha-PAC012-Electric-Guitar-Metallic/dp/B000MLY7XS/ref=sr_1_90?crid=I39PRCWBW9LF&keywords=Guitar&qid=1669014749&qu=eyJxc2MiOiI1Ljc4IiwicXNhIjoiNS4yNiIsInFzcCI6IjQuMDUifQ%3D%3D&sprefix=guitar%2Caps%2C232&sr=8-90',\n",
       " 'https://www.amazon.in/Ibanez-MD39C-NT-Cutaway-Acoustic-MD39CSB/dp/B07KYKTRKX/ref=sr_1_91?crid=I39PRCWBW9LF&keywords=Guitar&qid=1669014749&qu=eyJxc2MiOiI1Ljc4IiwicXNhIjoiNS4yNiIsInFzcCI6IjQuMDUifQ%3D%3D&sprefix=guitar%2Caps%2C232&sr=8-91',\n",
       " 'https://www.amazon.in/ORANGEWOOD-OLIVER-S-SPRUCE-CONCERT-ACOUSTIC/dp/B0B6PT8JGD/ref=sr_1_92?crid=I39PRCWBW9LF&keywords=Guitar&qid=1669014749&qu=eyJxc2MiOiI1Ljc4IiwicXNhIjoiNS4yNiIsInFzcCI6IjQuMDUifQ%3D%3D&sprefix=guitar%2Caps%2C232&sr=8-92',\n",
       " 'https://www.amazon.in/Blueberry-38C-Acoustic-Guitar-Strings/dp/B08KLMV4XX/ref=sr_1_93?crid=I39PRCWBW9LF&keywords=Guitar&qid=1669014749&qu=eyJxc2MiOiI1Ljc4IiwicXNhIjoiNS4yNiIsInFzcCI6IjQuMDUifQ%3D%3D&sprefix=guitar%2Caps%2C232&sr=8-93',\n",
       " 'https://www.amazon.in/Intern-INT-38C-Sunburst-Acoustic-Guitar/dp/B07X1J4D3Z/ref=sr_1_94?crid=I39PRCWBW9LF&keywords=Guitar&qid=1669014749&qu=eyJxc2MiOiI1Ljc4IiwicXNhIjoiNS4yNiIsInFzcCI6IjQuMDUifQ%3D%3D&sprefix=guitar%2Caps%2C232&sr=8-94',\n",
       " 'https://www.amazon.in/sspa/click?ie=UTF8&spc=MTo1ODU0NjkxNDI2MTk4NTE2OjE2NjkwMTQ3NDk6c3BfYnRmOjIwMDc3ODY4NTg2Mjk4OjowOjo&url=%2FRight-Search-Mini-Musical-Guitar%2Fdp%2FB0B6FJNP9S%2Fref%3Dsr_1_95_sspa%3Fcrid%3DI39PRCWBW9LF%26keywords%3DGuitar%26qid%3D1669014749%26qu%3DeyJxc2MiOiI1Ljc4IiwicXNhIjoiNS4yNiIsInFzcCI6IjQuMDUifQ%253D%253D%26sprefix%3Dguitar%252Caps%252C232%26sr%3D8-95-spons%26sp_csd%3Dd2lkZ2V0TmFtZT1zcF9idGY%26psc%3D1',\n",
       " 'https://www.amazon.in/sspa/click?ie=UTF8&spc=MTo1ODU0NjkxNDI2MTk4NTE2OjE2NjkwMTQ3NDk6c3BfYnRmOjIwMDc1MDk3NjI2Njk4OjowOjo&url=%2FSG-Musical-Guitar-silicon-fingers%2Fdp%2FB0BD4B826N%2Fref%3Dsr_1_96_sspa%3Fcrid%3DI39PRCWBW9LF%26keywords%3DGuitar%26qid%3D1669014749%26qu%3DeyJxc2MiOiI1Ljc4IiwicXNhIjoiNS4yNiIsInFzcCI6IjQuMDUifQ%253D%253D%26sprefix%3Dguitar%252Caps%252C232%26sr%3D8-96-spons%26sp_csd%3Dd2lkZ2V0TmFtZT1zcF9idGY%26psc%3D1',\n",
       " 'https://www.amazon.in/sspa/click?ie=UTF8&spc=MTo1ODU0NjkxNDI2MTk4NTE2OjE2NjkwMTQ3NDk6c3BfYnRmOjIwMDc4MzM2ODg4NDk4OjowOjo&url=%2FBlueberry-38C-Acoustic-Strings-Sunburst%2Fdp%2FB08KLMQN88%2Fref%3Dsr_1_97_sspa%3Fcrid%3DI39PRCWBW9LF%26keywords%3DGuitar%26qid%3D1669014749%26qu%3DeyJxc2MiOiI1Ljc4IiwicXNhIjoiNS4yNiIsInFzcCI6IjQuMDUifQ%253D%253D%26sprefix%3Dguitar%252Caps%252C232%26sr%3D8-97-spons%26sp_csd%3Dd2lkZ2V0TmFtZT1zcF9idGY%26psc%3D1',\n",
       " 'https://www.amazon.in/sspa/click?ie=UTF8&spc=MTo1ODU0NjkxNDI2MTk4NTE2OjE2NjkwMTQ3NDk6c3BfYnRmOjIwMDc4MzM2ODg4NTk4OjowOjo&url=%2FBlueberry-B-G41S-Acoustic-Strings-Natural%2Fdp%2FB07PKQGF2N%2Fref%3Dsr_1_98_sspa%3Fcrid%3DI39PRCWBW9LF%26keywords%3DGuitar%26qid%3D1669014749%26qu%3DeyJxc2MiOiI1Ljc4IiwicXNhIjoiNS4yNiIsInFzcCI6IjQuMDUifQ%253D%253D%26sprefix%3Dguitar%252Caps%252C232%26sr%3D8-98-spons%26sp_csd%3Dd2lkZ2V0TmFtZT1zcF9idGY%26psc%3D1',\n",
       " 'https://www.amazon.in/sspa/click?ie=UTF8&spc=MTo0NzgxOTU0NDMzMjM5Mjg3OjE2NjkwMTQ3NTY6c3BfYXRmX25leHQ6MjAwMzY3MjUwNzM1OTg6OjA6Og&url=%2FFestra-Trussrod-Acoustic-Guitar-Strings%2Fdp%2FB09VLBKD2M%2Fref%3Dsr_1_97_sspa%3Fcrid%3DI39PRCWBW9LF%26keywords%3DGuitar%26qid%3D1669014756%26qu%3DeyJxc2MiOiI1Ljc4IiwicXNhIjoiNS4yNiIsInFzcCI6IjQuMDUifQ%253D%253D%26sprefix%3Dguitar%252Caps%252C232%26sr%3D8-97-spons%26sp_csd%3Dd2lkZ2V0TmFtZT1zcF9hdGZfbmV4dA%26psc%3D1',\n",
       " 'https://www.amazon.in/sspa/click?ie=UTF8&spc=MTo0NzgxOTU0NDMzMjM5Mjg3OjE2NjkwMTQ3NTY6c3BfYXRmX25leHQ6MjAwNzc4Njg1ODY4OTg6OjA6Og&url=%2FRight-Search-Musical-Guitar-Toy_g2%2Fdp%2FB09Z9DP9NR%2Fref%3Dsr_1_98_sspa%3Fcrid%3DI39PRCWBW9LF%26keywords%3DGuitar%26qid%3D1669014756%26qu%3DeyJxc2MiOiI1Ljc4IiwicXNhIjoiNS4yNiIsInFzcCI6IjQuMDUifQ%253D%253D%26sprefix%3Dguitar%252Caps%252C232%26sr%3D8-98-spons%26sp_csd%3Dd2lkZ2V0TmFtZT1zcF9hdGZfbmV4dA%26psc%3D1',\n",
       " 'https://www.amazon.in/sspa/click?ie=UTF8&spc=MTo0NzgxOTU0NDMzMjM5Mjg3OjE2NjkwMTQ3NTY6c3BfYXRmX25leHQ6MjAwNzgzMzY4ODc5OTg6OjA6Og&url=%2FBlueberry-Trussrod-Acoustic-Guitar-Sunburst%2Fdp%2FB08WH5553T%2Fref%3Dsr_1_99_sspa%3Fcrid%3DI39PRCWBW9LF%26keywords%3DGuitar%26qid%3D1669014756%26qu%3DeyJxc2MiOiI1Ljc4IiwicXNhIjoiNS4yNiIsInFzcCI6IjQuMDUifQ%253D%253D%26sprefix%3Dguitar%252Caps%252C232%26sr%3D8-99-spons%26sp_csd%3Dd2lkZ2V0TmFtZT1zcF9hdGZfbmV4dA%26psc%3D1',\n",
       " 'https://www.amazon.in/sspa/click?ie=UTF8&spc=MTo0NzgxOTU0NDMzMjM5Mjg3OjE2NjkwMTQ3NTY6c3BfYXRmX25leHQ6MjAwNzUwOTc2MjY1OTg6OjA6Og&url=%2FSG-Musical-Guitar-Silicon-Protector%2Fdp%2FB0BD4995PW%2Fref%3Dsr_1_100_sspa%3Fcrid%3DI39PRCWBW9LF%26keywords%3DGuitar%26qid%3D1669014756%26qu%3DeyJxc2MiOiI1Ljc4IiwicXNhIjoiNS4yNiIsInFzcCI6IjQuMDUifQ%253D%253D%26sprefix%3Dguitar%252Caps%252C232%26sr%3D8-100-spons%26sp_csd%3Dd2lkZ2V0TmFtZT1zcF9hdGZfbmV4dA%26psc%3D1',\n",
       " 'https://www.amazon.in/ORANGEWOOD-OLIVER-S-SPRUCE-CONCERT-ACOUSTIC/dp/B0B6PT8JGD/ref=sr_1_101?crid=I39PRCWBW9LF&keywords=Guitar&qid=1669014756&qu=eyJxc2MiOiI1Ljc4IiwicXNhIjoiNS4yNiIsInFzcCI6IjQuMDUifQ%3D%3D&sprefix=guitar%2Caps%2C232&sr=8-101',\n",
       " 'https://www.amazon.in/Blueberry-38C-Acoustic-Guitar-Strings/dp/B08KLMV4XX/ref=sr_1_102?crid=I39PRCWBW9LF&keywords=Guitar&qid=1669014756&qu=eyJxc2MiOiI1Ljc4IiwicXNhIjoiNS4yNiIsInFzcCI6IjQuMDUifQ%3D%3D&sprefix=guitar%2Caps%2C232&sr=8-102',\n",
       " 'https://www.amazon.in/Intern-INT-38C-Sunburst-Acoustic-Guitar/dp/B07X1J4D3Z/ref=sr_1_103?crid=I39PRCWBW9LF&keywords=Guitar&qid=1669014756&qu=eyJxc2MiOiI1Ljc4IiwicXNhIjoiNS4yNiIsInFzcCI6IjQuMDUifQ%3D%3D&sprefix=guitar%2Caps%2C232&sr=8-103',\n",
       " 'https://www.amazon.in/Pluto-HW39C-201-Medium-Cutaway-Acoustic/dp/B0154UQEJG/ref=sr_1_104?crid=I39PRCWBW9LF&keywords=Guitar&qid=1669014756&qu=eyJxc2MiOiI1Ljc4IiwicXNhIjoiNS4yNiIsInFzcCI6IjQuMDUifQ%3D%3D&sprefix=guitar%2Caps%2C232&sr=8-104',\n",
       " 'https://www.amazon.in/Kadence-Classical-Acoustic-Beginner-Professional/dp/B09V2QB1Q5/ref=sr_1_105?crid=I39PRCWBW9LF&keywords=Guitar&qid=1669014756&qu=eyJxc2MiOiI1Ljc4IiwicXNhIjoiNS4yNiIsInFzcCI6IjQuMDUifQ%3D%3D&sprefix=guitar%2Caps%2C232&sr=8-105',\n",
       " 'https://www.amazon.in/Acoustic-plectrums-stability-age-groups-Electric/dp/B09YH8JRZH/ref=sr_1_106?crid=I39PRCWBW9LF&keywords=Guitar&qid=1669014756&qu=eyJxc2MiOiI1Ljc4IiwicXNhIjoiNS4yNiIsInFzcCI6IjQuMDUifQ%3D%3D&sprefix=guitar%2Caps%2C232&sr=8-106',\n",
       " 'https://www.amazon.in/Fender-0930307021-SA-105CE-Dreadnought-Electric/dp/B009X3PLRC/ref=sr_1_97?crid=I39PRCWBW9LF&keywords=Guitar&qid=1669014756&qu=eyJxc2MiOiI1Ljc4IiwicXNhIjoiNS4yNiIsInFzcCI6IjQuMDUifQ%3D%3D&sprefix=guitar%2Caps%2C232&sr=8-97',\n",
       " 'https://www.amazon.in/Yamaha-FSX80C-Acoustic-Cutaway-Guitar/dp/B09HL5WFDX/ref=sr_1_98?crid=I39PRCWBW9LF&keywords=Guitar&qid=1669014756&qu=eyJxc2MiOiI1Ljc4IiwicXNhIjoiNS4yNiIsInFzcCI6IjQuMDUifQ%3D%3D&sprefix=guitar%2Caps%2C232&sr=8-98',\n",
       " 'https://www.amazon.in/Medellin-Acoustic-adjustable-Truss-rod-learning/dp/B0BML6H5HT/ref=sr_1_99?crid=I39PRCWBW9LF&keywords=Guitar&qid=1669014756&qu=eyJxc2MiOiI1Ljc4IiwicXNhIjoiNS4yNiIsInFzcCI6IjQuMDUifQ%3D%3D&sprefix=guitar%2Caps%2C232&sr=8-99',\n",
       " 'https://www.amazon.in/Blueberry-Beginner-Rosewood-Electric-Strings/dp/B0B8RSKTZ3/ref=sr_1_100?crid=I39PRCWBW9LF&keywords=Guitar&qid=1669014756&qu=eyJxc2MiOiI1Ljc4IiwicXNhIjoiNS4yNiIsInFzcCI6IjQuMDUifQ%3D%3D&sprefix=guitar%2Caps%2C232&sr=8-100',\n",
       " 'https://www.amazon.in/Fender-String-Beginner-Acoustic-Guitar/dp/B07BCN6FFH/ref=sr_1_101?crid=I39PRCWBW9LF&keywords=Guitar&qid=1669014756&qu=eyJxc2MiOiI1Ljc4IiwicXNhIjoiNS4yNiIsInFzcCI6IjQuMDUifQ%3D%3D&sprefix=guitar%2Caps%2C232&sr=8-101',\n",
       " 'https://www.amazon.in/Standzo-Yamaha-F280-Acoustic-Natural/dp/B08G556DD9/ref=sr_1_102?crid=I39PRCWBW9LF&keywords=Guitar&qid=1669014756&qu=eyJxc2MiOiI1Ljc4IiwicXNhIjoiNS4yNiIsInFzcCI6IjQuMDUifQ%3D%3D&sprefix=guitar%2Caps%2C232&sr=8-102',\n",
       " 'https://www.amazon.in/JUAREZ-Arpeggio-Guitar-JRA39SR-BL-K-blue/dp/B08MWB5Y67/ref=sr_1_103?crid=I39PRCWBW9LF&keywords=Guitar&qid=1669014756&qu=eyJxc2MiOiI1Ljc4IiwicXNhIjoiNS4yNiIsInFzcCI6IjQuMDUifQ%3D%3D&sprefix=guitar%2Caps%2C232&sr=8-103',\n",
       " 'https://www.amazon.in/Acoustic-strings-plectrums-stability-age-groups/dp/B09YHC3LX6/ref=sr_1_104?crid=I39PRCWBW9LF&keywords=Guitar&qid=1669014756&qu=eyJxc2MiOiI1Ljc4IiwicXNhIjoiNS4yNiIsInFzcCI6IjQuMDUifQ%3D%3D&sprefix=guitar%2Caps%2C232&sr=8-104',\n",
       " 'https://www.amazon.in/Fender-Squier-Stratocaster-Electric-Guitar/dp/B07T2R7PGY/ref=sr_1_105?crid=I39PRCWBW9LF&keywords=Guitar&qid=1669014756&qu=eyJxc2MiOiI1Ljc4IiwicXNhIjoiNS4yNiIsInFzcCI6IjQuMDUifQ%3D%3D&sprefix=guitar%2Caps%2C232&sr=8-105',\n",
       " 'https://www.amazon.in/Kadence-Chronicle-Electric-Guitar-Control/dp/B071CVY9MZ/ref=sr_1_106?crid=I39PRCWBW9LF&keywords=Guitar&qid=1669014756&qu=eyJxc2MiOiI1Ljc4IiwicXNhIjoiNS4yNiIsInFzcCI6IjQuMDUifQ%3D%3D&sprefix=guitar%2Caps%2C232&sr=8-106',\n",
       " 'https://www.amazon.in/sspa/click?ie=UTF8&spc=MTo0NzgxOTU0NDMzMjM5Mjg3OjE2NjkwMTQ3NTY6c3BfbXRmOjIwMDgyNzgwODE1Mjk4OjowOjo&url=%2FDEVICE-URBAN-INFOTECH-Chromatic-Capotastos%2Fdp%2FB0BGBGDW1W%2Fref%3Dsr_1_107_sspa%3Fcrid%3DI39PRCWBW9LF%26keywords%3DGuitar%26qid%3D1669014756%26qu%3DeyJxc2MiOiI1Ljc4IiwicXNhIjoiNS4yNiIsInFzcCI6IjQuMDUifQ%253D%253D%26sprefix%3Dguitar%252Caps%252C232%26sr%3D8-107-spons%26sp_csd%3Dd2lkZ2V0TmFtZT1zcF9tdGY%26psc%3D1',\n",
       " 'https://www.amazon.in/sspa/click?ie=UTF8&spc=MTo0NzgxOTU0NDMzMjM5Mjg3OjE2NjkwMTQ3NTY6c3BfbXRmOjIwMDc3ODY4NTg3Nzk4OjowOjo&url=%2FRight-Search-%25C2%25AEMusical-Guitar-Set_GD2%2Fdp%2FB09PYFV844%2Fref%3Dsr_1_108_sspa%3Fcrid%3DI39PRCWBW9LF%26keywords%3DGuitar%26qid%3D1669014756%26qu%3DeyJxc2MiOiI1Ljc4IiwicXNhIjoiNS4yNiIsInFzcCI6IjQuMDUifQ%253D%253D%26sprefix%3Dguitar%252Caps%252C232%26sr%3D8-108-spons%26sp_csd%3Dd2lkZ2V0TmFtZT1zcF9tdGY%26psc%3D1',\n",
       " 'https://www.amazon.in/sspa/click?ie=UTF8&spc=MTo0NzgxOTU0NDMzMjM5Mjg3OjE2NjkwMTQ3NTY6c3BfbXRmOjIwMDI1ODkwMzAzOTk4OjowOjo&url=%2FGibzs-38-C-Acoustic-Guitar-Natural%2Fdp%2FB07M8KBTX8%2Fref%3Dsr_1_109_sspa%3Fcrid%3DI39PRCWBW9LF%26keywords%3DGuitar%26qid%3D1669014756%26qu%3DeyJxc2MiOiI1Ljc4IiwicXNhIjoiNS4yNiIsInFzcCI6IjQuMDUifQ%253D%253D%26sprefix%3Dguitar%252Caps%252C232%26sr%3D8-109-spons%26sp_csd%3Dd2lkZ2V0TmFtZT1zcF9tdGY%26psc%3D1',\n",
       " 'https://www.amazon.in/sspa/click?ie=UTF8&spc=MTo0NzgxOTU0NDMzMjM5Mjg3OjE2NjkwMTQ3NTY6c3BfbXRmOjIwMDQ5NTY4MDQ4OTk4OjowOjo&url=%2FGibzs-38-C-Acoustic-Guitar-Black%2Fdp%2FB07LH8P4XK%2Fref%3Dsr_1_110_sspa%3Fcrid%3DI39PRCWBW9LF%26keywords%3DGuitar%26qid%3D1669014756%26qu%3DeyJxc2MiOiI1Ljc4IiwicXNhIjoiNS4yNiIsInFzcCI6IjQuMDUifQ%253D%253D%26sprefix%3Dguitar%252Caps%252C232%26sr%3D8-110-spons%26sp_csd%3Dd2lkZ2V0TmFtZT1zcF9tdGY%26psc%3D1',\n",
       " 'https://www.amazon.in/Martin-Smith-W-101-BK-PK-Acoustic-Guitar/dp/B019MY0YE6/ref=sr_1_111?crid=I39PRCWBW9LF&keywords=Guitar&qid=1669014756&qu=eyJxc2MiOiI1Ljc4IiwicXNhIjoiNS4yNiIsInFzcCI6IjQuMDUifQ%3D%3D&sprefix=guitar%2Caps%2C232&sr=8-111',\n",
       " 'https://www.amazon.in/Yamaha-6-String-Acoustic-Right-Handed-Sunburst/dp/B000WITGQO/ref=sr_1_112?crid=I39PRCWBW9LF&keywords=Guitar&qid=1669014756&qu=eyJxc2MiOiI1Ljc4IiwicXNhIjoiNS4yNiIsInFzcCI6IjQuMDUifQ%3D%3D&sprefix=guitar%2Caps%2C232&sr=8-112',\n",
       " 'https://www.amazon.in/Ibanez-GSA-60-Electric-Right-Handed/dp/B0016MQEJW/ref=sr_1_113?crid=I39PRCWBW9LF&keywords=Guitar&qid=1669014756&qu=eyJxc2MiOiI1Ljc4IiwicXNhIjoiNS4yNiIsInFzcCI6IjQuMDUifQ%3D%3D&sprefix=guitar%2Caps%2C232&sr=8-113',\n",
       " 'https://www.amazon.in/Belear-Spruce-Cutaway-Acoustic-Guitar/dp/B0BJBRVTJB/ref=sr_1_114?crid=I39PRCWBW9LF&keywords=Guitar&qid=1669014756&qu=eyJxc2MiOiI1Ljc4IiwicXNhIjoiNS4yNiIsInFzcCI6IjQuMDUifQ%3D%3D&sprefix=guitar%2Caps%2C232&sr=8-114',\n",
       " 'https://www.amazon.in/Yamaha-Classical-Guitar-C40-02/dp/B003UGCUFE/ref=sr_1_115?crid=I39PRCWBW9LF&keywords=Guitar&qid=1669014756&qu=eyJxc2MiOiI1Ljc4IiwicXNhIjoiNS4yNiIsInFzcCI6IjQuMDUifQ%3D%3D&sprefix=guitar%2Caps%2C232&sr=8-115',\n",
       " 'https://www.amazon.in/Junior-Acoustic-Guitar-Strings-Polishing/dp/B07RMJ88G2/ref=sr_1_116?crid=I39PRCWBW9LF&keywords=Guitar&qid=1669014756&qu=eyJxc2MiOiI1Ljc4IiwicXNhIjoiNS4yNiIsInFzcCI6IjQuMDUifQ%3D%3D&sprefix=guitar%2Caps%2C232&sr=8-116',\n",
       " 'https://www.amazon.in/Acoustic-Humidity-resistant-resonance-Plectrums/dp/B09RQZG25Q/ref=sr_1_117?crid=I39PRCWBW9LF&keywords=Guitar&qid=1669014756&qu=eyJxc2MiOiI1Ljc4IiwicXNhIjoiNS4yNiIsInFzcCI6IjQuMDUifQ%3D%3D&sprefix=guitar%2Caps%2C232&sr=8-117',\n",
       " 'https://www.amazon.in/BigPlayer-Electric-Paulownia-Wood-fingergoard/dp/B08KK3RSX9/ref=sr_1_118?crid=I39PRCWBW9LF&keywords=Guitar&qid=1669014756&qu=eyJxc2MiOiI1Ljc4IiwicXNhIjoiNS4yNiIsInFzcCI6IjQuMDUifQ%3D%3D&sprefix=guitar%2Caps%2C232&sr=8-118',\n",
       " 'https://www.amazon.in/JUAREZ-Arpeggio-Acoustic-Rosewood-Fretboard/dp/B08LBHN8ZR/ref=sr_1_119?crid=I39PRCWBW9LF&keywords=Guitar&qid=1669014756&qu=eyJxc2MiOiI1Ljc4IiwicXNhIjoiNS4yNiIsInFzcCI6IjQuMDUifQ%3D%3D&sprefix=guitar%2Caps%2C232&sr=8-119',\n",
       " 'https://www.amazon.in/Electric-Acoustic-FX280-Dreadnought-Plectrums-Natural/dp/B09HSDVQDT/ref=sr_1_120?crid=I39PRCWBW9LF&keywords=Guitar&qid=1669014756&qu=eyJxc2MiOiI1Ljc4IiwicXNhIjoiNS4yNiIsInFzcCI6IjQuMDUifQ%3D%3D&sprefix=guitar%2Caps%2C232&sr=8-120',\n",
       " 'https://www.amazon.in/Strings-Straps-String-winder-Polishing/dp/B07RV9FJ2Z/ref=sr_1_121?crid=I39PRCWBW9LF&keywords=Guitar&qid=1669014756&qu=eyJxc2MiOiI1Ljc4IiwicXNhIjoiNS4yNiIsInFzcCI6IjQuMDUifQ%3D%3D&sprefix=guitar%2Caps%2C232&sr=8-121',\n",
       " 'https://www.amazon.in/Soloist-Premium-Electric-Guitar-Transparent/dp/B09GLYLQ5X/ref=sr_1_122?crid=I39PRCWBW9LF&keywords=Guitar&qid=1669014756&qu=eyJxc2MiOiI1Ljc4IiwicXNhIjoiNS4yNiIsInFzcCI6IjQuMDUifQ%3D%3D&sprefix=guitar%2Caps%2C232&sr=8-122',\n",
       " 'https://www.amazon.in/Fashion-4-String-Musical-Instrument-Learning/dp/B0BFF1T9QK/ref=sr_1_123?crid=I39PRCWBW9LF&keywords=Guitar&qid=1669014756&qu=eyJxc2MiOiI1Ljc4IiwicXNhIjoiNS4yNiIsInFzcCI6IjQuMDUifQ%3D%3D&sprefix=guitar%2Caps%2C232&sr=8-123',\n",
       " 'https://www.amazon.in/Fender-60S-Dreadnought-Acoustic-Guitar/dp/B01MRA2W8L/ref=sr_1_124?crid=I39PRCWBW9LF&keywords=Guitar&qid=1669014756&qu=eyJxc2MiOiI1Ljc4IiwicXNhIjoiNS4yNiIsInFzcCI6IjQuMDUifQ%3D%3D&sprefix=guitar%2Caps%2C232&sr=8-124',\n",
       " 'https://www.amazon.in/Cort-GA-MEDX-Electro-Acoustic-Guitar/dp/B09Y3FVX6Y/ref=sr_1_125?crid=I39PRCWBW9LF&keywords=Guitar&qid=1669014756&qu=eyJxc2MiOiI1Ljc4IiwicXNhIjoiNS4yNiIsInFzcCI6IjQuMDUifQ%3D%3D&sprefix=guitar%2Caps%2C232&sr=8-125',\n",
       " 'https://www.amazon.in/Vault-Cutaway-acoustic-Guitar-Natural/dp/B08WHGGSH9/ref=sr_1_126?crid=I39PRCWBW9LF&keywords=Guitar&qid=1669014756&qu=eyJxc2MiOiI1Ljc4IiwicXNhIjoiNS4yNiIsInFzcCI6IjQuMDUifQ%3D%3D&sprefix=guitar%2Caps%2C232&sr=8-126',\n",
       " 'https://www.amazon.in/Belear-I-280-WBL-Couturier-Cutaway-Acoustic/dp/B0BC9NHF4S/ref=sr_1_127?crid=I39PRCWBW9LF&keywords=Guitar&qid=1669014756&qu=eyJxc2MiOiI1Ljc4IiwicXNhIjoiNS4yNiIsInFzcCI6IjQuMDUifQ%3D%3D&sprefix=guitar%2Caps%2C232&sr=8-127',\n",
       " 'https://www.amazon.in/DEVICE-URBAN-INFOTECH-Chromatic-Capotastos/dp/B0BGBGDW1W/ref=sr_1_128?crid=I39PRCWBW9LF&keywords=Guitar&qid=1669014756&qu=eyJxc2MiOiI1Ljc4IiwicXNhIjoiNS4yNiIsInFzcCI6IjQuMDUifQ%3D%3D&sprefix=guitar%2Caps%2C232&sr=8-128',\n",
       " 'https://www.amazon.in/JUAREZ-Arpeggio-Acoustic-Rosewood-Fretboard/dp/B08LBDDPGQ/ref=sr_1_129?crid=I39PRCWBW9LF&keywords=Guitar&qid=1669014756&qu=eyJxc2MiOiI1Ljc4IiwicXNhIjoiNS4yNiIsInFzcCI6IjQuMDUifQ%3D%3D&sprefix=guitar%2Caps%2C232&sr=8-129',\n",
       " 'https://www.amazon.in/Nema-Guitar-Tuner-Holder-Picks/dp/B07ZWZXFJS/ref=sr_1_130?crid=I39PRCWBW9LF&keywords=Guitar&qid=1669014756&qu=eyJxc2MiOiI1Ljc4IiwicXNhIjoiNS4yNiIsInFzcCI6IjQuMDUifQ%3D%3D&sprefix=guitar%2Caps%2C232&sr=8-130',\n",
       " 'https://www.amazon.in/Carlton-Rosewood-Fretboard-Acoustic-K-Retail/dp/B07KK8P9VB/ref=sr_1_131?crid=I39PRCWBW9LF&keywords=Guitar&qid=1669014756&qu=eyJxc2MiOiI1Ljc4IiwicXNhIjoiNS4yNiIsInFzcCI6IjQuMDUifQ%3D%3D&sprefix=guitar%2Caps%2C232&sr=8-131',\n",
       " 'https://www.amazon.in/Zabel-Acoustic-Guitar-Inches-Strings/dp/B078684VLN/ref=sr_1_132?crid=I39PRCWBW9LF&keywords=Guitar&qid=1669014756&qu=eyJxc2MiOiI1Ljc4IiwicXNhIjoiNS4yNiIsInFzcCI6IjQuMDUifQ%3D%3D&sprefix=guitar%2Caps%2C232&sr=8-132',\n",
       " 'https://www.amazon.in/YAMAHA-FS80C-CONCERT-CUTAWAY-GUITAR/dp/B08WBBVMVJ/ref=sr_1_133?crid=I39PRCWBW9LF&keywords=Guitar&qid=1669014756&qu=eyJxc2MiOiI1Ljc4IiwicXNhIjoiNS4yNiIsInFzcCI6IjQuMDUifQ%3D%3D&sprefix=guitar%2Caps%2C232&sr=8-133',\n",
       " 'https://www.amazon.in/Kadence-Frontier-Acoustic-Guitar-Equalizer/dp/B01HRIHJWY/ref=sr_1_134?crid=I39PRCWBW9LF&keywords=Guitar&qid=1669014756&qu=eyJxc2MiOiI1Ljc4IiwicXNhIjoiNS4yNiIsInFzcCI6IjQuMDUifQ%3D%3D&sprefix=guitar%2Caps%2C232&sr=8-134',\n",
       " 'https://www.amazon.in/Acoustic-Humidity-resistance-resonance-Plectrums/dp/B09RR1SG7X/ref=sr_1_135?crid=I39PRCWBW9LF&keywords=Guitar&qid=1669014756&qu=eyJxc2MiOiI1Ljc4IiwicXNhIjoiNS4yNiIsInFzcCI6IjQuMDUifQ%3D%3D&sprefix=guitar%2Caps%2C232&sr=8-135',\n",
       " 'https://www.amazon.in/FS80C-Acoustic-Cutaway-Concert-Plectrums/dp/B09HSHGD3B/ref=sr_1_136?crid=I39PRCWBW9LF&keywords=Guitar&qid=1669014756&qu=eyJxc2MiOiI1Ljc4IiwicXNhIjoiNS4yNiIsInFzcCI6IjQuMDUifQ%3D%3D&sprefix=guitar%2Caps%2C232&sr=8-136',\n",
       " 'https://www.amazon.in/Ibanez-PF15-BK-Acoustic-Guitar/dp/B00Y9OXOUQ/ref=sr_1_137?crid=I39PRCWBW9LF&keywords=Guitar&qid=1669014756&qu=eyJxc2MiOiI1Ljc4IiwicXNhIjoiNS4yNiIsInFzcCI6IjQuMDUifQ%3D%3D&sprefix=guitar%2Caps%2C232&sr=8-137',\n",
       " 'https://www.amazon.in/PRS-Guitars-Acoustic-AXM20EGB-NA/dp/B09K5NMD7V/ref=sr_1_138?crid=I39PRCWBW9LF&keywords=Guitar&qid=1669014756&qu=eyJxc2MiOiI1Ljc4IiwicXNhIjoiNS4yNiIsInFzcCI6IjQuMDUifQ%3D%3D&sprefix=guitar%2Caps%2C232&sr=8-138',\n",
       " 'https://www.amazon.in/Mustang-Strings-Changing-Including-Beginner/dp/B07S19LGLR/ref=sr_1_139?crid=I39PRCWBW9LF&keywords=Guitar&qid=1669014756&qu=eyJxc2MiOiI1Ljc4IiwicXNhIjoiNS4yNiIsInFzcCI6IjQuMDUifQ%3D%3D&sprefix=guitar%2Caps%2C232&sr=8-139',\n",
       " 'https://www.amazon.in/Orangewood-String-Acoustic-Electric-Guitar-OW-MORGAN-M/dp/B07BNFG3CF/ref=sr_1_140?crid=I39PRCWBW9LF&keywords=Guitar&qid=1669014756&qu=eyJxc2MiOiI1Ljc4IiwicXNhIjoiNS4yNiIsInFzcCI6IjQuMDUifQ%3D%3D&sprefix=guitar%2Caps%2C232&sr=8-140',\n",
       " 'https://www.amazon.in/Cort-SFX-MEM-Electro-Acoustic-Guitar/dp/B0915ZCZWK/ref=sr_1_141?crid=I39PRCWBW9LF&keywords=Guitar&qid=1669014756&qu=eyJxc2MiOiI1Ljc4IiwicXNhIjoiNS4yNiIsInFzcCI6IjQuMDUifQ%3D%3D&sprefix=guitar%2Caps%2C232&sr=8-141',\n",
       " 'https://www.amazon.in/Intern-INT-38C-Natural-Acoustic-Guitar/dp/B07X4LPJ6H/ref=sr_1_142?crid=I39PRCWBW9LF&keywords=Guitar&qid=1669014756&qu=eyJxc2MiOiI1Ljc4IiwicXNhIjoiNS4yNiIsInFzcCI6IjQuMDUifQ%3D%3D&sprefix=guitar%2Caps%2C232&sr=8-142',\n",
       " 'https://www.amazon.in/sspa/click?ie=UTF8&spc=MTo0NzgxOTU0NDMzMjM5Mjg3OjE2NjkwMTQ3NTY6c3BfYnRmOjIwMDgyNDA1OTY2Nzk4OjowOjo&url=%2FSG-Musical-Acoustic-Trigger-Electric%2Fdp%2FB0BGZJKVZ1%2Fref%3Dsr_1_143_sspa%3Fcrid%3DI39PRCWBW9LF%26keywords%3DGuitar%26qid%3D1669014756%26qu%3DeyJxc2MiOiI1Ljc4IiwicXNhIjoiNS4yNiIsInFzcCI6IjQuMDUifQ%253D%253D%26sprefix%3Dguitar%252Caps%252C232%26sr%3D8-143-spons%26sp_csd%3Dd2lkZ2V0TmFtZT1zcF9idGY%26psc%3D1',\n",
       " 'https://www.amazon.in/sspa/click?ie=UTF8&spc=MTo0NzgxOTU0NDMzMjM5Mjg3OjE2NjkwMTQ3NTY6c3BfYnRmOjIwMDgyNDA1OTY2MTk4OjowOjo&url=%2FSG-Musical-Acoustic-Trigger-Electric%2Fdp%2FB0BGZJRT8M%2Fref%3Dsr_1_144_sspa%3Fcrid%3DI39PRCWBW9LF%26keywords%3DGuitar%26qid%3D1669014756%26qu%3DeyJxc2MiOiI1Ljc4IiwicXNhIjoiNS4yNiIsInFzcCI6IjQuMDUifQ%253D%253D%26sprefix%3Dguitar%252Caps%252C232%26sr%3D8-144-spons%26sp_csd%3Dd2lkZ2V0TmFtZT1zcF9idGY%26psc%3D1',\n",
       " 'https://www.amazon.in/sspa/click?ie=UTF8&spc=MTo0NzgxOTU0NDMzMjM5Mjg3OjE2NjkwMTQ3NTY6c3BfYnRmOjIwMDg2MzMyMTYyOTAxOjowOjo&url=%2FUniversal-Acoustic-Classical-Mandolins-Instruments%2Fdp%2FB08XBRNC7T%2Fref%3Dsr_1_145_sspa%3Fcrid%3DI39PRCWBW9LF%26keywords%3DGuitar%26qid%3D1669014756%26qu%3DeyJxc2MiOiI1Ljc4IiwicXNhIjoiNS4yNiIsInFzcCI6IjQuMDUifQ%253D%253D%26sprefix%3Dguitar%252Caps%252C232%26sr%3D8-145-spons%26sp_csd%3Dd2lkZ2V0TmFtZT1zcF9idGY%26psc%3D1',\n",
       " 'https://www.amazon.in/sspa/click?ie=UTF8&spc=MTo0NzgxOTU0NDMzMjM5Mjg3OjE2NjkwMTQ3NTY6c3BfYnRmOjIwMDgyNDA1OTY3MDk4OjowOjo&url=%2FSG-Musical-Store-Guitar-Picks%2Fdp%2FB0BGZG39LH%2Fref%3Dsr_1_146_sspa%3Fcrid%3DI39PRCWBW9LF%26keywords%3DGuitar%26qid%3D1669014756%26qu%3DeyJxc2MiOiI1Ljc4IiwicXNhIjoiNS4yNiIsInFzcCI6IjQuMDUifQ%253D%253D%26sprefix%3Dguitar%252Caps%252C232%26sr%3D8-146-spons%26sp_csd%3Dd2lkZ2V0TmFtZT1zcF9idGY%26psc%3D1']"
      ]
     },
     "execution_count": 56,
     "metadata": {},
     "output_type": "execute_result"
    }
   ],
   "source": [
    "URL"
   ]
  },
  {
   "cell_type": "code",
   "execution_count": 48,
   "id": "80560b3b",
   "metadata": {},
   "outputs": [],
   "source": [
    "# Make Empty list to scrap data\n",
    "Brand =[]\n",
    "Product = []\n",
    "Price =[]\n",
    "Return =[]\n",
    "Excepted_delivery =[]\n",
    "Availability =[]"
   ]
  },
  {
   "cell_type": "code",
   "execution_count": 58,
   "id": "1bc23079",
   "metadata": {},
   "outputs": [],
   "source": [
    "for i in URL:\n",
    "    driver.get(i)\n",
    "    time.sleep(1)\n",
    "    \n",
    "     # Extracting Brand Name via Xpath\n",
    "    try:\n",
    "        brand=driver.find_element(By.XPATH,'//a[@id=\"bylineInfo\"]')\n",
    "        Brand.append(brand.text) \n",
    "    except NoSuchElementException:\n",
    "        Brand.append('-')\n",
    "        \n",
    "    time.sleep(1)\n",
    "    \n",
    "    # Extracting product name via Xpath\n",
    "    try:\n",
    "        product =driver.find_element(By.XPATH,'//span[@class=\"a-size-large product-title-word-break\"]')\n",
    "        Product.append(product.text)\n",
    "    except NoSuchElementException:\n",
    "        Product.append('-')\n",
    "    time.sleep(1)\n",
    "      \n",
    "    # Extracting Price via Xpath\n",
    "    try:\n",
    "        price=driver.find_element(By.XPATH,'//span[@class=\"a-price-whole\"]')\n",
    "        Price.append(price.text)\n",
    "    except NoSuchElementException:\n",
    "        Price.append('-')\n",
    "    time.sleep(1)\n",
    "        \n",
    "    # Extracting Return or exchange detail via Xpath\n",
    "    try:\n",
    "        replacement=driver.find_element(By.XPATH,'//a[@class=\"a-size-small a-link-normal a-text-normal\"]')\n",
    "        Return.append(replacement.text)\n",
    "    except NoSuchElementException:\n",
    "        Return.append('-')\n",
    "    time.sleep(1)\n",
    "    \n",
    "    # Extracting Expected Delivery via Xpath\n",
    "    try:\n",
    "        delivery=driver.find_element(By.XPATH,'//span[@class=\"a-text-bold\"]')\n",
    "        Excepted_delivery.append(delivery.text)\n",
    "    except NoSuchElementException:\n",
    "        Excepted_delivery.append('-')\n",
    "    time.sleep(1)\n",
    "    \n",
    "    # Extracting Availability via Xath\n",
    "    try:\n",
    "        availability=driver.find_element(By.XPATH,'//span[@class=\"a-size-base a-color-success\"]')\n",
    "        Availability.append(availability.text)\n",
    "    except NoSuchElementException:\n",
    "        Availability.append('-')\n",
    "    time.sleep(1)  "
   ]
  },
  {
   "cell_type": "markdown",
   "id": "9e4594ab",
   "metadata": {},
   "source": [
    "Availability = []\n",
    "for i in URL:\n",
    "    driver.get(i)\n",
    "    time.sleep(1)\n",
    "    \n",
    "    # Extracting Availability via Xath\n",
    "    try:\n",
    "        availability=driver.find_element(By.XPATH,'//span[@class=\"a-size-base a-color-success\"]')\n",
    "        Availability.append(availability.text)\n",
    "    except NoSuchElementException:\n",
    "        Availability.append('-')\n",
    "    time.sleep(1)  "
   ]
  },
  {
   "cell_type": "code",
   "execution_count": 61,
   "id": "3ee29395",
   "metadata": {},
   "outputs": [
    {
     "data": {
      "text/html": [
       "<div>\n",
       "<style scoped>\n",
       "    .dataframe tbody tr th:only-of-type {\n",
       "        vertical-align: middle;\n",
       "    }\n",
       "\n",
       "    .dataframe tbody tr th {\n",
       "        vertical-align: top;\n",
       "    }\n",
       "\n",
       "    .dataframe thead th {\n",
       "        text-align: right;\n",
       "    }\n",
       "</style>\n",
       "<table border=\"1\" class=\"dataframe\">\n",
       "  <thead>\n",
       "    <tr style=\"text-align: right;\">\n",
       "      <th></th>\n",
       "      <th>Brand</th>\n",
       "      <th>Product</th>\n",
       "      <th>Price</th>\n",
       "      <th>Return/Exchange</th>\n",
       "      <th>Expected Delivery</th>\n",
       "      <th>Availability</th>\n",
       "      <th>URL</th>\n",
       "    </tr>\n",
       "  </thead>\n",
       "  <tbody>\n",
       "    <tr>\n",
       "      <th>0</th>\n",
       "      <td>Visit the Kadence Store</td>\n",
       "      <td>Kadence Slowhand Premium Jumbo Semi Acoustic G...</td>\n",
       "      <td></td>\n",
       "      <td>Pay on Delivery</td>\n",
       "      <td>Sunday, 27 November</td>\n",
       "      <td></td>\n",
       "      <td>https://www.amazon.in/sspa/click?ie=UTF8&amp;spc=M...</td>\n",
       "    </tr>\n",
       "    <tr>\n",
       "      <th>1</th>\n",
       "      <td>Visit the FESTRA Store</td>\n",
       "      <td>Festra R-40- Trussrod Acoustic Guitar Kit with...</td>\n",
       "      <td>4,495</td>\n",
       "      <td>Pay on Delivery</td>\n",
       "      <td>Saturday, 26 November</td>\n",
       "      <td>In stock</td>\n",
       "      <td>https://www.amazon.in/sspa/click?ie=UTF8&amp;spc=M...</td>\n",
       "    </tr>\n",
       "    <tr>\n",
       "      <th>2</th>\n",
       "      <td>Brand: Hontral</td>\n",
       "      <td>Hontral S4 String Decor Guitar Children's Musi...</td>\n",
       "      <td>899</td>\n",
       "      <td>7 Days Replacement</td>\n",
       "      <td>Friday, 25 November</td>\n",
       "      <td>In stock</td>\n",
       "      <td>https://www.amazon.in/sspa/click?ie=UTF8&amp;spc=M...</td>\n",
       "    </tr>\n",
       "    <tr>\n",
       "      <th>3</th>\n",
       "      <td>Visit the VAULT Store</td>\n",
       "      <td>Vault DA40 41 Inch Premium Solid Spruce-Top Dr...</td>\n",
       "      <td>6,930</td>\n",
       "      <td>Pay on Delivery</td>\n",
       "      <td>Thursday, 24 November</td>\n",
       "      <td>In stock</td>\n",
       "      <td>https://www.amazon.in/sspa/click?ie=UTF8&amp;spc=M...</td>\n",
       "    </tr>\n",
       "    <tr>\n",
       "      <th>4</th>\n",
       "      <td>Visit the JUAREZ Store</td>\n",
       "      <td>Juârez Acoustic Guitar, 38 Inch Cutaway, 038C ...</td>\n",
       "      <td></td>\n",
       "      <td>Pay on Delivery</td>\n",
       "      <td>Thursday, 24 November</td>\n",
       "      <td>In stock</td>\n",
       "      <td>https://www.amazon.in/Juarez-Acoustic-Cutaway-...</td>\n",
       "    </tr>\n",
       "    <tr>\n",
       "      <th>...</th>\n",
       "      <td>...</td>\n",
       "      <td>...</td>\n",
       "      <td>...</td>\n",
       "      <td>...</td>\n",
       "      <td>...</td>\n",
       "      <td>...</td>\n",
       "      <td>...</td>\n",
       "    </tr>\n",
       "    <tr>\n",
       "      <th>187</th>\n",
       "      <td>Visit the Intern Store</td>\n",
       "      <td>Intern INT-38C Natural Linden Wood Acoustic Gu...</td>\n",
       "      <td>2,099</td>\n",
       "      <td>Pay on Delivery</td>\n",
       "      <td>Thursday, 24 November</td>\n",
       "      <td>In stock</td>\n",
       "      <td>https://www.amazon.in/Intern-INT-38C-Natural-A...</td>\n",
       "    </tr>\n",
       "    <tr>\n",
       "      <th>188</th>\n",
       "      <td>Visit the SG Musical Store</td>\n",
       "      <td>SG Musical - Store - Capo, Quick Change Capo F...</td>\n",
       "      <td>249</td>\n",
       "      <td>7 Days Replacement</td>\n",
       "      <td>Sunday, 27 November</td>\n",
       "      <td>In stock</td>\n",
       "      <td>https://www.amazon.in/sspa/click?ie=UTF8&amp;spc=M...</td>\n",
       "    </tr>\n",
       "    <tr>\n",
       "      <th>189</th>\n",
       "      <td>Visit the SG Musical Store</td>\n",
       "      <td>SG Musical - Silver - - Capo For Acoustic Guit...</td>\n",
       "      <td>249</td>\n",
       "      <td>7 Days Replacement</td>\n",
       "      <td>Sunday, 27 November</td>\n",
       "      <td>In stock</td>\n",
       "      <td>https://www.amazon.in/sspa/click?ie=UTF8&amp;spc=M...</td>\n",
       "    </tr>\n",
       "    <tr>\n",
       "      <th>190</th>\n",
       "      <td>Visit the MUSTANG Store</td>\n",
       "      <td>Pack of 2 Universal Guitar Stand by Hola! Musi...</td>\n",
       "      <td>999</td>\n",
       "      <td>7 Days Replacement</td>\n",
       "      <td>Friday, 25 November</td>\n",
       "      <td>In stock</td>\n",
       "      <td>https://www.amazon.in/sspa/click?ie=UTF8&amp;spc=M...</td>\n",
       "    </tr>\n",
       "    <tr>\n",
       "      <th>191</th>\n",
       "      <td>Visit the SG Musical Store</td>\n",
       "      <td>SG Musical - Store - Capo And 10 Guitar Picks ...</td>\n",
       "      <td>277</td>\n",
       "      <td>7 Days Replacement</td>\n",
       "      <td>Sunday, 27 November</td>\n",
       "      <td>In stock</td>\n",
       "      <td>https://www.amazon.in/sspa/click?ie=UTF8&amp;spc=M...</td>\n",
       "    </tr>\n",
       "  </tbody>\n",
       "</table>\n",
       "<p>192 rows × 7 columns</p>\n",
       "</div>"
      ],
      "text/plain": [
       "                          Brand  \\\n",
       "0       Visit the Kadence Store   \n",
       "1        Visit the FESTRA Store   \n",
       "2                Brand: Hontral   \n",
       "3         Visit the VAULT Store   \n",
       "4        Visit the JUAREZ Store   \n",
       "..                          ...   \n",
       "187      Visit the Intern Store   \n",
       "188  Visit the SG Musical Store   \n",
       "189  Visit the SG Musical Store   \n",
       "190     Visit the MUSTANG Store   \n",
       "191  Visit the SG Musical Store   \n",
       "\n",
       "                                               Product  Price  \\\n",
       "0    Kadence Slowhand Premium Jumbo Semi Acoustic G...          \n",
       "1    Festra R-40- Trussrod Acoustic Guitar Kit with...  4,495   \n",
       "2    Hontral S4 String Decor Guitar Children's Musi...    899   \n",
       "3    Vault DA40 41 Inch Premium Solid Spruce-Top Dr...  6,930   \n",
       "4    Juârez Acoustic Guitar, 38 Inch Cutaway, 038C ...          \n",
       "..                                                 ...    ...   \n",
       "187  Intern INT-38C Natural Linden Wood Acoustic Gu...  2,099   \n",
       "188  SG Musical - Store - Capo, Quick Change Capo F...    249   \n",
       "189  SG Musical - Silver - - Capo For Acoustic Guit...    249   \n",
       "190  Pack of 2 Universal Guitar Stand by Hola! Musi...    999   \n",
       "191  SG Musical - Store - Capo And 10 Guitar Picks ...    277   \n",
       "\n",
       "        Return/Exchange      Expected Delivery Availability  \\\n",
       "0       Pay on Delivery    Sunday, 27 November                \n",
       "1       Pay on Delivery  Saturday, 26 November     In stock   \n",
       "2    7 Days Replacement    Friday, 25 November     In stock   \n",
       "3       Pay on Delivery  Thursday, 24 November     In stock   \n",
       "4       Pay on Delivery  Thursday, 24 November     In stock   \n",
       "..                  ...                    ...          ...   \n",
       "187     Pay on Delivery  Thursday, 24 November     In stock   \n",
       "188  7 Days Replacement    Sunday, 27 November     In stock   \n",
       "189  7 Days Replacement    Sunday, 27 November     In stock   \n",
       "190  7 Days Replacement    Friday, 25 November     In stock   \n",
       "191  7 Days Replacement    Sunday, 27 November     In stock   \n",
       "\n",
       "                                                   URL  \n",
       "0    https://www.amazon.in/sspa/click?ie=UTF8&spc=M...  \n",
       "1    https://www.amazon.in/sspa/click?ie=UTF8&spc=M...  \n",
       "2    https://www.amazon.in/sspa/click?ie=UTF8&spc=M...  \n",
       "3    https://www.amazon.in/sspa/click?ie=UTF8&spc=M...  \n",
       "4    https://www.amazon.in/Juarez-Acoustic-Cutaway-...  \n",
       "..                                                 ...  \n",
       "187  https://www.amazon.in/Intern-INT-38C-Natural-A...  \n",
       "188  https://www.amazon.in/sspa/click?ie=UTF8&spc=M...  \n",
       "189  https://www.amazon.in/sspa/click?ie=UTF8&spc=M...  \n",
       "190  https://www.amazon.in/sspa/click?ie=UTF8&spc=M...  \n",
       "191  https://www.amazon.in/sspa/click?ie=UTF8&spc=M...  \n",
       "\n",
       "[192 rows x 7 columns]"
      ]
     },
     "execution_count": 61,
     "metadata": {},
     "output_type": "execute_result"
    }
   ],
   "source": [
    "Guitar=pd.DataFrame({'Brand':Brand,'Product':Product,'Price':Price,'Return/Exchange':Return,\n",
    "                     'Expected Delivery':Excepted_delivery,'Availability':Availability,'URL':URL})\n",
    "\n",
    "Guitar"
   ]
  },
  {
   "cell_type": "code",
   "execution_count": 62,
   "id": "3baf05e1",
   "metadata": {},
   "outputs": [],
   "source": [
    "Guitar_csv = Guitar.to_csv"
   ]
  },
  {
   "cell_type": "markdown",
   "id": "0124df81",
   "metadata": {},
   "source": [
    "Q3) Write a python program to access the search bar and search button on images.google.com and scrape 10\n",
    "images each for keywords ‘fruits’, ‘cars’ and ‘Machine Learning’, ‘Guitar’, ‘Cakes’."
   ]
  },
  {
   "cell_type": "code",
   "execution_count": 35,
   "id": "2126a4b3",
   "metadata": {},
   "outputs": [],
   "source": [
    "driver=webdriver.Chrome(r'C:\\Users\\Admin\\Chrome webdriver\\chromedriver_win32\\chromedriver.exe')       # Connecting to webdriver\n",
    "\n",
    "driver.maximize_window()           #Let's maximize the automated window\n",
    "\n",
    "time.sleep(1)\n",
    "\n",
    "url='https://images.google.com/'     # Opening url in Chrome browser\n",
    "\n",
    "driver.get(url)"
   ]
  },
  {
   "cell_type": "markdown",
   "id": "9635b2ca",
   "metadata": {},
   "source": [
    "**Searching and extracting for first keyword 'fruits'**"
   ]
  },
  {
   "cell_type": "code",
   "execution_count": 3,
   "id": "1828cc92",
   "metadata": {},
   "outputs": [],
   "source": [
    "Search=driver.find_element(By.XPATH,'//input[@class=\"gLFyf\"]')                   # Finding Search bar website by  Xpath\n",
    "\n",
    "Search.clear()                                                                   # Clearing any previous input in search bar\n",
    "\n",
    "Search.send_keys('fruits')                                                       # Feeding input 'Fruits' in search bar\n",
    "\n",
    "Search_button=driver.find_element(By.XPATH,'//span[@class=\"z1asCe MZy1Rb\"]')     # Finding Search button for clicking through class name\n",
    "\n",
    "Search_button.click()                                                            # Clicking search button"
   ]
  },
  {
   "cell_type": "code",
   "execution_count": 4,
   "id": "9161eea9",
   "metadata": {},
   "outputs": [],
   "source": [
    "URL_3=[]\n",
    "images= driver.find_elements(By.XPATH,'//img[@class=\"rg_i Q4LuWd\"]')\n",
    "for image in images:\n",
    "    source= image.get_attribute('src')\n",
    "    URL_3.append(source)"
   ]
  },
  {
   "cell_type": "code",
   "execution_count": 5,
   "id": "ee466d4d",
   "metadata": {},
   "outputs": [],
   "source": [
    "URL_3 = URL_3[0:10]"
   ]
  },
  {
   "cell_type": "code",
   "execution_count": 6,
   "id": "4964941f",
   "metadata": {},
   "outputs": [
    {
     "data": {
      "text/plain": [
       "10"
      ]
     },
     "execution_count": 6,
     "metadata": {},
     "output_type": "execute_result"
    }
   ],
   "source": [
    "len(URL_3)"
   ]
  },
  {
   "cell_type": "code",
   "execution_count": 7,
   "id": "0e41948c",
   "metadata": {},
   "outputs": [
    {
     "data": {
      "text/plain": [
       "['data:image/jpeg;base64,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',\n",
       " 'data:image/jpeg;base64,/9j/4AAQSkZJRgABAQAAAQABAAD/2wCEAAkGBxMTEhUTExMWFhUXGB0ZGBgYGRoaGRsYGCAXHSAbGiAaHSggHR0lIB0aITIhJSkrLi4uGh8zODMsNygtLisBCgoKDg0OGxAQGy8mICUtLS0yLS8tLS0tLy8tLS0tLS0vLS8tLS0tLS0tLS0tLS0tLS0tLS0tLS0tLS0tLS0tLf/AABEIAKoBKQMBIgACEQEDEQH/xAAcAAACAwEBAQEAAAAAAAAAAAAFBgMEBwIBAAj/xABHEAABAgQEAwUFBQUHAgYDAAABAhEAAwQhBRIxQQZRYRMicYGRMqGx0fAHFEJSwRUjM3LhFlNigqLS8ZLCJFRjc7LTJWST/8QAGgEAAwEBAQEAAAAAAAAAAAAAAwQFAgEABv/EADIRAAEDAgQDBwQCAgMAAAAAAAECAxEAIQQSMUFRYXETIoGRobHwBTLB0eHxI0IUUqL/2gAMAwEAAhEDEQA/ALnE1MiWJYQUqTNSGBUQpQWAglwCQxYuBa25cVuBOJCiUmXZRCHUlamKnDs50AcDS7+Dq9BQT6iammmTUslz3Ve0O6kgHQaB9+6OhgtxvhsqUpuzyzEgOoqWy8oHdABYBgLk7cmeP3QRlHz+daKVKN6ixyairnpNLLLIKZq1uTl/wHYtcBvwkRHKxisMxQTLmInnIoEAguCHAP5CdiSGLQ38N4vRypISrKh5dygHuktdrm35jvzuyjKlTKisKpSiVS1uJntJZiUsfxZnB1OrmMqUSntDYRwmPXevZSLjWiiOC5ypc2cpWQk5mDlITdRT3WKg5IY7AQr4gqauSqVdSBZgoDKoE5VJBPVSXu4e9gxeXW1qM6UJJU7TXUFSlWvnHI2az8oGTq6ZSlZMsJMwDI47QgS81nIAcuRpdto82ozYgm3ziLXg1qARwrT+Hwj7pTAA3lu2veKlEjxckQbp5Je6raOQzPtrpCbwdxLIXPm0ZSEFK80jXKoqAVMQHs+crWBp3lAaCHVyRex0/q0aLcGTwHtvWajJZ3HS2lvjCxx5NSESZgZJzmU+moKkg+YI/wA0MswXbcadYzL7YcWCuxpEqdaVGZMA1BZkg9dTGUo7RWQ6H56a+FdImrGH1pcglgdevQ9IkmTJbq9uYoB1BAJCU3uW0a2oA181ei7cSO1Wh0bqb4/OKv7d7MFKCcrlQaxzEAXI1DBmNtecKIwRCyRtwrLTUGVV5xEkZzsCWS+rN7o5wvFDLZINvL5QFrZiphd2bSHXgfhp0CfPGbdCNm2J5k8voPYhTbDEueXOn2G1OLhAgDfaoZiKifdEsq6swPmWEQoo6qVMlrMpTJWknKQbPfQ8njTaWnUoXAB6P+sQYhSFMQR9SIJSEiNNz6+1Vm2W1GCoz4e0UTwenTKpStKQlc9VyAB3E6C2g+ZiaVL39/WJpKAaWQp2ZJDfXhHiSOfuidjlrJQDplT6jMf/AESOgFL5rqj/ALH0MR5CukS8xbf3Hl8I9qZJQe8Poxfw4IGoPTTXz3jzGVgoT3nUOWjc9L7WHWDI+npXgy/nvsJHGI4ydvKlu2PahEWoFNOm0BPtEpO0oZcwe1KmZH3KVf1aCU2YXa0FMNldpLyrGZOcLD6Om4Pqx8ozgngwoqPDTiZBHqPgmmnxCArgaV/s84ONOntZt5q/wnRA1b+bmfou9bQoWjKtIUORAPxi/JkNFXFZuVB57RUh0JLrx7xqYFAkBNZ1hq1STMSxCJZ1S5zAOxKm1+HpFTG+M5awmWhQF9XcC4uS2usNHBbmpqfyhbeYAB94ifiLhClmTkz1yxmB7xA9r+YaFuceQlISVqkjgI2vvxPOmy9lUBAmvJOIpTT9rmFmzHMMvus/SPBjqFJdJeDkvBJGQJEtGX+UQFxjhROQmR+7Vy/CfERlxlagDpHD57WrjbrUmZoLiePZUk5mblrCXUfeauYACSklki7OdvGK2LrmdoZCwUqCmIP0zbwz8P8AYimUiao5gSXBYpNmKevTrFXBYcNJzqufxyrTqs8hOlJ2NYXNkrMuYGUI6wbEexmCYUZygHK5LONH8NjBDibEVTDKStQWUJAzsxV/NfUDe0Dcanyu4ZaVJNsz8xq0VVNpWmDU9QIN6I1fEM+eUzZiQOzVc5gohJAB7gN2zC4Li/ImHGp41QiUkS5a5wAy58uUZzqxuAdecKeGTpU2QlKsgXLCkAAhJWVaZzuL6O5bxhh4CqZQkGUsB0hLqmez3Xsjwc26kbxIcSmSmIFxwBm/U8778RFdAM686E8O4uZM1cudmQklS7AKmLCjmZJQSm6muPJov8VcSrqJTSqdaEpIIVbUbKSbkdGgVjEyUK2WmWVKAcujVSlEAhDNlSA+g3h9xCfTmSUzkIlbkCyieZy87OWG8ZkQDpoY6H5rXUjukTbSljDsdmiTkkyVTphl3WT3Mt2CQdQl2JD3UxMLfZTv/KD/AEf7YP8ABGIS0lakywFgnvqIyIuc2U6FwbAb25mG/wDbFH/5ke7/AGx3IkiLW438q4BmAJJrM8UKZVQJtI2RYKkKSomwuUqCQ6V6JbwL3iebOqsQnoKxMSAAiaWZxsG0e6nU245Q04ZwLSyiXqCVtdpZyuH0c7XirM4PqJCu3opiZqkj+GQULLF+8FPmfTWDlUzH4PsfKfSgwZk6UI4ioZMqcTLExi+cAgAhyCU2LXB5O3nDdSVlDIQyO4tIN0pCkizOwuwOp1PWM/xGbPmTFBcsyu0UStyCkKVmzZAbsTsdCYI8TUEuXITOAUFqd2V3QQE2bR1O/wDWApGRYCTNjz4XPrW4iSKgkYgZFTMmJIqP3b5gFFJLhlWY7nu6iOcWxk1op1BOWdnKEhCcoJL5SMz90OFPdtBEOE4jRplKyv2sxGQIIOQuLuQzKDamPuFKlf3yXIkoRMVZIJT3ZYAubXWrQlSjt1sy01KiY4VhS4EUQxiUuZMl0qCFTFNnUoKQoKDksgkFmAU4Y94aQTo+MZ9OexmLSsIs85lzi2wTKUSB/wC4t4oU3D0iXUTp9dWIV2S+8lJyrUpkqCQxfdmHJrQvUFdK7WZMnJmS0qcjsFKStyXZSkkBT7k/0hhLaQmBpQ81H8W+0HEpgWJNOmSm4EwIUVNzBVYFrwn4NQzJs/LMcqWXKiXJc6uHeLteaFXeVNqkKb2SAvzCl3MX+EezTMEyUmcUJ/FMKSL7AJSG9TGXjlbJSLxRW7qE1sOG4JLFOmUwbK3R4z3ingYS1FUpgOW0PcjG0JAcF20BMUMbrAQXSTEleLGUZNaYQg5r6Vjv7NX2yEEWUsJPg9/1jZMJlAADZozmqrQmoQpTNnHk9ofqCoBvCP1da1hBItH5qthWx2S44/j+6a6ZMsJ6tALFpur63jsVfIwExKqvrE4O9olKAIjhv1reFwx7STR/h2qEyWuR+JPfQNyNwPreJ8zfpGb1OJLlLC5asq0lwR9adIcsF4mk1wAK0yqlIZUtRZKj+ZB/T/mG8RgVPNBY1SI6ibX2j1sNYn2LaDTk7K9D+jr57XonPm210G221opVM/lsPjF+dQTcp7h+NoipcNKi5DJ5c4lqbU2QXAQeYMnpx8KGhSAJmqmG0apqrjujfn0hwoaYAC1hpENFSBgwZA9/h067xdmzQB4bRdwGBCP8+IEcB+T86VNxWJLpyjSvJywIWcYrAAqYr2UAn0i7XVeY5RpvCzXKNVPTTS7oQQZp2JTojy1Pl1gOLxPaqgaa/PYcTXWW8tzRvgSgKZPaKHemErPiovBnE0jLFymkhKQkaARRxVYYxQLfZYYA6m56m9Az9o7NVcCqswUjdBbyIBHxgjMTCxwbOKqir5JmIHmEJf3w1qEYwslq+x/E1p2y6yr7WsG7qKmWO+ghKm3Qot7iR5ExniMSB+rRuXGVLnppw/8ATV8C0ZJT8JGagLTMHeuQEuHa+lgCz+frQwzqQmFbH3raUrV9tBfvgJfeK9TVBPeV6c4ZpXBkwAETUHWzNZj0NwOcD67gReXPnCv831aHUvt6E1xTTkWFL9PLbtSS5P4evJTbfKH3AOFpM+QkmYCopLJSxKVWbMo+0OQ8RCXNwqaicpQSfzEMWUG7zEW58oL4RiNSCaeSoFRucoBWSbsdiR46aQJ7vCQaCE5Vd4VPW4V93nCVLWROZ19mWQEOO73ruTtpfpDkvgeVMRl7R5qrsvOoIcd7vEvYhVw3WEXHaGfJWhc/MZihmTmIOYP7JyMQWbV9IZ6HH6qpQESEiWhwk9mHW5cA690Fjcny0cBCgAdeduPn6fmupiSkjwqnhOCIXPmSgrNISSkFa3/h3JA2cq5HfnDN+xsM/Kr/APmP9sJM2SujqgpaSo5gFJUw1sCSClJdyG9ejD/a3/8AXpPU/wD1wMJX1sP53G/KtpUgCII6f1TwZF3tv8DHylNd22ff/mPlT1Syo5c6SMurdXSfL4xWlzC7X6aC3leAEgaG9cpf+0bCUzac1TFKpagma340KsFEDVQPujN5ldUKHZomzOyZ8huMuh7pLE9NY2HiAf8AgqsrYpMhQ13Og8XjBEdqVGWDMynUIClFh0EUsOCoT7+P6oCiAYprw7IZsiShLZiCskMQkqSGNyxJKbOcqdS6jBbEl5kzpmHukImiXnQrLmzMFFI3dZSGBu7tcQoLxsCnJQgpUP3aSTfQv6JN9HMw8gxH76qTLp5MvRMzt1gHUpUMiX27od9i24g2Tj83oR1mmjhqhlUS5BqygrqFg5FFKkplkLGeYS4clQ+esGeJMfw9DypKZSyoEAolpKQsuzlgAHZyDCcMIqJ1TJM1L/eZiClTunIRnYcgEAhtgIfMdwikXVU1MJKQtWZa1SwEHIlC/wAu+Ztto6RxrgsaTDi1AuQkfdv3hSMzLypzbkMo28opUMuqTeR2Jl7IzgFPqlHreD/FPAUsLlfd1B5hUkZxuAVMdDsqEbEcOTImdlUS1yJnMd+WocwCxbwLx5SErHH1oiVEaGmamxRYOWacq+TuG2L6F+nrEWJY0sBgX84X8ig2VSZqf8BdQ/yKZfoDDJwphKag51JPZjYgjMfPb65xMxDbTILqhYU6xmcVkTrQamw2bPLhClP6eptDlhNNVS098O2hCgT59Yb6fDwAGDAaAC3uj2rpinZoiYj6it4RkGXx/irGGCGVd0yd+BpRq8WMs95wesD1Vq5h3Ai3j/fUmWwJd77eEG+H8KlXzKTmDEh7gHS0NMtthAVlufbjRMb9RDBypAmlWpwqYtJKVMrYqSW9xgJhXBVXOmlHdYMVLKtjyHtP5DxjSlY7ThfZhh5+Vue/jaLFbTJLLklim4Wnn059YcS+8yghMCdyJqA/i1PqBcvFWuHuHk0wBXNmLOgBWop8EodvjDZLQBqPL5wD4exBMxLn+KLLfn05A6sOcFairSkOTEJpSW1KW5dU8Pk9NKK4orNXe2s5LQJr67N3U6c+cUqnESvdkiAM/Elz1dlS/wCabsP5evX06eexrr4KRYbk/nly1NabZCTJqfFcRUVfd6e802UoaSwf+7ptryBZeF8DTTywPxG5O5MR8N8PokJ0dRuSdXhicAQ/9PwQUQ4v7Re+pPE8ANhtvehPvf6pryYphCzxFiCZctS1HupBUfAQWraqM/4hmGpnopk3QFBUzkVBilHgPaPXKOcExmJSteUab9Plq8w2aP8A2a0ak0xmzB35yjNV4qLt74a1GKtKgS5aUjYR8qfHW3ktJCDqbnxvHhp6VhQzKJFAuOasS6Seo/3agPEhh7zCHwxInGSgaAsQTsLOTfrYQR+03Eu0MulTdS1BSh/hBs/nf/LBGnpuykhIsUgC4e/kb+PyhtIBTPH8W/dNsymq1LSqIOpI3NwHCVAW0Z+liYkqcOAJKB2Za5S19dm90EqaXkSpYL5lAnZhlSlvcPWLhkBQGW1mb1209I0EzRM8UlYjSOggjqFBtdHGrHUaX0hIxFS6acialegYqSkJJ1JYOWN/j0fUquly5kK1OhsW5EdddLQhcSpKQqWUi90kaZh16+GhMFw6oMUPEJCkyNaoVWKGbLIMoAK9palEzAL6kAkAtyi3wXjwps8uYoITlDsHKuTEH6MC8KxubLk9knKlwXIT3mUXyudB4fOIpSFgEpFhq20Ndkbik5MhU0V4jxcVBQUIKEI5sSvMCHyk5tHI1u0B/wBpdE/6/wDZHkqpZ318AdPKL/7TmfmP/SPlGg0BaPnlXATrNbbUSSRlI+jaPJFKVG/n06wizuK6+UGE4KA0zIST6s584UeIOKq6oIlTKheVRAypZAuR+UAmEEMpWZHrb91kOTT7xhWS6hBopKnSVjt1jQlNxLSdy+p8vBdqeHZkghIdDMbHKb21HNteseYPNRIUgBIyobu825wXxriITEKtddn2CQSWBIvdjq/pAO0Chr0G3z4bmkVO5jNZ/iuHIIJc7sTcgnnziArKk1U9RJYJTLcu2YlvBk5reMH8fmoWEIlJClqsAl+tm1Pif+OcI4Pq19mhcn90JomTHUllCwy9WA/1K5w828EIlxQ8/bj/AFREyanGJ1SUUU2WhRTTywq4dOZaEC7XYJJD7HNHMzEa5KpNcUpBWlCUqyugpXa4fcHQNGpTaWX2IAHe0UD8oVqzGEIk9jMAyS6iQz2ZKl6eWU+RgOGxWdWRYGkgi+uo61siBUeKTMRlGVVVCJa5cpQmFUnUJZi6VH8pOkccT4zh9dLIByqN0mZLU2bqRodiQRDtxEAaKekMXkrbwymAmHYNIqKGQvLlmdmBmR3VFrMdleBcQ2DauA1mWH4EETApircIcFhzBFlpf8QZnYgHXVMHkgJEIc2sRJUqmqkFDKeVUSwQAdlKSPZLG+Wx7wZoccOrwUgg2YRE+toWrKr+tqtfTEZgvLrbyv8AmKdaNSALwLxee/dGjfTQP/aQ5xzNrApNj5xIXiXFNhuLUy3hFJXmNLiZIVV+AEd4666qVJCmCiEnmX6s0dSlhFUCdCG8x9e6JeJqfLMRPSHykKs9vBtf69YtYS+XpHp+6m/UQRiTPL2pwXwhTSZE1RTnVlKsytbA28NvCF/g5WaStwPg2pt0183iDE+Pp6pSpQk5FqSAlXQ2Jvz09dYlwmmXTyCqYu5Gmg8r+Ovuh7FlGW390lfegs3GVU1VMKVBiA7+d48qOLgo915qzsNPX5Ql4rPTPqVLd06Dy39XjSODqKRJlhSkFSzsEuffaJuKwzaAFqSSo7aeZp9teVAm1Q4dgtVVkGeckr8gs/jz840DCMLlyUhKEgQPl49LFihaBzUA3uJbzj6djydiInhxKFAujTQAWH7PM14qU6ITpTEucEwPqa3rAKoxhISVKUEpGpJYe+FjEOJys5ZD3tnP/aD8T6QdzGPP91sW47DrXkYcA3o5j2N5e4i8w/6X3PXpFnhPCuzHaKus6dH3PWBHDmCEnPMc73/WHErCQwia4+GzCTPE8Ty5D0oy7DKmpZk3nAjGMURJlqmKNhtuTsBzJNokm1DkJGpsIJyqREoBagFTNidvDlGsCy7intYAueQ08z0uaErK2L1k+E4JW1NSamZTzACoHvDL3QQwGdnDcoZMbkT0JdcpYF3IGYDRvZcDzhzn1ail3a+1vCPaapZJJuNADH1ZS3pO3C3lJNYD6xeBSThFSVFb+yDYFnDZfi2kHkzQHOzOG8H28o4x/C0pQZ8gBAf94kaXN1Dlu/raAErEu6xLbOWFxysNBfwDxkygx40dJDgkUSxWcFggAuDsR4ajd/05xm3GsxQS99TfRy5cHmxu/hDV9/WM18zK0ceySHBG1yb+HKEvi9F1AXBDpXupCri3u6GxvBGbrmuOWQRQSjAb4w3cO4vIkyJiZqHJe7sdLNY6X93mhU9T/WCVLXuyFAN5bxRuKRBBFXsNp0TZubIspe4TqR4m0NX3DD/7up9E/OI+HsQRKQvI6SUm7A3PIczHf9pj+RHqj/dAC65mOVNHyJi5oFV4yD1heqq11pWBdKgfQvG702DUspCuzpZI0uUBavElbkxRxPhWjnhplOjOfxywJax/0hj4EQm2ttBpNKSKSVSAoJWg2UMw6g3irWTglF72jjiHD6jC1plMZ1PNP7o/iB3T0V00OoilKp5s+YJSUqzG7EEADmSLQBOHKPuNtjy58IpYtgG1TcHViRVuqxKFBPjYsOrAxtuEVKTLLMAbtsNbRnVD9l4CRMnTFE6snugHa+r+Bi9Nql0ndJUUbE3I894VxDsPBbUzGhESIIt56H1oyLC9XeNcQCHWLZWduXlC/Q8JrrJSlzipMtZSQB7RCczEuO77WmvhFDiLHZc7IlB7QqWh0gj2cwf5ecOtNxRKVISBNGQXt+sYT2jKCsyFEm9tbR06xNrVsiTUGLKVKpzLHshBCSSzd0p1bTc+6EnAeNZtITTzE9pKQqzFlpBu3JQvu3jE3G3EyZslcuSrNcJWX0Sp/Z56N5wG4fwJVfUlWbJLCUqmL2ACUg9He0UsFnDRW/pz12+Aa6CtZAohIplxiplVykKpQqaT3J8kpKSAbpWkmwUkuxdi5gzg/CtQgATJ0pJB0UsAs9nD28IM0KUSJYl00sy0vdds6ub27r9Okeolcv8Ag6xIxv1EOd0aeE+ZBE9BHAmrmEYLBzA30+CY858DIqGfgiwGE2STyEwCAWIVEySppoKVHnoRzB0I8IaJtO5YDTlEVZITMR2U1zLOjMVIVspHLqNCISYebKoVMeH6FUEYkiJg+F/D9etIldXaLJ0NgNSdgIaqbFzKlpFQgJsCXuA40JhewLh9cusJnnPkYyT+FQU7LA93QvDtU4WmcllDWHcRikMrS2m43PXYdN5/FLYtDOIhSwRwO+u+0ToOHWAMncQUhZQyEgABiDpf4wuY3jE6pOSWk5PDUcugh9pOFKWWjNkBV/ivz/pA7GJIQnugDwjbmKDSgAmZvf8AQpPCYRhS4BJPgBSrwRwnnnqmKDBOids25+usaPMXKkAhbAM4+Xw9/IxBwdLAlZjZ7x5Jp0VdWQqWFykpufwggkFjup2B8IqspLoC1ampWJgvKy6SY868oapE+zMdgRswv6v/AKecL3F+ErloMyRZQu2oLcrtDHxZhCJA7aS6D+VA1Ybeg+jHJQVU6Sod4u+p87/DSMYjD5L8KGlRQcyaySjmzahQzqUo9dB4DQQ98P4CEMpesDOHOHAqatXbkDMe6Ei3mX+ENdTw9MKWRUrTy7qD+kQ/qOKSV9khUDobelVkkAXq+urQgasBCxxHxpKkoKgc52A0J5P8ngHj2D1MgFczNPSN0ufVO3jpCj+zZlSrMtzySnQD63juC+mML/yOLlI4e3H2rKyRZIk1p32UT5lWZlVOLkqyIA9lKEsSEjqSHO+UQ71U4LJfY2hQ+yGT2MtUoghlKZ9WLH5+kNVQAlRAe0V2MoQsoAgrIjkAMo8r9b0qsHOM2sD+aiWnukK03IswDF3OnnHKpgCmFkjT5hibaR7UoStCgtKWIs7gPtzv5R6lCCymazFm28ukEV9sCPhrwq+lAWhcsgspJB8xGNLnsVI7oZRQVE2dLglzp+EuRs8bVTtlJuwBjFcPwifVzJkySnuKWsha7J7yiRlsc1idjygrqkJQkrMD+f70rWHVBVXaa7LMA1SQHDl+8Bfxyu/h4MGxCQZqewCgVHMqSdzd1o62uBzT/jhzVwBPcr7VD3LZTu276W95gEOCq6VNUs5VSypxkUXSRooOBce+/Rst4lkH7hPO3vFEWoKsKrV/B8mnos7/AL1TMTfW/wBCEk0s0ay36iH3iOomqlEzA+TuqZrKGhLaBVthd7AEQR4MwZM2nmzVlggW6n62g7CnEjvGSaYYw7K09+REaDiQAKziXUTMuQ5khmLO8Q/sxP5h6CNEosDE+YpCWt8Yk/sKvl7x8oMlwkSBTTv09hCspWPG1aPJlAhnYkeF+cUJtcAspDODrs2zc7bxbqQQPH4f8wP+6MvTW/rr73iQ4ogACoIFVuM5AVh89ZN0ATEcwpJAt4gkeBitgqP3ctaUOopDsLnQ+cUvtCxpAQKGWrNMmKT2n+BDg5T/AIiWtygzhSgEpyliGgGNSO4k85oCj3qnncRIUOzSXWPwbgjW0KnE+H1M1BUWAHM87eEPkinSuYqZlS5sSwBLcyNYp8QYilCWK3szfoBC5OVeeSdANJMcp/B8K0BNZvJwSXLUFS1d7vBBCSUhTKAVML3YsWA84iwH7PVT1grZJygEIu5DupzpsPKNNw2kQimICAVr1URo7m3rC0jiGVSz+yW93IKQ7Ac2+rQ2nFuEjJPeEmJkC9hY3iNAYnjXar1P2bSpI1W7bkEEciGi/gWF/d6YJBAMyYSrYlKGA8nv4xLiHG9JkJ7QKLaOSfTWO8LxJM6mlTgCAykMdilSjfyIML4pbwbV92Xnx6wJ3qh9PSO0B3+fxV+jkZlBILPudHg7S0CckxMyX39QoDpYj6vC/LmpHeZz0taGPD8RSEh0slZyoGYqOhc32tpAPpaWi4S5wi9xcRER6yLkDemsYXAO7+jx4+kVUqaNUoqfRRLdGgTMsecH8YrQvuAWTrfxdwPCA68mwAhXHtttPqS3p/AmtYZaimVC/wAihWLEgSZn5ZvZn+VYJb/qHvMH6SZo0J/GeIplSJb2zzwR4SwST4OsCCVBjIYFwx3jz7K+zbWJ+R+/xTamy43CdQT6395pknzIWeIpoytFqpxpLc4CmjqKtRElLgaqJZCfEn4COYZlbjuY/PAVrDMdl/kXYDc0w8F1omSMr3DpIdtPDo3rFKfic2jqVKlpzhQYp0GYksdv6kc3jjAODptNMVNNbLcjvIAJTbq+o59YLprkg99LqzO4uLNpZ9hH0IfDRCZ+dNQRzFfPYhr/ACKUgSJ50v4vxLPqyhITkCSx6lw/NukG8SnCVIZz3U3f4RVxHFpEq/cSSdSwL+f1rACrxA1J7pdHxjD2JLib6caG0wpxQEWqXgfOuaot7RfyjTUyLQs8GYfk7zQ4LMIpYafzOqF9PD801iVkKCRQqqpnBEB8Io5EpakKSE3dPUHUeX6wyTDCdxrNAlqYssJKhzsNYnNI7B4Zbg7Ee/TSttErSUmjvcQvPLFwQ4GpB/WCVTLCk9oi+b3dYzDgGsqJkxZJUU2GY7FhYWF9fdD5QU1XKU6QlUo6pUWV4pt7jFnCrLLy2FJmbnIJynYwPIzwEXsQrAICgfPfl51wKUhd1E8/P6+MXKSQxIMS1FZJS6lpWk6nuqN/IF/KE3HPtNkIzS6WWpc4nK60qQlKja4Uyn6NFLshm+6eVyY/HjHWsSpVgKeZ6QxlagjveB2iISAAwAAGjDSK+CIV2brOZZuo8yeXTYQR7DM8TJOMOdInXKOV489TzPSuK7hiaEVWIplEBZsYhp8XlzBYgAOVE2ASHv8ACKfF+FLmyiEFlC6X0caeUKfCNLNWR2iVJSL6XKud7ADbXnaFkqKUEn/XbeigJIovjeECrWZsuV2bJOWYq3a/4VI1Mshw5Y8oXajElSpXYoTlllRBd8yVDVKufMHcecaQmiSLs55kkn3wg8aSEyZvaN3JqSlQ/wAaQ6VC+unornDuCfUTkNuFPYDEBKspEjUeHy0723sGpsUXKVnTZXTSLP8AbCq5j68oDJnAggH3xB3vzCKacwFqsOqbUZUAfCn/ABrH6unmKRklzwkkArBC2Bs5SWPpCnjHHtesFICJA07ie9/1KcjyaDnElaqjImkZ3LKZILBupaFvFJqSM3O/rCTbywAojUnrbYneviO9SrhNRkqUqWScyrkm78yecathVaxDKYRkddKzrCZaSpR0CQSSegF40ThPhjEFoBmhMsc1F1EdQA3vjv1BkLCVzB4foVzKTcU6rqUl2UUv+U/MQv8AEU1AQdX56mKXE2F1NNLVM7YKCQ5DEbta8J1VjqlIcm2r84UYwxWc4A1jxogmmGb9oE4I7IS0lQDBQJA9G+BgNTlZUudP9pRAPRJ1tsGt0eB2ETcw7TcqLWDWNvL5xdmTibP7VxuB5bsQ3zi01hW2/tTB3P4/gWrWtfTaaWpybEWJ0HjfXUbb9Wg5wXiqJK1SJqmlzWZywRMY5S/I6E8mMLlRMSLm50S+Ug2a99b+vhEE+iqluRTVB69lMPvCW+ukde7LJldUADxIHvR2QsHMgHwrXczFiGI2P174syT3kkFmjNcD4tqZDSp8kzkpDJSp0zUDoW06EQyHjeksTLqJRA0UlCwT0Yj38hHzL/0t5P2XG0X9pq4MQhQvbrTYV5T43PMvziGYzKWpQShIdSjokdYV5vHcklqenmTFGw7UhKfRDk+ZEXsCp5lfOCapTouRKR3JYNzYXzGxuXNo0z9HeWodoYHr/FESnuFzRIEk/obny50pcR1iq2eVpTllJGVD2AQN/E3JipJkTZQaXMt+VXeT79PKHXFsHTKmqlpdgT5O3LUaQIxCjyoNrxfXCRki3CqbDDGUFM3Fjofnw1BwTR1NbUKRMUESJQzTVpG12SHe5Y+h6RqalJyplyk5JadEfqeZgRwbQdlQJNgqevOeZCe6nys/nBpCWuR6R899WxRCuxbgAi8bzcDoQJPGY0SKgvLWXFZ1FUEgSeFiR+OVQmSNtx4XipV0bt4X8IJyJSlqyj+nj/T6EM9JScpb3s/neIwaWlHagd0mJ2kVlDpCoBvQqqlIno7GoTmlmwLd5JGhB1cQHwTAVSJypEy+VilX5kHQ/pDKEg/Voj4mqxKkyak6oX2SiPyqDh25ED1imw+7iG1takAEeBAI9RHjtAHVEBQgRNvHY/uj+HSkoDCLS5sLOG47LmJdKwfAgxanYgANWhcY1TaezywaVVhlFV6uT5wdnhXx+Uuasy0EfvWQbXAGZz6Enxinj3GVPIBeaFL2QkufNtPEtHX2Y1hq502pX+FkpTskC5bqSQ56CC4XCYlwhwCJIAJHG1p2GvSRvFE7jYM3IEx85xTph1FLpUJQE3bTl1PWI1zFFVy8ezpudZOnI6i0RTJoQtGchKVFknUlR2A5fDzj6MIShPZt/aD58ydyeJ8LUlfU61EmaVTCXOvuEUeJOFpNVkmpCRPlKSpwPaCSCUq56eR8wZPYUUByX7ynFydW5DaCeFySFA/TGMoMqLZvJjp0+QdOmz3e8NqnpSAB4Rdlra8A6KtStS0g3QooPkx+BEEpc6I+GdLKsuhFvKsuIm9T1CAqIJVGlIsAIl7YRxMnQ6otqVnVBNDAOgrwMNYzH7VyVIlJSUgmbZ30CVcvERoVRUW6xj32mV/aThkLiSGU2mZRGb0YD1hjCjM4ANBJoiBBmoMO4XUtObtw+vsEDbq++sT/ANmJ397L9/yi1wnV5ka6D5fP3QxZF/lV6CGyogmfaqUDjX3FeLIlJWAQLMTGVU81VQsIdnLPrc8ucNlXwjWVl1kSZZLnM5Wf8o0HiddoIU/BAok/eMxmmWM3ZhOV25XN4QaU0wg3lZ8uV6h5cxgU48H8HU9LLCgl1kDMtV1Hz5dBaGKsrkS02a0JaeLc6EqDgKAyobveDDfaKlbh1fUBwBLR/wCoSD6AEjzaFQ86SQkQd1HX5yo2QAXND+LceCgoqV3BqNj0bd9Iy9MlKyVLChmJNvZD7AMzRo4wFFNmnVzzsjFKEeyHs7KIzHxh0wrBKapQJqEpWgpBAYMHDsRz6RRwauyQez706nnr7a1mEkSTWNYLTmWVZAVoHeUG/DvpqIO4VhRrpyJNMlhl76lbAblvcNT8NDruDZSAoyh2ZUGOSzjlH1MgYdRLmpCTNnLyJJAAYAs7NYAKYdRB0YlSlQRB48tzwPAczpW2kKWQlO5t1+a9KGffqPD0lFLLTNqEnKqdMGbTVi7luQYRBO49q+4p5YBBcJQCCxPNzo1gqASZKZhuWOz3SfBTOnzt1i8MMSEsdUnRvzc/SMh3sxGnzjqfGvoBgWQYiev60jpRvDOKJFUSmtlS0/lmJBSpL2A1Kudxy0hU454dVTstChMkTLy5guL3YtZ+u945nUCgEv3XJIYdb+Jb0aG7hkGqp59EsPL7MrQcp7inGhPN38j1jxhJzoF9bb8ZGkwLGxmLxplxoNJJSe7uNgNJE3BE6aRsDFIGFoSLptmvDPhFUtCgpKArLo7ixtsR77Qj4fUmWtUtVikluViQR8YZqTEwPZZ2v0hg2M7VWZdbcYi1hBHDjp407YdJM1Spswd59NBv7oD8XICTbwAgB/aGoTKCkuCp/Cx08dIoyMRmTMyprlTMxFh16wFZzd4aUnhn0KeStKpBFgAbcuArXKAj7pRtp2CW8WvFkMByha+z3FRNp10rjtJJzIFnMtWoD8i/k0MMtXKPk/qjRaek/wCwG3ABJ9p6EVKWkpWpJ2J9TI+dat0NehDhY1sN9fH5xUxKr7RQVlykBr3LP9bbxGuX9eEeE3ffWBr+ouqYDFso/sXMm3ya4lpAXnGtc+UQ8T0Kp9HLkyx3ps4a6JCQSVeFh6xcpZJmKbTfo3OD1MgMD0ZPRP8AXWH/AKLhlFZXoIifEE+WnjyMDxDuSI1F/wBfOVKmC8BUsoArQJq91Lv6DQQXqOGaRYZVPKP+QfKDmWOVJj6j/jo3vSBfWTM1mvEn2XU83vSSZSxoLqQehBuPI+Rjv7McPmU1RNkTgyinMncKAsSk76p6xoK4oz5AzJWPaSXB9xHgRaBOBQiLgEGOhBt5R6URK5BB33qFSi7JAG3M++K1YUmyk9oU3ST+FXRt4JhaZgUZbZgWUN0nfz+cQmgLabwNbax9t/C3tXEqG9qAIpColW+rfGClE0tJmKLBIcvF004QSpRASLvGZ/aBxQalJp6d0ydFrZs3MDmDz5ac4y2wUKzL1+X6e9HbQvEHI2JpZwvjjsq2fML9jOmE+DFkqHTKz+XJo0/D8fRMSFJWCDoQQ0YsrBpRF8z83gdNlTaZTomKSD+JBI8i0Yf+ns4hWZswrnofzPMUy9h38OjM6mRxB06/OtfocYiOcRzcUSASVAAaklhH5+VxPWafeF+iflFaqxOfObtJq1NoCotbdhZ+sZb+kOA95Q9f4pAvI2FatxHxgpTop3bQzP0R/u9OcKWQJQsq3BAfc8uux9YW5c+YB/EX6mOcxBClEkHckljyvtFJvDhtMJ/uipfToBTdw+pcsHKUgtY/rp7oKffF8/eqFWjxIIvY+cT/ANp08kQNSFKMxVBHYpSMyq3lcthy8IT+I8Z7FKiDbQDmdgI54h4xly02L7BtSeQgJw/JNZOEyboNE7JHz6xAWkEZyO6PXkP3pUaLxTB9neCTVZqqfYqsgdDqYepoSlJKjFCfi0qShgQwHkITqzGamsdNGjMnQzVumUPA6rP8tuojXbJFkAFXoOXh514jc1T4yxdLlI0Nm/N/SD32b0q5MlSibTLsLCFZXAMwK7WfUla9bJYeAc6QRwzidUqoNMuXlQlsiw7KB5/Wxg7RDdkGSLnUcrT1rAg2rQq2d3YVuNZIVRSJhW2WYoM3tFWbqA4y79YuVmKpbWKtHUIqpM2lt2n8SS5bvD6/1GCtYgLeInUEeNj+Ip3C/wCNSVnQG/TQ+9I+HTAmaw0ZmLDTfUsN/OHrBMQkCQpExWUkklLBXaJIIAJy2F3Zw3gYz6tp1yiy0FC9GIbTXy+LxyjEVWOp1/r6t74aGYKzJ6Xq0+0l0ZST4UcxEpypc3v0Y+AtFjgNxWpNlDKtz/hynbk7CFydMExju+x16ePz9WmTUDDqKbOmJV205ChKTkL927Egd3MSNWcJeMIlA4xfy28TYda5ilJS0oHe3nr5C/8AdZfxHTj7ypQV3Vz5+n5kTVD0IKffFvDJSnUouwSRfmq2vg/ugNUrVkkpU5UCpXV5hTr1dL/5oZxMUJSEcyf+1oMpKm2UtTO3UCRPiKkA5kOrkiI/9bGruIsmlBQC6Ck9L2PxHpCzNxxSkqQwf8JNik72a4MMGPzFJpygAucoPQC94CYXh3aTkII/C6vAX/pHGilCFKUNyfal8E6+QG2+P5jXYVNwpMnpmJmyirOk3V189R0jX8M4okzQ09JkzWusB5ajztdPnz1MKaKcJZIDdBBSnpwLtf1iTjMYh37kAjgfk+Ig8CK+kVgGUNgEkq4i39jrM03IlJUCUTpSh0Wn6EUqzEaWUHm1SHGqUd8+6whdq6ZK0sUpPiBGd8V0k2WQlD9mq2Uc9W8IXwODwjyspEHmTHoQfMkUm9hy22XASQNgAD+RHhNaPh/HkurqZdJTSyiUokrWr21JSCWAGgLenKNKkmPzbwjJnSKmVOy91Ku9zyqcHTxfyj9E4fOCkgiL6UttuZUaRy2m1oH91HcSvJKhFEkmOFqiNcxoU+KuKTTgAJdSiwewc8/faGXHgm1BQ2VG1NGYPEM0RVwZalS0qWGUQCRFmepg8CS4FozVopymKzTjarm09UmbJWUKWli2+Q2caHXeAc77RMSzBAWgdcl/jB/iwibUhL+yG81X+UKXEVF2U1Fu6U/0MJoxADxbHPjVbD4VLuUK+CrqcWqKkfvpyludLBPokX83j2ooJgTmyEDq/wAoo4MkqmBCTfQdX3EO2NYpMTT9lMAUUixTqPHpBxlmDX0FmsqGkiDqNI2nnz3rP5qSDFarSFJIPhB7BFyVzFJmsAoG+46+6AuKzEv3ev17oKhvevPuC6T/ABeluRTAKUg7QewHCJRUFTQopvZI1baAOJLKZz9A/vgphONmXcNDcmJFfHFCErKOB9KuVNOkqKpcsJSTZLu3S8Q4x2QKikMnI5TyLRam40FuCQygMzpD2LsDt4iB2KVKC4F1K16DrHgToa8pAGlLFLIzQS/ZnVXoflBqmwhC0FQsrY7O2/SBH39Maz5tKyGUtgZt6b8e4Kq5P71TTpf95L7wSOo1EXuFaqcoZaaWVPqs2R5q38A8aHRuFBT5W945NuIFTx93rxLSWkz0dogflV+JI+PnELEkuMzEgfNLew8aHGQ2qzRcLBZCqlXan8mkseX4v81ukNkmnSkAWAGwijNxSVKTdQflC5iPFGd0ygVqGydB4mEQtDY4n0HjoK9BNzRPH8UQhJZifdGVVOK9pOZDqOazXdXSB3GtZWrJC05Je4SX/wCo8vdDR9mmAJBzFs5YBSthqfDb0hlLQbb7ZRClKsAOPWsZhMCoa1NTKRmmDujViCQOrRf4ZwuYtSJ6ipDHMhIcH+ZX+315Qfx9ICNmvfwifhSWfu0tSndQe+rE29zRKdxav+PmgAkx4Qar4RXcJPzrV/FpEmpSn7z3VpsJqfgrp84CyOBE3/8AFSezuQpPtOdHBLa9Ya007i/whY4tNNIRmVLQpZ9kML9Tuwg+F+pvKhC05idOJ5mCJtub86Kh3KISopHQEDpOntyqDssPosq5s8T5ib5EMUFQuHF7jqYR+K8dnYhNfMpISf3aUPbqdHP/ABzgagKmThe6iEpFtVEBgBYDwgphk5UqpMtBT3c4zkAuUg87XIblfzi+lvLBVr6fkk9T0ipWIxq3FWvte510AFh0FVhhqpagucAlf4QUuLuxINgNfSLs6cnK5SoKQCVKUMwJUzXc3fQdYH8Y43OnKSs5f3YZkixF+dyA+p684o0GLLmnKJaswDZkkDK/W1jy3jSmyqF7Dw+WplDMtFlZIWbxEgjhvCgRfpfjRulxhKiEZmB1zB1LPi7eXSLWESwFzJiHWo2AAb9TCfilEuWplhn0O3l8oceDKtpIP4r+52/SFcU2htrOm4NPfT1uLJw6pSUgkaDS2kbT48Jkk9R94v794aZ8lIkBk6anoTv46ePgYWKRBYfWkFJmYhipxy9PlEMuJSVSNRFUsS2SUidPxXMiXmJ2tC7xIgKQrp3h/kDwZXOYEfW0LeIzCQoDfu+uvueN4ZPeBGoogRZRPCnXhHD5cyUk5Q5EMkgGUcu20JXDtXNlBIIsNGBPkW0fnD2ApaHLXvbUQVk9morTJN9LyPxfeoWKSoHvaGrgmZhFWfhcpftpBgXOxJcospBI/Mn9RHI4oks5U3iCPiIqN4xh4AyPGk/+O4m6fSmJKUpAAAAFgBAbGsQCEmAk7jmnUDkXnOnd5+JtC3imPZjmJHQA2Hzjb+JgZUC9aZw6iZVVxErMoqIuS5iTElSSpEucAQrQ7hW0LcjiEAuYV+LcdM5QlpJBLE3uAP1iWxgXHHhNuf5p5boQJ8q0yZw7JQkqMzsx+FgHfo+8BsWpJyQFKuSH8Abh+rN74q4DjcxUomd3ky8qSst+JwH3FgQ484fZE+RMAUVpKSNyG0aGFFbKgCPHjR0OOMrzkk8RWT1Eu7s28UTIJPMk2hk4sTIRNOSYnJ0/QQDwKSayqTTy3yFzMURcpH4QL5QdDzfbSKqV9zNTOIfQI5/L8OfLjpRXhngtdfOXULV2dMLBZ/ElAAzB9ixL9Yb/ANkYLTgtKE9QZyAFC/U7dREGM4w5MiWWkS+4QGGZtSX66bWEB6GiWrNlIULsS/oeo5Qm45msq8cZjwAgHqZ8ooTGAzDtHCUze1je9zqOggDiaLzP2NNISuk7LbMhmHWzH3QvYt9nMuYFTsOn9sE3VJVaYHdmcC2uvrFirwZSSFkam4ff/iKFDiM6TNzS1lJCrMXLflN2CTuDG2lZQMlumnlofIeFFe+mtuDuG/MyPP7h1k9DQmVTTxLypBc2uCkjUEMRrFH+zw/uT6/1jXOI0ylyUVsrKyiEzQNAvndt7dbGFvtRyPrDaXVf184VKDCFjvDS0Hbl85U9Ux0t5hvlCzxdTTamuRLkkpEiWEqUA5zK7xHlb1MNlD7af5hC9wVMP3mcpy/bzbvfU7xPvCUD/Yx8461McNInFNHWSw6ZpUBqGZTdDBX7L8UlpBSojOFFTK/EC1+raekHOM/xf5oSOGJYyzCwftFXaAIVnw5SQJSRBAA0O9AJvTzxYqSrMe6AQXAuOekK/C+KTpaFEoGUA5SrRtAToOQ12gLXTldqgZiziznaHOoSPuTtfLLD9L2jgZSluF3zGeFFaAJnrVGXiM2uyICChKvafoWOhLCx3jTKSUEpSkaAADyhE4A08lf/ADXD3KiB9SWA52aRCUzVrIEtpA3E+dFJBHSBmK0UuaClaUrTyUAb87/8xZTEcyMOYklsJAuN6WSi9Z3iHA6ETCuWtYDuAGceBIf1eA9ZOlSHQhLE2Uol1HxP6C0aXWaesZhxGkdsbfiHxEVPp+IcxByOkkdao4ZltErSkAjePkeFRYdw8qekrmHJLULbrWC47o2GveNocMDwalkpaVTJ69o6y49BFmp/ieBYdA2gi7S+0PrYxzGY1wyjbht5aGjZQEhe8a/NqhnYdTzXTOp0FJ1yDKR4MWgAvhL7vmmUy1TJYuqWr+IkDUhvaHhe0No18vlHVJ/FT/MPiIWYxrgOTYn8jw9J4ESaylWVwODUfPkGlmhqgUhiPreLq5lneF6o7tVPSLATVMBYC+wi9J0hhzDiZHWqZQFALG8Hzr6qqG3gZQS1T5oSjQHX4mOcb9gQd4KSMxtvDaWw23mobysqDHCnnD8KShI8NYIpUBHx2+t4hVv4xh5tDRlIvXyxWXD3jXq0Ai8J/EFKkIKrbw1T94VOI/4KvrlAnEgKCQPk03hgZ1rGqmpyT5oSSHU4bmQH98TUyJiyylnwAisf48zxHwg/gv8AEj6NZCUi2w9q3hMMHVFSjaVW6E16nAmygk94sLnXyivivB6pLKYgquHc5uevzhqxT+GDvmF/NMXK1RV2QUXGU2N9usYQpeXMDRlNNZ8uUfmlvhXEEIC5U0WWnKRuFAuFXs4P6xJi3Cyc3cn95aX7irdAWZjzB0gFXfx/P/bBmi/ho8D8TGlWhQ3qiyhL4IUNLeQgHlbnw4Cl6vwrILzAo7s5hv8AsXlATqtbOpEh0jn7XyELuJfi8DB/7FD/AOPX/wCyr/5S406opbE/9kjzUBUnGoQknKIgHntXlRMSVlRSMx5EhLkvoQRDPgSny5hlQSAohjZ7kkNpzb5Qr4t7Z/m/7oL4Qo9qkPbsgW2fnE9aZTPD561ceGZv5w9/kU04/SyUS0LlqBOayQrMCkp1uLFvAEKMZviVOy1FGZy7912CuR084cJuh/mEJdX7Szu2u+0baUFKOURyoLDZQ3CiVdfm1N/D6knDK4KsEpzubBwFX8RkD+UJn7Vlf3iffD7JH/4Wb1QX62GvOM++5y/7tH/SPlDOHEm/BPqVfPlo2Kc/zLI/7H0gV//Z',\n",
       " 'data:image/jpeg;base64,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',\n",
       " 'data:image/jpeg;base64,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',\n",
       " 'data:image/jpeg;base64,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',\n",
       " 'data:image/jpeg;base64,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',\n",
       " 'data:image/jpeg;base64,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',\n",
       " 'data:image/jpeg;base64,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',\n",
       " 'data:image/jpeg;base64,/9j/4AAQSkZJRgABAQAAAQABAAD/2wCEAAkGBxMTEhQSExMWFhUXGR4aFhgYGB8gIBoeGx8bGiAgIB4fHyghHh8lGxsdITEiJiorLi4uGiAzODMtNygtLisBCgoKDg0OGxAQGy4lICUtNi8tLS0vMi8vLy0vLTAtLS8vLS0vLS0tLS0tLS0tLy8tLS0tLS0tLS8tLS0tLS0tLf/AABEIAQsAvQMBIgACEQEDEQH/xAAcAAACAwEBAQEAAAAAAAAAAAAFBgMEBwIAAQj/xABOEAACAQEFAwYHDQYFBAEFAAABAgMRAAQSITEFBkETIjJRYXEHFDNTc4GRIzRCUnKSoaOxsrPC0hUWVJPR00OCweHwJGJjlPElRIOiw//EABsBAAIDAQEBAAAAAAAAAAAAAAQFAQIDAAYH/8QAQxEAAQMBBQMJBQYEBQUBAAAAAQIDEQAEITFBUQUSYRMycYGRobHR8AYUIkLBUmKSstLhFXLT8RYzNDWCI1Njk6Ik/9oADAMBAAIRAxEAPwCxHsuS+o99mvMUYMhQmVitDQPQcAKHIdlge1rksUmBZophQEtGaqK15tesUr6xZo2ZPEmyqzQmVfGqBRIUz5MZ4lz0r7bTbv7Qh8X2hOl2VFQRYI2cyAtz8JJNDQvSo6hZRyYIAm8ic+Jw0uxr35tjzKnDukoQrdAASBeUjGd6RvTG7B1zpGOXG13Y1wWaTA80cK0JLyGiig0rUZnv/pZomaa9bOdwpkka+AnAnARKooo04eux+7XMJfbhGyiq3WjCg6QBB+m3IYlQ0u7zFWtG1dxCkkQsb4uIMFLe/N4vF4F4rMfE35LlyrckWwB6amhNOutATpaGlny47UvJ2VA8XOkEwj5satRRGaVGE51w87XPttf2bGWigu8WGFzDzoZ7viSZip90Mi87gTr1ZcLQGQYg5Thr1+sgasvajjYWVtiEqKblHBIkk/CY6ebfeUi+kHYezGvM6QKQrMTQnQUBPDutYXd+XxvxJqK5bDiNaaGh66ECo77XPB2f/qEP+b7j2bN350vk8Zc/9TdXOZ/xIqkUP/cpP09ppzTQWOMx1Xd8TFdb7c7Z3FBIG6G5nRRKgDxTIE6TMwDWb3u6mOR0NCUdkJ4EqSpp7LRUs/GNoob1ebtEHna+SRF8GIxoCzVAz1ag/wAw6hYsIP8Artn44wrNDI0ihQBjK4jUdeIk99pDEnHu4xjrwqh2wUJkom4/NElLe+boJAwAPGY1yunZb1DbQdlbaSW73x2hiaO70e7LgyWpdUDHVq0Uk8atbqOOO+Js6W8KtXlZHKqFDAVIBA4EilP+49do5CcDP94PrPhV/wCMbqocaIAMG8E3oK0wIvJAg33GMazylLXNnXJHSZ3ljj5NC4D6uR8Fes+05jKzxvCPcr2knKSBfJKLoI1go1BRxnhIyqTmMxkbAtzFAj2jThdZCOw0tBahYTM+jx4eYyqydoqdsq3QkpIjvjDeSJuN90aE3GlnDbkZ20m/7V5A7NSNI8UkUYdmUE4ObzR1YizEnXmiybvdEI75OqAKvKCgGgxBSadmZtVxrcTM+iJFEWW38u9uFEA70GZndUEm7K8iMeMZk7zuaIyFkvt1RiA2F3INDpkbKzLnQEMKkVGh7R2HW2k71hRMtdmveTyac8SyKOPNoqEZf62HnaDXXZt1dY05flHUF1rgzYsQD8KqhanQMbbOMpCiAYAvzN12vTkaWWPaVoLSFuJ3ishIHwpEkKMyCox8PzJBi8ThSL2W6gTEyrmMRA06yB/rbTZ7hGb3NMkKNMLms0ceGoMhxCoX4VKD1t152q3qSZrikl5jCy+MoK8mEZlFaVFBkCWA7B6zU2cib9ctPDoohO2QsoARzt0Xm8FRi4ReBEk3eMK973fSOe8wveFTkExBmGHlDhVgqipz51OJ6geAQrbQ75Gwvu12IIrdHKkjqiizB7D1WsbPixRw3eHDCxh50M13rHM1DWQyLmBqRn1ZcLSpiSQNT3GNfWQNYtbVWhpK1jelCCcABKCpRuBMSL7oEySBNIm0tk8lDdZseIzq7Uw0w4CopWvHF2aWsbB3rvF1UpG3NNDhfMDXQcCa59dBZivm2jdrls9o1RpWV+ey4qIpBYDgCxKZ9QNgW/d3CX6YItASrUHAsik+01PeTaFo3PiQdO8HyNb2e0i0qLD6AQSuCYg7i4w4AgTJkg9Jo7UgvMFbrJjCqxYLRsJPQxjrqNDapHPKqtGpcJIVxAaHCarXuNts2Rcmkghka8T4njRmo4pVlBPwes2t/sg/xF4+eP020FlURIN2XQevjQKtusolDiEzN8TBUDjG5wBGJF191Ydcdozw4uSkkTF0sBIr/v2626Xal4DK4kkqi4FNTUL1A1/3ts18uoiClrxeaM6oKMDm7BR8HSptO2zgCFN5nqdBjWp//W0+7rF29h6GetUXtuyLO8ppJm6TndH2NDHQYwrErhtSeBSsMkkYOZCk58PbTjraQbZvXJ8jy0wSlMOM6dVdaeu21/sg/wARePnj9Nvfsg/xF4+eP02kWZwYKPrrqq9uWJZKlNJJOt+GHyZZVhF0mkiZXjxIy9Fl1GRGXqJFvt2vUsbiRCyuKkONa51Ne2p9ttr2bcmdCWvE/lJFycaJI6j4PUotOmzwSwF5nJU0YCRag0BoeblkQfXaqbKsgEH121u9t1hLikrQJEpN5OZkcy8d3CsVum1bzEXMcsiFyS9CecSSSTwrUnPtt4bXvIdH5WXEgwqSWJAbXM9fEnO23fsg/wARePnj9Nvfsg/xF4+eP02t7s59r1jrrQ521YiZLSZiOqIj/LwgxGEXYXVg8E0iI0Sl1RwoZRowXMV66G3bXqUokeJsCVKjgCcyRwrW26/sg/xF4+eP029+yD/EXj54/TaPdF6+u2tD7QWad7cGM4nGInmYxdOl2FYlfNsXmVAkssroNVYmhpp8r11tWgvEqB1QuokGBwOKnUHsttezbizqS14nqJJFycaJI6j4PUotb/ZB/iLx88fptwsy1QZPrrqVbZsrJUzySReZAwkG/wCSD6NYZLfJmaNmdiUAVK/BC5gDutFPLI7NI5ZnJqzHU5U+wC28fsg/xF4+eP029+yD/EXj54/TbjZF4E+u2uT7Q2ZJkIAN+ZzMn5MzedTeaxtd5r7/ABE3zjYfPfJnCo7OwUsyqdAWJLHvJr7bbp+yD/EXj54/TartS4tHBNIt4nxLG7CrjUKSPg9YtyrO5BKlGPXGqMbXsYWA20gEkRF18wLw3WT7I2r7tyl5kvNBHhRoWo4ochU0AUAtl22sbw7dWWEQQrPg5TlXe8PikdqYAMiQFA4dgy1rq8ey6gHxi8ZgfDH6bem2cFGJrzOoGpMige0raws7gSROOPqaxVtayKdQvd5uABIEzoG5xviYm8ib6xefbd6YEPLKwKGPMnoNSq+vCKnXK3wbavWDkeWmCU0DMBTqB4DsBtsFIP4989Pd0/pa2Nk1z8YvHzx+m1RZ1m8K9dtbK2tY0jdUwkDGCIvGf+XiCT0TxrCprzI6xqS2GMFYwdFDUJAHbQeyxq47v3u/YpjiYmnOk45UyJ1oAPotrn7IP8RePnj9NlLfi9T3YwiG8Tc7FixMDphp8HtNoNnKBKiSOrzrVravvSw1ZQlLhmCZIGart0YxffebzJpv3e963b0Mf3BYNvJvpBdGwUMkg1VSABXMYm4EjOgBPtFTO73vS7ehj+6LYLfp2kkd36bMxPrzP02IW6UISBmKVWSwItVqeU5glWGpJPdccL8BNN23PCIZ4wqRyQupxV6XArkaAVoSew56gWobO31e7urKnKZc8uTU16iCaHtOLXSys1uDYdXxqClYi8cDrTD+D2QL392boAJMDvnPMnLSv0Fu7tuK9wiaOutGU6qw1B+2vEEWL2yrwMOcd5X4NEJ7+cPsr7LarZg2oqSCa8xb7Olh9TacBHeAe6YodsTybemn/Gksv7TcQ3gspAxnEp666/TY1cbsst3licAo8l4VgeIaWUEew2Xb7dxETFIoI7RkR10t5/bSj7u0N0xMyDEEC7LOScRhjRikzbHv5lfmNMeztrq4o5wt18D/AEsTLgCtcuuyLFdl+A5UdR5w+nP6bThRpUserQeuwjO33UJ3VpCzrMHrEGeqON99YrsqCbjHCKtb5bdZIaXaZBLiAJw4qLnWmYFdONjewRILvDyz45MC42IAJJHEDKvdZJ2hCCQoFSTT25W0VVoABoMrN9l2xdqUtaroi6+M9SdKFeaLfRQzZ06pDI7GirLMSe6aSyLtXb80zEl2RPgoppl2kanv9Qs2Ns9p7uYg+FTPMXNK1AmkNAO+h9Vkm/xCOSSNa0V2XM55EjPttW3PLQ2mObA6zHbA9A1vaLA7bLa6hKt1IUSTjio5DGOka3xU1x2tNEwYOfk5kHvqbOF227RMU3NZjVV4hcqE069c6a6Usi3V1V0Z+iGUt3VFfosYv1eVctlVia5kZ9XXlpnpYBm2vNJKgc4jIXEz5X+FzI7Js7aUtpnO+bzh0DsEZxfTbddvwuaVwnty/wBrTbbYG63gjMci/wB02WNp3GNFVleoYcRXtr2Z9drV0vRa6XpCa4YnoSQcijdp6v8AlLMmrY4VFl6JgwR0TrpWLdlbDjbrUxvC49MdONH7xfFiiVjrQUHWaWStqzvMcTNXqHAdw4WM70xtgicdEKAewn+v+gsBiNlW2bU7yvJ4JEXa3TJ+mnTMRYAlHxDE91A75BaTd7eKW6yquLFCxowY0UV+FXPDQ69Y9os39bAZrq8rpDGKu7BQO/UnspUk9QNo2e4reBTjXoglDzRQ5zSL+HHqxmt3tnfhW6V37n/JZ/hjwqFrWgAr3WQPCt0rv3P+S3pbWIbPrOvP+zv+4N9f5TTlu971u3oY/uC2TeELYhu95Lge5ykup6iTVl9RPsItrO73vW7ehj+4Lcbe2RHeoWhk0Oakaq3Aj/mYJFqqb32hGIqGbb7rbnCrmlRB7cekeExfX5+a3Bs/XTwZSs5rPGIwSMS85jhNKUNACCCDUmhHG11PBanKhTemZBQugSjUJNM8VBWhFacDbBLS4wp45tayAxvz0An6Y+jRXwT7LMd0aZhRp2qPkrzR7TiYdjCzzaCCFUVUQBVUBVA0AAoAO4WnselO6AK8faHi84pw5n+w6hFDtieTb00/40llzacsp9zvOEkGowrRe9T0tO2zHsTybemn/GktPfVjwnlcOAalqUFctTpnYC1WVVos6UJWU4YTfdgYgx9daLtLgbtjhIn4lfmNIyxwDPMf52/rb5JtBRzY1zPUNT9pNmld37qwDBag5ijtQg9Welr902dFF5ONVPXTP2nOyZGwHSf+qsdpPiB41KrajQnpjzNAt3tiMGE8wodVU8O09XYLNNvW9b0Vms6LOjcRh40C44VmTQ/Yvk29LN+NJZS3v2OyyGZFJR82oOieNew61669lm3Yvk29LN+NJa3LKqgsxCgakmgHrNsnLMm0MBCrrhB0MUwctKrPbnVpv+JQI1G9WRGliN2vQAEd4DIwAwSYT0eGIakU0YZ066ZaNFDE1HVYzXMMADXtBFvX7Z8Uy4ZEVxwqNO46j1WARslSQfjB6ru4zOhF4opW2EKIBQY6RI6Lo6ZuNJMV1BoBNDhHwuVUDTvxDOvCuY6rE4Yh4peSma8lJz6UxnCdB8VdK8TXqzK3fdq6ocQhBP8A3FmHsYkWsbcFLreB/wCF/utbZmwckCoxIBwv7JAjsnUkSKr762462lub1JxuzGUmT1wNJgiwkYaMKwBBUVB45WCTbuBSWjJI+I2dO5tfUa99j136K/JH2WkxDr01sZabG1aUbrg68COg+hrIpSh5bZO6fXrS/jSa90TQovrW327wJG2JFRGpQsiqDTqqM6WbpIlbUD1i3HiafFt5s+zj4P8A03u2Qe4n6UWbdIgg9tAYHkZqBmOfbYD4Vuld+5/yWf44gNBSyB4Vuld+5/yWaWewmyWdQUsqJIvPgJJ16zTDYjvKbRagRzvymmLYG1UF2u4wymkSDKCWlQoGRCEEdoNLX5NrJQ0EwPA+LTH6MGdvu73vW7ehj+4LErM0Be6Lxhp+9AWlVmD7koVzj841P3PrSXPCACsbTlcLYS0EoYPRRkwjAGIqSxoScT9drKouNXxTZEEqLpMFNHZ8sqimKgz+NqGpY/tG8GONpAK4QSV68svpp9NlZN8vdizKwipQKoBJOWZJPfp2WxetaWVBK1ATwPbj66xQ+/ZR8ivxj+nTL+14/izf+vN/bt79sR/Fm/8AXm/t2+7K2kk6Y0xAVpzhTMfQfVa/bdBUsBSVAg8P3qd+yxzFfjH9Ol3Y+1UwNzZa8pKcoJdDK54JSuemoORzFp9o35JUKe7LmpB8Xn1Vg3BQeHAi1rYfk29NP+NJYjaG9/cEEYafvRFrVZxaXJQrnK+cfaP3D40ordkoAXnwhcIHis3BMAqcNWoTiGIkjrrnbolA5dnmzfEo8VlFCXRh8HM0TDXUg+qzWTbCt/N+HS+Ml2LR4ahq648syDUVU6EZGoOYAAlRWkTPd+9DFdmyQr8Y/p1q+x9oRpHhxSyUJ5wu0oFakEUCUFDUU662v/tiP4s3/rzf27KPg13rjvKcgqvijABJpQBQANTUk04YiTVjStA/W5JWoSCOw+ddv2aOYr8Y/p0u7I2ogjbmzZyTHKCU5GVzwTXPTUaHMWsX6/JIoA5ZSGVgfFpiKqQcxgFRla1sXybelm/GktS3t2lJdrs14jXHybKXXrTEA1Oo0Na8KV0tVBUGwZujTh00RbV2ZD7u8hVyj841M/IfGqJjSmTTBi2InxWbUtI5wjDzec9ajPmjM62hlQBowonKjNj4vKCDSJcQqhIPMZshmTQ5EmwebwpRJdml5NpJOVdFUc0YalkZjnTmUHWWVqaGg/avhf5wF2gBUAYmlOp4gKpyp1k+q3cpnvDsPnVrPZUWlIU00og4HfTF3/D0Z0p/2dfkjjCHlmIrUi7TCtSTpgNNdLQbd2ohu84wy5xOBWCUCpU6kpQDtOVqG5W/MV+rGV5KdRUoTUMOtTQV7RSo7dbMG3ve149C/wB025RUUEyIjT96s0hpu1IQptQUFDFYOf8AJeOg9dRQbWjwrzZtB/8AbzdXyLCNrRRzSM45ZcSKjjxabnBC7rU4PguwI7MY+FZmu/QXuH2WmtpC9R2fvQm/ZvsK/GP6dKEk7BX90vBkzKKIpxwUUGJaahqYq4cWppUy7NvLAoz8uKE4lMV4atTJlmnROJSK5qEAz4C/CDsKQyJeoGUPQKyFwhamjISRzhWmulOrM9ujtCWWErOjCSM4WJpme8E1YCle/vpTeXvbp7Y/eqJWwSZbVH84/p0Q/a8fxZv/AF5v7dkHwm3xZGgAEgoH6UTrrh+Oorpwtp1s78K3Su/c/wCS2dpC+TMnu/enWwlMG3t7iVA34qB+U5bg8act3vet29DH9wWm2jfViWp1+COs2h3e963b0Mf3Bb7ti7B0zUtQ1FK1HdTXutzqlps5LeO7ddPcL/WlJ7X/AKlz+Y+NA9pbZmHNWtailV1PxSKVpWmeXH1BptkoZEwurYzUq1VUknQYalQTkM/XYhNGJhhzDA9I5aVIy68tKa62m2YrSTRI6VEeZIqBzRka8ecFyt5dtx191ttcm8c6+7Dgbr5JEEi+4GcFJEU1QRBFCqAoAoANBaa3ret7ICKqaHbE8m3pp/xpLWr3eUjQySMFVcyToLVdieTb00/40lkDwrbaONLqGKqBjfqYnThU0AJ6qkakZDl3k2ArgPXrKj7S2XLa4n7yvE+umK+7Y39mkLLd6RLlhYgYu84sgOGQPyhbNrtu7JNekQASYq5VIHPNSajDhAqopiyJrxyKRXkgakZcKjShUAg8K8DqSRnZs8HaNJfMYrhjDM1f+7IDIa87syU6aBO0+868ErJg93R1TnMZ1e0WZsIJF0CnfdndeG5ACJQCAVJApiHNzY6sRhJFSaY2plkGG3ret6ACKWmh+xfJt6Wb8aS2c793e8m8vJJKq3NQqsRPItS2IYcNHAYhlrzcNADUVNH64sRBJQ0PKzAHqrPIK+qtbZXd78+0kluZAVhJykZklpSowlAACzBQzGoNSRU6mwDru62kDQeuNOVWcOWp5SwN0LIPAFRk9UejS3tPYUio7QSpNGKGQRuTTM4cQyNak5kUqdc7LNaZWYbvPNdZGBxq6HDKKtzhWnJnMKU+31i0e1NjPLeD4nC7qwDAIpYpjAYYitQKVwkk6qa2zaPy06szTNkZ5NAASL5GckYyTfeIJN4nIVS2Bf5ILzFPHrGwbWgIyBUngGBIt+h7ztWK8XS9NC+NVjkUsAcJYK1cJOTU6xUdtsq3S8GzTV5W8IrLIRPEhDMgyyJrQMWB6wMJ1OVtav1zSG5SxRqFRIJAoHAYW+niTxNiEhW6rSKRPvrd2kn7IKAOOBJv/mgZXXcSl36K/JH2Wqba2ol2haaQ5KMgNWPBR2n/AH0FpxMEixsaKqYieoAVP0WwreTeOW+SmRzRR5OPgg/qeJ49wAG7jm4ONJ1riqm2toSXiZ5ZjiZj6lHBVB0Uf76m2o+Dw3lbkgqgWrFCwJOEmtMiONTXtpwtkSIWIUCpJoB1k5C2r3vbviMcN1RA7pGuOpoBlp38fZZa4tST8JgmoszSnV7qfKnS5TlgQwAYa00NdCOw/wChsjeFbpXfuf8AJZm3f2os4WQCmMYWHUyZ07agk91lnwrdK79z/ktuVldmk459vlFPtgJKdpIScRvflNOW73vW7ehj+4LErDd3vet29DH9wWn2jeOTTEACcSqKmg57KlT2DFX1WMa5qeilts/1Dn8x8aWNs5sBjyDZ8GArTr4dnVYrsOCtGxMUQcwnjUdfHL7bR3q+wyDBLGWIkEZKHLESq5c4PhBdQcqZjW00O3I6BVilyUHCqA4RhxL0SRmMgBXOgysqY2Xyb/KKUCJkXZ3xPRlj1VhNG7etBd5Q6K40YAjTQivCo9lp7OKqaHbE8m3pp/xpLZN4W7hLFfPGKMY5VWjZkBkywk05uWdOOZ67azsTybemn/GktHtyWiohiWUO1MDCoJALAaEDMDnHIamw/JhxoJOg8KYWl3kra4r7yvzGvz/smCWeQRQo0jHLCv2kmgGXE0Hfbdd0d3xc4cFcUjZyt1ngB2AZduZyrS3Fw2jd4UURXfkwwBVIkWjHCJCAFpoGrmBxtbO3Y6kYXyYqTzaZGMV6WYJkWlO3S0M2ZLZ3s6wftKnLogUYt6wSPbgMmDA+eAAAAkFi9SaMVwgBTkeJ6jQ3YmhjQvZUYaF1OhlnB9c0lsl2nsC83e+qsIZyWDB2UlVbOjUCUJqDTXKgOYItrOzJMMMjdUk59kshtVO1kYDlYSSBUc0ZghyCA9GBPJuMx8HWhBsKpkONp6Pp6/tdTVy1Gz2t66QVK8TfWb7U3bkvkkd45Mxl1TlEK4ZMQbC5CUBYkEuCaKOdWgNmOLdK9Y8KymBGWsro1SaARpFQYScCYudWhLVpkBZoi2xGnNEMik1OFUU5LhBPMJFAWA6+y3R3gjClijgAYvgGoq4yo5xZRs2XAVtzdlSnnGe6s17SdICUiAOvuN2mIvgE0Qud1WJFRBRVAA66AACp1JoNTaHb3va8ehf7rWgk24g+A9SaAc3OpCg9LQswFeBIrSorXv8AtIS3e8qEcFYGLEgUBMYalQSCaMLbucw9FD2SfeWz94eNX73deVuzxeciKfOUj/W355dCpKsKMCQQeBGRHqNv0hd+ivyR9lk3endq5veFkeKQtJnJybED4q1FCMTuVUZrXnGtRajrZVEUGtM4Vme7MTte4QiF2xg4R1DU9gGtbPG82w5pZjPCpkSShyIqpAC0IPdZk2MbndlAu8JAchQ4oS5JOEYmbEQaVBPNodRpbu93uMs/JiRJAATQrhNcQJPOKmhQg0zqONDQZ2yqIlOPr1xrazOLYVvC/wBdVU90tmPAqxv02flGANcChcIqRlUn7eywzwrdK79z/ks47HkjZSYwwrQktmWDCoNanUcDQjqFk7wrdK79z/ktymi2wQcSZ8Kc7BWV7TQpWJn8pph2DDePFrvSWIDko6VhYkDCKAnlRXvoLEGu94IIMsJB1Bgb+9b7u971u3oY/uCy/vrvO0J8XgIEhFXfXkwdKDTEdc9BnxFtvgQ2FKJwGZ86GffdNpWhITzj8iNTiSkntovOjxgY5rsgGmKIgCmWVZuq0NygLKqRzXV1QUAEOKgOR/xuPHrtls3OYu5LMdWY1J9ZztUnYAhhkRoQcx3WG96E4H8RrSF/d/8AWj9NbYIbz56L+Q39233krz56H+S396y7uFvEZbqOW5RnVigYI7lgKEElVPXhqdcNmu73pHrhatNRoR3g5g94salKVAET2nzoNdpdSSCE/gR+mgmxoLzgb3aLyk2XIk58q9TXlRqc6cK0z1sS5G8+dh/kN/dt7Ynk29NP+NJaa/X5IlxOadnXag3EthSjAA1IA76ItdocFpcSkJ5yvkSTzj90k1Slu0oBxSQYRrWA04f+XsHsFqqXZpXJWWAsoNaQMKCSlT5XU4deyy/tjeVJJo4WYKGqRHXnMFDMWp8WikVPcONhm0NtTQkGKQozkk0AOVaAUYEZUsn/AIsgvhCEnc1kgnHASLrovvuqXuUbZLi9yQQI5NF04T8OOcZddz6mz5gAokgotKDkDlTT/F7/AG2n5K8+eh/kt/eslbH3znXyxWUfCAGFwOsUord302frneklRZEbErCoP/Pss2Zcbe5pPRJnxoIW1ZGCf/Wj9NBdkQXnA3u0XlJtYWOfKuK+VHGppwrTPW103WeteUhqBQe4Np1eV0tLsXybelm/GksA303r8VBiiAM2GtTomI4VqOJJzp1Ak8K2TupbCjOAzPDjRNutamrQ5cmAo/Ig5n7tFrxc5mGFpITiqPINXMGtCJajInMddubtsmVFwLJBh1oYDrr53rtmN5vU0spR5pGZYVYEscnJOdNBpwtNsjeu8QYJA7PGwxNG5JGWTgE1KkdIUy6WWlhUWxtWR7TxjPMCl38UVN6U/gb/AE1p3ik+R5SDLT3A5fW2H7Yuky3e8c+Ee5PXDCQSoVsq8plx4GljGy9oJPGssZqD7Qeo9tuNve9rx6F/umxakpLZI01PnTGy2pa32xCYKh8iNR92o4YbxhFJotB/gN/dt1yF487D/Ibh/wDmtcu/RX5I+yw3eLbkV0i5WWp4KopViATQVIGgJ9XXQG5QmJJPafOs02l1St1KUkn/AMaP0134nN8eDTD73OnV5XTstThxM8kazXbHERyi8garUVUkcrphOR7+qy7D4SgSK3fm55iSpoGw1pgGutMrW7he7nfLwZDg5wCmN6qzlRUFh0ZCKkBc6Ur1UzlBMJPeapaLU8y4G1hAVjBQ3h1J/fgKZFu14FaSQipqaQNmTx8rrZF8JcUwaDHIjZPTDHhp0f8Avav0W062d+FbpXfuf8lq2lADZN/afOm+wn1rt7aSE54JSPlOgFOOwGpdLuToIY/uC2NbSv5lmllPw3LZ8ATkPUtB6raHNtox3KKNLvNKzXdFJVXCiqAdIKanPhXvtlG0LrPEQrRMpIqMakEjroRXXjbB4ylCRkPoOql6nm02l2T8x8TUs18CipNtD3U3SRY0nvaB5H5yRHNUB0xD4TUzzyGgGVbZBOZKjEK0OlMj2W3+5bxXS8RrKLxGmQxKzKCleBBI0OVdDwtazNomTWb7+8IQemKsz3xxoadQAFqW19pCK93EGnKS4kcccLAf/wBMNP8ANTjYdtrfO6XYe5EXib4IU80dpbQDuqe6wDdCOa+34XmXMocbmlAtK4EXqzzp1YiczmS46JCU3kn+/dWKGjulSrhHrvrQtnzCOCRzoss5+uktmm+29BijM7jE7krCtRQEDpkHULUGmdajts/yxFrnMB52b2CdyfoztlG+W68t55FozGpTEjY2IoDzgwopJBzHHUZamyLaC0F1lp4w3uycbzfddpA/FTZYIdtCm+fvkDUAkyR39FAdyElnvj3lixKrI0j0yLOOTAyNBkSaZ0CgU0IcNuap8n/U29u/soXeAXdGLDFjkY6FiACQPgqABTurxt1tW7SuRIsbmPRWCkg0yOYHWDYJxz3i1laBcBAgfKMLspJN2QgZUHbW+QsaW1c4qmNLo9GhqniLPvgzvpYTxE1ClXHYXqD3dEH1myZddkXiQ0SGQn5JA9ZNAPWbaTubu94pGxahkkIL00FBQDtpn6zZps9pfK70GKUIJNFNieTb0s340lsf3hnLzzSNxvKA9ygUHqrS2wbF8m3pZvxpLZVvJs3BfZYGJVZGR42/zA5dtKD1GxlouZQTgInuPnW+2f8AUOH76vE/vUd1NL1N2pH9rCwe5SUgB+JeCPUxwn71rDbRpIxwUOHCfUf+e21dGUK6AZO2Pjkag5dmVlqEECFD7PcCD3Gtz7O2/DdH4hTv4Lr6RLNd65BWp2cmyr7Ssi/NFnrb3va8ehf7ptj+xNveKTNKiKWbEKMTQYsFaUP/AIx7TbS49oveNnzSOoUmF8hXihPHsIsyYdHJbhN8Hzomz7OtFjcaLwA+MC4g5zlR+79Ffkj7LZl4WJiZoY+Cxs4GuZxiuHswjnV5vUbabd+ivyR9ls58LF2zhk4FWUk6ChFCTrljJAHVmLFvTuV2zY96E8aQseZGpJoBUE5kMCzUpXOlRQ8CBnb7y1ASBlTUMRmSNK60qAQOOdaWgY8060IHUtaUGnwqGor2EnOtrN2iZpMKKSSygAK3w8iKLXIigPGmnGy8ia9I/ZGXSFOIB3ZicpAmL7p+EX33YkQBsm5e1WvF2V3zZWZGNQa4dCSMqlaE9uYyIsu+FbpXfuf8lmXc7Y7XW7Ij05Q86ShJGIgCgqeChV6ssqDKy14Vuld+5/yWMfnkb8bvGlWxdz+Kp3ObKojDA4cKatliQ3K7iIqGMMdGapA5gzoNe6o77KW29zQMUks014mfRY0oWPaedhUewDIcBZp3f2lCLtd1aaIEQxgguoIOEZEVytLtK+xPGVWeGtVNDItGAYEqTnQMAVJocmOR0twCFISFHIZ8Blh66aWWyyurfWdw845HXopI2T4PpXoZTyS8Rkzn8q+0nssxS+D24tEIxGVIz5QNz69+h7qU7LT+NUySe7IvBVmFAtRVRzciczjGmKlMgbfJL05rS9wjWh5Zfivh+DlRilfjYSaDMHkNMoESD0msEWR5BlKFT0HyoTdvBddlbE0srDq5o+mn2Us5bO2dFAgjiQIo4DiesnUntNhUF8HKBnvMJVagATjMEmhIoATSgoa0zz6yf7Vg8/F/MX+trp5NOEdtaLZtKhelXYfKuNieTb00/wCNJYPtHdYkloXVQf8ADdagfJOqjstc2PtKARtWaIe6zHN10MshHHiDW1/9qwefi/mL/W2LjLDzQQ6Aenooi1sv+9OKQlXOVBAP2jpSxcd1mk8pOhQGjLFxI4Ein2Wb7vCqKEQAKooAOAss3mKMJWO9x4gprSRRip0QOcAAOcOvna5Z/Z2oMSXyPEBzV5XLFViKkyVKglSRXMKRQ1AEsMWdgQ1A66GNmtBMlCiehR74prt6wHZ08cbOWvcbghQoMgyw4s821IIB+T6gQ/asHn4v5i/1sTyidR21U2Z/7Cuw+Vc7F8m3pZvxpLUd6N3UvkYBOCRDWOQaqRn6x/zrrWgvkTXdwssWMSyugaUKCwmd1qRUhTQVIB5pOtoYWwaXuE0decZRUpUu+WgJZyoXMYUXPOgyQUFsJJGAzoi3WZxy0O/ASCo5HU8KUNu7nzgmTCFJzeh5pOpKngCTWjU42Bfsa8+bb2f66W1G6TsuENfIsKqg8sCTQriqSKmoDZ5HnU4A2r0OEf8AV3YtQYiXQ54YxkcOXP5RtOKilMlDNkAuQsRxvjrBFwymemmFn2lb2UBBRvAXAlKp7QRMdE6k0o7v7ou7hnAyOimoHyiRSndWttF2hdhHcp0GdIZKnrOFq2oxz0JAvUATFWglXol0YilMjTlMwfh04AiXaG0I/EpFaeJ5OQYNhkU4mwEGmmp7BbRthDYUoq3lERkLtAJu7ybr7hWHKWu0Wptx5JuUI+EgATfF3aSScL4Ag3dzRFJ+KPssF3r2UL3dSqEMwIdKUzI4AmoBKlgDwJB4Wsy3yB4TGZ4ecmE+6DiKcGB9hBtQCR6+OR4ta8pxpIFBAcVAxqeslKnM1BZUgiCR20E2zaG1haUKkGcD5Uh3TcW9OWMgWJaVd3YaYTXQnQnMEAHPncToO7e6sF05yjHKQA0ja5Chw/FB1NNeJOVqjXdSKHaCYSGDKXBri7cY0wxgZUpyuXunNmUJiqb6tMuaJshRy5FceI1U4czw0pQCiA2nMdtFWh62vDdKSBoEq/c98X0z2zvwrdK79z/ksx3C8Ro+d6RlCAc6YHE/wmzckCgGXWW9ap4T75G5u+GRGoHrhYGnQ7bUtK0ls3jtorYLLqLe2VIIF+R+ydRTpsG7IbrdiUUnkY/gj4q2IeJx+bT5otV3e963b0Mf3BZe2pvyqSPHBA05QkSEPRQRqAaMTTQ5Ad9tEqSlCZ0FBOMvPWlxLU3KOcACdSQB230zzQxIpZlQAakqLCb6SUaRVSGNRXE0YLH5KnIV0FezKwrYW9V3vs4RmwMvQhf4TAVJqMiRwFa5E0szbTNWhT4z178Ax/6WyUorSVAwMBxJMCSIIEkQAQSMxMAN5DzSihyQRkazS87TvF2dZJG5TC/ukZC0I0K5LqOvrHVbTbksMsaSIiFXUMvNGjCotm2/UJQyhvjVHaCaj6LaNu7dzHdbvGdViQHvwiv02E2Y44ouJWZ3VEX8DWCVqE3ntqPY12QxtVFPus3wR56S17xOPzafNFq2xPJt6af8aSybvVer1drw3JTOEfnKpNRnqBiqBQ1y0zFjFPJZaSpQkXC6NOPrCj7cpXvToB+ZX5jRre+/i7Ro0caYi1SCozVRVhpxqM7Etj3m73mISxotNCCoqp4g2yvbO8U03J8sQ2Co6NDnStQMuA4WPbnTm5cpLeThR1UBRUnECaVA0ND39dKWFRbBy19yTcJxn+/0rBKXFTuySK0XxOPzafNFveJx+bT5osHum9MMmYBw/GFDTvHCx5TXMaWNafadnkyDGPqK51LzfPkddCtj3ZCjVRfKzaqPPSWsXvxeJC8nJIg1ZgoA9ZsMl2ol1uc94fRJJzTrJncKPWxA9dsR29tye+ScpM9fioOig6lHDv1PE2rygQgCJMVvbSo2py884+JrTNreEa4R1EMJnPWECr7WFfWFNgTeFBq5XKADqxVPtwj7LDtmbqJgDTE4iK0BoBXh2m1TbOwzCMSnEn0jv/rZf/EErXug9w/ehEvJJ3QTWk7ob23a+kx8iscwFcBAIYccLUFadRANj227sgu05CKDyUmij4jWwjZ97aGWOaOgeNsSk+yh6wQSD2E22iLbC3vZ0s6ilYZAy/FYKwI7c9DxBBsah0LQoHGKKsqle8N3nnDxozd7pHhXmJoPgjqtJ4nH5tPmi3V36K/JH2WV999vckvIxmkjDnEaqp+wn7PVbZ51DSCtWFC76tTXW2t5brAxRYllcahQKDsLU17BW0V23gUozyXLAApIphavUCtAwrpWh69LBthbEoBIwGOlRXRK/m41plYwlK1C0OQU61NczX+vUbeYd228HPhjoj649d1GtWdShKlEdeHT5UY2BEz3eN54oxIwxEBAKA5ivbhpXtrZQ8KUCg3eigZPoKfEsw7k7Q5TxqPhHO2D5LZ+zEGPrsD8K3Su/c/5LegWoLs28NBRns+T/EWxP2vymm3Y2LxGHD0vF0w9+AU+m2A7M23LdzIoqCxYEHIg6EHtrb9B7ve9bt6GP7gsvbz+Dq63xzLzopD0mjpRj1spFCe0UPXW11NlaEkZD14Vez25uzWl9LolKleBPn1VitxMkt4V4zRwQQeog1B9ttKvm/Msd4g8cjVRG5YtFXRkZKUYniwNa8NLJu927zbMnQKzMjLiVyKVIyYZdWR7mFgW0tqvKau1TYa9BKeI7jIp44zZ7ehLi4KY4hQ6OjQzfMiv0BtLZt32ld1YNVXFY5E1HtHXkVOmehsehSgA1oAK91k7wS3Z02dGXqMbM6A8FJy9RoW/zWdbMEAc+LzjXiX20tuKSkyASJ6KHbE8m3pp/wAaSwffSGORFQkhwahhwHGvf1d1jGxPJt6af8aSwHeWA8oa/DAw+qmQ9mnbZdb3FIscpGgPAa9sDhM4imC2kuW5wKw3lfmNJM2zE5WKkhriGq60NQNeuljW3biZUoDzgwda6EjgerqraFNnEyB20U1A66adwsWuFza8OypJgCDnPhqCzHQZjQL9NkTXKuuIDd5H96YlthpMpMAYm8gT2nS7sFLW79ylWR3dcChcNCRzqZ1yJGXXpbVNlgiKMHWn/wAfRYZcN3FUhpJHlYZgHJARxwjU95Nj9n9isriHFOuxJEQMh67KU219tQCGzIGflN/aB0Uib6XZn2VeMOZWaRz3LeGJ9i1Pqtj1zpyiV0xLXuqLfojZUYaJ1IBBlnBB0IM0lRZG2p4JEZy13vJiU/AdMdOwNiU076nttqpoqSkjSq2wgWp0ffV4moJYuUmSIkBSDnnr9luXg58l3ZsS0p7e7v8Aota2hsh4sMUpq4XmyAUD5agVNCDqteA4EWrSMsCM7HL7TwA7Tp22864ChPJEfEPHIjppORHw50hMtCR1W1Hci5tHsi8M3+KJZF+TgwD24K9xsE3U3ElnYS3pTHFWuA5PJxpTVF78+qmttI2zGFus6qAAIXAAFAAFNAB1W9A00QlSjoabWU//AKGx94eNXrt0V7h9lsouUxvF6Mr1NSXI7BoO6tB3W1e79Ffkj7LZql0FyvkqyHAjc6Fj0SuINSvWNP8A5Fh9sJUWkqTlPaRd9e2sGgOUG9hNMAhV8lJFOmwyJ7DYdt3anIQlqjFmsQGXYW7lBp30tX2jvPAuYPKNoAtQvrY6+oGwnYuzJ9pT43qIVPPalBQfATt+ytTwr5qx2Fa3ASL9PqchFGv2kAQkyfDW+mvwX7PMd1aVhTlWqPkqMI+nF6qWH+FbpXfuf8ln+GNUUKoAVQAANABkBZA8K3Su/c/5LewdbDdn3BlFE+z3+4t9f5TTlu971u3oY/uC1m93gRqWIJpQADUkkAAVyqSQM6DOwTYL3nxa74Y4SOSShMzVIwihIEWRpwqe+1+XxllKtDAQRQjln/s22QsBIxw0NC2qzrU+4ZTzj86dTxqrtXxe8I8F6i5uRo4rmSQMLLWjHgAcVDoMxZbuO4uyFdXCu4JBUOXKcKZ0AIqwHOJBJp2WZWuUxGEwQnOtTeJCajQ1MVajga5ZW9ebpM6lDDBQ5H3ZySKhiM4eNNdeIztaUqyPYfKqIbfQCELAHBxP6qMwEFVK9GgplTLhlwytLYbyt681B/Of+zb3K3rzUH85/wCzaeUGh7D5Vn7ouMU/jR+qvuxPJt6af8aS09+u0ciFJVVl1Ibs49lOuwbY73nA1IofKzVrM4NeVeuXJaA1APEAHLQXpTeWBVoYCrAgjlnzByP+DbNChuAEHDQ6dFE2phZtTikqSPiMfGkHnHiKXoNn3RlV+WvCggkKTioAXFOi2fubZVJ5tjuzrxBGmCMMACQQFZiWBwmpAJLGlaHnUzoAMq/7Pm5RpDDBVgARy70qAwrTktSGpX+pt2blNmeRhFSSaXiQZk1Jyi6Vfha0y0ytVtDTZJQmCdAfKqOi0OgBbiT/AM0ed54milzviSqWQkipFaEA0NKiuo7Rla1YRd1vCCiQwAdQneg7hyVB6rS8revNQfzn/s225QaHsPlWPuq/tJ/Gn9VdbF8m3pZvxpLELLuyHvPJtSKHys2sra8q9f8AC0BqAeIoaDSxDlb15qD+c/8AZtRtYCE44aHTooi12da7S4ZTzj86dTxqHaN9gLPDImPDgLAqCAHOFT86tKZ5GluLhdbosg5JFL50bpFaEg0ZiSMwdOq3DQSuwfkruzAjMTvwIPCLrVTTrUHgLfLnBIhIjguwK0BCzNUZACvuXxQPttO8mZgz/KfKaH91XmU/jR+qj9h23ve149C/3Wt85W9eag/nP/ZsP25JefFp6xw05J60lYkc01IHJCp7KjvtDiwUHHDQ+Vb2azrS+2ZTzh86dRxo5d+ivyR9lh21vF5AYbwoK5ZsMgWrTnDonhXLXK3UMl6wr7lBoP8AGfq9DapLdZZGxNBd2YGhrM+VMJpTktMgaHvtYrSRBB7D5VgbKvVP40+dBxsLZyMaXZi1Vwh+VIOJlTMNWgDMK1BNDWhsxptOBYwU6AoAqqRkcAyWgy90U5ag5VtWFylqDyEBIpmZ5CciGFSYqmjAHPqt8FwlqP8Ap4MgABy705uGmXJUrzFz15otVJQnmpj/AInyrvdV/aT+NH6qNQSBlDCtCKioIOfYcxZA8K3Su/c/5LN8XjKqFEUNAKCs7n6TFWyP4S3krByqxrk+HDIx+LWtY1pw67Z2lYLZF/Yab7BYUi3tklOeCkn5TkDNPe73vW7ehj+4LXZ5gilmNALUt3vet29DH9wWp7ysTgQaZk/YNfXbnXeSs++BJAHb5ZngKT24w+5/MfGqN/2o8hyJVOAH5j/wWpOlSO5ak9wFprnCC6qzUqaEZnj2D6a2ubYWJMIQVyzoewUqe77befWhTyFOuqmCLj4AZY4XEX4xS+83mpNl7TbEEJqpyWvA8KnU10+yxy6zh1DDQ/QRkQe0EEeqyrcDWVAFrztanQZnSnAVtd3MvvKreCOjy7Mvc9G+0k+uzbZr6lJ3VGb7uwXdAm7KDddcLJXl00T2J5NvTT/jSWDbybZvd3UyCKLkxq2ItqaDLmnM8AD32M7E8m3pp/xpLDN9c40HDET7BT/WxaiUsSNB6zpraWuVty0ExK1eJ1peufhGbMSXep4YGP2EH7fVa9dd+GZRIYKRnTC9TTr0A9WVk6fabLVWow0oRX6LFpNlSRQY2kVV6RQCmGudK6f6WXKtrgiVRTIbNZZTurgybiSZ/wDmB6xrSrpellRXQ1VhUG1iyPubteLkFWKWpFSyHMqTqOHHqys5XaYOoYWYMWpDp3cFaGktoYLSiBhl9Kq7F8m3pZvxpLQ7y7OM93eMdLIrXiQa09enrtNsXybelm/GksQtq2neaCTmPpVtopCrQ8k4FSvE1kd25e7ShgrI4OhBFRxB6wbOm6EwwuXBWeZ3kevHMhQDrRUCgD/e3zbV5DyZHJRT18f+dlqMU+Bkf4rA+rj9FvMr2zyNp5JABQFQTwwMaRf0xoatY9lhtsyo/ELhoctcc8MsxTvYdt73tePQv91rXIpAwDKagioNqm3ve149C/3Tb07hlBI0qtj/ANQ3/MPGrV36K/JH2Wp3wASLRzGWqWYUo2GgAowIxVYZ0rRaWuXfor8kfZbPfCuTjgGoZHoO1aGv0i0PL3Eb0T+5j61m0jfXuzFM+1t40uhCz1bFmDGOGlWUnL1E1zyGljNzvSSoskbBkYVBGhtmN/VrzsmC91rJBVH41QMUz7aYSe82t+CPamc91oaCkqnsNFI+6fbbJD6i6EnAiR69d9arYAbKhiDBrS7Z34Vuld+5/wAltEtnfhW6V37n/Ja1q/yjTD2e/wBxb6/ymnLd73rdvQx/cFq28NzLhWXNlBqOsZZ9tD9trO73vW7ehj+4LT367CRcNSOKspoVPAg/8BBIORtDjIeY3DmKWW4S+4PvHxpRbLLidewHh/X2ddvrVLAAE1Ay68h1W9tWS+wnn3aO8DziIan5Sqag+qnbYNetrX+TmpBJHXIhImFe9qFvpsmVYFAxJ6k3+WeRI4RdS4mMj2eh31c2/tBbujxq1ZWGFiP8NTqK/HOmWgse8H9xMd0DMKGVjJQ8AaBfaoB9dgG7m5MjMJb2AqjMRVqW+VTIDs49nHRrNbIxuXxGg6cfXlV20md5XVQ7Ynk29NP+NJapvZdWku7YBVl5wA401A7aZ+q1vYnk29NP+NJYjbdKQpoJOn0pranC3bVrGS1fmNfn5r0uNSxyxCp7KjOz1tZTeLsyrXFgIp/3AUI9tmHbO5FyvLF5IaM3SKMVrXiQDQntpWw3aG7M8BD3Ng60AMcjZmgp0jqe0kHtNldqsLsBTcEg+vCmitos2hSflI1wnp+sCsaud5khvCsapIGoa1qakV7c/Zbft1ZSyseBofbWywmyZ5xSfZ7euWIqD39L2CznsO4mGIK1MXGhrTqFaCvstoyl1x9Di0FO7M4XyIAB6+NCW1bYZKEkEzkQe8HhXexfJt6Wb8aS33bE5SJiNdPb/tb5sXybelm/GktLf7tykZStDwPURYt1K1WUpbPxFN3TF1DWopFtWVYb5n8VKVo2PCh/5xtJeI3jNHUjt4HuNogSxoi1buqbfOCytK+TIhWEZ9mNOEiRvZa5dtG91LwaPGdFzHr1sS2972vHoX+6bQ7C2cYlJbpNqOoDhabb3va8ehf7pt9AsDbjdiShzEA9Qm4dQgcMMqVBSVW5JThvJ+k99Wrv0V+SPstlHhd2spvCRKc4Y2LU4NJSg76BT67Pu81+ngubSQIXkCqBRSxFaAthGZpr9JyFs93M3GlvUhvF+SRY64gr5NMxNSXB5wXsNCa9VakvyuGwKwY3US4o4TTDd7oty2E4chi8RY/Km0Ar1YlHqrYL4G45PGLy4X3LAqs1PhgigB7sRI+T2WZvCXsi9Xm7xx3ZA4D1dKqpNBRTViBQHMjusQ3F3a8Ru3JlsUjnHKeGIgCi9gpSvHM5VoJ3DyogXJHr1wqOUHJGTeo0y2zvwrdK79z/AJLaJbO/Ct0rv3P+S3Wr/KNMfZ7/AHFvr/KabtgzoLrdgWXyMfEfFFr/AI0nx1+cLYReduyu7GqLUkhVjQADqHN4Wi/bE/x1/lp+mwybbAA3fXZTdfs0XVlZciTMRhPXfW17TkJPubjOKRa4wKM2DCdeFDmMxW1WZrxQ4bwtT6M08lWmQz8pSp4jvGRQbQvL1wc6gLNSNTRRqTRcgOJ0FpVvV7OAAMTICUpCuYFSSvMzAAOY6rW9++731l/hgDF4Dq69dPrW4x3haCrqTTM1FuvGU+OvzhbDGnvih8SsOTw8pWJRgrkMVU5tTpWlbdSS3wFFKOGc0QGBQWNAaKMFTkQcusW4W4/Zqv8AhlP/AHh6v10v6L8L62LY06CNqsvlZuI89Ja/40nx1+cLYS99vSriIwqGK1Ma0xDMrXBTEBw1tKTfQquY3AcgIeRHOJ0C8ylTwpraqLbCQN3wrd/2c5V1Sy6AVEmI1kxxrUbvFNGqhZ06JxAFemFUDNiaVIJLAZk1w5m0lJmpimAKklSDH8VgKih59TnqtD12zW43e+tLFHIrRLI+DG0CgVrQ6qKkUOVeFqYnvZKABm5SojpCvPwnPDzM6caVpa3vpHy0OPZtBO6HhhOB49WRrcUvSUFXWvHnC33xlPjr84WxBfHyuMRsUoGqIR0TWh6FKGhz7LczSX1CVZJAQuMhoQCFrTEQUyWuVdLd79GKat/hlJu5Yeuv1drWxbHnQRtVl8rPxHnpLX/Gk+OvzhbD4mvpYKschJXGAIASVOjABKle3S3UPjz1CRO1CQQIVNCtKjJNcxUcKi1UWyEgBNa2j2eDjq3FOgSSeiSf37DxrVtoRM0pkjmRaIoUVBqfdAQc6UoymhGZVfi2+XczB1rMoSq4vJgmiGugNKvSo4UyNsourX2UFo0dwDQlIFYA9VQmuYy7bEHusygEz9K6icAXcHUlcJopwjKvKGgFbXFtJ+XvrBfs2lJgvf8AzPcJrYPGk+OvzhajtydDdrwAyn3F9CPitbKLld74zAPiiDI7qzQLRsCF8qqK1p18bUL7er5EwWQYGIqA8SqSOvNBlXjaqrYSnm41ox7PpS8N14EphURjfr1EXTGdbhBeUwrz10Hwh1WFurq7NFIgDyqx5wPMpGGFDpUiQ5HUjLMkZO734BGKOA5AQmBaMToFODMnst0Vv4bByUgamKhgFcNaVpgrSuVdLT7792qn2ZT/AN4dnbnlnpWpFrwFynVjlqY8jh7FFQWyPZQjSh7rMCpE66DFVlzOJKimHTDj0odM652ytxf1DFononSPIKAvHnVTLLPO1D9sT/HX+Wn6bcbbHy+uypT7LhWDw7P3rbNlPhDmR1LMwObL8RFOlBqpplpSyd4UplJu9GByfQ/Isiftif46/wAtP02JbL3lZARJHDMMsOOJObrXMKDnlr1WzctQcSUkRxouybDXYnkvoXvETdhMiMTMRNACLettV73OuTyYmgFWJJozjM9QDAD1W+/uNcPMfWSfrtT3RwkxHrqrZPtJZSL0q7B+qsj2Bf1gnjkYEpUiQDijAqw7eaT6wLH7/vVE0MiKr48JihxhSFidY0OKhqGKxtpXOQ2ff3GuHmPrJP129+41w8x9ZJ+u2ibO8lJSCO/yoR7a2z3XA4pK5GkDAz9riR/KpQzpI/ey7nCjo+GVP+rNFqzqiIpTPQFCTip0javdt7lKzs6nljI8sDLQ4DIpQgk8FGEigOaiz/8AuNcPMfWSfrt79xrh5j6yT9dr8laNR66qw992ZeN1d92WE4c7CAEnVACcqznbu2LteGqFmVFWR1C4KmaRsRrnTkqYRXWgtdn3pgxvIpm91eHGpC4YxEysQtG53RoMloCa2ef3GuHmPrJP129+41w8x9ZJ+u0ci/JN1/lGmnrCr/xHZ0JEOfDhhmoKOeZAnO6AQCZQoN7U5R3cyMDe1nUGnNRcYp0qYsJUUGXN1sT2BPAFgnbHgu5kwuzRqpBNasMZYNrRQDU4cxnZq/ca4eY+sk/Xbw3GuFfIfWSfrtZLTwMmO3jOmsaYYihrRbLApvcb305c0G7d3LhvC/dJGY+IkpJghAu29YjMFGkAiupjAy8qQ2dMVCvQzPVpabYO0VnRYWWRyLvIjkMlfLCQYTI4DUqoIJB6tLPP7jXDzH1kn67efcTZ51u/1kn67VDT+ZHaeHDgK2XbtnElSEqCsjA+9j8QnnnSYE4Uo7S3huyO8BFV5CFGyWUK0WI0bnKrUrQkHJl7LUP3vWsfTw+NeMPkFJUYABQNStKkjStM7Pw3GuHmPrJP129+41w8x9ZJ+u0lp86euqobtmzkwVBZVF5hME3XwScYGeQzvpc2PtGJzHeWMkccTysGxIFo7lqsA2LFQ4cIBrQZ0svXfb8IiAIlx+KeLFcK0qHxhq4q0IJ4ZU420MbjXCvkPrJP129+41w8x9ZJ+u3Fl0iLu3gBpwqrNvsIUoq34OAAAulRMkrMk7xk3ZRFJU29925RZUxlwZGx0Va4oyi4lWQqz4sNZAFyFKWDS7VgkhhWYytJEkhypQyNJijxFjUpStePVbTv3GuHmPrJP129+41w8x9ZJ+u0KYeUIMd/DhwrVvaGzm1haQuRgYTdzrsYiFkRGEaUjPvJdvGPGQ94q7FmUlAEBRo6qcVWZS1FNBzai3MG9EUSmNOW5t3liSQgB+UlYNWgY4VGEUIJNScrPf7jXDzH1kn67e/ca4eY+sk/XbuSfxka58PIfSKr77syAClcAQLk4AEDPIKI1I5xJANZ/eN6lbAtZMC3MwFcs3ZWBPS6PQzOfM0sqk5m21fuNcPMfWSfrt79xrh5j6yT9dqKsrqsY7f2otnbVhZncSoTwTqT9rVRrFLdIttq/ca4eY+sk/Xa3srdy6w4hHCoqc61bTTpE2qLGuYJFaue0tmSglKVHsHfJ8K//9k=',\n",
       " 'data:image/jpeg;base64,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']"
      ]
     },
     "execution_count": 7,
     "metadata": {},
     "output_type": "execute_result"
    }
   ],
   "source": [
    "URL_3"
   ]
  },
  {
   "cell_type": "markdown",
   "id": "60887fda",
   "metadata": {},
   "source": [
    "**Searching and extracting for first keyword 'cars'**"
   ]
  },
  {
   "cell_type": "code",
   "execution_count": 10,
   "id": "e4d4768a",
   "metadata": {},
   "outputs": [],
   "source": [
    "Search=driver.find_element(By.XPATH,'//input[@class=\"gLFyf\"]')                   # Finding Search bar website by  Xpath\n",
    "\n",
    "Search.clear()                                                                   # Clearing any previous input in search bar\n",
    "\n",
    "Search.send_keys('cars')                                                       # Feeding input 'Fruits' in search bar\n",
    "\n",
    "Search_button=driver.find_element(By.XPATH,'//span[@class=\"z1asCe MZy1Rb\"]')     # Finding Search button for clicking through class name\n",
    "\n",
    "Search_button.click()                                                            # Clicking search button"
   ]
  },
  {
   "cell_type": "code",
   "execution_count": 21,
   "id": "ebb3292a",
   "metadata": {},
   "outputs": [],
   "source": [
    "URL_3c=[]\n",
    "images= driver.find_elements(By.XPATH,'//img[@class=\"rg_i Q4LuWd\"]')\n",
    "for image in images:\n",
    "    source= image.get_attribute('src')\n",
    "    if source is not None:\n",
    "        URL_3c.append(source)\n"
   ]
  },
  {
   "cell_type": "code",
   "execution_count": 22,
   "id": "1404c0ce",
   "metadata": {},
   "outputs": [
    {
     "data": {
      "text/plain": [
       "44"
      ]
     },
     "execution_count": 22,
     "metadata": {},
     "output_type": "execute_result"
    }
   ],
   "source": [
    "len(URL_3c)"
   ]
  },
  {
   "cell_type": "code",
   "execution_count": 23,
   "id": "c8bef715",
   "metadata": {},
   "outputs": [],
   "source": [
    "URL_3c = URL_3c[0:10]"
   ]
  },
  {
   "cell_type": "markdown",
   "id": "9de550d1",
   "metadata": {},
   "source": [
    "**Searching and extracting for first keyword 'Machine Learning'**"
   ]
  },
  {
   "cell_type": "code",
   "execution_count": 26,
   "id": "cb6b56cc",
   "metadata": {},
   "outputs": [],
   "source": [
    "Search=driver.find_element(By.XPATH,'//input[@class=\"gLFyf\"]')                   # Finding Search bar website by  Xpath\n",
    "\n",
    "Search.clear()                                                                   # Clearing any previous input in search bar\n",
    "\n",
    "Search.send_keys('Machine learning')                                                       # Feeding input 'Fruits' in search bar\n",
    "\n",
    "Search_button=driver.find_element(By.XPATH,'//span[@class=\"z1asCe MZy1Rb\"]')     # Finding Search button for clicking through class name\n",
    "\n",
    "Search_button.click()                                                            # Clicking search button"
   ]
  },
  {
   "cell_type": "code",
   "execution_count": 27,
   "id": "cd2a3173",
   "metadata": {},
   "outputs": [],
   "source": [
    "URL_3ml=[]\n",
    "images= driver.find_elements(By.XPATH,'//img[@class=\"rg_i Q4LuWd\"]')\n",
    "for image in images:\n",
    "    source= image.get_attribute('src')\n",
    "    if source is not None:\n",
    "        URL_3ml.append(source)"
   ]
  },
  {
   "cell_type": "code",
   "execution_count": 28,
   "id": "89878127",
   "metadata": {},
   "outputs": [],
   "source": [
    "URL_3ml = URL_3ml[0:10]"
   ]
  },
  {
   "cell_type": "markdown",
   "id": "f8abc62a",
   "metadata": {},
   "source": [
    "**Searching and extracting for first keyword 'Guitar'**"
   ]
  },
  {
   "cell_type": "code",
   "execution_count": 30,
   "id": "ad7e0173",
   "metadata": {},
   "outputs": [],
   "source": [
    "Search=driver.find_element(By.XPATH,'//input[@class=\"gLFyf\"]')                   # Finding Search bar website by  Xpath\n",
    "\n",
    "Search.clear()                                                                   # Clearing any previous input in search bar\n",
    "\n",
    "Search.send_keys('Guitar')                                                       # Feeding input 'Fruits' in search bar\n",
    "\n",
    "Search_button=driver.find_element(By.XPATH,'//span[@class=\"z1asCe MZy1Rb\"]')     # Finding Search button for clicking through class name\n",
    "\n",
    "Search_button.click()                                                            # Clicking search button"
   ]
  },
  {
   "cell_type": "code",
   "execution_count": 31,
   "id": "09d8f0a3",
   "metadata": {},
   "outputs": [],
   "source": [
    "URL_3g=[]\n",
    "images= driver.find_elements(By.XPATH,'//img[@class=\"rg_i Q4LuWd\"]')\n",
    "for image in images:\n",
    "    source= image.get_attribute('src')\n",
    "    URL_3g.append(source)"
   ]
  },
  {
   "cell_type": "code",
   "execution_count": 33,
   "id": "c9d3000a",
   "metadata": {},
   "outputs": [],
   "source": [
    "URL_3g = URL_3g[0:10]"
   ]
  },
  {
   "cell_type": "markdown",
   "id": "22105236",
   "metadata": {},
   "source": [
    "**Searching and extracting for first keyword 'cakes'**"
   ]
  },
  {
   "cell_type": "code",
   "execution_count": 36,
   "id": "d1dd14e6",
   "metadata": {},
   "outputs": [],
   "source": [
    "Search=driver.find_element(By.XPATH,'//input[@class=\"gLFyf\"]')                   # Finding Search bar website by  Xpath\n",
    "\n",
    "Search.clear()                                                                   # Clearing any previous input in search bar\n",
    "\n",
    "Search.send_keys('cakes')                                                       # Feeding input 'Fruits' in search bar\n",
    "\n",
    "Search_button=driver.find_element(By.XPATH,'//span[@class=\"z1asCe MZy1Rb\"]')     # Finding Search button for clicking through class name\n",
    "\n",
    "Search_button.click()                                                            # Clicking search button"
   ]
  },
  {
   "cell_type": "code",
   "execution_count": 37,
   "id": "eeec70b1",
   "metadata": {},
   "outputs": [],
   "source": [
    "URL_3cak=[]\n",
    "images= driver.find_elements(By.XPATH,'//img[@class=\"rg_i Q4LuWd\"]')\n",
    "for image in images:\n",
    "    source= image.get_attribute('src')\n",
    "    URL_3cak.append(source)"
   ]
  },
  {
   "cell_type": "code",
   "execution_count": 38,
   "id": "1f64330e",
   "metadata": {},
   "outputs": [],
   "source": [
    "URL_3cak = URL_3cak[0:10]"
   ]
  },
  {
   "cell_type": "markdown",
   "id": "9033a4cc",
   "metadata": {},
   "source": [
    "Q4) Write a python program to search for a smartphone(e.g.: Oneplus Nord, pixel 4A, etc.) on\n",
    "www.flipkart.com and scrape following details for all the search results displayed on 1st page. Details to be \n",
    "scraped: “Brand Name”, “Smartphone name”, “Colour”, “RAM”, “Storage(ROM)”, “Primary Camera”, \n",
    "“Secondary Camera”, “Display Size”, “Battery Capacity”, “Price”, “Product URL”. Incase if any of the \n",
    "details is missing then replace it by “- “. Save your results in a dataframe and CSV."
   ]
  },
  {
   "cell_type": "code",
   "execution_count": 109,
   "id": "afcb3f65",
   "metadata": {},
   "outputs": [],
   "source": [
    "driver=webdriver.Chrome(r'C:\\Users\\Admin\\Chrome webdriver\\chromedriver_win32\\chromedriver.exe')       # Connecting to webdriver\n",
    "\n",
    "driver.maximize_window()           #Let's maximize the automated window\n",
    "\n",
    "time.sleep(1)\n",
    "\n",
    "url='https://www.flipkart.com/'     # Opening url in Chrome browser\n",
    "\n",
    "driver.get(url)"
   ]
  },
  {
   "cell_type": "code",
   "execution_count": 110,
   "id": "17a19274",
   "metadata": {},
   "outputs": [],
   "source": [
    "# To close the login pop up box appearing on the screen\n",
    "\n",
    "cross_login = driver.find_element(By.XPATH,'/html/body/div[2]/div/div/button')\n",
    "\n",
    "cross_login.click()"
   ]
  },
  {
   "cell_type": "code",
   "execution_count": 111,
   "id": "fc03f869",
   "metadata": {},
   "outputs": [],
   "source": [
    "Search=driver.find_element(By.CLASS_NAME,\"_3704LK\")                   # Finding Search bar website by  Class name\n",
    "\n",
    "Search.clear()                                                                   # Clearing any previous input in search bar\n",
    "\n",
    "Search.send_keys('Oneplus Nord')                                                       # Feeding input 'Fruits' in search bar\n",
    "\n",
    "try:\n",
    "    login_window = driver.find_element(By.CLASS_NAME,\"L0Z3Pu\") # Finding Search button for clicking through class name\n",
    "    \n",
    "    login_window.click()              # Clicking search button\n",
    "    \n",
    "except NoSuchElementException:\n",
    "    \n",
    "    print('Login Window is not present')                                                        "
   ]
  },
  {
   "cell_type": "code",
   "execution_count": 49,
   "id": "139e56da",
   "metadata": {},
   "outputs": [
    {
     "name": "stdout",
     "output_type": "stream",
     "text": [
      "Login Window is not present\n"
     ]
    }
   ],
   "source": [
    "try:\n",
    "    Search=driver.find_element(By.XPATH,'//div[@class=\"_3704LK\"]/input')                   # Finding Search bar website by  Xpath\n",
    "\n",
    "    Search.clear()                                                                 # Clearing any previous input in search bar\n",
    "except NoSuchElementException:\n",
    "    print('Login Window is not present') \n",
    "    \n",
    "Search.send_keys('Pixel 4A')                                                       # Feeding input 'Fruits' in search bar\n",
    "\n",
    "try:\n",
    "    login_window = driver.find_element(By.XPATH,'//button[@class=\"L0Z3Pu\"]') # Finding Search button for clicking through class name\n",
    "    \n",
    "    login_window.click()              # Clicking search button\n",
    "    \n",
    "except NoSuchElementException:\n",
    "    \n",
    "    print('Login Window is not present')    "
   ]
  },
  {
   "cell_type": "code",
   "execution_count": 4,
   "id": "e325570a",
   "metadata": {},
   "outputs": [],
   "source": [
    "try:\n",
    "    Search=driver.find_element(By.CLASS_NAME,\"_3704LK\")                   # Finding Search bar website by  Class name\n",
    "\n",
    "    Search.clear()                                                                 # Clearing any previous input in search bar\n",
    "except NoSuchElementException:\n",
    "    print('Login Window is not present') \n",
    "    \n",
    "Search.send_keys('iphone')                                                       # Feeding input 'Fruits' in search bar\n",
    "\n",
    "try:\n",
    "    login_window = driver.find_element(By.CLASS_NAME,\"L0Z3Pu\") # Finding Search button for clicking through class name\n",
    "    \n",
    "    login_window.click()              # Clicking search button\n",
    "    \n",
    "except NoSuchElementException:\n",
    "    \n",
    "    print('Login Window is not present')    "
   ]
  },
  {
   "cell_type": "code",
   "execution_count": 114,
   "id": "953b4901",
   "metadata": {},
   "outputs": [],
   "source": [
    "# Making empty list to scrape data\n",
    "Brand =[]\n",
    "Smartphone =[]\n",
    "Colour =[]\n",
    "RAM = []\n",
    "Storage_Rom =[]\n",
    "Primary_camera=[]\n",
    "Secondary_camera=[]\n",
    "Display_size=[]\n",
    "\n",
    "Price =[]\n",
    "URL_4 = []"
   ]
  },
  {
   "cell_type": "code",
   "execution_count": 115,
   "id": "280b9e4d",
   "metadata": {},
   "outputs": [],
   "source": [
    "# Scraping product URL of all the phones on page 1\n",
    "\n",
    "url_tag = driver.find_elements(By.XPATH,'//a[@class=\"_1fQZEK\"]')\n",
    "for i in url_tag:\n",
    "    Href=i.get_attribute('href')\n",
    "    URL_4.append(Href)"
   ]
  },
  {
   "cell_type": "code",
   "execution_count": 116,
   "id": "41fe38c5",
   "metadata": {},
   "outputs": [
    {
     "data": {
      "text/plain": [
       "24"
      ]
     },
     "execution_count": 116,
     "metadata": {},
     "output_type": "execute_result"
    }
   ],
   "source": [
    "len(URL_4)"
   ]
  },
  {
   "cell_type": "code",
   "execution_count": 117,
   "id": "3214d985",
   "metadata": {},
   "outputs": [],
   "source": [
    "# Extracting smartphone name \n",
    "Smartphone = []\n",
    "try:\n",
    "    smartphone=driver.find_elements(By.XPATH,'//div[@class=\"_4rR01T\"]')\n",
    "    for i in smartphone:\n",
    "        Smartphone.append(i.text)\n",
    "    \n",
    "except NoSuchElementException:\n",
    "    Smartphone.append('-')"
   ]
  },
  {
   "cell_type": "code",
   "execution_count": 118,
   "id": "e5fecc2c",
   "metadata": {},
   "outputs": [
    {
     "data": {
      "text/plain": [
       "['OnePlus Nord CE 2 Lite 5G (Black Dusk, 128 GB)',\n",
       " 'OnePlus Nord CE 2 Lite 5G (Blue Tide, 128 GB)',\n",
       " 'OnePlus Nord 2T 5G (Gray Shadow, 128 GB)',\n",
       " 'OnePlus Nord 2 5G (Blue Haze, 256 GB)',\n",
       " 'OnePlus Nord CE 2 Lite 5G (Blue Tide, 128 GB)',\n",
       " 'OnePlus Nord CE 2 Lite 5G (Black Dusk, 128 GB)',\n",
       " 'OnePlus Nord 2T 5G (Gray Shadow, 128 GB)',\n",
       " 'OnePlus Nord 2T 5G (Gray Shadow, 256 GB)',\n",
       " 'OnePlus Nord N20 SE (Blue Oasis, 64 MB)',\n",
       " 'OnePlus Nord N20 SE (Blue Oasis, 64 GB)',\n",
       " 'OnePlus Nord CE 2 Lite 5G (Black Dusk, 128 GB)',\n",
       " 'OnePlus Nord N20 SE (Celestial Black, 64 GB)',\n",
       " 'OnePlus Nord 2T 5G (Gray Shadow, 128 GB)',\n",
       " 'OnePlus Nord 2T 5G (Jade Fog, 128 GB)',\n",
       " 'OnePlus Nord 2T 5G (Gray Shadow, 256 GB)',\n",
       " 'OnePlus Nord 2T 5G (Jade Fog, 256 GB)',\n",
       " 'OnePlus Nord 2T 5G (Jade Fog, 256 GB)',\n",
       " 'OnePlus Nord CE 2 Lite 5G (Blue Tide, 128 GB)',\n",
       " 'OnePlus Nord CE 2 Lite 5G (Black Dusk, 128 GB)',\n",
       " 'OnePlus Nord CE 2 Lite 5G (Blue Tide, 128 GB)',\n",
       " 'OnePlus Nord CE 2 5G (Gray Mirror, 128 GB)',\n",
       " 'OnePlus Nord (Blue Marble, 128 GB)',\n",
       " 'OnePlus Nord (Blue Marble, 64 GB)',\n",
       " 'OnePlus Nord (Gray Onyx, 256 GB)']"
      ]
     },
     "execution_count": 118,
     "metadata": {},
     "output_type": "execute_result"
    }
   ],
   "source": [
    "Smartphone"
   ]
  },
  {
   "cell_type": "code",
   "execution_count": 119,
   "id": "9c62f12f",
   "metadata": {},
   "outputs": [],
   "source": [
    "# Extracting Brand Name via Xpath\n",
    "Brand = []\n",
    "for i in range(1,len(URL_4)+1):\n",
    "    br=driver.find_element(By.XPATH,'//div[@class=\"_3879cV\"]')\n",
    "    Brand.append(br.text)"
   ]
  },
  {
   "cell_type": "code",
   "execution_count": 120,
   "id": "86453c8b",
   "metadata": {},
   "outputs": [
    {
     "data": {
      "text/plain": [
       "24"
      ]
     },
     "execution_count": 120,
     "metadata": {},
     "output_type": "execute_result"
    }
   ],
   "source": [
    "len(Brand)"
   ]
  },
  {
   "cell_type": "code",
   "execution_count": 121,
   "id": "3e4ffbd7",
   "metadata": {},
   "outputs": [
    {
     "name": "stdout",
     "output_type": "stream",
     "text": [
      "NoSuchElementException Occur\n",
      "NoSuchElementException Occur\n",
      "NoSuchElementException Occur\n",
      "NoSuchElementException Occur\n",
      "NoSuchElementException Occur\n",
      "NoSuchElementException Occur\n",
      "NoSuchElementException Occur\n",
      "NoSuchElementException Occur\n",
      "NoSuchElementException Occur\n",
      "NoSuchElementException Occur\n",
      "NoSuchElementException Occur\n",
      "NoSuchElementException Occur\n",
      "NoSuchElementException Occur\n",
      "NoSuchElementException Occur\n",
      "NoSuchElementException Occur\n",
      "NoSuchElementException Occur\n",
      "NoSuchElementException Occur\n",
      "NoSuchElementException Occur\n",
      "NoSuchElementException Occur\n",
      "NoSuchElementException Occur\n",
      "NoSuchElementException Occur\n",
      "NoSuchElementException Occur\n",
      "NoSuchElementException Occur\n",
      "NoSuchElementException Occur\n"
     ]
    }
   ],
   "source": [
    "Colour =[]\n",
    "Storage_Rom =[]\n",
    "Primary_camera=[]\n",
    "Secondary_camera=[]\n",
    "Display_size=[]\n",
    "Battery_capacity=[]\n",
    "Price =[]\n",
    "for i in URL_4:\n",
    "    \n",
    "    # Expanding specification table by clicking on read more button\n",
    "    try:\n",
    "        Read_more=driver.find_element(By.XPATH,'//button[@class=\"_2KpZ6l _1FH0tX\"]')\n",
    "        Read_more.click()\n",
    "        \n",
    "    except NoSuchElementException:\n",
    "        print('NoSuchElementException Occur')\n",
    "        pass\n",
    "    \n",
    "    # Extracting Colour via Xpath\n",
    "    try:\n",
    "        colour=driver.find_element(By.XPATH,'//div[@class=\"_3k-BhJ\"][1]/table/tbody/tr[4]/td[2]/ul/li')\n",
    "        Colour.append(colour.text)\n",
    "    \n",
    "    except NoSuchElementException:\n",
    "        Colour.append('-')\n",
    "        \n",
    "     # Extracting Storage Rom via Xpath\n",
    "    try:\n",
    "        Rom=driver.find_element(By.XPATH,'//div[@class=\"_3k-BhJ\"][4]/table/tbody/tr[1]/td[2]/ul/li')\n",
    "        Storage_Rom.append(Rom.text)\n",
    "        \n",
    "    except NoSuchElementException:\n",
    "        Storage_Rom.append('-')\n",
    "        \n",
    "    # Extracting primary camera detail via Xpath\n",
    "    try:\n",
    "        primary_camera=driver.find_element(By.XPATH,'//div[@class=\"_3k-BhJ\"][5]/table/tbody/tr[2]/td[2]/ul/li')\n",
    "        Primary_camera.append(primary_camera.text)\n",
    "    \n",
    "    except NoSuchElementException:\n",
    "        Primary_camera.append('-')\n",
    "        \n",
    "    # Extracting Secondary Camera detail via Xpath\n",
    "    try:\n",
    "        secondary_cam=driver.find_element(By.XPATH,'//div[@class=\"_3k-BhJ\"][5]/table/tbody/tr[5]/td[2]/ul/li')\n",
    "        Secondary_camera.append(secondary_cam.text)\n",
    "    \n",
    "    except NoSuchElementException:\n",
    "        Secondary_camera.append('-')\n",
    "    \n",
    "    # Extracting Display size via Xpath\n",
    "    try:\n",
    "        display=driver.find_element(By.XPATH,'//div[@class=\"_3k-BhJ\"][2]/table/tbody/tr[1]/td[2]/ul/li')\n",
    "        Display_size.append(display.text)\n",
    "    except NoSuchElementException:\n",
    "        Display_size.append('-')\n",
    "        \n",
    "    #Extracting Price via X path\n",
    "    try:\n",
    "        price=driver.find_element(By.XPATH,'//div[@class=\"_30jeq3 _16Jk6d\"]')\n",
    "        Price.append(price.text)\n",
    "    except NoSuchElementException:\n",
    "        Price.append('-')"
   ]
  },
  {
   "cell_type": "code",
   "execution_count": 122,
   "id": "5134b8bd",
   "metadata": {},
   "outputs": [
    {
     "data": {
      "text/plain": [
       "24"
      ]
     },
     "execution_count": 122,
     "metadata": {},
     "output_type": "execute_result"
    }
   ],
   "source": [
    "len(Colour)"
   ]
  },
  {
   "cell_type": "code",
   "execution_count": 123,
   "id": "67e8c319",
   "metadata": {},
   "outputs": [],
   "source": [
    "RAM = []\n",
    "for i in URL_4:\n",
    "#Extracting RAM capacity via X path\n",
    "    try:\n",
    "        ram=driver.find_element(By.XPATH,'//div[@class=\"_3Oikkn _3_ezix _2KarXJ\"]')\n",
    "        RAM.append(ram.text)\n",
    "    except NoSuchElementException:\n",
    "        RAM.append('-')"
   ]
  },
  {
   "cell_type": "code",
   "execution_count": 124,
   "id": "7e329576",
   "metadata": {},
   "outputs": [
    {
     "data": {
      "text/plain": [
       "24"
      ]
     },
     "execution_count": 124,
     "metadata": {},
     "output_type": "execute_result"
    }
   ],
   "source": [
    "len(RAM)"
   ]
  },
  {
   "cell_type": "code",
   "execution_count": 125,
   "id": "f9a0cbf7",
   "metadata": {},
   "outputs": [],
   "source": [
    "Battery_capacity=[]\n",
    "for i in URL_4:\n",
    "#Extracting battery capacity via X path\n",
    "    try:\n",
    "        bat=driver.find_element(By.XPATH,'/html/body/div[1]/div/div[3]/div[1]/div[2]/div[9]/div[4]/div/div[2]/div[1]/div[10]/table/tbody/tr[1]/td[2]/ul/li')\n",
    "        Battery_capacity.append(bat.text)\n",
    "    except NoSuchElementException:\n",
    "        Battery_capacity.append('-')"
   ]
  },
  {
   "cell_type": "code",
   "execution_count": 126,
   "id": "403268d7",
   "metadata": {},
   "outputs": [
    {
     "name": "stdout",
     "output_type": "stream",
     "text": [
      "\u001b[1mFlipkart Oneplus Models :\u001b[0m\n"
     ]
    },
    {
     "data": {
      "text/html": [
       "<div>\n",
       "<style scoped>\n",
       "    .dataframe tbody tr th:only-of-type {\n",
       "        vertical-align: middle;\n",
       "    }\n",
       "\n",
       "    .dataframe tbody tr th {\n",
       "        vertical-align: top;\n",
       "    }\n",
       "\n",
       "    .dataframe thead th {\n",
       "        text-align: right;\n",
       "    }\n",
       "</style>\n",
       "<table border=\"1\" class=\"dataframe\">\n",
       "  <thead>\n",
       "    <tr style=\"text-align: right;\">\n",
       "      <th></th>\n",
       "      <th>Brand Name</th>\n",
       "      <th>Smartphone Name</th>\n",
       "      <th>Colour</th>\n",
       "      <th>Price</th>\n",
       "      <th>RAM</th>\n",
       "      <th>Storage Rom</th>\n",
       "      <th>Primary Camera</th>\n",
       "      <th>Secondary Camera</th>\n",
       "      <th>Display Size</th>\n",
       "      <th>Battery Capacity</th>\n",
       "      <th>Product URL</th>\n",
       "    </tr>\n",
       "  </thead>\n",
       "  <tbody>\n",
       "    <tr>\n",
       "      <th>0</th>\n",
       "      <td>OnePlus</td>\n",
       "      <td>OnePlus Nord CE 2 Lite 5G (Black Dusk, 128 GB)</td>\n",
       "      <td>-</td>\n",
       "      <td>-</td>\n",
       "      <td>-</td>\n",
       "      <td>-</td>\n",
       "      <td>-</td>\n",
       "      <td>-</td>\n",
       "      <td>-</td>\n",
       "      <td>-</td>\n",
       "      <td>https://www.flipkart.com/oneplus-nord-ce-2-lit...</td>\n",
       "    </tr>\n",
       "    <tr>\n",
       "      <th>1</th>\n",
       "      <td>OnePlus</td>\n",
       "      <td>OnePlus Nord CE 2 Lite 5G (Blue Tide, 128 GB)</td>\n",
       "      <td>-</td>\n",
       "      <td>-</td>\n",
       "      <td>-</td>\n",
       "      <td>-</td>\n",
       "      <td>-</td>\n",
       "      <td>-</td>\n",
       "      <td>-</td>\n",
       "      <td>-</td>\n",
       "      <td>https://www.flipkart.com/oneplus-nord-ce-2-lit...</td>\n",
       "    </tr>\n",
       "    <tr>\n",
       "      <th>2</th>\n",
       "      <td>OnePlus</td>\n",
       "      <td>OnePlus Nord 2T 5G (Gray Shadow, 128 GB)</td>\n",
       "      <td>-</td>\n",
       "      <td>-</td>\n",
       "      <td>-</td>\n",
       "      <td>-</td>\n",
       "      <td>-</td>\n",
       "      <td>-</td>\n",
       "      <td>-</td>\n",
       "      <td>-</td>\n",
       "      <td>https://www.flipkart.com/oneplus-nord-2t-5g-gr...</td>\n",
       "    </tr>\n",
       "    <tr>\n",
       "      <th>3</th>\n",
       "      <td>OnePlus</td>\n",
       "      <td>OnePlus Nord 2 5G (Blue Haze, 256 GB)</td>\n",
       "      <td>-</td>\n",
       "      <td>-</td>\n",
       "      <td>-</td>\n",
       "      <td>-</td>\n",
       "      <td>-</td>\n",
       "      <td>-</td>\n",
       "      <td>-</td>\n",
       "      <td>-</td>\n",
       "      <td>https://www.flipkart.com/oneplus-nord-2-5g-blu...</td>\n",
       "    </tr>\n",
       "    <tr>\n",
       "      <th>4</th>\n",
       "      <td>OnePlus</td>\n",
       "      <td>OnePlus Nord CE 2 Lite 5G (Blue Tide, 128 GB)</td>\n",
       "      <td>-</td>\n",
       "      <td>-</td>\n",
       "      <td>-</td>\n",
       "      <td>-</td>\n",
       "      <td>-</td>\n",
       "      <td>-</td>\n",
       "      <td>-</td>\n",
       "      <td>-</td>\n",
       "      <td>https://www.flipkart.com/oneplus-nord-ce-2-lit...</td>\n",
       "    </tr>\n",
       "  </tbody>\n",
       "</table>\n",
       "</div>"
      ],
      "text/plain": [
       "  Brand Name                                 Smartphone Name Colour Price RAM  \\\n",
       "0    OnePlus  OnePlus Nord CE 2 Lite 5G (Black Dusk, 128 GB)      -     -   -   \n",
       "1    OnePlus   OnePlus Nord CE 2 Lite 5G (Blue Tide, 128 GB)      -     -   -   \n",
       "2    OnePlus        OnePlus Nord 2T 5G (Gray Shadow, 128 GB)      -     -   -   \n",
       "3    OnePlus           OnePlus Nord 2 5G (Blue Haze, 256 GB)      -     -   -   \n",
       "4    OnePlus   OnePlus Nord CE 2 Lite 5G (Blue Tide, 128 GB)      -     -   -   \n",
       "\n",
       "  Storage Rom Primary Camera Secondary Camera Display Size Battery Capacity  \\\n",
       "0           -              -                -            -                -   \n",
       "1           -              -                -            -                -   \n",
       "2           -              -                -            -                -   \n",
       "3           -              -                -            -                -   \n",
       "4           -              -                -            -                -   \n",
       "\n",
       "                                         Product URL  \n",
       "0  https://www.flipkart.com/oneplus-nord-ce-2-lit...  \n",
       "1  https://www.flipkart.com/oneplus-nord-ce-2-lit...  \n",
       "2  https://www.flipkart.com/oneplus-nord-2t-5g-gr...  \n",
       "3  https://www.flipkart.com/oneplus-nord-2-5g-blu...  \n",
       "4  https://www.flipkart.com/oneplus-nord-ce-2-lit...  "
      ]
     },
     "execution_count": 126,
     "metadata": {},
     "output_type": "execute_result"
    }
   ],
   "source": [
    "Phone=pd.DataFrame({'Brand Name':Brand,'Smartphone Name':Smartphone,'Colour':Colour,'Price':Price,'RAM':RAM,\n",
    "                        'Storage Rom':Storage_Rom,'Primary Camera':Primary_camera,'Secondary Camera':Secondary_camera,\n",
    "                    'Display Size':Display_size,'Battery Capacity':Battery_capacity,'Price':Price,'Product URL':URL_4})\n",
    "print('\\033[1m'+'Flipkart Oneplus Models :'+'\\033[0m')\n",
    "Phone.head()"
   ]
  },
  {
   "cell_type": "markdown",
   "id": "0e88dc24",
   "metadata": {},
   "source": [
    "**Q5) Write a program to scrap geospatial coordinates (latitude, longitude) of a city searched on google\n",
    "maps.**\n"
   ]
  },
  {
   "cell_type": "code",
   "execution_count": 128,
   "id": "375937fc",
   "metadata": {},
   "outputs": [],
   "source": [
    "# Connecting to webdriver\n",
    "driver=webdriver.Chrome(r'C:\\Users\\Admin\\Chrome webdriver\\chromedriver_win32\\chromedriver.exe')  \n",
    "time.sleep(1)\n",
    "driver.maximize_window()\n",
    "# Opening url in chrome browser\n",
    "url='https://www.google.co.in/maps'\n",
    "driver.get(url)\n",
    "time.sleep(2)"
   ]
  },
  {
   "cell_type": "code",
   "execution_count": 129,
   "id": "bf1751ad",
   "metadata": {},
   "outputs": [],
   "source": [
    "# Finding search menu by ID\n",
    "Search=driver.find_element(By.ID,\"searchboxinput\") \n",
    "# clearing any previous input in search bar\n",
    "Search.clear()\n",
    "# Feeding input specified by user to search menu through send keys\n",
    "Search.send_keys('Bhopal')\n",
    "# Finding Search button for clicking through ID\n",
    "Search_button=driver.find_element(By.ID,\"searchbox-searchbutton\")  \n",
    "# Clicking search button\n",
    "Search_button.click()"
   ]
  },
  {
   "cell_type": "code",
   "execution_count": 130,
   "id": "363903ac",
   "metadata": {},
   "outputs": [
    {
     "name": "stdout",
     "output_type": "stream",
     "text": [
      "Current url : https://www.google.co.in/maps/place/Bhopal,+Madhya+Pradesh/@23.1993477,77.2658049,11z/data=!3m1!4b1!4m5!3m4!1s0x397c428f8fd68fbd:0x2155716d572d4f8!8m2!3d23.2599333!4d77.412615\n"
     ]
    }
   ],
   "source": [
    "current_url=driver.current_url\n",
    "print('Current url :',current_url)"
   ]
  },
  {
   "cell_type": "code",
   "execution_count": 131,
   "id": "35dc3205",
   "metadata": {},
   "outputs": [
    {
     "name": "stdout",
     "output_type": "stream",
     "text": [
      "Latitude of given Location: 23.1993477\n",
      "Longitude of given Location: 77.2658049\n"
     ]
    }
   ],
   "source": [
    "try:\n",
    "    if \"@\" in current_url:\n",
    "        location=current_url.split('@')[1].split(',*/data')[0].split(',')\n",
    "        location\n",
    "        print('Latitude of given Location:',location[0])\n",
    "        print('Longitude of given Location:',location[1])\n",
    "except:\n",
    "    print('Location detail not found in url')"
   ]
  },
  {
   "cell_type": "code",
   "execution_count": 132,
   "id": "58203de9",
   "metadata": {},
   "outputs": [],
   "source": [
    "driver.close()"
   ]
  },
  {
   "cell_type": "markdown",
   "id": "2a48c736",
   "metadata": {},
   "source": [
    "**Q6) Write a program to scrap details of all the funding deals for last quarter (i.e Jan 21 – March 21) \n",
    "from trak.in.**"
   ]
  },
  {
   "cell_type": "code",
   "execution_count": 133,
   "id": "c51b8526",
   "metadata": {},
   "outputs": [],
   "source": [
    "# Connecting to webdriver\n",
    "driver=webdriver.Chrome(r'C:\\Users\\Admin\\Chrome webdriver\\chromedriver_win32\\chromedriver.exe')  \n",
    "time.sleep(1)\n",
    "driver.maximize_window()\n",
    "# Opening url in chrome browser\n",
    "url='https://www.trak.in'\n",
    "driver.get(url)\n",
    "time.sleep(2)"
   ]
  },
  {
   "cell_type": "code",
   "execution_count": 134,
   "id": "246a5e93",
   "metadata": {},
   "outputs": [],
   "source": [
    "# Clicking funding deals button\n",
    "Funding_deals=driver.find_element(By.XPATH,'//li[@id=\"menu-item-51510\"]/a').get_attribute('href')\n",
    "driver.get(Funding_deals)"
   ]
  },
  {
   "cell_type": "code",
   "execution_count": 145,
   "id": "844f19f2",
   "metadata": {},
   "outputs": [],
   "source": [
    "# Making Empty list to scrap data\n",
    "Date=[]\n",
    "Startup_Name=[]\n",
    "Industry_Vertical=[]\n",
    "Sub_vertical=[]\n",
    "City_Location=[]\n",
    "Investor_Name=[]\n",
    "Investment_type=[]\n",
    "Amount_In_USD=[]"
   ]
  },
  {
   "cell_type": "code",
   "execution_count": 146,
   "id": "ba470ae9",
   "metadata": {},
   "outputs": [
    {
     "name": "stderr",
     "output_type": "stream",
     "text": [
      "100%|████████████████████████████████████████████████████████████████████████████████████| 3/3 [00:01<00:00,  1.51it/s]\n"
     ]
    }
   ],
   "source": [
    "from tqdm import tqdm\n",
    "for i in tqdm(range(54,57)):\n",
    "    # Extracting Date from table\n",
    "    try:\n",
    "        date=driver.find_elements(By.XPATH,'//table[@id=\"tablepress-{}\"]/tbody/tr/td[2]'.format(i))\n",
    "        for j in date:\n",
    "            Date.append(j.text)\n",
    "    except:\n",
    "        Date.append('NA')\n",
    "        \n",
    "    # Extracting startup name via xpath\n",
    "    try:\n",
    "        startup=driver.find_elements(By.XPATH,'//table[@id=\"tablepress-{}\"]/tbody/tr/td[3]'.format(i))\n",
    "        for j in startup:\n",
    "            Startup_Name.append(j.text)\n",
    "    except:\n",
    "        Startup_Name.append('NA')\n",
    "    \n",
    "    # Extracting Industry vertical via Xpath\n",
    "    try:\n",
    "        industry=driver.find_elements(By.XPATH,'//table[@id=\"tablepress-{}\"]/tbody/tr/td[4]'.format(i))\n",
    "        for j in industry:\n",
    "            Industry_Vertical.append(j.text)\n",
    "    except:\n",
    "        Industry_Vertical.append('NA')\n",
    "    \n",
    "    # Extracting subvertical via xpath\n",
    "    try:\n",
    "        subvertical=driver.find_elements(By.XPATH,'//table[@id=\"tablepress-{}\"]/tbody/tr/td[5]'.format(i))\n",
    "        for j in subvertical:\n",
    "            Sub_vertical.append(j.text)\n",
    "    except:\n",
    "        Sub_vertical.append('NA')\n",
    "    \n",
    "    # Extracting city/location via xpath\n",
    "    try:\n",
    "        city=driver.find_elements(By.XPATH,'//table[@id=\"tablepress-{}\"]/tbody/tr/td[6]'.format(i))\n",
    "        for j in city:\n",
    "            City_Location.append(j.text)\n",
    "    except:\n",
    "        City_Location.append('NA')\n",
    "        \n",
    "    # Extracting Investor via xpath\n",
    "    try:\n",
    "        investor=driver.find_elements(By.XPATH,'//table[@id=\"tablepress-{}\"]/tbody/tr/td[7]'.format(i))\n",
    "        for j in investor:\n",
    "            Investor_Name.append(j.text)\n",
    "    except:\n",
    "        Investor_Name.append('NA')\n",
    "        \n",
    "    # Extracting Investment type via xpath\n",
    "    try:\n",
    "        investment_type=driver.find_elements(By.XPATH,'//table[@id=\"tablepress-{}\"]/tbody/tr/td[8]'.format(i))\n",
    "        for j in investment_type:\n",
    "            Investment_type.append(j.text)\n",
    "    except:\n",
    "        Investment_type.append('NA')\n",
    "        \n",
    "    # Extracting Amount type via xpath\n",
    "    try:\n",
    "        amount=driver.find_elements(By.XPATH,'//table[@id=\"tablepress-{}\"]/tbody/tr/td[9]'.format(i))\n",
    "        for j in amount:\n",
    "            Amount_In_USD.append(j.text)\n",
    "    except:\n",
    "        Amount_In_USD.append('NA')"
   ]
  },
  {
   "cell_type": "code",
   "execution_count": 147,
   "id": "e0cb67e1",
   "metadata": {},
   "outputs": [
    {
     "name": "stdout",
     "output_type": "stream",
     "text": [
      "\u001b[1mFunding deals in last quarter (i.e. January 21 –March 21) :\u001b[0m\n"
     ]
    },
    {
     "data": {
      "text/html": [
       "<div>\n",
       "<style scoped>\n",
       "    .dataframe tbody tr th:only-of-type {\n",
       "        vertical-align: middle;\n",
       "    }\n",
       "\n",
       "    .dataframe tbody tr th {\n",
       "        vertical-align: top;\n",
       "    }\n",
       "\n",
       "    .dataframe thead th {\n",
       "        text-align: right;\n",
       "    }\n",
       "</style>\n",
       "<table border=\"1\" class=\"dataframe\">\n",
       "  <thead>\n",
       "    <tr style=\"text-align: right;\">\n",
       "      <th></th>\n",
       "      <th>Date</th>\n",
       "      <th>Startup Company</th>\n",
       "      <th>Industry/Vertical</th>\n",
       "      <th>Sub-Vertical</th>\n",
       "      <th>City/Location</th>\n",
       "      <th>Investor Name</th>\n",
       "      <th>Investment Type</th>\n",
       "      <th>Amount In USD</th>\n",
       "    </tr>\n",
       "  </thead>\n",
       "  <tbody>\n",
       "    <tr>\n",
       "      <th>0</th>\n",
       "      <td>15/01/2021</td>\n",
       "      <td>Digit Insurance</td>\n",
       "      <td>Financial Services</td>\n",
       "      <td>Insurance Services</td>\n",
       "      <td>Bengaluru</td>\n",
       "      <td>A91 Partners, Faering Capital, TVS Capital Funds</td>\n",
       "      <td>Venture</td>\n",
       "      <td>1,80,00,000</td>\n",
       "    </tr>\n",
       "    <tr>\n",
       "      <th>1</th>\n",
       "      <td>28/01/2021</td>\n",
       "      <td>Bombay Shaving Company</td>\n",
       "      <td>Consumer Goods Company</td>\n",
       "      <td>Shave care, beard care, and skincare products</td>\n",
       "      <td>New Delhi</td>\n",
       "      <td>Reckitt Benckiser</td>\n",
       "      <td>Venture</td>\n",
       "      <td>6,172,258.50</td>\n",
       "    </tr>\n",
       "    <tr>\n",
       "      <th>2</th>\n",
       "      <td>19/01/2021</td>\n",
       "      <td>DeHaat</td>\n",
       "      <td>AgriTech Startup</td>\n",
       "      <td>online marketplace for farm products and services</td>\n",
       "      <td>Patna</td>\n",
       "      <td>Prosus Ventures</td>\n",
       "      <td>Series C</td>\n",
       "      <td>30,000,000</td>\n",
       "    </tr>\n",
       "    <tr>\n",
       "      <th>3</th>\n",
       "      <td>19/01/2021</td>\n",
       "      <td>Darwinbox</td>\n",
       "      <td>SaaS</td>\n",
       "      <td>HR Tech</td>\n",
       "      <td>Mumbai</td>\n",
       "      <td>Salesforce Ventures</td>\n",
       "      <td>Seed</td>\n",
       "      <td>15,000,000</td>\n",
       "    </tr>\n",
       "    <tr>\n",
       "      <th>4</th>\n",
       "      <td>18/01/2021</td>\n",
       "      <td>mfine</td>\n",
       "      <td>Health Tech Startup</td>\n",
       "      <td>AI-powered telemedicine mobile app</td>\n",
       "      <td>Bengaluru</td>\n",
       "      <td>Heritas Capital Management</td>\n",
       "      <td>Venture Round</td>\n",
       "      <td>16,000,000</td>\n",
       "    </tr>\n",
       "    <tr>\n",
       "      <th>5</th>\n",
       "      <td>18/01/2021</td>\n",
       "      <td>Udayy</td>\n",
       "      <td>EdTech</td>\n",
       "      <td>Online learning platform for kids in class 1-5</td>\n",
       "      <td>Gurgaon</td>\n",
       "      <td>Sequoia Capital</td>\n",
       "      <td>Seed Funding</td>\n",
       "      <td>15,000,000</td>\n",
       "    </tr>\n",
       "    <tr>\n",
       "      <th>6</th>\n",
       "      <td>11/01/2021</td>\n",
       "      <td>True Elements</td>\n",
       "      <td>Food Startup</td>\n",
       "      <td>Whole Food plant based Nashta</td>\n",
       "      <td>Pune</td>\n",
       "      <td>SIDBI Venture Capital</td>\n",
       "      <td>Series</td>\n",
       "      <td>100,000,000</td>\n",
       "    </tr>\n",
       "    <tr>\n",
       "      <th>7</th>\n",
       "      <td>13/01/2021</td>\n",
       "      <td>Saveo</td>\n",
       "      <td>B2B E-commerce</td>\n",
       "      <td>Pharmacies</td>\n",
       "      <td>Bengaluru</td>\n",
       "      <td>Matrix Partners India, RTP Global, others</td>\n",
       "      <td>Seed</td>\n",
       "      <td>4,000,000</td>\n",
       "    </tr>\n",
       "    <tr>\n",
       "      <th>8</th>\n",
       "      <td>11/02/2021</td>\n",
       "      <td>Doubtnut</td>\n",
       "      <td>Edu Tech</td>\n",
       "      <td>E-Learning Platform</td>\n",
       "      <td>Gurgaon</td>\n",
       "      <td>SIG Global, Sequoia Capital, WaterBridge Ventu...</td>\n",
       "      <td>Series B</td>\n",
       "      <td>2,500,000</td>\n",
       "    </tr>\n",
       "    <tr>\n",
       "      <th>9</th>\n",
       "      <td>22/02/2021</td>\n",
       "      <td>Zomato</td>\n",
       "      <td>Hospitality</td>\n",
       "      <td>Online Food Delivery Platform</td>\n",
       "      <td>Gurgaon</td>\n",
       "      <td>Tiger Global, Kora</td>\n",
       "      <td>Venture</td>\n",
       "      <td>250,000,000</td>\n",
       "    </tr>\n",
       "    <tr>\n",
       "      <th>10</th>\n",
       "      <td>19/02/2021</td>\n",
       "      <td>Fingerlix</td>\n",
       "      <td>Hospitality</td>\n",
       "      <td>Semi-cooked food delivery app</td>\n",
       "      <td>Mumbai</td>\n",
       "      <td>Rhodium Trust, Accel Partners and Swiggy</td>\n",
       "      <td>Series C</td>\n",
       "      <td>2,747,045.20</td>\n",
       "    </tr>\n",
       "    <tr>\n",
       "      <th>11</th>\n",
       "      <td>17/02/2021</td>\n",
       "      <td>Zolve</td>\n",
       "      <td>FinTech</td>\n",
       "      <td>Global Neobank Venture</td>\n",
       "      <td>Mumbai</td>\n",
       "      <td>Accel Partners and Lightspeed Venture Partners</td>\n",
       "      <td>Seed</td>\n",
       "      <td>1,50,00,000</td>\n",
       "    </tr>\n",
       "    <tr>\n",
       "      <th>12</th>\n",
       "      <td>15/02/2021</td>\n",
       "      <td>KreditBee</td>\n",
       "      <td>Finance</td>\n",
       "      <td>Digital lending platform</td>\n",
       "      <td>Bengaluru</td>\n",
       "      <td>Azim Premji’s PremjiInvest and South Korea’s M...</td>\n",
       "      <td>Series C</td>\n",
       "      <td>75,000,000</td>\n",
       "    </tr>\n",
       "    <tr>\n",
       "      <th>13</th>\n",
       "      <td>12/02/2021</td>\n",
       "      <td>Pepperfry</td>\n",
       "      <td>E-commerce</td>\n",
       "      <td>Multi-brand furniture brand</td>\n",
       "      <td>Mumbai</td>\n",
       "      <td>InnoVen Capital</td>\n",
       "      <td>Debt Financing</td>\n",
       "      <td>4,773,958</td>\n",
       "    </tr>\n",
       "    <tr>\n",
       "      <th>14</th>\n",
       "      <td>12/02/2021</td>\n",
       "      <td>Grofers</td>\n",
       "      <td>E-Commerce</td>\n",
       "      <td>Online supermarket</td>\n",
       "      <td>Gurgaon</td>\n",
       "      <td>SoftBank Vision Fund (SVF)</td>\n",
       "      <td>Unspecified</td>\n",
       "      <td>55,000,000</td>\n",
       "    </tr>\n",
       "    <tr>\n",
       "      <th>15</th>\n",
       "      <td>09/02/2021</td>\n",
       "      <td>Nothing</td>\n",
       "      <td>Technology</td>\n",
       "      <td>Consumer Technology Venture</td>\n",
       "      <td>London</td>\n",
       "      <td>GV</td>\n",
       "      <td>Series A</td>\n",
       "      <td>15,000,000</td>\n",
       "    </tr>\n",
       "    <tr>\n",
       "      <th>16</th>\n",
       "      <td>09/02/2021</td>\n",
       "      <td>SplashLearn</td>\n",
       "      <td>EdTech</td>\n",
       "      <td>Game-based learning programme</td>\n",
       "      <td>Gurgaon</td>\n",
       "      <td>Owl Ventures</td>\n",
       "      <td>Series C</td>\n",
       "      <td>18,000,000</td>\n",
       "    </tr>\n",
       "    <tr>\n",
       "      <th>17</th>\n",
       "      <td>04/03/2021</td>\n",
       "      <td>DealShare</td>\n",
       "      <td>E-commerce</td>\n",
       "      <td>Online shopping platform</td>\n",
       "      <td>Jaipur, Rajasthan</td>\n",
       "      <td>Innoven Capital</td>\n",
       "      <td>Debt Financing</td>\n",
       "      <td>250,000,000</td>\n",
       "    </tr>\n",
       "    <tr>\n",
       "      <th>18</th>\n",
       "      <td>31/03/2021</td>\n",
       "      <td>Uniphore</td>\n",
       "      <td>Technology</td>\n",
       "      <td>Conversational Service Automation (CSA)</td>\n",
       "      <td>Palo Alto</td>\n",
       "      <td>Sorenson Capital Partners</td>\n",
       "      <td>Series D</td>\n",
       "      <td>140,000,000</td>\n",
       "    </tr>\n",
       "    <tr>\n",
       "      <th>19</th>\n",
       "      <td>30/03/2021</td>\n",
       "      <td>Dunzo</td>\n",
       "      <td>E-commerce</td>\n",
       "      <td>Hyper-local delivery app</td>\n",
       "      <td>Bengaluru</td>\n",
       "      <td>Krishtal Advisors Pte Ltd</td>\n",
       "      <td>Series E</td>\n",
       "      <td>8,000,000</td>\n",
       "    </tr>\n",
       "    <tr>\n",
       "      <th>20</th>\n",
       "      <td>30/03/2021</td>\n",
       "      <td>BYJU’S</td>\n",
       "      <td>Edu-tech</td>\n",
       "      <td>Online tutoring</td>\n",
       "      <td>Bengaluru</td>\n",
       "      <td>MC Global Edtech, B Capital, Baron, others</td>\n",
       "      <td>Series F</td>\n",
       "      <td>460,000,000</td>\n",
       "    </tr>\n",
       "    <tr>\n",
       "      <th>21</th>\n",
       "      <td>23/03/2021</td>\n",
       "      <td>SkilloVilla</td>\n",
       "      <td>Edu-tech</td>\n",
       "      <td>Career and job-oriented upskilling.</td>\n",
       "      <td>Bengaluru</td>\n",
       "      <td>Titan Capital, others</td>\n",
       "      <td>Seed</td>\n",
       "      <td>300,000,000</td>\n",
       "    </tr>\n",
       "    <tr>\n",
       "      <th>22</th>\n",
       "      <td>25/03/2021</td>\n",
       "      <td>CityMall</td>\n",
       "      <td>E-commerce</td>\n",
       "      <td>Social ecommerce and online grocery platform</td>\n",
       "      <td>Gurgaon</td>\n",
       "      <td>Accel Partners</td>\n",
       "      <td>Series A</td>\n",
       "      <td>11,000,000</td>\n",
       "    </tr>\n",
       "    <tr>\n",
       "      <th>23</th>\n",
       "      <td>26/03/2021</td>\n",
       "      <td>DotPe</td>\n",
       "      <td>FinTech</td>\n",
       "      <td>Commerce and payments platform to offline ente...</td>\n",
       "      <td>Gurgaon</td>\n",
       "      <td>PayU</td>\n",
       "      <td>Series A</td>\n",
       "      <td>27,500,000</td>\n",
       "    </tr>\n",
       "  </tbody>\n",
       "</table>\n",
       "</div>"
      ],
      "text/plain": [
       "          Date         Startup Company       Industry/Vertical  \\\n",
       "0   15/01/2021         Digit Insurance      Financial Services   \n",
       "1   28/01/2021  Bombay Shaving Company  Consumer Goods Company   \n",
       "2   19/01/2021                  DeHaat        AgriTech Startup   \n",
       "3   19/01/2021               Darwinbox                    SaaS   \n",
       "4   18/01/2021                   mfine     Health Tech Startup   \n",
       "5   18/01/2021                   Udayy                  EdTech   \n",
       "6   11/01/2021           True Elements            Food Startup   \n",
       "7   13/01/2021                   Saveo          B2B E-commerce   \n",
       "8   11/02/2021                Doubtnut                Edu Tech   \n",
       "9   22/02/2021                  Zomato             Hospitality   \n",
       "10  19/02/2021               Fingerlix             Hospitality   \n",
       "11  17/02/2021                   Zolve                 FinTech   \n",
       "12  15/02/2021               KreditBee                 Finance   \n",
       "13  12/02/2021               Pepperfry              E-commerce   \n",
       "14  12/02/2021                 Grofers              E-Commerce   \n",
       "15  09/02/2021                 Nothing              Technology   \n",
       "16  09/02/2021             SplashLearn                  EdTech   \n",
       "17  04/03/2021               DealShare              E-commerce   \n",
       "18  31/03/2021                Uniphore              Technology   \n",
       "19  30/03/2021                   Dunzo              E-commerce   \n",
       "20  30/03/2021                  BYJU’S                Edu-tech   \n",
       "21  23/03/2021             SkilloVilla                Edu-tech   \n",
       "22  25/03/2021                CityMall              E-commerce   \n",
       "23  26/03/2021                   DotPe                 FinTech   \n",
       "\n",
       "                                         Sub-Vertical      City/Location  \\\n",
       "0                                  Insurance Services          Bengaluru   \n",
       "1       Shave care, beard care, and skincare products          New Delhi   \n",
       "2   online marketplace for farm products and services              Patna   \n",
       "3                                             HR Tech             Mumbai   \n",
       "4                  AI-powered telemedicine mobile app          Bengaluru   \n",
       "5      Online learning platform for kids in class 1-5            Gurgaon   \n",
       "6                       Whole Food plant based Nashta               Pune   \n",
       "7                                          Pharmacies          Bengaluru   \n",
       "8                                 E-Learning Platform            Gurgaon   \n",
       "9                       Online Food Delivery Platform            Gurgaon   \n",
       "10                      Semi-cooked food delivery app             Mumbai   \n",
       "11                             Global Neobank Venture             Mumbai   \n",
       "12                           Digital lending platform          Bengaluru   \n",
       "13                        Multi-brand furniture brand             Mumbai   \n",
       "14                                 Online supermarket            Gurgaon   \n",
       "15                        Consumer Technology Venture             London   \n",
       "16                      Game-based learning programme            Gurgaon   \n",
       "17                           Online shopping platform  Jaipur, Rajasthan   \n",
       "18            Conversational Service Automation (CSA)          Palo Alto   \n",
       "19                           Hyper-local delivery app          Bengaluru   \n",
       "20                                    Online tutoring          Bengaluru   \n",
       "21                Career and job-oriented upskilling.          Bengaluru   \n",
       "22       Social ecommerce and online grocery platform            Gurgaon   \n",
       "23  Commerce and payments platform to offline ente...            Gurgaon   \n",
       "\n",
       "                                        Investor Name Investment Type  \\\n",
       "0    A91 Partners, Faering Capital, TVS Capital Funds         Venture   \n",
       "1                                   Reckitt Benckiser         Venture   \n",
       "2                                     Prosus Ventures        Series C   \n",
       "3                                 Salesforce Ventures            Seed   \n",
       "4                          Heritas Capital Management   Venture Round   \n",
       "5                                     Sequoia Capital    Seed Funding   \n",
       "6                               SIDBI Venture Capital          Series   \n",
       "7           Matrix Partners India, RTP Global, others            Seed   \n",
       "8   SIG Global, Sequoia Capital, WaterBridge Ventu...        Series B   \n",
       "9                                  Tiger Global, Kora         Venture   \n",
       "10           Rhodium Trust, Accel Partners and Swiggy        Series C   \n",
       "11     Accel Partners and Lightspeed Venture Partners            Seed   \n",
       "12  Azim Premji’s PremjiInvest and South Korea’s M...        Series C   \n",
       "13                                    InnoVen Capital  Debt Financing   \n",
       "14                         SoftBank Vision Fund (SVF)     Unspecified   \n",
       "15                                                 GV        Series A   \n",
       "16                                       Owl Ventures        Series C   \n",
       "17                                    Innoven Capital  Debt Financing   \n",
       "18                          Sorenson Capital Partners        Series D   \n",
       "19                          Krishtal Advisors Pte Ltd        Series E   \n",
       "20         MC Global Edtech, B Capital, Baron, others        Series F   \n",
       "21                              Titan Capital, others            Seed   \n",
       "22                                     Accel Partners        Series A   \n",
       "23                                               PayU        Series A   \n",
       "\n",
       "   Amount In USD  \n",
       "0    1,80,00,000  \n",
       "1   6,172,258.50  \n",
       "2     30,000,000  \n",
       "3     15,000,000  \n",
       "4     16,000,000  \n",
       "5     15,000,000  \n",
       "6    100,000,000  \n",
       "7      4,000,000  \n",
       "8      2,500,000  \n",
       "9    250,000,000  \n",
       "10  2,747,045.20  \n",
       "11   1,50,00,000  \n",
       "12    75,000,000  \n",
       "13     4,773,958  \n",
       "14    55,000,000  \n",
       "15    15,000,000  \n",
       "16    18,000,000  \n",
       "17   250,000,000  \n",
       "18   140,000,000  \n",
       "19     8,000,000  \n",
       "20   460,000,000  \n",
       "21   300,000,000  \n",
       "22    11,000,000  \n",
       "23    27,500,000  "
      ]
     },
     "execution_count": 147,
     "metadata": {},
     "output_type": "execute_result"
    }
   ],
   "source": [
    "Funding=pd.DataFrame({'Date':Date,'Startup Company':Startup_Name,'Industry/Vertical':Industry_Vertical,'Sub-Vertical':Sub_vertical,'City/Location':City_Location,\n",
    "                        'Investor Name':Investor_Name,'Investment Type':Investment_type,'Amount In USD':Amount_In_USD})\n",
    "print('\\033[1m'+'Funding deals in last quarter (i.e. January 21 –March 21) :'+'\\033[0m')\n",
    "Funding"
   ]
  },
  {
   "cell_type": "code",
   "execution_count": 148,
   "id": "d8efe7fa",
   "metadata": {},
   "outputs": [],
   "source": [
    "driver.close()"
   ]
  },
  {
   "cell_type": "markdown",
   "id": "b199efe2",
   "metadata": {},
   "source": [
    "**Q7) Write a program to scrap all the available details of best gaming laptops from digit.in**"
   ]
  },
  {
   "cell_type": "code",
   "execution_count": 2,
   "id": "6cbfcb20",
   "metadata": {},
   "outputs": [],
   "source": [
    "# Connecting to webdriver\n",
    "driver=webdriver.Chrome(r'C:\\Users\\Admin\\Chrome webdriver\\chromedriver_win32\\chromedriver.exe') \n",
    "time.sleep(1)\n",
    "driver.maximize_window()\n",
    "# Opening url in chrome browser\n",
    "url='https://www.digit.in'\n",
    "driver.get(url)\n",
    "time.sleep(2)"
   ]
  },
  {
   "cell_type": "code",
   "execution_count": 3,
   "id": "3840dd07",
   "metadata": {},
   "outputs": [],
   "source": [
    "# Clicking on top 10 option button in menu bar\n",
    "driver.find_element(By.XPATH,'//div[@class=\"menu\"]/ul/li[4]/a').click()\n",
    "time.sleep(2)\n",
    "\n",
    "# Clicking on Laptop under table\n",
    "driver.find_element(By.XPATH,'//div[@class=\"categoty_list\"]/button[2]').click()\n",
    "\n",
    "# Opening Best gaming laptops link\n",
    "Gaming_lappy=driver.find_element(By.XPATH,'//div[@id=\"laptops\"]/div[3]/a').get_attribute('href')\n",
    "driver.get(Gaming_lappy)\n",
    "time.sleep(2)"
   ]
  },
  {
   "cell_type": "code",
   "execution_count": 4,
   "id": "ca4c9026",
   "metadata": {},
   "outputs": [],
   "source": [
    "# Making Empty list for scraping data\n",
    "Laptop_model =[]\n",
    "OS =[]\n",
    "Display = []\n",
    "Processor =[]\n",
    "Memory =[]\n",
    "Weight =[]\n",
    "Dimension =[]\n",
    "Graphics_processor =[]\n",
    "Price =[]"
   ]
  },
  {
   "cell_type": "code",
   "execution_count": 8,
   "id": "796a5d6a",
   "metadata": {},
   "outputs": [],
   "source": [
    "# Extracting Laptop model via Xpath\n",
    "for i in range(0,11):\n",
    "    laptop_model=driver.find_elements(By.XPATH,'//table[@id=\"summtable\"]'.format(i))\n",
    "    for j in laptop_model:\n",
    "        Laptop_model.append(j.text)"
   ]
  },
  {
   "cell_type": "code",
   "execution_count": 233,
   "id": "92696b4a",
   "metadata": {},
   "outputs": [],
   "source": [
    "# Extracting Laptop model via Xpath\n",
    "Laptop_model = []\n",
    "laptop_model=driver.find_elements(By.XPATH,'//table[@id=\"summtable\"]')\n",
    "for j in laptop_model:\n",
    "    Laptop_model.append(j.text.split('\\n')[1:])"
   ]
  },
  {
   "cell_type": "code",
   "execution_count": 154,
   "id": "775fbe29",
   "metadata": {},
   "outputs": [],
   "source": [
    "# Extracting OS on Laptop model via Xpath\n",
    "os=driver.find_elements(By.XPATH,'//div[@class=\"Spcs-details\"]/table/tbody/tr[3]/td[3]')\n",
    "for j in os:\n",
    "    OS.append(j.text)  "
   ]
  },
  {
   "cell_type": "code",
   "execution_count": 155,
   "id": "874ca7e9",
   "metadata": {},
   "outputs": [],
   "source": [
    "# Extracting Display vertical via Xpath\n",
    "display=driver.find_elements(By.XPATH,'//div[@class=\"Spcs-details\"]/table/tbody/tr[4]/td[3]')\n",
    "for j in display:\n",
    "    Display.append(j.text)"
   ]
  },
  {
   "cell_type": "code",
   "execution_count": 156,
   "id": "a0b99b1a",
   "metadata": {},
   "outputs": [],
   "source": [
    "# Extracting Processor via xpath\n",
    "processor=driver.find_elements(By.XPATH,'//div[@class=\"Spcs-details\"]/table/tbody/tr[5]/td[3]')\n",
    "for j in processor:\n",
    "    Processor.append(j.text)"
   ]
  },
  {
   "cell_type": "code",
   "execution_count": 157,
   "id": "12ad3e80",
   "metadata": {},
   "outputs": [],
   "source": [
    "# Extracting Memory via xpath\n",
    "memory=driver.find_elements(By.XPATH,'//div[@class=\"Spcs-details\"]/table/tbody/tr[6]/td[3]')\n",
    "for j in memory:\n",
    "    Memory.append(j.text)"
   ]
  },
  {
   "cell_type": "code",
   "execution_count": 158,
   "id": "e9920a80",
   "metadata": {},
   "outputs": [],
   "source": [
    "# Extracting Laptop Weight via xpath\n",
    "weight=driver.find_elements(By.XPATH,'//div[@class=\"Spcs-details\"]/table/tbody/tr[7]/td[3]')\n",
    "for j in weight:\n",
    "    Weight.append(j.text)"
   ]
  },
  {
   "cell_type": "code",
   "execution_count": 159,
   "id": "5e8421a7",
   "metadata": {},
   "outputs": [],
   "source": [
    "# Extracting Dimension via xpath\n",
    "dimension=driver.find_elements(By.XPATH,'//div[@class=\"Spcs-details\"]/table/tbody/tr[8]/td[3]')\n",
    "for j in dimension:\n",
    "    Dimension.append(j.text)"
   ]
  },
  {
   "cell_type": "code",
   "execution_count": 160,
   "id": "49e7396e",
   "metadata": {},
   "outputs": [],
   "source": [
    "# Extracting Graphics Processor type via xpath\n",
    "graphics_processor=driver.find_elements(By.XPATH,'//div[@class=\"Spcs-details\"]/table/tbody/tr[9]/td[3]')\n",
    "for j in graphics_processor:\n",
    "    Graphics_processor.append(j.text)"
   ]
  },
  {
   "cell_type": "code",
   "execution_count": 161,
   "id": "bcec174f",
   "metadata": {},
   "outputs": [],
   "source": [
    "# Extracting Laptop Price type via xpath\n",
    "price=driver.find_elements(By.XPATH,'//table[@id=\"summtable\"]//tr//td[3]')\n",
    "for j in price:\n",
    "    Price.append(j.text)"
   ]
  },
  {
   "cell_type": "code",
   "execution_count": 12,
   "id": "de29df84",
   "metadata": {},
   "outputs": [],
   "source": [
    "# Extracting Laptop model via Xpath\n",
    "Laptop_model = []\n",
    "laptop_model=driver.find_element(By.XPATH,'/html/body/div[5]/div[1]/div[3]/div[2]/div[15]/table/tbody/tr[1]/td[1]')\n",
    "\n",
    "Laptop_model.append(j.text.split('\\n')[1:])"
   ]
  },
  {
   "cell_type": "code",
   "execution_count": 14,
   "id": "a4468138",
   "metadata": {},
   "outputs": [
    {
     "data": {
      "text/plain": [
       "list"
      ]
     },
     "execution_count": 14,
     "metadata": {},
     "output_type": "execute_result"
    }
   ],
   "source": [
    "\n",
    "type(Laptop_model)"
   ]
  },
  {
   "cell_type": "code",
   "execution_count": 13,
   "id": "3b001e04",
   "metadata": {},
   "outputs": [
    {
     "data": {
      "text/plain": [
       "[['MSI Titan GT77-12UHS N/A N/A',\n",
       "  'Alienware x17 R2 Croma ₹ 389,990',\n",
       "  'Acer Predator Triton 500 SE PT516-52s Amazon ₹ 229,990',\n",
       "  'Omen by HP (16-B1371TX) Amazon ₹ 176,290',\n",
       "  'Acer Predator Helios 300 AN515-45 N/A ₹ 172,999',\n",
       "  'MSI Delta 15 (A5EFK-083IN) N/A ₹ 188,990',\n",
       "  'Omen by HP (16-c0141AX) Croma ₹ 124,990',\n",
       "  'Lenovo Legion 5i Pro (82RF00MGIN) Amazon ₹ 162,869',\n",
       "  'Alienware m15 R5 Ryzen Edition icc-c780001win Amazon ₹ 174,000',\n",
       "  'Lenovo Slim 7 Gen 6 (82K8002JIN) Croma ₹ 131,990']]"
      ]
     },
     "execution_count": 13,
     "metadata": {},
     "output_type": "execute_result"
    }
   ],
   "source": [
    "Laptop_model"
   ]
  },
  {
   "cell_type": "code",
   "execution_count": 15,
   "id": "35d0d286",
   "metadata": {},
   "outputs": [
    {
     "data": {
      "text/plain": [
       "['MSI Titan GT77-12UHS N/A N/A',\n",
       " 'Alienware x17 R2 Croma ₹ 389,990',\n",
       " 'Acer Predator Triton 500 SE PT516-52s Amazon ₹ 229,990',\n",
       " 'Omen by HP (16-B1371TX) Amazon ₹ 176,290',\n",
       " 'Acer Predator Helios 300 AN515-45 N/A ₹ 172,999',\n",
       " 'MSI Delta 15 (A5EFK-083IN) N/A ₹ 188,990',\n",
       " 'Omen by HP (16-c0141AX) Croma ₹ 124,990',\n",
       " 'Lenovo Legion 5i Pro (82RF00MGIN) Amazon ₹ 162,869',\n",
       " 'Alienware m15 R5 Ryzen Edition icc-c780001win Amazon ₹ 174,000',\n",
       " 'Lenovo Slim 7 Gen 6 (82K8002JIN) Croma ₹ 131,990']"
      ]
     },
     "execution_count": 15,
     "metadata": {},
     "output_type": "execute_result"
    }
   ],
   "source": [
    "Laptop_model[0]"
   ]
  },
  {
   "cell_type": "code",
   "execution_count": null,
   "id": "ad4e1bf6",
   "metadata": {},
   "outputs": [],
   "source": [
    "#Make data frame\n",
    "Gaming_Laptops=pd.DataFrame({\"Laptop Model\":Laptop_model,\"Price\":Price, \"OS\":OS,\"Display\":Display,\"Memory\":Memory,\"Processor\":Processor,\n",
    "                 \"Weight\":Weight,\"Dimension\":Dimension,\"Graphical processor\":Graphics_processor})\n",
    "print('\\033[1m'+'Best Gaming Laptop :'+'\\033[0m')\n",
    "Gaming_Laptops"
   ]
  },
  {
   "cell_type": "markdown",
   "id": "5caaee88",
   "metadata": {},
   "source": [
    "**Q8) Write a python program to scrape the details for all billionaires from www.forbes.com. Details to be \n",
    "scrapped: “Rank”, “Name”, “Net worth”, “Age”, “Citizenship”, “Source”, “Industry”.**"
   ]
  },
  {
   "cell_type": "code",
   "execution_count": 16,
   "id": "7b76d6b5",
   "metadata": {},
   "outputs": [],
   "source": [
    "# Connecting to webdriver\n",
    "driver=webdriver.Chrome(r'C:\\Users\\Admin\\Chrome webdriver\\chromedriver_win32\\chromedriver.exe') \n",
    "time.sleep(1)\n",
    "driver.maximize_window()\n",
    "# Opening url in chrome browser\n",
    "url=\"https://www.forbes.com\"\n",
    "driver.get(url)\n",
    "time.sleep(1)"
   ]
  },
  {
   "cell_type": "code",
   "execution_count": 19,
   "id": "ab5a0256",
   "metadata": {},
   "outputs": [],
   "source": [
    "# Clicking on explore button to expand menu\n",
    "driver.find_element(By.XPATH,'//div[@class=\"_69hVhdY4\"]').click()\n",
    "\n",
    "# Clicking on Billionaire category\n",
    "driver.find_element(By.XPATH,'//div[@class=\"mpBfVZz3\"]').click()\n",
    "\n",
    "# Clicking on world billionaire tab\n",
    "driver.find_element(By.XPATH,'/html/body/div[1]/header/nav/div[1]/div/div/div[2]/ul/li[1]/div[2]/div[3]/ul/li[1]/a').click()"
   ]
  },
  {
   "cell_type": "code",
   "execution_count": 20,
   "id": "ab144a20",
   "metadata": {},
   "outputs": [],
   "source": [
    "# Empty list to scrap data\n",
    "Rank =[]\n",
    "Name=[]\n",
    "Net_worth=[]\n",
    "Age=[]\n",
    "Citizenship=[]\n",
    "Source=[]\n",
    "Industry=[]"
   ]
  },
  {
   "cell_type": "code",
   "execution_count": 22,
   "id": "d3bbb8ff",
   "metadata": {},
   "outputs": [],
   "source": [
    "# Extracting Rank\n",
    "rank=driver.find_elements(By.XPATH,'//div[@class=\"rank\"]')\n",
    "for i in rank:\n",
    "    Rank.append(i.text)"
   ]
  },
  {
   "cell_type": "code",
   "execution_count": 24,
   "id": "c34016c4",
   "metadata": {},
   "outputs": [],
   "source": [
    "# Extacting name\n",
    "name=driver.find_elements(By.XPATH,'//div[@class=\"personName\"]/div')\n",
    "for i in name:\n",
    "    Name.append(i.text)"
   ]
  },
  {
   "cell_type": "code",
   "execution_count": 26,
   "id": "9b235c9a",
   "metadata": {},
   "outputs": [],
   "source": [
    "#Extracting Net worth\n",
    "net=driver.find_elements(By.XPATH,'//div[@class=\"netWorth\"]/div')\n",
    "for i in net:\n",
    "    Net_worth.append(i.text)"
   ]
  },
  {
   "cell_type": "code",
   "execution_count": 27,
   "id": "229fa547",
   "metadata": {},
   "outputs": [],
   "source": [
    "# Extracting Age\n",
    "age=driver.find_elements(By.XPATH,'//div[@class=\"age\"]/div')\n",
    "for i in age:\n",
    "    Age.append(i.text)"
   ]
  },
  {
   "cell_type": "code",
   "execution_count": 28,
   "id": "aae99017",
   "metadata": {},
   "outputs": [],
   "source": [
    " # Extracting Citizenship\n",
    "citizen=driver.find_elements(By.XPATH,'//div[@class=\"countryOfCitizenship\"]')\n",
    "for i in citizen:\n",
    "    Citizenship.append(i.text)"
   ]
  },
  {
   "cell_type": "code",
   "execution_count": 29,
   "id": "7c219161",
   "metadata": {},
   "outputs": [],
   "source": [
    "# Extracting Source\n",
    "try:\n",
    "    source=driver.find_elements(By.XPATH,'//div[@class=\"source-column\"]')\n",
    "    for i in source:\n",
    "        Source.append(i.text)\n",
    "except:\n",
    "    source=driver.find_elements(By.XPATH,'//*[@id=\"jeff-bezos\"]/div[6]/div/div[1]')\n",
    "    Source.append(i.text)"
   ]
  },
  {
   "cell_type": "code",
   "execution_count": 35,
   "id": "f981a7e7",
   "metadata": {},
   "outputs": [],
   "source": [
    "# Extracting Industry\n",
    "industry=driver.find_elements(By.XPATH,\"//div[@class='category']//div\")\n",
    "for i in industry:\n",
    "    Industry.append(i.text)"
   ]
  },
  {
   "cell_type": "code",
   "execution_count": 37,
   "id": "530fa267",
   "metadata": {},
   "outputs": [
    {
     "name": "stdout",
     "output_type": "stream",
     "text": [
      "\u001b[1m Forbes World Billionaires List Nov 2022 :\u001b[0m\n"
     ]
    },
    {
     "data": {
      "text/html": [
       "<div>\n",
       "<style scoped>\n",
       "    .dataframe tbody tr th:only-of-type {\n",
       "        vertical-align: middle;\n",
       "    }\n",
       "\n",
       "    .dataframe tbody tr th {\n",
       "        vertical-align: top;\n",
       "    }\n",
       "\n",
       "    .dataframe thead th {\n",
       "        text-align: right;\n",
       "    }\n",
       "</style>\n",
       "<table border=\"1\" class=\"dataframe\">\n",
       "  <thead>\n",
       "    <tr style=\"text-align: right;\">\n",
       "      <th></th>\n",
       "      <th>Rank</th>\n",
       "      <th>Name</th>\n",
       "      <th>Net Worth</th>\n",
       "      <th>Age</th>\n",
       "      <th>Citizenship</th>\n",
       "      <th>Source</th>\n",
       "      <th>Industry</th>\n",
       "    </tr>\n",
       "  </thead>\n",
       "  <tbody>\n",
       "    <tr>\n",
       "      <th>0</th>\n",
       "      <td>1.</td>\n",
       "      <td>Elon Musk</td>\n",
       "      <td>$219 B</td>\n",
       "      <td></td>\n",
       "      <td>United States</td>\n",
       "      <td>Tesla, SpaceX</td>\n",
       "      <td></td>\n",
       "    </tr>\n",
       "    <tr>\n",
       "      <th>1</th>\n",
       "      <td>2.</td>\n",
       "      <td>Jeff Bezos</td>\n",
       "      <td>$171 B</td>\n",
       "      <td></td>\n",
       "      <td>United States</td>\n",
       "      <td>Amazon</td>\n",
       "      <td></td>\n",
       "    </tr>\n",
       "    <tr>\n",
       "      <th>2</th>\n",
       "      <td>3.</td>\n",
       "      <td>Bernard Arnault &amp; family</td>\n",
       "      <td>$158 B</td>\n",
       "      <td></td>\n",
       "      <td>France</td>\n",
       "      <td>LVMH</td>\n",
       "      <td></td>\n",
       "    </tr>\n",
       "    <tr>\n",
       "      <th>3</th>\n",
       "      <td>4.</td>\n",
       "      <td>Bill Gates</td>\n",
       "      <td>$129 B</td>\n",
       "      <td></td>\n",
       "      <td>United States</td>\n",
       "      <td>Microsoft</td>\n",
       "      <td></td>\n",
       "    </tr>\n",
       "    <tr>\n",
       "      <th>4</th>\n",
       "      <td>5.</td>\n",
       "      <td>Warren Buffett</td>\n",
       "      <td>$118 B</td>\n",
       "      <td></td>\n",
       "      <td>United States</td>\n",
       "      <td>Berkshire Hathaway</td>\n",
       "      <td></td>\n",
       "    </tr>\n",
       "    <tr>\n",
       "      <th>...</th>\n",
       "      <td>...</td>\n",
       "      <td>...</td>\n",
       "      <td>...</td>\n",
       "      <td>...</td>\n",
       "      <td>...</td>\n",
       "      <td>...</td>\n",
       "      <td>...</td>\n",
       "    </tr>\n",
       "    <tr>\n",
       "      <th>195</th>\n",
       "      <td>192.</td>\n",
       "      <td>Marcel Herrmann Telles</td>\n",
       "      <td>$10.3 B</td>\n",
       "      <td></td>\n",
       "      <td>Brazil</td>\n",
       "      <td>beer</td>\n",
       "      <td></td>\n",
       "    </tr>\n",
       "    <tr>\n",
       "      <th>196</th>\n",
       "      <td>197.</td>\n",
       "      <td>Leon Black</td>\n",
       "      <td>$10 B</td>\n",
       "      <td></td>\n",
       "      <td>United States</td>\n",
       "      <td>private equity</td>\n",
       "      <td></td>\n",
       "    </tr>\n",
       "    <tr>\n",
       "      <th>197</th>\n",
       "      <td>197.</td>\n",
       "      <td>Joe Gebbia</td>\n",
       "      <td>$10 B</td>\n",
       "      <td></td>\n",
       "      <td>United States</td>\n",
       "      <td>Airbnb</td>\n",
       "      <td></td>\n",
       "    </tr>\n",
       "    <tr>\n",
       "      <th>198</th>\n",
       "      <td>197.</td>\n",
       "      <td>David Geffen</td>\n",
       "      <td>$10 B</td>\n",
       "      <td></td>\n",
       "      <td>United States</td>\n",
       "      <td>movies, record labels</td>\n",
       "      <td></td>\n",
       "    </tr>\n",
       "    <tr>\n",
       "      <th>199</th>\n",
       "      <td>197.</td>\n",
       "      <td>Yu Renrong</td>\n",
       "      <td>$10 B</td>\n",
       "      <td></td>\n",
       "      <td>China</td>\n",
       "      <td>semiconductors</td>\n",
       "      <td></td>\n",
       "    </tr>\n",
       "  </tbody>\n",
       "</table>\n",
       "<p>200 rows × 7 columns</p>\n",
       "</div>"
      ],
      "text/plain": [
       "     Rank                      Name Net Worth Age    Citizenship  \\\n",
       "0      1.                 Elon Musk    $219 B      United States   \n",
       "1      2.                Jeff Bezos    $171 B      United States   \n",
       "2      3.  Bernard Arnault & family    $158 B             France   \n",
       "3      4.                Bill Gates    $129 B      United States   \n",
       "4      5.            Warren Buffett    $118 B      United States   \n",
       "..    ...                       ...       ...  ..            ...   \n",
       "195  192.    Marcel Herrmann Telles   $10.3 B             Brazil   \n",
       "196  197.                Leon Black     $10 B      United States   \n",
       "197  197.                Joe Gebbia     $10 B      United States   \n",
       "198  197.              David Geffen     $10 B      United States   \n",
       "199  197.                Yu Renrong     $10 B              China   \n",
       "\n",
       "                    Source Industry  \n",
       "0            Tesla, SpaceX           \n",
       "1                   Amazon           \n",
       "2                     LVMH           \n",
       "3                Microsoft           \n",
       "4       Berkshire Hathaway           \n",
       "..                     ...      ...  \n",
       "195                   beer           \n",
       "196         private equity           \n",
       "197                 Airbnb           \n",
       "198  movies, record labels           \n",
       "199         semiconductors           \n",
       "\n",
       "[200 rows x 7 columns]"
      ]
     },
     "execution_count": 37,
     "metadata": {},
     "output_type": "execute_result"
    }
   ],
   "source": [
    "#creating dataframe\n",
    "Forbes_list=pd.DataFrame({'Rank':Rank,'Name':Name,'Net Worth':Net_worth,'Age':Age,'Citizenship':Citizenship,\n",
    "                'Source':Source,'Industry':Industry})\n",
    "print('\\033[1m'+' Forbes World Billionaires List Nov 2022 :'+'\\033[0m')\n",
    "Forbes_list"
   ]
  },
  {
   "cell_type": "code",
   "execution_count": 38,
   "id": "d6557f8d",
   "metadata": {},
   "outputs": [],
   "source": [
    "driver.close()"
   ]
  },
  {
   "cell_type": "markdown",
   "id": "81943c85",
   "metadata": {},
   "source": [
    "**Q9) Write a program to extract at least 500 Comments, Comment upvote and time when comment was posted \n",
    "from any YouTube Video**"
   ]
  },
  {
   "cell_type": "code",
   "execution_count": 47,
   "id": "09613bca",
   "metadata": {},
   "outputs": [],
   "source": [
    "# Connecting to webdriver\n",
    "driver=webdriver.Chrome(r'C:\\Users\\Admin\\Chrome webdriver\\chromedriver_win32\\chromedriver.exe') \n",
    "time.sleep(1)\n",
    "driver.maximize_window()\n",
    "# Opening url in chrome browser\n",
    "url=\"https://www.youtube.com\"\n",
    "driver.get(url)\n",
    "time.sleep(1)"
   ]
  },
  {
   "cell_type": "code",
   "execution_count": 48,
   "id": "08a6df3b",
   "metadata": {},
   "outputs": [],
   "source": [
    "# Finding search menu by xpath\n",
    "Search=driver.find_element(By.XPATH,'//input[@id=\"search\"]') \n",
    "# Feeding input video name by user to search menu through send keys\n",
    "Search.send_keys('हम मरना नहीं चाहते | Dhamaal - Movie In Part 05 | Sanjay Dutt | Arshad Warsi')\n",
    "# Finding Search button for clicking through xpath\n",
    "Search_button=driver.find_element(By.XPATH,'//button[@id=\"search-icon-legacy\"]/yt-icon')  \n",
    "# Clicking search button\n",
    "Search_button.click()\n",
    "time.sleep(2)"
   ]
  },
  {
   "cell_type": "code",
   "execution_count": 49,
   "id": "4e8360d9",
   "metadata": {},
   "outputs": [],
   "source": [
    "# Clicking on video\n",
    "link = driver.find_element(By.XPATH,'/html/body/ytd-app/div[1]/ytd-page-manager/ytd-search/div[1]/ytd-two-column-search-results-renderer/div[2]/div/ytd-section-list-renderer/div[2]/ytd-item-section-renderer/div[3]/ytd-video-renderer[1]/div[1]/div/div[1]/div/h3/a/yt-formatted-string')\n",
    "link.click()"
   ]
  },
  {
   "cell_type": "code",
   "execution_count": 147,
   "id": "71b265a2",
   "metadata": {},
   "outputs": [],
   "source": [
    "# Empty lists to scrap data\n",
    "Comments = []\n",
    "Comment_posted_ago = []\n",
    "Timeline = []\n",
    "Likes = []\n",
    "No_of_Likes = []"
   ]
  },
  {
   "cell_type": "code",
   "execution_count": 148,
   "id": "213e984d",
   "metadata": {},
   "outputs": [],
   "source": [
    "# Scrolling window using ScrollBy method from 0 pixel to 15000 pixel\n",
    "driver.execute_script(\"window.scrollBy(0,1000000)\",\"\")"
   ]
  },
  {
   "cell_type": "code",
   "execution_count": 149,
   "id": "86f74742",
   "metadata": {},
   "outputs": [
    {
     "name": "stderr",
     "output_type": "stream",
     "text": [
      "100%|████████████████████████████████████████████████████████████████████████████████| 929/929 [00:19<00:00, 47.40it/s]\n"
     ]
    }
   ],
   "source": [
    "#extracting comment on video\n",
    "comment = driver.find_elements(By.ID,\"content-text\")\n",
    "time.sleep(3)\n",
    "from tqdm import tqdm\n",
    "for i in tqdm(comment):\n",
    "    if i.text is None:\n",
    "        Comments.append(\"--\")\n",
    "    else:\n",
    "        Comments.append(i.text)\n",
    "time.sleep(2)"
   ]
  },
  {
   "cell_type": "code",
   "execution_count": 150,
   "id": "167472b1",
   "metadata": {},
   "outputs": [
    {
     "name": "stderr",
     "output_type": "stream",
     "text": [
      "100%|████████████████████████████████████████████████████████████████████████████████| 929/929 [00:17<00:00, 53.09it/s]\n",
      "100%|████████████████████████████████████████████████████████████████████████████████████████| 465/465 [00:00<?, ?it/s]\n"
     ]
    }
   ],
   "source": [
    "# Extracting time of commenting\n",
    "timeline = driver.find_elements(By.XPATH,\"//a[contains(text(),'ago')]\")\n",
    "time.sleep(3)\n",
    "from tqdm import tqdm\n",
    "for i in tqdm(timeline):\n",
    "    if i.text is None:\n",
    "        Timeline.append(\"-\")\n",
    "    else:\n",
    "        Timeline.append(i.text)\n",
    "for i in tqdm(range(0,len(Timeline),2)):\n",
    "    Comment_posted_ago.append(Timeline[i])"
   ]
  },
  {
   "cell_type": "code",
   "execution_count": 151,
   "id": "013ccaf7",
   "metadata": {},
   "outputs": [],
   "source": [
    "# scrape the comment likes\n",
    "like = driver.find_elements(By.XPATH,\"//span[@class='style-scope ytd-comment-action-buttons-renderer']\")\n",
    "for i in like:\n",
    "    Likes.append(i.text)\n",
    "    \n",
    "for i in range(1,len(Likes),2):\n",
    "    No_of_Likes.append(Likes[i])\n",
    "time.sleep(3)"
   ]
  },
  {
   "cell_type": "code",
   "execution_count": 152,
   "id": "fa28bc82",
   "metadata": {},
   "outputs": [
    {
     "data": {
      "text/plain": [
       "(929, 465, 929)"
      ]
     },
     "execution_count": 152,
     "metadata": {},
     "output_type": "execute_result"
    }
   ],
   "source": [
    "len(Comments),len(Comment_posted_ago),len(No_of_Likes)"
   ]
  },
  {
   "cell_type": "code",
   "execution_count": 153,
   "id": "04f2a65a",
   "metadata": {},
   "outputs": [
    {
     "data": {
      "text/html": [
       "<div>\n",
       "<style scoped>\n",
       "    .dataframe tbody tr th:only-of-type {\n",
       "        vertical-align: middle;\n",
       "    }\n",
       "\n",
       "    .dataframe tbody tr th {\n",
       "        vertical-align: top;\n",
       "    }\n",
       "\n",
       "    .dataframe thead th {\n",
       "        text-align: right;\n",
       "    }\n",
       "</style>\n",
       "<table border=\"1\" class=\"dataframe\">\n",
       "  <thead>\n",
       "    <tr style=\"text-align: right;\">\n",
       "      <th></th>\n",
       "      <th>Comments</th>\n",
       "      <th>Comment Posted Ago</th>\n",
       "      <th>No. of Likes</th>\n",
       "    </tr>\n",
       "  </thead>\n",
       "  <tbody>\n",
       "    <tr>\n",
       "      <th>0</th>\n",
       "      <td>Abhi tak ki behtreen comedy hai is movie me</td>\n",
       "      <td>1 year ago</td>\n",
       "      <td>19</td>\n",
       "    </tr>\n",
       "    <tr>\n",
       "      <th>1</th>\n",
       "      <td>18:38 best comedy part</td>\n",
       "      <td>1 year ago</td>\n",
       "      <td>15</td>\n",
       "    </tr>\n",
       "    <tr>\n",
       "      <th>2</th>\n",
       "      <td>Vijay Raaz is beyond superb</td>\n",
       "      <td>1 year ago</td>\n",
       "      <td>9</td>\n",
       "    </tr>\n",
       "    <tr>\n",
       "      <th>3</th>\n",
       "      <td>Unforgettable comedy  movie</td>\n",
       "      <td>1 year ago</td>\n",
       "      <td>26</td>\n",
       "    </tr>\n",
       "    <tr>\n",
       "      <th>4</th>\n",
       "      <td>This movie is epitome of situational comedy</td>\n",
       "      <td>1 year ago</td>\n",
       "      <td>79</td>\n",
       "    </tr>\n",
       "    <tr>\n",
       "      <th>...</th>\n",
       "      <td>...</td>\n",
       "      <td>...</td>\n",
       "      <td>...</td>\n",
       "    </tr>\n",
       "    <tr>\n",
       "      <th>460</th>\n",
       "      <td>Ok</td>\n",
       "      <td>1 year ago</td>\n",
       "      <td>1</td>\n",
       "    </tr>\n",
       "    <tr>\n",
       "      <th>461</th>\n",
       "      <td>Ok</td>\n",
       "      <td>1 year ago</td>\n",
       "      <td>1</td>\n",
       "    </tr>\n",
       "    <tr>\n",
       "      <th>462</th>\n",
       "      <td></td>\n",
       "      <td>1 year ago</td>\n",
       "      <td>7</td>\n",
       "    </tr>\n",
       "    <tr>\n",
       "      <th>463</th>\n",
       "      <td></td>\n",
       "      <td>1 year ago</td>\n",
       "      <td>2</td>\n",
       "    </tr>\n",
       "    <tr>\n",
       "      <th>464</th>\n",
       "      <td>Aaza</td>\n",
       "      <td>1 year ago</td>\n",
       "      <td>1</td>\n",
       "    </tr>\n",
       "  </tbody>\n",
       "</table>\n",
       "<p>465 rows × 3 columns</p>\n",
       "</div>"
      ],
      "text/plain": [
       "                                         Comments Comment Posted Ago  \\\n",
       "0     Abhi tak ki behtreen comedy hai is movie me         1 year ago   \n",
       "1                          18:38 best comedy part         1 year ago   \n",
       "2                     Vijay Raaz is beyond superb         1 year ago   \n",
       "3                     Unforgettable comedy  movie         1 year ago   \n",
       "4    This movie is epitome of situational comedy          1 year ago   \n",
       "..                                            ...                ...   \n",
       "460                                            Ok         1 year ago   \n",
       "461                                            Ok         1 year ago   \n",
       "462                                                       1 year ago   \n",
       "463                                                       1 year ago   \n",
       "464                                          Aaza         1 year ago   \n",
       "\n",
       "    No. of Likes  \n",
       "0             19  \n",
       "1             15  \n",
       "2              9  \n",
       "3             26  \n",
       "4             79  \n",
       "..           ...  \n",
       "460            1  \n",
       "461            1  \n",
       "462            7  \n",
       "463            2  \n",
       "464            1  \n",
       "\n",
       "[465 rows x 3 columns]"
      ]
     },
     "execution_count": 153,
     "metadata": {},
     "output_type": "execute_result"
    }
   ],
   "source": [
    "YT=pd.DataFrame({})\n",
    "YT['Comments']=Comments[:465]\n",
    "YT['Comment Posted Ago']=Comment_posted_ago[:465]\n",
    "YT['No. of Likes']=No_of_Likes[:465]\n",
    "YT"
   ]
  },
  {
   "cell_type": "code",
   "execution_count": 154,
   "id": "d2910808",
   "metadata": {},
   "outputs": [],
   "source": [
    "driver.close()"
   ]
  },
  {
   "cell_type": "markdown",
   "id": "ee5ba1aa",
   "metadata": {},
   "source": [
    "**Q10) Write a python program to scrape a data for all available Hostels from https://www.hostelworld.com/ in \n",
    "“London” location. You have to scrape hostel name, distance from city centre, ratings, total reviews, \n",
    "overall reviews, privates from price, dorms from price, facilities and property description.**"
   ]
  },
  {
   "cell_type": "code",
   "execution_count": 19,
   "id": "49220c39",
   "metadata": {},
   "outputs": [],
   "source": [
    "# Connecting to webdriver\n",
    "driver=webdriver.Chrome(r'C:\\Users\\Admin\\Chrome webdriver\\chromedriver_win32\\chromedriver.exe') \n",
    "time.sleep(1)\n",
    "driver.maximize_window()\n",
    "# Opening url in chrome browser\n",
    "url=\"https://www.hostelworld.com\"\n",
    "driver.get(url)\n",
    "time.sleep(1)"
   ]
  },
  {
   "cell_type": "code",
   "execution_count": 20,
   "id": "300f6890",
   "metadata": {},
   "outputs": [],
   "source": [
    "# Click on Accomodation\n",
    "driver.find_element(By.XPATH,'/html/body/div[3]/div/div/div[2]/div[1]/div/div/div[3]/div/ul/li[1]').click()"
   ]
  },
  {
   "cell_type": "code",
   "execution_count": 22,
   "id": "81ceb780",
   "metadata": {},
   "outputs": [],
   "source": [
    "#locating the location search bar\n",
    "Search = driver.find_element(By.XPATH,'/html/body/div[3]/div/div/div[2]/div[1]/div/div/div[4]/div/div[2]/div/div[1]/div/div/div/input')\n",
    "\n",
    "# Sending input London in search bar\n",
    "Search.send_keys(\"London\")\n",
    "time.sleep(1)\n",
    "\n",
    "#select london\n",
    "london = driver.find_element(By.XPATH,'/html/body/div[3]/div/div/div[2]/div[1]/div/div/div[4]/div/div[2]/div/div[1]/div/div/ul/li[2]/div')\n",
    "london.click()\n",
    "time.sleep(2)\n",
    "\n",
    "# do click on search button\n",
    "Search_button = driver.find_element(By.XPATH,'//button[@class=\"button primary large\"]')\n",
    "Search_button.click()"
   ]
  },
  {
   "cell_type": "code",
   "execution_count": 23,
   "id": "83f84066",
   "metadata": {},
   "outputs": [],
   "source": [
    "#lets find required data\n",
    "hostel_name = []\n",
    "distance = []\n",
    "pvt_prices = []\n",
    "dorms_price = []\n",
    "rating = []\n",
    "reviews = []\n",
    "over_all = []\n",
    "facilities = []\n",
    "description =[]\n"
   ]
  },
  {
   "cell_type": "code",
   "execution_count": 24,
   "id": "42c1768f",
   "metadata": {},
   "outputs": [],
   "source": [
    "#fetching hostel name\n",
    "try:\n",
    "    name = driver.find_elements(By.XPATH,\"//h2[@class='title title-6']\")\n",
    "    for i in name:\n",
    "        hostel_name.append(i.text)\n",
    "except NoSuchElementException:\n",
    "    hostel_name.append('-')\n",
    "        \n",
    "#fetching distance from city centre\n",
    "    \n",
    "try:\n",
    "    dist = driver.find_elements(By.XPATH,\"//div[@class='subtitle body-3']//a//span[1]\")\n",
    "    for i in dist:\n",
    "        distance.append(i.text.replace('Hostel - ',''))\n",
    "except NoSuchElementException:\n",
    "    distance.append('-')\n",
    "        \n",
    "for i in driver.find_elements(By.XPATH,\"//div[@class='prices-col']\"):\n",
    "#fetch privates from price\n",
    "    try:\n",
    "        pvt_price = driver.find_element(By.XPATH,\"//a[@class='prices']//div[1]//div\")\n",
    "        pvt_prices.append(pvt_price.text)\n",
    "    except NoSuchElementException:\n",
    "        pvt_prices.append('-')\n",
    "#fetching dorms from price\n",
    "for i in driver.find_elements(By.XPATH,\"//div[@class='prices-col']\"):\n",
    "    try:\n",
    "        dorms = driver.find_element(By.XPATH,\"//a[@class='prices']//div[2]//div\")\n",
    "        dorms_price.append(dorms.text)\n",
    "    except NoSuchElementException:\n",
    "        dorms_price.append('-')\n",
    "#fetching facilities\n",
    "try:\n",
    "    fac1 = driver.find_elements(By.XPATH,\"//div[@class='has-wifi']\")\n",
    "    fac2 = driver.find_elements(By.XPATH,\"//div[@class='has-sanitation']\")\n",
    "    for i in fac1:\n",
    "        for j in fac2:\n",
    "            facilities.append(i.text +', '+ j.text )\n",
    "except NoSuchElementException:\n",
    "    facilities.append('-')\n"
   ]
  },
  {
   "cell_type": "code",
   "execution_count": 25,
   "id": "8ef523d6",
   "metadata": {},
   "outputs": [],
   "source": [
    "\n",
    "#fetching ratings\n",
    "try:\n",
    "    rat = driver.find_element(By.XPATH,\"//div[@class='score orange big' or @class='score gray big']\")\n",
    "    rating.append(rat.text)\n",
    "except NoSuchElementException:\n",
    "    rating.append('-')\n",
    "#fetching total reviews\n",
    "        \n",
    "try:\n",
    "    rws = driver.find_element(By.XPATH,\"//div[@class='reviews']\")\n",
    "    reviews.append(rws.text.replace('Total Reviews',''))\n",
    "except NoSuchElementException:\n",
    "    reviews.append('-')\n",
    "#fetch overall review\n",
    "try:\n",
    "    overall_rw = driver.find_element(By.XPATH,\"//div[@class='keyword']//span\")\n",
    "    over_all.append(overall_rw.text)\n",
    "except NoSuchElementException:\n",
    "    over_all.append('-')\n",
    "#fetch property description \n",
    "try:\n",
    "    disc = driver.find_element(By.XPATH,\"//div[@class='content']\")\n",
    "    description.append(disc.text)\n",
    "except NoSuchElementException:\n",
    "    over_all.append('-')"
   ]
  },
  {
   "cell_type": "code",
   "execution_count": 26,
   "id": "707cc7ff",
   "metadata": {},
   "outputs": [
    {
     "name": "stdout",
     "output_type": "stream",
     "text": [
      "\u001b[1m Hostel Available in London :\u001b[0m\n"
     ]
    },
    {
     "data": {
      "text/html": [
       "<div>\n",
       "<style scoped>\n",
       "    .dataframe tbody tr th:only-of-type {\n",
       "        vertical-align: middle;\n",
       "    }\n",
       "\n",
       "    .dataframe tbody tr th {\n",
       "        vertical-align: top;\n",
       "    }\n",
       "\n",
       "    .dataframe thead th {\n",
       "        text-align: right;\n",
       "    }\n",
       "</style>\n",
       "<table border=\"1\" class=\"dataframe\">\n",
       "  <thead>\n",
       "    <tr style=\"text-align: right;\">\n",
       "      <th></th>\n",
       "      <th>Hostel name</th>\n",
       "      <th>Distance from city centre</th>\n",
       "      <th>ratings</th>\n",
       "      <th>Total reviews</th>\n",
       "      <th>Overall review</th>\n",
       "      <th>Privates from price</th>\n",
       "      <th>Dorms from price</th>\n",
       "      <th>Facilities</th>\n",
       "      <th>Property Description</th>\n",
       "    </tr>\n",
       "  </thead>\n",
       "  <tbody>\n",
       "  </tbody>\n",
       "</table>\n",
       "</div>"
      ],
      "text/plain": [
       "Empty DataFrame\n",
       "Columns: [Hostel name, Distance from city centre, ratings, Total reviews, Overall review, Privates from price, Dorms from price, Facilities, Property Description]\n",
       "Index: []"
      ]
     },
     "execution_count": 26,
     "metadata": {},
     "output_type": "execute_result"
    }
   ],
   "source": [
    "#creating dataframe\n",
    "data = list(zip(hostel_name,distance,rating,reviews,over_all,pvt_prices,dorms_price,facilities,description))       \n",
    "Hostel = pd.DataFrame(data, columns = [\"Hostel name\",\"Distance from city centre\",\"ratings\",\"Total reviews\",\"Overall review\",\"Privates from price\",\"Dorms from price\",\"Facilities\",\"Property Description\"])\n",
    "print('\\033[1m'+' Hostel Available in London :'+'\\033[0m')\n",
    "Hostel.head()"
   ]
  },
  {
   "cell_type": "code",
   "execution_count": null,
   "id": "8f3f5010",
   "metadata": {},
   "outputs": [],
   "source": []
  }
 ],
 "metadata": {
  "kernelspec": {
   "display_name": "Python 3 (ipykernel)",
   "language": "python",
   "name": "python3"
  },
  "language_info": {
   "codemirror_mode": {
    "name": "ipython",
    "version": 3
   },
   "file_extension": ".py",
   "mimetype": "text/x-python",
   "name": "python",
   "nbconvert_exporter": "python",
   "pygments_lexer": "ipython3",
   "version": "3.9.12"
  }
 },
 "nbformat": 4,
 "nbformat_minor": 5
}
