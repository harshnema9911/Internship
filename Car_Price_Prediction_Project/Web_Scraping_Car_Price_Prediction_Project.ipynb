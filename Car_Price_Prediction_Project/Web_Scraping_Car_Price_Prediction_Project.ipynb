{
 "cells": [
  {
   "cell_type": "markdown",
   "id": "da6b6a1d",
   "metadata": {},
   "source": [
    "# Web Scraping for Car Price Prediction Project"
   ]
  },
  {
   "cell_type": "markdown",
   "id": "35eaefb8",
   "metadata": {},
   "source": [
    "**Data Collection Phase**\n",
    "\n",
    "*We have to scrape at least 5000 used cars data. We can scrape more data as well, it’s up to us,more the data better the model.\n",
    "In this section we need to scrape the data of used cars from websites (Olx, cardekho, Cars24 etc.) We need web scraping for this and have to fetch data for different locations. The number of columns for data doesn’t have limit, it’s up to us and our creativity. Generally, these columns are Brand, model, variant, manufacturing year, driven kilometers, fuel, number of owners, location and at last target variable Price of the car. This data is to give us a hint about important variables in used car model. We can make changes to it, we can add or can remove some columns, it completely depends on the website from which we are fetching the data. We will try to include all types of cars in our data for example- SUV, Sedans, Coupe, minivan, Hatchback.*\n"
   ]
  },
  {
   "cell_type": "code",
   "execution_count": 1,
   "id": "bb13abe6",
   "metadata": {},
   "outputs": [],
   "source": [
    "#Let's import all required libraries\n",
    "import selenium                                    #library that is used to work with selenium\n",
    "from selenium import webdriver                     # importing webdriver module from selenium to open automated chrome window\n",
    "import pandas as pd                                # to create dataframe\n",
    "from selenium.webdriver.common.by import By        # importing inbuilt class By\n",
    "import warnings                                    # to ignore any sort of warnings\n",
    "warnings.filterwarnings(\"ignore\") \n",
    "import time                                        # use to stop search engine for few seconds\n",
    "from selenium.common.exceptions import NoSuchElementException\n",
    "from selenium.webdriver.support.ui import WebDriverWait\n",
    "from selenium.webdriver.support import expected_conditions as EC\n",
    "from selenium.common.exceptions import StaleElementReferenceException\n",
    "from selenium.common.exceptions import ElementNotInteractableException"
   ]
  },
  {
   "cell_type": "code",
   "execution_count": 2,
   "id": "f879a5dd",
   "metadata": {},
   "outputs": [],
   "source": [
    "# Let's first connect to the web driver\n",
    "\n",
    "driver = webdriver.Chrome(r'C:\\Users\\Admin\\Chrome webdriver\\chromedriver_win32\\chromedriver.exe')\n",
    "\n",
    "#Let's maximize the automated window\n",
    "\n",
    "driver.maximize_window()"
   ]
  },
  {
   "cell_type": "code",
   "execution_count": 29,
   "id": "82cc46e0",
   "metadata": {},
   "outputs": [],
   "source": [
    "url = \"https://www.cardekho.com/\"\n",
    "driver.get(url)\n",
    "time.sleep(2)"
   ]
  },
  {
   "cell_type": "markdown",
   "id": "9a403a0d",
   "metadata": {},
   "source": [
    "# Extracting url from Maharastra"
   ]
  },
  {
   "cell_type": "code",
   "execution_count": 63,
   "id": "10961d0e",
   "metadata": {},
   "outputs": [],
   "source": [
    "url = \"https://www.cardekho.com/used-cars+in+maharashtra\"\n",
    "driver.get(url)\n",
    "time.sleep(2)"
   ]
  },
  {
   "cell_type": "code",
   "execution_count": 64,
   "id": "9b7d33f0",
   "metadata": {},
   "outputs": [
    {
     "name": "stderr",
     "output_type": "stream",
     "text": [
      "100%|████████████████████████████████████████████████████████████████████████████████| 100/100 [00:52<00:00,  1.90it/s]\n"
     ]
    }
   ],
   "source": [
    "from tqdm import tqdm\n",
    "for _ in tqdm(range(0,100)):\n",
    "    driver.execute_script(\"window.scrollBy(0,1000)\",\"\")\n",
    "    time.sleep(0.5)\n",
    "    driver.execute_script(\"window.scrollBy(0,-500)\")"
   ]
  },
  {
   "cell_type": "code",
   "execution_count": 65,
   "id": "1a382840",
   "metadata": {},
   "outputs": [
    {
     "name": "stderr",
     "output_type": "stream",
     "text": [
      "100%|█████████████████████████████████████████████████████████████████████████████| 1360/1360 [00:11<00:00, 116.68it/s]\n"
     ]
    }
   ],
   "source": [
    "Car_url_MH = []\n",
    "car_url_MH = driver.find_elements(By.XPATH,'//h3[@class=\"title truncate2L\"]/a')   \n",
    "for j in tqdm(range(len(car_url_MH))):\n",
    "    Car_url_MH.append(car_url_MH[j].get_attribute('href'))\n",
    "time.sleep(2)"
   ]
  },
  {
   "cell_type": "markdown",
   "id": "1ff7bd0a",
   "metadata": {},
   "source": [
    "# Extracting url from Delhi - NCR"
   ]
  },
  {
   "cell_type": "code",
   "execution_count": 68,
   "id": "5a8f9cec",
   "metadata": {},
   "outputs": [],
   "source": [
    "url = \"https://www.cardekho.com/used-cars+in+delhi-ncr\"\n",
    "driver.get(url)\n",
    "time.sleep(2)"
   ]
  },
  {
   "cell_type": "code",
   "execution_count": 69,
   "id": "a685020e",
   "metadata": {},
   "outputs": [
    {
     "name": "stderr",
     "output_type": "stream",
     "text": [
      "100%|████████████████████████████████████████████████████████████████████████████████| 300/300 [05:10<00:00,  1.03s/it]\n"
     ]
    }
   ],
   "source": [
    "from tqdm import tqdm\n",
    "for _ in tqdm(range(0,300)):\n",
    "    driver.execute_script(\"window.scrollBy(0,1500)\",\"\")\n",
    "    time.sleep(1)\n",
    "    driver.execute_script(\"window.scrollBy(0,-300)\")"
   ]
  },
  {
   "cell_type": "code",
   "execution_count": 70,
   "id": "0a4ff796",
   "metadata": {},
   "outputs": [
    {
     "name": "stderr",
     "output_type": "stream",
     "text": [
      "100%|█████████████████████████████████████████████████████████████████████████████| 1782/1782 [00:15<00:00, 118.29it/s]\n"
     ]
    }
   ],
   "source": [
    "Car_url_NCR = []\n",
    "car_url_NCR = driver.find_elements(By.XPATH,'//h3[@class=\"title truncate2L\"]/a')   \n",
    "for j in tqdm(range(len(car_url_NCR))):\n",
    "    Car_url_NCR.append(car_url_NCR[j].get_attribute('href'))\n",
    "time.sleep(2)"
   ]
  },
  {
   "cell_type": "markdown",
   "id": "60f123d5",
   "metadata": {},
   "source": [
    "# Extracting url from Ahmedabad city"
   ]
  },
  {
   "cell_type": "code",
   "execution_count": 39,
   "id": "8a77074c",
   "metadata": {},
   "outputs": [],
   "source": [
    "url = \"https://www.cardekho.com/used-cars+in+ahmedabad\"\n",
    "driver.get(url)\n",
    "time.sleep(2)"
   ]
  },
  {
   "cell_type": "code",
   "execution_count": 40,
   "id": "900fea72",
   "metadata": {},
   "outputs": [],
   "source": [
    "driver.execute_script(\"window.scrollBy(0,1000000)\",\"\")"
   ]
  },
  {
   "cell_type": "code",
   "execution_count": 32,
   "id": "5fabb7de",
   "metadata": {},
   "outputs": [
    {
     "name": "stderr",
     "output_type": "stream",
     "text": [
      "100%|████████████████████████████████████████████████████████████████████████████████| 100/100 [01:43<00:00,  1.03s/it]\n"
     ]
    }
   ],
   "source": [
    "for _ in tqdm(range(0,100)):\n",
    "    driver.execute_script(\"window.scrollBy(0,200)\",\"\")\n",
    "    time.sleep(1)\n",
    "    driver.execute_script(\"window.scrollBy(0,-50)\")"
   ]
  },
  {
   "cell_type": "code",
   "execution_count": 43,
   "id": "b3b011e4",
   "metadata": {},
   "outputs": [
    {
     "name": "stderr",
     "output_type": "stream",
     "text": [
      "100%|████████████████████████████████████████████████████████████████████████████████| 120/120 [00:01<00:00, 93.30it/s]\n"
     ]
    }
   ],
   "source": [
    "Car_url_ADI = []\n",
    "car_url_ADI = driver.find_elements(By.XPATH,'//h3[@class=\"title truncate2L\"]/a')   \n",
    "for j in tqdm(range(len(car_url_ADI))):\n",
    "    Car_url_ADI.append(car_url_ADI[j].get_attribute('href'))\n",
    "time.sleep(2)"
   ]
  },
  {
   "cell_type": "markdown",
   "id": "60be0b34",
   "metadata": {},
   "source": [
    "# Extracting url from Chennai city"
   ]
  },
  {
   "cell_type": "code",
   "execution_count": 49,
   "id": "adede4ff",
   "metadata": {},
   "outputs": [],
   "source": [
    "url = \"https://www.cardekho.com/used-cars+in+chennai\"\n",
    "driver.get(url)\n",
    "time.sleep(2)"
   ]
  },
  {
   "cell_type": "code",
   "execution_count": 50,
   "id": "9f96d135",
   "metadata": {},
   "outputs": [],
   "source": [
    "driver.execute_script(\"window.scrollBy(0,1000000)\",\"\")"
   ]
  },
  {
   "cell_type": "code",
   "execution_count": 51,
   "id": "6854654c",
   "metadata": {},
   "outputs": [
    {
     "name": "stderr",
     "output_type": "stream",
     "text": [
      "100%|███████████████████████████████████████████████████████████████████████████████| 740/740 [00:06<00:00, 118.20it/s]\n"
     ]
    }
   ],
   "source": [
    "Car_url_MAS = []\n",
    "car_url_MAS = driver.find_elements(By.XPATH,'//h3[@class=\"title truncate2L\"]/a')   \n",
    "for j in tqdm(range(len(car_url_MAS))):\n",
    "    Car_url_MAS.append(car_url_MAS[j].get_attribute('href'))\n",
    "time.sleep(2)"
   ]
  },
  {
   "cell_type": "markdown",
   "id": "fa66973d",
   "metadata": {},
   "source": [
    "# Extracting url from Bangalore city"
   ]
  },
  {
   "cell_type": "code",
   "execution_count": 55,
   "id": "a3c2df83",
   "metadata": {},
   "outputs": [],
   "source": [
    "url = \"https://www.cardekho.com/used-cars+in+bangalore\"\n",
    "driver.get(url)\n",
    "time.sleep(2)"
   ]
  },
  {
   "cell_type": "code",
   "execution_count": 56,
   "id": "db65f8b5",
   "metadata": {},
   "outputs": [
    {
     "name": "stderr",
     "output_type": "stream",
     "text": [
      "100%|████████████████████████████████████████████████████████████████████████████████| 500/500 [08:37<00:00,  1.03s/it]\n"
     ]
    }
   ],
   "source": [
    "for _ in tqdm(range(0,500)):\n",
    "    driver.execute_script(\"window.scrollBy(0,500)\",\"\")\n",
    "    time.sleep(1)\n",
    "    driver.execute_script(\"window.scrollBy(0,-250)\")"
   ]
  },
  {
   "cell_type": "code",
   "execution_count": 57,
   "id": "0e3bd9de",
   "metadata": {},
   "outputs": [
    {
     "name": "stderr",
     "output_type": "stream",
     "text": [
      "100%|██████████████████████████████████████████████████████████████████████████████| 1000/1000 [00:10<00:00, 94.32it/s]\n"
     ]
    }
   ],
   "source": [
    "Car_url_BANG = []\n",
    "car_url_BANG = driver.find_elements(By.XPATH,'//h3[@class=\"title\"]/a')   \n",
    "for j in tqdm(range(len(car_url_BANG))):\n",
    "    Car_url_BANG.append(car_url_BANG[j].get_attribute('href'))\n",
    "time.sleep(2)"
   ]
  },
  {
   "cell_type": "markdown",
   "id": "0bacab52",
   "metadata": {},
   "source": [
    "# Extracting url from Telangana State"
   ]
  },
  {
   "cell_type": "code",
   "execution_count": 59,
   "id": "f8d44184",
   "metadata": {},
   "outputs": [],
   "source": [
    "url = \"https://www.cardekho.com/used-cars+in+telangana\"\n",
    "driver.get(url)\n",
    "time.sleep(2)"
   ]
  },
  {
   "cell_type": "code",
   "execution_count": 60,
   "id": "c5928754",
   "metadata": {},
   "outputs": [
    {
     "name": "stderr",
     "output_type": "stream",
     "text": [
      "100%|████████████████████████████████████████████████████████████████████████████████| 500/500 [08:38<00:00,  1.04s/it]\n"
     ]
    }
   ],
   "source": [
    "for _ in tqdm(range(0,500)):\n",
    "    driver.execute_script(\"window.scrollBy(0,200)\",\"\")\n",
    "    time.sleep(1)\n",
    "    driver.execute_script(\"window.scrollBy(0,-250)\")"
   ]
  },
  {
   "cell_type": "code",
   "execution_count": 61,
   "id": "4ad77d4a",
   "metadata": {},
   "outputs": [
    {
     "name": "stderr",
     "output_type": "stream",
     "text": [
      "100%|█████████████████████████████████████████████████████████████████████████████| 1020/1020 [00:08<00:00, 118.58it/s]\n"
     ]
    }
   ],
   "source": [
    "Car_url_TS = []\n",
    "car_url_TS = driver.find_elements(By.XPATH,'//h3[@class=\"title truncate2L\"]/a')   \n",
    "for j in tqdm(range(len(car_url_TS))):\n",
    "    Car_url_TS.append(car_url_TS[j].get_attribute('href'))\n",
    "time.sleep(2)"
   ]
  },
  {
   "cell_type": "markdown",
   "id": "8cd12bc1",
   "metadata": {},
   "source": [
    "# Extracting url from Uttar Pradesh"
   ]
  },
  {
   "cell_type": "code",
   "execution_count": 71,
   "id": "adfc1db9",
   "metadata": {},
   "outputs": [],
   "source": [
    "url = \"https://www.cardekho.com/used-cars+in+uttar-pradesh\"\n",
    "driver.get(url)\n",
    "time.sleep(2)"
   ]
  },
  {
   "cell_type": "code",
   "execution_count": 74,
   "id": "ddd79ed6",
   "metadata": {},
   "outputs": [],
   "source": [
    "driver.execute_script(\"window.scrollBy(0,1000000)\",\"\")"
   ]
  },
  {
   "cell_type": "code",
   "execution_count": 75,
   "id": "2ac11b80",
   "metadata": {},
   "outputs": [
    {
     "name": "stderr",
     "output_type": "stream",
     "text": [
      "100%|█████████████████████████████████████████████████████████████████████████████| 1040/1040 [00:08<00:00, 118.46it/s]\n"
     ]
    }
   ],
   "source": [
    "Car_url_UP = []\n",
    "car_url_UP = driver.find_elements(By.XPATH,'//h3[@class=\"title\"]/a')   \n",
    "for j in tqdm(range(len(car_url_UP))):\n",
    "    Car_url_UP.append(car_url_UP[j].get_attribute('href'))\n",
    "time.sleep(2)"
   ]
  },
  {
   "cell_type": "markdown",
   "id": "49bd4c8b",
   "metadata": {},
   "source": [
    "# Extracting url from Tamil Nadu"
   ]
  },
  {
   "cell_type": "code",
   "execution_count": 76,
   "id": "14846839",
   "metadata": {},
   "outputs": [],
   "source": [
    "url = \"https://www.cardekho.com/used-cars+in+tamil-nadu\"\n",
    "driver.get(url)\n",
    "time.sleep(2)"
   ]
  },
  {
   "cell_type": "code",
   "execution_count": 77,
   "id": "858726b1",
   "metadata": {},
   "outputs": [],
   "source": [
    "driver.execute_script(\"window.scrollBy(0,1000000)\",\"\")"
   ]
  },
  {
   "cell_type": "code",
   "execution_count": 78,
   "id": "0957e8ef",
   "metadata": {},
   "outputs": [
    {
     "name": "stderr",
     "output_type": "stream",
     "text": [
      "100%|█████████████████████████████████████████████████████████████████████████████| 1120/1120 [00:09<00:00, 119.46it/s]\n"
     ]
    }
   ],
   "source": [
    "Car_url_TN = []\n",
    "car_url_TN = driver.find_elements(By.XPATH,'//h3[@class=\"title\"]/a')   \n",
    "for j in tqdm(range(len(car_url_TN))):\n",
    "    Car_url_TN.append(car_url_TN[j].get_attribute('href'))\n",
    "time.sleep(2)"
   ]
  },
  {
   "cell_type": "markdown",
   "id": "549fd213",
   "metadata": {},
   "source": [
    "# Extracting url from Rajasthan"
   ]
  },
  {
   "cell_type": "code",
   "execution_count": 79,
   "id": "91eea0d7",
   "metadata": {},
   "outputs": [],
   "source": [
    "url = \"https://www.cardekho.com/used-cars+in+rajasthan\"\n",
    "driver.get(url)\n",
    "time.sleep(2)"
   ]
  },
  {
   "cell_type": "code",
   "execution_count": 80,
   "id": "8399f702",
   "metadata": {},
   "outputs": [],
   "source": [
    "driver.execute_script(\"window.scrollBy(0,1000000)\",\"\")"
   ]
  },
  {
   "cell_type": "code",
   "execution_count": 82,
   "id": "31e5e2d8",
   "metadata": {},
   "outputs": [
    {
     "name": "stderr",
     "output_type": "stream",
     "text": [
      "100%|██████████████████████████████████████████████████████████████████████████████| 1119/1119 [00:11<00:00, 97.00it/s]\n"
     ]
    }
   ],
   "source": [
    "Car_url_RJ = []\n",
    "car_url_RJ = driver.find_elements(By.XPATH,'//h3[@class=\"title truncate2L\"]/a')   \n",
    "for j in tqdm(range(len(car_url_RJ))):\n",
    "    Car_url_RJ.append(car_url_RJ[j].get_attribute('href'))\n",
    "time.sleep(2)"
   ]
  },
  {
   "cell_type": "markdown",
   "id": "3aad2813",
   "metadata": {},
   "source": [
    "# Extracting url from Kerala"
   ]
  },
  {
   "cell_type": "code",
   "execution_count": 83,
   "id": "a072ad59",
   "metadata": {},
   "outputs": [],
   "source": [
    "url = \"https://www.cardekho.com/used-cars+in+kerala\"\n",
    "driver.get(url)\n",
    "time.sleep(2)"
   ]
  },
  {
   "cell_type": "code",
   "execution_count": 84,
   "id": "28b18c44",
   "metadata": {},
   "outputs": [],
   "source": [
    "driver.execute_script(\"window.scrollBy(0,1000000)\",\"\")"
   ]
  },
  {
   "cell_type": "code",
   "execution_count": 85,
   "id": "5452410a",
   "metadata": {},
   "outputs": [
    {
     "name": "stderr",
     "output_type": "stream",
     "text": [
      "100%|███████████████████████████████████████████████████████████████████████████████| 300/300 [00:02<00:00, 117.92it/s]\n"
     ]
    }
   ],
   "source": [
    "Car_url_KL = []\n",
    "car_url_KL = driver.find_elements(By.XPATH,'//h3[@class=\"title\"]/a')   \n",
    "for j in tqdm(range(len(car_url_KL))):\n",
    "    Car_url_KL.append(car_url_KL[j].get_attribute('href'))\n",
    "time.sleep(2)"
   ]
  },
  {
   "cell_type": "code",
   "execution_count": 87,
   "id": "41d4d959",
   "metadata": {},
   "outputs": [],
   "source": [
    "Car_url = []"
   ]
  },
  {
   "cell_type": "code",
   "execution_count": 90,
   "id": "41789574",
   "metadata": {},
   "outputs": [],
   "source": [
    "Car_url = Car_url_KL + Car_url_RJ + Car_url_TN + Car_url_UP + Car_url_TS  + Car_url_BANG + Car_url_MAS + Car_url_ADI + Car_url_NCR + Car_url_MH"
   ]
  },
  {
   "cell_type": "code",
   "execution_count": 91,
   "id": "31a7afb7",
   "metadata": {},
   "outputs": [
    {
     "data": {
      "text/plain": [
       "9601"
      ]
     },
     "execution_count": 91,
     "metadata": {},
     "output_type": "execute_result"
    }
   ],
   "source": [
    "len(Car_url)"
   ]
  },
  {
   "cell_type": "markdown",
   "id": "03653609",
   "metadata": {},
   "source": [
    "# Creating Excel file of URL for scraping desired data"
   ]
  },
  {
   "cell_type": "code",
   "execution_count": 92,
   "id": "f61e639d",
   "metadata": {},
   "outputs": [],
   "source": [
    "import pandas as pd"
   ]
  },
  {
   "cell_type": "code",
   "execution_count": 93,
   "id": "a6fc7af1",
   "metadata": {},
   "outputs": [],
   "source": [
    "Car_URL = pd.DataFrame({})\n",
    "Car_URL['Urls'] = Car_url"
   ]
  },
  {
   "cell_type": "code",
   "execution_count": 94,
   "id": "ed4020cf",
   "metadata": {},
   "outputs": [],
   "source": [
    "Car_URL.to_excel('Car_url.xlsx', index = False)"
   ]
  },
  {
   "cell_type": "markdown",
   "id": "7ebf676f",
   "metadata": {},
   "source": [
    "# Scraping desired data from Indiviudal URL's"
   ]
  },
  {
   "cell_type": "code",
   "execution_count": 16,
   "id": "f92fea6d",
   "metadata": {},
   "outputs": [],
   "source": [
    "import pandas as pd\n",
    "import numpy as np"
   ]
  },
  {
   "cell_type": "code",
   "execution_count": 3,
   "id": "3833d991",
   "metadata": {},
   "outputs": [],
   "source": [
    "df = pd.read_excel('Car_url.xlsx')"
   ]
  },
  {
   "cell_type": "code",
   "execution_count": 4,
   "id": "07243c04",
   "metadata": {},
   "outputs": [
    {
     "data": {
      "text/plain": [
       "(9240, 1)"
      ]
     },
     "execution_count": 4,
     "metadata": {},
     "output_type": "execute_result"
    }
   ],
   "source": [
    "df.shape"
   ]
  },
  {
   "cell_type": "code",
   "execution_count": 66,
   "id": "9b15af26",
   "metadata": {},
   "outputs": [],
   "source": [
    "# Making Empty lists\n",
    "Location = []\n",
    "Model = []\n",
    "Variant = []\n",
    "Price = []\n",
    "Make_year =[]\n",
    "Fuel_Type = []\n",
    "KMs_driven = []\n",
    "Engine_displacement = []\n",
    "Transmission = []\n",
    "Milage = []\n",
    "Max_power = []\n",
    "Torque = []\n",
    "Seats = []\n",
    "Color = []\n",
    "Gear_Box =[]\n",
    "Steering_Type =[]\n",
    "Front_Brake_Type = []\n",
    "Rear_Brake_Type = []\n",
    "Tyre_Volume = []\n",
    "Cargo_volume = []\n",
    "Engine_Type = []\n",
    "No_of_cylinder = []\n",
    "Value_Configuration = []\n",
    "Fuel_Suppy_System = []\n",
    "Turbo_charger = []\n",
    "Super_charger = []\n",
    "Length = []\n",
    "Width =[]\n",
    "Height = []\n",
    "Gross_weight = []"
   ]
  },
  {
   "cell_type": "code",
   "execution_count": 20,
   "id": "ff42cdea",
   "metadata": {},
   "outputs": [],
   "source": [
    "# Let's first connect to the web driver\n",
    "\n",
    "driver = webdriver.Chrome(r'C:\\Users\\Admin\\Chrome webdriver\\chromedriver_win32\\chromedriver.exe')\n",
    "\n",
    "#Let's maximize the automated window\n",
    "\n",
    "driver.maximize_window()"
   ]
  },
  {
   "cell_type": "code",
   "execution_count": null,
   "id": "14e3419e",
   "metadata": {},
   "outputs": [],
   "source": [
    "//div[@class=\"vehicleName\"]"
   ]
  },
  {
   "cell_type": "code",
   "execution_count": 67,
   "id": "1e51fa2c",
   "metadata": {},
   "outputs": [
    {
     "name": "stderr",
     "output_type": "stream",
     "text": [
      "100%|██████████████████████████████████████████████████████████████████████████████████| 10/10 [00:22<00:00,  2.22s/it]\n"
     ]
    }
   ],
   "source": [
    "from tqdm import tqdm\n",
    "for i in tqdm(df['Urls'][0:10]):\n",
    "    driver.get(i)\n",
    "    time.sleep(1)\n",
    "    \n",
    "    # Scraping car title\n",
    "    try:\n",
    "        title=driver.find_element(By.XPATH,'/html/body/div[2]/div/div[1]/div/div/div/div[1]/div[2]/div[1]/div/div[1]')\n",
    "        Model.append(title.text[5:])\n",
    "    except NoSuchElementException:\n",
    "        Model.append(' ')\n",
    "        \n",
    "    #clicking to view all specifications\n",
    "    try:\n",
    "        view_more = driver.find_element(By.XPATH,\"/html/body/div[2]/div/div[1]/div/div/div/div[1]/div[1]/div[5]/div[2]/div[1]\")\n",
    "        driver.execute_script(\"arguments[0].scrollIntoView();\", view_more)\n",
    "        driver.execute_script(\"arguments[0].click();\", view_more)\n",
    "        \n",
    "    except NoSuchElementException:\n",
    "            pass\n",
    "    # Extracting Car Price via xpath\n",
    "    try :\n",
    "        price = driver.find_element(By.XPATH,'/html/body/div[2]/div/div[1]/div/div/div/div[1]/div[2]/div[1]/div/div[3]/span')\n",
    "        Price.append(price.text)\n",
    "    except NoSuchElementException:\n",
    "        Price.append(' ')\n",
    "        \n",
    "    # Extracting Car Make Year via xpath\n",
    "    try :\n",
    "        year = driver.find_element(By.XPATH,'/html/body/div[2]/div/div[1]/div/div/div/div[1]/div[2]/div[1]/div/div[1]')\n",
    "        Make_year.append(year.text[:5])\n",
    "    except NoSuchElementException:\n",
    "        Make_year.append('NA')\n",
    "        \n",
    "    # Extracting Car Fuel Type via xpath\n",
    "    try :\n",
    "        fuel = driver.find_element(By.XPATH,'/html/body/div[2]/div/div[1]/div/div/div/div[1]/div[2]/div[1]/div/div[2]')\n",
    "        Fuel_Type.append(fuel.text.split('•')[1])\n",
    "    except NoSuchElementException:\n",
    "            Fuel_Type.append('NA')\n",
    "    \n",
    "    # Extracting KMS driven via xpath\n",
    "    try :\n",
    "        kms = driver.find_element(By.XPATH,'/html/body/div[2]/div/div[1]/div/div/div/div[1]/div[2]/div[1]/div/div[2]')\n",
    "        KMs_driven.append(kms.text.split('•')[0])\n",
    "    except NoSuchElementException:\n",
    "            KMs_driven.append('NA')\n",
    "    \n",
    "    # Extracting Engine_displacemet via xpath\n",
    "    try :\n",
    "        engine_disp = driver.find_element(By.XPATH,'/html/body/div[2]/div/div[1]/div/div/div/div[1]/div[1]/div[3]/ul/li[7]/div/div/span')\n",
    "        Engine_displacement.append(engine_disp.text.replace('CC',''))\n",
    "    except NoSuchElementException:\n",
    "            Engine_displacement.append('NA')"
   ]
  },
  {
   "cell_type": "code",
   "execution_count": 68,
   "id": "5cf16c22",
   "metadata": {},
   "outputs": [
    {
     "data": {
      "text/plain": [
       "['1248 cc',\n",
       " '1298 cc',\n",
       " 'Automatic',\n",
       " 'First Owner',\n",
       " 'NA',\n",
       " 'First Owner',\n",
       " 'Fourth Owner',\n",
       " 'Manual',\n",
       " 'NA',\n",
       " 'Manual']"
      ]
     },
     "execution_count": 68,
     "metadata": {},
     "output_type": "execute_result"
    }
   ],
   "source": [
    "Engine_displacement"
   ]
  },
  {
   "cell_type": "code",
   "execution_count": null,
   "id": "3f8666e8",
   "metadata": {},
   "outputs": [],
   "source": []
  }
 ],
 "metadata": {
  "kernelspec": {
   "display_name": "Python 3 (ipykernel)",
   "language": "python",
   "name": "python3"
  },
  "language_info": {
   "codemirror_mode": {
    "name": "ipython",
    "version": 3
   },
   "file_extension": ".py",
   "mimetype": "text/x-python",
   "name": "python",
   "nbconvert_exporter": "python",
   "pygments_lexer": "ipython3",
   "version": "3.9.12"
  }
 },
 "nbformat": 4,
 "nbformat_minor": 5
}
