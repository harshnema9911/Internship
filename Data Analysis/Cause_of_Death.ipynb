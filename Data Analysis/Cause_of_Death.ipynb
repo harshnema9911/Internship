{
  "nbformat": 4,
  "nbformat_minor": 0,
  "metadata": {
    "colab": {
      "provenance": []
    },
    "kernelspec": {
      "name": "python3",
      "display_name": "Python 3"
    },
    "language_info": {
      "name": "python"
    }
  },
  "cells": [
    {
      "cell_type": "markdown",
      "source": [
        "**CAUSE OF DEATH DATA ANALYSIS**\n",
        "\n",
        "**PROBLEM STATEMENT**\n",
        "\n",
        "In this Dataset, we have Historical Data of different cause of deaths for all ages around the World. The objective is to apply the analytical skills **to give findings and conclusions in detailed data analysis**.\n"
      ],
      "metadata": {
        "id": "56vXU7YE25VV"
      }
    },
    {
      "cell_type": "code",
      "execution_count": null,
      "metadata": {
        "id": "4499Pfm-oR1u"
      },
      "outputs": [],
      "source": [
        "import pandas as pd\n",
        "import numpy as np\n",
        "import warnings # Filtering warnings\n",
        "warnings.filterwarnings('ignore')\n",
        "import seaborn as sns\n",
        "import matplotlib.pyplot as plt\n",
        "%matplotlib inline\n",
        "from collections import Counter\n",
        "import plotly.graph_objs as go\n",
        "import plotly.offline as py \n"
      ]
    },
    {
      "cell_type": "code",
      "source": [
        "from google.colab import files\n",
        "uploaded = files.upload()"
      ],
      "metadata": {
        "colab": {
          "base_uri": "https://localhost:8080/",
          "height": 73
        },
        "id": "iRHnioSPs8RY",
        "outputId": "2c236586-bfae-4378-9a8d-7a1d874098a3"
      },
      "execution_count": null,
      "outputs": [
        {
          "output_type": "display_data",
          "data": {
            "text/plain": [
              "<IPython.core.display.HTML object>"
            ],
            "text/html": [
              "\n",
              "     <input type=\"file\" id=\"files-2c5bdda1-4d57-4a03-8d3b-3e8e92589816\" name=\"files[]\" multiple disabled\n",
              "        style=\"border:none\" />\n",
              "     <output id=\"result-2c5bdda1-4d57-4a03-8d3b-3e8e92589816\">\n",
              "      Upload widget is only available when the cell has been executed in the\n",
              "      current browser session. Please rerun this cell to enable.\n",
              "      </output>\n",
              "      <script>// Copyright 2017 Google LLC\n",
              "//\n",
              "// Licensed under the Apache License, Version 2.0 (the \"License\");\n",
              "// you may not use this file except in compliance with the License.\n",
              "// You may obtain a copy of the License at\n",
              "//\n",
              "//      http://www.apache.org/licenses/LICENSE-2.0\n",
              "//\n",
              "// Unless required by applicable law or agreed to in writing, software\n",
              "// distributed under the License is distributed on an \"AS IS\" BASIS,\n",
              "// WITHOUT WARRANTIES OR CONDITIONS OF ANY KIND, either express or implied.\n",
              "// See the License for the specific language governing permissions and\n",
              "// limitations under the License.\n",
              "\n",
              "/**\n",
              " * @fileoverview Helpers for google.colab Python module.\n",
              " */\n",
              "(function(scope) {\n",
              "function span(text, styleAttributes = {}) {\n",
              "  const element = document.createElement('span');\n",
              "  element.textContent = text;\n",
              "  for (const key of Object.keys(styleAttributes)) {\n",
              "    element.style[key] = styleAttributes[key];\n",
              "  }\n",
              "  return element;\n",
              "}\n",
              "\n",
              "// Max number of bytes which will be uploaded at a time.\n",
              "const MAX_PAYLOAD_SIZE = 100 * 1024;\n",
              "\n",
              "function _uploadFiles(inputId, outputId) {\n",
              "  const steps = uploadFilesStep(inputId, outputId);\n",
              "  const outputElement = document.getElementById(outputId);\n",
              "  // Cache steps on the outputElement to make it available for the next call\n",
              "  // to uploadFilesContinue from Python.\n",
              "  outputElement.steps = steps;\n",
              "\n",
              "  return _uploadFilesContinue(outputId);\n",
              "}\n",
              "\n",
              "// This is roughly an async generator (not supported in the browser yet),\n",
              "// where there are multiple asynchronous steps and the Python side is going\n",
              "// to poll for completion of each step.\n",
              "// This uses a Promise to block the python side on completion of each step,\n",
              "// then passes the result of the previous step as the input to the next step.\n",
              "function _uploadFilesContinue(outputId) {\n",
              "  const outputElement = document.getElementById(outputId);\n",
              "  const steps = outputElement.steps;\n",
              "\n",
              "  const next = steps.next(outputElement.lastPromiseValue);\n",
              "  return Promise.resolve(next.value.promise).then((value) => {\n",
              "    // Cache the last promise value to make it available to the next\n",
              "    // step of the generator.\n",
              "    outputElement.lastPromiseValue = value;\n",
              "    return next.value.response;\n",
              "  });\n",
              "}\n",
              "\n",
              "/**\n",
              " * Generator function which is called between each async step of the upload\n",
              " * process.\n",
              " * @param {string} inputId Element ID of the input file picker element.\n",
              " * @param {string} outputId Element ID of the output display.\n",
              " * @return {!Iterable<!Object>} Iterable of next steps.\n",
              " */\n",
              "function* uploadFilesStep(inputId, outputId) {\n",
              "  const inputElement = document.getElementById(inputId);\n",
              "  inputElement.disabled = false;\n",
              "\n",
              "  const outputElement = document.getElementById(outputId);\n",
              "  outputElement.innerHTML = '';\n",
              "\n",
              "  const pickedPromise = new Promise((resolve) => {\n",
              "    inputElement.addEventListener('change', (e) => {\n",
              "      resolve(e.target.files);\n",
              "    });\n",
              "  });\n",
              "\n",
              "  const cancel = document.createElement('button');\n",
              "  inputElement.parentElement.appendChild(cancel);\n",
              "  cancel.textContent = 'Cancel upload';\n",
              "  const cancelPromise = new Promise((resolve) => {\n",
              "    cancel.onclick = () => {\n",
              "      resolve(null);\n",
              "    };\n",
              "  });\n",
              "\n",
              "  // Wait for the user to pick the files.\n",
              "  const files = yield {\n",
              "    promise: Promise.race([pickedPromise, cancelPromise]),\n",
              "    response: {\n",
              "      action: 'starting',\n",
              "    }\n",
              "  };\n",
              "\n",
              "  cancel.remove();\n",
              "\n",
              "  // Disable the input element since further picks are not allowed.\n",
              "  inputElement.disabled = true;\n",
              "\n",
              "  if (!files) {\n",
              "    return {\n",
              "      response: {\n",
              "        action: 'complete',\n",
              "      }\n",
              "    };\n",
              "  }\n",
              "\n",
              "  for (const file of files) {\n",
              "    const li = document.createElement('li');\n",
              "    li.append(span(file.name, {fontWeight: 'bold'}));\n",
              "    li.append(span(\n",
              "        `(${file.type || 'n/a'}) - ${file.size} bytes, ` +\n",
              "        `last modified: ${\n",
              "            file.lastModifiedDate ? file.lastModifiedDate.toLocaleDateString() :\n",
              "                                    'n/a'} - `));\n",
              "    const percent = span('0% done');\n",
              "    li.appendChild(percent);\n",
              "\n",
              "    outputElement.appendChild(li);\n",
              "\n",
              "    const fileDataPromise = new Promise((resolve) => {\n",
              "      const reader = new FileReader();\n",
              "      reader.onload = (e) => {\n",
              "        resolve(e.target.result);\n",
              "      };\n",
              "      reader.readAsArrayBuffer(file);\n",
              "    });\n",
              "    // Wait for the data to be ready.\n",
              "    let fileData = yield {\n",
              "      promise: fileDataPromise,\n",
              "      response: {\n",
              "        action: 'continue',\n",
              "      }\n",
              "    };\n",
              "\n",
              "    // Use a chunked sending to avoid message size limits. See b/62115660.\n",
              "    let position = 0;\n",
              "    do {\n",
              "      const length = Math.min(fileData.byteLength - position, MAX_PAYLOAD_SIZE);\n",
              "      const chunk = new Uint8Array(fileData, position, length);\n",
              "      position += length;\n",
              "\n",
              "      const base64 = btoa(String.fromCharCode.apply(null, chunk));\n",
              "      yield {\n",
              "        response: {\n",
              "          action: 'append',\n",
              "          file: file.name,\n",
              "          data: base64,\n",
              "        },\n",
              "      };\n",
              "\n",
              "      let percentDone = fileData.byteLength === 0 ?\n",
              "          100 :\n",
              "          Math.round((position / fileData.byteLength) * 100);\n",
              "      percent.textContent = `${percentDone}% done`;\n",
              "\n",
              "    } while (position < fileData.byteLength);\n",
              "  }\n",
              "\n",
              "  // All done.\n",
              "  yield {\n",
              "    response: {\n",
              "      action: 'complete',\n",
              "    }\n",
              "  };\n",
              "}\n",
              "\n",
              "scope.google = scope.google || {};\n",
              "scope.google.colab = scope.google.colab || {};\n",
              "scope.google.colab._files = {\n",
              "  _uploadFiles,\n",
              "  _uploadFilesContinue,\n",
              "};\n",
              "})(self);\n",
              "</script> "
            ]
          },
          "metadata": {}
        },
        {
          "output_type": "stream",
          "name": "stdout",
          "text": [
            "Saving cause_of_deaths dataset.csv to cause_of_deaths dataset.csv\n"
          ]
        }
      ]
    },
    {
      "cell_type": "code",
      "source": [
        "import io\n",
        "df = pd.read_csv(io.BytesIO(uploaded['cause_of_deaths dataset.csv']))\n",
        "# Dataset is now stored in a Pandas Dataframe"
      ],
      "metadata": {
        "id": "QCUdPMyOrkVs"
      },
      "execution_count": null,
      "outputs": []
    },
    {
      "cell_type": "code",
      "source": [
        "df.head()"
      ],
      "metadata": {
        "colab": {
          "base_uri": "https://localhost:8080/",
          "height": 369
        },
        "id": "kqUFi5QXtNib",
        "outputId": "8700935e-a0d9-4977-b00a-97d3b0843f9b"
      },
      "execution_count": null,
      "outputs": [
        {
          "output_type": "execute_result",
          "data": {
            "text/plain": [
              "  Country/Territory Code  Year  Meningitis  \\\n",
              "0       Afghanistan  AFG  1990        2159   \n",
              "1       Afghanistan  AFG  1991        2218   \n",
              "2       Afghanistan  AFG  1992        2475   \n",
              "3       Afghanistan  AFG  1993        2812   \n",
              "4       Afghanistan  AFG  1994        3027   \n",
              "\n",
              "   Alzheimer's Disease and Other Dementias  Parkinson's Disease  \\\n",
              "0                                     1116                  371   \n",
              "1                                     1136                  374   \n",
              "2                                     1162                  378   \n",
              "3                                     1187                  384   \n",
              "4                                     1211                  391   \n",
              "\n",
              "   Nutritional Deficiencies  Malaria  Drowning  Interpersonal Violence  ...  \\\n",
              "0                      2087       93      1370                    1538  ...   \n",
              "1                      2153      189      1391                    2001  ...   \n",
              "2                      2441      239      1514                    2299  ...   \n",
              "3                      2837      108      1687                    2589  ...   \n",
              "4                      3081      211      1809                    2849  ...   \n",
              "\n",
              "   Diabetes Mellitus  Chronic Kidney Disease  Poisonings  \\\n",
              "0               2108                    3709         338   \n",
              "1               2120                    3724         351   \n",
              "2               2153                    3776         386   \n",
              "3               2195                    3862         425   \n",
              "4               2231                    3932         451   \n",
              "\n",
              "   Protein-Energy Malnutrition  Road Injuries  Chronic Respiratory Diseases  \\\n",
              "0                         2054           4154                          5945   \n",
              "1                         2119           4472                          6050   \n",
              "2                         2404           5106                          6223   \n",
              "3                         2797           5681                          6445   \n",
              "4                         3038           6001                          6664   \n",
              "\n",
              "   Cirrhosis and Other Chronic Liver Diseases  Digestive Diseases  \\\n",
              "0                                        2673                5005   \n",
              "1                                        2728                5120   \n",
              "2                                        2830                5335   \n",
              "3                                        2943                5568   \n",
              "4                                        3027                5739   \n",
              "\n",
              "   Fire, Heat, and Hot Substances  Acute Hepatitis  \n",
              "0                             323             2985  \n",
              "1                             332             3092  \n",
              "2                             360             3325  \n",
              "3                             396             3601  \n",
              "4                             420             3816  \n",
              "\n",
              "[5 rows x 34 columns]"
            ],
            "text/html": [
              "\n",
              "  <div id=\"df-b22fa871-987d-4143-abff-2bf5e2b9fa17\">\n",
              "    <div class=\"colab-df-container\">\n",
              "      <div>\n",
              "<style scoped>\n",
              "    .dataframe tbody tr th:only-of-type {\n",
              "        vertical-align: middle;\n",
              "    }\n",
              "\n",
              "    .dataframe tbody tr th {\n",
              "        vertical-align: top;\n",
              "    }\n",
              "\n",
              "    .dataframe thead th {\n",
              "        text-align: right;\n",
              "    }\n",
              "</style>\n",
              "<table border=\"1\" class=\"dataframe\">\n",
              "  <thead>\n",
              "    <tr style=\"text-align: right;\">\n",
              "      <th></th>\n",
              "      <th>Country/Territory</th>\n",
              "      <th>Code</th>\n",
              "      <th>Year</th>\n",
              "      <th>Meningitis</th>\n",
              "      <th>Alzheimer's Disease and Other Dementias</th>\n",
              "      <th>Parkinson's Disease</th>\n",
              "      <th>Nutritional Deficiencies</th>\n",
              "      <th>Malaria</th>\n",
              "      <th>Drowning</th>\n",
              "      <th>Interpersonal Violence</th>\n",
              "      <th>...</th>\n",
              "      <th>Diabetes Mellitus</th>\n",
              "      <th>Chronic Kidney Disease</th>\n",
              "      <th>Poisonings</th>\n",
              "      <th>Protein-Energy Malnutrition</th>\n",
              "      <th>Road Injuries</th>\n",
              "      <th>Chronic Respiratory Diseases</th>\n",
              "      <th>Cirrhosis and Other Chronic Liver Diseases</th>\n",
              "      <th>Digestive Diseases</th>\n",
              "      <th>Fire, Heat, and Hot Substances</th>\n",
              "      <th>Acute Hepatitis</th>\n",
              "    </tr>\n",
              "  </thead>\n",
              "  <tbody>\n",
              "    <tr>\n",
              "      <th>0</th>\n",
              "      <td>Afghanistan</td>\n",
              "      <td>AFG</td>\n",
              "      <td>1990</td>\n",
              "      <td>2159</td>\n",
              "      <td>1116</td>\n",
              "      <td>371</td>\n",
              "      <td>2087</td>\n",
              "      <td>93</td>\n",
              "      <td>1370</td>\n",
              "      <td>1538</td>\n",
              "      <td>...</td>\n",
              "      <td>2108</td>\n",
              "      <td>3709</td>\n",
              "      <td>338</td>\n",
              "      <td>2054</td>\n",
              "      <td>4154</td>\n",
              "      <td>5945</td>\n",
              "      <td>2673</td>\n",
              "      <td>5005</td>\n",
              "      <td>323</td>\n",
              "      <td>2985</td>\n",
              "    </tr>\n",
              "    <tr>\n",
              "      <th>1</th>\n",
              "      <td>Afghanistan</td>\n",
              "      <td>AFG</td>\n",
              "      <td>1991</td>\n",
              "      <td>2218</td>\n",
              "      <td>1136</td>\n",
              "      <td>374</td>\n",
              "      <td>2153</td>\n",
              "      <td>189</td>\n",
              "      <td>1391</td>\n",
              "      <td>2001</td>\n",
              "      <td>...</td>\n",
              "      <td>2120</td>\n",
              "      <td>3724</td>\n",
              "      <td>351</td>\n",
              "      <td>2119</td>\n",
              "      <td>4472</td>\n",
              "      <td>6050</td>\n",
              "      <td>2728</td>\n",
              "      <td>5120</td>\n",
              "      <td>332</td>\n",
              "      <td>3092</td>\n",
              "    </tr>\n",
              "    <tr>\n",
              "      <th>2</th>\n",
              "      <td>Afghanistan</td>\n",
              "      <td>AFG</td>\n",
              "      <td>1992</td>\n",
              "      <td>2475</td>\n",
              "      <td>1162</td>\n",
              "      <td>378</td>\n",
              "      <td>2441</td>\n",
              "      <td>239</td>\n",
              "      <td>1514</td>\n",
              "      <td>2299</td>\n",
              "      <td>...</td>\n",
              "      <td>2153</td>\n",
              "      <td>3776</td>\n",
              "      <td>386</td>\n",
              "      <td>2404</td>\n",
              "      <td>5106</td>\n",
              "      <td>6223</td>\n",
              "      <td>2830</td>\n",
              "      <td>5335</td>\n",
              "      <td>360</td>\n",
              "      <td>3325</td>\n",
              "    </tr>\n",
              "    <tr>\n",
              "      <th>3</th>\n",
              "      <td>Afghanistan</td>\n",
              "      <td>AFG</td>\n",
              "      <td>1993</td>\n",
              "      <td>2812</td>\n",
              "      <td>1187</td>\n",
              "      <td>384</td>\n",
              "      <td>2837</td>\n",
              "      <td>108</td>\n",
              "      <td>1687</td>\n",
              "      <td>2589</td>\n",
              "      <td>...</td>\n",
              "      <td>2195</td>\n",
              "      <td>3862</td>\n",
              "      <td>425</td>\n",
              "      <td>2797</td>\n",
              "      <td>5681</td>\n",
              "      <td>6445</td>\n",
              "      <td>2943</td>\n",
              "      <td>5568</td>\n",
              "      <td>396</td>\n",
              "      <td>3601</td>\n",
              "    </tr>\n",
              "    <tr>\n",
              "      <th>4</th>\n",
              "      <td>Afghanistan</td>\n",
              "      <td>AFG</td>\n",
              "      <td>1994</td>\n",
              "      <td>3027</td>\n",
              "      <td>1211</td>\n",
              "      <td>391</td>\n",
              "      <td>3081</td>\n",
              "      <td>211</td>\n",
              "      <td>1809</td>\n",
              "      <td>2849</td>\n",
              "      <td>...</td>\n",
              "      <td>2231</td>\n",
              "      <td>3932</td>\n",
              "      <td>451</td>\n",
              "      <td>3038</td>\n",
              "      <td>6001</td>\n",
              "      <td>6664</td>\n",
              "      <td>3027</td>\n",
              "      <td>5739</td>\n",
              "      <td>420</td>\n",
              "      <td>3816</td>\n",
              "    </tr>\n",
              "  </tbody>\n",
              "</table>\n",
              "<p>5 rows × 34 columns</p>\n",
              "</div>\n",
              "      <button class=\"colab-df-convert\" onclick=\"convertToInteractive('df-b22fa871-987d-4143-abff-2bf5e2b9fa17')\"\n",
              "              title=\"Convert this dataframe to an interactive table.\"\n",
              "              style=\"display:none;\">\n",
              "        \n",
              "  <svg xmlns=\"http://www.w3.org/2000/svg\" height=\"24px\"viewBox=\"0 0 24 24\"\n",
              "       width=\"24px\">\n",
              "    <path d=\"M0 0h24v24H0V0z\" fill=\"none\"/>\n",
              "    <path d=\"M18.56 5.44l.94 2.06.94-2.06 2.06-.94-2.06-.94-.94-2.06-.94 2.06-2.06.94zm-11 1L8.5 8.5l.94-2.06 2.06-.94-2.06-.94L8.5 2.5l-.94 2.06-2.06.94zm10 10l.94 2.06.94-2.06 2.06-.94-2.06-.94-.94-2.06-.94 2.06-2.06.94z\"/><path d=\"M17.41 7.96l-1.37-1.37c-.4-.4-.92-.59-1.43-.59-.52 0-1.04.2-1.43.59L10.3 9.45l-7.72 7.72c-.78.78-.78 2.05 0 2.83L4 21.41c.39.39.9.59 1.41.59.51 0 1.02-.2 1.41-.59l7.78-7.78 2.81-2.81c.8-.78.8-2.07 0-2.86zM5.41 20L4 18.59l7.72-7.72 1.47 1.35L5.41 20z\"/>\n",
              "  </svg>\n",
              "      </button>\n",
              "      \n",
              "  <style>\n",
              "    .colab-df-container {\n",
              "      display:flex;\n",
              "      flex-wrap:wrap;\n",
              "      gap: 12px;\n",
              "    }\n",
              "\n",
              "    .colab-df-convert {\n",
              "      background-color: #E8F0FE;\n",
              "      border: none;\n",
              "      border-radius: 50%;\n",
              "      cursor: pointer;\n",
              "      display: none;\n",
              "      fill: #1967D2;\n",
              "      height: 32px;\n",
              "      padding: 0 0 0 0;\n",
              "      width: 32px;\n",
              "    }\n",
              "\n",
              "    .colab-df-convert:hover {\n",
              "      background-color: #E2EBFA;\n",
              "      box-shadow: 0px 1px 2px rgba(60, 64, 67, 0.3), 0px 1px 3px 1px rgba(60, 64, 67, 0.15);\n",
              "      fill: #174EA6;\n",
              "    }\n",
              "\n",
              "    [theme=dark] .colab-df-convert {\n",
              "      background-color: #3B4455;\n",
              "      fill: #D2E3FC;\n",
              "    }\n",
              "\n",
              "    [theme=dark] .colab-df-convert:hover {\n",
              "      background-color: #434B5C;\n",
              "      box-shadow: 0px 1px 3px 1px rgba(0, 0, 0, 0.15);\n",
              "      filter: drop-shadow(0px 1px 2px rgba(0, 0, 0, 0.3));\n",
              "      fill: #FFFFFF;\n",
              "    }\n",
              "  </style>\n",
              "\n",
              "      <script>\n",
              "        const buttonEl =\n",
              "          document.querySelector('#df-b22fa871-987d-4143-abff-2bf5e2b9fa17 button.colab-df-convert');\n",
              "        buttonEl.style.display =\n",
              "          google.colab.kernel.accessAllowed ? 'block' : 'none';\n",
              "\n",
              "        async function convertToInteractive(key) {\n",
              "          const element = document.querySelector('#df-b22fa871-987d-4143-abff-2bf5e2b9fa17');\n",
              "          const dataTable =\n",
              "            await google.colab.kernel.invokeFunction('convertToInteractive',\n",
              "                                                     [key], {});\n",
              "          if (!dataTable) return;\n",
              "\n",
              "          const docLinkHtml = 'Like what you see? Visit the ' +\n",
              "            '<a target=\"_blank\" href=https://colab.research.google.com/notebooks/data_table.ipynb>data table notebook</a>'\n",
              "            + ' to learn more about interactive tables.';\n",
              "          element.innerHTML = '';\n",
              "          dataTable['output_type'] = 'display_data';\n",
              "          await google.colab.output.renderOutput(dataTable, element);\n",
              "          const docLink = document.createElement('div');\n",
              "          docLink.innerHTML = docLinkHtml;\n",
              "          element.appendChild(docLink);\n",
              "        }\n",
              "      </script>\n",
              "    </div>\n",
              "  </div>\n",
              "  "
            ]
          },
          "metadata": {},
          "execution_count": 4
        }
      ]
    },
    {
      "cell_type": "markdown",
      "source": [
        "A straightforward way to assess the health status of a population is to focus on **mortality** – or concepts like *child mortality or life expectancy*, which are based on mortality estimates. A focus on mortality, however, does not take into account that the **burden of diseases** is not only that they kill people, but that they cause suffering to people who live with them. **Assessing health** outcomes by both **mortality and morbidity** (the prevalent diseases) provides a more encompassing view on health outcomes. **This is the topic of this entry.**\n",
        "\n",
        "The **sum of mortality and morbidity** is referred to as the **‘burden of disease’** and can be measured by a *metric* called **‘Disability Adjusted Life Years‘ (DALYs).** DALYs are **measuring lost health** and are a standardized metric that allow for direct comparisons of disease burdens of different diseases across countries, between different populations, and over time. Conceptually, **one DALY is the equivalent of losing one year in good health** because of either premature death or disease or disability. One DALY represents one lost year of healthy life. The first ‘Global Burden of Disease’ (GBD) was GBD 1990 and the DALY metric was prominently featured in the World Bank’s 1993 World Development Report. Today it is published by both the researchers at the Institute of Health Metrics and Evaluation (IHME) and the ‘Disease Burden Unit’ at the World Health Organization (WHO), which was created in 1998. The IHME continues the work that was started in the early 1990s and publishes the Global Burden of Disease study."
      ],
      "metadata": {
        "id": "Q7YF2l_ot-UR"
      }
    },
    {
      "cell_type": "code",
      "source": [
        "print(\"\\033[1m\" + 'Number of rows in the given dataset:' + \"\\033[0m\")\n",
        "print(df.shape[0])\n",
        "\n",
        "print(\"\\033[1m\" + 'Number of columns in the given dataset:'  + \"\\033[0m\")\n",
        "df.shape[1]"
      ],
      "metadata": {
        "colab": {
          "base_uri": "https://localhost:8080/"
        },
        "id": "6JXIZdzNKF1x",
        "outputId": "e4170e6a-78e9-4473-8002-4f74ac63fc75"
      },
      "execution_count": null,
      "outputs": [
        {
          "output_type": "stream",
          "name": "stdout",
          "text": [
            "\u001b[1mNumber of rows in the given dataset:\u001b[0m\n",
            "6120\n",
            "\u001b[1mNumber of columns in the given dataset:\u001b[0m\n"
          ]
        },
        {
          "output_type": "execute_result",
          "data": {
            "text/plain": [
              "34"
            ]
          },
          "metadata": {},
          "execution_count": 5
        }
      ]
    },
    {
      "cell_type": "code",
      "source": [
        "df.columns"
      ],
      "metadata": {
        "colab": {
          "base_uri": "https://localhost:8080/"
        },
        "id": "y6bvyTsAMEcs",
        "outputId": "488341a1-a56f-4c72-f9e0-136d593a1916"
      },
      "execution_count": null,
      "outputs": [
        {
          "output_type": "execute_result",
          "data": {
            "text/plain": [
              "Index(['Country/Territory', 'Code', 'Year', 'Meningitis',\n",
              "       'Alzheimer's Disease and Other Dementias', 'Parkinson's Disease',\n",
              "       'Nutritional Deficiencies', 'Malaria', 'Drowning',\n",
              "       'Interpersonal Violence', 'Maternal Disorders', 'HIV/AIDS',\n",
              "       'Drug Use Disorders', 'Tuberculosis', 'Cardiovascular Diseases',\n",
              "       'Lower Respiratory Infections', 'Neonatal Disorders',\n",
              "       'Alcohol Use Disorders', 'Self-harm', 'Exposure to Forces of Nature',\n",
              "       'Diarrheal Diseases', 'Environmental Heat and Cold Exposure',\n",
              "       'Neoplasms', 'Conflict and Terrorism', 'Diabetes Mellitus',\n",
              "       'Chronic Kidney Disease', 'Poisonings', 'Protein-Energy Malnutrition',\n",
              "       'Road Injuries', 'Chronic Respiratory Diseases',\n",
              "       'Cirrhosis and Other Chronic Liver Diseases', 'Digestive Diseases',\n",
              "       'Fire, Heat, and Hot Substances', 'Acute Hepatitis'],\n",
              "      dtype='object')"
            ]
          },
          "metadata": {},
          "execution_count": 6
        }
      ]
    },
    {
      "cell_type": "markdown",
      "source": [
        "In this Dataset, we have Historical Data of different cause of deaths for all ages around the World. \n",
        "\n",
        "**The key features of this Dataset are:**\n",
        "\n",
        "  * 01. Country/Territory - Name of the Country/Territory\n",
        "  * 02. Code - Country/Territory Code\n",
        "  * 03. Year - Year of the Incident\n",
        "  * 04. Meningitis - No. of People died from Meningitis\n",
        "  * 05. Alzheimer's Disease and Other Dementias - No. of People died from Alzheimer's Disease and Other Dementias\n",
        "  * 06. Parkinson's Disease - No. of People died from Parkinson's Disease\n",
        "  * 07. Nutritional Deficiencies - No. of People died from Nutritional Deficiencies\n",
        "  * 08. Malaria - No. of People died from Malaria\n",
        "  * 09. Drowning - No. of People died from Drowning\n",
        "  * 10. Interpersonal Violence - No. of People died from Interpersonal Violence\n",
        "  * 11. Maternal Disorders - No. of People died from Maternal Disorders\n",
        "  * 12. Drug Use Disorders - No. of People died from Drug Use Disorders\n",
        "  * 13. Tuberculosis - No. of People died from Tuberculosis\n",
        "  * 14. Cardiovascular Diseases - No. of People died from Cardiovascular Diseases\n",
        "  * 15. Lower Respiratory Infections - No. of People died from Lower Respiratory Infections\n",
        "  * 16. Neonatal Disorders - No. of People died from Neonatal Disorders\n",
        "  * 17. Alcohol Use Disorders - No. of People died from Alcohol Use Disorders\n",
        "  * 18. Self-harm - No. of People died from Self-harm\n",
        "  * 19. Exposure to Forces of Nature - No. of People died from Exposure to Forces of Nature\n",
        "  * 20. Diarrheal Diseases - No. of People died from Diarrheal Diseases\n",
        "  * 21. Environmental Heat and Cold Exposure - No. of People died from Environmental Heat and Cold Exposure\n",
        "  * 22. Neoplasms - No. of People died from Neoplasms\n",
        "  * 23. Conflict and Terrorism - No. of People died from Conflict and Terrorism\n",
        "  * 24. Diabetes Mellitus - No. of People died from Diabetes Mellitus\n",
        "  * 25. Chronic Kidney Disease - No. of People died from Chronic Kidney Disease\n",
        "  * 26. Poisonings - No. of People died from Poisoning\n",
        "  * 27. Protein-Energy Malnutrition - No. of People died from Protein-Energy Malnutrition\n",
        "  * 28. Chronic Respiratory Diseases - No. of People died from Chronic Respiratory Diseases\n",
        "  * 29. Cirrhosis and Other Chronic Liver Diseases - No. of People died from Cirrhosis and Other Chronic Liver Diseases\n",
        "  * 30. Digestive Diseases - No. of People died from Digestive Diseases\n",
        "  * 31. Fire, Heat, and Hot Substances - No. of People died from Fire or Heat or any Hot Substances\n",
        "  * 32. Acute Hepatitis - No. of People died from Acute Hepatitis\n",
        "\n",
        "**PROBLEM STATEMENT**\n",
        "\n",
        "**To give findings and conclusions in detailed data analysis**"
      ],
      "metadata": {
        "id": "ZW1seyraNUGa"
      }
    },
    {
      "cell_type": "code",
      "source": [
        "# Checking missing valuesin the dataset\n",
        "\n",
        "df.isnull().sum()"
      ],
      "metadata": {
        "colab": {
          "base_uri": "https://localhost:8080/"
        },
        "id": "Q2bT6LSPTEr_",
        "outputId": "3327bd29-02f9-484e-86d0-b3ea938d818c"
      },
      "execution_count": null,
      "outputs": [
        {
          "output_type": "execute_result",
          "data": {
            "text/plain": [
              "Country/Territory                             0\n",
              "Code                                          0\n",
              "Year                                          0\n",
              "Meningitis                                    0\n",
              "Alzheimer's Disease and Other Dementias       0\n",
              "Parkinson's Disease                           0\n",
              "Nutritional Deficiencies                      0\n",
              "Malaria                                       0\n",
              "Drowning                                      0\n",
              "Interpersonal Violence                        0\n",
              "Maternal Disorders                            0\n",
              "HIV/AIDS                                      0\n",
              "Drug Use Disorders                            0\n",
              "Tuberculosis                                  0\n",
              "Cardiovascular Diseases                       0\n",
              "Lower Respiratory Infections                  0\n",
              "Neonatal Disorders                            0\n",
              "Alcohol Use Disorders                         0\n",
              "Self-harm                                     0\n",
              "Exposure to Forces of Nature                  0\n",
              "Diarrheal Diseases                            0\n",
              "Environmental Heat and Cold Exposure          0\n",
              "Neoplasms                                     0\n",
              "Conflict and Terrorism                        0\n",
              "Diabetes Mellitus                             0\n",
              "Chronic Kidney Disease                        0\n",
              "Poisonings                                    0\n",
              "Protein-Energy Malnutrition                   0\n",
              "Road Injuries                                 0\n",
              "Chronic Respiratory Diseases                  0\n",
              "Cirrhosis and Other Chronic Liver Diseases    0\n",
              "Digestive Diseases                            0\n",
              "Fire, Heat, and Hot Substances                0\n",
              "Acute Hepatitis                               0\n",
              "dtype: int64"
            ]
          },
          "metadata": {},
          "execution_count": 6
        }
      ]
    },
    {
      "cell_type": "markdown",
      "source": [
        "**No missing values in the dataset.**"
      ],
      "metadata": {
        "id": "OYkodyzRUZ7i"
      }
    },
    {
      "cell_type": "code",
      "source": [
        "df['Year'].nunique()"
      ],
      "metadata": {
        "colab": {
          "base_uri": "https://localhost:8080/"
        },
        "id": "V6plnTt3T1Tr",
        "outputId": "2d52f339-e412-4f77-ceb6-d44ce81315bb"
      },
      "execution_count": null,
      "outputs": [
        {
          "output_type": "execute_result",
          "data": {
            "text/plain": [
              "30"
            ]
          },
          "metadata": {},
          "execution_count": 7
        }
      ]
    },
    {
      "cell_type": "markdown",
      "source": [
        "**The above dataset contains data of 30 years for various countries**"
      ],
      "metadata": {
        "id": "v3jIfrB99k3B"
      }
    },
    {
      "cell_type": "code",
      "source": [
        "df['Country/Territory'].value_counts()"
      ],
      "metadata": {
        "colab": {
          "base_uri": "https://localhost:8080/"
        },
        "id": "zGv1kyjb91YK",
        "outputId": "7ddda226-18b7-4f68-b18a-ebbc8f7243c7"
      },
      "execution_count": null,
      "outputs": [
        {
          "output_type": "execute_result",
          "data": {
            "text/plain": [
              "Afghanistan         30\n",
              "Papua New Guinea    30\n",
              "Niue                30\n",
              "North Korea         30\n",
              "North Macedonia     30\n",
              "                    ..\n",
              "Greenland           30\n",
              "Grenada             30\n",
              "Guam                30\n",
              "Guatemala           30\n",
              "Zimbabwe            30\n",
              "Name: Country/Territory, Length: 204, dtype: int64"
            ]
          },
          "metadata": {},
          "execution_count": 8
        }
      ]
    },
    {
      "cell_type": "code",
      "source": [
        "df['Country/Territory'].nunique()"
      ],
      "metadata": {
        "colab": {
          "base_uri": "https://localhost:8080/"
        },
        "id": "I6nyDaru-H3P",
        "outputId": "8e177e71-fac7-4f2c-b76b-c69724acf6cb"
      },
      "execution_count": null,
      "outputs": [
        {
          "output_type": "execute_result",
          "data": {
            "text/plain": [
              "204"
            ]
          },
          "metadata": {},
          "execution_count": 9
        }
      ]
    },
    {
      "cell_type": "markdown",
      "source": [
        "**The above dataset contains 30 years data of 204 countries**"
      ],
      "metadata": {
        "id": "90MsoQIR-OW1"
      }
    },
    {
      "cell_type": "code",
      "source": [
        "# Sepearating causes of death \n",
        "\n",
        "X = df.drop(columns = ['Country/Territory', 'Code', 'Year'],axis=1)"
      ],
      "metadata": {
        "id": "puk3tJoF-a_f"
      },
      "execution_count": null,
      "outputs": []
    },
    {
      "cell_type": "code",
      "source": [
        "# Adding a new column Total_no_of_deaths\n",
        "\n",
        "df['Total_no_of_deaths'] = X.sum(axis=1)"
      ],
      "metadata": {
        "id": "MW6eKmH2B0l0"
      },
      "execution_count": null,
      "outputs": []
    },
    {
      "cell_type": "code",
      "source": [
        "df.head()"
      ],
      "metadata": {
        "colab": {
          "base_uri": "https://localhost:8080/",
          "height": 369
        },
        "id": "WG1dnSK3S9K2",
        "outputId": "edf92ff6-7160-4cf4-c11d-f2f1501c2fb0"
      },
      "execution_count": null,
      "outputs": [
        {
          "output_type": "execute_result",
          "data": {
            "text/plain": [
              "  Country/Territory Code  Year  Meningitis  \\\n",
              "0       Afghanistan  AFG  1990        2159   \n",
              "1       Afghanistan  AFG  1991        2218   \n",
              "2       Afghanistan  AFG  1992        2475   \n",
              "3       Afghanistan  AFG  1993        2812   \n",
              "4       Afghanistan  AFG  1994        3027   \n",
              "\n",
              "   Alzheimer's Disease and Other Dementias  Parkinson's Disease  \\\n",
              "0                                     1116                  371   \n",
              "1                                     1136                  374   \n",
              "2                                     1162                  378   \n",
              "3                                     1187                  384   \n",
              "4                                     1211                  391   \n",
              "\n",
              "   Nutritional Deficiencies  Malaria  Drowning  Interpersonal Violence  ...  \\\n",
              "0                      2087       93      1370                    1538  ...   \n",
              "1                      2153      189      1391                    2001  ...   \n",
              "2                      2441      239      1514                    2299  ...   \n",
              "3                      2837      108      1687                    2589  ...   \n",
              "4                      3081      211      1809                    2849  ...   \n",
              "\n",
              "   Chronic Kidney Disease  Poisonings  Protein-Energy Malnutrition  \\\n",
              "0                    3709         338                         2054   \n",
              "1                    3724         351                         2119   \n",
              "2                    3776         386                         2404   \n",
              "3                    3862         425                         2797   \n",
              "4                    3932         451                         3038   \n",
              "\n",
              "   Road Injuries  Chronic Respiratory Diseases  \\\n",
              "0           4154                          5945   \n",
              "1           4472                          6050   \n",
              "2           5106                          6223   \n",
              "3           5681                          6445   \n",
              "4           6001                          6664   \n",
              "\n",
              "   Cirrhosis and Other Chronic Liver Diseases  Digestive Diseases  \\\n",
              "0                                        2673                5005   \n",
              "1                                        2728                5120   \n",
              "2                                        2830                5335   \n",
              "3                                        2943                5568   \n",
              "4                                        3027                5739   \n",
              "\n",
              "   Fire, Heat, and Hot Substances  Acute Hepatitis  Total_no_of_deaths  \n",
              "0                             323             2985              147971  \n",
              "1                             332             3092              156844  \n",
              "2                             360             3325              169156  \n",
              "3                             396             3601              182230  \n",
              "4                             420             3816              194795  \n",
              "\n",
              "[5 rows x 35 columns]"
            ],
            "text/html": [
              "\n",
              "  <div id=\"df-4465be33-a5aa-49eb-aec7-2168eb2401f8\">\n",
              "    <div class=\"colab-df-container\">\n",
              "      <div>\n",
              "<style scoped>\n",
              "    .dataframe tbody tr th:only-of-type {\n",
              "        vertical-align: middle;\n",
              "    }\n",
              "\n",
              "    .dataframe tbody tr th {\n",
              "        vertical-align: top;\n",
              "    }\n",
              "\n",
              "    .dataframe thead th {\n",
              "        text-align: right;\n",
              "    }\n",
              "</style>\n",
              "<table border=\"1\" class=\"dataframe\">\n",
              "  <thead>\n",
              "    <tr style=\"text-align: right;\">\n",
              "      <th></th>\n",
              "      <th>Country/Territory</th>\n",
              "      <th>Code</th>\n",
              "      <th>Year</th>\n",
              "      <th>Meningitis</th>\n",
              "      <th>Alzheimer's Disease and Other Dementias</th>\n",
              "      <th>Parkinson's Disease</th>\n",
              "      <th>Nutritional Deficiencies</th>\n",
              "      <th>Malaria</th>\n",
              "      <th>Drowning</th>\n",
              "      <th>Interpersonal Violence</th>\n",
              "      <th>...</th>\n",
              "      <th>Chronic Kidney Disease</th>\n",
              "      <th>Poisonings</th>\n",
              "      <th>Protein-Energy Malnutrition</th>\n",
              "      <th>Road Injuries</th>\n",
              "      <th>Chronic Respiratory Diseases</th>\n",
              "      <th>Cirrhosis and Other Chronic Liver Diseases</th>\n",
              "      <th>Digestive Diseases</th>\n",
              "      <th>Fire, Heat, and Hot Substances</th>\n",
              "      <th>Acute Hepatitis</th>\n",
              "      <th>Total_no_of_deaths</th>\n",
              "    </tr>\n",
              "  </thead>\n",
              "  <tbody>\n",
              "    <tr>\n",
              "      <th>0</th>\n",
              "      <td>Afghanistan</td>\n",
              "      <td>AFG</td>\n",
              "      <td>1990</td>\n",
              "      <td>2159</td>\n",
              "      <td>1116</td>\n",
              "      <td>371</td>\n",
              "      <td>2087</td>\n",
              "      <td>93</td>\n",
              "      <td>1370</td>\n",
              "      <td>1538</td>\n",
              "      <td>...</td>\n",
              "      <td>3709</td>\n",
              "      <td>338</td>\n",
              "      <td>2054</td>\n",
              "      <td>4154</td>\n",
              "      <td>5945</td>\n",
              "      <td>2673</td>\n",
              "      <td>5005</td>\n",
              "      <td>323</td>\n",
              "      <td>2985</td>\n",
              "      <td>147971</td>\n",
              "    </tr>\n",
              "    <tr>\n",
              "      <th>1</th>\n",
              "      <td>Afghanistan</td>\n",
              "      <td>AFG</td>\n",
              "      <td>1991</td>\n",
              "      <td>2218</td>\n",
              "      <td>1136</td>\n",
              "      <td>374</td>\n",
              "      <td>2153</td>\n",
              "      <td>189</td>\n",
              "      <td>1391</td>\n",
              "      <td>2001</td>\n",
              "      <td>...</td>\n",
              "      <td>3724</td>\n",
              "      <td>351</td>\n",
              "      <td>2119</td>\n",
              "      <td>4472</td>\n",
              "      <td>6050</td>\n",
              "      <td>2728</td>\n",
              "      <td>5120</td>\n",
              "      <td>332</td>\n",
              "      <td>3092</td>\n",
              "      <td>156844</td>\n",
              "    </tr>\n",
              "    <tr>\n",
              "      <th>2</th>\n",
              "      <td>Afghanistan</td>\n",
              "      <td>AFG</td>\n",
              "      <td>1992</td>\n",
              "      <td>2475</td>\n",
              "      <td>1162</td>\n",
              "      <td>378</td>\n",
              "      <td>2441</td>\n",
              "      <td>239</td>\n",
              "      <td>1514</td>\n",
              "      <td>2299</td>\n",
              "      <td>...</td>\n",
              "      <td>3776</td>\n",
              "      <td>386</td>\n",
              "      <td>2404</td>\n",
              "      <td>5106</td>\n",
              "      <td>6223</td>\n",
              "      <td>2830</td>\n",
              "      <td>5335</td>\n",
              "      <td>360</td>\n",
              "      <td>3325</td>\n",
              "      <td>169156</td>\n",
              "    </tr>\n",
              "    <tr>\n",
              "      <th>3</th>\n",
              "      <td>Afghanistan</td>\n",
              "      <td>AFG</td>\n",
              "      <td>1993</td>\n",
              "      <td>2812</td>\n",
              "      <td>1187</td>\n",
              "      <td>384</td>\n",
              "      <td>2837</td>\n",
              "      <td>108</td>\n",
              "      <td>1687</td>\n",
              "      <td>2589</td>\n",
              "      <td>...</td>\n",
              "      <td>3862</td>\n",
              "      <td>425</td>\n",
              "      <td>2797</td>\n",
              "      <td>5681</td>\n",
              "      <td>6445</td>\n",
              "      <td>2943</td>\n",
              "      <td>5568</td>\n",
              "      <td>396</td>\n",
              "      <td>3601</td>\n",
              "      <td>182230</td>\n",
              "    </tr>\n",
              "    <tr>\n",
              "      <th>4</th>\n",
              "      <td>Afghanistan</td>\n",
              "      <td>AFG</td>\n",
              "      <td>1994</td>\n",
              "      <td>3027</td>\n",
              "      <td>1211</td>\n",
              "      <td>391</td>\n",
              "      <td>3081</td>\n",
              "      <td>211</td>\n",
              "      <td>1809</td>\n",
              "      <td>2849</td>\n",
              "      <td>...</td>\n",
              "      <td>3932</td>\n",
              "      <td>451</td>\n",
              "      <td>3038</td>\n",
              "      <td>6001</td>\n",
              "      <td>6664</td>\n",
              "      <td>3027</td>\n",
              "      <td>5739</td>\n",
              "      <td>420</td>\n",
              "      <td>3816</td>\n",
              "      <td>194795</td>\n",
              "    </tr>\n",
              "  </tbody>\n",
              "</table>\n",
              "<p>5 rows × 35 columns</p>\n",
              "</div>\n",
              "      <button class=\"colab-df-convert\" onclick=\"convertToInteractive('df-4465be33-a5aa-49eb-aec7-2168eb2401f8')\"\n",
              "              title=\"Convert this dataframe to an interactive table.\"\n",
              "              style=\"display:none;\">\n",
              "        \n",
              "  <svg xmlns=\"http://www.w3.org/2000/svg\" height=\"24px\"viewBox=\"0 0 24 24\"\n",
              "       width=\"24px\">\n",
              "    <path d=\"M0 0h24v24H0V0z\" fill=\"none\"/>\n",
              "    <path d=\"M18.56 5.44l.94 2.06.94-2.06 2.06-.94-2.06-.94-.94-2.06-.94 2.06-2.06.94zm-11 1L8.5 8.5l.94-2.06 2.06-.94-2.06-.94L8.5 2.5l-.94 2.06-2.06.94zm10 10l.94 2.06.94-2.06 2.06-.94-2.06-.94-.94-2.06-.94 2.06-2.06.94z\"/><path d=\"M17.41 7.96l-1.37-1.37c-.4-.4-.92-.59-1.43-.59-.52 0-1.04.2-1.43.59L10.3 9.45l-7.72 7.72c-.78.78-.78 2.05 0 2.83L4 21.41c.39.39.9.59 1.41.59.51 0 1.02-.2 1.41-.59l7.78-7.78 2.81-2.81c.8-.78.8-2.07 0-2.86zM5.41 20L4 18.59l7.72-7.72 1.47 1.35L5.41 20z\"/>\n",
              "  </svg>\n",
              "      </button>\n",
              "      \n",
              "  <style>\n",
              "    .colab-df-container {\n",
              "      display:flex;\n",
              "      flex-wrap:wrap;\n",
              "      gap: 12px;\n",
              "    }\n",
              "\n",
              "    .colab-df-convert {\n",
              "      background-color: #E8F0FE;\n",
              "      border: none;\n",
              "      border-radius: 50%;\n",
              "      cursor: pointer;\n",
              "      display: none;\n",
              "      fill: #1967D2;\n",
              "      height: 32px;\n",
              "      padding: 0 0 0 0;\n",
              "      width: 32px;\n",
              "    }\n",
              "\n",
              "    .colab-df-convert:hover {\n",
              "      background-color: #E2EBFA;\n",
              "      box-shadow: 0px 1px 2px rgba(60, 64, 67, 0.3), 0px 1px 3px 1px rgba(60, 64, 67, 0.15);\n",
              "      fill: #174EA6;\n",
              "    }\n",
              "\n",
              "    [theme=dark] .colab-df-convert {\n",
              "      background-color: #3B4455;\n",
              "      fill: #D2E3FC;\n",
              "    }\n",
              "\n",
              "    [theme=dark] .colab-df-convert:hover {\n",
              "      background-color: #434B5C;\n",
              "      box-shadow: 0px 1px 3px 1px rgba(0, 0, 0, 0.15);\n",
              "      filter: drop-shadow(0px 1px 2px rgba(0, 0, 0, 0.3));\n",
              "      fill: #FFFFFF;\n",
              "    }\n",
              "  </style>\n",
              "\n",
              "      <script>\n",
              "        const buttonEl =\n",
              "          document.querySelector('#df-4465be33-a5aa-49eb-aec7-2168eb2401f8 button.colab-df-convert');\n",
              "        buttonEl.style.display =\n",
              "          google.colab.kernel.accessAllowed ? 'block' : 'none';\n",
              "\n",
              "        async function convertToInteractive(key) {\n",
              "          const element = document.querySelector('#df-4465be33-a5aa-49eb-aec7-2168eb2401f8');\n",
              "          const dataTable =\n",
              "            await google.colab.kernel.invokeFunction('convertToInteractive',\n",
              "                                                     [key], {});\n",
              "          if (!dataTable) return;\n",
              "\n",
              "          const docLinkHtml = 'Like what you see? Visit the ' +\n",
              "            '<a target=\"_blank\" href=https://colab.research.google.com/notebooks/data_table.ipynb>data table notebook</a>'\n",
              "            + ' to learn more about interactive tables.';\n",
              "          element.innerHTML = '';\n",
              "          dataTable['output_type'] = 'display_data';\n",
              "          await google.colab.output.renderOutput(dataTable, element);\n",
              "          const docLink = document.createElement('div');\n",
              "          docLink.innerHTML = docLinkHtml;\n",
              "          element.appendChild(docLink);\n",
              "        }\n",
              "      </script>\n",
              "    </div>\n",
              "  </div>\n",
              "  "
            ]
          },
          "metadata": {},
          "execution_count": 7
        }
      ]
    },
    {
      "cell_type": "code",
      "source": [
        "# Sorting Top 40 total number of deaths \n",
        "\n",
        "Top40_Deaths = df.sort_values('Total_no_of_deaths',ascending=False)[:40][['Total_no_of_deaths','Country/Territory','Year']]\n",
        "\n",
        "Top40_Deaths"
      ],
      "metadata": {
        "colab": {
          "base_uri": "https://localhost:8080/",
          "height": 1000
        },
        "id": "cgQM-0OSTiGc",
        "outputId": "dfb5033b-08e7-4607-b394-c3f3dadcdd68"
      },
      "execution_count": null,
      "outputs": [
        {
          "output_type": "execute_result",
          "data": {
            "text/plain": [
              "      Total_no_of_deaths Country/Territory  Year\n",
              "1139            10442561             China  2019\n",
              "1138            10163943             China  2018\n",
              "1137             9978653             China  2017\n",
              "1119             9814213             China  2016\n",
              "1118             9591222             China  2015\n",
              "1117             9503904             China  2014\n",
              "1116             9411928             China  2013\n",
              "1114             9366974             China  2011\n",
              "1115             9364587             China  2012\n",
              "1113             9284664             China  2010\n",
              "1112             9074833             China  2009\n",
              "1135             8982702             China  2005\n",
              "1111             8972670             China  2008\n",
              "1134             8960684             China  2004\n",
              "2459             8812747             India  2019\n",
              "1136             8794396             China  2006\n",
              "1110             8755201             China  2007\n",
              "1133             8750361             China  2003\n",
              "2458             8698039             India  2018\n",
              "1132             8610956             China  2002\n",
              "1131             8490928             China  2001\n",
              "2457             8471931             India  2017\n",
              "1130             8404159             China  2000\n",
              "2435             8394566             India  2015\n",
              "2456             8383986             India  2016\n",
              "2434             8382673             India  2013\n",
              "2455             8343254             India  2014\n",
              "2433             8245684             India  2012\n",
              "1129             8203474             China  1999\n",
              "2454             8160776             India  2011\n",
              "2431             8159092             India  2008\n",
              "1128             8082343             China  1998\n",
              "1126             8079610             China  1996\n",
              "1123             8077792             China  1993\n",
              "1124             8070458             China  1994\n",
              "1125             8067172             China  1995\n",
              "1122             8059068             China  1992\n",
              "1127             8051031             China  1997\n",
              "1121             8033487             China  1991\n",
              "2430             8014215             India  2007"
            ],
            "text/html": [
              "\n",
              "  <div id=\"df-48426ceb-47cd-47a8-8c3b-5bc74036337b\">\n",
              "    <div class=\"colab-df-container\">\n",
              "      <div>\n",
              "<style scoped>\n",
              "    .dataframe tbody tr th:only-of-type {\n",
              "        vertical-align: middle;\n",
              "    }\n",
              "\n",
              "    .dataframe tbody tr th {\n",
              "        vertical-align: top;\n",
              "    }\n",
              "\n",
              "    .dataframe thead th {\n",
              "        text-align: right;\n",
              "    }\n",
              "</style>\n",
              "<table border=\"1\" class=\"dataframe\">\n",
              "  <thead>\n",
              "    <tr style=\"text-align: right;\">\n",
              "      <th></th>\n",
              "      <th>Total_no_of_deaths</th>\n",
              "      <th>Country/Territory</th>\n",
              "      <th>Year</th>\n",
              "    </tr>\n",
              "  </thead>\n",
              "  <tbody>\n",
              "    <tr>\n",
              "      <th>1139</th>\n",
              "      <td>10442561</td>\n",
              "      <td>China</td>\n",
              "      <td>2019</td>\n",
              "    </tr>\n",
              "    <tr>\n",
              "      <th>1138</th>\n",
              "      <td>10163943</td>\n",
              "      <td>China</td>\n",
              "      <td>2018</td>\n",
              "    </tr>\n",
              "    <tr>\n",
              "      <th>1137</th>\n",
              "      <td>9978653</td>\n",
              "      <td>China</td>\n",
              "      <td>2017</td>\n",
              "    </tr>\n",
              "    <tr>\n",
              "      <th>1119</th>\n",
              "      <td>9814213</td>\n",
              "      <td>China</td>\n",
              "      <td>2016</td>\n",
              "    </tr>\n",
              "    <tr>\n",
              "      <th>1118</th>\n",
              "      <td>9591222</td>\n",
              "      <td>China</td>\n",
              "      <td>2015</td>\n",
              "    </tr>\n",
              "    <tr>\n",
              "      <th>1117</th>\n",
              "      <td>9503904</td>\n",
              "      <td>China</td>\n",
              "      <td>2014</td>\n",
              "    </tr>\n",
              "    <tr>\n",
              "      <th>1116</th>\n",
              "      <td>9411928</td>\n",
              "      <td>China</td>\n",
              "      <td>2013</td>\n",
              "    </tr>\n",
              "    <tr>\n",
              "      <th>1114</th>\n",
              "      <td>9366974</td>\n",
              "      <td>China</td>\n",
              "      <td>2011</td>\n",
              "    </tr>\n",
              "    <tr>\n",
              "      <th>1115</th>\n",
              "      <td>9364587</td>\n",
              "      <td>China</td>\n",
              "      <td>2012</td>\n",
              "    </tr>\n",
              "    <tr>\n",
              "      <th>1113</th>\n",
              "      <td>9284664</td>\n",
              "      <td>China</td>\n",
              "      <td>2010</td>\n",
              "    </tr>\n",
              "    <tr>\n",
              "      <th>1112</th>\n",
              "      <td>9074833</td>\n",
              "      <td>China</td>\n",
              "      <td>2009</td>\n",
              "    </tr>\n",
              "    <tr>\n",
              "      <th>1135</th>\n",
              "      <td>8982702</td>\n",
              "      <td>China</td>\n",
              "      <td>2005</td>\n",
              "    </tr>\n",
              "    <tr>\n",
              "      <th>1111</th>\n",
              "      <td>8972670</td>\n",
              "      <td>China</td>\n",
              "      <td>2008</td>\n",
              "    </tr>\n",
              "    <tr>\n",
              "      <th>1134</th>\n",
              "      <td>8960684</td>\n",
              "      <td>China</td>\n",
              "      <td>2004</td>\n",
              "    </tr>\n",
              "    <tr>\n",
              "      <th>2459</th>\n",
              "      <td>8812747</td>\n",
              "      <td>India</td>\n",
              "      <td>2019</td>\n",
              "    </tr>\n",
              "    <tr>\n",
              "      <th>1136</th>\n",
              "      <td>8794396</td>\n",
              "      <td>China</td>\n",
              "      <td>2006</td>\n",
              "    </tr>\n",
              "    <tr>\n",
              "      <th>1110</th>\n",
              "      <td>8755201</td>\n",
              "      <td>China</td>\n",
              "      <td>2007</td>\n",
              "    </tr>\n",
              "    <tr>\n",
              "      <th>1133</th>\n",
              "      <td>8750361</td>\n",
              "      <td>China</td>\n",
              "      <td>2003</td>\n",
              "    </tr>\n",
              "    <tr>\n",
              "      <th>2458</th>\n",
              "      <td>8698039</td>\n",
              "      <td>India</td>\n",
              "      <td>2018</td>\n",
              "    </tr>\n",
              "    <tr>\n",
              "      <th>1132</th>\n",
              "      <td>8610956</td>\n",
              "      <td>China</td>\n",
              "      <td>2002</td>\n",
              "    </tr>\n",
              "    <tr>\n",
              "      <th>1131</th>\n",
              "      <td>8490928</td>\n",
              "      <td>China</td>\n",
              "      <td>2001</td>\n",
              "    </tr>\n",
              "    <tr>\n",
              "      <th>2457</th>\n",
              "      <td>8471931</td>\n",
              "      <td>India</td>\n",
              "      <td>2017</td>\n",
              "    </tr>\n",
              "    <tr>\n",
              "      <th>1130</th>\n",
              "      <td>8404159</td>\n",
              "      <td>China</td>\n",
              "      <td>2000</td>\n",
              "    </tr>\n",
              "    <tr>\n",
              "      <th>2435</th>\n",
              "      <td>8394566</td>\n",
              "      <td>India</td>\n",
              "      <td>2015</td>\n",
              "    </tr>\n",
              "    <tr>\n",
              "      <th>2456</th>\n",
              "      <td>8383986</td>\n",
              "      <td>India</td>\n",
              "      <td>2016</td>\n",
              "    </tr>\n",
              "    <tr>\n",
              "      <th>2434</th>\n",
              "      <td>8382673</td>\n",
              "      <td>India</td>\n",
              "      <td>2013</td>\n",
              "    </tr>\n",
              "    <tr>\n",
              "      <th>2455</th>\n",
              "      <td>8343254</td>\n",
              "      <td>India</td>\n",
              "      <td>2014</td>\n",
              "    </tr>\n",
              "    <tr>\n",
              "      <th>2433</th>\n",
              "      <td>8245684</td>\n",
              "      <td>India</td>\n",
              "      <td>2012</td>\n",
              "    </tr>\n",
              "    <tr>\n",
              "      <th>1129</th>\n",
              "      <td>8203474</td>\n",
              "      <td>China</td>\n",
              "      <td>1999</td>\n",
              "    </tr>\n",
              "    <tr>\n",
              "      <th>2454</th>\n",
              "      <td>8160776</td>\n",
              "      <td>India</td>\n",
              "      <td>2011</td>\n",
              "    </tr>\n",
              "    <tr>\n",
              "      <th>2431</th>\n",
              "      <td>8159092</td>\n",
              "      <td>India</td>\n",
              "      <td>2008</td>\n",
              "    </tr>\n",
              "    <tr>\n",
              "      <th>1128</th>\n",
              "      <td>8082343</td>\n",
              "      <td>China</td>\n",
              "      <td>1998</td>\n",
              "    </tr>\n",
              "    <tr>\n",
              "      <th>1126</th>\n",
              "      <td>8079610</td>\n",
              "      <td>China</td>\n",
              "      <td>1996</td>\n",
              "    </tr>\n",
              "    <tr>\n",
              "      <th>1123</th>\n",
              "      <td>8077792</td>\n",
              "      <td>China</td>\n",
              "      <td>1993</td>\n",
              "    </tr>\n",
              "    <tr>\n",
              "      <th>1124</th>\n",
              "      <td>8070458</td>\n",
              "      <td>China</td>\n",
              "      <td>1994</td>\n",
              "    </tr>\n",
              "    <tr>\n",
              "      <th>1125</th>\n",
              "      <td>8067172</td>\n",
              "      <td>China</td>\n",
              "      <td>1995</td>\n",
              "    </tr>\n",
              "    <tr>\n",
              "      <th>1122</th>\n",
              "      <td>8059068</td>\n",
              "      <td>China</td>\n",
              "      <td>1992</td>\n",
              "    </tr>\n",
              "    <tr>\n",
              "      <th>1127</th>\n",
              "      <td>8051031</td>\n",
              "      <td>China</td>\n",
              "      <td>1997</td>\n",
              "    </tr>\n",
              "    <tr>\n",
              "      <th>1121</th>\n",
              "      <td>8033487</td>\n",
              "      <td>China</td>\n",
              "      <td>1991</td>\n",
              "    </tr>\n",
              "    <tr>\n",
              "      <th>2430</th>\n",
              "      <td>8014215</td>\n",
              "      <td>India</td>\n",
              "      <td>2007</td>\n",
              "    </tr>\n",
              "  </tbody>\n",
              "</table>\n",
              "</div>\n",
              "      <button class=\"colab-df-convert\" onclick=\"convertToInteractive('df-48426ceb-47cd-47a8-8c3b-5bc74036337b')\"\n",
              "              title=\"Convert this dataframe to an interactive table.\"\n",
              "              style=\"display:none;\">\n",
              "        \n",
              "  <svg xmlns=\"http://www.w3.org/2000/svg\" height=\"24px\"viewBox=\"0 0 24 24\"\n",
              "       width=\"24px\">\n",
              "    <path d=\"M0 0h24v24H0V0z\" fill=\"none\"/>\n",
              "    <path d=\"M18.56 5.44l.94 2.06.94-2.06 2.06-.94-2.06-.94-.94-2.06-.94 2.06-2.06.94zm-11 1L8.5 8.5l.94-2.06 2.06-.94-2.06-.94L8.5 2.5l-.94 2.06-2.06.94zm10 10l.94 2.06.94-2.06 2.06-.94-2.06-.94-.94-2.06-.94 2.06-2.06.94z\"/><path d=\"M17.41 7.96l-1.37-1.37c-.4-.4-.92-.59-1.43-.59-.52 0-1.04.2-1.43.59L10.3 9.45l-7.72 7.72c-.78.78-.78 2.05 0 2.83L4 21.41c.39.39.9.59 1.41.59.51 0 1.02-.2 1.41-.59l7.78-7.78 2.81-2.81c.8-.78.8-2.07 0-2.86zM5.41 20L4 18.59l7.72-7.72 1.47 1.35L5.41 20z\"/>\n",
              "  </svg>\n",
              "      </button>\n",
              "      \n",
              "  <style>\n",
              "    .colab-df-container {\n",
              "      display:flex;\n",
              "      flex-wrap:wrap;\n",
              "      gap: 12px;\n",
              "    }\n",
              "\n",
              "    .colab-df-convert {\n",
              "      background-color: #E8F0FE;\n",
              "      border: none;\n",
              "      border-radius: 50%;\n",
              "      cursor: pointer;\n",
              "      display: none;\n",
              "      fill: #1967D2;\n",
              "      height: 32px;\n",
              "      padding: 0 0 0 0;\n",
              "      width: 32px;\n",
              "    }\n",
              "\n",
              "    .colab-df-convert:hover {\n",
              "      background-color: #E2EBFA;\n",
              "      box-shadow: 0px 1px 2px rgba(60, 64, 67, 0.3), 0px 1px 3px 1px rgba(60, 64, 67, 0.15);\n",
              "      fill: #174EA6;\n",
              "    }\n",
              "\n",
              "    [theme=dark] .colab-df-convert {\n",
              "      background-color: #3B4455;\n",
              "      fill: #D2E3FC;\n",
              "    }\n",
              "\n",
              "    [theme=dark] .colab-df-convert:hover {\n",
              "      background-color: #434B5C;\n",
              "      box-shadow: 0px 1px 3px 1px rgba(0, 0, 0, 0.15);\n",
              "      filter: drop-shadow(0px 1px 2px rgba(0, 0, 0, 0.3));\n",
              "      fill: #FFFFFF;\n",
              "    }\n",
              "  </style>\n",
              "\n",
              "      <script>\n",
              "        const buttonEl =\n",
              "          document.querySelector('#df-48426ceb-47cd-47a8-8c3b-5bc74036337b button.colab-df-convert');\n",
              "        buttonEl.style.display =\n",
              "          google.colab.kernel.accessAllowed ? 'block' : 'none';\n",
              "\n",
              "        async function convertToInteractive(key) {\n",
              "          const element = document.querySelector('#df-48426ceb-47cd-47a8-8c3b-5bc74036337b');\n",
              "          const dataTable =\n",
              "            await google.colab.kernel.invokeFunction('convertToInteractive',\n",
              "                                                     [key], {});\n",
              "          if (!dataTable) return;\n",
              "\n",
              "          const docLinkHtml = 'Like what you see? Visit the ' +\n",
              "            '<a target=\"_blank\" href=https://colab.research.google.com/notebooks/data_table.ipynb>data table notebook</a>'\n",
              "            + ' to learn more about interactive tables.';\n",
              "          element.innerHTML = '';\n",
              "          dataTable['output_type'] = 'display_data';\n",
              "          await google.colab.output.renderOutput(dataTable, element);\n",
              "          const docLink = document.createElement('div');\n",
              "          docLink.innerHTML = docLinkHtml;\n",
              "          element.appendChild(docLink);\n",
              "        }\n",
              "      </script>\n",
              "    </div>\n",
              "  </div>\n",
              "  "
            ]
          },
          "metadata": {},
          "execution_count": 9
        }
      ]
    },
    {
      "cell_type": "markdown",
      "source": [
        "**From the Above table, the \"top 40 - Total_no_of_Deaths\" belongs to 'China' and 'India' because of the fact \"China\" and \"India\" are the most populated countries of the World**"
      ],
      "metadata": {
        "id": "4AAQeY6fYfAF"
      }
    },
    {
      "cell_type": "code",
      "source": [
        "df1 = df.drop('Total_no_of_deaths',axis=1)"
      ],
      "metadata": {
        "id": "m4253e2Y7ouz"
      },
      "execution_count": null,
      "outputs": []
    },
    {
      "cell_type": "markdown",
      "source": [
        "**Top 10 causes of death in China**"
      ],
      "metadata": {
        "id": "VyYwlGiS_iC_"
      }
    },
    {
      "cell_type": "code",
      "source": [
        "china_2019 = df1[df1['Country/Territory']== \"China\"].groupby(\"Year\").sum().loc[2019].sort_values(ascending=False)\n",
        "sns.barplot(x=china_2019.values[:10],y=china_2019.index[:10],orient=\"h\")"
      ],
      "metadata": {
        "colab": {
          "base_uri": "https://localhost:8080/",
          "height": 295
        },
        "id": "_BSFB-4E_gs8",
        "outputId": "83b2b427-cda2-4ed2-c852-9064cbabe72b"
      },
      "execution_count": null,
      "outputs": [
        {
          "output_type": "execute_result",
          "data": {
            "text/plain": [
              "<matplotlib.axes._subplots.AxesSubplot at 0x7f96092fddc0>"
            ]
          },
          "metadata": {},
          "execution_count": 20
        },
        {
          "output_type": "display_data",
          "data": {
            "text/plain": [
              "<Figure size 432x288 with 1 Axes>"
            ],
            "image/png": "[encoded data removed]"
          },
          "metadata": {
            "needs_background": "light"
          }
        }
      ]
    },
    {
      "cell_type": "markdown",
      "source": [
        "**Top 10 causes of Death in India**"
      ],
      "metadata": {
        "id": "Tx6T5TAW6lcQ"
      }
    },
    {
      "cell_type": "code",
      "source": [
        "india_2019 = df1[df1['Country/Territory']== \"India\"].groupby(\"Year\").sum().loc[2019].sort_values(ascending=False)\n",
        "sns.barplot(x=india_2019.values[:10],y=india_2019.index[:10],orient=\"h\")"
      ],
      "metadata": {
        "colab": {
          "base_uri": "https://localhost:8080/",
          "height": 295
        },
        "id": "c0fhwfLa58_Z",
        "outputId": "0a5a4f61-762e-4ac8-ec04-72db523f0967"
      },
      "execution_count": null,
      "outputs": [
        {
          "output_type": "execute_result",
          "data": {
            "text/plain": [
              "<matplotlib.axes._subplots.AxesSubplot at 0x7f960993c4f0>"
            ]
          },
          "metadata": {},
          "execution_count": 19
        },
        {
          "output_type": "display_data",
          "data": {
            "text/plain": [
              "<Figure size 432x288 with 1 Axes>"
            ],
            "image/png": "[encoded data removed]"
          },
          "metadata": {
            "needs_background": "light"
          }
        }
      ]
    },
    {
      "cell_type": "markdown",
      "source": [
        "**We have seen for both India and China, Cardiovascular diseases is the major cause of deaths**\n",
        "\n",
        "**Let's check the disease which suffers most of the countries as a major cause of death**"
      ],
      "metadata": {
        "id": "mdrjuBjoJT6G"
      }
    },
    {
      "cell_type": "code",
      "source": [
        "cause_by_country = df1.groupby(\"Code\").sum().drop([\"Year\"],axis=1).idxmax(axis=1)\n",
        "cause_by_country.value_counts()"
      ],
      "metadata": {
        "colab": {
          "base_uri": "https://localhost:8080/"
        },
        "id": "ExT6Id4nKCiM",
        "outputId": "29fd3b6e-1e6f-46f8-b077-2e6965a0032a"
      },
      "execution_count": null,
      "outputs": [
        {
          "output_type": "execute_result",
          "data": {
            "text/plain": [
              "Cardiovascular Diseases         156\n",
              "HIV/AIDS                         17\n",
              "Neoplasms                        10\n",
              "Diarrheal Diseases                7\n",
              "Malaria                           5\n",
              "Neonatal Disorders                4\n",
              "Lower Respiratory Infections      4\n",
              "Conflict and Terrorism            1\n",
              "dtype: int64"
            ]
          },
          "metadata": {},
          "execution_count": 15
        }
      ]
    },
    {
      "cell_type": "markdown",
      "source": [
        "**Out of 204 countries in the dataset, the major cause of death comes out to be cardiovascular diseases for 156 countries**"
      ],
      "metadata": {
        "id": "am8Ud2nsNbzx"
      }
    },
    {
      "cell_type": "code",
      "source": [
        "death_by_year = df.groupby(\"Year\").sum()[\"Total_no_of_deaths\"]\n",
        "fig = plt.figure(figsize=(10,6))\n",
        "death_by_year.plot(marker=\"o\")\n",
        "plt.ylabel(\"# of Deaths\")"
      ],
      "metadata": {
        "colab": {
          "base_uri": "https://localhost:8080/",
          "height": 416
        },
        "id": "CP0cOUCKFexK",
        "outputId": "fd339d85-d498-480d-e7c4-2671e12fe6d2"
      },
      "execution_count": null,
      "outputs": [
        {
          "output_type": "execute_result",
          "data": {
            "text/plain": [
              "Text(0, 0.5, '# of Deaths')"
            ]
          },
          "metadata": {},
          "execution_count": 21
        },
        {
          "output_type": "display_data",
          "data": {
            "text/plain": [
              "<Figure size 720x432 with 1 Axes>"
            ],
            "image/png": "[encoded data removed]"
          },
          "metadata": {
            "needs_background": "light"
          }
        }
      ]
    },
    {
      "cell_type": "markdown",
      "source": [
        "**Deadliest year appears to be 2019 in terms of death counts, however it was due to the increase of the world population each year.**"
      ],
      "metadata": {
        "id": "VVOdLAzPG6nO"
      }
    },
    {
      "cell_type": "markdown",
      "source": [
        "**TOP 10 COUNTRIES SUFFERED FROM CARDIOVASCULAR DEATHS**"
      ],
      "metadata": {
        "id": "74k1KRvYpMp4"
      }
    },
    {
      "cell_type": "code",
      "source": [
        "country_cardio = df.groupby(\"Country/Territory\").sum()[\"Cardiovascular Diseases\"].sort_values(ascending=False)\n",
        "plt.figure(figsize=(10,6))\n",
        "sns.barplot(x=country_cardio[1:11].values,y=country_cardio[1:11].index,orient=\"h\") \n",
        "plt.xlabel(\"Total Deaths 1990-2019\")"
      ],
      "metadata": {
        "colab": {
          "base_uri": "https://localhost:8080/",
          "height": 405
        },
        "id": "K4tcMusHorry",
        "outputId": "7e647ad6-e0a4-4d98-8c9f-9b132b0b6a4e"
      },
      "execution_count": null,
      "outputs": [
        {
          "output_type": "execute_result",
          "data": {
            "text/plain": [
              "Text(0.5, 0, 'Total Deaths 1990-2019')"
            ]
          },
          "metadata": {},
          "execution_count": 39
        },
        {
          "output_type": "display_data",
          "data": {
            "text/plain": [
              "<Figure size 720x432 with 1 Axes>"
            ],
            "image/png": "[encoded data removed]"
          },
          "metadata": {
            "needs_background": "light"
          }
        }
      ]
    },
    {
      "cell_type": "markdown",
      "source": [
        "**India has highest number of deaths due to cardiovascular diseases followed by Russia and US**"
      ],
      "metadata": {
        "id": "PkBM6CnH-3m8"
      }
    },
    {
      "cell_type": "markdown",
      "source": [
        "**TOP 10 COUNTRIES SUFFERED FROM HIV/AIDS**"
      ],
      "metadata": {
        "id": "FgPmenFDHAKy"
      }
    },
    {
      "cell_type": "code",
      "source": [
        "country_AIDS = df.groupby(\"Country/Territory\").sum()[\"HIV/AIDS\"].sort_values(ascending=False)\n",
        "plt.figure(figsize=(10,6))\n",
        "sns.barplot(x=country_AIDS[1:11].values,y=country_AIDS[1:11].index,orient=\"h\")\n",
        "plt.xlabel(\"Total Deaths 1990-2019\")"
      ],
      "metadata": {
        "colab": {
          "base_uri": "https://localhost:8080/",
          "height": 405
        },
        "id": "NwddjVw4nFgr",
        "outputId": "a0171adb-fd89-449e-c7f1-a8acbc5724e3"
      },
      "execution_count": null,
      "outputs": [
        {
          "output_type": "execute_result",
          "data": {
            "text/plain": [
              "Text(0.5, 0, 'Total Deaths 1990-2019')"
            ]
          },
          "metadata": {},
          "execution_count": 38
        },
        {
          "output_type": "display_data",
          "data": {
            "text/plain": [
              "<Figure size 720x432 with 1 Axes>"
            ],
            "image/png": "[encoded data removed]"
          },
          "metadata": {
            "needs_background": "light"
          }
        }
      ]
    },
    {
      "cell_type": "markdown",
      "source": [
        "**Across Sub-Saharan Africa the deaths are much higher. Most countries in the South of the region had deaths greater than 1.5 million. In India, the deaths due to HIV/AIDS were nearly 2.5 million.**"
      ],
      "metadata": {
        "id": "vG3kDgQ4oL6z"
      }
    },
    {
      "cell_type": "markdown",
      "source": [
        "**TOP 10 COUNTRIES SUFFERED FROM NEOPLASMS**"
      ],
      "metadata": {
        "id": "tA5T3WMVc9gg"
      }
    },
    {
      "cell_type": "code",
      "source": [
        "country_neoplasms = df.groupby(\"Country/Territory\").sum()[\"Neoplasms\"].sort_values(ascending=False)\n",
        "plt.figure(figsize=(10,6))\n",
        "sns.barplot(x=country_neoplasms[1:11].values,y=country_neoplasms[1:11].index,orient=\"h\") \n",
        "plt.xlabel(\"Total Deaths 1990-2019\")"
      ],
      "metadata": {
        "colab": {
          "base_uri": "https://localhost:8080/",
          "height": 405
        },
        "id": "TNdWtBUidD1N",
        "outputId": "d714b20c-75f3-476a-bb9d-3a0283c870f8"
      },
      "execution_count": null,
      "outputs": [
        {
          "output_type": "execute_result",
          "data": {
            "text/plain": [
              "Text(0.5, 0, 'Total Deaths 1990-2019')"
            ]
          },
          "metadata": {},
          "execution_count": 16
        },
        {
          "output_type": "display_data",
          "data": {
            "text/plain": [
              "<Figure size 720x432 with 1 Axes>"
            ],
            "image/png": "[encoded data removed]"
          },
          "metadata": {
            "needs_background": "light"
          }
        }
      ]
    },
    {
      "cell_type": "markdown",
      "source": [
        "Cancer is a particularly common cause of death in richer countries where people are less likely to die of infectious diseases and causes of deaths that lead to very early deaths for people in poverty."
      ],
      "metadata": {
        "id": "CvlvHLazzzoH"
      }
    },
    {
      "cell_type": "markdown",
      "source": [
        "**TOP 10 COUNTRIES SUFFERED FROM DIARRHEAL DISEASES**"
      ],
      "metadata": {
        "id": "1NU4jaIrHXEK"
      }
    },
    {
      "cell_type": "code",
      "source": [
        "country_diarrheal = df.groupby(\"Country/Territory\").sum()[\"Diarrheal Diseases\"].sort_values(ascending=False)\n",
        "plt.figure(figsize=(10,6))\n",
        "sns.barplot(x=country_diarrheal[1:11].values,y=country_diarrheal[1:11].index,orient=\"h\")\n",
        "plt.xlabel(\"Total Deaths 1990-2019\")"
      ],
      "metadata": {
        "colab": {
          "base_uri": "https://localhost:8080/",
          "height": 405
        },
        "id": "qve45b71mlaz",
        "outputId": "ef0fb23e-9124-48a4-d34f-e72002b99f42"
      },
      "execution_count": null,
      "outputs": [
        {
          "output_type": "execute_result",
          "data": {
            "text/plain": [
              "Text(0.5, 0, 'Total Deaths 1990-2019')"
            ]
          },
          "metadata": {},
          "execution_count": 37
        },
        {
          "output_type": "display_data",
          "data": {
            "text/plain": [
              "<Figure size 720x432 with 1 Axes>"
            ],
            "image/png": "[encoded data removed]"
          },
          "metadata": {
            "needs_background": "light"
          }
        }
      ]
    },
    {
      "cell_type": "markdown",
      "source": [
        "**Overall, we see the highest mortality in Sub-Saharan Africa and South Asia.**"
      ],
      "metadata": {
        "id": "747OeABPnAih"
      }
    },
    {
      "cell_type": "markdown",
      "source": [
        "**TOP 10 COUNTRIES WHO SUFFERED FROM MALARIA**"
      ],
      "metadata": {
        "id": "C_5RjWyiLzog"
      }
    },
    {
      "cell_type": "code",
      "source": [
        "country_malaria = df.groupby(\"Country/Territory\").sum()[\"Malaria\"].sort_values(ascending=False)\n",
        "plt.figure(figsize=(10,6))\n",
        "sns.barplot(x=country_malaria[1:11].values,y=country_malaria[1:11].index,orient=\"h\")\n",
        "plt.xlabel(\"Total Deaths 1990-2019\")"
      ],
      "metadata": {
        "colab": {
          "base_uri": "https://localhost:8080/",
          "height": 405
        },
        "id": "Tq4tsrNOL-_P",
        "outputId": "32826a7e-b1e6-46fa-d5af-cdfd80bb81e7"
      },
      "execution_count": null,
      "outputs": [
        {
          "output_type": "execute_result",
          "data": {
            "text/plain": [
              "Text(0.5, 0, 'Total Deaths 1990-2019')"
            ]
          },
          "metadata": {},
          "execution_count": 8
        },
        {
          "output_type": "display_data",
          "data": {
            "text/plain": [
              "<Figure size 720x432 with 1 Axes>"
            ],
            "image/png": "[encoded data removed]"
          },
          "metadata": {
            "needs_background": "light"
          }
        }
      ]
    },
    {
      "cell_type": "code",
      "source": [
        "death_by_year = df.groupby(\"Year\").sum()[\"Malaria\"]\n",
        "fig = plt.figure(figsize=(10,6))\n",
        "death_by_year.plot(marker=\"o\")\n",
        "plt.ylabel(\"# of Deaths\")"
      ],
      "metadata": {
        "colab": {
          "base_uri": "https://localhost:8080/",
          "height": 405
        },
        "id": "HPLbo-ItRNV1",
        "outputId": "fb221e21-d7e5-412a-c9a1-b05a7c48d40d"
      },
      "execution_count": null,
      "outputs": [
        {
          "output_type": "execute_result",
          "data": {
            "text/plain": [
              "Text(0, 0.5, '# of Deaths')"
            ]
          },
          "metadata": {},
          "execution_count": 10
        },
        {
          "output_type": "display_data",
          "data": {
            "text/plain": [
              "<Figure size 720x432 with 1 Axes>"
            ],
            "image/png": "[encoded data removed]"
          },
          "metadata": {
            "needs_background": "light"
          }
        }
      ]
    },
    {
      "cell_type": "markdown",
      "source": [
        "* Majority of global deaths from malaria occurred on the African continent. But Africa is also the world region that has achieved most progress: since 2000, deaths have fallen significantly"
      ],
      "metadata": {
        "id": "Y8wjWzI2Rf6P"
      }
    },
    {
      "cell_type": "markdown",
      "source": [
        "**TOP 10 COUNTRIES AFFECTED BY NEONATAL DISORDERS**"
      ],
      "metadata": {
        "id": "CLcGsTEeVZzr"
      }
    },
    {
      "cell_type": "code",
      "source": [
        "country_neonatal = df.groupby(\"Country/Territory\").sum()[\"Neonatal Disorders\"].sort_values(ascending=False)\n",
        "plt.figure(figsize=(10,6))\n",
        "sns.barplot(x=country_neonatal[1:11].values,y=country_neonatal[1:11].index,orient=\"h\")\n",
        "plt.xlabel(\"Total Deaths 1990-2019\")"
      ],
      "metadata": {
        "colab": {
          "base_uri": "https://localhost:8080/",
          "height": 405
        },
        "id": "ToUz4rsKVnua",
        "outputId": "84b56f5c-3454-4122-905c-cad4fc0cf22b"
      },
      "execution_count": null,
      "outputs": [
        {
          "output_type": "execute_result",
          "data": {
            "text/plain": [
              "Text(0.5, 0, 'Total Deaths 1990-2019')"
            ]
          },
          "metadata": {},
          "execution_count": 11
        },
        {
          "output_type": "display_data",
          "data": {
            "text/plain": [
              "<Figure size 720x432 with 1 Axes>"
            ],
            "image/png": "[encoded data removed]"
          },
          "metadata": {
            "needs_background": "light"
          }
        }
      ]
    },
    {
      "cell_type": "markdown",
      "source": [
        "**The highest mortality are seen across Sub-Saharan Africa and Asia**"
      ],
      "metadata": {
        "id": "G_vsWgofY4NN"
      }
    },
    {
      "cell_type": "markdown",
      "source": [
        "**TOP 10 COUNTRIES WHO SUFFERED WITH LOWER RESPIRATORY INFECTIONS THE MOST**"
      ],
      "metadata": {
        "id": "jLZrdGSoZlv7"
      }
    },
    {
      "cell_type": "code",
      "source": [
        "country_LRI = df.groupby(\"Country/Territory\").sum()[\"Lower Respiratory Infections\"].sort_values(ascending=False)\n",
        "plt.figure(figsize=(10,6))\n",
        "sns.barplot(x=country_LRI[1:11].values,y=country_LRI[1:11].index,orient=\"h\")\n",
        "plt.xlabel(\"Total Deaths 1990-2019\")"
      ],
      "metadata": {
        "colab": {
          "base_uri": "https://localhost:8080/",
          "height": 405
        },
        "id": "rpv0DY5qZGR8",
        "outputId": "a0f1eba1-aa12-4f8b-a8ab-b44a0e751b90"
      },
      "execution_count": null,
      "outputs": [
        {
          "output_type": "execute_result",
          "data": {
            "text/plain": [
              "Text(0.5, 0, 'Total Deaths 1990-2019')"
            ]
          },
          "metadata": {},
          "execution_count": 8
        },
        {
          "output_type": "display_data",
          "data": {
            "text/plain": [
              "<Figure size 720x432 with 1 Axes>"
            ],
            "image/png": "[encoded data removed]"
          },
          "metadata": {
            "needs_background": "light"
          }
        }
      ]
    },
    {
      "cell_type": "markdown",
      "source": [
        "* China has highest number of deaths due to lower respiratory infections like Pneumonia\n",
        "\n",
        "* USA also in top 6 in number of deaths due to lower respiratory infections"
      ],
      "metadata": {
        "id": "Z8ZZaDHtZ8xf"
      }
    },
    {
      "cell_type": "markdown",
      "source": [
        "**TOP 10 COUNTRIES WHO SUFFERED WITH CONFLICTS AND TERRORISM THE MOST**"
      ],
      "metadata": {
        "id": "6nLQTgysSxPG"
      }
    },
    {
      "cell_type": "code",
      "source": [
        "country_terrorism = df.groupby(\"Country/Territory\").sum()[\"Conflict and Terrorism\"].sort_values(ascending=False)\n",
        "plt.figure(figsize=(10,6))\n",
        "sns.barplot(x=country_terrorism[1:11].values,y=country_terrorism[1:11].index,orient=\"h\")\n",
        "plt.xlabel(\"Total Deaths 1990-2019\")"
      ],
      "metadata": {
        "id": "_VowK5UtY0Sk",
        "colab": {
          "base_uri": "https://localhost:8080/",
          "height": 405
        },
        "outputId": "79d03da4-fdf4-4d65-e6d4-1825f53cf200"
      },
      "execution_count": null,
      "outputs": [
        {
          "output_type": "execute_result",
          "data": {
            "text/plain": [
              "Text(0.5, 0, 'Total Deaths 1990-2019')"
            ]
          },
          "metadata": {},
          "execution_count": 41
        },
        {
          "output_type": "display_data",
          "data": {
            "text/plain": [
              "<Figure size 720x432 with 1 Axes>"
            ],
            "image/png": "[encoded data removed]"
          },
          "metadata": {
            "needs_background": "light"
          }
        }
      ]
    },
    {
      "cell_type": "markdown",
      "source": [
        "**Syria tops the list in terms of conflicts and terrorism causing deaths in the country**"
      ],
      "metadata": {
        "id": "8xj7vnENbJu5"
      }
    },
    {
      "cell_type": "code",
      "source": [
        "df.groupby(\"Year\").sum()[\"Conflict and Terrorism\"].plot(marker=\"o\")\n",
        "plt.ylabel(\"Death by Terrorism\")"
      ],
      "metadata": {
        "colab": {
          "base_uri": "https://localhost:8080/",
          "height": 296
        },
        "id": "4KkXyQzWbcFz",
        "outputId": "dfa40a6a-9be3-43e3-8e69-2b8ac4610d43"
      },
      "execution_count": null,
      "outputs": [
        {
          "output_type": "execute_result",
          "data": {
            "text/plain": [
              "Text(0, 0.5, 'Death by Terrorism')"
            ]
          },
          "metadata": {},
          "execution_count": 29
        },
        {
          "output_type": "display_data",
          "data": {
            "text/plain": [
              "<Figure size 432x288 with 1 Axes>"
            ],
            "image/png": "[encoded data removed]"
          },
          "metadata": {
            "needs_background": "light"
          }
        }
      ]
    },
    {
      "cell_type": "markdown",
      "source": [
        "* **1994 was the year where the deadliest conflicts took place in the world. Bosnian War in Europe may have contributed to it significantly.**\n",
        "\n",
        "* After 2014, deaths due to conflicts and terrorism has been decreasing which is a good sign for the world"
      ],
      "metadata": {
        "id": "d8LVt_q7c0nv"
      }
    },
    {
      "cell_type": "code",
      "source": [
        "country_dementia = df.groupby(\"Country/Territory\").sum()[\"Alzheimer's Disease and Other Dementias\"].sort_values(ascending=False)\n",
        "plt.figure(figsize=(10,6))\n",
        "sns.barplot(x=country_dementia[1:11].values,y=country_dementia[1:11].index,orient=\"h\")\n",
        "plt.xlabel(\"Total Deaths 1990-2019\")"
      ],
      "metadata": {
        "colab": {
          "base_uri": "https://localhost:8080/",
          "height": 405
        },
        "id": "AW8xQdbHhPJr",
        "outputId": "bf598321-2666-48cf-ad4f-9ff5e3d7d8e8"
      },
      "execution_count": null,
      "outputs": [
        {
          "output_type": "execute_result",
          "data": {
            "text/plain": [
              "Text(0.5, 0, 'Total Deaths 1990-2019')"
            ]
          },
          "metadata": {},
          "execution_count": 35
        },
        {
          "output_type": "display_data",
          "data": {
            "text/plain": [
              "<Figure size 720x432 with 1 Axes>"
            ],
            "image/png": "[encoded data removed]"
          },
          "metadata": {
            "needs_background": "light"
          }
        }
      ]
    },
    {
      "cell_type": "markdown",
      "source": [
        "**Dementia (mainly caused by Alzheimer's disease) appears to be the most leading cause of death in rich countries like USA, Japan, India, Germany, Russia , Italy, Brazil, France, UK and Spain. This could be due to the high frequency of elder people in their population.**"
      ],
      "metadata": {
        "id": "E6ajODeeiir7"
      }
    },
    {
      "cell_type": "code",
      "source": [
        "country_digestive = df.groupby(\"Country/Territory\").sum()[\"Digestive Diseases\"].sort_values(ascending=False)\n",
        "plt.figure(figsize=(10,6))\n",
        "sns.barplot(x=country_digestive[1:11].values,y=country_digestive[1:11].index,orient=\"h\")\n",
        "plt.xlabel(\"Total Deaths 1990-2019\")"
      ],
      "metadata": {
        "colab": {
          "base_uri": "https://localhost:8080/",
          "height": 405
        },
        "id": "cfmj4WRcmBBA",
        "outputId": "694317e2-7963-4089-e940-27a8362b592b"
      },
      "execution_count": null,
      "outputs": [
        {
          "output_type": "execute_result",
          "data": {
            "text/plain": [
              "Text(0.5, 0, 'Total Deaths 1990-2019')"
            ]
          },
          "metadata": {},
          "execution_count": 36
        },
        {
          "output_type": "display_data",
          "data": {
            "text/plain": [
              "<Figure size 720x432 with 1 Axes>"
            ],
            "image/png": "[encoded data removed]"
          },
          "metadata": {
            "needs_background": "light"
          }
        }
      ]
    },
    {
      "cell_type": "markdown",
      "source": [
        "**TOP 10 COUNTRIES WHO SUFFERED WITH TUBERCULOSIS THE MOST**"
      ],
      "metadata": {
        "id": "GGovI8XGYYFN"
      }
    },
    {
      "cell_type": "code",
      "source": [
        "country_TB = df.groupby(\"Country/Territory\").sum()[\"Tuberculosis\"].sort_values(ascending=False)\n",
        "plt.figure(figsize=(10,6))\n",
        "sns.barplot(x=country_TB[1:11].values,y=country_TB[1:11].index,orient=\"h\")\n",
        "plt.xlabel(\"Total Deaths 1990-2019\")"
      ],
      "metadata": {
        "colab": {
          "base_uri": "https://localhost:8080/",
          "height": 405
        },
        "id": "VVBDzNHZX78e",
        "outputId": "ce6f2e27-4f37-4f1e-9335-6624a28f3373"
      },
      "execution_count": null,
      "outputs": [
        {
          "output_type": "execute_result",
          "data": {
            "text/plain": [
              "Text(0.5, 0, 'Total Deaths 1990-2019')"
            ]
          },
          "metadata": {},
          "execution_count": 7
        },
        {
          "output_type": "display_data",
          "data": {
            "text/plain": [
              "<Figure size 720x432 with 1 Axes>"
            ],
            "image/png": "[encoded data removed]"
          },
          "metadata": {
            "needs_background": "light"
          }
        }
      ]
    },
    {
      "cell_type": "code",
      "source": [
        "\n",
        "country_road = df.groupby(\"Country/Territory\").sum()[\"Road Injuries\"].sort_values(ascending=False)\n",
        "plt.figure(figsize=(10,6))\n",
        "sns.barplot(x=country_road[1:11].values,y=country_road[1:11].index,orient=\"h\")\n",
        "plt.xlabel(\"Total Deaths 1990-2019\")\n"
      ],
      "metadata": {
        "colab": {
          "base_uri": "https://localhost:8080/",
          "height": 405
        },
        "id": "fiFCrjS6b-o5",
        "outputId": "2edac091-7738-4806-cda5-f95d22a24234"
      },
      "execution_count": null,
      "outputs": [
        {
          "output_type": "execute_result",
          "data": {
            "text/plain": [
              "Text(0.5, 0, 'Total Deaths 1990-2019')"
            ]
          },
          "metadata": {},
          "execution_count": 9
        },
        {
          "output_type": "display_data",
          "data": {
            "text/plain": [
              "<Figure size 720x432 with 1 Axes>"
            ],
            "image/png": "[encoded data removed]"
          },
          "metadata": {
            "needs_background": "light"
          }
        }
      ]
    },
    {
      "cell_type": "markdown",
      "source": [
        "**India encounters highest number of road accidents which causes highest number of deaths due to road injuries**"
      ],
      "metadata": {
        "id": "SWQNjCaPcVR_"
      }
    },
    {
      "cell_type": "code",
      "source": [
        "df1.describe().T.sort_values('max',ascending = False)"
      ],
      "metadata": {
        "colab": {
          "base_uri": "https://localhost:8080/",
          "height": 1000
        },
        "id": "b7CrqPXQcUv6",
        "outputId": "c2aafcea-07ec-453f-ee82-139f82563457"
      },
      "execution_count": null,
      "outputs": [
        {
          "output_type": "execute_result",
          "data": {
            "text/plain": [
              "                                             count          mean  \\\n",
              "Cardiovascular Diseases                     6120.0  73160.454575   \n",
              "Neoplasms                                   6120.0  37542.244771   \n",
              "Chronic Respiratory Diseases                6120.0  17092.374837   \n",
              "Diarrheal Diseases                          6120.0  10822.795425   \n",
              "Neonatal Disorders                          6120.0  12558.942647   \n",
              "Lower Respiratory Infections                6120.0  13687.914706   \n",
              "Tuberculosis                                6120.0   7491.928595   \n",
              "Conflict and Terrorism                      6120.0    538.243954   \n",
              "Digestive Diseases                          6120.0  10725.267157   \n",
              "Road Injuries                               6120.0   5930.795588   \n",
              "Alzheimer's Disease and Other Dementias     6120.0   4864.189379   \n",
              "HIV/AIDS                                    6120.0   5941.898529   \n",
              "Malaria                                     6120.0   4140.960131   \n",
              "Diabetes Mellitus                           6120.0   5138.704575   \n",
              "Cirrhosis and Other Chronic Liver Diseases  6120.0   6124.072059   \n",
              "Nutritional Deficiencies                    6120.0   2253.600000   \n",
              "Chronic Kidney Disease                      6120.0   4724.132680   \n",
              "Exposure to Forces of Nature                6120.0    243.485621   \n",
              "Self-harm                                   6120.0   3874.825327   \n",
              "Protein-Energy Malnutrition                 6120.0   1965.994281   \n",
              "Drowning                                    6120.0   1683.333170   \n",
              "Maternal Disorders                          6120.0   1262.589216   \n",
              "Meningitis                                  6120.0   1719.701307   \n",
              "Parkinson's Disease                         6120.0   1173.169118   \n",
              "Interpersonal Violence                      6120.0   2083.797222   \n",
              "Drug Use Disorders                          6120.0    434.006699   \n",
              "Acute Hepatitis                             6120.0    618.429902   \n",
              "Alcohol Use Disorders                       6120.0    787.421242   \n",
              "Poisonings                                  6120.0    425.013399   \n",
              "Environmental Heat and Cold Exposure        6120.0    292.295915   \n",
              "Fire, Heat, and Hot Substances              6120.0    588.711438   \n",
              "Year                                        6120.0   2004.500000   \n",
              "\n",
              "                                                      std     min      25%  \\\n",
              "Cardiovascular Diseases                     291577.537794     4.0  2028.00   \n",
              "Neoplasms                                   161558.365445     1.0   809.75   \n",
              "Chronic Respiratory Diseases                105157.179839     1.0   289.00   \n",
              "Diarrheal Diseases                           65416.174485     0.0    20.00   \n",
              "Neonatal Disorders                           56058.366412     0.0   131.00   \n",
              "Lower Respiratory Infections                 48031.720009     0.0   345.00   \n",
              "Tuberculosis                                 39549.977578     0.0    35.00   \n",
              "Conflict and Terrorism                        7033.308187     0.0     0.00   \n",
              "Digestive Diseases                           37228.051096     0.0   284.00   \n",
              "Road Injuries                                24097.784291     0.0   174.75   \n",
              "Alzheimer's Disease and Other Dementias      18220.659072     0.0    90.00   \n",
              "HIV/AIDS                                     21011.962487     0.0    11.00   \n",
              "Malaria                                      18427.753137     0.0     0.00   \n",
              "Diabetes Mellitus                            16773.081040     1.0   236.00   \n",
              "Cirrhosis and Other Chronic Liver Diseases   20688.118580     0.0   154.00   \n",
              "Nutritional Deficiencies                     10483.633601     0.0     9.00   \n",
              "Chronic Kidney Disease                       16470.429969     0.0   145.75   \n",
              "Exposure to Forces of Nature                  4717.104377     0.0     0.00   \n",
              "Self-harm                                    18425.616418     0.0    94.00   \n",
              "Protein-Energy Malnutrition                   8255.999063     0.0     5.00   \n",
              "Drowning                                      8877.018366     0.0    34.00   \n",
              "Maternal Disorders                            6057.973183     0.0     5.00   \n",
              "Meningitis                                    6672.006930     0.0    15.00   \n",
              "Parkinson's Disease                           4616.156238     0.0    27.00   \n",
              "Interpersonal Violence                        6917.006075     0.0    40.00   \n",
              "Drug Use Disorders                            2898.761628     0.0     3.00   \n",
              "Acute Hepatitis                               4186.023497     0.0     2.00   \n",
              "Alcohol Use Disorders                         3545.823616     0.0     9.00   \n",
              "Poisonings                                    2022.640521     0.0     6.00   \n",
              "Environmental Heat and Cold Exposure          1704.466356     0.0     2.00   \n",
              "Fire, Heat, and Hot Substances                2128.595120     0.0    17.00   \n",
              "Year                                             8.656149  1990.0  1997.00   \n",
              "\n",
              "                                                50%       75%        max  \n",
              "Cardiovascular Diseases                     11742.0  42546.50  4584273.0  \n",
              "Neoplasms                                    5629.5  20147.75  2716551.0  \n",
              "Chronic Respiratory Diseases                 1689.0   5249.75  1366039.0  \n",
              "Diarrheal Diseases                            296.5   3946.75  1119477.0  \n",
              "Neonatal Disorders                            916.0   7419.75   852761.0  \n",
              "Lower Respiratory Infections                 2126.5  10161.25   690913.0  \n",
              "Tuberculosis                                  417.0   2924.25   657515.0  \n",
              "Conflict and Terrorism                          0.0     23.00   503532.0  \n",
              "Digestive Diseases                           2185.0   6080.00   464914.0  \n",
              "Road Injuries                                 966.5   3435.25   329237.0  \n",
              "Alzheimer's Disease and Other Dementias       666.5   2456.25   320715.0  \n",
              "HIV/AIDS                                      136.0   1879.00   305491.0  \n",
              "Malaria                                         0.0    393.00   280604.0  \n",
              "Diabetes Mellitus                            1087.0   2954.00   273089.0  \n",
              "Cirrhosis and Other Chronic Liver Diseases   1210.0   3547.25   270037.0  \n",
              "Nutritional Deficiencies                      119.0   1167.25   268223.0  \n",
              "Chronic Kidney Disease                        822.0   2922.50   222922.0  \n",
              "Exposure to Forces of Nature                    0.0     12.00   222641.0  \n",
              "Self-harm                                     533.0   1882.25   220357.0  \n",
              "Protein-Energy Malnutrition                    92.0   1042.50   202241.0  \n",
              "Drowning                                      177.0    698.00   153773.0  \n",
              "Maternal Disorders                             54.0    734.00   107929.0  \n",
              "Meningitis                                    109.0    847.25    98358.0  \n",
              "Parkinson's Disease                           164.0    609.25    76990.0  \n",
              "Interpersonal Violence                        265.0    877.00    69640.0  \n",
              "Drug Use Disorders                             20.0    129.00    65717.0  \n",
              "Acute Hepatitis                                15.0    160.00    64305.0  \n",
              "Alcohol Use Disorders                          80.0    316.00    55200.0  \n",
              "Poisonings                                     52.5    254.00    30883.0  \n",
              "Environmental Heat and Cold Exposure           21.0    109.00    29048.0  \n",
              "Fire, Heat, and Hot Substances                126.0    450.00    25876.0  \n",
              "Year                                         2004.5   2012.00     2019.0  "
            ],
            "text/html": [
              "\n",
              "  <div id=\"df-007f21a4-655a-4c89-b6ac-dfd0695526cb\">\n",
              "    <div class=\"colab-df-container\">\n",
              "      <div>\n",
              "<style scoped>\n",
              "    .dataframe tbody tr th:only-of-type {\n",
              "        vertical-align: middle;\n",
              "    }\n",
              "\n",
              "    .dataframe tbody tr th {\n",
              "        vertical-align: top;\n",
              "    }\n",
              "\n",
              "    .dataframe thead th {\n",
              "        text-align: right;\n",
              "    }\n",
              "</style>\n",
              "<table border=\"1\" class=\"dataframe\">\n",
              "  <thead>\n",
              "    <tr style=\"text-align: right;\">\n",
              "      <th></th>\n",
              "      <th>count</th>\n",
              "      <th>mean</th>\n",
              "      <th>std</th>\n",
              "      <th>min</th>\n",
              "      <th>25%</th>\n",
              "      <th>50%</th>\n",
              "      <th>75%</th>\n",
              "      <th>max</th>\n",
              "    </tr>\n",
              "  </thead>\n",
              "  <tbody>\n",
              "    <tr>\n",
              "      <th>Cardiovascular Diseases</th>\n",
              "      <td>6120.0</td>\n",
              "      <td>73160.454575</td>\n",
              "      <td>291577.537794</td>\n",
              "      <td>4.0</td>\n",
              "      <td>2028.00</td>\n",
              "      <td>11742.0</td>\n",
              "      <td>42546.50</td>\n",
              "      <td>4584273.0</td>\n",
              "    </tr>\n",
              "    <tr>\n",
              "      <th>Neoplasms</th>\n",
              "      <td>6120.0</td>\n",
              "      <td>37542.244771</td>\n",
              "      <td>161558.365445</td>\n",
              "      <td>1.0</td>\n",
              "      <td>809.75</td>\n",
              "      <td>5629.5</td>\n",
              "      <td>20147.75</td>\n",
              "      <td>2716551.0</td>\n",
              "    </tr>\n",
              "    <tr>\n",
              "      <th>Chronic Respiratory Diseases</th>\n",
              "      <td>6120.0</td>\n",
              "      <td>17092.374837</td>\n",
              "      <td>105157.179839</td>\n",
              "      <td>1.0</td>\n",
              "      <td>289.00</td>\n",
              "      <td>1689.0</td>\n",
              "      <td>5249.75</td>\n",
              "      <td>1366039.0</td>\n",
              "    </tr>\n",
              "    <tr>\n",
              "      <th>Diarrheal Diseases</th>\n",
              "      <td>6120.0</td>\n",
              "      <td>10822.795425</td>\n",
              "      <td>65416.174485</td>\n",
              "      <td>0.0</td>\n",
              "      <td>20.00</td>\n",
              "      <td>296.5</td>\n",
              "      <td>3946.75</td>\n",
              "      <td>1119477.0</td>\n",
              "    </tr>\n",
              "    <tr>\n",
              "      <th>Neonatal Disorders</th>\n",
              "      <td>6120.0</td>\n",
              "      <td>12558.942647</td>\n",
              "      <td>56058.366412</td>\n",
              "      <td>0.0</td>\n",
              "      <td>131.00</td>\n",
              "      <td>916.0</td>\n",
              "      <td>7419.75</td>\n",
              "      <td>852761.0</td>\n",
              "    </tr>\n",
              "    <tr>\n",
              "      <th>Lower Respiratory Infections</th>\n",
              "      <td>6120.0</td>\n",
              "      <td>13687.914706</td>\n",
              "      <td>48031.720009</td>\n",
              "      <td>0.0</td>\n",
              "      <td>345.00</td>\n",
              "      <td>2126.5</td>\n",
              "      <td>10161.25</td>\n",
              "      <td>690913.0</td>\n",
              "    </tr>\n",
              "    <tr>\n",
              "      <th>Tuberculosis</th>\n",
              "      <td>6120.0</td>\n",
              "      <td>7491.928595</td>\n",
              "      <td>39549.977578</td>\n",
              "      <td>0.0</td>\n",
              "      <td>35.00</td>\n",
              "      <td>417.0</td>\n",
              "      <td>2924.25</td>\n",
              "      <td>657515.0</td>\n",
              "    </tr>\n",
              "    <tr>\n",
              "      <th>Conflict and Terrorism</th>\n",
              "      <td>6120.0</td>\n",
              "      <td>538.243954</td>\n",
              "      <td>7033.308187</td>\n",
              "      <td>0.0</td>\n",
              "      <td>0.00</td>\n",
              "      <td>0.0</td>\n",
              "      <td>23.00</td>\n",
              "      <td>503532.0</td>\n",
              "    </tr>\n",
              "    <tr>\n",
              "      <th>Digestive Diseases</th>\n",
              "      <td>6120.0</td>\n",
              "      <td>10725.267157</td>\n",
              "      <td>37228.051096</td>\n",
              "      <td>0.0</td>\n",
              "      <td>284.00</td>\n",
              "      <td>2185.0</td>\n",
              "      <td>6080.00</td>\n",
              "      <td>464914.0</td>\n",
              "    </tr>\n",
              "    <tr>\n",
              "      <th>Road Injuries</th>\n",
              "      <td>6120.0</td>\n",
              "      <td>5930.795588</td>\n",
              "      <td>24097.784291</td>\n",
              "      <td>0.0</td>\n",
              "      <td>174.75</td>\n",
              "      <td>966.5</td>\n",
              "      <td>3435.25</td>\n",
              "      <td>329237.0</td>\n",
              "    </tr>\n",
              "    <tr>\n",
              "      <th>Alzheimer's Disease and Other Dementias</th>\n",
              "      <td>6120.0</td>\n",
              "      <td>4864.189379</td>\n",
              "      <td>18220.659072</td>\n",
              "      <td>0.0</td>\n",
              "      <td>90.00</td>\n",
              "      <td>666.5</td>\n",
              "      <td>2456.25</td>\n",
              "      <td>320715.0</td>\n",
              "    </tr>\n",
              "    <tr>\n",
              "      <th>HIV/AIDS</th>\n",
              "      <td>6120.0</td>\n",
              "      <td>5941.898529</td>\n",
              "      <td>21011.962487</td>\n",
              "      <td>0.0</td>\n",
              "      <td>11.00</td>\n",
              "      <td>136.0</td>\n",
              "      <td>1879.00</td>\n",
              "      <td>305491.0</td>\n",
              "    </tr>\n",
              "    <tr>\n",
              "      <th>Malaria</th>\n",
              "      <td>6120.0</td>\n",
              "      <td>4140.960131</td>\n",
              "      <td>18427.753137</td>\n",
              "      <td>0.0</td>\n",
              "      <td>0.00</td>\n",
              "      <td>0.0</td>\n",
              "      <td>393.00</td>\n",
              "      <td>280604.0</td>\n",
              "    </tr>\n",
              "    <tr>\n",
              "      <th>Diabetes Mellitus</th>\n",
              "      <td>6120.0</td>\n",
              "      <td>5138.704575</td>\n",
              "      <td>16773.081040</td>\n",
              "      <td>1.0</td>\n",
              "      <td>236.00</td>\n",
              "      <td>1087.0</td>\n",
              "      <td>2954.00</td>\n",
              "      <td>273089.0</td>\n",
              "    </tr>\n",
              "    <tr>\n",
              "      <th>Cirrhosis and Other Chronic Liver Diseases</th>\n",
              "      <td>6120.0</td>\n",
              "      <td>6124.072059</td>\n",
              "      <td>20688.118580</td>\n",
              "      <td>0.0</td>\n",
              "      <td>154.00</td>\n",
              "      <td>1210.0</td>\n",
              "      <td>3547.25</td>\n",
              "      <td>270037.0</td>\n",
              "    </tr>\n",
              "    <tr>\n",
              "      <th>Nutritional Deficiencies</th>\n",
              "      <td>6120.0</td>\n",
              "      <td>2253.600000</td>\n",
              "      <td>10483.633601</td>\n",
              "      <td>0.0</td>\n",
              "      <td>9.00</td>\n",
              "      <td>119.0</td>\n",
              "      <td>1167.25</td>\n",
              "      <td>268223.0</td>\n",
              "    </tr>\n",
              "    <tr>\n",
              "      <th>Chronic Kidney Disease</th>\n",
              "      <td>6120.0</td>\n",
              "      <td>4724.132680</td>\n",
              "      <td>16470.429969</td>\n",
              "      <td>0.0</td>\n",
              "      <td>145.75</td>\n",
              "      <td>822.0</td>\n",
              "      <td>2922.50</td>\n",
              "      <td>222922.0</td>\n",
              "    </tr>\n",
              "    <tr>\n",
              "      <th>Exposure to Forces of Nature</th>\n",
              "      <td>6120.0</td>\n",
              "      <td>243.485621</td>\n",
              "      <td>4717.104377</td>\n",
              "      <td>0.0</td>\n",
              "      <td>0.00</td>\n",
              "      <td>0.0</td>\n",
              "      <td>12.00</td>\n",
              "      <td>222641.0</td>\n",
              "    </tr>\n",
              "    <tr>\n",
              "      <th>Self-harm</th>\n",
              "      <td>6120.0</td>\n",
              "      <td>3874.825327</td>\n",
              "      <td>18425.616418</td>\n",
              "      <td>0.0</td>\n",
              "      <td>94.00</td>\n",
              "      <td>533.0</td>\n",
              "      <td>1882.25</td>\n",
              "      <td>220357.0</td>\n",
              "    </tr>\n",
              "    <tr>\n",
              "      <th>Protein-Energy Malnutrition</th>\n",
              "      <td>6120.0</td>\n",
              "      <td>1965.994281</td>\n",
              "      <td>8255.999063</td>\n",
              "      <td>0.0</td>\n",
              "      <td>5.00</td>\n",
              "      <td>92.0</td>\n",
              "      <td>1042.50</td>\n",
              "      <td>202241.0</td>\n",
              "    </tr>\n",
              "    <tr>\n",
              "      <th>Drowning</th>\n",
              "      <td>6120.0</td>\n",
              "      <td>1683.333170</td>\n",
              "      <td>8877.018366</td>\n",
              "      <td>0.0</td>\n",
              "      <td>34.00</td>\n",
              "      <td>177.0</td>\n",
              "      <td>698.00</td>\n",
              "      <td>153773.0</td>\n",
              "    </tr>\n",
              "    <tr>\n",
              "      <th>Maternal Disorders</th>\n",
              "      <td>6120.0</td>\n",
              "      <td>1262.589216</td>\n",
              "      <td>6057.973183</td>\n",
              "      <td>0.0</td>\n",
              "      <td>5.00</td>\n",
              "      <td>54.0</td>\n",
              "      <td>734.00</td>\n",
              "      <td>107929.0</td>\n",
              "    </tr>\n",
              "    <tr>\n",
              "      <th>Meningitis</th>\n",
              "      <td>6120.0</td>\n",
              "      <td>1719.701307</td>\n",
              "      <td>6672.006930</td>\n",
              "      <td>0.0</td>\n",
              "      <td>15.00</td>\n",
              "      <td>109.0</td>\n",
              "      <td>847.25</td>\n",
              "      <td>98358.0</td>\n",
              "    </tr>\n",
              "    <tr>\n",
              "      <th>Parkinson's Disease</th>\n",
              "      <td>6120.0</td>\n",
              "      <td>1173.169118</td>\n",
              "      <td>4616.156238</td>\n",
              "      <td>0.0</td>\n",
              "      <td>27.00</td>\n",
              "      <td>164.0</td>\n",
              "      <td>609.25</td>\n",
              "      <td>76990.0</td>\n",
              "    </tr>\n",
              "    <tr>\n",
              "      <th>Interpersonal Violence</th>\n",
              "      <td>6120.0</td>\n",
              "      <td>2083.797222</td>\n",
              "      <td>6917.006075</td>\n",
              "      <td>0.0</td>\n",
              "      <td>40.00</td>\n",
              "      <td>265.0</td>\n",
              "      <td>877.00</td>\n",
              "      <td>69640.0</td>\n",
              "    </tr>\n",
              "    <tr>\n",
              "      <th>Drug Use Disorders</th>\n",
              "      <td>6120.0</td>\n",
              "      <td>434.006699</td>\n",
              "      <td>2898.761628</td>\n",
              "      <td>0.0</td>\n",
              "      <td>3.00</td>\n",
              "      <td>20.0</td>\n",
              "      <td>129.00</td>\n",
              "      <td>65717.0</td>\n",
              "    </tr>\n",
              "    <tr>\n",
              "      <th>Acute Hepatitis</th>\n",
              "      <td>6120.0</td>\n",
              "      <td>618.429902</td>\n",
              "      <td>4186.023497</td>\n",
              "      <td>0.0</td>\n",
              "      <td>2.00</td>\n",
              "      <td>15.0</td>\n",
              "      <td>160.00</td>\n",
              "      <td>64305.0</td>\n",
              "    </tr>\n",
              "    <tr>\n",
              "      <th>Alcohol Use Disorders</th>\n",
              "      <td>6120.0</td>\n",
              "      <td>787.421242</td>\n",
              "      <td>3545.823616</td>\n",
              "      <td>0.0</td>\n",
              "      <td>9.00</td>\n",
              "      <td>80.0</td>\n",
              "      <td>316.00</td>\n",
              "      <td>55200.0</td>\n",
              "    </tr>\n",
              "    <tr>\n",
              "      <th>Poisonings</th>\n",
              "      <td>6120.0</td>\n",
              "      <td>425.013399</td>\n",
              "      <td>2022.640521</td>\n",
              "      <td>0.0</td>\n",
              "      <td>6.00</td>\n",
              "      <td>52.5</td>\n",
              "      <td>254.00</td>\n",
              "      <td>30883.0</td>\n",
              "    </tr>\n",
              "    <tr>\n",
              "      <th>Environmental Heat and Cold Exposure</th>\n",
              "      <td>6120.0</td>\n",
              "      <td>292.295915</td>\n",
              "      <td>1704.466356</td>\n",
              "      <td>0.0</td>\n",
              "      <td>2.00</td>\n",
              "      <td>21.0</td>\n",
              "      <td>109.00</td>\n",
              "      <td>29048.0</td>\n",
              "    </tr>\n",
              "    <tr>\n",
              "      <th>Fire, Heat, and Hot Substances</th>\n",
              "      <td>6120.0</td>\n",
              "      <td>588.711438</td>\n",
              "      <td>2128.595120</td>\n",
              "      <td>0.0</td>\n",
              "      <td>17.00</td>\n",
              "      <td>126.0</td>\n",
              "      <td>450.00</td>\n",
              "      <td>25876.0</td>\n",
              "    </tr>\n",
              "    <tr>\n",
              "      <th>Year</th>\n",
              "      <td>6120.0</td>\n",
              "      <td>2004.500000</td>\n",
              "      <td>8.656149</td>\n",
              "      <td>1990.0</td>\n",
              "      <td>1997.00</td>\n",
              "      <td>2004.5</td>\n",
              "      <td>2012.00</td>\n",
              "      <td>2019.0</td>\n",
              "    </tr>\n",
              "  </tbody>\n",
              "</table>\n",
              "</div>\n",
              "      <button class=\"colab-df-convert\" onclick=\"convertToInteractive('df-007f21a4-655a-4c89-b6ac-dfd0695526cb')\"\n",
              "              title=\"Convert this dataframe to an interactive table.\"\n",
              "              style=\"display:none;\">\n",
              "        \n",
              "  <svg xmlns=\"http://www.w3.org/2000/svg\" height=\"24px\"viewBox=\"0 0 24 24\"\n",
              "       width=\"24px\">\n",
              "    <path d=\"M0 0h24v24H0V0z\" fill=\"none\"/>\n",
              "    <path d=\"M18.56 5.44l.94 2.06.94-2.06 2.06-.94-2.06-.94-.94-2.06-.94 2.06-2.06.94zm-11 1L8.5 8.5l.94-2.06 2.06-.94-2.06-.94L8.5 2.5l-.94 2.06-2.06.94zm10 10l.94 2.06.94-2.06 2.06-.94-2.06-.94-.94-2.06-.94 2.06-2.06.94z\"/><path d=\"M17.41 7.96l-1.37-1.37c-.4-.4-.92-.59-1.43-.59-.52 0-1.04.2-1.43.59L10.3 9.45l-7.72 7.72c-.78.78-.78 2.05 0 2.83L4 21.41c.39.39.9.59 1.41.59.51 0 1.02-.2 1.41-.59l7.78-7.78 2.81-2.81c.8-.78.8-2.07 0-2.86zM5.41 20L4 18.59l7.72-7.72 1.47 1.35L5.41 20z\"/>\n",
              "  </svg>\n",
              "      </button>\n",
              "      \n",
              "  <style>\n",
              "    .colab-df-container {\n",
              "      display:flex;\n",
              "      flex-wrap:wrap;\n",
              "      gap: 12px;\n",
              "    }\n",
              "\n",
              "    .colab-df-convert {\n",
              "      background-color: #E8F0FE;\n",
              "      border: none;\n",
              "      border-radius: 50%;\n",
              "      cursor: pointer;\n",
              "      display: none;\n",
              "      fill: #1967D2;\n",
              "      height: 32px;\n",
              "      padding: 0 0 0 0;\n",
              "      width: 32px;\n",
              "    }\n",
              "\n",
              "    .colab-df-convert:hover {\n",
              "      background-color: #E2EBFA;\n",
              "      box-shadow: 0px 1px 2px rgba(60, 64, 67, 0.3), 0px 1px 3px 1px rgba(60, 64, 67, 0.15);\n",
              "      fill: #174EA6;\n",
              "    }\n",
              "\n",
              "    [theme=dark] .colab-df-convert {\n",
              "      background-color: #3B4455;\n",
              "      fill: #D2E3FC;\n",
              "    }\n",
              "\n",
              "    [theme=dark] .colab-df-convert:hover {\n",
              "      background-color: #434B5C;\n",
              "      box-shadow: 0px 1px 3px 1px rgba(0, 0, 0, 0.15);\n",
              "      filter: drop-shadow(0px 1px 2px rgba(0, 0, 0, 0.3));\n",
              "      fill: #FFFFFF;\n",
              "    }\n",
              "  </style>\n",
              "\n",
              "      <script>\n",
              "        const buttonEl =\n",
              "          document.querySelector('#df-007f21a4-655a-4c89-b6ac-dfd0695526cb button.colab-df-convert');\n",
              "        buttonEl.style.display =\n",
              "          google.colab.kernel.accessAllowed ? 'block' : 'none';\n",
              "\n",
              "        async function convertToInteractive(key) {\n",
              "          const element = document.querySelector('#df-007f21a4-655a-4c89-b6ac-dfd0695526cb');\n",
              "          const dataTable =\n",
              "            await google.colab.kernel.invokeFunction('convertToInteractive',\n",
              "                                                     [key], {});\n",
              "          if (!dataTable) return;\n",
              "\n",
              "          const docLinkHtml = 'Like what you see? Visit the ' +\n",
              "            '<a target=\"_blank\" href=https://colab.research.google.com/notebooks/data_table.ipynb>data table notebook</a>'\n",
              "            + ' to learn more about interactive tables.';\n",
              "          element.innerHTML = '';\n",
              "          dataTable['output_type'] = 'display_data';\n",
              "          await google.colab.output.renderOutput(dataTable, element);\n",
              "          const docLink = document.createElement('div');\n",
              "          docLink.innerHTML = docLinkHtml;\n",
              "          element.appendChild(docLink);\n",
              "        }\n",
              "      </script>\n",
              "    </div>\n",
              "  </div>\n",
              "  "
            ]
          },
          "metadata": {},
          "execution_count": 14
        }
      ]
    },
    {
      "cell_type": "markdown",
      "source": [
        "* Cardiovascular diseases are the leading cause of death globally and it is clearly seen that the mean and maximum death is highest for it.\n",
        "\n",
        "* Neoplasms has encounterd the second highest number of deaths in the World.\n",
        "\n"
      ],
      "metadata": {
        "id": "YUSHfCYoaAdN"
      }
    },
    {
      "cell_type": "code",
      "source": [
        "country_chronic = df.groupby(\"Country/Territory\").sum()[\"Chronic Respiratory Diseases\"].sort_values(ascending=False)\n",
        "plt.figure(figsize=(10,6))\n",
        "sns.barplot(x=country_chronic[1:11].values,y=country_chronic[1:11].index,orient=\"h\")\n",
        "plt.xlabel(\"Total Deaths 1990-2019\")"
      ],
      "metadata": {
        "colab": {
          "base_uri": "https://localhost:8080/",
          "height": 405
        },
        "id": "-7_iz4dfgpZs",
        "outputId": "abae7105-5acf-4c29-9ec4-0757de41d10c"
      },
      "execution_count": null,
      "outputs": [
        {
          "output_type": "execute_result",
          "data": {
            "text/plain": [
              "Text(0.5, 0, 'Total Deaths 1990-2019')"
            ]
          },
          "metadata": {},
          "execution_count": 13
        },
        {
          "output_type": "display_data",
          "data": {
            "text/plain": [
              "<Figure size 720x432 with 1 Axes>"
            ],
            "image/png": "[encoded data removed]"
          },
          "metadata": {
            "needs_background": "light"
          }
        }
      ]
    },
    {
      "cell_type": "markdown",
      "source": [
        "**India has encountered highest number of deaths as far as Chronic respiratory diseases is concerned and very high when compared to any other nation**"
      ],
      "metadata": {
        "id": "7qMITTbuhJNn"
      }
    }
  ]
}